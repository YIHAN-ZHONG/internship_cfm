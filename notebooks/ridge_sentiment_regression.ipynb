{
 "cells": [
  {
   "cell_type": "code",
   "execution_count": 1,
   "metadata": {},
   "outputs": [
    {
     "name": "stderr",
     "output_type": "stream",
     "text": [
      "/home/yzhong/conda/envs/env_test/lib/python3.8/site-packages/tqdm/auto.py:22: TqdmWarning: IProgress not found. Please update jupyter and ipywidgets. See https://ipywidgets.readthedocs.io/en/stable/user_install.html\n",
      "  from .autonotebook import tqdm as notebook_tqdm\n",
      "/home/yzhong/conda/envs/env_test/lib/python3.8/site-packages/scipy/__init__.py:146: UserWarning: A NumPy version >=1.16.5 and <1.23.0 is required for this version of SciPy (detected version 1.24.2\n",
      "  warnings.warn(f\"A NumPy version >={np_minversion} and <{np_maxversion}\"\n"
     ]
    }
   ],
   "source": [
    "from laserembeddings import Laser\n",
    "import pandas as pd\n",
    "from sklearn.preprocessing import StandardScaler\n",
    "from sklearn.linear_model import Ridge\n",
    "from sklearn.model_selection import TimeSeriesSplit\n",
    "from sklearn.pipeline import Pipeline\n",
    "from sklearn.pipeline import make_pipeline\n",
    "from sklearn.metrics import mean_squared_error\n",
    "import numpy as np\n",
    "import matplotlib.pyplot as plt\n",
    "from sklearn.ensemble import RandomForestRegressor"
   ]
  },
  {
   "attachments": {},
   "cell_type": "markdown",
   "metadata": {},
   "source": [
    "## Prepare dataset"
   ]
  },
  {
   "cell_type": "code",
   "execution_count": 8,
   "metadata": {},
   "outputs": [],
   "source": [
    "def find_star (df):\n",
    "    return ( df['headline_org'].str.contains(r'^\\*[\\u4e00-\\u9fff0-9a-zA-Z].*'))\n",
    "def get_TF(x, info_list):\n",
    "    return any([True for i in info_list if i in str(x)])\n",
    "def find_words(df, col_name='body', my_words=None):\n",
    "    \n",
    "    if my_words is None:\n",
    "        my_words = ['原文标题','彭博自动新闻','原文標題']\n",
    "        return (df[col_name].apply(lambda x: get_TF(x, my_words)))  \n",
    "df_c=pd.read_parquet('/mnt/research-live/user/yzhong/bloomberg_news_chinese_trickers_translation.parquet')  \n",
    "df=pd.read_parquet('/mnt/research-live/user/yzhong/chinese_english_sentiment_bert_chinese.parquet')\n",
    "#df=df_sim.copy(deep=True)\n",
    "mask1=find_star(df_c)\n",
    "mask2=find_words(df_c)\n",
    "# df['contains_star']=mask1\n",
    "# df['contains_words']=mask2\n",
    "df_c['Only_Ch']= (~mask1) & (~mask2)\n",
    "df_merged = df.merge(df_c[['suid', 'Only_Ch']], on='suid', how='left')"
   ]
  },
  {
   "cell_type": "code",
   "execution_count": 10,
   "metadata": {},
   "outputs": [],
   "source": [
    "df_merged.to_parquet('/mnt/research-live/user/yzhong/chinese_english_sentiment_bert_chinese.parquet')"
   ]
  },
  {
   "cell_type": "code",
   "execution_count": 11,
   "metadata": {},
   "outputs": [],
   "source": [
    "df=pd.read_parquet('/mnt/research-live/user/yzhong/chinese_english_sentiment_bert_chinese.parquet')\n",
    "df = df.sort_values(by=['last_update'], ascending=True).reset_index(drop=True)"
   ]
  },
  {
   "cell_type": "code",
   "execution_count": 12,
   "metadata": {},
   "outputs": [
    {
     "data": {
      "text/plain": [
       "Index(['suid', 'last_update', 'language', 'analyst', 'date', 'headline',\n",
       "       'translation', 'tickers', 'match', 'match_cs_headline', 'match_cs_cos',\n",
       "       'match_cs_date', 'match_cs_suid', 'negative', 'positive', 'neutral',\n",
       "       'negative_zero', 'positive_zero', 'neutral_zero', 'negative_chinese',\n",
       "       'positive_chinese', 'sentiment_english_finbert',\n",
       "       'sentiment_english_zero', 'sentiment_chinese', 'eqt_codes', 'Only_Ch'],\n",
       "      dtype='object')"
      ]
     },
     "execution_count": 12,
     "metadata": {},
     "output_type": "execute_result"
    }
   ],
   "source": [
    "df.columns"
   ]
  },
  {
   "cell_type": "code",
   "execution_count": 13,
   "metadata": {},
   "outputs": [],
   "source": [
    "chinese_sentences=df.headline"
   ]
  },
  {
   "cell_type": "code",
   "execution_count": 14,
   "metadata": {},
   "outputs": [],
   "source": [
    "laser=Laser()\n",
    "chinese_emb=laser.embed_sentences(chinese_sentences,lang='zh')"
   ]
  },
  {
   "cell_type": "code",
   "execution_count": 15,
   "metadata": {},
   "outputs": [],
   "source": [
    "np.save('/mnt/research-live/user/yzhong/chinese_embedding.npy', chinese_emb)"
   ]
  },
  {
   "attachments": {},
   "cell_type": "markdown",
   "metadata": {},
   "source": [
    "## Ridge regression"
   ]
  },
  {
   "attachments": {},
   "cell_type": "markdown",
   "metadata": {},
   "source": [
    "Input data feature"
   ]
  },
  {
   "cell_type": "code",
   "execution_count": 16,
   "metadata": {},
   "outputs": [],
   "source": [
    "# Load the embedding data from your dataframe into X\n",
    "X = chinese_emb\n",
    "\n",
    "# Load the multioutput data from your dataframe into y\n",
    "y = np.array(df[['positive', 'negative', 'neutral']])"
   ]
  },
  {
   "attachments": {},
   "cell_type": "markdown",
   "metadata": {},
   "source": [
    "Time-based cross-validation"
   ]
  },
  {
   "cell_type": "code",
   "execution_count": 17,
   "metadata": {},
   "outputs": [],
   "source": [
    "ts_cv = TimeSeriesSplit(\n",
    "    n_splits=5,\n",
    "    gap=48,\n",
    "    max_train_size=10000000,\n",
    "    test_size=10000,\n",
    ")"
   ]
  },
  {
   "attachments": {},
   "cell_type": "markdown",
   "metadata": {},
   "source": [
    "make pipeline"
   ]
  },
  {
   "cell_type": "code",
   "execution_count": 18,
   "metadata": {},
   "outputs": [],
   "source": [
    "# Define your pipeline\n",
    "pipeline = Pipeline([\n",
    "    ('scaler', StandardScaler()),\n",
    "    ('regressor', Ridge(alpha=1e-4))\n",
    "])"
   ]
  },
  {
   "attachments": {},
   "cell_type": "markdown",
   "metadata": {},
   "source": [
    "Train model"
   ]
  },
  {
   "cell_type": "code",
   "execution_count": 75,
   "metadata": {},
   "outputs": [],
   "source": [
    "# Define the number of splits for the time series cross-validation\n",
    "n_splits = 5\n",
    "# Create a TimeSeriesSplit object with n_splits\n",
    "tscv = TimeSeriesSplit(n_splits=n_splits)\n",
    "# Define empty lists to store the training and testing MSE for each output variable\n",
    "#train_mse_neg,train_mse_pos,train_mse_neu,test_mse_neg,test_mse_pos,test_mse_neu = [], [], [], [], [], []\n",
    "# Define empty arrays to store the predicted values and actual values\n",
    "y_train_pred = np.empty_like(df.loc[:, ['negative', 'positive', 'neutral']])\n",
    "y_test_pred = np.empty_like(df.loc[:, ['negative', 'positive', 'neutral']])\n",
    "y_train_actual = np.empty_like(df.loc[:, ['negative', 'positive', 'neutral']])\n",
    "y_test_actual = np.empty_like(df.loc[:, ['negative', 'positive', 'neutral']])\n",
    "# Define the batch size\n",
    "batch_size = 256\n",
    "# Define the number of epochs\n",
    "n_epochs = 2\n",
    "# Define the model\n",
    "regressor = Ridge(alpha=1e-4,fit_intercept=True)\n",
    "# Define the scaler\n",
    "scaler = StandardScaler()\n",
    "# Define the pipeline\n",
    "pipeline = Pipeline(steps=[('scaler', scaler), ('regressor', regressor)])\n",
    "# Perform time series cross-validation with training, testing and loss calculation in each epoch"
   ]
  },
  {
   "attachments": {},
   "cell_type": "markdown",
   "metadata": {},
   "source": [
    "Evaluate the model"
   ]
  },
  {
   "cell_type": "code",
   "execution_count": 95,
   "metadata": {},
   "outputs": [],
   "source": [
    "import matplotlib.pyplot as plt\n",
    "\n",
    "# Define a list of alpha values to test\n",
    "#alphas = [1e-4, 1e-3, 1e-2, 1e-1, 1]\n",
    "#alphas = [1e-4, 1,100,1e4,1e6]\n",
    "alphas = [1e8,1e10,1e12,1e14]\n",
    "\n",
    "# Define empty lists to store the mean test MSE for each alpha\n",
    "# train_mse_neg_mean = []\n",
    "# train_mse_pos_mean = []\n",
    "# train_mse_neu_mean = []\n",
    "\n",
    "# test_mse_neg_mean = []\n",
    "# test_mse_pos_mean = []\n",
    "# test_mse_neu_mean = []\n",
    "\n",
    "\n",
    "# Perform time series cross-validation for each alpha value\n",
    "for alpha in alphas:\n",
    "    # Define the pipeline with the current alpha value\n",
    "    pipeline = Pipeline([\n",
    "        ('scaler', StandardScaler()),\n",
    "        ('ridge', Ridge(alpha=alpha,fit_intercept=True))\n",
    "    ])\n",
    "    # Define empty lists to store the test MSE for each fold\n",
    "    train_mse_neg = []\n",
    "    train_mse_pos = []\n",
    "    train_mse_neu = []\n",
    "    test_mse_neg = []\n",
    "    test_mse_pos = []\n",
    "    test_mse_neu = []\n",
    "\n",
    "    # Define empty arrays to store the predicted values and actual values\n",
    "    y_train_pred = np.empty_like(df.loc[:, ['negative', 'positive', 'neutral']])\n",
    "    y_test_pred = np.empty_like(df.loc[:, ['negative', 'positive', 'neutral']])\n",
    "    y_train_actual = np.empty_like(df.loc[:, ['negative', 'positive', 'neutral']])\n",
    "    y_test_actual = np.empty_like(df.loc[:, ['negative', 'positive', 'neutral']])\n",
    "\n",
    "    # Perform time series cross-validation\n",
    "    for i, (train_index, test_index) in enumerate(ts_cv.split(df)):\n",
    "        # Split the data into training and test sets\n",
    "        X_train, X_test = chinese_emb[train_index], chinese_emb[test_index]\n",
    "        y_train, y_test = df.loc[train_index, ['negative', 'positive', 'neutral']], df.loc[test_index, ['negative', 'positive', 'neutral']]\n",
    "        # Fit the pipeline to the training data\n",
    "        pipeline.fit(X_train, y_train)\n",
    "\n",
    "        # Evaluate the pipeline on the training data\n",
    "        y_train_pred[train_index] = pipeline.predict(X_train)\n",
    "        y_train_actual[train_index] = y_train\n",
    "        train_mse_neg.append(mean_squared_error(y_train['negative'], y_train_pred[train_index][:,0]))\n",
    "        train_mse_pos.append(mean_squared_error(y_train['positive'], y_train_pred[train_index][:,1]))\n",
    "        train_mse_neu.append(mean_squared_error(y_train['neutral'], y_train_pred[train_index][:,2]))\n",
    "\n",
    "\n",
    "\n",
    "        # Evaluate the pipeline on the test data\n",
    "        y_test_pred[test_index] = pipeline.predict(X_test)\n",
    "        y_test_actual[test_index] = y_test\n",
    "        test_mse_neg.append(mean_squared_error(y_test['negative'], y_test_pred[test_index][:,0]))\n",
    "        test_mse_pos.append(mean_squared_error(y_test['positive'], y_test_pred[test_index][:,1]))\n",
    "        test_mse_neu.append(mean_squared_error(y_test['neutral'], y_test_pred[test_index][:,2]))\n",
    "    # Calculate the mean test MSE for each output variable\n",
    "    test_mse_neg_mean.append(np.mean(test_mse_neg))\n",
    "    test_mse_pos_mean.append(np.mean(test_mse_pos))\n",
    "    test_mse_neu_mean.append(np.mean(test_mse_neu))\n",
    "    # Calculate the mean train MSE for each output variable\n",
    "    train_mse_neg_mean.append(np.mean(train_mse_neg))\n",
    "    train_mse_pos_mean.append(np.mean(train_mse_pos))\n",
    "    train_mse_neu_mean.append(np.mean(train_mse_neu))\n",
    "\n",
    "# Plot the results\n",
    "# plt.plot(alphas, test_mse_neg_mean, label='Negative')\n",
    "# plt.plot(alphas, test_mse_pos_mean, label='Positive')\n",
    "# plt.plot(alphas, test_mse_neu_mean, label='Neutral')\n",
    "# plt.plot(alphas, train_mse_neg_mean, label='Negative')\n",
    "# plt.plot(alphas, train_mse_pos_mean, label='Positive')\n",
    "# plt.plot(alphas, train_mse_neu_mean, label='Neutral')\n",
    "# plt.xscale('log')\n",
    "# plt.xlabel('Alpha')\n",
    "# plt.ylabel('Mean Test MSE')\n",
    "# plt.legend()\n",
    "# plt.show()"
   ]
  },
  {
   "cell_type": "code",
   "execution_count": 93,
   "metadata": {},
   "outputs": [
    {
     "data": {
      "image/png": "[encoded data removed]",
      "text/plain": [
       "<Figure size 432x288 with 1 Axes>"
      ]
     },
     "metadata": {
      "needs_background": "light"
     },
     "output_type": "display_data"
    }
   ],
   "source": [
    "# Plot the results\n",
    "plt.plot(alphas, test_mse_neg_mean, label='Negative_test')\n",
    "plt.plot(alphas, test_mse_pos_mean, label='Positive_test')\n",
    "plt.plot(alphas, test_mse_neu_mean, label='Neutral_test')\n",
    "plt.plot(alphas, train_mse_neg_mean, label='Negative_train')\n",
    "plt.plot(alphas, train_mse_pos_mean, label='Positive_train')\n",
    "plt.plot(alphas, train_mse_neu_mean, label='Neutral_train')\n",
    "plt.xscale('log')\n",
    "plt.xlabel('Alpha')\n",
    "plt.ylabel('Mean Test MSE')\n",
    "plt.legend()\n",
    "plt.show()"
   ]
  },
  {
   "cell_type": "code",
   "execution_count": 2,
   "metadata": {},
   "outputs": [],
   "source": [
    "chinese_emb = np.load('/mnt/research-live/user/yzhong/my_array.npy')"
   ]
  },
  {
   "cell_type": "code",
   "execution_count": 19,
   "metadata": {},
   "outputs": [
    {
     "name": "stdout",
     "output_type": "stream",
     "text": [
      "Negative MSE: 0.04\n",
      "Positive MSE: 0.03\n",
      "Neutral MSE: 0.02\n"
     ]
    }
   ],
   "source": [
    "\n",
    "\n",
    "# Define the number of splits for the time series cross-validation\n",
    "n_splits = 5\n",
    "\n",
    "# Create a TimeSeriesSplit object with n_splits\n",
    "tscv = TimeSeriesSplit(n_splits=n_splits)\n",
    "\n",
    "# Define your pipeline\n",
    "pipeline = Pipeline([\n",
    "    ('scaler', StandardScaler()),\n",
    "    ('regressor', Ridge(alpha=1e-4))\n",
    "])\n",
    "\n",
    "# Define empty lists to store the MSE for each output variable\n",
    "mse_neg = []\n",
    "mse_pos = []\n",
    "mse_neu = []\n",
    "\n",
    "# Perform time series cross-validation\n",
    "for train_index, test_index in tscv.split(df):\n",
    "    # Split the data into training and test sets\n",
    "    X_train, X_test = chinese_emb[train_index], chinese_emb[test_index]\n",
    "    y_train, y_test = df.loc[train_index, ['positive', 'negative', 'neutral']], df.loc[test_index, ['positive', 'negative', 'neutral']]\n",
    "    \n",
    "    # Fit the pipeline to the training data\n",
    "    pipeline.fit(X_train, y_train)\n",
    "    \n",
    "    # Evaluate the pipeline on the test data\n",
    "    y_pred = pipeline.predict(X_test)\n",
    "    \n",
    "    # Calculate the MSE for each output variable and store the results\n",
    "    mse_neg.append(mean_squared_error(y_test['negative'], y_pred[:,0]))\n",
    "    mse_pos.append(mean_squared_error(y_test['positive'], y_pred[:,1]))\n",
    "    mse_neu.append(mean_squared_error(y_test['neutral'], y_pred[:,2]))\n",
    "\n",
    "# Calculate the mean MSE for each output variable over all cross-validation folds\n",
    "mean_mse_neg = np.mean(mse_neg)\n",
    "mean_mse_pos = np.mean(mse_pos)\n",
    "mean_mse_neu = np.mean(mse_neu)\n",
    "\n",
    "# Print the mean MSE for each output variable\n",
    "print('Negative MSE: {:.2f}'.format(mean_mse_neg))\n",
    "print('Positive MSE: {:.2f}'.format(mean_mse_pos))\n",
    "print('Neutral MSE: {:.2f}'.format(mean_mse_neu))"
   ]
  },
  {
   "cell_type": "code",
   "execution_count": 71,
   "metadata": {},
   "outputs": [
    {
     "name": "stdout",
     "output_type": "stream",
     "text": [
      "Correlation coefficient for negative column: 0.7085035948966508\n"
     ]
    }
   ],
   "source": [
    "y_pred_neg =y_pred[:, 0]\n",
    "# Get the actual values for the negative column\n",
    "y_true_neg = df['negative'].values\n",
    "# Calculate the correlation coefficient\n",
    "corr_coef_neg = np.corrcoef(y_pred_neg, y_true_neg)[0, 1]\n",
    "# Print the correlation coefficient\n",
    "print('Correlation coefficient for negative column:', corr_coef_neg)"
   ]
  },
  {
   "cell_type": "code",
   "execution_count": null,
   "metadata": {},
   "outputs": [],
   "source": [
    "\n",
    "# Get the predicted values for the negative column\n",
    "y_pred_neg = pipeline.predict(chinese_emb)[:, 0]\n",
    "\n",
    "# Get the actual values for the negative column\n",
    "y_true_neg = df['negative'].values\n",
    "\n",
    "# Calculate the correlation coefficient\n",
    "corr_coef_neg = np.corrcoef(y_pred_neg, y_true_neg)[0, 1]\n",
    "\n",
    "# Print the correlation coefficient\n",
    "print('Correlation coefficient for negative column:', corr_coef_neg)\n"
   ]
  },
  {
   "cell_type": "code",
   "execution_count": 72,
   "metadata": {},
   "outputs": [
    {
     "name": "stdout",
     "output_type": "stream",
     "text": [
      "Output column: negative\n",
      "MSE: 0.02\n",
      "Correlation: 0.71\n",
      "MAE: 0.09\n",
      "R-squared: 0.50\n",
      "\n",
      "Output column: positive\n",
      "MSE: 0.00\n",
      "Correlation: 0.63\n",
      "MAE: 0.03\n",
      "R-squared: 0.39\n",
      "\n",
      "Output column: neutral\n",
      "MSE: 0.02\n",
      "Correlation: 0.71\n",
      "MAE: 0.09\n",
      "R-squared: 0.51\n",
      "\n"
     ]
    }
   ],
   "source": [
    "for i, col in enumerate (['negative', 'positive', 'neutral']):\n",
    "    mse=mean_squared_error(df[col], y_pred[:,i])\n",
    "    mae=mean_absolute_error(df[col], y_pred[:,i])\n",
    "    corr_coef = np.corrcoef( y_pred[:,i], df[col].values)[0, 1]\n",
    "    r2 = r2_score(df[col], y_pred[:,i])\n",
    "    print('Output column: {}'.format(col))\n",
    "    print('MSE: {:.2f}'.format(mse))\n",
    "    print('Correlation: {:.2f}'.format(corr_coef))\n",
    "    print('MAE: {:.2f}'.format(mae))\n",
    "    print('R-squared: {:.2f}'.format(r2))\n",
    "    print()\n"
   ]
  },
  {
   "cell_type": "code",
   "execution_count": 58,
   "metadata": {},
   "outputs": [
    {
     "name": "stdout",
     "output_type": "stream",
     "text": [
      "MSE: 0.01\n",
      "RMSE: 0.11\n",
      "MAE: 0.07\n",
      "R-squared: 0.47\n"
     ]
    }
   ],
   "source": [
    "from sklearn.metrics import mean_squared_error, mean_absolute_error, r2_score\n",
    "\n",
    "# Predict the output values for the entire dataset\n",
    "y_pred = pipeline.predict(chinese_emb)\n",
    "\n",
    "# Calculate the evaluation metrics\n",
    "mse = mean_squared_error(df[['negative', 'positive', 'neutral']], y_pred)\n",
    "rmse = np.sqrt(mse)\n",
    "mae = mean_absolute_error(df[['negative', 'positive', 'neutral']], y_pred)\n",
    "r2 = r2_score(df[['negative', 'positive', 'neutral']], y_pred)\n",
    "\n",
    "# Print the evaluation metrics\n",
    "print('MSE: {:.2f}'.format(mse))\n",
    "print('RMSE: {:.2f}'.format(rmse))\n",
    "print('MAE: {:.2f}'.format(mae))\n",
    "print('R-squared: {:.2f}'.format(r2))"
   ]
  },
  {
   "cell_type": "code",
   "execution_count": 20,
   "metadata": {},
   "outputs": [
    {
     "data": {
      "text/plain": [
       "['/mnt/research-live/user/yzhong/ridge_finbert_chinese.joblib']"
      ]
     },
     "execution_count": 20,
     "metadata": {},
     "output_type": "execute_result"
    }
   ],
   "source": [
    "from joblib import dump\n",
    "\n",
    "# Save the trained pipeline to disk\n",
    "dump(pipeline, '/mnt/research-live/user/yzhong/ridge_finbert_chinese.joblib')"
   ]
  },
  {
   "cell_type": "code",
   "execution_count": null,
   "metadata": {},
   "outputs": [],
   "source": [
    "from joblib import load\n",
    "\n",
    "# Load the saved pipeline from disk\n",
    "loaded_pipeline = load('your_trained_model.joblib')"
   ]
  },
  {
   "cell_type": "code",
   "execution_count": null,
   "metadata": {},
   "outputs": [],
   "source": [
    "from joblib import load\n",
    "\n",
    "# Load the saved pipeline from disk\n",
    "loaded_pipeline = load('your_trained_model.joblib')\n",
    "\n",
    "predictions = loaded_pipeline.predict(new_data)\n",
    "print(predictions)"
   ]
  },
  {
   "cell_type": "code",
   "execution_count": 47,
   "metadata": {},
   "outputs": [],
   "source": [
    "# Load the saved Ridge model using joblib\n",
    "ridge = joblib.load('ridge_model.pkl')"
   ]
  },
  {
   "cell_type": "code",
   "execution_count": 12,
   "metadata": {},
   "outputs": [
    {
     "data": {
      "text/plain": [
       "(674324, 1024)"
      ]
     },
     "execution_count": 12,
     "metadata": {},
     "output_type": "execute_result"
    }
   ],
   "source": [
    "chinese_emb.shape"
   ]
  },
  {
   "cell_type": "code",
   "execution_count": null,
   "metadata": {},
   "outputs": [],
   "source": []
  },
  {
   "cell_type": "code",
   "execution_count": 6,
   "metadata": {},
   "outputs": [],
   "source": [
    "df['laser_embedding']=chinese_emb.tolist()"
   ]
  },
  {
   "cell_type": "code",
   "execution_count": 49,
   "metadata": {},
   "outputs": [],
   "source": [
    "df = df.sort_values(by=['last_update'], ascending=True).reset_index(drop=True)"
   ]
  },
  {
   "cell_type": "code",
   "execution_count": 30,
   "metadata": {},
   "outputs": [],
   "source": [
    "del df['index']"
   ]
  },
  {
   "attachments": {},
   "cell_type": "markdown",
   "metadata": {},
   "source": [
    "## Random forest regression"
   ]
  },
  {
   "cell_type": "code",
   "execution_count": 3,
   "metadata": {},
   "outputs": [],
   "source": [
    "chinese_emb = np.load('/mnt/research-live/user/yzhong/my_array.npy')"
   ]
  },
  {
   "cell_type": "code",
   "execution_count": 4,
   "metadata": {},
   "outputs": [],
   "source": [
    "# Perform time series cross-validation \n",
    "ts_cv = TimeSeriesSplit(\n",
    "    n_splits=5,\n",
    "    gap=48,\n",
    "    max_train_size=10000000,\n",
    "    test_size=10000,\n",
    ")\n",
    "# Define the pipeline with the current alpha value\n",
    "pipeline = Pipeline([\n",
    "    ('scaler', StandardScaler()),\n",
    "    ('randomforest', RandomForestRegressor(n_estimators=100, random_state=42))\n",
    "])\n",
    "\n",
    "# Define empty lists to store the test MSE for each fold\n",
    "train_mse_neg = []\n",
    "train_mse_pos = []\n",
    "train_mse_neu = []\n",
    "test_mse_neg = []\n",
    "test_mse_pos = []\n",
    "test_mse_neu = []\n",
    "\n",
    "# Define empty arrays to store the predicted values and actual values\n",
    "y_train_pred = np.empty_like(df.loc[:, ['negative', 'positive', 'neutral']])\n",
    "y_test_pred = np.empty_like(df.loc[:, ['negative', 'positive', 'neutral']])\n",
    "y_train_actual = np.empty_like(df.loc[:, ['negative', 'positive', 'neutral']])\n",
    "y_test_actual = np.empty_like(df.loc[:, ['negative', 'positive', 'neutral']])\n",
    "\n",
    "# Perform time series cross-validation\n",
    "for i, (train_index, test_index) in enumerate(ts_cv.split(df)):\n",
    "    # Split the data into training and test sets\n",
    "    X_train, X_test = chinese_emb[train_index], chinese_emb[test_index]\n",
    "    y_train, y_test = df.loc[train_index, ['negative', 'positive', 'neutral']], df.loc[test_index, ['negative', 'positive', 'neutral']]\n",
    "    # Fit the pipeline to the training data\n",
    "    pipeline.fit(X_train, y_train)\n",
    "\n",
    "    # Evaluate the pipeline on the training data\n",
    "    y_train_pred[train_index] = pipeline.predict(X_train)\n",
    "    y_train_actual[train_index] = y_train\n",
    "    train_mse_neg.append(mean_squared_error(y_train['negative'], y_train_pred[train_index][:,0]))\n",
    "    train_mse_pos.append(mean_squared_error(y_train['positive'], y_train_pred[train_index][:,1]))\n",
    "    train_mse_neu.append(mean_squared_error(y_train['neutral'], y_train_pred[train_index][:,2]))\n",
    "    # Evaluate the pipeline on the test data\n",
    "    y_test_pred[test_index] = pipeline.predict(X_test)\n",
    "    y_test_actual[test_index] = y_test\n",
    "    test_mse_neg.append(mean_squared_error(y_test['negative'], y_test_pred[test_index][:,0]))\n",
    "    test_mse_pos.append(mean_squared_error(y_test['positive'], y_test_pred[test_index][:,1]))\n",
    "    test_mse_neu.append(mean_squared_error(y_test['neutral'], y_test_pred[test_index][:,2]))\n"
   ]
  },
  {
   "cell_type": "code",
   "execution_count": null,
   "metadata": {},
   "outputs": [],
   "source": [
    "# Calculate the mean MSE for each output variable over all cross-validation folds\n",
    "mean_train_mse_neg = np.mean(train_mse_neg)\n",
    "mean_train_mse_pos = np.mean(train_mse_pos)\n",
    "mean_train_mse_neu = np.mean(train_mse_neu)\n",
    "\n",
    "mean_test_mse_neg = np.mean(test_mse_neg)\n",
    "mean_test_mse_pos = np.mean(test_mse_pos)\n",
    "mean_test_mse_neu = np.mean(test_mse_neu)\n",
    "\n",
    "\n",
    "# Print the mean MSE for each output variable\n",
    "print('Train Negative MSE: {:.2f}'.format(mean_train_mse_neg))\n",
    "print('Train Positive MSE: {:.2f}'.format(mean_train_mse_pos))\n",
    "print('Train Neutral MSE: {:.2f}'.format(mean_train_mse_neu))\n",
    "\n",
    "# Print the mean MSE for each output variable\n",
    "print('Test Negative MSE: {:.2f}'.format(mean_test_mse_neg))\n",
    "print('Test Positive MSE: {:.2f}'.format(mean_test_mse_pos))\n",
    "print('Test Neutral MSE: {:.2f}'.format(mean_test_mse_neu))"
   ]
  },
  {
   "cell_type": "code",
   "execution_count": null,
   "metadata": {},
   "outputs": [],
   "source": []
  }
 ],
 "metadata": {
  "kernelspec": {
   "display_name": "env_test",
   "language": "python",
   "name": "env_test"
  },
  "language_info": {
   "codemirror_mode": {
    "name": "ipython",
    "version": 3
   },
   "file_extension": ".py",
   "mimetype": "text/x-python",
   "name": "python",
   "nbconvert_exporter": "python",
   "pygments_lexer": "ipython3",
   "version": "3.8.11"
  },
  "orig_nbformat": 4
 },
 "nbformat": 4,
 "nbformat_minor": 2
}
