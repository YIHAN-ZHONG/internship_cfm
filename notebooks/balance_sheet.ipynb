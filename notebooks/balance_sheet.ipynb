{
 "cells": [
  {
   "cell_type": "markdown",
   "metadata": {},
   "source": [
    "---\n",
    "title: Balance sheet filter\n",
    "space: INTFEL\n",
    "parent: Yihan ZHONG\n",
    "comment: Filtering the balance sheet news from the whole dataset, as these financial results lack relevance and do not contribute to the overall sentiment evaluation\n",
    "---"
   ]
  },
  {
   "cell_type": "code",
   "execution_count": 1,
   "metadata": {},
   "outputs": [],
   "source": [
    "%load_ext autoreload\n",
    "%autoreload 2\n",
    "%matplotlib inline"
   ]
  },
  {
   "cell_type": "code",
   "execution_count": 4,
   "metadata": {},
   "outputs": [
    {
     "name": "stderr",
     "output_type": "stream",
     "text": [
      "/home/yzhong/conda/envs/yihan_gpu/lib/python3.8/site-packages/scipy/__init__.py:146: UserWarning: A NumPy version >=1.16.5 and <1.23.0 is required for this version of SciPy (detected version 1.24.3\n",
      "  warnings.warn(f\"A NumPy version >={np_minversion} and <{np_maxversion}\"\n"
     ]
    }
   ],
   "source": [
    "import pandas as pd\n",
    "from pathlib import Path\n",
    "import pandas as pd \n",
    "import numpy as np \n",
    "import re\n",
    "import seaborn as sns\n",
    "import matplotlib.pyplot as plt"
   ]
  },
  {
   "cell_type": "markdown",
   "metadata": {},
   "source": [
    "# 0. Data loading"
   ]
  },
  {
   "cell_type": "code",
   "execution_count": 6,
   "metadata": {},
   "outputs": [],
   "source": [
    "path = Path('/mnt/research-live/equity/reference/equity_data/sa_research/current/')\n",
    "ead_ = pd.read_parquet(path /'CFM_AMER/equity_data/eqt_earning_announcement_dates.parquet') # date for earnings\n",
    "news_company=pd.read_parquet('/mnt/research-live/user/yzhong/bloomberg_news_english_single_stock.parquet') # all single stock news"
   ]
  },
  {
   "cell_type": "markdown",
   "metadata": {},
   "source": [
    "Creat dataframe that only contains news on earning days"
   ]
  },
  {
   "cell_type": "code",
   "execution_count": 7,
   "metadata": {},
   "outputs": [],
   "source": [
    "news_company['date']=pd.to_datetime(news_company['date'])\n",
    "#filtered_df contains news articles specifically associated with earning days\n",
    "filtered_df = news_company.merge(ead_, left_on=['eqt_code', 'date'], right_on=['eqt_code', 'earning_date'], how='inner')"
   ]
  },
  {
   "cell_type": "markdown",
   "metadata": {},
   "source": [
    "# 1. Regex expression for filtering balance sheet"
   ]
  },
  {
   "cell_type": "markdown",
   "metadata": {},
   "source": [
    "## A. Observation"
   ]
  },
  {
   "cell_type": "markdown",
   "metadata": {},
   "source": [
    "The key words was found by \n",
    "1. manual observation\n",
    "2. Word counts"
   ]
  },
  {
   "cell_type": "code",
   "execution_count": null,
   "metadata": {},
   "outputs": [],
   "source": [
    "import nltk\n",
    "import wordcloud\n",
    "from collections import Counter\n",
    "def top_common_words(earning_no_capital,col,most_common):\n",
    "    \n",
    "    '''\n",
    "    Function for getting the most common key words in the headline\n",
    "    Arguments: \n",
    "    earning_no_capital: dataframe\n",
    "    col: 'headline' or 'body'\n",
    "    most_common: int --> number of the top most key words that you want to print\n",
    "    \n",
    "    Return:\n",
    "    A list of tuples contains key words and its frequency\n",
    "    \n",
    "    '''\n",
    "    # Get the stop words\n",
    "    stopwords = set(wordcloud.STOPWORDS)\n",
    "    # Create a list to store the words\n",
    "    words = []\n",
    "    if col=='body':\n",
    "        df=earning_no_capital[~earning_no_capital['body'].apply(is_blank_string)]['body']\n",
    "    if col=='headline':\n",
    "        df=earning_no_capital['headline'].dropna()\n",
    "\n",
    "    for text in df:\n",
    "        tokens = nltk.word_tokenize(text.lower())\n",
    "        # Filter out stop words and non-alphabetic words\n",
    "        words += [word for word in tokens if word.isalpha() and word not in stopwords]\n",
    "\n",
    "    # Count the frequency of words\n",
    "    word_counts = Counter(words)\n",
    "\n",
    "    # Get the top 10 most frequent words\n",
    "    top_words = word_counts.most_common(most_common)\n",
    "\n",
    "    # Print the top 10 words and their frequencies\n",
    "    for word, count in top_words:\n",
    "        print(f\"{word}: {count}\")\n",
    "        \n",
    "    return top_words"
   ]
  },
  {
   "cell_type": "markdown",
   "metadata": {},
   "source": [
    "## B. Patterns"
   ]
  },
  {
   "cell_type": "markdown",
   "metadata": {},
   "source": [
    "The patterns are: \n",
    "1. Headline that contains key words and digits\n",
    "2. Headline that has no other digits surrounded by Q rather than 1, 2, 3, 4\n",
    "3. Headline that only contains digits from year 1999-9999"
   ]
  },
  {
   "cell_type": "code",
   "execution_count": 9,
   "metadata": {},
   "outputs": [],
   "source": [
    "def filter_balance_sheet(df, col='headline'):\n",
    "    \n",
    "    # Define the key words for filtering balance sheet news\n",
    "    pattern = r\"(?=.*?\\b(?:CAPEX|CAPITAL|EPS|NET|INCOME|REV|INC|LOSS|BILLINGS|ADJ|SALES|EQUITY|ENTITLEMENT|COSTS|REVENUE|ADJUSTED|PROFIT|EST|EARNINGS|INCOME|CASH|EPA)\\b)\"\n",
    "\n",
    "    # Apply filter conditions and add flag column\n",
    "    df['balance_sheet'] = (\n",
    "        df[col].apply(lambda headline: bool(re.search(pattern, headline))) # Check if headline contains the key words,(True if there is a match, False otherwise).\n",
    "        #excluded headlines that contains only 1Q, 2Q, 3Q, 4Q but no other digits number surrended by Q \n",
    "        & ~df[col].apply(lambda headline: bool(re.match(r\"^\\D*\\b\\dQ\\b\\D*$\", headline)))\n",
    "        # exclude headlines that only contains year and no other digits number surronded  year range (1999-9999)\n",
    "        & ~df[col].apply(lambda headline: bool(re.match(r\"^\\D*(?:(19|[2-9][0-9])\\d{2})\\D*$\", headline)))\n",
    "        #make sure that the sentence contains digit\n",
    "        & df[col].str.contains(r'\\d') \n",
    "    ).astype(int)\n",
    "\n",
    "    return df"
   ]
  },
  {
   "cell_type": "markdown",
   "metadata": {},
   "source": [
    "## C. Results"
   ]
  },
  {
   "cell_type": "markdown",
   "metadata": {},
   "source": [
    "### Results on earning days"
   ]
  },
  {
   "cell_type": "code",
   "execution_count": 10,
   "metadata": {},
   "outputs": [],
   "source": [
    "df=filter_balance_sheet(filtered_df, col='headline')"
   ]
  },
  {
   "cell_type": "code",
   "execution_count": 21,
   "metadata": {},
   "outputs": [
    {
     "data": {
      "text/html": [
       "<div>\n",
       "<style scoped>\n",
       "    .dataframe tbody tr th:only-of-type {\n",
       "        vertical-align: middle;\n",
       "    }\n",
       "\n",
       "    .dataframe tbody tr th {\n",
       "        vertical-align: top;\n",
       "    }\n",
       "\n",
       "    .dataframe thead th {\n",
       "        text-align: right;\n",
       "    }\n",
       "</style>\n",
       "<table border=\"1\" class=\"dataframe\">\n",
       "  <thead>\n",
       "    <tr style=\"text-align: right;\">\n",
       "      <th></th>\n",
       "      <th>suid</th>\n",
       "      <th>last_update</th>\n",
       "      <th>eqt_code</th>\n",
       "      <th>analyst</th>\n",
       "      <th>date</th>\n",
       "      <th>daclose</th>\n",
       "      <th>headline</th>\n",
       "      <th>body</th>\n",
       "      <th>earning_date</th>\n",
       "      <th>balance_sheet</th>\n",
       "    </tr>\n",
       "  </thead>\n",
       "  <tbody>\n",
       "    <tr>\n",
       "      <th>0</th>\n",
       "      <td>K9QU086JIJUO</td>\n",
       "      <td>2008-11-03 06:00:08.530</td>\n",
       "      <td>TRL_UN</td>\n",
       "      <td>False</td>\n",
       "      <td>2008-11-03</td>\n",
       "      <td>2008-11-03</td>\n",
       "      <td>DAVITA 3Q EPS 89C.</td>\n",
       "      <td>PR Newswire: U.S. press release is accessible ...</td>\n",
       "      <td>2008-11-03</td>\n",
       "      <td>1</td>\n",
       "    </tr>\n",
       "    <tr>\n",
       "      <th>1</th>\n",
       "      <td>K9QU3P0D9L4G</td>\n",
       "      <td>2008-11-03 06:02:13.890</td>\n",
       "      <td>TRL_UN</td>\n",
       "      <td>False</td>\n",
       "      <td>2008-11-03</td>\n",
       "      <td>2008-11-03</td>\n",
       "      <td>DAVITA 3Q NET $93.9 MLN.</td>\n",
       "      <td>PR Newswire: U.S. press release is accessible ...</td>\n",
       "      <td>2008-11-03</td>\n",
       "      <td>1</td>\n",
       "    </tr>\n",
       "    <tr>\n",
       "      <th>2</th>\n",
       "      <td>K9QU4U0D9L3Q</td>\n",
       "      <td>2008-11-03 06:02:54.570</td>\n",
       "      <td>TRL_UN</td>\n",
       "      <td>False</td>\n",
       "      <td>2008-11-03</td>\n",
       "      <td>2008-11-03</td>\n",
       "      <td>DAVITA SEES 2008 OP. PROFIT NEAR MIDDLE OF PRE...</td>\n",
       "      <td>PR Newswire: U.S. press release is accessible ...</td>\n",
       "      <td>2008-11-03</td>\n",
       "      <td>0</td>\n",
       "    </tr>\n",
       "    <tr>\n",
       "      <th>3</th>\n",
       "      <td>K9QV121A1I4I</td>\n",
       "      <td>2008-11-03 06:22:14.950</td>\n",
       "      <td>TRL_UN</td>\n",
       "      <td>False</td>\n",
       "      <td>2008-11-03</td>\n",
       "      <td>2008-11-03</td>\n",
       "      <td>DaVita Profit Falls After One-Time Gains in Qu...</td>\n",
       "      <td>DaVita Inc., the second-largest U.S.operator o...</td>\n",
       "      <td>2008-11-03</td>\n",
       "      <td>0</td>\n",
       "    </tr>\n",
       "    <tr>\n",
       "      <th>4</th>\n",
       "      <td>K9RQLO1A74E9</td>\n",
       "      <td>2008-11-03 17:44:12.690</td>\n",
       "      <td>TRL_UN</td>\n",
       "      <td>False</td>\n",
       "      <td>2008-11-03</td>\n",
       "      <td>2008-11-03</td>\n",
       "      <td>DaVita Profit Falls After One-Time Gain Year E...</td>\n",
       "      <td>Adds analysts' estimates in the second paragra...</td>\n",
       "      <td>2008-11-03</td>\n",
       "      <td>0</td>\n",
       "    </tr>\n",
       "    <tr>\n",
       "      <th>...</th>\n",
       "      <td>...</td>\n",
       "      <td>...</td>\n",
       "      <td>...</td>\n",
       "      <td>...</td>\n",
       "      <td>...</td>\n",
       "      <td>...</td>\n",
       "      <td>...</td>\n",
       "      <td>...</td>\n",
       "      <td>...</td>\n",
       "      <td>...</td>\n",
       "    </tr>\n",
       "    <tr>\n",
       "      <th>725420</th>\n",
       "      <td>RU5LRT6RV5E3</td>\n",
       "      <td>2023-05-04 21:45:29.952</td>\n",
       "      <td>BRPR3_BS</td>\n",
       "      <td>False</td>\n",
       "      <td>2023-05-04</td>\n",
       "      <td>2023-05-04</td>\n",
       "      <td>BR PROPERTIES 1Q ADJ. EBITDA R$13.1M, -76% Y/Y.</td>\n",
       "      <td></td>\n",
       "      <td>2023-05-04</td>\n",
       "      <td>1</td>\n",
       "    </tr>\n",
       "    <tr>\n",
       "      <th>725421</th>\n",
       "      <td>RU5MG06RV5E8</td>\n",
       "      <td>2023-05-04 22:00:00.601</td>\n",
       "      <td>SIMO_US</td>\n",
       "      <td>False</td>\n",
       "      <td>2023-05-04</td>\n",
       "      <td>2023-05-04</td>\n",
       "      <td>SILICON MOTION 1Q ADJ EARNINGS PER ADS 33C, ES...</td>\n",
       "      <td></td>\n",
       "      <td>2023-05-04</td>\n",
       "      <td>1</td>\n",
       "    </tr>\n",
       "    <tr>\n",
       "      <th>725422</th>\n",
       "      <td>RU5MG06RV5E9</td>\n",
       "      <td>2023-05-04 22:00:00.615</td>\n",
       "      <td>SIMO_US</td>\n",
       "      <td>False</td>\n",
       "      <td>2023-05-04</td>\n",
       "      <td>2023-05-04</td>\n",
       "      <td>SILICON MOTION 1Q REV. $124.1M, EST. $167.6M.</td>\n",
       "      <td></td>\n",
       "      <td>2023-05-04</td>\n",
       "      <td>1</td>\n",
       "    </tr>\n",
       "    <tr>\n",
       "      <th>725423</th>\n",
       "      <td>RU5MG16RV5DS</td>\n",
       "      <td>2023-05-04 22:00:02.824</td>\n",
       "      <td>SIMO_US</td>\n",
       "      <td>False</td>\n",
       "      <td>2023-05-04</td>\n",
       "      <td>2023-05-04</td>\n",
       "      <td>Silicon Motion 1Q Adj Earnings per ADS Misses ...</td>\n",
       "      <td>Silicon Motion reported adjusted earningsper A...</td>\n",
       "      <td>2023-05-04</td>\n",
       "      <td>0</td>\n",
       "    </tr>\n",
       "    <tr>\n",
       "      <th>725424</th>\n",
       "      <td>RU5MHM6RV5DU</td>\n",
       "      <td>2023-05-04 22:01:01.276</td>\n",
       "      <td>SIMO_US</td>\n",
       "      <td>False</td>\n",
       "      <td>2023-05-04</td>\n",
       "      <td>2023-05-04</td>\n",
       "      <td>Silicon Motion 1Q Adj Earnings per ADS Misses ...</td>\n",
       "      <td>Silicon Motion reported adjusted earningsper A...</td>\n",
       "      <td>2023-05-04</td>\n",
       "      <td>0</td>\n",
       "    </tr>\n",
       "  </tbody>\n",
       "</table>\n",
       "<p>725425 rows × 10 columns</p>\n",
       "</div>"
      ],
      "text/plain": [
       "                suid             last_update  eqt_code  analyst       date  \\\n",
       "0       K9QU086JIJUO 2008-11-03 06:00:08.530    TRL_UN    False 2008-11-03   \n",
       "1       K9QU3P0D9L4G 2008-11-03 06:02:13.890    TRL_UN    False 2008-11-03   \n",
       "2       K9QU4U0D9L3Q 2008-11-03 06:02:54.570    TRL_UN    False 2008-11-03   \n",
       "3       K9QV121A1I4I 2008-11-03 06:22:14.950    TRL_UN    False 2008-11-03   \n",
       "4       K9RQLO1A74E9 2008-11-03 17:44:12.690    TRL_UN    False 2008-11-03   \n",
       "...              ...                     ...       ...      ...        ...   \n",
       "725420  RU5LRT6RV5E3 2023-05-04 21:45:29.952  BRPR3_BS    False 2023-05-04   \n",
       "725421  RU5MG06RV5E8 2023-05-04 22:00:00.601   SIMO_US    False 2023-05-04   \n",
       "725422  RU5MG06RV5E9 2023-05-04 22:00:00.615   SIMO_US    False 2023-05-04   \n",
       "725423  RU5MG16RV5DS 2023-05-04 22:00:02.824   SIMO_US    False 2023-05-04   \n",
       "725424  RU5MHM6RV5DU 2023-05-04 22:01:01.276   SIMO_US    False 2023-05-04   \n",
       "\n",
       "           daclose                                           headline  \\\n",
       "0       2008-11-03                                 DAVITA 3Q EPS 89C.   \n",
       "1       2008-11-03                           DAVITA 3Q NET $93.9 MLN.   \n",
       "2       2008-11-03  DAVITA SEES 2008 OP. PROFIT NEAR MIDDLE OF PRE...   \n",
       "3       2008-11-03  DaVita Profit Falls After One-Time Gains in Qu...   \n",
       "4       2008-11-03  DaVita Profit Falls After One-Time Gain Year E...   \n",
       "...            ...                                                ...   \n",
       "725420  2023-05-04    BR PROPERTIES 1Q ADJ. EBITDA R$13.1M, -76% Y/Y.   \n",
       "725421  2023-05-04  SILICON MOTION 1Q ADJ EARNINGS PER ADS 33C, ES...   \n",
       "725422  2023-05-04      SILICON MOTION 1Q REV. $124.1M, EST. $167.6M.   \n",
       "725423  2023-05-04  Silicon Motion 1Q Adj Earnings per ADS Misses ...   \n",
       "725424  2023-05-04  Silicon Motion 1Q Adj Earnings per ADS Misses ...   \n",
       "\n",
       "                                                     body earning_date  \\\n",
       "0       PR Newswire: U.S. press release is accessible ...   2008-11-03   \n",
       "1       PR Newswire: U.S. press release is accessible ...   2008-11-03   \n",
       "2       PR Newswire: U.S. press release is accessible ...   2008-11-03   \n",
       "3       DaVita Inc., the second-largest U.S.operator o...   2008-11-03   \n",
       "4       Adds analysts' estimates in the second paragra...   2008-11-03   \n",
       "...                                                   ...          ...   \n",
       "725420                                                      2023-05-04   \n",
       "725421                                                      2023-05-04   \n",
       "725422                                                      2023-05-04   \n",
       "725423  Silicon Motion reported adjusted earningsper A...   2023-05-04   \n",
       "725424  Silicon Motion reported adjusted earningsper A...   2023-05-04   \n",
       "\n",
       "        balance_sheet  \n",
       "0                   1  \n",
       "1                   1  \n",
       "2                   0  \n",
       "3                   0  \n",
       "4                   0  \n",
       "...               ...  \n",
       "725420              1  \n",
       "725421              1  \n",
       "725422              1  \n",
       "725423              0  \n",
       "725424              0  \n",
       "\n",
       "[725425 rows x 10 columns]"
      ]
     },
     "execution_count": 21,
     "metadata": {},
     "output_type": "execute_result"
    }
   ],
   "source": [
    "df"
   ]
  },
  {
   "cell_type": "code",
   "execution_count": 19,
   "metadata": {},
   "outputs": [
    {
     "data": {
      "image/png": "[encoded data removed]",
      "text/plain": [
       "<Figure size 432x288 with 1 Axes>"
      ]
     },
     "metadata": {},
     "output_type": "display_data"
    }
   ],
   "source": [
    "def plot_balance_sheet(df):\n",
    "    # Calculate the percentage of balance_sheet values\n",
    "    percentages = df['balance_sheet'].value_counts(normalize=True) * 100\n",
    "\n",
    "    # Create the pie plot\n",
    "    labels =  percentages.index\n",
    "    plt.pie(percentages, labels=labels, autopct='%1.1f%%')\n",
    "\n",
    "    # Add title\n",
    "    plt.title('Percentage of Balance Sheet Flag')\n",
    "\n",
    "    # Show the plot\n",
    "    plt.show()\n",
    "\n",
    "# Example usage\n",
    "plot_balance_sheet(df)"
   ]
  },
  {
   "cell_type": "markdown",
   "metadata": {},
   "source": [
    "### Results on all the headlines"
   ]
  },
  {
   "cell_type": "code",
   "execution_count": 16,
   "metadata": {},
   "outputs": [],
   "source": [
    "df2=filter_balance_sheet(news_company, col='headline')"
   ]
  },
  {
   "cell_type": "code",
   "execution_count": 20,
   "metadata": {},
   "outputs": [
    {
     "data": {
      "image/png": "[encoded data removed]",
      "text/plain": [
       "<Figure size 432x288 with 1 Axes>"
      ]
     },
     "metadata": {},
     "output_type": "display_data"
    }
   ],
   "source": [
    "plot_balance_sheet(df2)"
   ]
  }
 ],
 "metadata": {
  "kernelspec": {
   "display_name": "yihan_gpu",
   "language": "python",
   "name": "yihan_gpu"
  },
  "language_info": {
   "codemirror_mode": {
    "name": "ipython",
    "version": 3
   },
   "file_extension": ".py",
   "mimetype": "text/x-python",
   "name": "python",
   "nbconvert_exporter": "python",
   "pygments_lexer": "ipython3",
   "version": "3.8.11"
  }
 },
 "nbformat": 4,
 "nbformat_minor": 4
}
