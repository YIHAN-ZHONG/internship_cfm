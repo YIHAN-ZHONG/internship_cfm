{
 "cells": [
  {
   "cell_type": "code",
   "execution_count": 1,
   "metadata": {},
   "outputs": [
    {
     "name": "stderr",
     "output_type": "stream",
     "text": [
      "/home/yzhong/conda/envs/yihan_gpu/lib/python3.8/site-packages/scipy/__init__.py:146: UserWarning: A NumPy version >=1.16.5 and <1.23.0 is required for this version of SciPy (detected version 1.24.3\n",
      "  warnings.warn(f\"A NumPy version >={np_minversion} and <{np_maxversion}\"\n"
     ]
    }
   ],
   "source": [
    "import pandas as pd\n",
    "# en python:\n",
    "import os\n",
    "os.environ[\"https_proxy\"] = \"http://proxy.fr.cfm.fr:6060\"\n",
    "import numpy as np\n",
    "import torch\n",
    "import torch.nn as nn\n",
    "from sentence_transformers import SentenceTransformer, util\n",
    "from transformers import AutoTokenizer, AutoModelForSequenceClassification #, Trainer, TrainingArguments, DataCollatorWithPadding, default_data_collator\n",
    "from datasets import Dataset\n",
    "from torch.utils.data import DataLoader\n",
    "import pandas as pd \n",
    "import numpy as np \n",
    "import faiss \n",
    "import tqdm \n",
    "import multiprocessing \n",
    "import dill as pickle\n",
    "import datetime\n",
    "import plotly.express as px"
   ]
  },
  {
   "cell_type": "code",
   "execution_count": 8,
   "metadata": {},
   "outputs": [
    {
     "name": "stdout",
     "output_type": "stream",
     "text": [
      "{'TRANSLATION_MODEL': 'Helsinki-NLP/opus-mt-zh-en', 'SENTENCE_TRANSFORMER': 'all-MiniLM-L6-v2', 'TRANSLATION_MODEL_ADVANCE': 'alirezamsh/small100', 'model_dir': '/opt/tmp/yzhong/models/'}\n"
     ]
    }
   ],
   "source": [
    "import json\n",
    "# read the config file into a dictionary\n",
    "with open(\"/home/yzhong/notebooks/getting_started/config_transformer.json\", \"r\") as f:\n",
    "    config_ = json.load(f)\n",
    "\n",
    "print(config_)"
   ]
  },
  {
   "cell_type": "code",
   "execution_count": 9,
   "metadata": {},
   "outputs": [],
   "source": [
    "DATA_PATH = \"/mnt/research-live/user/yzhong/\" "
   ]
  },
  {
   "cell_type": "code",
   "execution_count": null,
   "metadata": {},
   "outputs": [],
   "source": [
    "df_all=pd.read_parquet('/mnt/research-live/user/yzhong/MCD_UN_single_stock.parquet')"
   ]
  },
  {
   "cell_type": "code",
   "execution_count": 8,
   "metadata": {},
   "outputs": [],
   "source": [
    "df=pd.read_parquet('/mnt/research-live/user/yzhong/bloomberg_news_english_single_stock.parquet')"
   ]
  },
  {
   "cell_type": "code",
   "execution_count": 10,
   "metadata": {},
   "outputs": [
    {
     "data": {
      "text/html": [
       "<div>\n",
       "<style scoped>\n",
       "    .dataframe tbody tr th:only-of-type {\n",
       "        vertical-align: middle;\n",
       "    }\n",
       "\n",
       "    .dataframe tbody tr th {\n",
       "        vertical-align: top;\n",
       "    }\n",
       "\n",
       "    .dataframe thead th {\n",
       "        text-align: right;\n",
       "    }\n",
       "</style>\n",
       "<table border=\"1\" class=\"dataframe\">\n",
       "  <thead>\n",
       "    <tr style=\"text-align: right;\">\n",
       "      <th></th>\n",
       "      <th>suid</th>\n",
       "      <th>last_update</th>\n",
       "      <th>eqt_code</th>\n",
       "      <th>analyst</th>\n",
       "      <th>date</th>\n",
       "      <th>daclose</th>\n",
       "      <th>headline</th>\n",
       "      <th>body</th>\n",
       "    </tr>\n",
       "  </thead>\n",
       "  <tbody>\n",
       "    <tr>\n",
       "      <th>0</th>\n",
       "      <td>K9NA111A1I4H</td>\n",
       "      <td>2008-11-01 07:55:49.990</td>\n",
       "      <td>CMB_UN</td>\n",
       "      <td>False</td>\n",
       "      <td>2008-11-01</td>\n",
       "      <td>2008-10-31</td>\n",
       "      <td>Bakrie Sells Bumi Stake to Northstar for $1.3 ...</td>\n",
       "      <td>Adds director's comment in fourth paragraph. P...</td>\n",
       "    </tr>\n",
       "    <tr>\n",
       "      <th>1</th>\n",
       "      <td>K9MMZT1A74E9</td>\n",
       "      <td>2008-11-01 13:30:00.000</td>\n",
       "      <td>BA_UN</td>\n",
       "      <td>False</td>\n",
       "      <td>2008-11-01</td>\n",
       "      <td>2008-10-31</td>\n",
       "      <td>Boeing Machinists to Vote on Ending Production...</td>\n",
       "      <td>Boeing Co. machinists will castballots today o...</td>\n",
       "    </tr>\n",
       "    <tr>\n",
       "      <th>2</th>\n",
       "      <td>K9NQAG0R00ZM</td>\n",
       "      <td>2008-11-01 13:47:04.680</td>\n",
       "      <td>ORDI_NA</td>\n",
       "      <td>False</td>\n",
       "      <td>2008-11-01</td>\n",
       "      <td>2008-10-31</td>\n",
       "      <td>UBS AG Has 4.89 Percent in Ordina.</td>\n",
       "      <td></td>\n",
       "    </tr>\n",
       "    <tr>\n",
       "      <th>3</th>\n",
       "      <td>K9NR6T0Y6HHE</td>\n",
       "      <td>2008-11-01 14:06:29.830</td>\n",
       "      <td>MEO1V_FH</td>\n",
       "      <td>False</td>\n",
       "      <td>2008-11-01</td>\n",
       "      <td>2008-10-31</td>\n",
       "      <td>Metso Starts Layoff Talks For 384 Workers in T...</td>\n",
       "      <td></td>\n",
       "    </tr>\n",
       "    <tr>\n",
       "      <th>4</th>\n",
       "      <td>K9NSXG1A1I4H</td>\n",
       "      <td>2008-11-01 14:44:04.300</td>\n",
       "      <td>AFA_NA</td>\n",
       "      <td>False</td>\n",
       "      <td>2008-11-01</td>\n",
       "      <td>2008-10-31</td>\n",
       "      <td>French Airline Unions Delay Retirement-Age Str...</td>\n",
       "      <td>Labor unions representing Frenchaviation worke...</td>\n",
       "    </tr>\n",
       "  </tbody>\n",
       "</table>\n",
       "</div>"
      ],
      "text/plain": [
       "           suid             last_update  eqt_code  analyst        date  \\\n",
       "0  K9NA111A1I4H 2008-11-01 07:55:49.990    CMB_UN    False  2008-11-01   \n",
       "1  K9MMZT1A74E9 2008-11-01 13:30:00.000     BA_UN    False  2008-11-01   \n",
       "2  K9NQAG0R00ZM 2008-11-01 13:47:04.680   ORDI_NA    False  2008-11-01   \n",
       "3  K9NR6T0Y6HHE 2008-11-01 14:06:29.830  MEO1V_FH    False  2008-11-01   \n",
       "4  K9NSXG1A1I4H 2008-11-01 14:44:04.300    AFA_NA    False  2008-11-01   \n",
       "\n",
       "      daclose                                           headline  \\\n",
       "0  2008-10-31  Bakrie Sells Bumi Stake to Northstar for $1.3 ...   \n",
       "1  2008-10-31  Boeing Machinists to Vote on Ending Production...   \n",
       "2  2008-10-31                 UBS AG Has 4.89 Percent in Ordina.   \n",
       "3  2008-10-31  Metso Starts Layoff Talks For 384 Workers in T...   \n",
       "4  2008-10-31  French Airline Unions Delay Retirement-Age Str...   \n",
       "\n",
       "                                                body  \n",
       "0  Adds director's comment in fourth paragraph. P...  \n",
       "1  Boeing Co. machinists will castballots today o...  \n",
       "2                                                     \n",
       "3                                                     \n",
       "4  Labor unions representing Frenchaviation worke...  "
      ]
     },
     "execution_count": 10,
     "metadata": {},
     "output_type": "execute_result"
    }
   ],
   "source": [
    "df.head()"
   ]
  },
  {
   "cell_type": "code",
   "execution_count": 11,
   "metadata": {},
   "outputs": [],
   "source": [
    "df_day = df.groupby(['eqt_code','date']).size().reset_index(name='Count')"
   ]
  },
  {
   "cell_type": "code",
   "execution_count": 12,
   "metadata": {},
   "outputs": [
    {
     "data": {
      "text/html": [
       "<div>\n",
       "<style scoped>\n",
       "    .dataframe tbody tr th:only-of-type {\n",
       "        vertical-align: middle;\n",
       "    }\n",
       "\n",
       "    .dataframe tbody tr th {\n",
       "        vertical-align: top;\n",
       "    }\n",
       "\n",
       "    .dataframe thead th {\n",
       "        text-align: right;\n",
       "    }\n",
       "</style>\n",
       "<table border=\"1\" class=\"dataframe\">\n",
       "  <thead>\n",
       "    <tr style=\"text-align: right;\">\n",
       "      <th></th>\n",
       "      <th>eqt_code</th>\n",
       "      <th>date</th>\n",
       "      <th>Count</th>\n",
       "    </tr>\n",
       "  </thead>\n",
       "  <tbody>\n",
       "    <tr>\n",
       "      <th>0</th>\n",
       "      <td>000001_C2</td>\n",
       "      <td>2023-04-24</td>\n",
       "      <td>4</td>\n",
       "    </tr>\n",
       "    <tr>\n",
       "      <th>1</th>\n",
       "      <td>000001_CH</td>\n",
       "      <td>2009-01-06</td>\n",
       "      <td>3</td>\n",
       "    </tr>\n",
       "    <tr>\n",
       "      <th>2</th>\n",
       "      <td>000001_CH</td>\n",
       "      <td>2009-01-12</td>\n",
       "      <td>2</td>\n",
       "    </tr>\n",
       "    <tr>\n",
       "      <th>3</th>\n",
       "      <td>000001_CH</td>\n",
       "      <td>2009-01-13</td>\n",
       "      <td>4</td>\n",
       "    </tr>\n",
       "    <tr>\n",
       "      <th>4</th>\n",
       "      <td>000001_CH</td>\n",
       "      <td>2009-01-20</td>\n",
       "      <td>1</td>\n",
       "    </tr>\n",
       "    <tr>\n",
       "      <th>...</th>\n",
       "      <td>...</td>\n",
       "      <td>...</td>\n",
       "      <td>...</td>\n",
       "    </tr>\n",
       "    <tr>\n",
       "      <th>5488958</th>\n",
       "      <td>Z_US</td>\n",
       "      <td>2023-02-27</td>\n",
       "      <td>2</td>\n",
       "    </tr>\n",
       "    <tr>\n",
       "      <th>5488959</th>\n",
       "      <td>Z_US</td>\n",
       "      <td>2023-03-01</td>\n",
       "      <td>2</td>\n",
       "    </tr>\n",
       "    <tr>\n",
       "      <th>5488960</th>\n",
       "      <td>Z_US</td>\n",
       "      <td>2023-04-18</td>\n",
       "      <td>1</td>\n",
       "    </tr>\n",
       "    <tr>\n",
       "      <th>5488961</th>\n",
       "      <td>Z_US</td>\n",
       "      <td>2023-04-20</td>\n",
       "      <td>2</td>\n",
       "    </tr>\n",
       "    <tr>\n",
       "      <th>5488962</th>\n",
       "      <td>Z_US</td>\n",
       "      <td>2023-05-03</td>\n",
       "      <td>6</td>\n",
       "    </tr>\n",
       "  </tbody>\n",
       "</table>\n",
       "<p>5488963 rows × 3 columns</p>\n",
       "</div>"
      ],
      "text/plain": [
       "          eqt_code        date  Count\n",
       "0        000001_C2  2023-04-24      4\n",
       "1        000001_CH  2009-01-06      3\n",
       "2        000001_CH  2009-01-12      2\n",
       "3        000001_CH  2009-01-13      4\n",
       "4        000001_CH  2009-01-20      1\n",
       "...            ...         ...    ...\n",
       "5488958       Z_US  2023-02-27      2\n",
       "5488959       Z_US  2023-03-01      2\n",
       "5488960       Z_US  2023-04-18      1\n",
       "5488961       Z_US  2023-04-20      2\n",
       "5488962       Z_US  2023-05-03      6\n",
       "\n",
       "[5488963 rows x 3 columns]"
      ]
     },
     "execution_count": 12,
     "metadata": {},
     "output_type": "execute_result"
    }
   ],
   "source": [
    "df_day"
   ]
  },
  {
   "cell_type": "code",
   "execution_count": 3,
   "metadata": {},
   "outputs": [],
   "source": [
    "df['date'] = pd.to_datetime(df['date'])\n",
    "df['day'] = df['date'].dt.strftime('%Y-%m-%d')"
   ]
  },
  {
   "cell_type": "code",
   "execution_count": 4,
   "metadata": {},
   "outputs": [],
   "source": [
    "df_day = df.groupby('date').size().reset_index(name='Count')"
   ]
  },
  {
   "cell_type": "code",
   "execution_count": 5,
   "metadata": {},
   "outputs": [],
   "source": [
    "df_day['Month']=df_day['date'].dt.strftime('%Y-%m')"
   ]
  },
  {
   "cell_type": "code",
   "execution_count": 15,
   "metadata": {},
   "outputs": [
    {
     "ename": "KeyboardInterrupt",
     "evalue": "",
     "output_type": "error",
     "traceback": [
      "\u001b[0;31m---------------------------------------------------------------------------\u001b[0m",
      "\u001b[0;31mKeyboardInterrupt\u001b[0m                         Traceback (most recent call last)",
      "\u001b[0;32m/opt/tmp/tmp/ipykernel_190712/3209617638.py\u001b[0m in \u001b[0;36m<module>\u001b[0;34m\u001b[0m\n\u001b[1;32m      9\u001b[0m \u001b[0mdata_dict\u001b[0m \u001b[0;34m=\u001b[0m \u001b[0;34m{\u001b[0m\u001b[0;34m}\u001b[0m\u001b[0;34m\u001b[0m\u001b[0;34m\u001b[0m\u001b[0m\n\u001b[1;32m     10\u001b[0m \u001b[0;32mfor\u001b[0m \u001b[0meqt_code\u001b[0m \u001b[0;32min\u001b[0m \u001b[0meqt_codes\u001b[0m\u001b[0;34m:\u001b[0m\u001b[0;34m\u001b[0m\u001b[0;34m\u001b[0m\u001b[0m\n\u001b[0;32m---> 11\u001b[0;31m     \u001b[0mdata_dict\u001b[0m\u001b[0;34m[\u001b[0m\u001b[0meqt_code\u001b[0m\u001b[0;34m]\u001b[0m \u001b[0;34m=\u001b[0m \u001b[0mdf_day\u001b[0m\u001b[0;34m[\u001b[0m\u001b[0mdf_day\u001b[0m\u001b[0;34m[\u001b[0m\u001b[0;34m'eqt_code'\u001b[0m\u001b[0;34m]\u001b[0m \u001b[0;34m==\u001b[0m \u001b[0meqt_code\u001b[0m\u001b[0;34m]\u001b[0m\u001b[0;34m\u001b[0m\u001b[0;34m\u001b[0m\u001b[0m\n\u001b[0m\u001b[1;32m     12\u001b[0m \u001b[0;34m\u001b[0m\u001b[0m\n\u001b[1;32m     13\u001b[0m \u001b[0;31m# Create a list of drop-down menu options\u001b[0m\u001b[0;34m\u001b[0m\u001b[0;34m\u001b[0m\u001b[0;34m\u001b[0m\u001b[0m\n",
      "\u001b[0;32m~/conda/envs/yihan_gpu/lib/python3.8/site-packages/pandas/core/ops/common.py\u001b[0m in \u001b[0;36mnew_method\u001b[0;34m(self, other)\u001b[0m\n\u001b[1;32m     63\u001b[0m         \u001b[0mother\u001b[0m \u001b[0;34m=\u001b[0m \u001b[0mitem_from_zerodim\u001b[0m\u001b[0;34m(\u001b[0m\u001b[0mother\u001b[0m\u001b[0;34m)\u001b[0m\u001b[0;34m\u001b[0m\u001b[0;34m\u001b[0m\u001b[0m\n\u001b[1;32m     64\u001b[0m \u001b[0;34m\u001b[0m\u001b[0m\n\u001b[0;32m---> 65\u001b[0;31m         \u001b[0;32mreturn\u001b[0m \u001b[0mmethod\u001b[0m\u001b[0;34m(\u001b[0m\u001b[0mself\u001b[0m\u001b[0;34m,\u001b[0m \u001b[0mother\u001b[0m\u001b[0;34m)\u001b[0m\u001b[0;34m\u001b[0m\u001b[0;34m\u001b[0m\u001b[0m\n\u001b[0m\u001b[1;32m     66\u001b[0m \u001b[0;34m\u001b[0m\u001b[0m\n\u001b[1;32m     67\u001b[0m     \u001b[0;32mreturn\u001b[0m \u001b[0mnew_method\u001b[0m\u001b[0;34m\u001b[0m\u001b[0;34m\u001b[0m\u001b[0m\n",
      "\u001b[0;32m~/conda/envs/yihan_gpu/lib/python3.8/site-packages/pandas/core/ops/__init__.py\u001b[0m in \u001b[0;36mwrapper\u001b[0;34m(self, other)\u001b[0m\n\u001b[1;32m    368\u001b[0m         \u001b[0mrvalues\u001b[0m \u001b[0;34m=\u001b[0m \u001b[0mextract_array\u001b[0m\u001b[0;34m(\u001b[0m\u001b[0mother\u001b[0m\u001b[0;34m,\u001b[0m \u001b[0mextract_numpy\u001b[0m\u001b[0;34m=\u001b[0m\u001b[0;32mTrue\u001b[0m\u001b[0;34m)\u001b[0m\u001b[0;34m\u001b[0m\u001b[0;34m\u001b[0m\u001b[0m\n\u001b[1;32m    369\u001b[0m \u001b[0;34m\u001b[0m\u001b[0m\n\u001b[0;32m--> 370\u001b[0;31m         \u001b[0mres_values\u001b[0m \u001b[0;34m=\u001b[0m \u001b[0mcomparison_op\u001b[0m\u001b[0;34m(\u001b[0m\u001b[0mlvalues\u001b[0m\u001b[0;34m,\u001b[0m \u001b[0mrvalues\u001b[0m\u001b[0;34m,\u001b[0m \u001b[0mop\u001b[0m\u001b[0;34m)\u001b[0m\u001b[0;34m\u001b[0m\u001b[0;34m\u001b[0m\u001b[0m\n\u001b[0m\u001b[1;32m    371\u001b[0m \u001b[0;34m\u001b[0m\u001b[0m\n\u001b[1;32m    372\u001b[0m         \u001b[0;32mreturn\u001b[0m \u001b[0mself\u001b[0m\u001b[0;34m.\u001b[0m\u001b[0m_construct_result\u001b[0m\u001b[0;34m(\u001b[0m\u001b[0mres_values\u001b[0m\u001b[0;34m,\u001b[0m \u001b[0mname\u001b[0m\u001b[0;34m=\u001b[0m\u001b[0mres_name\u001b[0m\u001b[0;34m)\u001b[0m\u001b[0;34m\u001b[0m\u001b[0;34m\u001b[0m\u001b[0m\n",
      "\u001b[0;32m~/conda/envs/yihan_gpu/lib/python3.8/site-packages/pandas/core/ops/array_ops.py\u001b[0m in \u001b[0;36mcomparison_op\u001b[0;34m(left, right, op)\u001b[0m\n\u001b[1;32m    242\u001b[0m \u001b[0;34m\u001b[0m\u001b[0m\n\u001b[1;32m    243\u001b[0m     \u001b[0;32melif\u001b[0m \u001b[0mis_object_dtype\u001b[0m\u001b[0;34m(\u001b[0m\u001b[0mlvalues\u001b[0m\u001b[0;34m.\u001b[0m\u001b[0mdtype\u001b[0m\u001b[0;34m)\u001b[0m\u001b[0;34m:\u001b[0m\u001b[0;34m\u001b[0m\u001b[0;34m\u001b[0m\u001b[0m\n\u001b[0;32m--> 244\u001b[0;31m         \u001b[0mres_values\u001b[0m \u001b[0;34m=\u001b[0m \u001b[0mcomp_method_OBJECT_ARRAY\u001b[0m\u001b[0;34m(\u001b[0m\u001b[0mop\u001b[0m\u001b[0;34m,\u001b[0m \u001b[0mlvalues\u001b[0m\u001b[0;34m,\u001b[0m \u001b[0mrvalues\u001b[0m\u001b[0;34m)\u001b[0m\u001b[0;34m\u001b[0m\u001b[0;34m\u001b[0m\u001b[0m\n\u001b[0m\u001b[1;32m    245\u001b[0m \u001b[0;34m\u001b[0m\u001b[0m\n\u001b[1;32m    246\u001b[0m     \u001b[0;32melse\u001b[0m\u001b[0;34m:\u001b[0m\u001b[0;34m\u001b[0m\u001b[0;34m\u001b[0m\u001b[0m\n",
      "\u001b[0;32m~/conda/envs/yihan_gpu/lib/python3.8/site-packages/pandas/core/ops/array_ops.py\u001b[0m in \u001b[0;36mcomp_method_OBJECT_ARRAY\u001b[0;34m(op, x, y)\u001b[0m\n\u001b[1;32m     54\u001b[0m         \u001b[0mresult\u001b[0m \u001b[0;34m=\u001b[0m \u001b[0mlibops\u001b[0m\u001b[0;34m.\u001b[0m\u001b[0mvec_compare\u001b[0m\u001b[0;34m(\u001b[0m\u001b[0mx\u001b[0m\u001b[0;34m.\u001b[0m\u001b[0mravel\u001b[0m\u001b[0;34m(\u001b[0m\u001b[0;34m)\u001b[0m\u001b[0;34m,\u001b[0m \u001b[0my\u001b[0m\u001b[0;34m.\u001b[0m\u001b[0mravel\u001b[0m\u001b[0;34m(\u001b[0m\u001b[0;34m)\u001b[0m\u001b[0;34m,\u001b[0m \u001b[0mop\u001b[0m\u001b[0;34m)\u001b[0m\u001b[0;34m\u001b[0m\u001b[0;34m\u001b[0m\u001b[0m\n\u001b[1;32m     55\u001b[0m     \u001b[0;32melse\u001b[0m\u001b[0;34m:\u001b[0m\u001b[0;34m\u001b[0m\u001b[0;34m\u001b[0m\u001b[0m\n\u001b[0;32m---> 56\u001b[0;31m         \u001b[0mresult\u001b[0m \u001b[0;34m=\u001b[0m \u001b[0mlibops\u001b[0m\u001b[0;34m.\u001b[0m\u001b[0mscalar_compare\u001b[0m\u001b[0;34m(\u001b[0m\u001b[0mx\u001b[0m\u001b[0;34m.\u001b[0m\u001b[0mravel\u001b[0m\u001b[0;34m(\u001b[0m\u001b[0;34m)\u001b[0m\u001b[0;34m,\u001b[0m \u001b[0my\u001b[0m\u001b[0;34m,\u001b[0m \u001b[0mop\u001b[0m\u001b[0;34m)\u001b[0m\u001b[0;34m\u001b[0m\u001b[0;34m\u001b[0m\u001b[0m\n\u001b[0m\u001b[1;32m     57\u001b[0m     \u001b[0;32mreturn\u001b[0m \u001b[0mresult\u001b[0m\u001b[0;34m.\u001b[0m\u001b[0mreshape\u001b[0m\u001b[0;34m(\u001b[0m\u001b[0mx\u001b[0m\u001b[0;34m.\u001b[0m\u001b[0mshape\u001b[0m\u001b[0;34m)\u001b[0m\u001b[0;34m\u001b[0m\u001b[0;34m\u001b[0m\u001b[0m\n\u001b[1;32m     58\u001b[0m \u001b[0;34m\u001b[0m\u001b[0m\n",
      "\u001b[0;31mKeyboardInterrupt\u001b[0m: "
     ]
    }
   ],
   "source": [
    "import numpy as np\n",
    "import pandas as pd\n",
    "import plotly.express as px\n",
    "\n",
    "# Create a list of unique eqt_codes\n",
    "eqt_codes = df_day['eqt_code'].unique()\n",
    "\n",
    "# Create a dictionary to store data frames for each eqt_code\n",
    "data_dict = {}\n",
    "for eqt_code in eqt_codes:\n",
    "    data_dict[eqt_code] = df_day[df_day['eqt_code'] == eqt_code]\n",
    "\n",
    "# Create a list of drop-down menu options\n",
    "dropdown_options = [{'label': 'All Data', 'value': 'All Data'}]\n",
    "for eqt_code in eqt_codes:\n",
    "    dropdown_options.append({'label': eqt_code, 'value': eqt_code})\n",
    "\n",
    "# Create the figure\n",
    "fig = px.bar(df_day, x='date', y='Count')\n",
    "\n",
    "dfbut = (\n",
    "    (df_day[\"date\"] + pd.offsets.MonthBegin(-1))\n",
    "    .drop_duplicates()\n",
    "    .to_frame()\n",
    "    .assign(\n",
    "        label=lambda d: d[\"date\"].dt.strftime(\"%b-%Y\"),\n",
    "        start=lambda d: (d[\"date\"] - pd.Timestamp(\"1970-01-01\")) // pd.Timedelta(\"1ms\"),\n",
    "        end=lambda d: d[\"start\"].shift(-1),\n",
    "    )\n",
    "    .fillna((df[\"date\"].max() - pd.Timestamp(\"1970-01-01\")) // pd.Timedelta(\"1ms\"))\n",
    ")\n",
    "\n",
    "\n",
    "# Create the drop-down menu\n",
    "fig.update_layout(\n",
    "    updatemenus=[\n",
    "        {\n",
    "            'buttons': [\n",
    "                {\n",
    "                    'label': r[1]['label'],\n",
    "                    'method': 'relayout',\n",
    "                    'args': [{'xaxis': {'range': [r[1]['start'], r[1]['end']]}}],\n",
    "                }\n",
    "                for r in dfbut.iterrows()\n",
    "            ]\n",
    "        },\n",
    "        {\n",
    "            'buttons': [{'label': 'All Data', 'method': 'relayout', 'args': [{'xaxis': {'range': []}}]}],\n",
    "            'y': 0.8,\n",
    "            'type': 'buttons'\n",
    "        },\n",
    "        {\n",
    "            'buttons': [\n",
    "                {\n",
    "                    'method': 'update',\n",
    "                    'args': [{'visible': [eqt_code == 'All Data' for eqt_code in eqt_codes]}],\n",
    "                    'label': 'All Data'\n",
    "                }\n",
    "            ] + [\n",
    "                {\n",
    "                    'method': 'update',\n",
    "                    'args': [{'visible': [eqt_code == value for eqt_code in eqt_codes]}],\n",
    "                    'label': value\n",
    "                }\n",
    "                for value in eqt_codes\n",
    "            ],\n",
    "            'direction': 'down',\n",
    "            'showactive': True,\n",
    "            'x': 0.1,\n",
    "            'y': 0.9\n",
    "        }\n",
    "    ]\n",
    ")\n",
    "\n",
    "# Add the traces for each eqt_code\n",
    "for eqt_code in eqt_codes:\n",
    "    data = data_dict[eqt_code]\n",
    "    trace = px.bar(data, x='date', y='Count', color='eqt_code', color_discrete_sequence=['blue'])\n",
    "    trace.update_traces(visible=False, selector={'name': eqt_code})\n",
    "    fig.add_traces(trace.data)\n",
    "\n",
    "# Set the initial visibility of the traces\n",
    "fig.update_traces(visible=True, selector={'name': 'All Data'})\n",
    "\n",
    "fig.show()\n"
   ]
  },
  {
   "attachments": {},
   "cell_type": "markdown",
   "metadata": {},
   "source": [
    "## Plot the volume of data monthly"
   ]
  },
  {
   "cell_type": "code",
   "execution_count": 27,
   "metadata": {},
   "outputs": [
    {
     "data": {
      "application/vnd.plotly.v1+json": {
       "config": {
        "plotlyServerURL": "https://plot.ly"
       },
       "data": [
        {
         "alignmentgroup": "True",
         "hovertemplate": "date=%{x}<br>Count=%{y}<extra></extra>",
         "legendgroup": "",
         "marker": {
          "color": "#636efa"
         },
         "name": "",
         "offsetgroup": "",
         "orientation": "v",
         "showlegend": false,
         "textposition": "auto",
         "type": "bar",
         "x": [
          "2008-11-07T00:00:00",
          "2008-11-10T00:00:00",
          "2008-11-11T00:00:00",
          "2008-11-14T00:00:00",
          "2008-11-17T00:00:00",
          "2008-11-19T00:00:00",
          "2008-11-20T00:00:00",
          "2008-11-25T00:00:00",
          "2008-11-28T00:00:00",
          "2008-12-05T00:00:00",
          "2008-12-08T00:00:00",
          "2008-12-09T00:00:00",
          "2008-12-22T00:00:00",
          "2008-12-26T00:00:00",
          "2009-01-11T00:00:00",
          "2009-01-12T00:00:00",
          "2009-01-13T00:00:00",
          "2009-01-20T00:00:00",
          "2009-01-22T00:00:00",
          "2009-01-23T00:00:00",
          "2009-01-24T00:00:00",
          "2009-01-26T00:00:00",
          "2009-01-27T00:00:00",
          "2009-02-03T00:00:00",
          "2009-02-05T00:00:00",
          "2009-02-09T00:00:00",
          "2009-02-17T00:00:00",
          "2009-02-18T00:00:00",
          "2009-02-19T00:00:00",
          "2009-02-26T00:00:00",
          "2009-02-27T00:00:00",
          "2009-03-02T00:00:00",
          "2009-03-03T00:00:00",
          "2009-03-04T00:00:00",
          "2009-03-05T00:00:00",
          "2009-03-09T00:00:00",
          "2009-03-11T00:00:00",
          "2009-03-18T00:00:00",
          "2009-03-25T00:00:00",
          "2009-03-26T00:00:00",
          "2009-03-30T00:00:00",
          "2009-03-31T00:00:00",
          "2009-04-13T00:00:00",
          "2009-04-16T00:00:00",
          "2009-04-20T00:00:00",
          "2009-04-21T00:00:00",
          "2009-04-22T00:00:00",
          "2009-04-23T00:00:00",
          "2009-04-24T00:00:00",
          "2009-04-27T00:00:00",
          "2009-04-28T00:00:00",
          "2009-04-29T00:00:00",
          "2009-04-30T00:00:00",
          "2009-05-05T00:00:00",
          "2009-05-06T00:00:00",
          "2009-05-08T00:00:00",
          "2009-05-11T00:00:00",
          "2009-05-13T00:00:00",
          "2009-05-14T00:00:00",
          "2009-05-18T00:00:00",
          "2009-05-21T00:00:00",
          "2009-05-22T00:00:00",
          "2009-05-27T00:00:00",
          "2009-06-03T00:00:00",
          "2009-06-04T00:00:00",
          "2009-06-08T00:00:00",
          "2009-06-10T00:00:00",
          "2009-06-11T00:00:00",
          "2009-06-14T00:00:00",
          "2009-06-17T00:00:00",
          "2009-06-18T00:00:00",
          "2009-06-19T00:00:00",
          "2009-06-29T00:00:00",
          "2009-07-01T00:00:00",
          "2009-07-08T00:00:00",
          "2009-07-09T00:00:00",
          "2009-07-10T00:00:00",
          "2009-07-12T00:00:00",
          "2009-07-13T00:00:00",
          "2009-07-16T00:00:00",
          "2009-07-17T00:00:00",
          "2009-07-23T00:00:00",
          "2009-07-24T00:00:00",
          "2009-07-30T00:00:00",
          "2009-08-10T00:00:00",
          "2009-08-13T00:00:00",
          "2009-08-17T00:00:00",
          "2009-08-20T00:00:00",
          "2009-09-03T00:00:00",
          "2009-09-08T00:00:00",
          "2009-09-09T00:00:00",
          "2009-09-17T00:00:00",
          "2009-09-22T00:00:00",
          "2009-09-24T00:00:00",
          "2009-09-28T00:00:00",
          "2009-09-30T00:00:00",
          "2009-10-01T00:00:00",
          "2009-10-02T00:00:00",
          "2009-10-05T00:00:00",
          "2009-10-08T00:00:00",
          "2009-10-20T00:00:00",
          "2009-10-22T00:00:00",
          "2009-10-26T00:00:00",
          "2009-10-27T00:00:00",
          "2009-10-29T00:00:00",
          "2009-11-06T00:00:00",
          "2009-11-07T00:00:00",
          "2009-11-09T00:00:00",
          "2009-11-10T00:00:00",
          "2009-11-12T00:00:00",
          "2009-11-13T00:00:00",
          "2009-11-16T00:00:00",
          "2009-11-27T00:00:00",
          "2009-12-01T00:00:00",
          "2009-12-02T00:00:00",
          "2009-12-08T00:00:00",
          "2009-12-09T00:00:00",
          "2009-12-10T00:00:00",
          "2009-12-15T00:00:00",
          "2009-12-23T00:00:00",
          "2010-01-11T00:00:00",
          "2010-01-13T00:00:00",
          "2010-01-14T00:00:00",
          "2010-01-22T00:00:00",
          "2010-01-26T00:00:00",
          "2010-01-28T00:00:00",
          "2010-02-01T00:00:00",
          "2010-02-02T00:00:00",
          "2010-02-04T00:00:00",
          "2010-02-09T00:00:00",
          "2010-02-16T00:00:00",
          "2010-02-18T00:00:00",
          "2010-02-25T00:00:00",
          "2010-03-08T00:00:00",
          "2010-03-09T00:00:00",
          "2010-03-22T00:00:00",
          "2010-03-23T00:00:00",
          "2010-03-24T00:00:00",
          "2010-03-25T00:00:00",
          "2010-03-29T00:00:00",
          "2010-03-30T00:00:00",
          "2010-04-09T00:00:00",
          "2010-04-11T00:00:00",
          "2010-04-15T00:00:00",
          "2010-04-21T00:00:00",
          "2010-04-27T00:00:00",
          "2010-04-28T00:00:00",
          "2010-05-02T00:00:00",
          "2010-05-03T00:00:00",
          "2010-05-06T00:00:00",
          "2010-05-07T00:00:00",
          "2010-05-10T00:00:00",
          "2010-05-13T00:00:00",
          "2010-05-17T00:00:00",
          "2010-05-20T00:00:00",
          "2010-05-24T00:00:00",
          "2010-05-26T00:00:00",
          "2010-05-27T00:00:00",
          "2010-06-02T00:00:00",
          "2010-06-04T00:00:00",
          "2010-06-08T00:00:00",
          "2010-06-10T00:00:00",
          "2010-06-27T00:00:00",
          "2010-06-28T00:00:00",
          "2010-07-01T00:00:00",
          "2010-07-05T00:00:00",
          "2010-07-06T00:00:00",
          "2010-07-07T00:00:00",
          "2010-07-08T00:00:00",
          "2010-07-13T00:00:00",
          "2010-07-16T00:00:00",
          "2010-07-23T00:00:00",
          "2010-07-28T00:00:00",
          "2010-08-09T00:00:00",
          "2010-08-18T00:00:00",
          "2010-08-19T00:00:00",
          "2010-08-24T00:00:00",
          "2010-08-25T00:00:00",
          "2010-08-30T00:00:00",
          "2010-08-31T00:00:00",
          "2010-09-09T00:00:00",
          "2010-09-10T00:00:00",
          "2010-09-14T00:00:00",
          "2010-09-17T00:00:00",
          "2010-09-20T00:00:00",
          "2010-09-23T00:00:00",
          "2010-09-29T00:00:00",
          "2010-09-30T00:00:00",
          "2010-10-08T00:00:00",
          "2010-10-10T00:00:00",
          "2010-10-11T00:00:00",
          "2010-10-12T00:00:00",
          "2010-10-19T00:00:00",
          "2010-10-21T00:00:00",
          "2010-10-27T00:00:00",
          "2010-10-29T00:00:00",
          "2010-11-01T00:00:00",
          "2010-11-03T00:00:00",
          "2010-11-05T00:00:00",
          "2010-11-08T00:00:00",
          "2010-11-09T00:00:00",
          "2010-11-11T00:00:00",
          "2010-11-12T00:00:00",
          "2010-11-17T00:00:00",
          "2010-11-29T00:00:00",
          "2010-12-03T00:00:00",
          "2010-12-06T00:00:00",
          "2010-12-08T00:00:00",
          "2010-12-09T00:00:00",
          "2010-12-13T00:00:00",
          "2010-12-15T00:00:00",
          "2010-12-16T00:00:00",
          "2010-12-17T00:00:00",
          "2010-12-20T00:00:00",
          "2010-12-28T00:00:00",
          "2010-12-29T00:00:00",
          "2010-12-31T00:00:00",
          "2011-01-05T00:00:00",
          "2011-01-12T00:00:00",
          "2011-01-19T00:00:00",
          "2011-01-24T00:00:00",
          "2011-01-25T00:00:00",
          "2011-01-26T00:00:00",
          "2011-02-01T00:00:00",
          "2011-02-06T00:00:00",
          "2011-02-08T00:00:00",
          "2011-02-21T00:00:00",
          "2011-02-23T00:00:00",
          "2011-02-25T00:00:00",
          "2011-02-27T00:00:00",
          "2011-02-28T00:00:00",
          "2011-03-02T00:00:00",
          "2011-03-03T00:00:00",
          "2011-03-07T00:00:00",
          "2011-03-08T00:00:00",
          "2011-03-11T00:00:00",
          "2011-03-17T00:00:00",
          "2011-03-23T00:00:00",
          "2011-03-30T00:00:00",
          "2011-04-04T00:00:00",
          "2011-04-05T00:00:00",
          "2011-04-06T00:00:00",
          "2011-04-07T00:00:00",
          "2011-04-08T00:00:00",
          "2011-04-11T00:00:00",
          "2011-04-13T00:00:00",
          "2011-04-15T00:00:00",
          "2011-04-19T00:00:00",
          "2011-04-20T00:00:00",
          "2011-04-21T00:00:00",
          "2011-04-22T00:00:00",
          "2011-04-26T00:00:00",
          "2011-04-27T00:00:00",
          "2011-04-28T00:00:00",
          "2011-04-29T00:00:00",
          "2011-05-02T00:00:00",
          "2011-05-05T00:00:00",
          "2011-05-06T00:00:00",
          "2011-05-09T00:00:00",
          "2011-05-10T00:00:00",
          "2011-05-11T00:00:00",
          "2011-05-16T00:00:00",
          "2011-05-17T00:00:00",
          "2011-05-18T00:00:00",
          "2011-05-19T00:00:00",
          "2011-05-20T00:00:00",
          "2011-05-23T00:00:00",
          "2011-05-24T00:00:00",
          "2011-05-25T00:00:00",
          "2011-05-26T00:00:00",
          "2011-05-27T00:00:00",
          "2011-05-31T00:00:00",
          "2011-06-01T00:00:00",
          "2011-06-07T00:00:00",
          "2011-06-08T00:00:00",
          "2011-06-09T00:00:00",
          "2011-06-10T00:00:00",
          "2011-06-13T00:00:00",
          "2011-06-14T00:00:00",
          "2011-06-16T00:00:00",
          "2011-06-21T00:00:00",
          "2011-06-22T00:00:00",
          "2011-06-23T00:00:00",
          "2011-06-24T00:00:00",
          "2011-06-27T00:00:00",
          "2011-06-28T00:00:00",
          "2011-06-29T00:00:00",
          "2011-06-30T00:00:00",
          "2011-07-01T00:00:00",
          "2011-07-03T00:00:00",
          "2011-07-05T00:00:00",
          "2011-07-08T00:00:00",
          "2011-07-12T00:00:00",
          "2011-07-13T00:00:00",
          "2011-07-14T00:00:00",
          "2011-07-15T00:00:00",
          "2011-07-19T00:00:00",
          "2011-07-20T00:00:00",
          "2011-07-21T00:00:00",
          "2011-07-22T00:00:00",
          "2011-07-25T00:00:00",
          "2011-07-26T00:00:00",
          "2011-07-27T00:00:00",
          "2011-07-28T00:00:00",
          "2011-07-29T00:00:00",
          "2011-08-05T00:00:00",
          "2011-08-08T00:00:00",
          "2011-08-09T00:00:00",
          "2011-08-10T00:00:00",
          "2011-08-11T00:00:00",
          "2011-08-12T00:00:00",
          "2011-08-15T00:00:00",
          "2011-08-16T00:00:00",
          "2011-08-18T00:00:00",
          "2011-08-19T00:00:00",
          "2011-08-23T00:00:00",
          "2011-08-24T00:00:00",
          "2011-08-25T00:00:00",
          "2011-08-26T00:00:00",
          "2011-08-29T00:00:00",
          "2011-08-30T00:00:00",
          "2011-08-31T00:00:00",
          "2011-09-01T00:00:00",
          "2011-09-02T00:00:00",
          "2011-09-06T00:00:00",
          "2011-09-07T00:00:00",
          "2011-09-08T00:00:00",
          "2011-09-09T00:00:00",
          "2011-09-13T00:00:00",
          "2011-09-15T00:00:00",
          "2011-09-16T00:00:00",
          "2011-09-20T00:00:00",
          "2011-09-22T00:00:00",
          "2011-09-23T00:00:00",
          "2011-09-26T00:00:00",
          "2011-09-27T00:00:00",
          "2011-09-29T00:00:00",
          "2011-09-30T00:00:00",
          "2011-10-03T00:00:00",
          "2011-10-07T00:00:00",
          "2011-10-10T00:00:00",
          "2011-10-11T00:00:00",
          "2011-10-14T00:00:00",
          "2011-10-17T00:00:00",
          "2011-10-18T00:00:00",
          "2011-10-20T00:00:00",
          "2011-10-21T00:00:00",
          "2011-10-24T00:00:00",
          "2011-10-25T00:00:00",
          "2011-10-26T00:00:00",
          "2011-10-27T00:00:00",
          "2011-10-28T00:00:00",
          "2011-10-31T00:00:00",
          "2011-11-01T00:00:00",
          "2011-11-03T00:00:00",
          "2011-11-07T00:00:00",
          "2011-11-08T00:00:00",
          "2011-11-09T00:00:00",
          "2011-11-10T00:00:00",
          "2011-11-11T00:00:00",
          "2011-11-18T00:00:00",
          "2011-11-23T00:00:00",
          "2011-11-25T00:00:00",
          "2011-11-29T00:00:00",
          "2011-11-30T00:00:00",
          "2011-12-01T00:00:00",
          "2011-12-05T00:00:00",
          "2011-12-06T00:00:00",
          "2011-12-07T00:00:00",
          "2011-12-08T00:00:00",
          "2011-12-09T00:00:00",
          "2011-12-13T00:00:00",
          "2011-12-15T00:00:00",
          "2011-12-16T00:00:00",
          "2011-12-20T00:00:00",
          "2011-12-22T00:00:00",
          "2011-12-24T00:00:00",
          "2011-12-28T00:00:00",
          "2011-12-29T00:00:00",
          "2011-12-30T00:00:00",
          "2012-01-03T00:00:00",
          "2012-01-04T00:00:00",
          "2012-01-05T00:00:00",
          "2012-01-06T00:00:00",
          "2012-01-09T00:00:00",
          "2012-01-10T00:00:00",
          "2012-01-12T00:00:00",
          "2012-01-13T00:00:00",
          "2012-01-17T00:00:00",
          "2012-01-18T00:00:00",
          "2012-01-23T00:00:00",
          "2012-01-24T00:00:00",
          "2012-01-25T00:00:00",
          "2012-01-26T00:00:00",
          "2012-01-27T00:00:00",
          "2012-01-31T00:00:00",
          "2012-02-02T00:00:00",
          "2012-02-03T00:00:00",
          "2012-02-06T00:00:00",
          "2012-02-08T00:00:00",
          "2012-02-09T00:00:00",
          "2012-02-10T00:00:00",
          "2012-02-13T00:00:00",
          "2012-02-16T00:00:00",
          "2012-02-18T00:00:00",
          "2012-02-21T00:00:00",
          "2012-02-23T00:00:00",
          "2012-02-24T00:00:00",
          "2012-02-27T00:00:00",
          "2012-02-28T00:00:00",
          "2012-02-29T00:00:00",
          "2012-03-01T00:00:00",
          "2012-03-02T00:00:00",
          "2012-03-05T00:00:00",
          "2012-03-07T00:00:00",
          "2012-03-08T00:00:00",
          "2012-03-09T00:00:00",
          "2012-03-10T00:00:00",
          "2012-03-13T00:00:00",
          "2012-03-14T00:00:00",
          "2012-03-15T00:00:00",
          "2012-03-16T00:00:00",
          "2012-03-21T00:00:00",
          "2012-03-22T00:00:00",
          "2012-03-23T00:00:00",
          "2012-03-26T00:00:00",
          "2012-03-27T00:00:00",
          "2012-03-28T00:00:00",
          "2012-03-29T00:00:00",
          "2012-03-30T00:00:00",
          "2012-04-04T00:00:00",
          "2012-04-05T00:00:00",
          "2012-04-09T00:00:00",
          "2012-04-10T00:00:00",
          "2012-04-11T00:00:00",
          "2012-04-12T00:00:00",
          "2012-04-16T00:00:00",
          "2012-04-18T00:00:00",
          "2012-04-19T00:00:00",
          "2012-04-20T00:00:00",
          "2012-04-24T00:00:00",
          "2012-04-25T00:00:00",
          "2012-04-26T00:00:00",
          "2012-04-27T00:00:00",
          "2012-04-30T00:00:00",
          "2012-05-01T00:00:00",
          "2012-05-04T00:00:00",
          "2012-05-07T00:00:00",
          "2012-05-08T00:00:00",
          "2012-05-14T00:00:00",
          "2012-05-15T00:00:00",
          "2012-05-16T00:00:00",
          "2012-05-18T00:00:00",
          "2012-05-21T00:00:00",
          "2012-05-23T00:00:00",
          "2012-05-24T00:00:00",
          "2012-05-25T00:00:00",
          "2012-05-29T00:00:00",
          "2012-05-31T00:00:00",
          "2012-06-01T00:00:00",
          "2012-06-04T00:00:00",
          "2012-06-05T00:00:00",
          "2012-06-07T00:00:00",
          "2012-06-08T00:00:00",
          "2012-06-11T00:00:00",
          "2012-06-12T00:00:00",
          "2012-06-14T00:00:00",
          "2012-06-15T00:00:00",
          "2012-06-19T00:00:00",
          "2012-06-20T00:00:00",
          "2012-06-22T00:00:00",
          "2012-06-25T00:00:00",
          "2012-06-26T00:00:00",
          "2012-06-28T00:00:00",
          "2012-06-29T00:00:00",
          "2012-07-03T00:00:00",
          "2012-07-05T00:00:00",
          "2012-07-09T00:00:00",
          "2012-07-11T00:00:00",
          "2012-07-12T00:00:00",
          "2012-07-13T00:00:00",
          "2012-07-17T00:00:00",
          "2012-07-18T00:00:00",
          "2012-07-19T00:00:00",
          "2012-07-20T00:00:00",
          "2012-07-23T00:00:00",
          "2012-07-24T00:00:00",
          "2012-07-26T00:00:00",
          "2012-07-27T00:00:00",
          "2012-07-31T00:00:00",
          "2012-08-01T00:00:00",
          "2012-08-02T00:00:00",
          "2012-08-03T00:00:00",
          "2012-08-07T00:00:00",
          "2012-08-08T00:00:00",
          "2012-08-10T00:00:00",
          "2012-08-13T00:00:00",
          "2012-08-16T00:00:00",
          "2012-08-17T00:00:00",
          "2012-08-22T00:00:00",
          "2012-08-23T00:00:00",
          "2012-08-27T00:00:00",
          "2012-08-30T00:00:00",
          "2012-09-05T00:00:00",
          "2012-09-07T00:00:00",
          "2012-09-10T00:00:00",
          "2012-09-11T00:00:00",
          "2012-09-12T00:00:00",
          "2012-09-13T00:00:00",
          "2012-09-14T00:00:00",
          "2012-09-17T00:00:00",
          "2012-09-18T00:00:00",
          "2012-09-20T00:00:00",
          "2012-09-21T00:00:00",
          "2012-09-24T00:00:00",
          "2012-09-27T00:00:00",
          "2012-09-28T00:00:00",
          "2012-10-01T00:00:00",
          "2012-10-02T00:00:00",
          "2012-10-03T00:00:00",
          "2012-10-05T00:00:00",
          "2012-10-09T00:00:00",
          "2012-10-10T00:00:00",
          "2012-10-12T00:00:00",
          "2012-10-15T00:00:00",
          "2012-10-16T00:00:00",
          "2012-10-17T00:00:00",
          "2012-10-18T00:00:00",
          "2012-10-19T00:00:00",
          "2012-10-22T00:00:00",
          "2012-10-25T00:00:00",
          "2012-10-31T00:00:00",
          "2012-11-01T00:00:00",
          "2012-11-05T00:00:00",
          "2012-11-06T00:00:00",
          "2012-11-07T00:00:00",
          "2012-11-08T00:00:00",
          "2012-11-09T00:00:00",
          "2012-11-13T00:00:00",
          "2012-11-14T00:00:00",
          "2012-11-15T00:00:00",
          "2012-11-16T00:00:00",
          "2012-11-20T00:00:00",
          "2012-11-21T00:00:00",
          "2012-11-23T00:00:00",
          "2012-11-26T00:00:00",
          "2012-11-28T00:00:00",
          "2012-11-29T00:00:00",
          "2012-11-30T00:00:00",
          "2012-12-03T00:00:00",
          "2012-12-04T00:00:00",
          "2012-12-05T00:00:00",
          "2012-12-06T00:00:00",
          "2012-12-10T00:00:00",
          "2012-12-13T00:00:00",
          "2012-12-18T00:00:00",
          "2012-12-20T00:00:00",
          "2012-12-21T00:00:00",
          "2012-12-27T00:00:00",
          "2012-12-31T00:00:00",
          "2013-01-02T00:00:00",
          "2013-01-03T00:00:00",
          "2013-01-04T00:00:00",
          "2013-01-07T00:00:00",
          "2013-01-08T00:00:00",
          "2013-01-09T00:00:00",
          "2013-01-10T00:00:00",
          "2013-01-11T00:00:00",
          "2013-01-15T00:00:00",
          "2013-01-16T00:00:00",
          "2013-01-17T00:00:00",
          "2013-01-18T00:00:00",
          "2013-01-22T00:00:00",
          "2013-01-23T00:00:00",
          "2013-01-24T00:00:00",
          "2013-01-25T00:00:00",
          "2013-01-29T00:00:00",
          "2013-01-30T00:00:00",
          "2013-01-31T00:00:00",
          "2013-02-01T00:00:00",
          "2013-02-05T00:00:00",
          "2013-02-07T00:00:00",
          "2013-02-08T00:00:00",
          "2013-02-15T00:00:00",
          "2013-02-20T00:00:00",
          "2013-02-21T00:00:00",
          "2013-02-22T00:00:00",
          "2013-02-25T00:00:00",
          "2013-02-27T00:00:00",
          "2013-02-28T00:00:00",
          "2013-03-01T00:00:00",
          "2013-03-04T00:00:00",
          "2013-03-07T00:00:00",
          "2013-03-08T00:00:00",
          "2013-03-11T00:00:00",
          "2013-03-13T00:00:00",
          "2013-03-14T00:00:00",
          "2013-03-15T00:00:00",
          "2013-03-20T00:00:00",
          "2013-03-22T00:00:00",
          "2013-03-25T00:00:00",
          "2013-04-03T00:00:00",
          "2013-04-04T00:00:00",
          "2013-04-05T00:00:00",
          "2013-04-08T00:00:00",
          "2013-04-11T00:00:00",
          "2013-04-12T00:00:00",
          "2013-04-15T00:00:00",
          "2013-04-16T00:00:00",
          "2013-04-17T00:00:00",
          "2013-04-18T00:00:00",
          "2013-04-19T00:00:00",
          "2013-04-24T00:00:00",
          "2013-04-26T00:00:00",
          "2013-04-29T00:00:00",
          "2013-04-30T00:00:00",
          "2013-05-02T00:00:00",
          "2013-05-03T00:00:00",
          "2013-05-06T00:00:00",
          "2013-05-08T00:00:00",
          "2013-05-09T00:00:00",
          "2013-05-10T00:00:00",
          "2013-05-14T00:00:00",
          "2013-05-15T00:00:00",
          "2013-05-16T00:00:00",
          "2013-05-17T00:00:00",
          "2013-05-20T00:00:00",
          "2013-05-21T00:00:00",
          "2013-05-22T00:00:00",
          "2013-05-23T00:00:00",
          "2013-05-30T00:00:00",
          "2013-05-31T00:00:00",
          "2013-06-03T00:00:00",
          "2013-06-05T00:00:00",
          "2013-06-06T00:00:00",
          "2013-06-10T00:00:00",
          "2013-06-11T00:00:00",
          "2013-06-12T00:00:00",
          "2013-06-17T00:00:00",
          "2013-06-18T00:00:00",
          "2013-06-20T00:00:00",
          "2013-06-21T00:00:00",
          "2013-06-24T00:00:00",
          "2013-06-25T00:00:00",
          "2013-06-27T00:00:00",
          "2013-06-28T00:00:00",
          "2013-07-01T00:00:00",
          "2013-07-02T00:00:00",
          "2013-07-03T00:00:00",
          "2013-07-05T00:00:00",
          "2013-07-08T00:00:00",
          "2013-07-10T00:00:00",
          "2013-07-12T00:00:00",
          "2013-07-15T00:00:00",
          "2013-07-16T00:00:00",
          "2013-07-17T00:00:00",
          "2013-07-19T00:00:00",
          "2013-07-22T00:00:00",
          "2013-07-24T00:00:00",
          "2013-07-25T00:00:00",
          "2013-07-26T00:00:00",
          "2013-07-30T00:00:00",
          "2013-07-31T00:00:00",
          "2013-08-01T00:00:00",
          "2013-08-02T00:00:00",
          "2013-08-05T00:00:00",
          "2013-08-06T00:00:00",
          "2013-08-08T00:00:00",
          "2013-08-13T00:00:00",
          "2013-08-15T00:00:00",
          "2013-08-21T00:00:00",
          "2013-08-22T00:00:00",
          "2013-08-26T00:00:00",
          "2013-08-28T00:00:00",
          "2013-08-29T00:00:00",
          "2013-09-04T00:00:00",
          "2013-09-05T00:00:00",
          "2013-09-06T00:00:00",
          "2013-09-10T00:00:00",
          "2013-09-11T00:00:00",
          "2013-09-12T00:00:00",
          "2013-09-18T00:00:00",
          "2013-09-19T00:00:00",
          "2013-09-20T00:00:00",
          "2013-09-24T00:00:00",
          "2013-09-30T00:00:00",
          "2013-10-02T00:00:00",
          "2013-10-03T00:00:00",
          "2013-10-08T00:00:00",
          "2013-10-10T00:00:00",
          "2013-10-11T00:00:00",
          "2013-10-15T00:00:00",
          "2013-10-16T00:00:00",
          "2013-10-17T00:00:00",
          "2013-10-18T00:00:00",
          "2013-10-21T00:00:00",
          "2013-10-23T00:00:00",
          "2013-10-25T00:00:00",
          "2013-10-28T00:00:00",
          "2013-10-30T00:00:00",
          "2013-10-31T00:00:00",
          "2013-11-05T00:00:00",
          "2013-11-07T00:00:00",
          "2013-11-08T00:00:00",
          "2013-11-13T00:00:00",
          "2013-11-14T00:00:00",
          "2013-11-15T00:00:00",
          "2013-11-18T00:00:00",
          "2013-11-19T00:00:00",
          "2013-11-20T00:00:00",
          "2013-11-21T00:00:00",
          "2013-11-25T00:00:00",
          "2013-11-27T00:00:00",
          "2013-11-29T00:00:00",
          "2013-12-03T00:00:00",
          "2013-12-04T00:00:00",
          "2013-12-05T00:00:00",
          "2013-12-09T00:00:00",
          "2013-12-10T00:00:00",
          "2013-12-11T00:00:00",
          "2013-12-12T00:00:00",
          "2013-12-13T00:00:00",
          "2013-12-17T00:00:00",
          "2013-12-18T00:00:00",
          "2013-12-19T00:00:00",
          "2013-12-20T00:00:00",
          "2013-12-26T00:00:00",
          "2013-12-27T00:00:00",
          "2013-12-31T00:00:00",
          "2014-01-03T00:00:00",
          "2014-01-06T00:00:00",
          "2014-01-07T00:00:00",
          "2014-01-08T00:00:00",
          "2014-01-10T00:00:00",
          "2014-01-13T00:00:00",
          "2014-01-16T00:00:00",
          "2014-01-17T00:00:00",
          "2014-01-21T00:00:00",
          "2014-01-22T00:00:00",
          "2014-01-23T00:00:00",
          "2014-01-24T00:00:00",
          "2014-01-27T00:00:00",
          "2014-01-29T00:00:00",
          "2014-01-30T00:00:00",
          "2014-01-31T00:00:00",
          "2014-02-04T00:00:00",
          "2014-02-05T00:00:00",
          "2014-02-06T00:00:00",
          "2014-02-07T00:00:00",
          "2014-02-09T00:00:00",
          "2014-02-10T00:00:00",
          "2014-02-11T00:00:00",
          "2014-02-13T00:00:00",
          "2014-02-14T00:00:00",
          "2014-02-18T00:00:00",
          "2014-02-19T00:00:00",
          "2014-02-20T00:00:00",
          "2014-02-21T00:00:00",
          "2014-02-24T00:00:00",
          "2014-02-25T00:00:00",
          "2014-02-26T00:00:00",
          "2014-02-27T00:00:00",
          "2014-03-03T00:00:00",
          "2014-03-04T00:00:00",
          "2014-03-05T00:00:00",
          "2014-03-06T00:00:00",
          "2014-03-07T00:00:00",
          "2014-03-10T00:00:00",
          "2014-03-11T00:00:00",
          "2014-03-12T00:00:00",
          "2014-03-13T00:00:00",
          "2014-03-17T00:00:00",
          "2014-03-18T00:00:00",
          "2014-03-19T00:00:00",
          "2014-03-20T00:00:00",
          "2014-03-21T00:00:00",
          "2014-03-22T00:00:00",
          "2014-03-25T00:00:00",
          "2014-03-26T00:00:00",
          "2014-03-27T00:00:00",
          "2014-03-28T00:00:00",
          "2014-04-01T00:00:00",
          "2014-04-02T00:00:00",
          "2014-04-03T00:00:00",
          "2014-04-07T00:00:00",
          "2014-04-08T00:00:00",
          "2014-04-10T00:00:00",
          "2014-04-11T00:00:00",
          "2014-04-14T00:00:00",
          "2014-04-15T00:00:00",
          "2014-04-16T00:00:00",
          "2014-04-17T00:00:00",
          "2014-04-18T00:00:00",
          "2014-04-21T00:00:00",
          "2014-04-22T00:00:00",
          "2014-04-23T00:00:00",
          "2014-04-24T00:00:00",
          "2014-04-25T00:00:00",
          "2014-04-28T00:00:00",
          "2014-04-29T00:00:00",
          "2014-04-30T00:00:00",
          "2014-05-02T00:00:00",
          "2014-05-05T00:00:00",
          "2014-05-06T00:00:00",
          "2014-05-07T00:00:00",
          "2014-05-08T00:00:00",
          "2014-05-09T00:00:00",
          "2014-05-13T00:00:00",
          "2014-05-14T00:00:00",
          "2014-05-15T00:00:00",
          "2014-05-16T00:00:00",
          "2014-05-19T00:00:00",
          "2014-05-21T00:00:00",
          "2014-05-22T00:00:00",
          "2014-05-23T00:00:00",
          "2014-05-27T00:00:00",
          "2014-05-28T00:00:00",
          "2014-05-29T00:00:00",
          "2014-05-30T00:00:00",
          "2014-06-02T00:00:00",
          "2014-06-03T00:00:00",
          "2014-06-04T00:00:00",
          "2014-06-09T00:00:00",
          "2014-06-10T00:00:00",
          "2014-06-12T00:00:00",
          "2014-06-13T00:00:00",
          "2014-06-16T00:00:00",
          "2014-06-18T00:00:00",
          "2014-06-19T00:00:00",
          "2014-06-23T00:00:00",
          "2014-06-24T00:00:00",
          "2014-06-27T00:00:00",
          "2014-07-01T00:00:00",
          "2014-07-02T00:00:00",
          "2014-07-03T00:00:00",
          "2014-07-07T00:00:00",
          "2014-07-10T00:00:00",
          "2014-07-11T00:00:00",
          "2014-07-15T00:00:00",
          "2014-07-18T00:00:00",
          "2014-07-22T00:00:00",
          "2014-07-23T00:00:00",
          "2014-07-24T00:00:00",
          "2014-07-25T00:00:00",
          "2014-07-26T00:00:00",
          "2014-07-27T00:00:00",
          "2014-07-28T00:00:00",
          "2014-07-29T00:00:00",
          "2014-07-30T00:00:00",
          "2014-07-31T00:00:00",
          "2014-08-01T00:00:00",
          "2014-08-04T00:00:00",
          "2014-08-05T00:00:00",
          "2014-08-07T00:00:00",
          "2014-08-08T00:00:00",
          "2014-08-13T00:00:00",
          "2014-08-14T00:00:00",
          "2014-08-15T00:00:00",
          "2014-08-18T00:00:00",
          "2014-08-20T00:00:00",
          "2014-08-21T00:00:00",
          "2014-08-22T00:00:00",
          "2014-08-23T00:00:00",
          "2014-08-25T00:00:00",
          "2014-08-26T00:00:00",
          "2014-08-27T00:00:00",
          "2014-08-28T00:00:00",
          "2014-08-29T00:00:00",
          "2014-09-01T00:00:00",
          "2014-09-02T00:00:00",
          "2014-09-05T00:00:00",
          "2014-09-09T00:00:00",
          "2014-09-10T00:00:00",
          "2014-09-11T00:00:00",
          "2014-09-12T00:00:00",
          "2014-09-15T00:00:00",
          "2014-09-17T00:00:00",
          "2014-09-18T00:00:00",
          "2014-09-22T00:00:00",
          "2014-09-24T00:00:00",
          "2014-09-29T00:00:00",
          "2014-09-30T00:00:00",
          "2014-10-02T00:00:00",
          "2014-10-03T00:00:00",
          "2014-10-07T00:00:00",
          "2014-10-08T00:00:00",
          "2014-10-09T00:00:00",
          "2014-10-10T00:00:00",
          "2014-10-13T00:00:00",
          "2014-10-14T00:00:00",
          "2014-10-15T00:00:00",
          "2014-10-17T00:00:00",
          "2014-10-18T00:00:00",
          "2014-10-19T00:00:00",
          "2014-10-20T00:00:00",
          "2014-10-21T00:00:00",
          "2014-10-22T00:00:00",
          "2014-10-24T00:00:00",
          "2014-10-29T00:00:00",
          "2014-10-30T00:00:00",
          "2014-10-31T00:00:00",
          "2014-11-03T00:00:00",
          "2014-11-04T00:00:00",
          "2014-11-05T00:00:00",
          "2014-11-06T00:00:00",
          "2014-11-07T00:00:00",
          "2014-11-10T00:00:00",
          "2014-11-12T00:00:00",
          "2014-11-13T00:00:00",
          "2014-11-14T00:00:00",
          "2014-11-18T00:00:00",
          "2014-11-19T00:00:00",
          "2014-11-20T00:00:00",
          "2014-11-21T00:00:00",
          "2014-11-24T00:00:00",
          "2014-11-25T00:00:00",
          "2014-11-26T00:00:00",
          "2014-11-28T00:00:00",
          "2014-12-01T00:00:00",
          "2014-12-03T00:00:00",
          "2014-12-04T00:00:00",
          "2014-12-05T00:00:00",
          "2014-12-08T00:00:00",
          "2014-12-09T00:00:00",
          "2014-12-10T00:00:00",
          "2014-12-12T00:00:00",
          "2014-12-14T00:00:00",
          "2014-12-16T00:00:00",
          "2014-12-17T00:00:00",
          "2014-12-18T00:00:00",
          "2014-12-19T00:00:00",
          "2014-12-20T00:00:00",
          "2014-12-22T00:00:00",
          "2014-12-23T00:00:00",
          "2014-12-26T00:00:00",
          "2014-12-29T00:00:00",
          "2014-12-31T00:00:00",
          "2015-01-02T00:00:00",
          "2015-01-05T00:00:00",
          "2015-01-06T00:00:00",
          "2015-01-07T00:00:00",
          "2015-01-08T00:00:00",
          "2015-01-09T00:00:00",
          "2015-01-14T00:00:00",
          "2015-01-16T00:00:00",
          "2015-01-20T00:00:00",
          "2015-01-22T00:00:00",
          "2015-01-23T00:00:00",
          "2015-01-27T00:00:00",
          "2015-01-28T00:00:00",
          "2015-01-29T00:00:00",
          "2015-01-30T00:00:00",
          "2015-02-01T00:00:00",
          "2015-02-02T00:00:00",
          "2015-02-03T00:00:00",
          "2015-02-04T00:00:00",
          "2015-02-05T00:00:00",
          "2015-02-09T00:00:00",
          "2015-02-11T00:00:00",
          "2015-02-12T00:00:00",
          "2015-02-17T00:00:00",
          "2015-02-19T00:00:00",
          "2015-02-23T00:00:00",
          "2015-02-24T00:00:00",
          "2015-02-25T00:00:00",
          "2015-02-26T00:00:00",
          "2015-03-02T00:00:00",
          "2015-03-03T00:00:00",
          "2015-03-04T00:00:00",
          "2015-03-05T00:00:00",
          "2015-03-06T00:00:00",
          "2015-03-09T00:00:00",
          "2015-03-10T00:00:00",
          "2015-03-11T00:00:00",
          "2015-03-12T00:00:00",
          "2015-03-16T00:00:00",
          "2015-03-17T00:00:00",
          "2015-03-18T00:00:00",
          "2015-03-19T00:00:00",
          "2015-03-20T00:00:00",
          "2015-03-23T00:00:00",
          "2015-03-24T00:00:00",
          "2015-03-25T00:00:00",
          "2015-03-26T00:00:00",
          "2015-03-27T00:00:00",
          "2015-03-30T00:00:00",
          "2015-03-31T00:00:00",
          "2015-04-01T00:00:00",
          "2015-04-02T00:00:00",
          "2015-04-06T00:00:00",
          "2015-04-07T00:00:00",
          "2015-04-08T00:00:00",
          "2015-04-10T00:00:00",
          "2015-04-13T00:00:00",
          "2015-04-14T00:00:00",
          "2015-04-15T00:00:00",
          "2015-04-16T00:00:00",
          "2015-04-17T00:00:00",
          "2015-04-20T00:00:00",
          "2015-04-21T00:00:00",
          "2015-04-22T00:00:00",
          "2015-04-24T00:00:00",
          "2015-04-27T00:00:00",
          "2015-04-28T00:00:00",
          "2015-04-29T00:00:00",
          "2015-04-30T00:00:00",
          "2015-05-01T00:00:00",
          "2015-05-04T00:00:00",
          "2015-05-05T00:00:00",
          "2015-05-06T00:00:00",
          "2015-05-07T00:00:00",
          "2015-05-08T00:00:00",
          "2015-05-11T00:00:00",
          "2015-05-12T00:00:00",
          "2015-05-15T00:00:00",
          "2015-05-18T00:00:00",
          "2015-05-19T00:00:00",
          "2015-05-20T00:00:00",
          "2015-05-21T00:00:00",
          "2015-05-22T00:00:00",
          "2015-05-27T00:00:00",
          "2015-05-28T00:00:00",
          "2015-05-29T00:00:00",
          "2015-06-01T00:00:00",
          "2015-06-02T00:00:00",
          "2015-06-04T00:00:00",
          "2015-06-05T00:00:00",
          "2015-06-08T00:00:00",
          "2015-06-09T00:00:00",
          "2015-06-10T00:00:00",
          "2015-06-11T00:00:00",
          "2015-06-12T00:00:00",
          "2015-06-15T00:00:00",
          "2015-06-16T00:00:00",
          "2015-06-17T00:00:00",
          "2015-06-18T00:00:00",
          "2015-06-19T00:00:00",
          "2015-06-22T00:00:00",
          "2015-06-24T00:00:00",
          "2015-06-25T00:00:00",
          "2015-06-26T00:00:00",
          "2015-06-29T00:00:00",
          "2015-06-30T00:00:00",
          "2015-07-02T00:00:00",
          "2015-07-06T00:00:00",
          "2015-07-07T00:00:00",
          "2015-07-08T00:00:00",
          "2015-07-09T00:00:00",
          "2015-07-10T00:00:00",
          "2015-07-13T00:00:00",
          "2015-07-15T00:00:00",
          "2015-07-16T00:00:00",
          "2015-07-17T00:00:00",
          "2015-07-20T00:00:00",
          "2015-07-21T00:00:00",
          "2015-07-22T00:00:00",
          "2015-07-23T00:00:00",
          "2015-07-24T00:00:00",
          "2015-07-27T00:00:00",
          "2015-07-30T00:00:00",
          "2015-07-31T00:00:00",
          "2015-08-03T00:00:00",
          "2015-08-04T00:00:00",
          "2015-08-06T00:00:00",
          "2015-08-07T00:00:00",
          "2015-08-10T00:00:00",
          "2015-08-11T00:00:00",
          "2015-08-12T00:00:00",
          "2015-08-13T00:00:00",
          "2015-08-17T00:00:00",
          "2015-08-18T00:00:00",
          "2015-08-19T00:00:00",
          "2015-08-20T00:00:00",
          "2015-08-21T00:00:00",
          "2015-08-24T00:00:00",
          "2015-08-25T00:00:00",
          "2015-08-26T00:00:00",
          "2015-08-27T00:00:00",
          "2015-08-28T00:00:00",
          "2015-08-29T00:00:00",
          "2015-08-31T00:00:00",
          "2015-09-01T00:00:00",
          "2015-09-04T00:00:00",
          "2015-09-05T00:00:00",
          "2015-09-09T00:00:00",
          "2015-09-11T00:00:00",
          "2015-09-14T00:00:00",
          "2015-09-15T00:00:00",
          "2015-09-17T00:00:00",
          "2015-09-18T00:00:00",
          "2015-09-22T00:00:00",
          "2015-09-24T00:00:00",
          "2015-09-25T00:00:00",
          "2015-09-28T00:00:00",
          "2015-09-29T00:00:00",
          "2015-09-30T00:00:00",
          "2015-10-01T00:00:00",
          "2015-10-02T00:00:00",
          "2015-10-05T00:00:00",
          "2015-10-06T00:00:00",
          "2015-10-08T00:00:00",
          "2015-10-09T00:00:00",
          "2015-10-13T00:00:00",
          "2015-10-14T00:00:00",
          "2015-10-15T00:00:00",
          "2015-10-16T00:00:00",
          "2015-10-19T00:00:00",
          "2015-10-20T00:00:00",
          "2015-10-22T00:00:00",
          "2015-10-23T00:00:00",
          "2015-10-26T00:00:00",
          "2015-10-27T00:00:00",
          "2015-10-28T00:00:00",
          "2015-10-30T00:00:00",
          "2015-11-06T00:00:00",
          "2015-11-09T00:00:00",
          "2015-11-10T00:00:00",
          "2015-11-11T00:00:00",
          "2015-11-12T00:00:00",
          "2015-11-13T00:00:00",
          "2015-11-16T00:00:00",
          "2015-11-17T00:00:00",
          "2015-11-19T00:00:00",
          "2015-11-20T00:00:00",
          "2015-11-21T00:00:00",
          "2015-11-23T00:00:00",
          "2015-11-24T00:00:00",
          "2015-11-25T00:00:00",
          "2015-11-27T00:00:00",
          "2015-11-30T00:00:00",
          "2015-12-01T00:00:00",
          "2015-12-02T00:00:00",
          "2015-12-03T00:00:00",
          "2015-12-04T00:00:00",
          "2015-12-08T00:00:00",
          "2015-12-09T00:00:00",
          "2015-12-10T00:00:00",
          "2015-12-14T00:00:00",
          "2015-12-15T00:00:00",
          "2015-12-16T00:00:00",
          "2015-12-17T00:00:00",
          "2015-12-18T00:00:00",
          "2015-12-21T00:00:00",
          "2015-12-22T00:00:00",
          "2015-12-23T00:00:00",
          "2015-12-24T00:00:00",
          "2015-12-28T00:00:00",
          "2015-12-31T00:00:00",
          "2016-01-04T00:00:00",
          "2016-01-05T00:00:00",
          "2016-01-06T00:00:00",
          "2016-01-07T00:00:00",
          "2016-01-08T00:00:00",
          "2016-01-12T00:00:00",
          "2016-01-14T00:00:00",
          "2016-01-15T00:00:00",
          "2016-01-19T00:00:00",
          "2016-01-20T00:00:00",
          "2016-01-21T00:00:00",
          "2016-01-25T00:00:00",
          "2016-01-26T00:00:00",
          "2016-01-29T00:00:00",
          "2016-02-02T00:00:00",
          "2016-02-03T00:00:00",
          "2016-02-04T00:00:00",
          "2016-02-05T00:00:00",
          "2016-02-08T00:00:00",
          "2016-02-09T00:00:00",
          "2016-02-11T00:00:00",
          "2016-02-12T00:00:00",
          "2016-02-15T00:00:00",
          "2016-02-16T00:00:00",
          "2016-02-17T00:00:00",
          "2016-02-18T00:00:00",
          "2016-02-19T00:00:00",
          "2016-02-24T00:00:00",
          "2016-02-25T00:00:00",
          "2016-02-26T00:00:00",
          "2016-02-29T00:00:00",
          "2016-03-01T00:00:00",
          "2016-03-02T00:00:00",
          "2016-03-03T00:00:00",
          "2016-03-04T00:00:00",
          "2016-03-08T00:00:00",
          "2016-03-09T00:00:00",
          "2016-03-10T00:00:00",
          "2016-03-14T00:00:00",
          "2016-03-15T00:00:00",
          "2016-03-16T00:00:00",
          "2016-03-17T00:00:00",
          "2016-03-18T00:00:00",
          "2016-03-20T00:00:00",
          "2016-03-21T00:00:00",
          "2016-03-22T00:00:00",
          "2016-03-23T00:00:00",
          "2016-03-24T00:00:00",
          "2016-03-28T00:00:00",
          "2016-03-31T00:00:00",
          "2016-04-01T00:00:00",
          "2016-04-04T00:00:00",
          "2016-04-05T00:00:00",
          "2016-04-06T00:00:00",
          "2016-04-10T00:00:00",
          "2016-04-11T00:00:00",
          "2016-04-13T00:00:00",
          "2016-04-14T00:00:00",
          "2016-04-15T00:00:00",
          "2016-04-18T00:00:00",
          "2016-04-19T00:00:00",
          "2016-04-20T00:00:00",
          "2016-04-22T00:00:00",
          "2016-04-26T00:00:00",
          "2016-04-27T00:00:00",
          "2016-04-28T00:00:00",
          "2016-04-29T00:00:00",
          "2016-05-03T00:00:00",
          "2016-05-04T00:00:00",
          "2016-05-05T00:00:00",
          "2016-05-06T00:00:00",
          "2016-05-09T00:00:00",
          "2016-05-10T00:00:00",
          "2016-05-11T00:00:00",
          "2016-05-13T00:00:00",
          "2016-05-17T00:00:00",
          "2016-05-18T00:00:00",
          "2016-05-23T00:00:00",
          "2016-05-24T00:00:00",
          "2016-05-25T00:00:00",
          "2016-05-26T00:00:00",
          "2016-05-31T00:00:00",
          "2016-06-01T00:00:00",
          "2016-06-02T00:00:00",
          "2016-06-04T00:00:00",
          "2016-06-06T00:00:00",
          "2016-06-07T00:00:00",
          "2016-06-08T00:00:00",
          "2016-06-13T00:00:00",
          "2016-06-15T00:00:00",
          "2016-06-17T00:00:00",
          "2016-06-20T00:00:00",
          "2016-06-21T00:00:00",
          "2016-06-22T00:00:00",
          "2016-06-23T00:00:00",
          "2016-06-24T00:00:00",
          "2016-06-27T00:00:00",
          "2016-06-28T00:00:00",
          "2016-06-29T00:00:00",
          "2016-06-30T00:00:00",
          "2016-07-05T00:00:00",
          "2016-07-06T00:00:00",
          "2016-07-07T00:00:00",
          "2016-07-12T00:00:00",
          "2016-07-13T00:00:00",
          "2016-07-14T00:00:00",
          "2016-07-18T00:00:00",
          "2016-07-19T00:00:00",
          "2016-07-20T00:00:00",
          "2016-07-22T00:00:00",
          "2016-07-25T00:00:00",
          "2016-07-26T00:00:00",
          "2016-07-27T00:00:00",
          "2016-07-28T00:00:00",
          "2016-08-01T00:00:00",
          "2016-08-02T00:00:00",
          "2016-08-03T00:00:00",
          "2016-08-04T00:00:00",
          "2016-08-05T00:00:00",
          "2016-08-09T00:00:00",
          "2016-08-10T00:00:00",
          "2016-08-11T00:00:00",
          "2016-08-12T00:00:00",
          "2016-08-15T00:00:00",
          "2016-08-19T00:00:00",
          "2016-08-23T00:00:00",
          "2016-08-24T00:00:00",
          "2016-08-26T00:00:00",
          "2016-08-29T00:00:00",
          "2016-08-30T00:00:00",
          "2016-08-31T00:00:00",
          "2016-09-01T00:00:00",
          "2016-09-02T00:00:00",
          "2016-09-06T00:00:00",
          "2016-09-07T00:00:00",
          "2016-09-09T00:00:00",
          "2016-09-13T00:00:00",
          "2016-09-14T00:00:00",
          "2016-09-18T00:00:00",
          "2016-09-19T00:00:00",
          "2016-09-20T00:00:00",
          "2016-09-21T00:00:00",
          "2016-09-22T00:00:00",
          "2016-09-23T00:00:00",
          "2016-09-27T00:00:00",
          "2016-09-28T00:00:00",
          "2016-09-29T00:00:00",
          "2016-09-30T00:00:00",
          "2016-10-05T00:00:00",
          "2016-10-06T00:00:00",
          "2016-10-07T00:00:00",
          "2016-10-13T00:00:00",
          "2016-10-14T00:00:00",
          "2016-10-16T00:00:00",
          "2016-10-17T00:00:00",
          "2016-10-18T00:00:00",
          "2016-10-21T00:00:00",
          "2016-10-24T00:00:00",
          "2016-10-26T00:00:00",
          "2016-10-29T00:00:00",
          "2016-10-31T00:00:00",
          "2016-11-01T00:00:00",
          "2016-11-02T00:00:00",
          "2016-11-03T00:00:00",
          "2016-11-04T00:00:00",
          "2016-11-07T00:00:00",
          "2016-11-09T00:00:00",
          "2016-11-10T00:00:00",
          "2016-11-14T00:00:00",
          "2016-11-16T00:00:00",
          "2016-11-17T00:00:00",
          "2016-11-21T00:00:00",
          "2016-11-25T00:00:00",
          "2016-11-28T00:00:00",
          "2016-11-30T00:00:00",
          "2016-12-01T00:00:00",
          "2016-12-02T00:00:00",
          "2016-12-03T00:00:00",
          "2016-12-05T00:00:00",
          "2016-12-06T00:00:00",
          "2016-12-07T00:00:00",
          "2016-12-08T00:00:00",
          "2016-12-09T00:00:00",
          "2016-12-12T00:00:00",
          "2016-12-13T00:00:00",
          "2016-12-14T00:00:00",
          "2016-12-15T00:00:00",
          "2016-12-16T00:00:00",
          "2016-12-19T00:00:00",
          "2016-12-22T00:00:00",
          "2016-12-30T00:00:00",
          "2017-01-03T00:00:00",
          "2017-01-04T00:00:00",
          "2017-01-05T00:00:00",
          "2017-01-06T00:00:00",
          "2017-01-07T00:00:00",
          "2017-01-08T00:00:00",
          "2017-01-10T00:00:00",
          "2017-01-12T00:00:00",
          "2017-01-13T00:00:00",
          "2017-01-17T00:00:00",
          "2017-01-18T00:00:00",
          "2017-01-23T00:00:00",
          "2017-01-24T00:00:00",
          "2017-01-27T00:00:00",
          "2017-01-31T00:00:00",
          "2017-02-02T00:00:00",
          "2017-02-03T00:00:00",
          "2017-02-06T00:00:00",
          "2017-02-09T00:00:00",
          "2017-02-10T00:00:00",
          "2017-02-13T00:00:00",
          "2017-02-14T00:00:00",
          "2017-02-15T00:00:00",
          "2017-02-16T00:00:00",
          "2017-02-17T00:00:00",
          "2017-02-21T00:00:00",
          "2017-02-24T00:00:00",
          "2017-02-28T00:00:00",
          "2017-03-01T00:00:00",
          "2017-03-03T00:00:00",
          "2017-03-06T00:00:00",
          "2017-03-07T00:00:00",
          "2017-03-09T00:00:00",
          "2017-03-10T00:00:00",
          "2017-03-13T00:00:00",
          "2017-03-14T00:00:00",
          "2017-03-15T00:00:00",
          "2017-03-16T00:00:00",
          "2017-03-17T00:00:00",
          "2017-03-20T00:00:00",
          "2017-03-21T00:00:00",
          "2017-03-22T00:00:00",
          "2017-03-24T00:00:00",
          "2017-03-28T00:00:00",
          "2017-03-30T00:00:00",
          "2017-03-31T00:00:00",
          "2017-04-04T00:00:00",
          "2017-04-05T00:00:00",
          "2017-04-06T00:00:00",
          "2017-04-07T00:00:00",
          "2017-04-12T00:00:00",
          "2017-04-13T00:00:00",
          "2017-04-14T00:00:00",
          "2017-04-17T00:00:00",
          "2017-04-18T00:00:00",
          "2017-04-19T00:00:00",
          "2017-04-21T00:00:00",
          "2017-04-22T00:00:00",
          "2017-04-24T00:00:00",
          "2017-04-25T00:00:00",
          "2017-04-26T00:00:00",
          "2017-04-27T00:00:00",
          "2017-04-28T00:00:00",
          "2017-05-02T00:00:00",
          "2017-05-03T00:00:00",
          "2017-05-10T00:00:00",
          "2017-05-11T00:00:00",
          "2017-05-16T00:00:00",
          "2017-05-18T00:00:00",
          "2017-05-23T00:00:00",
          "2017-05-24T00:00:00",
          "2017-05-26T00:00:00",
          "2017-05-31T00:00:00",
          "2017-06-01T00:00:00",
          "2017-06-06T00:00:00",
          "2017-06-08T00:00:00",
          "2017-06-09T00:00:00",
          "2017-06-12T00:00:00",
          "2017-06-14T00:00:00",
          "2017-06-16T00:00:00",
          "2017-06-19T00:00:00",
          "2017-06-20T00:00:00",
          "2017-06-26T00:00:00",
          "2017-06-27T00:00:00",
          "2017-07-05T00:00:00",
          "2017-07-06T00:00:00",
          "2017-07-07T00:00:00",
          "2017-07-10T00:00:00",
          "2017-07-11T00:00:00",
          "2017-07-12T00:00:00",
          "2017-07-13T00:00:00",
          "2017-07-14T00:00:00",
          "2017-07-17T00:00:00",
          "2017-07-18T00:00:00",
          "2017-07-20T00:00:00",
          "2017-07-21T00:00:00",
          "2017-07-24T00:00:00",
          "2017-07-25T00:00:00",
          "2017-07-26T00:00:00",
          "2017-07-31T00:00:00",
          "2017-08-01T00:00:00",
          "2017-08-03T00:00:00",
          "2017-08-04T00:00:00",
          "2017-08-08T00:00:00",
          "2017-08-09T00:00:00",
          "2017-08-10T00:00:00",
          "2017-08-15T00:00:00",
          "2017-08-17T00:00:00",
          "2017-08-18T00:00:00",
          "2017-08-21T00:00:00",
          "2017-08-22T00:00:00",
          "2017-08-23T00:00:00",
          "2017-08-25T00:00:00",
          "2017-08-28T00:00:00",
          "2017-08-30T00:00:00",
          "2017-08-31T00:00:00",
          "2017-09-03T00:00:00",
          "2017-09-05T00:00:00",
          "2017-09-06T00:00:00",
          "2017-09-07T00:00:00",
          "2017-09-12T00:00:00",
          "2017-09-13T00:00:00",
          "2017-09-15T00:00:00",
          "2017-09-19T00:00:00",
          "2017-09-20T00:00:00",
          "2017-09-21T00:00:00",
          "2017-09-22T00:00:00",
          "2017-09-25T00:00:00",
          "2017-09-27T00:00:00",
          "2017-09-28T00:00:00",
          "2017-09-29T00:00:00",
          "2017-10-03T00:00:00",
          "2017-10-05T00:00:00",
          "2017-10-09T00:00:00",
          "2017-10-10T00:00:00",
          "2017-10-11T00:00:00",
          "2017-10-13T00:00:00",
          "2017-10-18T00:00:00",
          "2017-10-19T00:00:00",
          "2017-10-23T00:00:00",
          "2017-10-24T00:00:00",
          "2017-10-25T00:00:00",
          "2017-10-26T00:00:00",
          "2017-10-31T00:00:00",
          "2017-11-02T00:00:00",
          "2017-11-06T00:00:00",
          "2017-11-07T00:00:00",
          "2017-11-08T00:00:00",
          "2017-11-10T00:00:00",
          "2017-11-13T00:00:00",
          "2017-11-14T00:00:00",
          "2017-11-15T00:00:00",
          "2017-11-17T00:00:00",
          "2017-11-21T00:00:00",
          "2017-11-24T00:00:00",
          "2017-11-29T00:00:00",
          "2017-11-30T00:00:00",
          "2017-12-01T00:00:00",
          "2017-12-04T00:00:00",
          "2017-12-05T00:00:00",
          "2017-12-06T00:00:00",
          "2017-12-11T00:00:00",
          "2017-12-12T00:00:00",
          "2017-12-13T00:00:00",
          "2017-12-15T00:00:00",
          "2017-12-18T00:00:00",
          "2017-12-19T00:00:00",
          "2017-12-20T00:00:00",
          "2017-12-21T00:00:00",
          "2018-01-02T00:00:00",
          "2018-01-04T00:00:00",
          "2018-01-05T00:00:00",
          "2018-01-08T00:00:00",
          "2018-01-10T00:00:00",
          "2018-01-12T00:00:00",
          "2018-01-16T00:00:00",
          "2018-01-17T00:00:00",
          "2018-01-18T00:00:00",
          "2018-01-19T00:00:00",
          "2018-01-22T00:00:00",
          "2018-01-23T00:00:00",
          "2018-01-24T00:00:00",
          "2018-01-29T00:00:00",
          "2018-01-30T00:00:00",
          "2018-01-31T00:00:00",
          "2018-02-01T00:00:00",
          "2018-02-02T00:00:00",
          "2018-02-05T00:00:00",
          "2018-02-06T00:00:00",
          "2018-02-07T00:00:00",
          "2018-02-08T00:00:00",
          "2018-02-09T00:00:00",
          "2018-02-12T00:00:00",
          "2018-02-13T00:00:00",
          "2018-02-14T00:00:00",
          "2018-02-15T00:00:00",
          "2018-02-21T00:00:00",
          "2018-02-22T00:00:00",
          "2018-02-26T00:00:00",
          "2018-02-27T00:00:00",
          "2018-02-28T00:00:00",
          "2018-03-02T00:00:00",
          "2018-03-05T00:00:00",
          "2018-03-06T00:00:00",
          "2018-03-07T00:00:00",
          "2018-03-12T00:00:00",
          "2018-03-13T00:00:00",
          "2018-03-14T00:00:00",
          "2018-03-15T00:00:00",
          "2018-03-16T00:00:00",
          "2018-03-19T00:00:00",
          "2018-03-21T00:00:00",
          "2018-03-23T00:00:00",
          "2018-03-26T00:00:00",
          "2018-03-29T00:00:00",
          "2018-04-02T00:00:00",
          "2018-04-03T00:00:00",
          "2018-04-04T00:00:00",
          "2018-04-05T00:00:00",
          "2018-04-06T00:00:00",
          "2018-04-09T00:00:00",
          "2018-04-10T00:00:00",
          "2018-04-11T00:00:00",
          "2018-04-12T00:00:00",
          "2018-04-13T00:00:00",
          "2018-04-16T00:00:00",
          "2018-04-18T00:00:00",
          "2018-04-19T00:00:00",
          "2018-04-20T00:00:00",
          "2018-04-24T00:00:00",
          "2018-04-25T00:00:00",
          "2018-04-27T00:00:00",
          "2018-04-30T00:00:00",
          "2018-05-01T00:00:00",
          "2018-05-02T00:00:00",
          "2018-05-03T00:00:00",
          "2018-05-04T00:00:00",
          "2018-05-07T00:00:00",
          "2018-05-08T00:00:00",
          "2018-05-09T00:00:00",
          "2018-05-11T00:00:00",
          "2018-05-14T00:00:00",
          "2018-05-15T00:00:00",
          "2018-05-17T00:00:00",
          "2018-05-21T00:00:00",
          "2018-05-23T00:00:00",
          "2018-05-24T00:00:00",
          "2018-05-25T00:00:00",
          "2018-05-28T00:00:00",
          "2018-05-30T00:00:00",
          "2018-05-31T00:00:00",
          "2018-06-04T00:00:00",
          "2018-06-05T00:00:00",
          "2018-06-06T00:00:00",
          "2018-06-07T00:00:00",
          "2018-06-08T00:00:00",
          "2018-06-11T00:00:00",
          "2018-06-12T00:00:00",
          "2018-06-15T00:00:00",
          "2018-06-18T00:00:00",
          "2018-06-19T00:00:00",
          "2018-06-20T00:00:00",
          "2018-06-22T00:00:00",
          "2018-06-26T00:00:00",
          "2018-06-27T00:00:00",
          "2018-06-29T00:00:00",
          "2018-07-02T00:00:00",
          "2018-07-05T00:00:00",
          "2018-07-06T00:00:00",
          "2018-07-10T00:00:00",
          "2018-07-11T00:00:00",
          "2018-07-12T00:00:00",
          "2018-07-13T00:00:00",
          "2018-07-16T00:00:00",
          "2018-07-17T00:00:00",
          "2018-07-18T00:00:00",
          "2018-07-19T00:00:00",
          "2018-07-24T00:00:00",
          "2018-07-25T00:00:00",
          "2018-07-26T00:00:00",
          "2018-07-27T00:00:00",
          "2018-07-30T00:00:00",
          "2018-07-31T00:00:00",
          "2018-08-02T00:00:00",
          "2018-08-03T00:00:00",
          "2018-08-06T00:00:00",
          "2018-08-08T00:00:00",
          "2018-08-09T00:00:00",
          "2018-08-10T00:00:00",
          "2018-08-13T00:00:00",
          "2018-08-14T00:00:00",
          "2018-08-15T00:00:00",
          "2018-08-16T00:00:00",
          "2018-08-17T00:00:00",
          "2018-08-20T00:00:00",
          "2018-08-21T00:00:00",
          "2018-08-22T00:00:00",
          "2018-08-23T00:00:00",
          "2018-08-24T00:00:00",
          "2018-08-27T00:00:00",
          "2018-08-28T00:00:00",
          "2018-08-31T00:00:00",
          "2018-09-05T00:00:00",
          "2018-09-11T00:00:00",
          "2018-09-12T00:00:00",
          "2018-09-13T00:00:00",
          "2018-09-14T00:00:00",
          "2018-09-17T00:00:00",
          "2018-09-18T00:00:00",
          "2018-09-19T00:00:00",
          "2018-09-20T00:00:00",
          "2018-09-21T00:00:00",
          "2018-09-24T00:00:00",
          "2018-09-25T00:00:00",
          "2018-09-26T00:00:00",
          "2018-09-27T00:00:00",
          "2018-09-28T00:00:00",
          "2018-10-01T00:00:00",
          "2018-10-02T00:00:00",
          "2018-10-03T00:00:00",
          "2018-10-04T00:00:00",
          "2018-10-08T00:00:00",
          "2018-10-09T00:00:00",
          "2018-10-10T00:00:00",
          "2018-10-11T00:00:00",
          "2018-10-15T00:00:00",
          "2018-10-17T00:00:00",
          "2018-10-18T00:00:00",
          "2018-10-19T00:00:00",
          "2018-10-22T00:00:00",
          "2018-10-23T00:00:00",
          "2018-10-24T00:00:00",
          "2018-10-25T00:00:00",
          "2018-10-26T00:00:00",
          "2018-10-29T00:00:00",
          "2018-10-30T00:00:00",
          "2018-10-31T00:00:00",
          "2018-11-02T00:00:00",
          "2018-11-05T00:00:00",
          "2018-11-06T00:00:00",
          "2018-11-08T00:00:00",
          "2018-11-09T00:00:00",
          "2018-11-14T00:00:00",
          "2018-11-15T00:00:00",
          "2018-11-16T00:00:00",
          "2018-11-19T00:00:00",
          "2018-11-21T00:00:00",
          "2018-11-26T00:00:00",
          "2018-11-27T00:00:00",
          "2018-11-28T00:00:00",
          "2018-11-29T00:00:00",
          "2018-11-30T00:00:00",
          "2018-12-03T00:00:00",
          "2018-12-04T00:00:00",
          "2018-12-06T00:00:00",
          "2018-12-11T00:00:00",
          "2018-12-12T00:00:00",
          "2018-12-13T00:00:00",
          "2018-12-14T00:00:00",
          "2018-12-17T00:00:00",
          "2018-12-19T00:00:00",
          "2018-12-20T00:00:00",
          "2018-12-21T00:00:00",
          "2018-12-26T00:00:00",
          "2019-01-03T00:00:00",
          "2019-01-07T00:00:00",
          "2019-01-08T00:00:00",
          "2019-01-10T00:00:00",
          "2019-01-11T00:00:00",
          "2019-01-14T00:00:00",
          "2019-01-15T00:00:00",
          "2019-01-16T00:00:00",
          "2019-01-17T00:00:00",
          "2019-01-18T00:00:00",
          "2019-01-22T00:00:00",
          "2019-01-23T00:00:00",
          "2019-01-24T00:00:00",
          "2019-01-25T00:00:00",
          "2019-01-28T00:00:00",
          "2019-01-29T00:00:00",
          "2019-01-30T00:00:00",
          "2019-01-31T00:00:00",
          "2019-02-01T00:00:00",
          "2019-02-05T00:00:00",
          "2019-02-06T00:00:00",
          "2019-02-07T00:00:00",
          "2019-02-15T00:00:00",
          "2019-02-19T00:00:00",
          "2019-02-20T00:00:00",
          "2019-02-21T00:00:00",
          "2019-02-24T00:00:00",
          "2019-02-25T00:00:00",
          "2019-02-26T00:00:00",
          "2019-02-28T00:00:00",
          "2019-03-06T00:00:00",
          "2019-03-11T00:00:00",
          "2019-03-25T00:00:00",
          "2019-03-26T00:00:00",
          "2019-03-27T00:00:00",
          "2019-04-01T00:00:00",
          "2019-04-04T00:00:00",
          "2019-04-05T00:00:00",
          "2019-04-08T00:00:00",
          "2019-04-24T00:00:00",
          "2019-04-27T00:00:00",
          "2019-04-30T00:00:00",
          "2019-05-06T00:00:00",
          "2019-05-07T00:00:00",
          "2019-05-08T00:00:00",
          "2019-05-09T00:00:00",
          "2019-05-13T00:00:00",
          "2019-05-15T00:00:00",
          "2019-05-20T00:00:00",
          "2019-05-21T00:00:00",
          "2019-05-23T00:00:00",
          "2019-05-28T00:00:00",
          "2019-05-31T00:00:00",
          "2019-06-06T00:00:00",
          "2019-06-10T00:00:00",
          "2019-06-11T00:00:00",
          "2019-06-19T00:00:00",
          "2019-06-20T00:00:00",
          "2019-06-23T00:00:00",
          "2019-06-25T00:00:00",
          "2019-07-01T00:00:00",
          "2019-07-04T00:00:00",
          "2019-07-08T00:00:00",
          "2019-07-16T00:00:00",
          "2019-07-18T00:00:00",
          "2019-07-23T00:00:00",
          "2019-07-25T00:00:00",
          "2019-07-26T00:00:00",
          "2019-07-29T00:00:00",
          "2019-07-30T00:00:00",
          "2019-07-31T00:00:00",
          "2019-08-06T00:00:00",
          "2019-08-07T00:00:00",
          "2019-08-12T00:00:00",
          "2019-08-21T00:00:00",
          "2019-08-28T00:00:00",
          "2019-08-30T00:00:00",
          "2019-09-05T00:00:00",
          "2019-09-10T00:00:00",
          "2019-09-13T00:00:00",
          "2019-09-15T00:00:00",
          "2019-09-18T00:00:00",
          "2019-09-19T00:00:00",
          "2019-09-24T00:00:00",
          "2019-09-25T00:00:00",
          "2019-10-01T00:00:00",
          "2019-10-04T00:00:00",
          "2019-10-08T00:00:00",
          "2019-10-21T00:00:00",
          "2019-10-22T00:00:00",
          "2019-10-23T00:00:00",
          "2019-11-03T00:00:00",
          "2019-11-04T00:00:00",
          "2019-11-05T00:00:00",
          "2019-11-06T00:00:00",
          "2019-11-07T00:00:00",
          "2019-11-08T00:00:00",
          "2019-11-12T00:00:00",
          "2019-11-13T00:00:00",
          "2019-11-21T00:00:00",
          "2019-11-26T00:00:00",
          "2019-11-29T00:00:00",
          "2019-12-03T00:00:00",
          "2019-12-04T00:00:00",
          "2019-12-05T00:00:00",
          "2019-12-09T00:00:00",
          "2019-12-10T00:00:00",
          "2019-12-12T00:00:00",
          "2019-12-18T00:00:00",
          "2019-12-27T00:00:00",
          "2020-01-06T00:00:00",
          "2020-01-07T00:00:00",
          "2020-01-08T00:00:00",
          "2020-01-13T00:00:00",
          "2020-01-24T00:00:00",
          "2020-01-28T00:00:00",
          "2020-01-29T00:00:00",
          "2020-01-30T00:00:00",
          "2020-02-06T00:00:00",
          "2020-02-07T00:00:00",
          "2020-02-12T00:00:00",
          "2020-02-28T00:00:00",
          "2020-03-03T00:00:00",
          "2020-03-05T00:00:00",
          "2020-03-06T00:00:00",
          "2020-03-09T00:00:00",
          "2020-03-10T00:00:00",
          "2020-03-12T00:00:00",
          "2020-03-16T00:00:00",
          "2020-03-17T00:00:00",
          "2020-03-20T00:00:00",
          "2020-03-23T00:00:00",
          "2020-03-24T00:00:00",
          "2020-03-25T00:00:00",
          "2020-03-26T00:00:00",
          "2020-03-28T00:00:00",
          "2020-03-30T00:00:00",
          "2020-03-31T00:00:00",
          "2020-04-06T00:00:00",
          "2020-04-08T00:00:00",
          "2020-04-09T00:00:00",
          "2020-04-14T00:00:00",
          "2020-04-20T00:00:00",
          "2020-04-21T00:00:00",
          "2020-04-22T00:00:00",
          "2020-04-28T00:00:00",
          "2020-04-29T00:00:00",
          "2020-04-30T00:00:00",
          "2020-05-01T00:00:00",
          "2020-05-07T00:00:00",
          "2020-05-09T00:00:00",
          "2020-05-13T00:00:00",
          "2020-05-14T00:00:00",
          "2020-05-19T00:00:00",
          "2020-05-20T00:00:00",
          "2020-05-22T00:00:00",
          "2020-05-27T00:00:00",
          "2020-05-29T00:00:00",
          "2020-06-04T00:00:00",
          "2020-06-09T00:00:00",
          "2020-06-15T00:00:00",
          "2020-06-16T00:00:00",
          "2020-06-17T00:00:00",
          "2020-06-18T00:00:00",
          "2020-06-19T00:00:00",
          "2020-06-30T00:00:00",
          "2020-07-01T00:00:00",
          "2020-07-06T00:00:00",
          "2020-07-15T00:00:00",
          "2020-07-21T00:00:00",
          "2020-07-22T00:00:00",
          "2020-07-24T00:00:00",
          "2020-07-27T00:00:00",
          "2020-07-28T00:00:00",
          "2020-07-29T00:00:00",
          "2020-07-30T00:00:00",
          "2020-08-05T00:00:00",
          "2020-08-06T00:00:00",
          "2020-08-10T00:00:00",
          "2020-08-13T00:00:00",
          "2020-08-14T00:00:00",
          "2020-08-15T00:00:00",
          "2020-08-16T00:00:00",
          "2020-08-25T00:00:00",
          "2020-08-31T00:00:00",
          "2020-09-01T00:00:00",
          "2020-09-03T00:00:00",
          "2020-09-04T00:00:00",
          "2020-09-09T00:00:00",
          "2020-09-18T00:00:00",
          "2020-09-21T00:00:00",
          "2020-09-30T00:00:00",
          "2020-10-05T00:00:00",
          "2020-10-06T00:00:00",
          "2020-10-07T00:00:00",
          "2020-10-08T00:00:00",
          "2020-10-15T00:00:00",
          "2020-10-23T00:00:00",
          "2020-10-24T00:00:00",
          "2020-10-29T00:00:00",
          "2020-10-30T00:00:00",
          "2020-11-02T00:00:00",
          "2020-11-06T00:00:00",
          "2020-11-09T00:00:00",
          "2020-11-13T00:00:00",
          "2020-11-16T00:00:00",
          "2020-12-02T00:00:00",
          "2020-12-04T00:00:00",
          "2020-12-07T00:00:00",
          "2020-12-08T00:00:00",
          "2020-12-14T00:00:00",
          "2020-12-17T00:00:00",
          "2020-12-18T00:00:00",
          "2020-12-22T00:00:00",
          "2021-01-04T00:00:00",
          "2021-01-06T00:00:00",
          "2021-01-07T00:00:00",
          "2021-01-13T00:00:00",
          "2021-01-21T00:00:00",
          "2021-01-22T00:00:00",
          "2021-01-26T00:00:00",
          "2021-01-27T00:00:00",
          "2021-01-28T00:00:00",
          "2021-02-02T00:00:00",
          "2021-02-04T00:00:00",
          "2021-02-05T00:00:00",
          "2021-02-18T00:00:00",
          "2021-02-27T00:00:00",
          "2021-03-01T00:00:00",
          "2021-03-04T00:00:00",
          "2021-03-17T00:00:00",
          "2021-03-18T00:00:00",
          "2021-03-30T00:00:00",
          "2021-04-06T00:00:00",
          "2021-04-14T00:00:00",
          "2021-04-21T00:00:00",
          "2021-04-23T00:00:00",
          "2021-04-26T00:00:00",
          "2021-04-29T00:00:00",
          "2021-04-30T00:00:00",
          "2021-05-05T00:00:00",
          "2021-05-07T00:00:00",
          "2021-05-12T00:00:00",
          "2021-05-13T00:00:00",
          "2021-05-18T00:00:00",
          "2021-05-19T00:00:00",
          "2021-05-20T00:00:00",
          "2021-05-21T00:00:00",
          "2021-06-03T00:00:00",
          "2021-06-04T00:00:00",
          "2021-06-10T00:00:00",
          "2021-06-11T00:00:00",
          "2021-06-14T00:00:00",
          "2021-06-20T00:00:00",
          "2021-06-22T00:00:00",
          "2021-06-30T00:00:00",
          "2021-07-06T00:00:00",
          "2021-07-12T00:00:00",
          "2021-07-20T00:00:00",
          "2021-07-22T00:00:00",
          "2021-07-23T00:00:00",
          "2021-07-26T00:00:00",
          "2021-07-27T00:00:00",
          "2021-07-28T00:00:00",
          "2021-08-02T00:00:00",
          "2021-08-04T00:00:00",
          "2021-08-05T00:00:00",
          "2021-08-06T00:00:00",
          "2021-08-07T00:00:00",
          "2021-08-09T00:00:00",
          "2021-08-11T00:00:00",
          "2021-08-19T00:00:00",
          "2021-08-24T00:00:00",
          "2021-08-31T00:00:00",
          "2021-09-01T00:00:00",
          "2021-09-06T00:00:00",
          "2021-09-23T00:00:00",
          "2021-09-27T00:00:00",
          "2021-10-04T00:00:00",
          "2021-10-06T00:00:00",
          "2021-10-07T00:00:00",
          "2021-10-20T00:00:00",
          "2021-10-25T00:00:00",
          "2021-10-26T00:00:00",
          "2021-10-27T00:00:00",
          "2021-10-28T00:00:00",
          "2021-11-05T00:00:00",
          "2021-11-08T00:00:00",
          "2021-11-10T00:00:00",
          "2021-11-11T00:00:00",
          "2021-11-15T00:00:00",
          "2021-11-16T00:00:00",
          "2021-11-22T00:00:00",
          "2021-12-01T00:00:00",
          "2021-12-05T00:00:00",
          "2021-12-06T00:00:00",
          "2021-12-08T00:00:00",
          "2021-12-11T00:00:00",
          "2021-12-13T00:00:00",
          "2021-12-16T00:00:00",
          "2021-12-17T00:00:00",
          "2021-12-20T00:00:00",
          "2021-12-21T00:00:00",
          "2021-12-30T00:00:00",
          "2022-01-03T00:00:00",
          "2022-01-06T00:00:00",
          "2022-01-07T00:00:00",
          "2022-01-20T00:00:00",
          "2022-01-21T00:00:00",
          "2022-01-22T00:00:00",
          "2022-01-25T00:00:00",
          "2022-01-26T00:00:00",
          "2022-01-27T00:00:00",
          "2022-01-31T00:00:00",
          "2022-02-04T00:00:00",
          "2022-02-14T00:00:00",
          "2022-02-16T00:00:00",
          "2022-02-20T00:00:00",
          "2022-03-04T00:00:00",
          "2022-03-08T00:00:00",
          "2022-03-09T00:00:00",
          "2022-03-10T00:00:00",
          "2022-03-28T00:00:00",
          "2022-04-04T00:00:00",
          "2022-04-06T00:00:00",
          "2022-04-14T00:00:00",
          "2022-04-21T00:00:00",
          "2022-04-22T00:00:00",
          "2022-04-24T00:00:00",
          "2022-04-25T00:00:00",
          "2022-04-26T00:00:00",
          "2022-04-27T00:00:00",
          "2022-04-28T00:00:00",
          "2022-04-29T00:00:00",
          "2022-05-09T00:00:00",
          "2022-05-12T00:00:00",
          "2022-05-16T00:00:00",
          "2022-05-17T00:00:00",
          "2022-05-18T00:00:00",
          "2022-05-19T00:00:00",
          "2022-05-21T00:00:00",
          "2022-05-22T00:00:00",
          "2022-05-24T00:00:00",
          "2022-05-25T00:00:00",
          "2022-05-26T00:00:00",
          "2022-05-30T00:00:00",
          "2022-06-03T00:00:00",
          "2022-06-06T00:00:00",
          "2022-06-09T00:00:00",
          "2022-06-10T00:00:00",
          "2022-06-12T00:00:00",
          "2022-06-13T00:00:00",
          "2022-06-14T00:00:00",
          "2022-06-15T00:00:00",
          "2022-06-16T00:00:00",
          "2022-06-22T00:00:00",
          "2022-06-23T00:00:00",
          "2022-06-24T00:00:00",
          "2022-06-27T00:00:00",
          "2022-06-28T00:00:00",
          "2022-06-29T00:00:00",
          "2022-06-30T00:00:00",
          "2022-07-01T00:00:00",
          "2022-07-02T00:00:00",
          "2022-07-04T00:00:00",
          "2022-07-05T00:00:00",
          "2022-07-10T00:00:00",
          "2022-07-13T00:00:00",
          "2022-07-18T00:00:00",
          "2022-07-21T00:00:00",
          "2022-07-25T00:00:00",
          "2022-07-26T00:00:00",
          "2022-07-27T00:00:00",
          "2022-08-01T00:00:00",
          "2022-08-02T00:00:00",
          "2022-08-04T00:00:00",
          "2022-08-11T00:00:00",
          "2022-08-18T00:00:00",
          "2022-08-19T00:00:00",
          "2022-08-22T00:00:00",
          "2022-08-24T00:00:00",
          "2022-08-31T00:00:00",
          "2022-09-05T00:00:00",
          "2022-09-06T00:00:00",
          "2022-09-08T00:00:00",
          "2022-09-14T00:00:00",
          "2022-09-20T00:00:00",
          "2022-09-21T00:00:00",
          "2022-09-26T00:00:00",
          "2022-09-27T00:00:00",
          "2022-09-28T00:00:00",
          "2022-10-03T00:00:00",
          "2022-10-04T00:00:00",
          "2022-10-06T00:00:00",
          "2022-10-13T00:00:00",
          "2022-10-25T00:00:00",
          "2022-10-26T00:00:00",
          "2022-10-27T00:00:00",
          "2022-11-04T00:00:00",
          "2022-11-15T00:00:00",
          "2022-11-17T00:00:00",
          "2022-11-29T00:00:00",
          "2022-11-30T00:00:00",
          "2022-12-01T00:00:00",
          "2022-12-02T00:00:00",
          "2022-12-06T00:00:00",
          "2022-12-15T00:00:00",
          "2023-01-04T00:00:00",
          "2023-01-05T00:00:00",
          "2023-01-06T00:00:00",
          "2023-01-09T00:00:00",
          "2023-01-10T00:00:00",
          "2023-01-23T00:00:00",
          "2023-01-30T00:00:00",
          "2023-01-31T00:00:00",
          "2023-02-01T00:00:00",
          "2023-02-02T00:00:00",
          "2023-02-06T00:00:00",
          "2023-02-16T00:00:00",
          "2023-02-28T00:00:00",
          "2023-03-01T00:00:00",
          "2023-03-06T00:00:00",
          "2023-03-13T00:00:00",
          "2023-03-15T00:00:00",
          "2023-03-16T00:00:00",
          "2023-03-29T00:00:00",
          "2023-04-02T00:00:00",
          "2023-04-03T00:00:00",
          "2023-04-06T00:00:00",
          "2023-04-07T00:00:00",
          "2023-04-10T00:00:00",
          "2023-04-17T00:00:00",
          "2023-04-24T00:00:00",
          "2023-04-25T00:00:00",
          "2023-05-02T00:00:00"
         ],
         "xaxis": "x",
         "y": [
          1,
          8,
          2,
          3,
          2,
          2,
          1,
          4,
          1,
          3,
          13,
          1,
          3,
          2,
          1,
          1,
          7,
          1,
          6,
          4,
          2,
          24,
          8,
          1,
          2,
          7,
          1,
          2,
          1,
          2,
          1,
          3,
          1,
          2,
          2,
          17,
          1,
          8,
          8,
          1,
          3,
          2,
          5,
          3,
          2,
          1,
          22,
          4,
          1,
          3,
          2,
          1,
          2,
          2,
          2,
          5,
          2,
          1,
          1,
          1,
          4,
          2,
          10,
          8,
          3,
          23,
          3,
          1,
          1,
          2,
          1,
          2,
          2,
          4,
          4,
          1,
          3,
          1,
          2,
          1,
          1,
          33,
          9,
          2,
          9,
          1,
          1,
          1,
          2,
          4,
          8,
          1,
          1,
          5,
          5,
          1,
          1,
          5,
          2,
          1,
          3,
          12,
          2,
          4,
          1,
          2,
          1,
          7,
          1,
          43,
          1,
          2,
          2,
          6,
          6,
          12,
          1,
          8,
          1,
          2,
          7,
          1,
          2,
          23,
          2,
          4,
          1,
          4,
          1,
          11,
          3,
          1,
          2,
          10,
          1,
          1,
          14,
          4,
          1,
          5,
          1,
          2,
          1,
          3,
          23,
          1,
          1,
          1,
          1,
          2,
          1,
          6,
          2,
          1,
          1,
          3,
          4,
          2,
          4,
          9,
          10,
          1,
          1,
          3,
          2,
          3,
          2,
          1,
          1,
          1,
          2,
          25,
          5,
          9,
          1,
          5,
          5,
          1,
          2,
          3,
          15,
          3,
          1,
          1,
          1,
          5,
          3,
          13,
          1,
          1,
          1,
          1,
          6,
          26,
          5,
          1,
          1,
          6,
          11,
          8,
          3,
          1,
          1,
          8,
          2,
          4,
          1,
          10,
          1,
          2,
          8,
          1,
          3,
          1,
          1,
          1,
          1,
          1,
          1,
          1,
          60,
          1,
          1,
          1,
          1,
          13,
          2,
          2,
          1,
          3,
          2,
          2,
          2,
          1,
          13,
          1,
          7,
          1,
          2,
          4,
          1,
          5,
          3,
          3,
          1,
          3,
          2,
          1,
          1,
          54,
          1,
          1,
          1,
          2,
          2,
          1,
          5,
          3,
          10,
          1,
          1,
          1,
          2,
          1,
          1,
          2,
          1,
          1,
          1,
          1,
          2,
          1,
          1,
          1,
          8,
          1,
          2,
          5,
          9,
          1,
          1,
          1,
          2,
          2,
          1,
          1,
          4,
          7,
          1,
          2,
          1,
          1,
          2,
          2,
          1,
          2,
          1,
          1,
          1,
          30,
          1,
          2,
          1,
          1,
          2,
          1,
          10,
          1,
          1,
          1,
          1,
          1,
          8,
          1,
          1,
          1,
          1,
          1,
          1,
          1,
          2,
          1,
          1,
          1,
          1,
          1,
          1,
          15,
          1,
          3,
          1,
          1,
          5,
          1,
          1,
          5,
          1,
          1,
          1,
          1,
          1,
          1,
          1,
          1,
          1,
          2,
          31,
          1,
          1,
          1,
          8,
          2,
          1,
          1,
          1,
          1,
          7,
          1,
          15,
          1,
          1,
          1,
          1,
          1,
          1,
          1,
          1,
          1,
          1,
          8,
          1,
          1,
          1,
          1,
          1,
          1,
          1,
          1,
          1,
          1,
          1,
          1,
          1,
          2,
          1,
          2,
          3,
          9,
          1,
          6,
          1,
          26,
          4,
          1,
          2,
          2,
          7,
          2,
          1,
          8,
          4,
          1,
          1,
          1,
          1,
          1,
          1,
          2,
          1,
          5,
          1,
          1,
          1,
          2,
          2,
          15,
          1,
          1,
          1,
          4,
          1,
          2,
          9,
          1,
          1,
          2,
          2,
          1,
          2,
          2,
          14,
          2,
          2,
          5,
          2,
          1,
          6,
          1,
          3,
          31,
          1,
          1,
          2,
          1,
          1,
          1,
          1,
          1,
          9,
          2,
          2,
          2,
          1,
          1,
          9,
          5,
          5,
          2,
          5,
          1,
          1,
          1,
          1,
          13,
          1,
          1,
          1,
          1,
          1,
          1,
          1,
          1,
          1,
          1,
          1,
          1,
          1,
          1,
          1,
          2,
          1,
          1,
          1,
          1,
          1,
          41,
          1,
          1,
          1,
          1,
          1,
          1,
          2,
          1,
          6,
          6,
          1,
          1,
          1,
          2,
          2,
          3,
          2,
          3,
          2,
          2,
          9,
          16,
          1,
          1,
          1,
          1,
          4,
          2,
          1,
          1,
          2,
          2,
          1,
          1,
          1,
          1,
          1,
          1,
          1,
          1,
          1,
          2,
          48,
          1,
          1,
          1,
          2,
          1,
          2,
          1,
          11,
          2,
          1,
          1,
          5,
          6,
          1,
          1,
          1,
          2,
          1,
          1,
          1,
          1,
          1,
          1,
          1,
          11,
          1,
          3,
          1,
          1,
          1,
          1,
          1,
          1,
          1,
          4,
          9,
          1,
          1,
          2,
          2,
          3,
          2,
          1,
          2,
          24,
          3,
          5,
          1,
          1,
          1,
          1,
          1,
          2,
          7,
          1,
          3,
          3,
          1,
          1,
          1,
          1,
          1,
          6,
          8,
          9,
          1,
          1,
          1,
          1,
          1,
          2,
          1,
          1,
          1,
          1,
          1,
          1,
          7,
          2,
          1,
          1,
          2,
          21,
          1,
          19,
          9,
          1,
          3,
          5,
          3,
          13,
          1,
          5,
          1,
          6,
          2,
          2,
          1,
          1,
          1,
          14,
          2,
          1,
          1,
          3,
          5,
          7,
          1,
          1,
          1,
          2,
          1,
          1,
          1,
          1,
          2,
          3,
          1,
          1,
          6,
          1,
          2,
          1,
          1,
          6,
          1,
          1,
          1,
          31,
          1,
          1,
          1,
          2,
          2,
          1,
          2,
          1,
          1,
          5,
          1,
          1,
          1,
          1,
          2,
          1,
          1,
          1,
          1,
          1,
          5,
          2,
          1,
          4,
          1,
          1,
          1,
          2,
          1,
          1,
          1,
          2,
          3,
          4,
          1,
          1,
          1,
          31,
          3,
          6,
          1,
          3,
          1,
          2,
          3,
          9,
          1,
          3,
          8,
          1,
          1,
          2,
          5,
          1,
          3,
          1,
          1,
          1,
          1,
          9,
          7,
          1,
          1,
          2,
          2,
          1,
          3,
          4,
          2,
          3,
          1,
          1,
          1,
          3,
          3,
          1,
          1,
          1,
          1,
          1,
          4,
          28,
          2,
          1,
          3,
          1,
          2,
          2,
          2,
          2,
          2,
          1,
          14,
          2,
          1,
          1,
          1,
          1,
          1,
          1,
          1,
          3,
          1,
          2,
          1,
          1,
          1,
          1,
          2,
          18,
          3,
          3,
          5,
          2,
          2,
          2,
          14,
          3,
          1,
          1,
          1,
          1,
          1,
          2,
          3,
          2,
          1,
          1,
          2,
          2,
          1,
          1,
          3,
          1,
          2,
          1,
          28,
          1,
          2,
          9,
          1,
          1,
          1,
          1,
          1,
          1,
          2,
          9,
          1,
          1,
          1,
          1,
          1,
          2,
          1,
          5,
          1,
          3,
          21,
          1,
          1,
          2,
          1,
          15,
          13,
          2,
          1,
          1,
          1,
          1,
          2,
          1,
          1,
          2,
          3,
          1,
          1,
          2,
          1,
          1,
          1,
          3,
          30,
          5,
          2,
          2,
          1,
          2,
          6,
          7,
          6,
          2,
          1,
          3,
          4,
          1,
          15,
          1,
          1,
          1,
          1,
          5,
          2,
          10,
          1,
          1,
          1,
          4,
          2,
          6,
          2,
          5,
          2,
          24,
          2,
          2,
          2,
          3,
          1,
          7,
          1,
          6,
          2,
          1,
          1,
          1,
          2,
          2,
          1,
          1,
          4,
          1,
          1,
          1,
          1,
          1,
          2,
          22,
          4,
          1,
          2,
          2,
          1,
          1,
          2,
          5,
          3,
          2,
          21,
          4,
          1,
          4,
          3,
          4,
          1,
          1,
          1,
          1,
          2,
          1,
          1,
          3,
          1,
          3,
          18,
          4,
          3,
          1,
          1,
          2,
          1,
          1,
          4,
          1,
          1,
          1,
          2,
          1,
          1,
          1,
          1,
          1,
          5,
          3,
          3,
          2,
          1,
          1,
          2,
          41,
          1,
          17,
          8,
          3,
          1,
          1,
          2,
          2,
          4,
          12,
          1,
          2,
          1,
          1,
          1,
          1,
          2,
          2,
          2,
          6,
          6,
          2,
          1,
          12,
          2,
          2,
          1,
          2,
          1,
          1,
          1,
          3,
          1,
          1,
          1,
          1,
          1,
          1,
          3,
          23,
          1,
          2,
          1,
          2,
          2,
          1,
          1,
          2,
          1,
          1,
          1,
          1,
          34,
          1,
          1,
          2,
          5,
          1,
          2,
          33,
          5,
          5,
          1,
          16,
          1,
          1,
          5,
          25,
          2,
          5,
          6,
          2,
          5,
          2,
          1,
          1,
          2,
          1,
          5,
          11,
          5,
          1,
          1,
          2,
          1,
          1,
          1,
          1,
          1,
          1,
          1,
          4,
          1,
          1,
          1,
          1,
          1,
          1,
          3,
          1,
          1,
          1,
          1,
          1,
          3,
          1,
          5,
          1,
          45,
          1,
          1,
          1,
          1,
          1,
          4,
          3,
          2,
          1,
          1,
          1,
          3,
          2,
          1,
          3,
          1,
          3,
          1,
          1,
          1,
          1,
          2,
          1,
          1,
          4,
          1,
          1,
          5,
          1,
          1,
          1,
          2,
          1,
          2,
          6,
          1,
          1,
          2,
          2,
          1,
          1,
          1,
          2,
          1,
          1,
          1,
          2,
          3,
          1,
          2,
          1,
          19,
          1,
          8,
          1,
          3,
          1,
          1,
          1,
          27,
          7,
          3,
          1,
          1,
          1,
          4,
          1,
          1,
          1,
          1,
          3,
          1,
          4,
          1,
          15,
          3,
          1,
          2,
          1,
          1,
          1,
          1,
          1,
          1,
          1,
          2,
          3,
          1,
          1,
          1,
          2,
          1,
          1,
          1,
          1,
          2,
          4,
          1,
          1,
          3,
          5,
          3,
          33,
          5,
          1,
          2,
          1,
          1,
          1,
          3,
          4,
          1,
          2,
          1,
          1,
          1,
          12,
          1,
          1,
          3,
          1,
          1,
          2,
          1,
          2,
          3,
          1,
          1,
          2,
          1,
          1,
          1,
          1,
          3,
          1,
          2,
          1,
          1,
          2,
          1,
          5,
          2,
          2,
          1,
          11,
          1,
          2,
          2,
          2,
          1,
          1,
          1,
          1,
          28,
          8,
          1,
          1,
          1,
          1,
          1,
          1,
          1,
          1,
          1,
          6,
          1,
          1,
          1,
          1,
          1,
          2,
          13,
          1,
          3,
          3,
          1,
          4,
          2,
          2,
          4,
          1,
          2,
          1,
          1,
          1,
          3,
          1,
          1,
          1,
          1,
          1,
          3,
          5,
          8,
          2,
          1,
          1,
          1,
          1,
          1,
          1,
          1,
          27,
          1,
          1,
          7,
          3,
          1,
          1,
          1,
          9,
          1,
          1,
          1,
          1,
          1,
          7,
          3,
          1,
          1,
          1,
          7,
          1,
          2,
          3,
          3,
          1,
          1,
          1,
          2,
          1,
          2,
          5,
          1,
          1,
          1,
          1,
          3,
          2,
          3,
          4,
          1,
          10,
          2,
          1,
          1,
          3,
          21,
          3,
          1,
          1,
          1,
          1,
          1,
          2,
          4,
          4,
          6,
          2,
          1,
          1,
          1,
          1,
          1,
          1,
          2,
          1,
          3,
          1,
          2,
          3,
          2,
          4,
          1,
          1,
          2,
          1,
          2,
          1,
          1,
          1,
          1,
          1,
          1,
          1,
          6,
          1,
          1,
          2,
          1,
          1,
          1,
          1,
          10,
          1,
          3,
          2,
          1,
          2,
          3,
          2,
          1,
          1,
          2,
          1,
          1,
          1,
          1,
          1,
          1,
          7,
          1,
          5,
          1,
          1,
          1,
          1,
          2,
          5,
          7,
          1,
          1,
          7,
          1,
          1,
          3,
          1,
          5,
          4,
          1,
          3,
          1,
          2,
          2,
          1,
          4,
          1,
          1,
          1,
          1,
          2,
          12,
          1,
          1,
          1,
          6,
          2,
          4,
          1,
          4,
          1,
          1,
          1,
          1,
          6,
          5,
          2,
          4,
          1,
          3,
          1,
          8,
          1,
          2,
          1,
          1,
          1,
          5,
          2,
          1,
          2,
          1,
          1,
          1,
          1,
          1,
          1,
          1,
          1,
          9,
          11,
          1,
          1,
          1,
          2,
          2,
          4,
          1,
          2,
          1,
          2,
          3,
          1,
          2,
          1,
          1,
          3,
          1,
          1,
          3,
          7,
          2,
          1,
          2,
          1,
          1,
          3,
          4,
          1,
          1,
          2,
          1,
          1,
          1,
          2,
          1,
          1,
          1,
          1,
          2,
          1,
          2,
          13,
          2,
          1,
          1,
          1,
          2,
          4,
          1,
          1,
          1,
          1,
          1,
          1,
          3,
          1,
          1,
          1,
          1,
          2,
          3,
          3,
          1,
          1,
          1,
          3,
          1,
          2,
          1,
          1,
          1,
          3,
          2,
          1,
          1,
          1,
          3,
          2,
          1,
          2,
          2,
          1,
          1,
          4,
          19,
          1,
          2,
          1,
          1,
          2,
          1,
          1,
          1,
          2,
          3,
          1,
          3,
          2,
          1,
          2,
          1,
          4,
          2,
          2,
          4,
          4,
          2,
          3,
          2,
          2,
          1,
          3,
          2,
          1,
          1,
          1,
          1,
          1,
          2,
          2,
          1,
          1,
          3,
          1,
          4,
          1,
          1,
          1,
          1,
          1,
          1,
          2,
          1,
          27,
          2,
          3,
          1,
          1,
          2,
          1,
          1,
          7,
          6,
          2,
          5,
          1,
          3,
          16,
          1,
          2,
          10,
          1,
          5,
          1,
          1,
          11,
          1,
          2,
          3,
          2,
          2,
          1,
          1,
          1,
          2,
          1,
          1,
          1,
          1,
          1,
          1,
          1,
          8,
          5,
          1,
          5,
          2,
          1,
          1,
          1,
          14,
          1,
          1,
          1,
          3,
          2,
          1,
          2,
          3,
          1,
          5,
          4,
          3,
          2,
          1,
          1,
          1,
          3,
          13,
          1,
          1,
          1,
          1,
          1,
          4,
          6,
          3,
          2,
          1,
          2,
          8,
          4,
          9,
          4,
          1,
          1,
          3,
          1,
          2,
          1,
          2,
          3,
          1,
          3,
          2,
          2,
          4,
          1,
          1,
          3,
          3,
          31,
          1,
          1,
          1,
          1,
          1,
          1,
          1,
          2,
          2,
          1,
          1,
          1,
          1,
          3,
          1,
          2,
          1,
          3,
          5,
          5,
          3,
          1,
          2,
          2,
          5,
          1,
          2,
          1,
          1,
          1,
          1,
          1,
          1,
          1,
          3,
          2,
          1,
          3,
          2,
          6,
          1,
          3,
          1,
          1,
          2,
          3,
          2,
          1,
          1,
          43,
          1,
          3,
          1,
          2,
          2,
          1,
          2,
          2,
          3,
          1,
          1,
          1,
          1,
          1,
          4,
          5,
          1,
          2,
          5,
          1,
          5,
          1,
          1,
          1,
          23,
          3,
          1,
          3,
          3,
          3,
          4,
          3,
          3,
          4,
          2,
          1,
          1,
          1,
          2,
          2,
          1,
          2,
          1,
          1,
          1,
          1,
          2,
          3,
          1,
          1,
          17,
          2,
          1,
          1,
          1,
          1,
          1,
          2,
          1,
          1,
          1,
          4,
          1,
          1,
          3,
          2,
          3,
          2,
          2,
          1,
          1,
          1,
          20,
          1,
          11,
          26,
          13,
          2,
          4,
          1,
          2,
          2,
          2,
          2,
          1,
          2,
          2,
          1,
          1,
          5,
          6,
          1,
          1,
          1,
          4,
          3,
          1,
          11,
          1,
          33,
          2,
          1,
          1,
          1,
          1,
          3,
          1,
          5,
          1,
          3,
          1,
          4,
          4,
          4,
          1,
          1,
          7,
          6,
          2,
          1,
          1,
          2,
          20,
          1,
          1,
          1,
          1,
          4,
          1,
          2,
          16,
          2,
          3,
          1,
          9,
          2,
          3,
          3,
          1,
          2,
          1,
          2,
          3,
          1,
          13,
          4,
          2,
          1,
          4,
          3,
          2,
          1,
          1,
          2,
          4,
          1,
          31,
          4,
          4,
          1,
          1,
          7,
          4,
          1,
          1,
          3,
          8,
          5,
          3,
          1,
          2,
          4,
          5,
          1,
          3,
          1,
          3,
          3,
          15,
          5,
          1,
          1,
          4,
          3,
          1,
          3,
          42,
          1,
          3,
          1,
          8,
          1,
          1,
          1,
          6,
          1,
          2,
          1,
          1,
          1,
          2,
          1,
          1,
          1,
          2,
          29,
          3,
          1,
          1,
          4,
          3,
          2,
          1,
          2,
          1,
          1,
          1,
          6,
          2,
          1,
          6,
          26,
          2,
          1,
          1,
          1,
          2,
          1,
          1,
          25,
          6,
          2,
          1,
          3,
          11,
          1,
          1,
          1,
          1,
          1,
          2,
          2,
          1,
          2,
          3,
          1,
          36,
          2,
          1,
          1,
          1,
          1,
          3,
          7,
          3,
          1,
          1,
          1,
          1,
          2,
          2,
          1,
          1,
          1,
          1,
          2,
          4,
          19,
          3,
          1,
          1,
          1,
          3,
          1,
          1,
          1,
          3,
          1,
          1,
          3,
          1,
          1,
          10,
          1,
          1,
          1,
          1,
          1,
          1,
          1,
          1,
          3,
          1,
          3,
          4,
          27,
          3,
          1,
          1,
          2,
          7,
          3,
          12,
          1,
          1,
          1,
          2,
          2,
          1,
          9,
          2,
          1,
          1,
          2,
          1,
          32,
          2,
          1,
          1,
          18,
          2,
          3,
          10,
          1,
          1,
          1,
          5,
          13,
          1,
          1,
          3,
          1,
          4,
          4,
          1,
          1,
          1,
          12,
          3,
          3,
          1,
          13,
          1,
          1,
          1,
          2,
          1,
          1,
          3,
          1,
          3,
          1,
          1,
          2,
          19,
          1,
          4,
          1,
          1,
          4,
          1,
          1,
          1,
          1,
          1,
          2,
          6,
          1,
          7,
          1,
          2,
          1,
          5,
          3,
          1,
          3,
          1,
          1,
          1,
          2,
          30,
          3,
          1,
          2,
          1,
          1,
          1,
          1,
          1,
          1,
          2,
          4,
          15,
          9,
          1,
          1,
          2,
          29,
          1,
          1,
          1,
          1,
          5,
          1,
          1,
          1,
          2,
          3,
          2,
          2,
          3,
          1,
          2,
          2,
          1,
          1,
          23,
          1
         ],
         "yaxis": "y"
        }
       ],
       "layout": {
        "barmode": "relative",
        "legend": {
         "tracegroupgap": 0
        },
        "margin": {
         "t": 60
        },
        "template": {
         "data": {
          "bar": [
           {
            "error_x": {
             "color": "#2a3f5f"
            },
            "error_y": {
             "color": "#2a3f5f"
            },
            "marker": {
             "line": {
              "color": "#E5ECF6",
              "width": 0.5
             }
            },
            "type": "bar"
           }
          ],
          "barpolar": [
           {
            "marker": {
             "line": {
              "color": "#E5ECF6",
              "width": 0.5
             }
            },
            "type": "barpolar"
           }
          ],
          "carpet": [
           {
            "aaxis": {
             "endlinecolor": "#2a3f5f",
             "gridcolor": "white",
             "linecolor": "white",
             "minorgridcolor": "white",
             "startlinecolor": "#2a3f5f"
            },
            "baxis": {
             "endlinecolor": "#2a3f5f",
             "gridcolor": "white",
             "linecolor": "white",
             "minorgridcolor": "white",
             "startlinecolor": "#2a3f5f"
            },
            "type": "carpet"
           }
          ],
          "choropleth": [
           {
            "colorbar": {
             "outlinewidth": 0,
             "ticks": ""
            },
            "type": "choropleth"
           }
          ],
          "contour": [
           {
            "colorbar": {
             "outlinewidth": 0,
             "ticks": ""
            },
            "colorscale": [
             [
              0,
              "#0d0887"
             ],
             [
              0.1111111111111111,
              "#46039f"
             ],
             [
              0.2222222222222222,
              "#7201a8"
             ],
             [
              0.3333333333333333,
              "#9c179e"
             ],
             [
              0.4444444444444444,
              "#bd3786"
             ],
             [
              0.5555555555555556,
              "#d8576b"
             ],
             [
              0.6666666666666666,
              "#ed7953"
             ],
             [
              0.7777777777777778,
              "#fb9f3a"
             ],
             [
              0.8888888888888888,
              "#fdca26"
             ],
             [
              1,
              "#f0f921"
             ]
            ],
            "type": "contour"
           }
          ],
          "contourcarpet": [
           {
            "colorbar": {
             "outlinewidth": 0,
             "ticks": ""
            },
            "type": "contourcarpet"
           }
          ],
          "heatmap": [
           {
            "colorbar": {
             "outlinewidth": 0,
             "ticks": ""
            },
            "colorscale": [
             [
              0,
              "#0d0887"
             ],
             [
              0.1111111111111111,
              "#46039f"
             ],
             [
              0.2222222222222222,
              "#7201a8"
             ],
             [
              0.3333333333333333,
              "#9c179e"
             ],
             [
              0.4444444444444444,
              "#bd3786"
             ],
             [
              0.5555555555555556,
              "#d8576b"
             ],
             [
              0.6666666666666666,
              "#ed7953"
             ],
             [
              0.7777777777777778,
              "#fb9f3a"
             ],
             [
              0.8888888888888888,
              "#fdca26"
             ],
             [
              1,
              "#f0f921"
             ]
            ],
            "type": "heatmap"
           }
          ],
          "heatmapgl": [
           {
            "colorbar": {
             "outlinewidth": 0,
             "ticks": ""
            },
            "colorscale": [
             [
              0,
              "#0d0887"
             ],
             [
              0.1111111111111111,
              "#46039f"
             ],
             [
              0.2222222222222222,
              "#7201a8"
             ],
             [
              0.3333333333333333,
              "#9c179e"
             ],
             [
              0.4444444444444444,
              "#bd3786"
             ],
             [
              0.5555555555555556,
              "#d8576b"
             ],
             [
              0.6666666666666666,
              "#ed7953"
             ],
             [
              0.7777777777777778,
              "#fb9f3a"
             ],
             [
              0.8888888888888888,
              "#fdca26"
             ],
             [
              1,
              "#f0f921"
             ]
            ],
            "type": "heatmapgl"
           }
          ],
          "histogram": [
           {
            "marker": {
             "colorbar": {
              "outlinewidth": 0,
              "ticks": ""
             }
            },
            "type": "histogram"
           }
          ],
          "histogram2d": [
           {
            "colorbar": {
             "outlinewidth": 0,
             "ticks": ""
            },
            "colorscale": [
             [
              0,
              "#0d0887"
             ],
             [
              0.1111111111111111,
              "#46039f"
             ],
             [
              0.2222222222222222,
              "#7201a8"
             ],
             [
              0.3333333333333333,
              "#9c179e"
             ],
             [
              0.4444444444444444,
              "#bd3786"
             ],
             [
              0.5555555555555556,
              "#d8576b"
             ],
             [
              0.6666666666666666,
              "#ed7953"
             ],
             [
              0.7777777777777778,
              "#fb9f3a"
             ],
             [
              0.8888888888888888,
              "#fdca26"
             ],
             [
              1,
              "#f0f921"
             ]
            ],
            "type": "histogram2d"
           }
          ],
          "histogram2dcontour": [
           {
            "colorbar": {
             "outlinewidth": 0,
             "ticks": ""
            },
            "colorscale": [
             [
              0,
              "#0d0887"
             ],
             [
              0.1111111111111111,
              "#46039f"
             ],
             [
              0.2222222222222222,
              "#7201a8"
             ],
             [
              0.3333333333333333,
              "#9c179e"
             ],
             [
              0.4444444444444444,
              "#bd3786"
             ],
             [
              0.5555555555555556,
              "#d8576b"
             ],
             [
              0.6666666666666666,
              "#ed7953"
             ],
             [
              0.7777777777777778,
              "#fb9f3a"
             ],
             [
              0.8888888888888888,
              "#fdca26"
             ],
             [
              1,
              "#f0f921"
             ]
            ],
            "type": "histogram2dcontour"
           }
          ],
          "mesh3d": [
           {
            "colorbar": {
             "outlinewidth": 0,
             "ticks": ""
            },
            "type": "mesh3d"
           }
          ],
          "parcoords": [
           {
            "line": {
             "colorbar": {
              "outlinewidth": 0,
              "ticks": ""
             }
            },
            "type": "parcoords"
           }
          ],
          "pie": [
           {
            "automargin": true,
            "type": "pie"
           }
          ],
          "scatter": [
           {
            "marker": {
             "colorbar": {
              "outlinewidth": 0,
              "ticks": ""
             }
            },
            "type": "scatter"
           }
          ],
          "scatter3d": [
           {
            "line": {
             "colorbar": {
              "outlinewidth": 0,
              "ticks": ""
             }
            },
            "marker": {
             "colorbar": {
              "outlinewidth": 0,
              "ticks": ""
             }
            },
            "type": "scatter3d"
           }
          ],
          "scattercarpet": [
           {
            "marker": {
             "colorbar": {
              "outlinewidth": 0,
              "ticks": ""
             }
            },
            "type": "scattercarpet"
           }
          ],
          "scattergeo": [
           {
            "marker": {
             "colorbar": {
              "outlinewidth": 0,
              "ticks": ""
             }
            },
            "type": "scattergeo"
           }
          ],
          "scattergl": [
           {
            "marker": {
             "colorbar": {
              "outlinewidth": 0,
              "ticks": ""
             }
            },
            "type": "scattergl"
           }
          ],
          "scattermapbox": [
           {
            "marker": {
             "colorbar": {
              "outlinewidth": 0,
              "ticks": ""
             }
            },
            "type": "scattermapbox"
           }
          ],
          "scatterpolar": [
           {
            "marker": {
             "colorbar": {
              "outlinewidth": 0,
              "ticks": ""
             }
            },
            "type": "scatterpolar"
           }
          ],
          "scatterpolargl": [
           {
            "marker": {
             "colorbar": {
              "outlinewidth": 0,
              "ticks": ""
             }
            },
            "type": "scatterpolargl"
           }
          ],
          "scatterternary": [
           {
            "marker": {
             "colorbar": {
              "outlinewidth": 0,
              "ticks": ""
             }
            },
            "type": "scatterternary"
           }
          ],
          "surface": [
           {
            "colorbar": {
             "outlinewidth": 0,
             "ticks": ""
            },
            "colorscale": [
             [
              0,
              "#0d0887"
             ],
             [
              0.1111111111111111,
              "#46039f"
             ],
             [
              0.2222222222222222,
              "#7201a8"
             ],
             [
              0.3333333333333333,
              "#9c179e"
             ],
             [
              0.4444444444444444,
              "#bd3786"
             ],
             [
              0.5555555555555556,
              "#d8576b"
             ],
             [
              0.6666666666666666,
              "#ed7953"
             ],
             [
              0.7777777777777778,
              "#fb9f3a"
             ],
             [
              0.8888888888888888,
              "#fdca26"
             ],
             [
              1,
              "#f0f921"
             ]
            ],
            "type": "surface"
           }
          ],
          "table": [
           {
            "cells": {
             "fill": {
              "color": "#EBF0F8"
             },
             "line": {
              "color": "white"
             }
            },
            "header": {
             "fill": {
              "color": "#C8D4E3"
             },
             "line": {
              "color": "white"
             }
            },
            "type": "table"
           }
          ]
         },
         "layout": {
          "annotationdefaults": {
           "arrowcolor": "#2a3f5f",
           "arrowhead": 0,
           "arrowwidth": 1
          },
          "autotypenumbers": "strict",
          "coloraxis": {
           "colorbar": {
            "outlinewidth": 0,
            "ticks": ""
           }
          },
          "colorscale": {
           "diverging": [
            [
             0,
             "#8e0152"
            ],
            [
             0.1,
             "#c51b7d"
            ],
            [
             0.2,
             "#de77ae"
            ],
            [
             0.3,
             "#f1b6da"
            ],
            [
             0.4,
             "#fde0ef"
            ],
            [
             0.5,
             "#f7f7f7"
            ],
            [
             0.6,
             "#e6f5d0"
            ],
            [
             0.7,
             "#b8e186"
            ],
            [
             0.8,
             "#7fbc41"
            ],
            [
             0.9,
             "#4d9221"
            ],
            [
             1,
             "#276419"
            ]
           ],
           "sequential": [
            [
             0,
             "#0d0887"
            ],
            [
             0.1111111111111111,
             "#46039f"
            ],
            [
             0.2222222222222222,
             "#7201a8"
            ],
            [
             0.3333333333333333,
             "#9c179e"
            ],
            [
             0.4444444444444444,
             "#bd3786"
            ],
            [
             0.5555555555555556,
             "#d8576b"
            ],
            [
             0.6666666666666666,
             "#ed7953"
            ],
            [
             0.7777777777777778,
             "#fb9f3a"
            ],
            [
             0.8888888888888888,
             "#fdca26"
            ],
            [
             1,
             "#f0f921"
            ]
           ],
           "sequentialminus": [
            [
             0,
             "#0d0887"
            ],
            [
             0.1111111111111111,
             "#46039f"
            ],
            [
             0.2222222222222222,
             "#7201a8"
            ],
            [
             0.3333333333333333,
             "#9c179e"
            ],
            [
             0.4444444444444444,
             "#bd3786"
            ],
            [
             0.5555555555555556,
             "#d8576b"
            ],
            [
             0.6666666666666666,
             "#ed7953"
            ],
            [
             0.7777777777777778,
             "#fb9f3a"
            ],
            [
             0.8888888888888888,
             "#fdca26"
            ],
            [
             1,
             "#f0f921"
            ]
           ]
          },
          "colorway": [
           "#636efa",
           "#EF553B",
           "#00cc96",
           "#ab63fa",
           "#FFA15A",
           "#19d3f3",
           "#FF6692",
           "#B6E880",
           "#FF97FF",
           "#FECB52"
          ],
          "font": {
           "color": "#2a3f5f"
          },
          "geo": {
           "bgcolor": "white",
           "lakecolor": "white",
           "landcolor": "#E5ECF6",
           "showlakes": true,
           "showland": true,
           "subunitcolor": "white"
          },
          "hoverlabel": {
           "align": "left"
          },
          "hovermode": "closest",
          "mapbox": {
           "style": "light"
          },
          "paper_bgcolor": "white",
          "plot_bgcolor": "#E5ECF6",
          "polar": {
           "angularaxis": {
            "gridcolor": "white",
            "linecolor": "white",
            "ticks": ""
           },
           "bgcolor": "#E5ECF6",
           "radialaxis": {
            "gridcolor": "white",
            "linecolor": "white",
            "ticks": ""
           }
          },
          "scene": {
           "xaxis": {
            "backgroundcolor": "#E5ECF6",
            "gridcolor": "white",
            "gridwidth": 2,
            "linecolor": "white",
            "showbackground": true,
            "ticks": "",
            "zerolinecolor": "white"
           },
           "yaxis": {
            "backgroundcolor": "#E5ECF6",
            "gridcolor": "white",
            "gridwidth": 2,
            "linecolor": "white",
            "showbackground": true,
            "ticks": "",
            "zerolinecolor": "white"
           },
           "zaxis": {
            "backgroundcolor": "#E5ECF6",
            "gridcolor": "white",
            "gridwidth": 2,
            "linecolor": "white",
            "showbackground": true,
            "ticks": "",
            "zerolinecolor": "white"
           }
          },
          "shapedefaults": {
           "line": {
            "color": "#2a3f5f"
           }
          },
          "ternary": {
           "aaxis": {
            "gridcolor": "white",
            "linecolor": "white",
            "ticks": ""
           },
           "baxis": {
            "gridcolor": "white",
            "linecolor": "white",
            "ticks": ""
           },
           "bgcolor": "#E5ECF6",
           "caxis": {
            "gridcolor": "white",
            "linecolor": "white",
            "ticks": ""
           }
          },
          "title": {
           "x": 0.05
          },
          "xaxis": {
           "automargin": true,
           "gridcolor": "white",
           "linecolor": "white",
           "ticks": "",
           "title": {
            "standoff": 15
           },
           "zerolinecolor": "white",
           "zerolinewidth": 2
          },
          "yaxis": {
           "automargin": true,
           "gridcolor": "white",
           "linecolor": "white",
           "ticks": "",
           "title": {
            "standoff": 15
           },
           "zerolinecolor": "white",
           "zerolinewidth": 2
          }
         }
        },
        "updatemenus": [
         {
          "buttons": [
           {
            "args": [
             {
              "xaxis": {
               "range": [
                1225497600000,
                1228089600000
               ]
              }
             }
            ],
            "label": "Nov-2008",
            "method": "relayout"
           },
           {
            "args": [
             {
              "xaxis": {
               "range": [
                1228089600000,
                1230768000000
               ]
              }
             }
            ],
            "label": "Dec-2008",
            "method": "relayout"
           },
           {
            "args": [
             {
              "xaxis": {
               "range": [
                1230768000000,
                1233446400000
               ]
              }
             }
            ],
            "label": "Jan-2009",
            "method": "relayout"
           },
           {
            "args": [
             {
              "xaxis": {
               "range": [
                1233446400000,
                1235865600000
               ]
              }
             }
            ],
            "label": "Feb-2009",
            "method": "relayout"
           },
           {
            "args": [
             {
              "xaxis": {
               "range": [
                1235865600000,
                1238544000000
               ]
              }
             }
            ],
            "label": "Mar-2009",
            "method": "relayout"
           },
           {
            "args": [
             {
              "xaxis": {
               "range": [
                1238544000000,
                1241136000000
               ]
              }
             }
            ],
            "label": "Apr-2009",
            "method": "relayout"
           },
           {
            "args": [
             {
              "xaxis": {
               "range": [
                1241136000000,
                1243814400000
               ]
              }
             }
            ],
            "label": "May-2009",
            "method": "relayout"
           },
           {
            "args": [
             {
              "xaxis": {
               "range": [
                1243814400000,
                1246406400000
               ]
              }
             }
            ],
            "label": "Jun-2009",
            "method": "relayout"
           },
           {
            "args": [
             {
              "xaxis": {
               "range": [
                1246406400000,
                1249084800000
               ]
              }
             }
            ],
            "label": "Jul-2009",
            "method": "relayout"
           },
           {
            "args": [
             {
              "xaxis": {
               "range": [
                1249084800000,
                1251763200000
               ]
              }
             }
            ],
            "label": "Aug-2009",
            "method": "relayout"
           },
           {
            "args": [
             {
              "xaxis": {
               "range": [
                1251763200000,
                1254355200000
               ]
              }
             }
            ],
            "label": "Sep-2009",
            "method": "relayout"
           },
           {
            "args": [
             {
              "xaxis": {
               "range": [
                1254355200000,
                1257033600000
               ]
              }
             }
            ],
            "label": "Oct-2009",
            "method": "relayout"
           },
           {
            "args": [
             {
              "xaxis": {
               "range": [
                1257033600000,
                1259625600000
               ]
              }
             }
            ],
            "label": "Nov-2009",
            "method": "relayout"
           },
           {
            "args": [
             {
              "xaxis": {
               "range": [
                1259625600000,
                1262304000000
               ]
              }
             }
            ],
            "label": "Dec-2009",
            "method": "relayout"
           },
           {
            "args": [
             {
              "xaxis": {
               "range": [
                1262304000000,
                1264982400000
               ]
              }
             }
            ],
            "label": "Jan-2010",
            "method": "relayout"
           },
           {
            "args": [
             {
              "xaxis": {
               "range": [
                1264982400000,
                1267401600000
               ]
              }
             }
            ],
            "label": "Feb-2010",
            "method": "relayout"
           },
           {
            "args": [
             {
              "xaxis": {
               "range": [
                1267401600000,
                1270080000000
               ]
              }
             }
            ],
            "label": "Mar-2010",
            "method": "relayout"
           },
           {
            "args": [
             {
              "xaxis": {
               "range": [
                1270080000000,
                1272672000000
               ]
              }
             }
            ],
            "label": "Apr-2010",
            "method": "relayout"
           },
           {
            "args": [
             {
              "xaxis": {
               "range": [
                1272672000000,
                1275350400000
               ]
              }
             }
            ],
            "label": "May-2010",
            "method": "relayout"
           },
           {
            "args": [
             {
              "xaxis": {
               "range": [
                1275350400000,
                1277942400000
               ]
              }
             }
            ],
            "label": "Jun-2010",
            "method": "relayout"
           },
           {
            "args": [
             {
              "xaxis": {
               "range": [
                1277942400000,
                1280620800000
               ]
              }
             }
            ],
            "label": "Jul-2010",
            "method": "relayout"
           },
           {
            "args": [
             {
              "xaxis": {
               "range": [
                1280620800000,
                1283299200000
               ]
              }
             }
            ],
            "label": "Aug-2010",
            "method": "relayout"
           },
           {
            "args": [
             {
              "xaxis": {
               "range": [
                1283299200000,
                1285891200000
               ]
              }
             }
            ],
            "label": "Sep-2010",
            "method": "relayout"
           },
           {
            "args": [
             {
              "xaxis": {
               "range": [
                1285891200000,
                1288569600000
               ]
              }
             }
            ],
            "label": "Oct-2010",
            "method": "relayout"
           },
           {
            "args": [
             {
              "xaxis": {
               "range": [
                1288569600000,
                1291161600000
               ]
              }
             }
            ],
            "label": "Nov-2010",
            "method": "relayout"
           },
           {
            "args": [
             {
              "xaxis": {
               "range": [
                1291161600000,
                1293840000000
               ]
              }
             }
            ],
            "label": "Dec-2010",
            "method": "relayout"
           },
           {
            "args": [
             {
              "xaxis": {
               "range": [
                1293840000000,
                1296518400000
               ]
              }
             }
            ],
            "label": "Jan-2011",
            "method": "relayout"
           },
           {
            "args": [
             {
              "xaxis": {
               "range": [
                1296518400000,
                1298937600000
               ]
              }
             }
            ],
            "label": "Feb-2011",
            "method": "relayout"
           },
           {
            "args": [
             {
              "xaxis": {
               "range": [
                1298937600000,
                1301616000000
               ]
              }
             }
            ],
            "label": "Mar-2011",
            "method": "relayout"
           },
           {
            "args": [
             {
              "xaxis": {
               "range": [
                1301616000000,
                1304208000000
               ]
              }
             }
            ],
            "label": "Apr-2011",
            "method": "relayout"
           },
           {
            "args": [
             {
              "xaxis": {
               "range": [
                1304208000000,
                1306886400000
               ]
              }
             }
            ],
            "label": "May-2011",
            "method": "relayout"
           },
           {
            "args": [
             {
              "xaxis": {
               "range": [
                1306886400000,
                1309478400000
               ]
              }
             }
            ],
            "label": "Jun-2011",
            "method": "relayout"
           },
           {
            "args": [
             {
              "xaxis": {
               "range": [
                1309478400000,
                1312156800000
               ]
              }
             }
            ],
            "label": "Jul-2011",
            "method": "relayout"
           },
           {
            "args": [
             {
              "xaxis": {
               "range": [
                1312156800000,
                1314835200000
               ]
              }
             }
            ],
            "label": "Aug-2011",
            "method": "relayout"
           },
           {
            "args": [
             {
              "xaxis": {
               "range": [
                1314835200000,
                1317427200000
               ]
              }
             }
            ],
            "label": "Sep-2011",
            "method": "relayout"
           },
           {
            "args": [
             {
              "xaxis": {
               "range": [
                1317427200000,
                1320105600000
               ]
              }
             }
            ],
            "label": "Oct-2011",
            "method": "relayout"
           },
           {
            "args": [
             {
              "xaxis": {
               "range": [
                1320105600000,
                1322697600000
               ]
              }
             }
            ],
            "label": "Nov-2011",
            "method": "relayout"
           },
           {
            "args": [
             {
              "xaxis": {
               "range": [
                1322697600000,
                1325376000000
               ]
              }
             }
            ],
            "label": "Dec-2011",
            "method": "relayout"
           },
           {
            "args": [
             {
              "xaxis": {
               "range": [
                1325376000000,
                1328054400000
               ]
              }
             }
            ],
            "label": "Jan-2012",
            "method": "relayout"
           },
           {
            "args": [
             {
              "xaxis": {
               "range": [
                1328054400000,
                1330560000000
               ]
              }
             }
            ],
            "label": "Feb-2012",
            "method": "relayout"
           },
           {
            "args": [
             {
              "xaxis": {
               "range": [
                1330560000000,
                1333238400000
               ]
              }
             }
            ],
            "label": "Mar-2012",
            "method": "relayout"
           },
           {
            "args": [
             {
              "xaxis": {
               "range": [
                1333238400000,
                1335830400000
               ]
              }
             }
            ],
            "label": "Apr-2012",
            "method": "relayout"
           },
           {
            "args": [
             {
              "xaxis": {
               "range": [
                1335830400000,
                1338508800000
               ]
              }
             }
            ],
            "label": "May-2012",
            "method": "relayout"
           },
           {
            "args": [
             {
              "xaxis": {
               "range": [
                1338508800000,
                1341100800000
               ]
              }
             }
            ],
            "label": "Jun-2012",
            "method": "relayout"
           },
           {
            "args": [
             {
              "xaxis": {
               "range": [
                1341100800000,
                1343779200000
               ]
              }
             }
            ],
            "label": "Jul-2012",
            "method": "relayout"
           },
           {
            "args": [
             {
              "xaxis": {
               "range": [
                1343779200000,
                1346457600000
               ]
              }
             }
            ],
            "label": "Aug-2012",
            "method": "relayout"
           },
           {
            "args": [
             {
              "xaxis": {
               "range": [
                1346457600000,
                1349049600000
               ]
              }
             }
            ],
            "label": "Sep-2012",
            "method": "relayout"
           },
           {
            "args": [
             {
              "xaxis": {
               "range": [
                1349049600000,
                1351728000000
               ]
              }
             }
            ],
            "label": "Oct-2012",
            "method": "relayout"
           },
           {
            "args": [
             {
              "xaxis": {
               "range": [
                1351728000000,
                1354320000000
               ]
              }
             }
            ],
            "label": "Nov-2012",
            "method": "relayout"
           },
           {
            "args": [
             {
              "xaxis": {
               "range": [
                1354320000000,
                1356998400000
               ]
              }
             }
            ],
            "label": "Dec-2012",
            "method": "relayout"
           },
           {
            "args": [
             {
              "xaxis": {
               "range": [
                1356998400000,
                1359676800000
               ]
              }
             }
            ],
            "label": "Jan-2013",
            "method": "relayout"
           },
           {
            "args": [
             {
              "xaxis": {
               "range": [
                1359676800000,
                1362096000000
               ]
              }
             }
            ],
            "label": "Feb-2013",
            "method": "relayout"
           },
           {
            "args": [
             {
              "xaxis": {
               "range": [
                1362096000000,
                1364774400000
               ]
              }
             }
            ],
            "label": "Mar-2013",
            "method": "relayout"
           },
           {
            "args": [
             {
              "xaxis": {
               "range": [
                1364774400000,
                1367366400000
               ]
              }
             }
            ],
            "label": "Apr-2013",
            "method": "relayout"
           },
           {
            "args": [
             {
              "xaxis": {
               "range": [
                1367366400000,
                1370044800000
               ]
              }
             }
            ],
            "label": "May-2013",
            "method": "relayout"
           },
           {
            "args": [
             {
              "xaxis": {
               "range": [
                1370044800000,
                1372636800000
               ]
              }
             }
            ],
            "label": "Jun-2013",
            "method": "relayout"
           },
           {
            "args": [
             {
              "xaxis": {
               "range": [
                1372636800000,
                1375315200000
               ]
              }
             }
            ],
            "label": "Jul-2013",
            "method": "relayout"
           },
           {
            "args": [
             {
              "xaxis": {
               "range": [
                1375315200000,
                1377993600000
               ]
              }
             }
            ],
            "label": "Aug-2013",
            "method": "relayout"
           },
           {
            "args": [
             {
              "xaxis": {
               "range": [
                1377993600000,
                1380585600000
               ]
              }
             }
            ],
            "label": "Sep-2013",
            "method": "relayout"
           },
           {
            "args": [
             {
              "xaxis": {
               "range": [
                1380585600000,
                1383264000000
               ]
              }
             }
            ],
            "label": "Oct-2013",
            "method": "relayout"
           },
           {
            "args": [
             {
              "xaxis": {
               "range": [
                1383264000000,
                1385856000000
               ]
              }
             }
            ],
            "label": "Nov-2013",
            "method": "relayout"
           },
           {
            "args": [
             {
              "xaxis": {
               "range": [
                1385856000000,
                1388534400000
               ]
              }
             }
            ],
            "label": "Dec-2013",
            "method": "relayout"
           },
           {
            "args": [
             {
              "xaxis": {
               "range": [
                1388534400000,
                1391212800000
               ]
              }
             }
            ],
            "label": "Jan-2014",
            "method": "relayout"
           },
           {
            "args": [
             {
              "xaxis": {
               "range": [
                1391212800000,
                1393632000000
               ]
              }
             }
            ],
            "label": "Feb-2014",
            "method": "relayout"
           },
           {
            "args": [
             {
              "xaxis": {
               "range": [
                1393632000000,
                1396310400000
               ]
              }
             }
            ],
            "label": "Mar-2014",
            "method": "relayout"
           },
           {
            "args": [
             {
              "xaxis": {
               "range": [
                1396310400000,
                1398902400000
               ]
              }
             }
            ],
            "label": "Apr-2014",
            "method": "relayout"
           },
           {
            "args": [
             {
              "xaxis": {
               "range": [
                1398902400000,
                1401580800000
               ]
              }
             }
            ],
            "label": "May-2014",
            "method": "relayout"
           },
           {
            "args": [
             {
              "xaxis": {
               "range": [
                1401580800000,
                1404172800000
               ]
              }
             }
            ],
            "label": "Jun-2014",
            "method": "relayout"
           },
           {
            "args": [
             {
              "xaxis": {
               "range": [
                1404172800000,
                1406851200000
               ]
              }
             }
            ],
            "label": "Jul-2014",
            "method": "relayout"
           },
           {
            "args": [
             {
              "xaxis": {
               "range": [
                1406851200000,
                1409529600000
               ]
              }
             }
            ],
            "label": "Aug-2014",
            "method": "relayout"
           },
           {
            "args": [
             {
              "xaxis": {
               "range": [
                1409529600000,
                1412121600000
               ]
              }
             }
            ],
            "label": "Sep-2014",
            "method": "relayout"
           },
           {
            "args": [
             {
              "xaxis": {
               "range": [
                1412121600000,
                1414800000000
               ]
              }
             }
            ],
            "label": "Oct-2014",
            "method": "relayout"
           },
           {
            "args": [
             {
              "xaxis": {
               "range": [
                1414800000000,
                1417392000000
               ]
              }
             }
            ],
            "label": "Nov-2014",
            "method": "relayout"
           },
           {
            "args": [
             {
              "xaxis": {
               "range": [
                1417392000000,
                1420070400000
               ]
              }
             }
            ],
            "label": "Dec-2014",
            "method": "relayout"
           },
           {
            "args": [
             {
              "xaxis": {
               "range": [
                1420070400000,
                1422748800000
               ]
              }
             }
            ],
            "label": "Jan-2015",
            "method": "relayout"
           },
           {
            "args": [
             {
              "xaxis": {
               "range": [
                1422748800000,
                1425168000000
               ]
              }
             }
            ],
            "label": "Feb-2015",
            "method": "relayout"
           },
           {
            "args": [
             {
              "xaxis": {
               "range": [
                1425168000000,
                1427846400000
               ]
              }
             }
            ],
            "label": "Mar-2015",
            "method": "relayout"
           },
           {
            "args": [
             {
              "xaxis": {
               "range": [
                1427846400000,
                1430438400000
               ]
              }
             }
            ],
            "label": "Apr-2015",
            "method": "relayout"
           },
           {
            "args": [
             {
              "xaxis": {
               "range": [
                1430438400000,
                1433116800000
               ]
              }
             }
            ],
            "label": "May-2015",
            "method": "relayout"
           },
           {
            "args": [
             {
              "xaxis": {
               "range": [
                1433116800000,
                1435708800000
               ]
              }
             }
            ],
            "label": "Jun-2015",
            "method": "relayout"
           },
           {
            "args": [
             {
              "xaxis": {
               "range": [
                1435708800000,
                1438387200000
               ]
              }
             }
            ],
            "label": "Jul-2015",
            "method": "relayout"
           },
           {
            "args": [
             {
              "xaxis": {
               "range": [
                1438387200000,
                1441065600000
               ]
              }
             }
            ],
            "label": "Aug-2015",
            "method": "relayout"
           },
           {
            "args": [
             {
              "xaxis": {
               "range": [
                1441065600000,
                1443657600000
               ]
              }
             }
            ],
            "label": "Sep-2015",
            "method": "relayout"
           },
           {
            "args": [
             {
              "xaxis": {
               "range": [
                1443657600000,
                1446336000000
               ]
              }
             }
            ],
            "label": "Oct-2015",
            "method": "relayout"
           },
           {
            "args": [
             {
              "xaxis": {
               "range": [
                1446336000000,
                1448928000000
               ]
              }
             }
            ],
            "label": "Nov-2015",
            "method": "relayout"
           },
           {
            "args": [
             {
              "xaxis": {
               "range": [
                1448928000000,
                1451606400000
               ]
              }
             }
            ],
            "label": "Dec-2015",
            "method": "relayout"
           },
           {
            "args": [
             {
              "xaxis": {
               "range": [
                1451606400000,
                1454284800000
               ]
              }
             }
            ],
            "label": "Jan-2016",
            "method": "relayout"
           },
           {
            "args": [
             {
              "xaxis": {
               "range": [
                1454284800000,
                1456790400000
               ]
              }
             }
            ],
            "label": "Feb-2016",
            "method": "relayout"
           },
           {
            "args": [
             {
              "xaxis": {
               "range": [
                1456790400000,
                1459468800000
               ]
              }
             }
            ],
            "label": "Mar-2016",
            "method": "relayout"
           },
           {
            "args": [
             {
              "xaxis": {
               "range": [
                1459468800000,
                1462060800000
               ]
              }
             }
            ],
            "label": "Apr-2016",
            "method": "relayout"
           },
           {
            "args": [
             {
              "xaxis": {
               "range": [
                1462060800000,
                1464739200000
               ]
              }
             }
            ],
            "label": "May-2016",
            "method": "relayout"
           },
           {
            "args": [
             {
              "xaxis": {
               "range": [
                1464739200000,
                1467331200000
               ]
              }
             }
            ],
            "label": "Jun-2016",
            "method": "relayout"
           },
           {
            "args": [
             {
              "xaxis": {
               "range": [
                1467331200000,
                1470009600000
               ]
              }
             }
            ],
            "label": "Jul-2016",
            "method": "relayout"
           },
           {
            "args": [
             {
              "xaxis": {
               "range": [
                1470009600000,
                1472688000000
               ]
              }
             }
            ],
            "label": "Aug-2016",
            "method": "relayout"
           },
           {
            "args": [
             {
              "xaxis": {
               "range": [
                1472688000000,
                1475280000000
               ]
              }
             }
            ],
            "label": "Sep-2016",
            "method": "relayout"
           },
           {
            "args": [
             {
              "xaxis": {
               "range": [
                1475280000000,
                1477958400000
               ]
              }
             }
            ],
            "label": "Oct-2016",
            "method": "relayout"
           },
           {
            "args": [
             {
              "xaxis": {
               "range": [
                1477958400000,
                1480550400000
               ]
              }
             }
            ],
            "label": "Nov-2016",
            "method": "relayout"
           },
           {
            "args": [
             {
              "xaxis": {
               "range": [
                1480550400000,
                1483228800000
               ]
              }
             }
            ],
            "label": "Dec-2016",
            "method": "relayout"
           },
           {
            "args": [
             {
              "xaxis": {
               "range": [
                1483228800000,
                1485907200000
               ]
              }
             }
            ],
            "label": "Jan-2017",
            "method": "relayout"
           },
           {
            "args": [
             {
              "xaxis": {
               "range": [
                1485907200000,
                1488326400000
               ]
              }
             }
            ],
            "label": "Feb-2017",
            "method": "relayout"
           },
           {
            "args": [
             {
              "xaxis": {
               "range": [
                1488326400000,
                1491004800000
               ]
              }
             }
            ],
            "label": "Mar-2017",
            "method": "relayout"
           },
           {
            "args": [
             {
              "xaxis": {
               "range": [
                1491004800000,
                1493596800000
               ]
              }
             }
            ],
            "label": "Apr-2017",
            "method": "relayout"
           },
           {
            "args": [
             {
              "xaxis": {
               "range": [
                1493596800000,
                1496275200000
               ]
              }
             }
            ],
            "label": "May-2017",
            "method": "relayout"
           },
           {
            "args": [
             {
              "xaxis": {
               "range": [
                1496275200000,
                1498867200000
               ]
              }
             }
            ],
            "label": "Jun-2017",
            "method": "relayout"
           },
           {
            "args": [
             {
              "xaxis": {
               "range": [
                1498867200000,
                1501545600000
               ]
              }
             }
            ],
            "label": "Jul-2017",
            "method": "relayout"
           },
           {
            "args": [
             {
              "xaxis": {
               "range": [
                1501545600000,
                1504224000000
               ]
              }
             }
            ],
            "label": "Aug-2017",
            "method": "relayout"
           },
           {
            "args": [
             {
              "xaxis": {
               "range": [
                1504224000000,
                1506816000000
               ]
              }
             }
            ],
            "label": "Sep-2017",
            "method": "relayout"
           },
           {
            "args": [
             {
              "xaxis": {
               "range": [
                1506816000000,
                1509494400000
               ]
              }
             }
            ],
            "label": "Oct-2017",
            "method": "relayout"
           },
           {
            "args": [
             {
              "xaxis": {
               "range": [
                1509494400000,
                1512086400000
               ]
              }
             }
            ],
            "label": "Nov-2017",
            "method": "relayout"
           },
           {
            "args": [
             {
              "xaxis": {
               "range": [
                1512086400000,
                1514764800000
               ]
              }
             }
            ],
            "label": "Dec-2017",
            "method": "relayout"
           },
           {
            "args": [
             {
              "xaxis": {
               "range": [
                1514764800000,
                1517443200000
               ]
              }
             }
            ],
            "label": "Jan-2018",
            "method": "relayout"
           },
           {
            "args": [
             {
              "xaxis": {
               "range": [
                1517443200000,
                1519862400000
               ]
              }
             }
            ],
            "label": "Feb-2018",
            "method": "relayout"
           },
           {
            "args": [
             {
              "xaxis": {
               "range": [
                1519862400000,
                1522540800000
               ]
              }
             }
            ],
            "label": "Mar-2018",
            "method": "relayout"
           },
           {
            "args": [
             {
              "xaxis": {
               "range": [
                1522540800000,
                1525132800000
               ]
              }
             }
            ],
            "label": "Apr-2018",
            "method": "relayout"
           },
           {
            "args": [
             {
              "xaxis": {
               "range": [
                1525132800000,
                1527811200000
               ]
              }
             }
            ],
            "label": "May-2018",
            "method": "relayout"
           },
           {
            "args": [
             {
              "xaxis": {
               "range": [
                1527811200000,
                1530403200000
               ]
              }
             }
            ],
            "label": "Jun-2018",
            "method": "relayout"
           },
           {
            "args": [
             {
              "xaxis": {
               "range": [
                1530403200000,
                1533081600000
               ]
              }
             }
            ],
            "label": "Jul-2018",
            "method": "relayout"
           },
           {
            "args": [
             {
              "xaxis": {
               "range": [
                1533081600000,
                1535760000000
               ]
              }
             }
            ],
            "label": "Aug-2018",
            "method": "relayout"
           },
           {
            "args": [
             {
              "xaxis": {
               "range": [
                1535760000000,
                1538352000000
               ]
              }
             }
            ],
            "label": "Sep-2018",
            "method": "relayout"
           },
           {
            "args": [
             {
              "xaxis": {
               "range": [
                1538352000000,
                1541030400000
               ]
              }
             }
            ],
            "label": "Oct-2018",
            "method": "relayout"
           },
           {
            "args": [
             {
              "xaxis": {
               "range": [
                1541030400000,
                1543622400000
               ]
              }
             }
            ],
            "label": "Nov-2018",
            "method": "relayout"
           },
           {
            "args": [
             {
              "xaxis": {
               "range": [
                1543622400000,
                1546300800000
               ]
              }
             }
            ],
            "label": "Dec-2018",
            "method": "relayout"
           },
           {
            "args": [
             {
              "xaxis": {
               "range": [
                1546300800000,
                1548979200000
               ]
              }
             }
            ],
            "label": "Jan-2019",
            "method": "relayout"
           },
           {
            "args": [
             {
              "xaxis": {
               "range": [
                1548979200000,
                1551398400000
               ]
              }
             }
            ],
            "label": "Feb-2019",
            "method": "relayout"
           },
           {
            "args": [
             {
              "xaxis": {
               "range": [
                1551398400000,
                1554076800000
               ]
              }
             }
            ],
            "label": "Mar-2019",
            "method": "relayout"
           },
           {
            "args": [
             {
              "xaxis": {
               "range": [
                1554076800000,
                1556668800000
               ]
              }
             }
            ],
            "label": "Apr-2019",
            "method": "relayout"
           },
           {
            "args": [
             {
              "xaxis": {
               "range": [
                1556668800000,
                1559347200000
               ]
              }
             }
            ],
            "label": "May-2019",
            "method": "relayout"
           },
           {
            "args": [
             {
              "xaxis": {
               "range": [
                1559347200000,
                1561939200000
               ]
              }
             }
            ],
            "label": "Jun-2019",
            "method": "relayout"
           },
           {
            "args": [
             {
              "xaxis": {
               "range": [
                1561939200000,
                1564617600000
               ]
              }
             }
            ],
            "label": "Jul-2019",
            "method": "relayout"
           },
           {
            "args": [
             {
              "xaxis": {
               "range": [
                1564617600000,
                1567296000000
               ]
              }
             }
            ],
            "label": "Aug-2019",
            "method": "relayout"
           },
           {
            "args": [
             {
              "xaxis": {
               "range": [
                1567296000000,
                1569888000000
               ]
              }
             }
            ],
            "label": "Sep-2019",
            "method": "relayout"
           },
           {
            "args": [
             {
              "xaxis": {
               "range": [
                1569888000000,
                1572566400000
               ]
              }
             }
            ],
            "label": "Oct-2019",
            "method": "relayout"
           },
           {
            "args": [
             {
              "xaxis": {
               "range": [
                1572566400000,
                1575158400000
               ]
              }
             }
            ],
            "label": "Nov-2019",
            "method": "relayout"
           },
           {
            "args": [
             {
              "xaxis": {
               "range": [
                1575158400000,
                1577836800000
               ]
              }
             }
            ],
            "label": "Dec-2019",
            "method": "relayout"
           },
           {
            "args": [
             {
              "xaxis": {
               "range": [
                1577836800000,
                1580515200000
               ]
              }
             }
            ],
            "label": "Jan-2020",
            "method": "relayout"
           },
           {
            "args": [
             {
              "xaxis": {
               "range": [
                1580515200000,
                1583020800000
               ]
              }
             }
            ],
            "label": "Feb-2020",
            "method": "relayout"
           },
           {
            "args": [
             {
              "xaxis": {
               "range": [
                1583020800000,
                1585699200000
               ]
              }
             }
            ],
            "label": "Mar-2020",
            "method": "relayout"
           },
           {
            "args": [
             {
              "xaxis": {
               "range": [
                1585699200000,
                1588291200000
               ]
              }
             }
            ],
            "label": "Apr-2020",
            "method": "relayout"
           },
           {
            "args": [
             {
              "xaxis": {
               "range": [
                1588291200000,
                1590969600000
               ]
              }
             }
            ],
            "label": "May-2020",
            "method": "relayout"
           },
           {
            "args": [
             {
              "xaxis": {
               "range": [
                1590969600000,
                1593561600000
               ]
              }
             }
            ],
            "label": "Jun-2020",
            "method": "relayout"
           },
           {
            "args": [
             {
              "xaxis": {
               "range": [
                1593561600000,
                1596240000000
               ]
              }
             }
            ],
            "label": "Jul-2020",
            "method": "relayout"
           },
           {
            "args": [
             {
              "xaxis": {
               "range": [
                1596240000000,
                1598918400000
               ]
              }
             }
            ],
            "label": "Aug-2020",
            "method": "relayout"
           },
           {
            "args": [
             {
              "xaxis": {
               "range": [
                1598918400000,
                1601510400000
               ]
              }
             }
            ],
            "label": "Sep-2020",
            "method": "relayout"
           },
           {
            "args": [
             {
              "xaxis": {
               "range": [
                1601510400000,
                1604188800000
               ]
              }
             }
            ],
            "label": "Oct-2020",
            "method": "relayout"
           },
           {
            "args": [
             {
              "xaxis": {
               "range": [
                1604188800000,
                1606780800000
               ]
              }
             }
            ],
            "label": "Nov-2020",
            "method": "relayout"
           },
           {
            "args": [
             {
              "xaxis": {
               "range": [
                1606780800000,
                1609459200000
               ]
              }
             }
            ],
            "label": "Dec-2020",
            "method": "relayout"
           },
           {
            "args": [
             {
              "xaxis": {
               "range": [
                1609459200000,
                1612137600000
               ]
              }
             }
            ],
            "label": "Jan-2021",
            "method": "relayout"
           },
           {
            "args": [
             {
              "xaxis": {
               "range": [
                1612137600000,
                1614556800000
               ]
              }
             }
            ],
            "label": "Feb-2021",
            "method": "relayout"
           },
           {
            "args": [
             {
              "xaxis": {
               "range": [
                1614556800000,
                1617235200000
               ]
              }
             }
            ],
            "label": "Mar-2021",
            "method": "relayout"
           },
           {
            "args": [
             {
              "xaxis": {
               "range": [
                1617235200000,
                1619827200000
               ]
              }
             }
            ],
            "label": "Apr-2021",
            "method": "relayout"
           },
           {
            "args": [
             {
              "xaxis": {
               "range": [
                1619827200000,
                1622505600000
               ]
              }
             }
            ],
            "label": "May-2021",
            "method": "relayout"
           },
           {
            "args": [
             {
              "xaxis": {
               "range": [
                1622505600000,
                1625097600000
               ]
              }
             }
            ],
            "label": "Jun-2021",
            "method": "relayout"
           },
           {
            "args": [
             {
              "xaxis": {
               "range": [
                1625097600000,
                1627776000000
               ]
              }
             }
            ],
            "label": "Jul-2021",
            "method": "relayout"
           },
           {
            "args": [
             {
              "xaxis": {
               "range": [
                1627776000000,
                1630454400000
               ]
              }
             }
            ],
            "label": "Aug-2021",
            "method": "relayout"
           },
           {
            "args": [
             {
              "xaxis": {
               "range": [
                1630454400000,
                1633046400000
               ]
              }
             }
            ],
            "label": "Sep-2021",
            "method": "relayout"
           },
           {
            "args": [
             {
              "xaxis": {
               "range": [
                1633046400000,
                1635724800000
               ]
              }
             }
            ],
            "label": "Oct-2021",
            "method": "relayout"
           },
           {
            "args": [
             {
              "xaxis": {
               "range": [
                1635724800000,
                1638316800000
               ]
              }
             }
            ],
            "label": "Nov-2021",
            "method": "relayout"
           },
           {
            "args": [
             {
              "xaxis": {
               "range": [
                1638316800000,
                1640995200000
               ]
              }
             }
            ],
            "label": "Dec-2021",
            "method": "relayout"
           },
           {
            "args": [
             {
              "xaxis": {
               "range": [
                1640995200000,
                1643673600000
               ]
              }
             }
            ],
            "label": "Jan-2022",
            "method": "relayout"
           },
           {
            "args": [
             {
              "xaxis": {
               "range": [
                1643673600000,
                1646092800000
               ]
              }
             }
            ],
            "label": "Feb-2022",
            "method": "relayout"
           },
           {
            "args": [
             {
              "xaxis": {
               "range": [
                1646092800000,
                1648771200000
               ]
              }
             }
            ],
            "label": "Mar-2022",
            "method": "relayout"
           },
           {
            "args": [
             {
              "xaxis": {
               "range": [
                1648771200000,
                1651363200000
               ]
              }
             }
            ],
            "label": "Apr-2022",
            "method": "relayout"
           },
           {
            "args": [
             {
              "xaxis": {
               "range": [
                1651363200000,
                1654041600000
               ]
              }
             }
            ],
            "label": "May-2022",
            "method": "relayout"
           },
           {
            "args": [
             {
              "xaxis": {
               "range": [
                1654041600000,
                1656633600000
               ]
              }
             }
            ],
            "label": "Jun-2022",
            "method": "relayout"
           },
           {
            "args": [
             {
              "xaxis": {
               "range": [
                1656633600000,
                1659312000000
               ]
              }
             }
            ],
            "label": "Jul-2022",
            "method": "relayout"
           },
           {
            "args": [
             {
              "xaxis": {
               "range": [
                1659312000000,
                1661990400000
               ]
              }
             }
            ],
            "label": "Aug-2022",
            "method": "relayout"
           },
           {
            "args": [
             {
              "xaxis": {
               "range": [
                1661990400000,
                1664582400000
               ]
              }
             }
            ],
            "label": "Sep-2022",
            "method": "relayout"
           },
           {
            "args": [
             {
              "xaxis": {
               "range": [
                1664582400000,
                1667260800000
               ]
              }
             }
            ],
            "label": "Oct-2022",
            "method": "relayout"
           },
           {
            "args": [
             {
              "xaxis": {
               "range": [
                1667260800000,
                1669852800000
               ]
              }
             }
            ],
            "label": "Nov-2022",
            "method": "relayout"
           },
           {
            "args": [
             {
              "xaxis": {
               "range": [
                1669852800000,
                1672531200000
               ]
              }
             }
            ],
            "label": "Dec-2022",
            "method": "relayout"
           },
           {
            "args": [
             {
              "xaxis": {
               "range": [
                1672531200000,
                1675209600000
               ]
              }
             }
            ],
            "label": "Jan-2023",
            "method": "relayout"
           },
           {
            "args": [
             {
              "xaxis": {
               "range": [
                1675209600000,
                1677628800000
               ]
              }
             }
            ],
            "label": "Feb-2023",
            "method": "relayout"
           },
           {
            "args": [
             {
              "xaxis": {
               "range": [
                1677628800000,
                1680307200000
               ]
              }
             }
            ],
            "label": "Mar-2023",
            "method": "relayout"
           },
           {
            "args": [
             {
              "xaxis": {
               "range": [
                1680307200000,
                1682899200000
               ]
              }
             }
            ],
            "label": "Apr-2023",
            "method": "relayout"
           },
           {
            "args": [
             {
              "xaxis": {
               "range": [
                1682899200000,
                1682985600000
               ]
              }
             }
            ],
            "label": "May-2023",
            "method": "relayout"
           }
          ]
         },
         {
          "buttons": [
           {
            "args": [
             {
              "xaxis": {
               "range": []
              }
             }
            ],
            "label": "All data",
            "method": "relayout"
           }
          ],
          "type": "buttons",
          "y": 0.8
         }
        ],
        "xaxis": {
         "anchor": "y",
         "domain": [
          0,
          1
         ],
         "title": {
          "text": "date"
         }
        },
        "yaxis": {
         "anchor": "x",
         "domain": [
          0,
          1
         ],
         "title": {
          "text": "Count"
         }
        }
       }
      },
      "text/html": [
       "<div>                            <div id=\"fbe40880-1bd4-4dea-bcb6-cc22511ab408\" class=\"plotly-graph-div\" style=\"height:525px; width:100%;\"></div>            <script type=\"text/javascript\">                require([\"plotly\"], function(Plotly) {                    window.PLOTLYENV=window.PLOTLYENV || {};                                    if (document.getElementById(\"fbe40880-1bd4-4dea-bcb6-cc22511ab408\")) {                    Plotly.newPlot(                        \"fbe40880-1bd4-4dea-bcb6-cc22511ab408\",                        [{\"alignmentgroup\": \"True\", \"hovertemplate\": \"date=%{x}<br>Count=%{y}<extra></extra>\", \"legendgroup\": \"\", \"marker\": {\"color\": \"#636efa\"}, \"name\": \"\", \"offsetgroup\": \"\", \"orientation\": \"v\", \"showlegend\": false, \"textposition\": \"auto\", \"type\": \"bar\", \"x\": [\"2008-11-07T00:00:00\", \"2008-11-10T00:00:00\", \"2008-11-11T00:00:00\", \"2008-11-14T00:00:00\", \"2008-11-17T00:00:00\", \"2008-11-19T00:00:00\", \"2008-11-20T00:00:00\", \"2008-11-25T00:00:00\", \"2008-11-28T00:00:00\", \"2008-12-05T00:00:00\", \"2008-12-08T00:00:00\", \"2008-12-09T00:00:00\", \"2008-12-22T00:00:00\", \"2008-12-26T00:00:00\", \"2009-01-11T00:00:00\", \"2009-01-12T00:00:00\", \"2009-01-13T00:00:00\", \"2009-01-20T00:00:00\", \"2009-01-22T00:00:00\", \"2009-01-23T00:00:00\", \"2009-01-24T00:00:00\", \"2009-01-26T00:00:00\", \"2009-01-27T00:00:00\", \"2009-02-03T00:00:00\", \"2009-02-05T00:00:00\", \"2009-02-09T00:00:00\", \"2009-02-17T00:00:00\", \"2009-02-18T00:00:00\", \"2009-02-19T00:00:00\", \"2009-02-26T00:00:00\", \"2009-02-27T00:00:00\", \"2009-03-02T00:00:00\", \"2009-03-03T00:00:00\", \"2009-03-04T00:00:00\", \"2009-03-05T00:00:00\", \"2009-03-09T00:00:00\", \"2009-03-11T00:00:00\", \"2009-03-18T00:00:00\", \"2009-03-25T00:00:00\", \"2009-03-26T00:00:00\", \"2009-03-30T00:00:00\", \"2009-03-31T00:00:00\", \"2009-04-13T00:00:00\", \"2009-04-16T00:00:00\", \"2009-04-20T00:00:00\", \"2009-04-21T00:00:00\", \"2009-04-22T00:00:00\", \"2009-04-23T00:00:00\", \"2009-04-24T00:00:00\", \"2009-04-27T00:00:00\", \"2009-04-28T00:00:00\", \"2009-04-29T00:00:00\", \"2009-04-30T00:00:00\", \"2009-05-05T00:00:00\", \"2009-05-06T00:00:00\", \"2009-05-08T00:00:00\", \"2009-05-11T00:00:00\", \"2009-05-13T00:00:00\", \"2009-05-14T00:00:00\", \"2009-05-18T00:00:00\", \"2009-05-21T00:00:00\", \"2009-05-22T00:00:00\", \"2009-05-27T00:00:00\", \"2009-06-03T00:00:00\", \"2009-06-04T00:00:00\", \"2009-06-08T00:00:00\", \"2009-06-10T00:00:00\", \"2009-06-11T00:00:00\", \"2009-06-14T00:00:00\", \"2009-06-17T00:00:00\", \"2009-06-18T00:00:00\", \"2009-06-19T00:00:00\", \"2009-06-29T00:00:00\", \"2009-07-01T00:00:00\", \"2009-07-08T00:00:00\", \"2009-07-09T00:00:00\", \"2009-07-10T00:00:00\", \"2009-07-12T00:00:00\", \"2009-07-13T00:00:00\", \"2009-07-16T00:00:00\", \"2009-07-17T00:00:00\", \"2009-07-23T00:00:00\", \"2009-07-24T00:00:00\", \"2009-07-30T00:00:00\", \"2009-08-10T00:00:00\", \"2009-08-13T00:00:00\", \"2009-08-17T00:00:00\", \"2009-08-20T00:00:00\", \"2009-09-03T00:00:00\", \"2009-09-08T00:00:00\", \"2009-09-09T00:00:00\", \"2009-09-17T00:00:00\", \"2009-09-22T00:00:00\", \"2009-09-24T00:00:00\", \"2009-09-28T00:00:00\", \"2009-09-30T00:00:00\", \"2009-10-01T00:00:00\", \"2009-10-02T00:00:00\", \"2009-10-05T00:00:00\", \"2009-10-08T00:00:00\", \"2009-10-20T00:00:00\", \"2009-10-22T00:00:00\", \"2009-10-26T00:00:00\", \"2009-10-27T00:00:00\", \"2009-10-29T00:00:00\", \"2009-11-06T00:00:00\", \"2009-11-07T00:00:00\", \"2009-11-09T00:00:00\", \"2009-11-10T00:00:00\", \"2009-11-12T00:00:00\", \"2009-11-13T00:00:00\", \"2009-11-16T00:00:00\", \"2009-11-27T00:00:00\", \"2009-12-01T00:00:00\", \"2009-12-02T00:00:00\", \"2009-12-08T00:00:00\", \"2009-12-09T00:00:00\", \"2009-12-10T00:00:00\", \"2009-12-15T00:00:00\", \"2009-12-23T00:00:00\", \"2010-01-11T00:00:00\", \"2010-01-13T00:00:00\", \"2010-01-14T00:00:00\", \"2010-01-22T00:00:00\", \"2010-01-26T00:00:00\", \"2010-01-28T00:00:00\", \"2010-02-01T00:00:00\", \"2010-02-02T00:00:00\", \"2010-02-04T00:00:00\", \"2010-02-09T00:00:00\", \"2010-02-16T00:00:00\", \"2010-02-18T00:00:00\", \"2010-02-25T00:00:00\", \"2010-03-08T00:00:00\", \"2010-03-09T00:00:00\", \"2010-03-22T00:00:00\", \"2010-03-23T00:00:00\", \"2010-03-24T00:00:00\", \"2010-03-25T00:00:00\", \"2010-03-29T00:00:00\", \"2010-03-30T00:00:00\", \"2010-04-09T00:00:00\", \"2010-04-11T00:00:00\", \"2010-04-15T00:00:00\", \"2010-04-21T00:00:00\", \"2010-04-27T00:00:00\", \"2010-04-28T00:00:00\", \"2010-05-02T00:00:00\", \"2010-05-03T00:00:00\", \"2010-05-06T00:00:00\", \"2010-05-07T00:00:00\", \"2010-05-10T00:00:00\", \"2010-05-13T00:00:00\", \"2010-05-17T00:00:00\", \"2010-05-20T00:00:00\", \"2010-05-24T00:00:00\", \"2010-05-26T00:00:00\", \"2010-05-27T00:00:00\", \"2010-06-02T00:00:00\", \"2010-06-04T00:00:00\", \"2010-06-08T00:00:00\", \"2010-06-10T00:00:00\", \"2010-06-27T00:00:00\", \"2010-06-28T00:00:00\", \"2010-07-01T00:00:00\", \"2010-07-05T00:00:00\", \"2010-07-06T00:00:00\", \"2010-07-07T00:00:00\", \"2010-07-08T00:00:00\", \"2010-07-13T00:00:00\", \"2010-07-16T00:00:00\", \"2010-07-23T00:00:00\", \"2010-07-28T00:00:00\", \"2010-08-09T00:00:00\", \"2010-08-18T00:00:00\", \"2010-08-19T00:00:00\", \"2010-08-24T00:00:00\", \"2010-08-25T00:00:00\", \"2010-08-30T00:00:00\", \"2010-08-31T00:00:00\", \"2010-09-09T00:00:00\", \"2010-09-10T00:00:00\", \"2010-09-14T00:00:00\", \"2010-09-17T00:00:00\", \"2010-09-20T00:00:00\", \"2010-09-23T00:00:00\", \"2010-09-29T00:00:00\", \"2010-09-30T00:00:00\", \"2010-10-08T00:00:00\", \"2010-10-10T00:00:00\", \"2010-10-11T00:00:00\", \"2010-10-12T00:00:00\", \"2010-10-19T00:00:00\", \"2010-10-21T00:00:00\", \"2010-10-27T00:00:00\", \"2010-10-29T00:00:00\", \"2010-11-01T00:00:00\", \"2010-11-03T00:00:00\", \"2010-11-05T00:00:00\", \"2010-11-08T00:00:00\", \"2010-11-09T00:00:00\", \"2010-11-11T00:00:00\", \"2010-11-12T00:00:00\", \"2010-11-17T00:00:00\", \"2010-11-29T00:00:00\", \"2010-12-03T00:00:00\", \"2010-12-06T00:00:00\", \"2010-12-08T00:00:00\", \"2010-12-09T00:00:00\", \"2010-12-13T00:00:00\", \"2010-12-15T00:00:00\", \"2010-12-16T00:00:00\", \"2010-12-17T00:00:00\", \"2010-12-20T00:00:00\", \"2010-12-28T00:00:00\", \"2010-12-29T00:00:00\", \"2010-12-31T00:00:00\", \"2011-01-05T00:00:00\", \"2011-01-12T00:00:00\", \"2011-01-19T00:00:00\", \"2011-01-24T00:00:00\", \"2011-01-25T00:00:00\", \"2011-01-26T00:00:00\", \"2011-02-01T00:00:00\", \"2011-02-06T00:00:00\", \"2011-02-08T00:00:00\", \"2011-02-21T00:00:00\", \"2011-02-23T00:00:00\", \"2011-02-25T00:00:00\", \"2011-02-27T00:00:00\", \"2011-02-28T00:00:00\", \"2011-03-02T00:00:00\", \"2011-03-03T00:00:00\", \"2011-03-07T00:00:00\", \"2011-03-08T00:00:00\", \"2011-03-11T00:00:00\", \"2011-03-17T00:00:00\", \"2011-03-23T00:00:00\", \"2011-03-30T00:00:00\", \"2011-04-04T00:00:00\", \"2011-04-05T00:00:00\", \"2011-04-06T00:00:00\", \"2011-04-07T00:00:00\", \"2011-04-08T00:00:00\", \"2011-04-11T00:00:00\", \"2011-04-13T00:00:00\", \"2011-04-15T00:00:00\", \"2011-04-19T00:00:00\", \"2011-04-20T00:00:00\", \"2011-04-21T00:00:00\", \"2011-04-22T00:00:00\", \"2011-04-26T00:00:00\", \"2011-04-27T00:00:00\", \"2011-04-28T00:00:00\", \"2011-04-29T00:00:00\", \"2011-05-02T00:00:00\", \"2011-05-05T00:00:00\", \"2011-05-06T00:00:00\", \"2011-05-09T00:00:00\", \"2011-05-10T00:00:00\", \"2011-05-11T00:00:00\", \"2011-05-16T00:00:00\", \"2011-05-17T00:00:00\", \"2011-05-18T00:00:00\", \"2011-05-19T00:00:00\", \"2011-05-20T00:00:00\", \"2011-05-23T00:00:00\", \"2011-05-24T00:00:00\", \"2011-05-25T00:00:00\", \"2011-05-26T00:00:00\", \"2011-05-27T00:00:00\", \"2011-05-31T00:00:00\", \"2011-06-01T00:00:00\", \"2011-06-07T00:00:00\", \"2011-06-08T00:00:00\", \"2011-06-09T00:00:00\", \"2011-06-10T00:00:00\", \"2011-06-13T00:00:00\", \"2011-06-14T00:00:00\", \"2011-06-16T00:00:00\", \"2011-06-21T00:00:00\", \"2011-06-22T00:00:00\", \"2011-06-23T00:00:00\", \"2011-06-24T00:00:00\", \"2011-06-27T00:00:00\", \"2011-06-28T00:00:00\", \"2011-06-29T00:00:00\", \"2011-06-30T00:00:00\", \"2011-07-01T00:00:00\", \"2011-07-03T00:00:00\", \"2011-07-05T00:00:00\", \"2011-07-08T00:00:00\", \"2011-07-12T00:00:00\", \"2011-07-13T00:00:00\", \"2011-07-14T00:00:00\", \"2011-07-15T00:00:00\", \"2011-07-19T00:00:00\", \"2011-07-20T00:00:00\", \"2011-07-21T00:00:00\", \"2011-07-22T00:00:00\", \"2011-07-25T00:00:00\", \"2011-07-26T00:00:00\", \"2011-07-27T00:00:00\", \"2011-07-28T00:00:00\", \"2011-07-29T00:00:00\", \"2011-08-05T00:00:00\", \"2011-08-08T00:00:00\", \"2011-08-09T00:00:00\", \"2011-08-10T00:00:00\", \"2011-08-11T00:00:00\", \"2011-08-12T00:00:00\", \"2011-08-15T00:00:00\", \"2011-08-16T00:00:00\", \"2011-08-18T00:00:00\", \"2011-08-19T00:00:00\", \"2011-08-23T00:00:00\", \"2011-08-24T00:00:00\", \"2011-08-25T00:00:00\", \"2011-08-26T00:00:00\", \"2011-08-29T00:00:00\", \"2011-08-30T00:00:00\", \"2011-08-31T00:00:00\", \"2011-09-01T00:00:00\", \"2011-09-02T00:00:00\", \"2011-09-06T00:00:00\", \"2011-09-07T00:00:00\", \"2011-09-08T00:00:00\", \"2011-09-09T00:00:00\", \"2011-09-13T00:00:00\", \"2011-09-15T00:00:00\", \"2011-09-16T00:00:00\", \"2011-09-20T00:00:00\", \"2011-09-22T00:00:00\", \"2011-09-23T00:00:00\", \"2011-09-26T00:00:00\", \"2011-09-27T00:00:00\", \"2011-09-29T00:00:00\", \"2011-09-30T00:00:00\", \"2011-10-03T00:00:00\", \"2011-10-07T00:00:00\", \"2011-10-10T00:00:00\", \"2011-10-11T00:00:00\", \"2011-10-14T00:00:00\", \"2011-10-17T00:00:00\", \"2011-10-18T00:00:00\", \"2011-10-20T00:00:00\", \"2011-10-21T00:00:00\", \"2011-10-24T00:00:00\", \"2011-10-25T00:00:00\", \"2011-10-26T00:00:00\", \"2011-10-27T00:00:00\", \"2011-10-28T00:00:00\", \"2011-10-31T00:00:00\", \"2011-11-01T00:00:00\", \"2011-11-03T00:00:00\", \"2011-11-07T00:00:00\", \"2011-11-08T00:00:00\", \"2011-11-09T00:00:00\", \"2011-11-10T00:00:00\", \"2011-11-11T00:00:00\", \"2011-11-18T00:00:00\", \"2011-11-23T00:00:00\", \"2011-11-25T00:00:00\", \"2011-11-29T00:00:00\", \"2011-11-30T00:00:00\", \"2011-12-01T00:00:00\", \"2011-12-05T00:00:00\", \"2011-12-06T00:00:00\", \"2011-12-07T00:00:00\", \"2011-12-08T00:00:00\", \"2011-12-09T00:00:00\", \"2011-12-13T00:00:00\", \"2011-12-15T00:00:00\", \"2011-12-16T00:00:00\", \"2011-12-20T00:00:00\", \"2011-12-22T00:00:00\", \"2011-12-24T00:00:00\", \"2011-12-28T00:00:00\", \"2011-12-29T00:00:00\", \"2011-12-30T00:00:00\", \"2012-01-03T00:00:00\", \"2012-01-04T00:00:00\", \"2012-01-05T00:00:00\", \"2012-01-06T00:00:00\", \"2012-01-09T00:00:00\", \"2012-01-10T00:00:00\", \"2012-01-12T00:00:00\", \"2012-01-13T00:00:00\", \"2012-01-17T00:00:00\", \"2012-01-18T00:00:00\", \"2012-01-23T00:00:00\", \"2012-01-24T00:00:00\", \"2012-01-25T00:00:00\", \"2012-01-26T00:00:00\", \"2012-01-27T00:00:00\", \"2012-01-31T00:00:00\", \"2012-02-02T00:00:00\", \"2012-02-03T00:00:00\", \"2012-02-06T00:00:00\", \"2012-02-08T00:00:00\", \"2012-02-09T00:00:00\", \"2012-02-10T00:00:00\", \"2012-02-13T00:00:00\", \"2012-02-16T00:00:00\", \"2012-02-18T00:00:00\", \"2012-02-21T00:00:00\", \"2012-02-23T00:00:00\", \"2012-02-24T00:00:00\", \"2012-02-27T00:00:00\", \"2012-02-28T00:00:00\", \"2012-02-29T00:00:00\", \"2012-03-01T00:00:00\", \"2012-03-02T00:00:00\", \"2012-03-05T00:00:00\", \"2012-03-07T00:00:00\", \"2012-03-08T00:00:00\", \"2012-03-09T00:00:00\", \"2012-03-10T00:00:00\", \"2012-03-13T00:00:00\", \"2012-03-14T00:00:00\", \"2012-03-15T00:00:00\", \"2012-03-16T00:00:00\", \"2012-03-21T00:00:00\", \"2012-03-22T00:00:00\", \"2012-03-23T00:00:00\", \"2012-03-26T00:00:00\", \"2012-03-27T00:00:00\", \"2012-03-28T00:00:00\", \"2012-03-29T00:00:00\", \"2012-03-30T00:00:00\", \"2012-04-04T00:00:00\", \"2012-04-05T00:00:00\", \"2012-04-09T00:00:00\", \"2012-04-10T00:00:00\", \"2012-04-11T00:00:00\", \"2012-04-12T00:00:00\", \"2012-04-16T00:00:00\", \"2012-04-18T00:00:00\", \"2012-04-19T00:00:00\", \"2012-04-20T00:00:00\", \"2012-04-24T00:00:00\", \"2012-04-25T00:00:00\", \"2012-04-26T00:00:00\", \"2012-04-27T00:00:00\", \"2012-04-30T00:00:00\", \"2012-05-01T00:00:00\", \"2012-05-04T00:00:00\", \"2012-05-07T00:00:00\", \"2012-05-08T00:00:00\", \"2012-05-14T00:00:00\", \"2012-05-15T00:00:00\", \"2012-05-16T00:00:00\", \"2012-05-18T00:00:00\", \"2012-05-21T00:00:00\", \"2012-05-23T00:00:00\", \"2012-05-24T00:00:00\", \"2012-05-25T00:00:00\", \"2012-05-29T00:00:00\", \"2012-05-31T00:00:00\", \"2012-06-01T00:00:00\", \"2012-06-04T00:00:00\", \"2012-06-05T00:00:00\", \"2012-06-07T00:00:00\", \"2012-06-08T00:00:00\", \"2012-06-11T00:00:00\", \"2012-06-12T00:00:00\", \"2012-06-14T00:00:00\", \"2012-06-15T00:00:00\", \"2012-06-19T00:00:00\", \"2012-06-20T00:00:00\", \"2012-06-22T00:00:00\", \"2012-06-25T00:00:00\", \"2012-06-26T00:00:00\", \"2012-06-28T00:00:00\", \"2012-06-29T00:00:00\", \"2012-07-03T00:00:00\", \"2012-07-05T00:00:00\", \"2012-07-09T00:00:00\", \"2012-07-11T00:00:00\", \"2012-07-12T00:00:00\", \"2012-07-13T00:00:00\", \"2012-07-17T00:00:00\", \"2012-07-18T00:00:00\", \"2012-07-19T00:00:00\", \"2012-07-20T00:00:00\", \"2012-07-23T00:00:00\", \"2012-07-24T00:00:00\", \"2012-07-26T00:00:00\", \"2012-07-27T00:00:00\", \"2012-07-31T00:00:00\", \"2012-08-01T00:00:00\", \"2012-08-02T00:00:00\", \"2012-08-03T00:00:00\", \"2012-08-07T00:00:00\", \"2012-08-08T00:00:00\", \"2012-08-10T00:00:00\", \"2012-08-13T00:00:00\", \"2012-08-16T00:00:00\", \"2012-08-17T00:00:00\", \"2012-08-22T00:00:00\", \"2012-08-23T00:00:00\", \"2012-08-27T00:00:00\", \"2012-08-30T00:00:00\", \"2012-09-05T00:00:00\", \"2012-09-07T00:00:00\", \"2012-09-10T00:00:00\", \"2012-09-11T00:00:00\", \"2012-09-12T00:00:00\", \"2012-09-13T00:00:00\", \"2012-09-14T00:00:00\", \"2012-09-17T00:00:00\", \"2012-09-18T00:00:00\", \"2012-09-20T00:00:00\", \"2012-09-21T00:00:00\", \"2012-09-24T00:00:00\", \"2012-09-27T00:00:00\", \"2012-09-28T00:00:00\", \"2012-10-01T00:00:00\", \"2012-10-02T00:00:00\", \"2012-10-03T00:00:00\", \"2012-10-05T00:00:00\", \"2012-10-09T00:00:00\", \"2012-10-10T00:00:00\", \"2012-10-12T00:00:00\", \"2012-10-15T00:00:00\", \"2012-10-16T00:00:00\", \"2012-10-17T00:00:00\", \"2012-10-18T00:00:00\", \"2012-10-19T00:00:00\", \"2012-10-22T00:00:00\", \"2012-10-25T00:00:00\", \"2012-10-31T00:00:00\", \"2012-11-01T00:00:00\", \"2012-11-05T00:00:00\", \"2012-11-06T00:00:00\", \"2012-11-07T00:00:00\", \"2012-11-08T00:00:00\", \"2012-11-09T00:00:00\", \"2012-11-13T00:00:00\", \"2012-11-14T00:00:00\", \"2012-11-15T00:00:00\", \"2012-11-16T00:00:00\", \"2012-11-20T00:00:00\", \"2012-11-21T00:00:00\", \"2012-11-23T00:00:00\", \"2012-11-26T00:00:00\", \"2012-11-28T00:00:00\", \"2012-11-29T00:00:00\", \"2012-11-30T00:00:00\", \"2012-12-03T00:00:00\", \"2012-12-04T00:00:00\", \"2012-12-05T00:00:00\", \"2012-12-06T00:00:00\", \"2012-12-10T00:00:00\", \"2012-12-13T00:00:00\", \"2012-12-18T00:00:00\", \"2012-12-20T00:00:00\", \"2012-12-21T00:00:00\", \"2012-12-27T00:00:00\", \"2012-12-31T00:00:00\", \"2013-01-02T00:00:00\", \"2013-01-03T00:00:00\", \"2013-01-04T00:00:00\", \"2013-01-07T00:00:00\", \"2013-01-08T00:00:00\", \"2013-01-09T00:00:00\", \"2013-01-10T00:00:00\", \"2013-01-11T00:00:00\", \"2013-01-15T00:00:00\", \"2013-01-16T00:00:00\", \"2013-01-17T00:00:00\", \"2013-01-18T00:00:00\", \"2013-01-22T00:00:00\", \"2013-01-23T00:00:00\", \"2013-01-24T00:00:00\", \"2013-01-25T00:00:00\", \"2013-01-29T00:00:00\", \"2013-01-30T00:00:00\", \"2013-01-31T00:00:00\", \"2013-02-01T00:00:00\", \"2013-02-05T00:00:00\", \"2013-02-07T00:00:00\", \"2013-02-08T00:00:00\", \"2013-02-15T00:00:00\", \"2013-02-20T00:00:00\", \"2013-02-21T00:00:00\", \"2013-02-22T00:00:00\", \"2013-02-25T00:00:00\", \"2013-02-27T00:00:00\", \"2013-02-28T00:00:00\", \"2013-03-01T00:00:00\", \"2013-03-04T00:00:00\", \"2013-03-07T00:00:00\", \"2013-03-08T00:00:00\", \"2013-03-11T00:00:00\", \"2013-03-13T00:00:00\", \"2013-03-14T00:00:00\", \"2013-03-15T00:00:00\", \"2013-03-20T00:00:00\", \"2013-03-22T00:00:00\", \"2013-03-25T00:00:00\", \"2013-04-03T00:00:00\", \"2013-04-04T00:00:00\", \"2013-04-05T00:00:00\", \"2013-04-08T00:00:00\", \"2013-04-11T00:00:00\", \"2013-04-12T00:00:00\", \"2013-04-15T00:00:00\", \"2013-04-16T00:00:00\", \"2013-04-17T00:00:00\", \"2013-04-18T00:00:00\", \"2013-04-19T00:00:00\", \"2013-04-24T00:00:00\", \"2013-04-26T00:00:00\", \"2013-04-29T00:00:00\", \"2013-04-30T00:00:00\", \"2013-05-02T00:00:00\", \"2013-05-03T00:00:00\", \"2013-05-06T00:00:00\", \"2013-05-08T00:00:00\", \"2013-05-09T00:00:00\", \"2013-05-10T00:00:00\", \"2013-05-14T00:00:00\", \"2013-05-15T00:00:00\", \"2013-05-16T00:00:00\", \"2013-05-17T00:00:00\", \"2013-05-20T00:00:00\", \"2013-05-21T00:00:00\", \"2013-05-22T00:00:00\", \"2013-05-23T00:00:00\", \"2013-05-30T00:00:00\", \"2013-05-31T00:00:00\", \"2013-06-03T00:00:00\", \"2013-06-05T00:00:00\", \"2013-06-06T00:00:00\", \"2013-06-10T00:00:00\", \"2013-06-11T00:00:00\", \"2013-06-12T00:00:00\", \"2013-06-17T00:00:00\", \"2013-06-18T00:00:00\", \"2013-06-20T00:00:00\", \"2013-06-21T00:00:00\", \"2013-06-24T00:00:00\", \"2013-06-25T00:00:00\", \"2013-06-27T00:00:00\", \"2013-06-28T00:00:00\", \"2013-07-01T00:00:00\", \"2013-07-02T00:00:00\", \"2013-07-03T00:00:00\", \"2013-07-05T00:00:00\", \"2013-07-08T00:00:00\", \"2013-07-10T00:00:00\", \"2013-07-12T00:00:00\", \"2013-07-15T00:00:00\", \"2013-07-16T00:00:00\", \"2013-07-17T00:00:00\", \"2013-07-19T00:00:00\", \"2013-07-22T00:00:00\", \"2013-07-24T00:00:00\", \"2013-07-25T00:00:00\", \"2013-07-26T00:00:00\", \"2013-07-30T00:00:00\", \"2013-07-31T00:00:00\", \"2013-08-01T00:00:00\", \"2013-08-02T00:00:00\", \"2013-08-05T00:00:00\", \"2013-08-06T00:00:00\", \"2013-08-08T00:00:00\", \"2013-08-13T00:00:00\", \"2013-08-15T00:00:00\", \"2013-08-21T00:00:00\", \"2013-08-22T00:00:00\", \"2013-08-26T00:00:00\", \"2013-08-28T00:00:00\", \"2013-08-29T00:00:00\", \"2013-09-04T00:00:00\", \"2013-09-05T00:00:00\", \"2013-09-06T00:00:00\", \"2013-09-10T00:00:00\", \"2013-09-11T00:00:00\", \"2013-09-12T00:00:00\", \"2013-09-18T00:00:00\", \"2013-09-19T00:00:00\", \"2013-09-20T00:00:00\", \"2013-09-24T00:00:00\", \"2013-09-30T00:00:00\", \"2013-10-02T00:00:00\", \"2013-10-03T00:00:00\", \"2013-10-08T00:00:00\", \"2013-10-10T00:00:00\", \"2013-10-11T00:00:00\", \"2013-10-15T00:00:00\", \"2013-10-16T00:00:00\", \"2013-10-17T00:00:00\", \"2013-10-18T00:00:00\", \"2013-10-21T00:00:00\", \"2013-10-23T00:00:00\", \"2013-10-25T00:00:00\", \"2013-10-28T00:00:00\", \"2013-10-30T00:00:00\", \"2013-10-31T00:00:00\", \"2013-11-05T00:00:00\", \"2013-11-07T00:00:00\", \"2013-11-08T00:00:00\", \"2013-11-13T00:00:00\", \"2013-11-14T00:00:00\", \"2013-11-15T00:00:00\", \"2013-11-18T00:00:00\", \"2013-11-19T00:00:00\", \"2013-11-20T00:00:00\", \"2013-11-21T00:00:00\", \"2013-11-25T00:00:00\", \"2013-11-27T00:00:00\", \"2013-11-29T00:00:00\", \"2013-12-03T00:00:00\", \"2013-12-04T00:00:00\", \"2013-12-05T00:00:00\", \"2013-12-09T00:00:00\", \"2013-12-10T00:00:00\", \"2013-12-11T00:00:00\", \"2013-12-12T00:00:00\", \"2013-12-13T00:00:00\", \"2013-12-17T00:00:00\", \"2013-12-18T00:00:00\", \"2013-12-19T00:00:00\", \"2013-12-20T00:00:00\", \"2013-12-26T00:00:00\", \"2013-12-27T00:00:00\", \"2013-12-31T00:00:00\", \"2014-01-03T00:00:00\", \"2014-01-06T00:00:00\", \"2014-01-07T00:00:00\", \"2014-01-08T00:00:00\", \"2014-01-10T00:00:00\", \"2014-01-13T00:00:00\", \"2014-01-16T00:00:00\", \"2014-01-17T00:00:00\", \"2014-01-21T00:00:00\", \"2014-01-22T00:00:00\", \"2014-01-23T00:00:00\", \"2014-01-24T00:00:00\", \"2014-01-27T00:00:00\", \"2014-01-29T00:00:00\", \"2014-01-30T00:00:00\", \"2014-01-31T00:00:00\", \"2014-02-04T00:00:00\", \"2014-02-05T00:00:00\", \"2014-02-06T00:00:00\", \"2014-02-07T00:00:00\", \"2014-02-09T00:00:00\", \"2014-02-10T00:00:00\", \"2014-02-11T00:00:00\", \"2014-02-13T00:00:00\", \"2014-02-14T00:00:00\", \"2014-02-18T00:00:00\", \"2014-02-19T00:00:00\", \"2014-02-20T00:00:00\", \"2014-02-21T00:00:00\", \"2014-02-24T00:00:00\", \"2014-02-25T00:00:00\", \"2014-02-26T00:00:00\", \"2014-02-27T00:00:00\", \"2014-03-03T00:00:00\", \"2014-03-04T00:00:00\", \"2014-03-05T00:00:00\", \"2014-03-06T00:00:00\", \"2014-03-07T00:00:00\", \"2014-03-10T00:00:00\", \"2014-03-11T00:00:00\", \"2014-03-12T00:00:00\", \"2014-03-13T00:00:00\", \"2014-03-17T00:00:00\", \"2014-03-18T00:00:00\", \"2014-03-19T00:00:00\", \"2014-03-20T00:00:00\", \"2014-03-21T00:00:00\", \"2014-03-22T00:00:00\", \"2014-03-25T00:00:00\", \"2014-03-26T00:00:00\", \"2014-03-27T00:00:00\", \"2014-03-28T00:00:00\", \"2014-04-01T00:00:00\", \"2014-04-02T00:00:00\", \"2014-04-03T00:00:00\", \"2014-04-07T00:00:00\", \"2014-04-08T00:00:00\", \"2014-04-10T00:00:00\", \"2014-04-11T00:00:00\", \"2014-04-14T00:00:00\", \"2014-04-15T00:00:00\", \"2014-04-16T00:00:00\", \"2014-04-17T00:00:00\", \"2014-04-18T00:00:00\", \"2014-04-21T00:00:00\", \"2014-04-22T00:00:00\", \"2014-04-23T00:00:00\", \"2014-04-24T00:00:00\", \"2014-04-25T00:00:00\", \"2014-04-28T00:00:00\", \"2014-04-29T00:00:00\", \"2014-04-30T00:00:00\", \"2014-05-02T00:00:00\", \"2014-05-05T00:00:00\", \"2014-05-06T00:00:00\", \"2014-05-07T00:00:00\", \"2014-05-08T00:00:00\", \"2014-05-09T00:00:00\", \"2014-05-13T00:00:00\", \"2014-05-14T00:00:00\", \"2014-05-15T00:00:00\", \"2014-05-16T00:00:00\", \"2014-05-19T00:00:00\", \"2014-05-21T00:00:00\", \"2014-05-22T00:00:00\", \"2014-05-23T00:00:00\", \"2014-05-27T00:00:00\", \"2014-05-28T00:00:00\", \"2014-05-29T00:00:00\", \"2014-05-30T00:00:00\", \"2014-06-02T00:00:00\", \"2014-06-03T00:00:00\", \"2014-06-04T00:00:00\", \"2014-06-09T00:00:00\", \"2014-06-10T00:00:00\", \"2014-06-12T00:00:00\", \"2014-06-13T00:00:00\", \"2014-06-16T00:00:00\", \"2014-06-18T00:00:00\", \"2014-06-19T00:00:00\", \"2014-06-23T00:00:00\", \"2014-06-24T00:00:00\", \"2014-06-27T00:00:00\", \"2014-07-01T00:00:00\", \"2014-07-02T00:00:00\", \"2014-07-03T00:00:00\", \"2014-07-07T00:00:00\", \"2014-07-10T00:00:00\", \"2014-07-11T00:00:00\", \"2014-07-15T00:00:00\", \"2014-07-18T00:00:00\", \"2014-07-22T00:00:00\", \"2014-07-23T00:00:00\", \"2014-07-24T00:00:00\", \"2014-07-25T00:00:00\", \"2014-07-26T00:00:00\", \"2014-07-27T00:00:00\", \"2014-07-28T00:00:00\", \"2014-07-29T00:00:00\", \"2014-07-30T00:00:00\", \"2014-07-31T00:00:00\", \"2014-08-01T00:00:00\", \"2014-08-04T00:00:00\", \"2014-08-05T00:00:00\", \"2014-08-07T00:00:00\", \"2014-08-08T00:00:00\", \"2014-08-13T00:00:00\", \"2014-08-14T00:00:00\", \"2014-08-15T00:00:00\", \"2014-08-18T00:00:00\", \"2014-08-20T00:00:00\", \"2014-08-21T00:00:00\", \"2014-08-22T00:00:00\", \"2014-08-23T00:00:00\", \"2014-08-25T00:00:00\", \"2014-08-26T00:00:00\", \"2014-08-27T00:00:00\", \"2014-08-28T00:00:00\", \"2014-08-29T00:00:00\", \"2014-09-01T00:00:00\", \"2014-09-02T00:00:00\", \"2014-09-05T00:00:00\", \"2014-09-09T00:00:00\", \"2014-09-10T00:00:00\", \"2014-09-11T00:00:00\", \"2014-09-12T00:00:00\", \"2014-09-15T00:00:00\", \"2014-09-17T00:00:00\", \"2014-09-18T00:00:00\", \"2014-09-22T00:00:00\", \"2014-09-24T00:00:00\", \"2014-09-29T00:00:00\", \"2014-09-30T00:00:00\", \"2014-10-02T00:00:00\", \"2014-10-03T00:00:00\", \"2014-10-07T00:00:00\", \"2014-10-08T00:00:00\", \"2014-10-09T00:00:00\", \"2014-10-10T00:00:00\", \"2014-10-13T00:00:00\", \"2014-10-14T00:00:00\", \"2014-10-15T00:00:00\", \"2014-10-17T00:00:00\", \"2014-10-18T00:00:00\", \"2014-10-19T00:00:00\", \"2014-10-20T00:00:00\", \"2014-10-21T00:00:00\", \"2014-10-22T00:00:00\", \"2014-10-24T00:00:00\", \"2014-10-29T00:00:00\", \"2014-10-30T00:00:00\", \"2014-10-31T00:00:00\", \"2014-11-03T00:00:00\", \"2014-11-04T00:00:00\", \"2014-11-05T00:00:00\", \"2014-11-06T00:00:00\", \"2014-11-07T00:00:00\", \"2014-11-10T00:00:00\", \"2014-11-12T00:00:00\", \"2014-11-13T00:00:00\", \"2014-11-14T00:00:00\", \"2014-11-18T00:00:00\", \"2014-11-19T00:00:00\", \"2014-11-20T00:00:00\", \"2014-11-21T00:00:00\", \"2014-11-24T00:00:00\", \"2014-11-25T00:00:00\", \"2014-11-26T00:00:00\", \"2014-11-28T00:00:00\", \"2014-12-01T00:00:00\", \"2014-12-03T00:00:00\", \"2014-12-04T00:00:00\", \"2014-12-05T00:00:00\", \"2014-12-08T00:00:00\", \"2014-12-09T00:00:00\", \"2014-12-10T00:00:00\", \"2014-12-12T00:00:00\", \"2014-12-14T00:00:00\", \"2014-12-16T00:00:00\", \"2014-12-17T00:00:00\", \"2014-12-18T00:00:00\", \"2014-12-19T00:00:00\", \"2014-12-20T00:00:00\", \"2014-12-22T00:00:00\", \"2014-12-23T00:00:00\", \"2014-12-26T00:00:00\", \"2014-12-29T00:00:00\", \"2014-12-31T00:00:00\", \"2015-01-02T00:00:00\", \"2015-01-05T00:00:00\", \"2015-01-06T00:00:00\", \"2015-01-07T00:00:00\", \"2015-01-08T00:00:00\", \"2015-01-09T00:00:00\", \"2015-01-14T00:00:00\", \"2015-01-16T00:00:00\", \"2015-01-20T00:00:00\", \"2015-01-22T00:00:00\", \"2015-01-23T00:00:00\", \"2015-01-27T00:00:00\", \"2015-01-28T00:00:00\", \"2015-01-29T00:00:00\", \"2015-01-30T00:00:00\", \"2015-02-01T00:00:00\", \"2015-02-02T00:00:00\", \"2015-02-03T00:00:00\", \"2015-02-04T00:00:00\", \"2015-02-05T00:00:00\", \"2015-02-09T00:00:00\", \"2015-02-11T00:00:00\", \"2015-02-12T00:00:00\", \"2015-02-17T00:00:00\", \"2015-02-19T00:00:00\", \"2015-02-23T00:00:00\", \"2015-02-24T00:00:00\", \"2015-02-25T00:00:00\", \"2015-02-26T00:00:00\", \"2015-03-02T00:00:00\", \"2015-03-03T00:00:00\", \"2015-03-04T00:00:00\", \"2015-03-05T00:00:00\", \"2015-03-06T00:00:00\", \"2015-03-09T00:00:00\", \"2015-03-10T00:00:00\", \"2015-03-11T00:00:00\", \"2015-03-12T00:00:00\", \"2015-03-16T00:00:00\", \"2015-03-17T00:00:00\", \"2015-03-18T00:00:00\", \"2015-03-19T00:00:00\", \"2015-03-20T00:00:00\", \"2015-03-23T00:00:00\", \"2015-03-24T00:00:00\", \"2015-03-25T00:00:00\", \"2015-03-26T00:00:00\", \"2015-03-27T00:00:00\", \"2015-03-30T00:00:00\", \"2015-03-31T00:00:00\", \"2015-04-01T00:00:00\", \"2015-04-02T00:00:00\", \"2015-04-06T00:00:00\", \"2015-04-07T00:00:00\", \"2015-04-08T00:00:00\", \"2015-04-10T00:00:00\", \"2015-04-13T00:00:00\", \"2015-04-14T00:00:00\", \"2015-04-15T00:00:00\", \"2015-04-16T00:00:00\", \"2015-04-17T00:00:00\", \"2015-04-20T00:00:00\", \"2015-04-21T00:00:00\", \"2015-04-22T00:00:00\", \"2015-04-24T00:00:00\", \"2015-04-27T00:00:00\", \"2015-04-28T00:00:00\", \"2015-04-29T00:00:00\", \"2015-04-30T00:00:00\", \"2015-05-01T00:00:00\", \"2015-05-04T00:00:00\", \"2015-05-05T00:00:00\", \"2015-05-06T00:00:00\", \"2015-05-07T00:00:00\", \"2015-05-08T00:00:00\", \"2015-05-11T00:00:00\", \"2015-05-12T00:00:00\", \"2015-05-15T00:00:00\", \"2015-05-18T00:00:00\", \"2015-05-19T00:00:00\", \"2015-05-20T00:00:00\", \"2015-05-21T00:00:00\", \"2015-05-22T00:00:00\", \"2015-05-27T00:00:00\", \"2015-05-28T00:00:00\", \"2015-05-29T00:00:00\", \"2015-06-01T00:00:00\", \"2015-06-02T00:00:00\", \"2015-06-04T00:00:00\", \"2015-06-05T00:00:00\", \"2015-06-08T00:00:00\", \"2015-06-09T00:00:00\", \"2015-06-10T00:00:00\", \"2015-06-11T00:00:00\", \"2015-06-12T00:00:00\", \"2015-06-15T00:00:00\", \"2015-06-16T00:00:00\", \"2015-06-17T00:00:00\", \"2015-06-18T00:00:00\", \"2015-06-19T00:00:00\", \"2015-06-22T00:00:00\", \"2015-06-24T00:00:00\", \"2015-06-25T00:00:00\", \"2015-06-26T00:00:00\", \"2015-06-29T00:00:00\", \"2015-06-30T00:00:00\", \"2015-07-02T00:00:00\", \"2015-07-06T00:00:00\", \"2015-07-07T00:00:00\", \"2015-07-08T00:00:00\", \"2015-07-09T00:00:00\", \"2015-07-10T00:00:00\", \"2015-07-13T00:00:00\", \"2015-07-15T00:00:00\", \"2015-07-16T00:00:00\", \"2015-07-17T00:00:00\", \"2015-07-20T00:00:00\", \"2015-07-21T00:00:00\", \"2015-07-22T00:00:00\", \"2015-07-23T00:00:00\", \"2015-07-24T00:00:00\", \"2015-07-27T00:00:00\", \"2015-07-30T00:00:00\", \"2015-07-31T00:00:00\", \"2015-08-03T00:00:00\", \"2015-08-04T00:00:00\", \"2015-08-06T00:00:00\", \"2015-08-07T00:00:00\", \"2015-08-10T00:00:00\", \"2015-08-11T00:00:00\", \"2015-08-12T00:00:00\", \"2015-08-13T00:00:00\", \"2015-08-17T00:00:00\", \"2015-08-18T00:00:00\", \"2015-08-19T00:00:00\", \"2015-08-20T00:00:00\", \"2015-08-21T00:00:00\", \"2015-08-24T00:00:00\", \"2015-08-25T00:00:00\", \"2015-08-26T00:00:00\", \"2015-08-27T00:00:00\", \"2015-08-28T00:00:00\", \"2015-08-29T00:00:00\", \"2015-08-31T00:00:00\", \"2015-09-01T00:00:00\", \"2015-09-04T00:00:00\", \"2015-09-05T00:00:00\", \"2015-09-09T00:00:00\", \"2015-09-11T00:00:00\", \"2015-09-14T00:00:00\", \"2015-09-15T00:00:00\", \"2015-09-17T00:00:00\", \"2015-09-18T00:00:00\", \"2015-09-22T00:00:00\", \"2015-09-24T00:00:00\", \"2015-09-25T00:00:00\", \"2015-09-28T00:00:00\", \"2015-09-29T00:00:00\", \"2015-09-30T00:00:00\", \"2015-10-01T00:00:00\", \"2015-10-02T00:00:00\", \"2015-10-05T00:00:00\", \"2015-10-06T00:00:00\", \"2015-10-08T00:00:00\", \"2015-10-09T00:00:00\", \"2015-10-13T00:00:00\", \"2015-10-14T00:00:00\", \"2015-10-15T00:00:00\", \"2015-10-16T00:00:00\", \"2015-10-19T00:00:00\", \"2015-10-20T00:00:00\", \"2015-10-22T00:00:00\", \"2015-10-23T00:00:00\", \"2015-10-26T00:00:00\", \"2015-10-27T00:00:00\", \"2015-10-28T00:00:00\", \"2015-10-30T00:00:00\", \"2015-11-06T00:00:00\", \"2015-11-09T00:00:00\", \"2015-11-10T00:00:00\", \"2015-11-11T00:00:00\", \"2015-11-12T00:00:00\", \"2015-11-13T00:00:00\", \"2015-11-16T00:00:00\", \"2015-11-17T00:00:00\", \"2015-11-19T00:00:00\", \"2015-11-20T00:00:00\", \"2015-11-21T00:00:00\", \"2015-11-23T00:00:00\", \"2015-11-24T00:00:00\", \"2015-11-25T00:00:00\", \"2015-11-27T00:00:00\", \"2015-11-30T00:00:00\", \"2015-12-01T00:00:00\", \"2015-12-02T00:00:00\", \"2015-12-03T00:00:00\", \"2015-12-04T00:00:00\", \"2015-12-08T00:00:00\", \"2015-12-09T00:00:00\", \"2015-12-10T00:00:00\", \"2015-12-14T00:00:00\", \"2015-12-15T00:00:00\", \"2015-12-16T00:00:00\", \"2015-12-17T00:00:00\", \"2015-12-18T00:00:00\", \"2015-12-21T00:00:00\", \"2015-12-22T00:00:00\", \"2015-12-23T00:00:00\", \"2015-12-24T00:00:00\", \"2015-12-28T00:00:00\", \"2015-12-31T00:00:00\", \"2016-01-04T00:00:00\", \"2016-01-05T00:00:00\", \"2016-01-06T00:00:00\", \"2016-01-07T00:00:00\", \"2016-01-08T00:00:00\", \"2016-01-12T00:00:00\", \"2016-01-14T00:00:00\", \"2016-01-15T00:00:00\", \"2016-01-19T00:00:00\", \"2016-01-20T00:00:00\", \"2016-01-21T00:00:00\", \"2016-01-25T00:00:00\", \"2016-01-26T00:00:00\", \"2016-01-29T00:00:00\", \"2016-02-02T00:00:00\", \"2016-02-03T00:00:00\", \"2016-02-04T00:00:00\", \"2016-02-05T00:00:00\", \"2016-02-08T00:00:00\", \"2016-02-09T00:00:00\", \"2016-02-11T00:00:00\", \"2016-02-12T00:00:00\", \"2016-02-15T00:00:00\", \"2016-02-16T00:00:00\", \"2016-02-17T00:00:00\", \"2016-02-18T00:00:00\", \"2016-02-19T00:00:00\", \"2016-02-24T00:00:00\", \"2016-02-25T00:00:00\", \"2016-02-26T00:00:00\", \"2016-02-29T00:00:00\", \"2016-03-01T00:00:00\", \"2016-03-02T00:00:00\", \"2016-03-03T00:00:00\", \"2016-03-04T00:00:00\", \"2016-03-08T00:00:00\", \"2016-03-09T00:00:00\", \"2016-03-10T00:00:00\", \"2016-03-14T00:00:00\", \"2016-03-15T00:00:00\", \"2016-03-16T00:00:00\", \"2016-03-17T00:00:00\", \"2016-03-18T00:00:00\", \"2016-03-20T00:00:00\", \"2016-03-21T00:00:00\", \"2016-03-22T00:00:00\", \"2016-03-23T00:00:00\", \"2016-03-24T00:00:00\", \"2016-03-28T00:00:00\", \"2016-03-31T00:00:00\", \"2016-04-01T00:00:00\", \"2016-04-04T00:00:00\", \"2016-04-05T00:00:00\", \"2016-04-06T00:00:00\", \"2016-04-10T00:00:00\", \"2016-04-11T00:00:00\", \"2016-04-13T00:00:00\", \"2016-04-14T00:00:00\", \"2016-04-15T00:00:00\", \"2016-04-18T00:00:00\", \"2016-04-19T00:00:00\", \"2016-04-20T00:00:00\", \"2016-04-22T00:00:00\", \"2016-04-26T00:00:00\", \"2016-04-27T00:00:00\", \"2016-04-28T00:00:00\", \"2016-04-29T00:00:00\", \"2016-05-03T00:00:00\", \"2016-05-04T00:00:00\", \"2016-05-05T00:00:00\", \"2016-05-06T00:00:00\", \"2016-05-09T00:00:00\", \"2016-05-10T00:00:00\", \"2016-05-11T00:00:00\", \"2016-05-13T00:00:00\", \"2016-05-17T00:00:00\", \"2016-05-18T00:00:00\", \"2016-05-23T00:00:00\", \"2016-05-24T00:00:00\", \"2016-05-25T00:00:00\", \"2016-05-26T00:00:00\", \"2016-05-31T00:00:00\", \"2016-06-01T00:00:00\", \"2016-06-02T00:00:00\", \"2016-06-04T00:00:00\", \"2016-06-06T00:00:00\", \"2016-06-07T00:00:00\", \"2016-06-08T00:00:00\", \"2016-06-13T00:00:00\", \"2016-06-15T00:00:00\", \"2016-06-17T00:00:00\", \"2016-06-20T00:00:00\", \"2016-06-21T00:00:00\", \"2016-06-22T00:00:00\", \"2016-06-23T00:00:00\", \"2016-06-24T00:00:00\", \"2016-06-27T00:00:00\", \"2016-06-28T00:00:00\", \"2016-06-29T00:00:00\", \"2016-06-30T00:00:00\", \"2016-07-05T00:00:00\", \"2016-07-06T00:00:00\", \"2016-07-07T00:00:00\", \"2016-07-12T00:00:00\", \"2016-07-13T00:00:00\", \"2016-07-14T00:00:00\", \"2016-07-18T00:00:00\", \"2016-07-19T00:00:00\", \"2016-07-20T00:00:00\", \"2016-07-22T00:00:00\", \"2016-07-25T00:00:00\", \"2016-07-26T00:00:00\", \"2016-07-27T00:00:00\", \"2016-07-28T00:00:00\", \"2016-08-01T00:00:00\", \"2016-08-02T00:00:00\", \"2016-08-03T00:00:00\", \"2016-08-04T00:00:00\", \"2016-08-05T00:00:00\", \"2016-08-09T00:00:00\", \"2016-08-10T00:00:00\", \"2016-08-11T00:00:00\", \"2016-08-12T00:00:00\", \"2016-08-15T00:00:00\", \"2016-08-19T00:00:00\", \"2016-08-23T00:00:00\", \"2016-08-24T00:00:00\", \"2016-08-26T00:00:00\", \"2016-08-29T00:00:00\", \"2016-08-30T00:00:00\", \"2016-08-31T00:00:00\", \"2016-09-01T00:00:00\", \"2016-09-02T00:00:00\", \"2016-09-06T00:00:00\", \"2016-09-07T00:00:00\", \"2016-09-09T00:00:00\", \"2016-09-13T00:00:00\", \"2016-09-14T00:00:00\", \"2016-09-18T00:00:00\", \"2016-09-19T00:00:00\", \"2016-09-20T00:00:00\", \"2016-09-21T00:00:00\", \"2016-09-22T00:00:00\", \"2016-09-23T00:00:00\", \"2016-09-27T00:00:00\", \"2016-09-28T00:00:00\", \"2016-09-29T00:00:00\", \"2016-09-30T00:00:00\", \"2016-10-05T00:00:00\", \"2016-10-06T00:00:00\", \"2016-10-07T00:00:00\", \"2016-10-13T00:00:00\", \"2016-10-14T00:00:00\", \"2016-10-16T00:00:00\", \"2016-10-17T00:00:00\", \"2016-10-18T00:00:00\", \"2016-10-21T00:00:00\", \"2016-10-24T00:00:00\", \"2016-10-26T00:00:00\", \"2016-10-29T00:00:00\", \"2016-10-31T00:00:00\", \"2016-11-01T00:00:00\", \"2016-11-02T00:00:00\", \"2016-11-03T00:00:00\", \"2016-11-04T00:00:00\", \"2016-11-07T00:00:00\", \"2016-11-09T00:00:00\", \"2016-11-10T00:00:00\", \"2016-11-14T00:00:00\", \"2016-11-16T00:00:00\", \"2016-11-17T00:00:00\", \"2016-11-21T00:00:00\", \"2016-11-25T00:00:00\", \"2016-11-28T00:00:00\", \"2016-11-30T00:00:00\", \"2016-12-01T00:00:00\", \"2016-12-02T00:00:00\", \"2016-12-03T00:00:00\", \"2016-12-05T00:00:00\", \"2016-12-06T00:00:00\", \"2016-12-07T00:00:00\", \"2016-12-08T00:00:00\", \"2016-12-09T00:00:00\", \"2016-12-12T00:00:00\", \"2016-12-13T00:00:00\", \"2016-12-14T00:00:00\", \"2016-12-15T00:00:00\", \"2016-12-16T00:00:00\", \"2016-12-19T00:00:00\", \"2016-12-22T00:00:00\", \"2016-12-30T00:00:00\", \"2017-01-03T00:00:00\", \"2017-01-04T00:00:00\", \"2017-01-05T00:00:00\", \"2017-01-06T00:00:00\", \"2017-01-07T00:00:00\", \"2017-01-08T00:00:00\", \"2017-01-10T00:00:00\", \"2017-01-12T00:00:00\", \"2017-01-13T00:00:00\", \"2017-01-17T00:00:00\", \"2017-01-18T00:00:00\", \"2017-01-23T00:00:00\", \"2017-01-24T00:00:00\", \"2017-01-27T00:00:00\", \"2017-01-31T00:00:00\", \"2017-02-02T00:00:00\", \"2017-02-03T00:00:00\", \"2017-02-06T00:00:00\", \"2017-02-09T00:00:00\", \"2017-02-10T00:00:00\", \"2017-02-13T00:00:00\", \"2017-02-14T00:00:00\", \"2017-02-15T00:00:00\", \"2017-02-16T00:00:00\", \"2017-02-17T00:00:00\", \"2017-02-21T00:00:00\", \"2017-02-24T00:00:00\", \"2017-02-28T00:00:00\", \"2017-03-01T00:00:00\", \"2017-03-03T00:00:00\", \"2017-03-06T00:00:00\", \"2017-03-07T00:00:00\", \"2017-03-09T00:00:00\", \"2017-03-10T00:00:00\", \"2017-03-13T00:00:00\", \"2017-03-14T00:00:00\", \"2017-03-15T00:00:00\", \"2017-03-16T00:00:00\", \"2017-03-17T00:00:00\", \"2017-03-20T00:00:00\", \"2017-03-21T00:00:00\", \"2017-03-22T00:00:00\", \"2017-03-24T00:00:00\", \"2017-03-28T00:00:00\", \"2017-03-30T00:00:00\", \"2017-03-31T00:00:00\", \"2017-04-04T00:00:00\", \"2017-04-05T00:00:00\", \"2017-04-06T00:00:00\", \"2017-04-07T00:00:00\", \"2017-04-12T00:00:00\", \"2017-04-13T00:00:00\", \"2017-04-14T00:00:00\", \"2017-04-17T00:00:00\", \"2017-04-18T00:00:00\", \"2017-04-19T00:00:00\", \"2017-04-21T00:00:00\", \"2017-04-22T00:00:00\", \"2017-04-24T00:00:00\", \"2017-04-25T00:00:00\", \"2017-04-26T00:00:00\", \"2017-04-27T00:00:00\", \"2017-04-28T00:00:00\", \"2017-05-02T00:00:00\", \"2017-05-03T00:00:00\", \"2017-05-10T00:00:00\", \"2017-05-11T00:00:00\", \"2017-05-16T00:00:00\", \"2017-05-18T00:00:00\", \"2017-05-23T00:00:00\", \"2017-05-24T00:00:00\", \"2017-05-26T00:00:00\", \"2017-05-31T00:00:00\", \"2017-06-01T00:00:00\", \"2017-06-06T00:00:00\", \"2017-06-08T00:00:00\", \"2017-06-09T00:00:00\", \"2017-06-12T00:00:00\", \"2017-06-14T00:00:00\", \"2017-06-16T00:00:00\", \"2017-06-19T00:00:00\", \"2017-06-20T00:00:00\", \"2017-06-26T00:00:00\", \"2017-06-27T00:00:00\", \"2017-07-05T00:00:00\", \"2017-07-06T00:00:00\", \"2017-07-07T00:00:00\", \"2017-07-10T00:00:00\", \"2017-07-11T00:00:00\", \"2017-07-12T00:00:00\", \"2017-07-13T00:00:00\", \"2017-07-14T00:00:00\", \"2017-07-17T00:00:00\", \"2017-07-18T00:00:00\", \"2017-07-20T00:00:00\", \"2017-07-21T00:00:00\", \"2017-07-24T00:00:00\", \"2017-07-25T00:00:00\", \"2017-07-26T00:00:00\", \"2017-07-31T00:00:00\", \"2017-08-01T00:00:00\", \"2017-08-03T00:00:00\", \"2017-08-04T00:00:00\", \"2017-08-08T00:00:00\", \"2017-08-09T00:00:00\", \"2017-08-10T00:00:00\", \"2017-08-15T00:00:00\", \"2017-08-17T00:00:00\", \"2017-08-18T00:00:00\", \"2017-08-21T00:00:00\", \"2017-08-22T00:00:00\", \"2017-08-23T00:00:00\", \"2017-08-25T00:00:00\", \"2017-08-28T00:00:00\", \"2017-08-30T00:00:00\", \"2017-08-31T00:00:00\", \"2017-09-03T00:00:00\", \"2017-09-05T00:00:00\", \"2017-09-06T00:00:00\", \"2017-09-07T00:00:00\", \"2017-09-12T00:00:00\", \"2017-09-13T00:00:00\", \"2017-09-15T00:00:00\", \"2017-09-19T00:00:00\", \"2017-09-20T00:00:00\", \"2017-09-21T00:00:00\", \"2017-09-22T00:00:00\", \"2017-09-25T00:00:00\", \"2017-09-27T00:00:00\", \"2017-09-28T00:00:00\", \"2017-09-29T00:00:00\", \"2017-10-03T00:00:00\", \"2017-10-05T00:00:00\", \"2017-10-09T00:00:00\", \"2017-10-10T00:00:00\", \"2017-10-11T00:00:00\", \"2017-10-13T00:00:00\", \"2017-10-18T00:00:00\", \"2017-10-19T00:00:00\", \"2017-10-23T00:00:00\", \"2017-10-24T00:00:00\", \"2017-10-25T00:00:00\", \"2017-10-26T00:00:00\", \"2017-10-31T00:00:00\", \"2017-11-02T00:00:00\", \"2017-11-06T00:00:00\", \"2017-11-07T00:00:00\", \"2017-11-08T00:00:00\", \"2017-11-10T00:00:00\", \"2017-11-13T00:00:00\", \"2017-11-14T00:00:00\", \"2017-11-15T00:00:00\", \"2017-11-17T00:00:00\", \"2017-11-21T00:00:00\", \"2017-11-24T00:00:00\", \"2017-11-29T00:00:00\", \"2017-11-30T00:00:00\", \"2017-12-01T00:00:00\", \"2017-12-04T00:00:00\", \"2017-12-05T00:00:00\", \"2017-12-06T00:00:00\", \"2017-12-11T00:00:00\", \"2017-12-12T00:00:00\", \"2017-12-13T00:00:00\", \"2017-12-15T00:00:00\", \"2017-12-18T00:00:00\", \"2017-12-19T00:00:00\", \"2017-12-20T00:00:00\", \"2017-12-21T00:00:00\", \"2018-01-02T00:00:00\", \"2018-01-04T00:00:00\", \"2018-01-05T00:00:00\", \"2018-01-08T00:00:00\", \"2018-01-10T00:00:00\", \"2018-01-12T00:00:00\", \"2018-01-16T00:00:00\", \"2018-01-17T00:00:00\", \"2018-01-18T00:00:00\", \"2018-01-19T00:00:00\", \"2018-01-22T00:00:00\", \"2018-01-23T00:00:00\", \"2018-01-24T00:00:00\", \"2018-01-29T00:00:00\", \"2018-01-30T00:00:00\", \"2018-01-31T00:00:00\", \"2018-02-01T00:00:00\", \"2018-02-02T00:00:00\", \"2018-02-05T00:00:00\", \"2018-02-06T00:00:00\", \"2018-02-07T00:00:00\", \"2018-02-08T00:00:00\", \"2018-02-09T00:00:00\", \"2018-02-12T00:00:00\", \"2018-02-13T00:00:00\", \"2018-02-14T00:00:00\", \"2018-02-15T00:00:00\", \"2018-02-21T00:00:00\", \"2018-02-22T00:00:00\", \"2018-02-26T00:00:00\", \"2018-02-27T00:00:00\", \"2018-02-28T00:00:00\", \"2018-03-02T00:00:00\", \"2018-03-05T00:00:00\", \"2018-03-06T00:00:00\", \"2018-03-07T00:00:00\", \"2018-03-12T00:00:00\", \"2018-03-13T00:00:00\", \"2018-03-14T00:00:00\", \"2018-03-15T00:00:00\", \"2018-03-16T00:00:00\", \"2018-03-19T00:00:00\", \"2018-03-21T00:00:00\", \"2018-03-23T00:00:00\", \"2018-03-26T00:00:00\", \"2018-03-29T00:00:00\", \"2018-04-02T00:00:00\", \"2018-04-03T00:00:00\", \"2018-04-04T00:00:00\", \"2018-04-05T00:00:00\", \"2018-04-06T00:00:00\", \"2018-04-09T00:00:00\", \"2018-04-10T00:00:00\", \"2018-04-11T00:00:00\", \"2018-04-12T00:00:00\", \"2018-04-13T00:00:00\", \"2018-04-16T00:00:00\", \"2018-04-18T00:00:00\", \"2018-04-19T00:00:00\", \"2018-04-20T00:00:00\", \"2018-04-24T00:00:00\", \"2018-04-25T00:00:00\", \"2018-04-27T00:00:00\", \"2018-04-30T00:00:00\", \"2018-05-01T00:00:00\", \"2018-05-02T00:00:00\", \"2018-05-03T00:00:00\", \"2018-05-04T00:00:00\", \"2018-05-07T00:00:00\", \"2018-05-08T00:00:00\", \"2018-05-09T00:00:00\", \"2018-05-11T00:00:00\", \"2018-05-14T00:00:00\", \"2018-05-15T00:00:00\", \"2018-05-17T00:00:00\", \"2018-05-21T00:00:00\", \"2018-05-23T00:00:00\", \"2018-05-24T00:00:00\", \"2018-05-25T00:00:00\", \"2018-05-28T00:00:00\", \"2018-05-30T00:00:00\", \"2018-05-31T00:00:00\", \"2018-06-04T00:00:00\", \"2018-06-05T00:00:00\", \"2018-06-06T00:00:00\", \"2018-06-07T00:00:00\", \"2018-06-08T00:00:00\", \"2018-06-11T00:00:00\", \"2018-06-12T00:00:00\", \"2018-06-15T00:00:00\", \"2018-06-18T00:00:00\", \"2018-06-19T00:00:00\", \"2018-06-20T00:00:00\", \"2018-06-22T00:00:00\", \"2018-06-26T00:00:00\", \"2018-06-27T00:00:00\", \"2018-06-29T00:00:00\", \"2018-07-02T00:00:00\", \"2018-07-05T00:00:00\", \"2018-07-06T00:00:00\", \"2018-07-10T00:00:00\", \"2018-07-11T00:00:00\", \"2018-07-12T00:00:00\", \"2018-07-13T00:00:00\", \"2018-07-16T00:00:00\", \"2018-07-17T00:00:00\", \"2018-07-18T00:00:00\", \"2018-07-19T00:00:00\", \"2018-07-24T00:00:00\", \"2018-07-25T00:00:00\", \"2018-07-26T00:00:00\", \"2018-07-27T00:00:00\", \"2018-07-30T00:00:00\", \"2018-07-31T00:00:00\", \"2018-08-02T00:00:00\", \"2018-08-03T00:00:00\", \"2018-08-06T00:00:00\", \"2018-08-08T00:00:00\", \"2018-08-09T00:00:00\", \"2018-08-10T00:00:00\", \"2018-08-13T00:00:00\", \"2018-08-14T00:00:00\", \"2018-08-15T00:00:00\", \"2018-08-16T00:00:00\", \"2018-08-17T00:00:00\", \"2018-08-20T00:00:00\", \"2018-08-21T00:00:00\", \"2018-08-22T00:00:00\", \"2018-08-23T00:00:00\", \"2018-08-24T00:00:00\", \"2018-08-27T00:00:00\", \"2018-08-28T00:00:00\", \"2018-08-31T00:00:00\", \"2018-09-05T00:00:00\", \"2018-09-11T00:00:00\", \"2018-09-12T00:00:00\", \"2018-09-13T00:00:00\", \"2018-09-14T00:00:00\", \"2018-09-17T00:00:00\", \"2018-09-18T00:00:00\", \"2018-09-19T00:00:00\", \"2018-09-20T00:00:00\", \"2018-09-21T00:00:00\", \"2018-09-24T00:00:00\", \"2018-09-25T00:00:00\", \"2018-09-26T00:00:00\", \"2018-09-27T00:00:00\", \"2018-09-28T00:00:00\", \"2018-10-01T00:00:00\", \"2018-10-02T00:00:00\", \"2018-10-03T00:00:00\", \"2018-10-04T00:00:00\", \"2018-10-08T00:00:00\", \"2018-10-09T00:00:00\", \"2018-10-10T00:00:00\", \"2018-10-11T00:00:00\", \"2018-10-15T00:00:00\", \"2018-10-17T00:00:00\", \"2018-10-18T00:00:00\", \"2018-10-19T00:00:00\", \"2018-10-22T00:00:00\", \"2018-10-23T00:00:00\", \"2018-10-24T00:00:00\", \"2018-10-25T00:00:00\", \"2018-10-26T00:00:00\", \"2018-10-29T00:00:00\", \"2018-10-30T00:00:00\", \"2018-10-31T00:00:00\", \"2018-11-02T00:00:00\", \"2018-11-05T00:00:00\", \"2018-11-06T00:00:00\", \"2018-11-08T00:00:00\", \"2018-11-09T00:00:00\", \"2018-11-14T00:00:00\", \"2018-11-15T00:00:00\", \"2018-11-16T00:00:00\", \"2018-11-19T00:00:00\", \"2018-11-21T00:00:00\", \"2018-11-26T00:00:00\", \"2018-11-27T00:00:00\", \"2018-11-28T00:00:00\", \"2018-11-29T00:00:00\", \"2018-11-30T00:00:00\", \"2018-12-03T00:00:00\", \"2018-12-04T00:00:00\", \"2018-12-06T00:00:00\", \"2018-12-11T00:00:00\", \"2018-12-12T00:00:00\", \"2018-12-13T00:00:00\", \"2018-12-14T00:00:00\", \"2018-12-17T00:00:00\", \"2018-12-19T00:00:00\", \"2018-12-20T00:00:00\", \"2018-12-21T00:00:00\", \"2018-12-26T00:00:00\", \"2019-01-03T00:00:00\", \"2019-01-07T00:00:00\", \"2019-01-08T00:00:00\", \"2019-01-10T00:00:00\", \"2019-01-11T00:00:00\", \"2019-01-14T00:00:00\", \"2019-01-15T00:00:00\", \"2019-01-16T00:00:00\", \"2019-01-17T00:00:00\", \"2019-01-18T00:00:00\", \"2019-01-22T00:00:00\", \"2019-01-23T00:00:00\", \"2019-01-24T00:00:00\", \"2019-01-25T00:00:00\", \"2019-01-28T00:00:00\", \"2019-01-29T00:00:00\", \"2019-01-30T00:00:00\", \"2019-01-31T00:00:00\", \"2019-02-01T00:00:00\", \"2019-02-05T00:00:00\", \"2019-02-06T00:00:00\", \"2019-02-07T00:00:00\", \"2019-02-15T00:00:00\", \"2019-02-19T00:00:00\", \"2019-02-20T00:00:00\", \"2019-02-21T00:00:00\", \"2019-02-24T00:00:00\", \"2019-02-25T00:00:00\", \"2019-02-26T00:00:00\", \"2019-02-28T00:00:00\", \"2019-03-06T00:00:00\", \"2019-03-11T00:00:00\", \"2019-03-25T00:00:00\", \"2019-03-26T00:00:00\", \"2019-03-27T00:00:00\", \"2019-04-01T00:00:00\", \"2019-04-04T00:00:00\", \"2019-04-05T00:00:00\", \"2019-04-08T00:00:00\", \"2019-04-24T00:00:00\", \"2019-04-27T00:00:00\", \"2019-04-30T00:00:00\", \"2019-05-06T00:00:00\", \"2019-05-07T00:00:00\", \"2019-05-08T00:00:00\", \"2019-05-09T00:00:00\", \"2019-05-13T00:00:00\", \"2019-05-15T00:00:00\", \"2019-05-20T00:00:00\", \"2019-05-21T00:00:00\", \"2019-05-23T00:00:00\", \"2019-05-28T00:00:00\", \"2019-05-31T00:00:00\", \"2019-06-06T00:00:00\", \"2019-06-10T00:00:00\", \"2019-06-11T00:00:00\", \"2019-06-19T00:00:00\", \"2019-06-20T00:00:00\", \"2019-06-23T00:00:00\", \"2019-06-25T00:00:00\", \"2019-07-01T00:00:00\", \"2019-07-04T00:00:00\", \"2019-07-08T00:00:00\", \"2019-07-16T00:00:00\", \"2019-07-18T00:00:00\", \"2019-07-23T00:00:00\", \"2019-07-25T00:00:00\", \"2019-07-26T00:00:00\", \"2019-07-29T00:00:00\", \"2019-07-30T00:00:00\", \"2019-07-31T00:00:00\", \"2019-08-06T00:00:00\", \"2019-08-07T00:00:00\", \"2019-08-12T00:00:00\", \"2019-08-21T00:00:00\", \"2019-08-28T00:00:00\", \"2019-08-30T00:00:00\", \"2019-09-05T00:00:00\", \"2019-09-10T00:00:00\", \"2019-09-13T00:00:00\", \"2019-09-15T00:00:00\", \"2019-09-18T00:00:00\", \"2019-09-19T00:00:00\", \"2019-09-24T00:00:00\", \"2019-09-25T00:00:00\", \"2019-10-01T00:00:00\", \"2019-10-04T00:00:00\", \"2019-10-08T00:00:00\", \"2019-10-21T00:00:00\", \"2019-10-22T00:00:00\", \"2019-10-23T00:00:00\", \"2019-11-03T00:00:00\", \"2019-11-04T00:00:00\", \"2019-11-05T00:00:00\", \"2019-11-06T00:00:00\", \"2019-11-07T00:00:00\", \"2019-11-08T00:00:00\", \"2019-11-12T00:00:00\", \"2019-11-13T00:00:00\", \"2019-11-21T00:00:00\", \"2019-11-26T00:00:00\", \"2019-11-29T00:00:00\", \"2019-12-03T00:00:00\", \"2019-12-04T00:00:00\", \"2019-12-05T00:00:00\", \"2019-12-09T00:00:00\", \"2019-12-10T00:00:00\", \"2019-12-12T00:00:00\", \"2019-12-18T00:00:00\", \"2019-12-27T00:00:00\", \"2020-01-06T00:00:00\", \"2020-01-07T00:00:00\", \"2020-01-08T00:00:00\", \"2020-01-13T00:00:00\", \"2020-01-24T00:00:00\", \"2020-01-28T00:00:00\", \"2020-01-29T00:00:00\", \"2020-01-30T00:00:00\", \"2020-02-06T00:00:00\", \"2020-02-07T00:00:00\", \"2020-02-12T00:00:00\", \"2020-02-28T00:00:00\", \"2020-03-03T00:00:00\", \"2020-03-05T00:00:00\", \"2020-03-06T00:00:00\", \"2020-03-09T00:00:00\", \"2020-03-10T00:00:00\", \"2020-03-12T00:00:00\", \"2020-03-16T00:00:00\", \"2020-03-17T00:00:00\", \"2020-03-20T00:00:00\", \"2020-03-23T00:00:00\", \"2020-03-24T00:00:00\", \"2020-03-25T00:00:00\", \"2020-03-26T00:00:00\", \"2020-03-28T00:00:00\", \"2020-03-30T00:00:00\", \"2020-03-31T00:00:00\", \"2020-04-06T00:00:00\", \"2020-04-08T00:00:00\", \"2020-04-09T00:00:00\", \"2020-04-14T00:00:00\", \"2020-04-20T00:00:00\", \"2020-04-21T00:00:00\", \"2020-04-22T00:00:00\", \"2020-04-28T00:00:00\", \"2020-04-29T00:00:00\", \"2020-04-30T00:00:00\", \"2020-05-01T00:00:00\", \"2020-05-07T00:00:00\", \"2020-05-09T00:00:00\", \"2020-05-13T00:00:00\", \"2020-05-14T00:00:00\", \"2020-05-19T00:00:00\", \"2020-05-20T00:00:00\", \"2020-05-22T00:00:00\", \"2020-05-27T00:00:00\", \"2020-05-29T00:00:00\", \"2020-06-04T00:00:00\", \"2020-06-09T00:00:00\", \"2020-06-15T00:00:00\", \"2020-06-16T00:00:00\", \"2020-06-17T00:00:00\", \"2020-06-18T00:00:00\", \"2020-06-19T00:00:00\", \"2020-06-30T00:00:00\", \"2020-07-01T00:00:00\", \"2020-07-06T00:00:00\", \"2020-07-15T00:00:00\", \"2020-07-21T00:00:00\", \"2020-07-22T00:00:00\", \"2020-07-24T00:00:00\", \"2020-07-27T00:00:00\", \"2020-07-28T00:00:00\", \"2020-07-29T00:00:00\", \"2020-07-30T00:00:00\", \"2020-08-05T00:00:00\", \"2020-08-06T00:00:00\", \"2020-08-10T00:00:00\", \"2020-08-13T00:00:00\", \"2020-08-14T00:00:00\", \"2020-08-15T00:00:00\", \"2020-08-16T00:00:00\", \"2020-08-25T00:00:00\", \"2020-08-31T00:00:00\", \"2020-09-01T00:00:00\", \"2020-09-03T00:00:00\", \"2020-09-04T00:00:00\", \"2020-09-09T00:00:00\", \"2020-09-18T00:00:00\", \"2020-09-21T00:00:00\", \"2020-09-30T00:00:00\", \"2020-10-05T00:00:00\", \"2020-10-06T00:00:00\", \"2020-10-07T00:00:00\", \"2020-10-08T00:00:00\", \"2020-10-15T00:00:00\", \"2020-10-23T00:00:00\", \"2020-10-24T00:00:00\", \"2020-10-29T00:00:00\", \"2020-10-30T00:00:00\", \"2020-11-02T00:00:00\", \"2020-11-06T00:00:00\", \"2020-11-09T00:00:00\", \"2020-11-13T00:00:00\", \"2020-11-16T00:00:00\", \"2020-12-02T00:00:00\", \"2020-12-04T00:00:00\", \"2020-12-07T00:00:00\", \"2020-12-08T00:00:00\", \"2020-12-14T00:00:00\", \"2020-12-17T00:00:00\", \"2020-12-18T00:00:00\", \"2020-12-22T00:00:00\", \"2021-01-04T00:00:00\", \"2021-01-06T00:00:00\", \"2021-01-07T00:00:00\", \"2021-01-13T00:00:00\", \"2021-01-21T00:00:00\", \"2021-01-22T00:00:00\", \"2021-01-26T00:00:00\", \"2021-01-27T00:00:00\", \"2021-01-28T00:00:00\", \"2021-02-02T00:00:00\", \"2021-02-04T00:00:00\", \"2021-02-05T00:00:00\", \"2021-02-18T00:00:00\", \"2021-02-27T00:00:00\", \"2021-03-01T00:00:00\", \"2021-03-04T00:00:00\", \"2021-03-17T00:00:00\", \"2021-03-18T00:00:00\", \"2021-03-30T00:00:00\", \"2021-04-06T00:00:00\", \"2021-04-14T00:00:00\", \"2021-04-21T00:00:00\", \"2021-04-23T00:00:00\", \"2021-04-26T00:00:00\", \"2021-04-29T00:00:00\", \"2021-04-30T00:00:00\", \"2021-05-05T00:00:00\", \"2021-05-07T00:00:00\", \"2021-05-12T00:00:00\", \"2021-05-13T00:00:00\", \"2021-05-18T00:00:00\", \"2021-05-19T00:00:00\", \"2021-05-20T00:00:00\", \"2021-05-21T00:00:00\", \"2021-06-03T00:00:00\", \"2021-06-04T00:00:00\", \"2021-06-10T00:00:00\", \"2021-06-11T00:00:00\", \"2021-06-14T00:00:00\", \"2021-06-20T00:00:00\", \"2021-06-22T00:00:00\", \"2021-06-30T00:00:00\", \"2021-07-06T00:00:00\", \"2021-07-12T00:00:00\", \"2021-07-20T00:00:00\", \"2021-07-22T00:00:00\", \"2021-07-23T00:00:00\", \"2021-07-26T00:00:00\", \"2021-07-27T00:00:00\", \"2021-07-28T00:00:00\", \"2021-08-02T00:00:00\", \"2021-08-04T00:00:00\", \"2021-08-05T00:00:00\", \"2021-08-06T00:00:00\", \"2021-08-07T00:00:00\", \"2021-08-09T00:00:00\", \"2021-08-11T00:00:00\", \"2021-08-19T00:00:00\", \"2021-08-24T00:00:00\", \"2021-08-31T00:00:00\", \"2021-09-01T00:00:00\", \"2021-09-06T00:00:00\", \"2021-09-23T00:00:00\", \"2021-09-27T00:00:00\", \"2021-10-04T00:00:00\", \"2021-10-06T00:00:00\", \"2021-10-07T00:00:00\", \"2021-10-20T00:00:00\", \"2021-10-25T00:00:00\", \"2021-10-26T00:00:00\", \"2021-10-27T00:00:00\", \"2021-10-28T00:00:00\", \"2021-11-05T00:00:00\", \"2021-11-08T00:00:00\", \"2021-11-10T00:00:00\", \"2021-11-11T00:00:00\", \"2021-11-15T00:00:00\", \"2021-11-16T00:00:00\", \"2021-11-22T00:00:00\", \"2021-12-01T00:00:00\", \"2021-12-05T00:00:00\", \"2021-12-06T00:00:00\", \"2021-12-08T00:00:00\", \"2021-12-11T00:00:00\", \"2021-12-13T00:00:00\", \"2021-12-16T00:00:00\", \"2021-12-17T00:00:00\", \"2021-12-20T00:00:00\", \"2021-12-21T00:00:00\", \"2021-12-30T00:00:00\", \"2022-01-03T00:00:00\", \"2022-01-06T00:00:00\", \"2022-01-07T00:00:00\", \"2022-01-20T00:00:00\", \"2022-01-21T00:00:00\", \"2022-01-22T00:00:00\", \"2022-01-25T00:00:00\", \"2022-01-26T00:00:00\", \"2022-01-27T00:00:00\", \"2022-01-31T00:00:00\", \"2022-02-04T00:00:00\", \"2022-02-14T00:00:00\", \"2022-02-16T00:00:00\", \"2022-02-20T00:00:00\", \"2022-03-04T00:00:00\", \"2022-03-08T00:00:00\", \"2022-03-09T00:00:00\", \"2022-03-10T00:00:00\", \"2022-03-28T00:00:00\", \"2022-04-04T00:00:00\", \"2022-04-06T00:00:00\", \"2022-04-14T00:00:00\", \"2022-04-21T00:00:00\", \"2022-04-22T00:00:00\", \"2022-04-24T00:00:00\", \"2022-04-25T00:00:00\", \"2022-04-26T00:00:00\", \"2022-04-27T00:00:00\", \"2022-04-28T00:00:00\", \"2022-04-29T00:00:00\", \"2022-05-09T00:00:00\", \"2022-05-12T00:00:00\", \"2022-05-16T00:00:00\", \"2022-05-17T00:00:00\", \"2022-05-18T00:00:00\", \"2022-05-19T00:00:00\", \"2022-05-21T00:00:00\", \"2022-05-22T00:00:00\", \"2022-05-24T00:00:00\", \"2022-05-25T00:00:00\", \"2022-05-26T00:00:00\", \"2022-05-30T00:00:00\", \"2022-06-03T00:00:00\", \"2022-06-06T00:00:00\", \"2022-06-09T00:00:00\", \"2022-06-10T00:00:00\", \"2022-06-12T00:00:00\", \"2022-06-13T00:00:00\", \"2022-06-14T00:00:00\", \"2022-06-15T00:00:00\", \"2022-06-16T00:00:00\", \"2022-06-22T00:00:00\", \"2022-06-23T00:00:00\", \"2022-06-24T00:00:00\", \"2022-06-27T00:00:00\", \"2022-06-28T00:00:00\", \"2022-06-29T00:00:00\", \"2022-06-30T00:00:00\", \"2022-07-01T00:00:00\", \"2022-07-02T00:00:00\", \"2022-07-04T00:00:00\", \"2022-07-05T00:00:00\", \"2022-07-10T00:00:00\", \"2022-07-13T00:00:00\", \"2022-07-18T00:00:00\", \"2022-07-21T00:00:00\", \"2022-07-25T00:00:00\", \"2022-07-26T00:00:00\", \"2022-07-27T00:00:00\", \"2022-08-01T00:00:00\", \"2022-08-02T00:00:00\", \"2022-08-04T00:00:00\", \"2022-08-11T00:00:00\", \"2022-08-18T00:00:00\", \"2022-08-19T00:00:00\", \"2022-08-22T00:00:00\", \"2022-08-24T00:00:00\", \"2022-08-31T00:00:00\", \"2022-09-05T00:00:00\", \"2022-09-06T00:00:00\", \"2022-09-08T00:00:00\", \"2022-09-14T00:00:00\", \"2022-09-20T00:00:00\", \"2022-09-21T00:00:00\", \"2022-09-26T00:00:00\", \"2022-09-27T00:00:00\", \"2022-09-28T00:00:00\", \"2022-10-03T00:00:00\", \"2022-10-04T00:00:00\", \"2022-10-06T00:00:00\", \"2022-10-13T00:00:00\", \"2022-10-25T00:00:00\", \"2022-10-26T00:00:00\", \"2022-10-27T00:00:00\", \"2022-11-04T00:00:00\", \"2022-11-15T00:00:00\", \"2022-11-17T00:00:00\", \"2022-11-29T00:00:00\", \"2022-11-30T00:00:00\", \"2022-12-01T00:00:00\", \"2022-12-02T00:00:00\", \"2022-12-06T00:00:00\", \"2022-12-15T00:00:00\", \"2023-01-04T00:00:00\", \"2023-01-05T00:00:00\", \"2023-01-06T00:00:00\", \"2023-01-09T00:00:00\", \"2023-01-10T00:00:00\", \"2023-01-23T00:00:00\", \"2023-01-30T00:00:00\", \"2023-01-31T00:00:00\", \"2023-02-01T00:00:00\", \"2023-02-02T00:00:00\", \"2023-02-06T00:00:00\", \"2023-02-16T00:00:00\", \"2023-02-28T00:00:00\", \"2023-03-01T00:00:00\", \"2023-03-06T00:00:00\", \"2023-03-13T00:00:00\", \"2023-03-15T00:00:00\", \"2023-03-16T00:00:00\", \"2023-03-29T00:00:00\", \"2023-04-02T00:00:00\", \"2023-04-03T00:00:00\", \"2023-04-06T00:00:00\", \"2023-04-07T00:00:00\", \"2023-04-10T00:00:00\", \"2023-04-17T00:00:00\", \"2023-04-24T00:00:00\", \"2023-04-25T00:00:00\", \"2023-05-02T00:00:00\"], \"xaxis\": \"x\", \"y\": [1, 8, 2, 3, 2, 2, 1, 4, 1, 3, 13, 1, 3, 2, 1, 1, 7, 1, 6, 4, 2, 24, 8, 1, 2, 7, 1, 2, 1, 2, 1, 3, 1, 2, 2, 17, 1, 8, 8, 1, 3, 2, 5, 3, 2, 1, 22, 4, 1, 3, 2, 1, 2, 2, 2, 5, 2, 1, 1, 1, 4, 2, 10, 8, 3, 23, 3, 1, 1, 2, 1, 2, 2, 4, 4, 1, 3, 1, 2, 1, 1, 33, 9, 2, 9, 1, 1, 1, 2, 4, 8, 1, 1, 5, 5, 1, 1, 5, 2, 1, 3, 12, 2, 4, 1, 2, 1, 7, 1, 43, 1, 2, 2, 6, 6, 12, 1, 8, 1, 2, 7, 1, 2, 23, 2, 4, 1, 4, 1, 11, 3, 1, 2, 10, 1, 1, 14, 4, 1, 5, 1, 2, 1, 3, 23, 1, 1, 1, 1, 2, 1, 6, 2, 1, 1, 3, 4, 2, 4, 9, 10, 1, 1, 3, 2, 3, 2, 1, 1, 1, 2, 25, 5, 9, 1, 5, 5, 1, 2, 3, 15, 3, 1, 1, 1, 5, 3, 13, 1, 1, 1, 1, 6, 26, 5, 1, 1, 6, 11, 8, 3, 1, 1, 8, 2, 4, 1, 10, 1, 2, 8, 1, 3, 1, 1, 1, 1, 1, 1, 1, 60, 1, 1, 1, 1, 13, 2, 2, 1, 3, 2, 2, 2, 1, 13, 1, 7, 1, 2, 4, 1, 5, 3, 3, 1, 3, 2, 1, 1, 54, 1, 1, 1, 2, 2, 1, 5, 3, 10, 1, 1, 1, 2, 1, 1, 2, 1, 1, 1, 1, 2, 1, 1, 1, 8, 1, 2, 5, 9, 1, 1, 1, 2, 2, 1, 1, 4, 7, 1, 2, 1, 1, 2, 2, 1, 2, 1, 1, 1, 30, 1, 2, 1, 1, 2, 1, 10, 1, 1, 1, 1, 1, 8, 1, 1, 1, 1, 1, 1, 1, 2, 1, 1, 1, 1, 1, 1, 15, 1, 3, 1, 1, 5, 1, 1, 5, 1, 1, 1, 1, 1, 1, 1, 1, 1, 2, 31, 1, 1, 1, 8, 2, 1, 1, 1, 1, 7, 1, 15, 1, 1, 1, 1, 1, 1, 1, 1, 1, 1, 8, 1, 1, 1, 1, 1, 1, 1, 1, 1, 1, 1, 1, 1, 2, 1, 2, 3, 9, 1, 6, 1, 26, 4, 1, 2, 2, 7, 2, 1, 8, 4, 1, 1, 1, 1, 1, 1, 2, 1, 5, 1, 1, 1, 2, 2, 15, 1, 1, 1, 4, 1, 2, 9, 1, 1, 2, 2, 1, 2, 2, 14, 2, 2, 5, 2, 1, 6, 1, 3, 31, 1, 1, 2, 1, 1, 1, 1, 1, 9, 2, 2, 2, 1, 1, 9, 5, 5, 2, 5, 1, 1, 1, 1, 13, 1, 1, 1, 1, 1, 1, 1, 1, 1, 1, 1, 1, 1, 1, 1, 2, 1, 1, 1, 1, 1, 41, 1, 1, 1, 1, 1, 1, 2, 1, 6, 6, 1, 1, 1, 2, 2, 3, 2, 3, 2, 2, 9, 16, 1, 1, 1, 1, 4, 2, 1, 1, 2, 2, 1, 1, 1, 1, 1, 1, 1, 1, 1, 2, 48, 1, 1, 1, 2, 1, 2, 1, 11, 2, 1, 1, 5, 6, 1, 1, 1, 2, 1, 1, 1, 1, 1, 1, 1, 11, 1, 3, 1, 1, 1, 1, 1, 1, 1, 4, 9, 1, 1, 2, 2, 3, 2, 1, 2, 24, 3, 5, 1, 1, 1, 1, 1, 2, 7, 1, 3, 3, 1, 1, 1, 1, 1, 6, 8, 9, 1, 1, 1, 1, 1, 2, 1, 1, 1, 1, 1, 1, 7, 2, 1, 1, 2, 21, 1, 19, 9, 1, 3, 5, 3, 13, 1, 5, 1, 6, 2, 2, 1, 1, 1, 14, 2, 1, 1, 3, 5, 7, 1, 1, 1, 2, 1, 1, 1, 1, 2, 3, 1, 1, 6, 1, 2, 1, 1, 6, 1, 1, 1, 31, 1, 1, 1, 2, 2, 1, 2, 1, 1, 5, 1, 1, 1, 1, 2, 1, 1, 1, 1, 1, 5, 2, 1, 4, 1, 1, 1, 2, 1, 1, 1, 2, 3, 4, 1, 1, 1, 31, 3, 6, 1, 3, 1, 2, 3, 9, 1, 3, 8, 1, 1, 2, 5, 1, 3, 1, 1, 1, 1, 9, 7, 1, 1, 2, 2, 1, 3, 4, 2, 3, 1, 1, 1, 3, 3, 1, 1, 1, 1, 1, 4, 28, 2, 1, 3, 1, 2, 2, 2, 2, 2, 1, 14, 2, 1, 1, 1, 1, 1, 1, 1, 3, 1, 2, 1, 1, 1, 1, 2, 18, 3, 3, 5, 2, 2, 2, 14, 3, 1, 1, 1, 1, 1, 2, 3, 2, 1, 1, 2, 2, 1, 1, 3, 1, 2, 1, 28, 1, 2, 9, 1, 1, 1, 1, 1, 1, 2, 9, 1, 1, 1, 1, 1, 2, 1, 5, 1, 3, 21, 1, 1, 2, 1, 15, 13, 2, 1, 1, 1, 1, 2, 1, 1, 2, 3, 1, 1, 2, 1, 1, 1, 3, 30, 5, 2, 2, 1, 2, 6, 7, 6, 2, 1, 3, 4, 1, 15, 1, 1, 1, 1, 5, 2, 10, 1, 1, 1, 4, 2, 6, 2, 5, 2, 24, 2, 2, 2, 3, 1, 7, 1, 6, 2, 1, 1, 1, 2, 2, 1, 1, 4, 1, 1, 1, 1, 1, 2, 22, 4, 1, 2, 2, 1, 1, 2, 5, 3, 2, 21, 4, 1, 4, 3, 4, 1, 1, 1, 1, 2, 1, 1, 3, 1, 3, 18, 4, 3, 1, 1, 2, 1, 1, 4, 1, 1, 1, 2, 1, 1, 1, 1, 1, 5, 3, 3, 2, 1, 1, 2, 41, 1, 17, 8, 3, 1, 1, 2, 2, 4, 12, 1, 2, 1, 1, 1, 1, 2, 2, 2, 6, 6, 2, 1, 12, 2, 2, 1, 2, 1, 1, 1, 3, 1, 1, 1, 1, 1, 1, 3, 23, 1, 2, 1, 2, 2, 1, 1, 2, 1, 1, 1, 1, 34, 1, 1, 2, 5, 1, 2, 33, 5, 5, 1, 16, 1, 1, 5, 25, 2, 5, 6, 2, 5, 2, 1, 1, 2, 1, 5, 11, 5, 1, 1, 2, 1, 1, 1, 1, 1, 1, 1, 4, 1, 1, 1, 1, 1, 1, 3, 1, 1, 1, 1, 1, 3, 1, 5, 1, 45, 1, 1, 1, 1, 1, 4, 3, 2, 1, 1, 1, 3, 2, 1, 3, 1, 3, 1, 1, 1, 1, 2, 1, 1, 4, 1, 1, 5, 1, 1, 1, 2, 1, 2, 6, 1, 1, 2, 2, 1, 1, 1, 2, 1, 1, 1, 2, 3, 1, 2, 1, 19, 1, 8, 1, 3, 1, 1, 1, 27, 7, 3, 1, 1, 1, 4, 1, 1, 1, 1, 3, 1, 4, 1, 15, 3, 1, 2, 1, 1, 1, 1, 1, 1, 1, 2, 3, 1, 1, 1, 2, 1, 1, 1, 1, 2, 4, 1, 1, 3, 5, 3, 33, 5, 1, 2, 1, 1, 1, 3, 4, 1, 2, 1, 1, 1, 12, 1, 1, 3, 1, 1, 2, 1, 2, 3, 1, 1, 2, 1, 1, 1, 1, 3, 1, 2, 1, 1, 2, 1, 5, 2, 2, 1, 11, 1, 2, 2, 2, 1, 1, 1, 1, 28, 8, 1, 1, 1, 1, 1, 1, 1, 1, 1, 6, 1, 1, 1, 1, 1, 2, 13, 1, 3, 3, 1, 4, 2, 2, 4, 1, 2, 1, 1, 1, 3, 1, 1, 1, 1, 1, 3, 5, 8, 2, 1, 1, 1, 1, 1, 1, 1, 27, 1, 1, 7, 3, 1, 1, 1, 9, 1, 1, 1, 1, 1, 7, 3, 1, 1, 1, 7, 1, 2, 3, 3, 1, 1, 1, 2, 1, 2, 5, 1, 1, 1, 1, 3, 2, 3, 4, 1, 10, 2, 1, 1, 3, 21, 3, 1, 1, 1, 1, 1, 2, 4, 4, 6, 2, 1, 1, 1, 1, 1, 1, 2, 1, 3, 1, 2, 3, 2, 4, 1, 1, 2, 1, 2, 1, 1, 1, 1, 1, 1, 1, 6, 1, 1, 2, 1, 1, 1, 1, 10, 1, 3, 2, 1, 2, 3, 2, 1, 1, 2, 1, 1, 1, 1, 1, 1, 7, 1, 5, 1, 1, 1, 1, 2, 5, 7, 1, 1, 7, 1, 1, 3, 1, 5, 4, 1, 3, 1, 2, 2, 1, 4, 1, 1, 1, 1, 2, 12, 1, 1, 1, 6, 2, 4, 1, 4, 1, 1, 1, 1, 6, 5, 2, 4, 1, 3, 1, 8, 1, 2, 1, 1, 1, 5, 2, 1, 2, 1, 1, 1, 1, 1, 1, 1, 1, 9, 11, 1, 1, 1, 2, 2, 4, 1, 2, 1, 2, 3, 1, 2, 1, 1, 3, 1, 1, 3, 7, 2, 1, 2, 1, 1, 3, 4, 1, 1, 2, 1, 1, 1, 2, 1, 1, 1, 1, 2, 1, 2, 13, 2, 1, 1, 1, 2, 4, 1, 1, 1, 1, 1, 1, 3, 1, 1, 1, 1, 2, 3, 3, 1, 1, 1, 3, 1, 2, 1, 1, 1, 3, 2, 1, 1, 1, 3, 2, 1, 2, 2, 1, 1, 4, 19, 1, 2, 1, 1, 2, 1, 1, 1, 2, 3, 1, 3, 2, 1, 2, 1, 4, 2, 2, 4, 4, 2, 3, 2, 2, 1, 3, 2, 1, 1, 1, 1, 1, 2, 2, 1, 1, 3, 1, 4, 1, 1, 1, 1, 1, 1, 2, 1, 27, 2, 3, 1, 1, 2, 1, 1, 7, 6, 2, 5, 1, 3, 16, 1, 2, 10, 1, 5, 1, 1, 11, 1, 2, 3, 2, 2, 1, 1, 1, 2, 1, 1, 1, 1, 1, 1, 1, 8, 5, 1, 5, 2, 1, 1, 1, 14, 1, 1, 1, 3, 2, 1, 2, 3, 1, 5, 4, 3, 2, 1, 1, 1, 3, 13, 1, 1, 1, 1, 1, 4, 6, 3, 2, 1, 2, 8, 4, 9, 4, 1, 1, 3, 1, 2, 1, 2, 3, 1, 3, 2, 2, 4, 1, 1, 3, 3, 31, 1, 1, 1, 1, 1, 1, 1, 2, 2, 1, 1, 1, 1, 3, 1, 2, 1, 3, 5, 5, 3, 1, 2, 2, 5, 1, 2, 1, 1, 1, 1, 1, 1, 1, 3, 2, 1, 3, 2, 6, 1, 3, 1, 1, 2, 3, 2, 1, 1, 43, 1, 3, 1, 2, 2, 1, 2, 2, 3, 1, 1, 1, 1, 1, 4, 5, 1, 2, 5, 1, 5, 1, 1, 1, 23, 3, 1, 3, 3, 3, 4, 3, 3, 4, 2, 1, 1, 1, 2, 2, 1, 2, 1, 1, 1, 1, 2, 3, 1, 1, 17, 2, 1, 1, 1, 1, 1, 2, 1, 1, 1, 4, 1, 1, 3, 2, 3, 2, 2, 1, 1, 1, 20, 1, 11, 26, 13, 2, 4, 1, 2, 2, 2, 2, 1, 2, 2, 1, 1, 5, 6, 1, 1, 1, 4, 3, 1, 11, 1, 33, 2, 1, 1, 1, 1, 3, 1, 5, 1, 3, 1, 4, 4, 4, 1, 1, 7, 6, 2, 1, 1, 2, 20, 1, 1, 1, 1, 4, 1, 2, 16, 2, 3, 1, 9, 2, 3, 3, 1, 2, 1, 2, 3, 1, 13, 4, 2, 1, 4, 3, 2, 1, 1, 2, 4, 1, 31, 4, 4, 1, 1, 7, 4, 1, 1, 3, 8, 5, 3, 1, 2, 4, 5, 1, 3, 1, 3, 3, 15, 5, 1, 1, 4, 3, 1, 3, 42, 1, 3, 1, 8, 1, 1, 1, 6, 1, 2, 1, 1, 1, 2, 1, 1, 1, 2, 29, 3, 1, 1, 4, 3, 2, 1, 2, 1, 1, 1, 6, 2, 1, 6, 26, 2, 1, 1, 1, 2, 1, 1, 25, 6, 2, 1, 3, 11, 1, 1, 1, 1, 1, 2, 2, 1, 2, 3, 1, 36, 2, 1, 1, 1, 1, 3, 7, 3, 1, 1, 1, 1, 2, 2, 1, 1, 1, 1, 2, 4, 19, 3, 1, 1, 1, 3, 1, 1, 1, 3, 1, 1, 3, 1, 1, 10, 1, 1, 1, 1, 1, 1, 1, 1, 3, 1, 3, 4, 27, 3, 1, 1, 2, 7, 3, 12, 1, 1, 1, 2, 2, 1, 9, 2, 1, 1, 2, 1, 32, 2, 1, 1, 18, 2, 3, 10, 1, 1, 1, 5, 13, 1, 1, 3, 1, 4, 4, 1, 1, 1, 12, 3, 3, 1, 13, 1, 1, 1, 2, 1, 1, 3, 1, 3, 1, 1, 2, 19, 1, 4, 1, 1, 4, 1, 1, 1, 1, 1, 2, 6, 1, 7, 1, 2, 1, 5, 3, 1, 3, 1, 1, 1, 2, 30, 3, 1, 2, 1, 1, 1, 1, 1, 1, 2, 4, 15, 9, 1, 1, 2, 29, 1, 1, 1, 1, 5, 1, 1, 1, 2, 3, 2, 2, 3, 1, 2, 2, 1, 1, 23, 1], \"yaxis\": \"y\"}],                        {\"barmode\": \"relative\", \"legend\": {\"tracegroupgap\": 0}, \"margin\": {\"t\": 60}, \"template\": {\"data\": {\"bar\": [{\"error_x\": {\"color\": \"#2a3f5f\"}, \"error_y\": {\"color\": \"#2a3f5f\"}, \"marker\": {\"line\": {\"color\": \"#E5ECF6\", \"width\": 0.5}}, \"type\": \"bar\"}], \"barpolar\": [{\"marker\": {\"line\": {\"color\": \"#E5ECF6\", \"width\": 0.5}}, \"type\": \"barpolar\"}], \"carpet\": [{\"aaxis\": {\"endlinecolor\": \"#2a3f5f\", \"gridcolor\": \"white\", \"linecolor\": \"white\", \"minorgridcolor\": \"white\", \"startlinecolor\": \"#2a3f5f\"}, \"baxis\": {\"endlinecolor\": \"#2a3f5f\", \"gridcolor\": \"white\", \"linecolor\": \"white\", \"minorgridcolor\": \"white\", \"startlinecolor\": \"#2a3f5f\"}, \"type\": \"carpet\"}], \"choropleth\": [{\"colorbar\": {\"outlinewidth\": 0, \"ticks\": \"\"}, \"type\": \"choropleth\"}], \"contour\": [{\"colorbar\": {\"outlinewidth\": 0, \"ticks\": \"\"}, \"colorscale\": [[0.0, \"#0d0887\"], [0.1111111111111111, \"#46039f\"], [0.2222222222222222, \"#7201a8\"], [0.3333333333333333, \"#9c179e\"], [0.4444444444444444, \"#bd3786\"], [0.5555555555555556, \"#d8576b\"], [0.6666666666666666, \"#ed7953\"], [0.7777777777777778, \"#fb9f3a\"], [0.8888888888888888, \"#fdca26\"], [1.0, \"#f0f921\"]], \"type\": \"contour\"}], \"contourcarpet\": [{\"colorbar\": {\"outlinewidth\": 0, \"ticks\": \"\"}, \"type\": \"contourcarpet\"}], \"heatmap\": [{\"colorbar\": {\"outlinewidth\": 0, \"ticks\": \"\"}, \"colorscale\": [[0.0, \"#0d0887\"], [0.1111111111111111, \"#46039f\"], [0.2222222222222222, \"#7201a8\"], [0.3333333333333333, \"#9c179e\"], [0.4444444444444444, \"#bd3786\"], [0.5555555555555556, \"#d8576b\"], [0.6666666666666666, \"#ed7953\"], [0.7777777777777778, \"#fb9f3a\"], [0.8888888888888888, \"#fdca26\"], [1.0, \"#f0f921\"]], \"type\": \"heatmap\"}], \"heatmapgl\": [{\"colorbar\": {\"outlinewidth\": 0, \"ticks\": \"\"}, \"colorscale\": [[0.0, \"#0d0887\"], [0.1111111111111111, \"#46039f\"], [0.2222222222222222, \"#7201a8\"], [0.3333333333333333, \"#9c179e\"], [0.4444444444444444, \"#bd3786\"], [0.5555555555555556, \"#d8576b\"], [0.6666666666666666, \"#ed7953\"], [0.7777777777777778, \"#fb9f3a\"], [0.8888888888888888, \"#fdca26\"], [1.0, \"#f0f921\"]], \"type\": \"heatmapgl\"}], \"histogram\": [{\"marker\": {\"colorbar\": {\"outlinewidth\": 0, \"ticks\": \"\"}}, \"type\": \"histogram\"}], \"histogram2d\": [{\"colorbar\": {\"outlinewidth\": 0, \"ticks\": \"\"}, \"colorscale\": [[0.0, \"#0d0887\"], [0.1111111111111111, \"#46039f\"], [0.2222222222222222, \"#7201a8\"], [0.3333333333333333, \"#9c179e\"], [0.4444444444444444, \"#bd3786\"], [0.5555555555555556, \"#d8576b\"], [0.6666666666666666, \"#ed7953\"], [0.7777777777777778, \"#fb9f3a\"], [0.8888888888888888, \"#fdca26\"], [1.0, \"#f0f921\"]], \"type\": \"histogram2d\"}], \"histogram2dcontour\": [{\"colorbar\": {\"outlinewidth\": 0, \"ticks\": \"\"}, \"colorscale\": [[0.0, \"#0d0887\"], [0.1111111111111111, \"#46039f\"], [0.2222222222222222, \"#7201a8\"], [0.3333333333333333, \"#9c179e\"], [0.4444444444444444, \"#bd3786\"], [0.5555555555555556, \"#d8576b\"], [0.6666666666666666, \"#ed7953\"], [0.7777777777777778, \"#fb9f3a\"], [0.8888888888888888, \"#fdca26\"], [1.0, \"#f0f921\"]], \"type\": \"histogram2dcontour\"}], \"mesh3d\": [{\"colorbar\": {\"outlinewidth\": 0, \"ticks\": \"\"}, \"type\": \"mesh3d\"}], \"parcoords\": [{\"line\": {\"colorbar\": {\"outlinewidth\": 0, \"ticks\": \"\"}}, \"type\": \"parcoords\"}], \"pie\": [{\"automargin\": true, \"type\": \"pie\"}], \"scatter\": [{\"marker\": {\"colorbar\": {\"outlinewidth\": 0, \"ticks\": \"\"}}, \"type\": \"scatter\"}], \"scatter3d\": [{\"line\": {\"colorbar\": {\"outlinewidth\": 0, \"ticks\": \"\"}}, \"marker\": {\"colorbar\": {\"outlinewidth\": 0, \"ticks\": \"\"}}, \"type\": \"scatter3d\"}], \"scattercarpet\": [{\"marker\": {\"colorbar\": {\"outlinewidth\": 0, \"ticks\": \"\"}}, \"type\": \"scattercarpet\"}], \"scattergeo\": [{\"marker\": {\"colorbar\": {\"outlinewidth\": 0, \"ticks\": \"\"}}, \"type\": \"scattergeo\"}], \"scattergl\": [{\"marker\": {\"colorbar\": {\"outlinewidth\": 0, \"ticks\": \"\"}}, \"type\": \"scattergl\"}], \"scattermapbox\": [{\"marker\": {\"colorbar\": {\"outlinewidth\": 0, \"ticks\": \"\"}}, \"type\": \"scattermapbox\"}], \"scatterpolar\": [{\"marker\": {\"colorbar\": {\"outlinewidth\": 0, \"ticks\": \"\"}}, \"type\": \"scatterpolar\"}], \"scatterpolargl\": [{\"marker\": {\"colorbar\": {\"outlinewidth\": 0, \"ticks\": \"\"}}, \"type\": \"scatterpolargl\"}], \"scatterternary\": [{\"marker\": {\"colorbar\": {\"outlinewidth\": 0, \"ticks\": \"\"}}, \"type\": \"scatterternary\"}], \"surface\": [{\"colorbar\": {\"outlinewidth\": 0, \"ticks\": \"\"}, \"colorscale\": [[0.0, \"#0d0887\"], [0.1111111111111111, \"#46039f\"], [0.2222222222222222, \"#7201a8\"], [0.3333333333333333, \"#9c179e\"], [0.4444444444444444, \"#bd3786\"], [0.5555555555555556, \"#d8576b\"], [0.6666666666666666, \"#ed7953\"], [0.7777777777777778, \"#fb9f3a\"], [0.8888888888888888, \"#fdca26\"], [1.0, \"#f0f921\"]], \"type\": \"surface\"}], \"table\": [{\"cells\": {\"fill\": {\"color\": \"#EBF0F8\"}, \"line\": {\"color\": \"white\"}}, \"header\": {\"fill\": {\"color\": \"#C8D4E3\"}, \"line\": {\"color\": \"white\"}}, \"type\": \"table\"}]}, \"layout\": {\"annotationdefaults\": {\"arrowcolor\": \"#2a3f5f\", \"arrowhead\": 0, \"arrowwidth\": 1}, \"autotypenumbers\": \"strict\", \"coloraxis\": {\"colorbar\": {\"outlinewidth\": 0, \"ticks\": \"\"}}, \"colorscale\": {\"diverging\": [[0, \"#8e0152\"], [0.1, \"#c51b7d\"], [0.2, \"#de77ae\"], [0.3, \"#f1b6da\"], [0.4, \"#fde0ef\"], [0.5, \"#f7f7f7\"], [0.6, \"#e6f5d0\"], [0.7, \"#b8e186\"], [0.8, \"#7fbc41\"], [0.9, \"#4d9221\"], [1, \"#276419\"]], \"sequential\": [[0.0, \"#0d0887\"], [0.1111111111111111, \"#46039f\"], [0.2222222222222222, \"#7201a8\"], [0.3333333333333333, \"#9c179e\"], [0.4444444444444444, \"#bd3786\"], [0.5555555555555556, \"#d8576b\"], [0.6666666666666666, \"#ed7953\"], [0.7777777777777778, \"#fb9f3a\"], [0.8888888888888888, \"#fdca26\"], [1.0, \"#f0f921\"]], \"sequentialminus\": [[0.0, \"#0d0887\"], [0.1111111111111111, \"#46039f\"], [0.2222222222222222, \"#7201a8\"], [0.3333333333333333, \"#9c179e\"], [0.4444444444444444, \"#bd3786\"], [0.5555555555555556, \"#d8576b\"], [0.6666666666666666, \"#ed7953\"], [0.7777777777777778, \"#fb9f3a\"], [0.8888888888888888, \"#fdca26\"], [1.0, \"#f0f921\"]]}, \"colorway\": [\"#636efa\", \"#EF553B\", \"#00cc96\", \"#ab63fa\", \"#FFA15A\", \"#19d3f3\", \"#FF6692\", \"#B6E880\", \"#FF97FF\", \"#FECB52\"], \"font\": {\"color\": \"#2a3f5f\"}, \"geo\": {\"bgcolor\": \"white\", \"lakecolor\": \"white\", \"landcolor\": \"#E5ECF6\", \"showlakes\": true, \"showland\": true, \"subunitcolor\": \"white\"}, \"hoverlabel\": {\"align\": \"left\"}, \"hovermode\": \"closest\", \"mapbox\": {\"style\": \"light\"}, \"paper_bgcolor\": \"white\", \"plot_bgcolor\": \"#E5ECF6\", \"polar\": {\"angularaxis\": {\"gridcolor\": \"white\", \"linecolor\": \"white\", \"ticks\": \"\"}, \"bgcolor\": \"#E5ECF6\", \"radialaxis\": {\"gridcolor\": \"white\", \"linecolor\": \"white\", \"ticks\": \"\"}}, \"scene\": {\"xaxis\": {\"backgroundcolor\": \"#E5ECF6\", \"gridcolor\": \"white\", \"gridwidth\": 2, \"linecolor\": \"white\", \"showbackground\": true, \"ticks\": \"\", \"zerolinecolor\": \"white\"}, \"yaxis\": {\"backgroundcolor\": \"#E5ECF6\", \"gridcolor\": \"white\", \"gridwidth\": 2, \"linecolor\": \"white\", \"showbackground\": true, \"ticks\": \"\", \"zerolinecolor\": \"white\"}, \"zaxis\": {\"backgroundcolor\": \"#E5ECF6\", \"gridcolor\": \"white\", \"gridwidth\": 2, \"linecolor\": \"white\", \"showbackground\": true, \"ticks\": \"\", \"zerolinecolor\": \"white\"}}, \"shapedefaults\": {\"line\": {\"color\": \"#2a3f5f\"}}, \"ternary\": {\"aaxis\": {\"gridcolor\": \"white\", \"linecolor\": \"white\", \"ticks\": \"\"}, \"baxis\": {\"gridcolor\": \"white\", \"linecolor\": \"white\", \"ticks\": \"\"}, \"bgcolor\": \"#E5ECF6\", \"caxis\": {\"gridcolor\": \"white\", \"linecolor\": \"white\", \"ticks\": \"\"}}, \"title\": {\"x\": 0.05}, \"xaxis\": {\"automargin\": true, \"gridcolor\": \"white\", \"linecolor\": \"white\", \"ticks\": \"\", \"title\": {\"standoff\": 15}, \"zerolinecolor\": \"white\", \"zerolinewidth\": 2}, \"yaxis\": {\"automargin\": true, \"gridcolor\": \"white\", \"linecolor\": \"white\", \"ticks\": \"\", \"title\": {\"standoff\": 15}, \"zerolinecolor\": \"white\", \"zerolinewidth\": 2}}}, \"updatemenus\": [{\"buttons\": [{\"args\": [{\"xaxis\": {\"range\": [1225497600000, 1228089600000.0]}}], \"label\": \"Nov-2008\", \"method\": \"relayout\"}, {\"args\": [{\"xaxis\": {\"range\": [1228089600000, 1230768000000.0]}}], \"label\": \"Dec-2008\", \"method\": \"relayout\"}, {\"args\": [{\"xaxis\": {\"range\": [1230768000000, 1233446400000.0]}}], \"label\": \"Jan-2009\", \"method\": \"relayout\"}, {\"args\": [{\"xaxis\": {\"range\": [1233446400000, 1235865600000.0]}}], \"label\": \"Feb-2009\", \"method\": \"relayout\"}, {\"args\": [{\"xaxis\": {\"range\": [1235865600000, 1238544000000.0]}}], \"label\": \"Mar-2009\", \"method\": \"relayout\"}, {\"args\": [{\"xaxis\": {\"range\": [1238544000000, 1241136000000.0]}}], \"label\": \"Apr-2009\", \"method\": \"relayout\"}, {\"args\": [{\"xaxis\": {\"range\": [1241136000000, 1243814400000.0]}}], \"label\": \"May-2009\", \"method\": \"relayout\"}, {\"args\": [{\"xaxis\": {\"range\": [1243814400000, 1246406400000.0]}}], \"label\": \"Jun-2009\", \"method\": \"relayout\"}, {\"args\": [{\"xaxis\": {\"range\": [1246406400000, 1249084800000.0]}}], \"label\": \"Jul-2009\", \"method\": \"relayout\"}, {\"args\": [{\"xaxis\": {\"range\": [1249084800000, 1251763200000.0]}}], \"label\": \"Aug-2009\", \"method\": \"relayout\"}, {\"args\": [{\"xaxis\": {\"range\": [1251763200000, 1254355200000.0]}}], \"label\": \"Sep-2009\", \"method\": \"relayout\"}, {\"args\": [{\"xaxis\": {\"range\": [1254355200000, 1257033600000.0]}}], \"label\": \"Oct-2009\", \"method\": \"relayout\"}, {\"args\": [{\"xaxis\": {\"range\": [1257033600000, 1259625600000.0]}}], \"label\": \"Nov-2009\", \"method\": \"relayout\"}, {\"args\": [{\"xaxis\": {\"range\": [1259625600000, 1262304000000.0]}}], \"label\": \"Dec-2009\", \"method\": \"relayout\"}, {\"args\": [{\"xaxis\": {\"range\": [1262304000000, 1264982400000.0]}}], \"label\": \"Jan-2010\", \"method\": \"relayout\"}, {\"args\": [{\"xaxis\": {\"range\": [1264982400000, 1267401600000.0]}}], \"label\": \"Feb-2010\", \"method\": \"relayout\"}, {\"args\": [{\"xaxis\": {\"range\": [1267401600000, 1270080000000.0]}}], \"label\": \"Mar-2010\", \"method\": \"relayout\"}, {\"args\": [{\"xaxis\": {\"range\": [1270080000000, 1272672000000.0]}}], \"label\": \"Apr-2010\", \"method\": \"relayout\"}, {\"args\": [{\"xaxis\": {\"range\": [1272672000000, 1275350400000.0]}}], \"label\": \"May-2010\", \"method\": \"relayout\"}, {\"args\": [{\"xaxis\": {\"range\": [1275350400000, 1277942400000.0]}}], \"label\": \"Jun-2010\", \"method\": \"relayout\"}, {\"args\": [{\"xaxis\": {\"range\": [1277942400000, 1280620800000.0]}}], \"label\": \"Jul-2010\", \"method\": \"relayout\"}, {\"args\": [{\"xaxis\": {\"range\": [1280620800000, 1283299200000.0]}}], \"label\": \"Aug-2010\", \"method\": \"relayout\"}, {\"args\": [{\"xaxis\": {\"range\": [1283299200000, 1285891200000.0]}}], \"label\": \"Sep-2010\", \"method\": \"relayout\"}, {\"args\": [{\"xaxis\": {\"range\": [1285891200000, 1288569600000.0]}}], \"label\": \"Oct-2010\", \"method\": \"relayout\"}, {\"args\": [{\"xaxis\": {\"range\": [1288569600000, 1291161600000.0]}}], \"label\": \"Nov-2010\", \"method\": \"relayout\"}, {\"args\": [{\"xaxis\": {\"range\": [1291161600000, 1293840000000.0]}}], \"label\": \"Dec-2010\", \"method\": \"relayout\"}, {\"args\": [{\"xaxis\": {\"range\": [1293840000000, 1296518400000.0]}}], \"label\": \"Jan-2011\", \"method\": \"relayout\"}, {\"args\": [{\"xaxis\": {\"range\": [1296518400000, 1298937600000.0]}}], \"label\": \"Feb-2011\", \"method\": \"relayout\"}, {\"args\": [{\"xaxis\": {\"range\": [1298937600000, 1301616000000.0]}}], \"label\": \"Mar-2011\", \"method\": \"relayout\"}, {\"args\": [{\"xaxis\": {\"range\": [1301616000000, 1304208000000.0]}}], \"label\": \"Apr-2011\", \"method\": \"relayout\"}, {\"args\": [{\"xaxis\": {\"range\": [1304208000000, 1306886400000.0]}}], \"label\": \"May-2011\", \"method\": \"relayout\"}, {\"args\": [{\"xaxis\": {\"range\": [1306886400000, 1309478400000.0]}}], \"label\": \"Jun-2011\", \"method\": \"relayout\"}, {\"args\": [{\"xaxis\": {\"range\": [1309478400000, 1312156800000.0]}}], \"label\": \"Jul-2011\", \"method\": \"relayout\"}, {\"args\": [{\"xaxis\": {\"range\": [1312156800000, 1314835200000.0]}}], \"label\": \"Aug-2011\", \"method\": \"relayout\"}, {\"args\": [{\"xaxis\": {\"range\": [1314835200000, 1317427200000.0]}}], \"label\": \"Sep-2011\", \"method\": \"relayout\"}, {\"args\": [{\"xaxis\": {\"range\": [1317427200000, 1320105600000.0]}}], \"label\": \"Oct-2011\", \"method\": \"relayout\"}, {\"args\": [{\"xaxis\": {\"range\": [1320105600000, 1322697600000.0]}}], \"label\": \"Nov-2011\", \"method\": \"relayout\"}, {\"args\": [{\"xaxis\": {\"range\": [1322697600000, 1325376000000.0]}}], \"label\": \"Dec-2011\", \"method\": \"relayout\"}, {\"args\": [{\"xaxis\": {\"range\": [1325376000000, 1328054400000.0]}}], \"label\": \"Jan-2012\", \"method\": \"relayout\"}, {\"args\": [{\"xaxis\": {\"range\": [1328054400000, 1330560000000.0]}}], \"label\": \"Feb-2012\", \"method\": \"relayout\"}, {\"args\": [{\"xaxis\": {\"range\": [1330560000000, 1333238400000.0]}}], \"label\": \"Mar-2012\", \"method\": \"relayout\"}, {\"args\": [{\"xaxis\": {\"range\": [1333238400000, 1335830400000.0]}}], \"label\": \"Apr-2012\", \"method\": \"relayout\"}, {\"args\": [{\"xaxis\": {\"range\": [1335830400000, 1338508800000.0]}}], \"label\": \"May-2012\", \"method\": \"relayout\"}, {\"args\": [{\"xaxis\": {\"range\": [1338508800000, 1341100800000.0]}}], \"label\": \"Jun-2012\", \"method\": \"relayout\"}, {\"args\": [{\"xaxis\": {\"range\": [1341100800000, 1343779200000.0]}}], \"label\": \"Jul-2012\", \"method\": \"relayout\"}, {\"args\": [{\"xaxis\": {\"range\": [1343779200000, 1346457600000.0]}}], \"label\": \"Aug-2012\", \"method\": \"relayout\"}, {\"args\": [{\"xaxis\": {\"range\": [1346457600000, 1349049600000.0]}}], \"label\": \"Sep-2012\", \"method\": \"relayout\"}, {\"args\": [{\"xaxis\": {\"range\": [1349049600000, 1351728000000.0]}}], \"label\": \"Oct-2012\", \"method\": \"relayout\"}, {\"args\": [{\"xaxis\": {\"range\": [1351728000000, 1354320000000.0]}}], \"label\": \"Nov-2012\", \"method\": \"relayout\"}, {\"args\": [{\"xaxis\": {\"range\": [1354320000000, 1356998400000.0]}}], \"label\": \"Dec-2012\", \"method\": \"relayout\"}, {\"args\": [{\"xaxis\": {\"range\": [1356998400000, 1359676800000.0]}}], \"label\": \"Jan-2013\", \"method\": \"relayout\"}, {\"args\": [{\"xaxis\": {\"range\": [1359676800000, 1362096000000.0]}}], \"label\": \"Feb-2013\", \"method\": \"relayout\"}, {\"args\": [{\"xaxis\": {\"range\": [1362096000000, 1364774400000.0]}}], \"label\": \"Mar-2013\", \"method\": \"relayout\"}, {\"args\": [{\"xaxis\": {\"range\": [1364774400000, 1367366400000.0]}}], \"label\": \"Apr-2013\", \"method\": \"relayout\"}, {\"args\": [{\"xaxis\": {\"range\": [1367366400000, 1370044800000.0]}}], \"label\": \"May-2013\", \"method\": \"relayout\"}, {\"args\": [{\"xaxis\": {\"range\": [1370044800000, 1372636800000.0]}}], \"label\": \"Jun-2013\", \"method\": \"relayout\"}, {\"args\": [{\"xaxis\": {\"range\": [1372636800000, 1375315200000.0]}}], \"label\": \"Jul-2013\", \"method\": \"relayout\"}, {\"args\": [{\"xaxis\": {\"range\": [1375315200000, 1377993600000.0]}}], \"label\": \"Aug-2013\", \"method\": \"relayout\"}, {\"args\": [{\"xaxis\": {\"range\": [1377993600000, 1380585600000.0]}}], \"label\": \"Sep-2013\", \"method\": \"relayout\"}, {\"args\": [{\"xaxis\": {\"range\": [1380585600000, 1383264000000.0]}}], \"label\": \"Oct-2013\", \"method\": \"relayout\"}, {\"args\": [{\"xaxis\": {\"range\": [1383264000000, 1385856000000.0]}}], \"label\": \"Nov-2013\", \"method\": \"relayout\"}, {\"args\": [{\"xaxis\": {\"range\": [1385856000000, 1388534400000.0]}}], \"label\": \"Dec-2013\", \"method\": \"relayout\"}, {\"args\": [{\"xaxis\": {\"range\": [1388534400000, 1391212800000.0]}}], \"label\": \"Jan-2014\", \"method\": \"relayout\"}, {\"args\": [{\"xaxis\": {\"range\": [1391212800000, 1393632000000.0]}}], \"label\": \"Feb-2014\", \"method\": \"relayout\"}, {\"args\": [{\"xaxis\": {\"range\": [1393632000000, 1396310400000.0]}}], \"label\": \"Mar-2014\", \"method\": \"relayout\"}, {\"args\": [{\"xaxis\": {\"range\": [1396310400000, 1398902400000.0]}}], \"label\": \"Apr-2014\", \"method\": \"relayout\"}, {\"args\": [{\"xaxis\": {\"range\": [1398902400000, 1401580800000.0]}}], \"label\": \"May-2014\", \"method\": \"relayout\"}, {\"args\": [{\"xaxis\": {\"range\": [1401580800000, 1404172800000.0]}}], \"label\": \"Jun-2014\", \"method\": \"relayout\"}, {\"args\": [{\"xaxis\": {\"range\": [1404172800000, 1406851200000.0]}}], \"label\": \"Jul-2014\", \"method\": \"relayout\"}, {\"args\": [{\"xaxis\": {\"range\": [1406851200000, 1409529600000.0]}}], \"label\": \"Aug-2014\", \"method\": \"relayout\"}, {\"args\": [{\"xaxis\": {\"range\": [1409529600000, 1412121600000.0]}}], \"label\": \"Sep-2014\", \"method\": \"relayout\"}, {\"args\": [{\"xaxis\": {\"range\": [1412121600000, 1414800000000.0]}}], \"label\": \"Oct-2014\", \"method\": \"relayout\"}, {\"args\": [{\"xaxis\": {\"range\": [1414800000000, 1417392000000.0]}}], \"label\": \"Nov-2014\", \"method\": \"relayout\"}, {\"args\": [{\"xaxis\": {\"range\": [1417392000000, 1420070400000.0]}}], \"label\": \"Dec-2014\", \"method\": \"relayout\"}, {\"args\": [{\"xaxis\": {\"range\": [1420070400000, 1422748800000.0]}}], \"label\": \"Jan-2015\", \"method\": \"relayout\"}, {\"args\": [{\"xaxis\": {\"range\": [1422748800000, 1425168000000.0]}}], \"label\": \"Feb-2015\", \"method\": \"relayout\"}, {\"args\": [{\"xaxis\": {\"range\": [1425168000000, 1427846400000.0]}}], \"label\": \"Mar-2015\", \"method\": \"relayout\"}, {\"args\": [{\"xaxis\": {\"range\": [1427846400000, 1430438400000.0]}}], \"label\": \"Apr-2015\", \"method\": \"relayout\"}, {\"args\": [{\"xaxis\": {\"range\": [1430438400000, 1433116800000.0]}}], \"label\": \"May-2015\", \"method\": \"relayout\"}, {\"args\": [{\"xaxis\": {\"range\": [1433116800000, 1435708800000.0]}}], \"label\": \"Jun-2015\", \"method\": \"relayout\"}, {\"args\": [{\"xaxis\": {\"range\": [1435708800000, 1438387200000.0]}}], \"label\": \"Jul-2015\", \"method\": \"relayout\"}, {\"args\": [{\"xaxis\": {\"range\": [1438387200000, 1441065600000.0]}}], \"label\": \"Aug-2015\", \"method\": \"relayout\"}, {\"args\": [{\"xaxis\": {\"range\": [1441065600000, 1443657600000.0]}}], \"label\": \"Sep-2015\", \"method\": \"relayout\"}, {\"args\": [{\"xaxis\": {\"range\": [1443657600000, 1446336000000.0]}}], \"label\": \"Oct-2015\", \"method\": \"relayout\"}, {\"args\": [{\"xaxis\": {\"range\": [1446336000000, 1448928000000.0]}}], \"label\": \"Nov-2015\", \"method\": \"relayout\"}, {\"args\": [{\"xaxis\": {\"range\": [1448928000000, 1451606400000.0]}}], \"label\": \"Dec-2015\", \"method\": \"relayout\"}, {\"args\": [{\"xaxis\": {\"range\": [1451606400000, 1454284800000.0]}}], \"label\": \"Jan-2016\", \"method\": \"relayout\"}, {\"args\": [{\"xaxis\": {\"range\": [1454284800000, 1456790400000.0]}}], \"label\": \"Feb-2016\", \"method\": \"relayout\"}, {\"args\": [{\"xaxis\": {\"range\": [1456790400000, 1459468800000.0]}}], \"label\": \"Mar-2016\", \"method\": \"relayout\"}, {\"args\": [{\"xaxis\": {\"range\": [1459468800000, 1462060800000.0]}}], \"label\": \"Apr-2016\", \"method\": \"relayout\"}, {\"args\": [{\"xaxis\": {\"range\": [1462060800000, 1464739200000.0]}}], \"label\": \"May-2016\", \"method\": \"relayout\"}, {\"args\": [{\"xaxis\": {\"range\": [1464739200000, 1467331200000.0]}}], \"label\": \"Jun-2016\", \"method\": \"relayout\"}, {\"args\": [{\"xaxis\": {\"range\": [1467331200000, 1470009600000.0]}}], \"label\": \"Jul-2016\", \"method\": \"relayout\"}, {\"args\": [{\"xaxis\": {\"range\": [1470009600000, 1472688000000.0]}}], \"label\": \"Aug-2016\", \"method\": \"relayout\"}, {\"args\": [{\"xaxis\": {\"range\": [1472688000000, 1475280000000.0]}}], \"label\": \"Sep-2016\", \"method\": \"relayout\"}, {\"args\": [{\"xaxis\": {\"range\": [1475280000000, 1477958400000.0]}}], \"label\": \"Oct-2016\", \"method\": \"relayout\"}, {\"args\": [{\"xaxis\": {\"range\": [1477958400000, 1480550400000.0]}}], \"label\": \"Nov-2016\", \"method\": \"relayout\"}, {\"args\": [{\"xaxis\": {\"range\": [1480550400000, 1483228800000.0]}}], \"label\": \"Dec-2016\", \"method\": \"relayout\"}, {\"args\": [{\"xaxis\": {\"range\": [1483228800000, 1485907200000.0]}}], \"label\": \"Jan-2017\", \"method\": \"relayout\"}, {\"args\": [{\"xaxis\": {\"range\": [1485907200000, 1488326400000.0]}}], \"label\": \"Feb-2017\", \"method\": \"relayout\"}, {\"args\": [{\"xaxis\": {\"range\": [1488326400000, 1491004800000.0]}}], \"label\": \"Mar-2017\", \"method\": \"relayout\"}, {\"args\": [{\"xaxis\": {\"range\": [1491004800000, 1493596800000.0]}}], \"label\": \"Apr-2017\", \"method\": \"relayout\"}, {\"args\": [{\"xaxis\": {\"range\": [1493596800000, 1496275200000.0]}}], \"label\": \"May-2017\", \"method\": \"relayout\"}, {\"args\": [{\"xaxis\": {\"range\": [1496275200000, 1498867200000.0]}}], \"label\": \"Jun-2017\", \"method\": \"relayout\"}, {\"args\": [{\"xaxis\": {\"range\": [1498867200000, 1501545600000.0]}}], \"label\": \"Jul-2017\", \"method\": \"relayout\"}, {\"args\": [{\"xaxis\": {\"range\": [1501545600000, 1504224000000.0]}}], \"label\": \"Aug-2017\", \"method\": \"relayout\"}, {\"args\": [{\"xaxis\": {\"range\": [1504224000000, 1506816000000.0]}}], \"label\": \"Sep-2017\", \"method\": \"relayout\"}, {\"args\": [{\"xaxis\": {\"range\": [1506816000000, 1509494400000.0]}}], \"label\": \"Oct-2017\", \"method\": \"relayout\"}, {\"args\": [{\"xaxis\": {\"range\": [1509494400000, 1512086400000.0]}}], \"label\": \"Nov-2017\", \"method\": \"relayout\"}, {\"args\": [{\"xaxis\": {\"range\": [1512086400000, 1514764800000.0]}}], \"label\": \"Dec-2017\", \"method\": \"relayout\"}, {\"args\": [{\"xaxis\": {\"range\": [1514764800000, 1517443200000.0]}}], \"label\": \"Jan-2018\", \"method\": \"relayout\"}, {\"args\": [{\"xaxis\": {\"range\": [1517443200000, 1519862400000.0]}}], \"label\": \"Feb-2018\", \"method\": \"relayout\"}, {\"args\": [{\"xaxis\": {\"range\": [1519862400000, 1522540800000.0]}}], \"label\": \"Mar-2018\", \"method\": \"relayout\"}, {\"args\": [{\"xaxis\": {\"range\": [1522540800000, 1525132800000.0]}}], \"label\": \"Apr-2018\", \"method\": \"relayout\"}, {\"args\": [{\"xaxis\": {\"range\": [1525132800000, 1527811200000.0]}}], \"label\": \"May-2018\", \"method\": \"relayout\"}, {\"args\": [{\"xaxis\": {\"range\": [1527811200000, 1530403200000.0]}}], \"label\": \"Jun-2018\", \"method\": \"relayout\"}, {\"args\": [{\"xaxis\": {\"range\": [1530403200000, 1533081600000.0]}}], \"label\": \"Jul-2018\", \"method\": \"relayout\"}, {\"args\": [{\"xaxis\": {\"range\": [1533081600000, 1535760000000.0]}}], \"label\": \"Aug-2018\", \"method\": \"relayout\"}, {\"args\": [{\"xaxis\": {\"range\": [1535760000000, 1538352000000.0]}}], \"label\": \"Sep-2018\", \"method\": \"relayout\"}, {\"args\": [{\"xaxis\": {\"range\": [1538352000000, 1541030400000.0]}}], \"label\": \"Oct-2018\", \"method\": \"relayout\"}, {\"args\": [{\"xaxis\": {\"range\": [1541030400000, 1543622400000.0]}}], \"label\": \"Nov-2018\", \"method\": \"relayout\"}, {\"args\": [{\"xaxis\": {\"range\": [1543622400000, 1546300800000.0]}}], \"label\": \"Dec-2018\", \"method\": \"relayout\"}, {\"args\": [{\"xaxis\": {\"range\": [1546300800000, 1548979200000.0]}}], \"label\": \"Jan-2019\", \"method\": \"relayout\"}, {\"args\": [{\"xaxis\": {\"range\": [1548979200000, 1551398400000.0]}}], \"label\": \"Feb-2019\", \"method\": \"relayout\"}, {\"args\": [{\"xaxis\": {\"range\": [1551398400000, 1554076800000.0]}}], \"label\": \"Mar-2019\", \"method\": \"relayout\"}, {\"args\": [{\"xaxis\": {\"range\": [1554076800000, 1556668800000.0]}}], \"label\": \"Apr-2019\", \"method\": \"relayout\"}, {\"args\": [{\"xaxis\": {\"range\": [1556668800000, 1559347200000.0]}}], \"label\": \"May-2019\", \"method\": \"relayout\"}, {\"args\": [{\"xaxis\": {\"range\": [1559347200000, 1561939200000.0]}}], \"label\": \"Jun-2019\", \"method\": \"relayout\"}, {\"args\": [{\"xaxis\": {\"range\": [1561939200000, 1564617600000.0]}}], \"label\": \"Jul-2019\", \"method\": \"relayout\"}, {\"args\": [{\"xaxis\": {\"range\": [1564617600000, 1567296000000.0]}}], \"label\": \"Aug-2019\", \"method\": \"relayout\"}, {\"args\": [{\"xaxis\": {\"range\": [1567296000000, 1569888000000.0]}}], \"label\": \"Sep-2019\", \"method\": \"relayout\"}, {\"args\": [{\"xaxis\": {\"range\": [1569888000000, 1572566400000.0]}}], \"label\": \"Oct-2019\", \"method\": \"relayout\"}, {\"args\": [{\"xaxis\": {\"range\": [1572566400000, 1575158400000.0]}}], \"label\": \"Nov-2019\", \"method\": \"relayout\"}, {\"args\": [{\"xaxis\": {\"range\": [1575158400000, 1577836800000.0]}}], \"label\": \"Dec-2019\", \"method\": \"relayout\"}, {\"args\": [{\"xaxis\": {\"range\": [1577836800000, 1580515200000.0]}}], \"label\": \"Jan-2020\", \"method\": \"relayout\"}, {\"args\": [{\"xaxis\": {\"range\": [1580515200000, 1583020800000.0]}}], \"label\": \"Feb-2020\", \"method\": \"relayout\"}, {\"args\": [{\"xaxis\": {\"range\": [1583020800000, 1585699200000.0]}}], \"label\": \"Mar-2020\", \"method\": \"relayout\"}, {\"args\": [{\"xaxis\": {\"range\": [1585699200000, 1588291200000.0]}}], \"label\": \"Apr-2020\", \"method\": \"relayout\"}, {\"args\": [{\"xaxis\": {\"range\": [1588291200000, 1590969600000.0]}}], \"label\": \"May-2020\", \"method\": \"relayout\"}, {\"args\": [{\"xaxis\": {\"range\": [1590969600000, 1593561600000.0]}}], \"label\": \"Jun-2020\", \"method\": \"relayout\"}, {\"args\": [{\"xaxis\": {\"range\": [1593561600000, 1596240000000.0]}}], \"label\": \"Jul-2020\", \"method\": \"relayout\"}, {\"args\": [{\"xaxis\": {\"range\": [1596240000000, 1598918400000.0]}}], \"label\": \"Aug-2020\", \"method\": \"relayout\"}, {\"args\": [{\"xaxis\": {\"range\": [1598918400000, 1601510400000.0]}}], \"label\": \"Sep-2020\", \"method\": \"relayout\"}, {\"args\": [{\"xaxis\": {\"range\": [1601510400000, 1604188800000.0]}}], \"label\": \"Oct-2020\", \"method\": \"relayout\"}, {\"args\": [{\"xaxis\": {\"range\": [1604188800000, 1606780800000.0]}}], \"label\": \"Nov-2020\", \"method\": \"relayout\"}, {\"args\": [{\"xaxis\": {\"range\": [1606780800000, 1609459200000.0]}}], \"label\": \"Dec-2020\", \"method\": \"relayout\"}, {\"args\": [{\"xaxis\": {\"range\": [1609459200000, 1612137600000.0]}}], \"label\": \"Jan-2021\", \"method\": \"relayout\"}, {\"args\": [{\"xaxis\": {\"range\": [1612137600000, 1614556800000.0]}}], \"label\": \"Feb-2021\", \"method\": \"relayout\"}, {\"args\": [{\"xaxis\": {\"range\": [1614556800000, 1617235200000.0]}}], \"label\": \"Mar-2021\", \"method\": \"relayout\"}, {\"args\": [{\"xaxis\": {\"range\": [1617235200000, 1619827200000.0]}}], \"label\": \"Apr-2021\", \"method\": \"relayout\"}, {\"args\": [{\"xaxis\": {\"range\": [1619827200000, 1622505600000.0]}}], \"label\": \"May-2021\", \"method\": \"relayout\"}, {\"args\": [{\"xaxis\": {\"range\": [1622505600000, 1625097600000.0]}}], \"label\": \"Jun-2021\", \"method\": \"relayout\"}, {\"args\": [{\"xaxis\": {\"range\": [1625097600000, 1627776000000.0]}}], \"label\": \"Jul-2021\", \"method\": \"relayout\"}, {\"args\": [{\"xaxis\": {\"range\": [1627776000000, 1630454400000.0]}}], \"label\": \"Aug-2021\", \"method\": \"relayout\"}, {\"args\": [{\"xaxis\": {\"range\": [1630454400000, 1633046400000.0]}}], \"label\": \"Sep-2021\", \"method\": \"relayout\"}, {\"args\": [{\"xaxis\": {\"range\": [1633046400000, 1635724800000.0]}}], \"label\": \"Oct-2021\", \"method\": \"relayout\"}, {\"args\": [{\"xaxis\": {\"range\": [1635724800000, 1638316800000.0]}}], \"label\": \"Nov-2021\", \"method\": \"relayout\"}, {\"args\": [{\"xaxis\": {\"range\": [1638316800000, 1640995200000.0]}}], \"label\": \"Dec-2021\", \"method\": \"relayout\"}, {\"args\": [{\"xaxis\": {\"range\": [1640995200000, 1643673600000.0]}}], \"label\": \"Jan-2022\", \"method\": \"relayout\"}, {\"args\": [{\"xaxis\": {\"range\": [1643673600000, 1646092800000.0]}}], \"label\": \"Feb-2022\", \"method\": \"relayout\"}, {\"args\": [{\"xaxis\": {\"range\": [1646092800000, 1648771200000.0]}}], \"label\": \"Mar-2022\", \"method\": \"relayout\"}, {\"args\": [{\"xaxis\": {\"range\": [1648771200000, 1651363200000.0]}}], \"label\": \"Apr-2022\", \"method\": \"relayout\"}, {\"args\": [{\"xaxis\": {\"range\": [1651363200000, 1654041600000.0]}}], \"label\": \"May-2022\", \"method\": \"relayout\"}, {\"args\": [{\"xaxis\": {\"range\": [1654041600000, 1656633600000.0]}}], \"label\": \"Jun-2022\", \"method\": \"relayout\"}, {\"args\": [{\"xaxis\": {\"range\": [1656633600000, 1659312000000.0]}}], \"label\": \"Jul-2022\", \"method\": \"relayout\"}, {\"args\": [{\"xaxis\": {\"range\": [1659312000000, 1661990400000.0]}}], \"label\": \"Aug-2022\", \"method\": \"relayout\"}, {\"args\": [{\"xaxis\": {\"range\": [1661990400000, 1664582400000.0]}}], \"label\": \"Sep-2022\", \"method\": \"relayout\"}, {\"args\": [{\"xaxis\": {\"range\": [1664582400000, 1667260800000.0]}}], \"label\": \"Oct-2022\", \"method\": \"relayout\"}, {\"args\": [{\"xaxis\": {\"range\": [1667260800000, 1669852800000.0]}}], \"label\": \"Nov-2022\", \"method\": \"relayout\"}, {\"args\": [{\"xaxis\": {\"range\": [1669852800000, 1672531200000.0]}}], \"label\": \"Dec-2022\", \"method\": \"relayout\"}, {\"args\": [{\"xaxis\": {\"range\": [1672531200000, 1675209600000.0]}}], \"label\": \"Jan-2023\", \"method\": \"relayout\"}, {\"args\": [{\"xaxis\": {\"range\": [1675209600000, 1677628800000.0]}}], \"label\": \"Feb-2023\", \"method\": \"relayout\"}, {\"args\": [{\"xaxis\": {\"range\": [1677628800000, 1680307200000.0]}}], \"label\": \"Mar-2023\", \"method\": \"relayout\"}, {\"args\": [{\"xaxis\": {\"range\": [1680307200000, 1682899200000.0]}}], \"label\": \"Apr-2023\", \"method\": \"relayout\"}, {\"args\": [{\"xaxis\": {\"range\": [1682899200000, 1682985600000.0]}}], \"label\": \"May-2023\", \"method\": \"relayout\"}]}, {\"buttons\": [{\"args\": [{\"xaxis\": {\"range\": []}}], \"label\": \"All data\", \"method\": \"relayout\"}], \"type\": \"buttons\", \"y\": 0.8}], \"xaxis\": {\"anchor\": \"y\", \"domain\": [0.0, 1.0], \"title\": {\"text\": \"date\"}}, \"yaxis\": {\"anchor\": \"x\", \"domain\": [0.0, 1.0], \"title\": {\"text\": \"Count\"}}},                        {\"responsive\": true}                    ).then(function(){\n",
       "                            \n",
       "var gd = document.getElementById('fbe40880-1bd4-4dea-bcb6-cc22511ab408');\n",
       "var x = new MutationObserver(function (mutations, observer) {{\n",
       "        var display = window.getComputedStyle(gd).display;\n",
       "        if (!display || display === 'none') {{\n",
       "            console.log([gd, 'removed!']);\n",
       "            Plotly.purge(gd);\n",
       "            observer.disconnect();\n",
       "        }}\n",
       "}});\n",
       "\n",
       "// Listen for the removal of the full notebook cells\n",
       "var notebookContainer = gd.closest('#notebook-container');\n",
       "if (notebookContainer) {{\n",
       "    x.observe(notebookContainer, {childList: true});\n",
       "}}\n",
       "\n",
       "// Listen for the clearing of the current output cell\n",
       "var outputEl = gd.closest('.output');\n",
       "if (outputEl) {{\n",
       "    x.observe(outputEl, {childList: true});\n",
       "}}\n",
       "\n",
       "                        })                };                });            </script>        </div>"
      ]
     },
     "metadata": {},
     "output_type": "display_data"
    }
   ],
   "source": [
    "import numpy as np\n",
    "import pandas as pd\n",
    "import plotly.express as px\n",
    "\n",
    "\n",
    "fig = px.bar(df_day, x=\"date\", y=\"Count\")\n",
    "\n",
    "dfbut = (\n",
    "    (df_day[\"date\"] + pd.offsets.MonthBegin(-1))\n",
    "    .drop_duplicates()\n",
    "    .to_frame()\n",
    "    .assign(\n",
    "        label=lambda d: d[\"date\"].dt.strftime(\"%b-%Y\"),\n",
    "        start=lambda d: (d[\"date\"] - pd.Timestamp(\"1970-01-01\")) // pd.Timedelta(\"1ms\"),\n",
    "        end=lambda d: d[\"start\"].shift(-1),\n",
    "    )\n",
    "    .fillna((df[\"date\"].max() - pd.Timestamp(\"1970-01-01\")) // pd.Timedelta(\"1ms\"))\n",
    ")\n",
    "\n",
    "# build buttons to filter by month\n",
    "fig.update_layout(\n",
    "    updatemenus=[\n",
    "        {\n",
    "            \"buttons\": [\n",
    "                {\n",
    "                    \"label\": r[1][\"label\"],\n",
    "                    \"method\": \"relayout\",\n",
    "                    \"args\": [{\"xaxis\": {\"range\": [r[1][\"start\"], r[1][\"end\"]]}}],\n",
    "                }\n",
    "                for r in dfbut.iterrows()\n",
    "            ]\n",
    "        },\n",
    "        {\"buttons\":[{\"label\":\"All data\", \"method\":\"relayout\",\"args\":[{\"xaxis\":{\"range\":[]}}]}],\"y\":.8,\"type\":\"buttons\"}\n",
    "    ]\n",
    ")\n"
   ]
  },
  {
   "cell_type": "code",
   "execution_count": 7,
   "metadata": {},
   "outputs": [
    {
     "data": {
      "application/vnd.plotly.v1+json": {
       "config": {
        "plotlyServerURL": "https://plot.ly"
       },
       "data": [
        {
         "alignmentgroup": "True",
         "hovertemplate": "Month=2008-11<br>date=%{x}<br>Count=%{y}<extra></extra>",
         "legendgroup": "2008-11",
         "marker": {
          "color": "#EF553B"
         },
         "name": "2008-11",
         "offsetgroup": "2008-11",
         "orientation": "v",
         "showlegend": true,
         "textposition": "auto",
         "type": "bar",
         "x": [
          "2008-11-07T00:00:00",
          "2008-11-10T00:00:00",
          "2008-11-11T00:00:00",
          "2008-11-14T00:00:00",
          "2008-11-17T00:00:00",
          "2008-11-19T00:00:00",
          "2008-11-20T00:00:00",
          "2008-11-25T00:00:00",
          "2008-11-28T00:00:00"
         ],
         "xaxis": "x",
         "y": [
          1,
          8,
          2,
          3,
          2,
          2,
          1,
          4,
          1
         ],
         "yaxis": "y"
        },
        {
         "alignmentgroup": "True",
         "hovertemplate": "Month=2008-12<br>date=%{x}<br>Count=%{y}<extra></extra>",
         "legendgroup": "2008-12",
         "marker": {
          "color": "#00cc96"
         },
         "name": "2008-12",
         "offsetgroup": "2008-12",
         "orientation": "v",
         "showlegend": true,
         "textposition": "auto",
         "type": "bar",
         "x": [
          "2008-12-05T00:00:00",
          "2008-12-08T00:00:00",
          "2008-12-09T00:00:00",
          "2008-12-22T00:00:00",
          "2008-12-26T00:00:00"
         ],
         "xaxis": "x",
         "y": [
          3,
          13,
          1,
          3,
          2
         ],
         "yaxis": "y"
        },
        {
         "alignmentgroup": "True",
         "hovertemplate": "Month=2009-01<br>date=%{x}<br>Count=%{y}<extra></extra>",
         "legendgroup": "2009-01",
         "marker": {
          "color": "#ab63fa"
         },
         "name": "2009-01",
         "offsetgroup": "2009-01",
         "orientation": "v",
         "showlegend": true,
         "textposition": "auto",
         "type": "bar",
         "x": [
          "2009-01-11T00:00:00",
          "2009-01-12T00:00:00",
          "2009-01-13T00:00:00",
          "2009-01-20T00:00:00",
          "2009-01-22T00:00:00",
          "2009-01-23T00:00:00",
          "2009-01-24T00:00:00",
          "2009-01-26T00:00:00",
          "2009-01-27T00:00:00"
         ],
         "xaxis": "x",
         "y": [
          1,
          1,
          7,
          1,
          6,
          4,
          2,
          24,
          8
         ],
         "yaxis": "y"
        },
        {
         "alignmentgroup": "True",
         "hovertemplate": "Month=2009-02<br>date=%{x}<br>Count=%{y}<extra></extra>",
         "legendgroup": "2009-02",
         "marker": {
          "color": "#FFA15A"
         },
         "name": "2009-02",
         "offsetgroup": "2009-02",
         "orientation": "v",
         "showlegend": true,
         "textposition": "auto",
         "type": "bar",
         "x": [
          "2009-02-03T00:00:00",
          "2009-02-05T00:00:00",
          "2009-02-09T00:00:00",
          "2009-02-17T00:00:00",
          "2009-02-18T00:00:00",
          "2009-02-19T00:00:00",
          "2009-02-26T00:00:00",
          "2009-02-27T00:00:00"
         ],
         "xaxis": "x",
         "y": [
          1,
          2,
          7,
          1,
          2,
          1,
          2,
          1
         ],
         "yaxis": "y"
        },
        {
         "alignmentgroup": "True",
         "hovertemplate": "Month=2009-03<br>date=%{x}<br>Count=%{y}<extra></extra>",
         "legendgroup": "2009-03",
         "marker": {
          "color": "#19d3f3"
         },
         "name": "2009-03",
         "offsetgroup": "2009-03",
         "orientation": "v",
         "showlegend": true,
         "textposition": "auto",
         "type": "bar",
         "x": [
          "2009-03-02T00:00:00",
          "2009-03-03T00:00:00",
          "2009-03-04T00:00:00",
          "2009-03-05T00:00:00",
          "2009-03-09T00:00:00",
          "2009-03-11T00:00:00",
          "2009-03-18T00:00:00",
          "2009-03-25T00:00:00",
          "2009-03-26T00:00:00",
          "2009-03-30T00:00:00",
          "2009-03-31T00:00:00"
         ],
         "xaxis": "x",
         "y": [
          3,
          1,
          2,
          2,
          17,
          1,
          8,
          8,
          1,
          3,
          2
         ],
         "yaxis": "y"
        },
        {
         "alignmentgroup": "True",
         "hovertemplate": "Month=2009-04<br>date=%{x}<br>Count=%{y}<extra></extra>",
         "legendgroup": "2009-04",
         "marker": {
          "color": "#FF6692"
         },
         "name": "2009-04",
         "offsetgroup": "2009-04",
         "orientation": "v",
         "showlegend": true,
         "textposition": "auto",
         "type": "bar",
         "x": [
          "2009-04-13T00:00:00",
          "2009-04-16T00:00:00",
          "2009-04-20T00:00:00",
          "2009-04-21T00:00:00",
          "2009-04-22T00:00:00",
          "2009-04-23T00:00:00",
          "2009-04-24T00:00:00",
          "2009-04-27T00:00:00",
          "2009-04-28T00:00:00",
          "2009-04-29T00:00:00",
          "2009-04-30T00:00:00"
         ],
         "xaxis": "x",
         "y": [
          5,
          3,
          2,
          1,
          22,
          4,
          1,
          3,
          2,
          1,
          2
         ],
         "yaxis": "y"
        },
        {
         "alignmentgroup": "True",
         "hovertemplate": "Month=2009-05<br>date=%{x}<br>Count=%{y}<extra></extra>",
         "legendgroup": "2009-05",
         "marker": {
          "color": "#B6E880"
         },
         "name": "2009-05",
         "offsetgroup": "2009-05",
         "orientation": "v",
         "showlegend": true,
         "textposition": "auto",
         "type": "bar",
         "x": [
          "2009-05-05T00:00:00",
          "2009-05-06T00:00:00",
          "2009-05-08T00:00:00",
          "2009-05-11T00:00:00",
          "2009-05-13T00:00:00",
          "2009-05-14T00:00:00",
          "2009-05-18T00:00:00",
          "2009-05-21T00:00:00",
          "2009-05-22T00:00:00",
          "2009-05-27T00:00:00"
         ],
         "xaxis": "x",
         "y": [
          2,
          2,
          5,
          2,
          1,
          1,
          1,
          4,
          2,
          10
         ],
         "yaxis": "y"
        },
        {
         "alignmentgroup": "True",
         "hovertemplate": "Month=2009-06<br>date=%{x}<br>Count=%{y}<extra></extra>",
         "legendgroup": "2009-06",
         "marker": {
          "color": "#FF97FF"
         },
         "name": "2009-06",
         "offsetgroup": "2009-06",
         "orientation": "v",
         "showlegend": true,
         "textposition": "auto",
         "type": "bar",
         "x": [
          "2009-06-03T00:00:00",
          "2009-06-04T00:00:00",
          "2009-06-08T00:00:00",
          "2009-06-10T00:00:00",
          "2009-06-11T00:00:00",
          "2009-06-14T00:00:00",
          "2009-06-17T00:00:00",
          "2009-06-18T00:00:00",
          "2009-06-19T00:00:00",
          "2009-06-29T00:00:00"
         ],
         "xaxis": "x",
         "y": [
          8,
          3,
          23,
          3,
          1,
          1,
          2,
          1,
          2,
          2
         ],
         "yaxis": "y"
        },
        {
         "alignmentgroup": "True",
         "hovertemplate": "Month=2009-07<br>date=%{x}<br>Count=%{y}<extra></extra>",
         "legendgroup": "2009-07",
         "marker": {
          "color": "#FECB52"
         },
         "name": "2009-07",
         "offsetgroup": "2009-07",
         "orientation": "v",
         "showlegend": true,
         "textposition": "auto",
         "type": "bar",
         "x": [
          "2009-07-01T00:00:00",
          "2009-07-08T00:00:00",
          "2009-07-09T00:00:00",
          "2009-07-10T00:00:00",
          "2009-07-12T00:00:00",
          "2009-07-13T00:00:00",
          "2009-07-16T00:00:00",
          "2009-07-17T00:00:00",
          "2009-07-23T00:00:00",
          "2009-07-24T00:00:00",
          "2009-07-30T00:00:00"
         ],
         "xaxis": "x",
         "y": [
          4,
          4,
          1,
          3,
          1,
          2,
          1,
          1,
          33,
          9,
          2
         ],
         "yaxis": "y"
        },
        {
         "alignmentgroup": "True",
         "hovertemplate": "Month=2009-08<br>date=%{x}<br>Count=%{y}<extra></extra>",
         "legendgroup": "2009-08",
         "marker": {
          "color": "#636efa"
         },
         "name": "2009-08",
         "offsetgroup": "2009-08",
         "orientation": "v",
         "showlegend": true,
         "textposition": "auto",
         "type": "bar",
         "x": [
          "2009-08-10T00:00:00",
          "2009-08-13T00:00:00",
          "2009-08-17T00:00:00",
          "2009-08-20T00:00:00"
         ],
         "xaxis": "x",
         "y": [
          9,
          1,
          1,
          1
         ],
         "yaxis": "y"
        },
        {
         "alignmentgroup": "True",
         "hovertemplate": "Month=2009-09<br>date=%{x}<br>Count=%{y}<extra></extra>",
         "legendgroup": "2009-09",
         "marker": {
          "color": "#EF553B"
         },
         "name": "2009-09",
         "offsetgroup": "2009-09",
         "orientation": "v",
         "showlegend": true,
         "textposition": "auto",
         "type": "bar",
         "x": [
          "2009-09-03T00:00:00",
          "2009-09-08T00:00:00",
          "2009-09-09T00:00:00",
          "2009-09-17T00:00:00",
          "2009-09-22T00:00:00",
          "2009-09-24T00:00:00",
          "2009-09-28T00:00:00",
          "2009-09-30T00:00:00"
         ],
         "xaxis": "x",
         "y": [
          2,
          4,
          8,
          1,
          1,
          5,
          5,
          1
         ],
         "yaxis": "y"
        },
        {
         "alignmentgroup": "True",
         "hovertemplate": "Month=2009-10<br>date=%{x}<br>Count=%{y}<extra></extra>",
         "legendgroup": "2009-10",
         "marker": {
          "color": "#00cc96"
         },
         "name": "2009-10",
         "offsetgroup": "2009-10",
         "orientation": "v",
         "showlegend": true,
         "textposition": "auto",
         "type": "bar",
         "x": [
          "2009-10-01T00:00:00",
          "2009-10-02T00:00:00",
          "2009-10-05T00:00:00",
          "2009-10-08T00:00:00",
          "2009-10-20T00:00:00",
          "2009-10-22T00:00:00",
          "2009-10-26T00:00:00",
          "2009-10-27T00:00:00",
          "2009-10-29T00:00:00"
         ],
         "xaxis": "x",
         "y": [
          1,
          5,
          2,
          1,
          3,
          12,
          2,
          4,
          1
         ],
         "yaxis": "y"
        },
        {
         "alignmentgroup": "True",
         "hovertemplate": "Month=2009-11<br>date=%{x}<br>Count=%{y}<extra></extra>",
         "legendgroup": "2009-11",
         "marker": {
          "color": "#ab63fa"
         },
         "name": "2009-11",
         "offsetgroup": "2009-11",
         "orientation": "v",
         "showlegend": true,
         "textposition": "auto",
         "type": "bar",
         "x": [
          "2009-11-06T00:00:00",
          "2009-11-07T00:00:00",
          "2009-11-09T00:00:00",
          "2009-11-10T00:00:00",
          "2009-11-12T00:00:00",
          "2009-11-13T00:00:00",
          "2009-11-16T00:00:00",
          "2009-11-27T00:00:00"
         ],
         "xaxis": "x",
         "y": [
          2,
          1,
          7,
          1,
          43,
          1,
          2,
          2
         ],
         "yaxis": "y"
        },
        {
         "alignmentgroup": "True",
         "hovertemplate": "Month=2009-12<br>date=%{x}<br>Count=%{y}<extra></extra>",
         "legendgroup": "2009-12",
         "marker": {
          "color": "#FFA15A"
         },
         "name": "2009-12",
         "offsetgroup": "2009-12",
         "orientation": "v",
         "showlegend": true,
         "textposition": "auto",
         "type": "bar",
         "x": [
          "2009-12-01T00:00:00",
          "2009-12-02T00:00:00",
          "2009-12-08T00:00:00",
          "2009-12-09T00:00:00",
          "2009-12-10T00:00:00",
          "2009-12-15T00:00:00",
          "2009-12-23T00:00:00"
         ],
         "xaxis": "x",
         "y": [
          6,
          6,
          12,
          1,
          8,
          1,
          2
         ],
         "yaxis": "y"
        },
        {
         "alignmentgroup": "True",
         "hovertemplate": "Month=2010-01<br>date=%{x}<br>Count=%{y}<extra></extra>",
         "legendgroup": "2010-01",
         "marker": {
          "color": "#19d3f3"
         },
         "name": "2010-01",
         "offsetgroup": "2010-01",
         "orientation": "v",
         "showlegend": true,
         "textposition": "auto",
         "type": "bar",
         "x": [
          "2010-01-11T00:00:00",
          "2010-01-13T00:00:00",
          "2010-01-14T00:00:00",
          "2010-01-22T00:00:00",
          "2010-01-26T00:00:00",
          "2010-01-28T00:00:00"
         ],
         "xaxis": "x",
         "y": [
          7,
          1,
          2,
          23,
          2,
          4
         ],
         "yaxis": "y"
        },
        {
         "alignmentgroup": "True",
         "hovertemplate": "Month=2010-02<br>date=%{x}<br>Count=%{y}<extra></extra>",
         "legendgroup": "2010-02",
         "marker": {
          "color": "#FF6692"
         },
         "name": "2010-02",
         "offsetgroup": "2010-02",
         "orientation": "v",
         "showlegend": true,
         "textposition": "auto",
         "type": "bar",
         "x": [
          "2010-02-01T00:00:00",
          "2010-02-02T00:00:00",
          "2010-02-04T00:00:00",
          "2010-02-09T00:00:00",
          "2010-02-16T00:00:00",
          "2010-02-18T00:00:00",
          "2010-02-25T00:00:00"
         ],
         "xaxis": "x",
         "y": [
          1,
          4,
          1,
          11,
          3,
          1,
          2
         ],
         "yaxis": "y"
        },
        {
         "alignmentgroup": "True",
         "hovertemplate": "Month=2010-03<br>date=%{x}<br>Count=%{y}<extra></extra>",
         "legendgroup": "2010-03",
         "marker": {
          "color": "#B6E880"
         },
         "name": "2010-03",
         "offsetgroup": "2010-03",
         "orientation": "v",
         "showlegend": true,
         "textposition": "auto",
         "type": "bar",
         "x": [
          "2010-03-08T00:00:00",
          "2010-03-09T00:00:00",
          "2010-03-22T00:00:00",
          "2010-03-23T00:00:00",
          "2010-03-24T00:00:00",
          "2010-03-25T00:00:00",
          "2010-03-29T00:00:00",
          "2010-03-30T00:00:00"
         ],
         "xaxis": "x",
         "y": [
          10,
          1,
          1,
          14,
          4,
          1,
          5,
          1
         ],
         "yaxis": "y"
        },
        {
         "alignmentgroup": "True",
         "hovertemplate": "Month=2010-04<br>date=%{x}<br>Count=%{y}<extra></extra>",
         "legendgroup": "2010-04",
         "marker": {
          "color": "#FF97FF"
         },
         "name": "2010-04",
         "offsetgroup": "2010-04",
         "orientation": "v",
         "showlegend": true,
         "textposition": "auto",
         "type": "bar",
         "x": [
          "2010-04-09T00:00:00",
          "2010-04-11T00:00:00",
          "2010-04-15T00:00:00",
          "2010-04-21T00:00:00",
          "2010-04-27T00:00:00",
          "2010-04-28T00:00:00"
         ],
         "xaxis": "x",
         "y": [
          2,
          1,
          3,
          23,
          1,
          1
         ],
         "yaxis": "y"
        },
        {
         "alignmentgroup": "True",
         "hovertemplate": "Month=2010-05<br>date=%{x}<br>Count=%{y}<extra></extra>",
         "legendgroup": "2010-05",
         "marker": {
          "color": "#FECB52"
         },
         "name": "2010-05",
         "offsetgroup": "2010-05",
         "orientation": "v",
         "showlegend": true,
         "textposition": "auto",
         "type": "bar",
         "x": [
          "2010-05-02T00:00:00",
          "2010-05-03T00:00:00",
          "2010-05-06T00:00:00",
          "2010-05-07T00:00:00",
          "2010-05-10T00:00:00",
          "2010-05-13T00:00:00",
          "2010-05-17T00:00:00",
          "2010-05-20T00:00:00",
          "2010-05-24T00:00:00",
          "2010-05-26T00:00:00",
          "2010-05-27T00:00:00"
         ],
         "xaxis": "x",
         "y": [
          1,
          1,
          2,
          1,
          6,
          2,
          1,
          1,
          3,
          4,
          2
         ],
         "yaxis": "y"
        },
        {
         "alignmentgroup": "True",
         "hovertemplate": "Month=2010-06<br>date=%{x}<br>Count=%{y}<extra></extra>",
         "legendgroup": "2010-06",
         "marker": {
          "color": "#636efa"
         },
         "name": "2010-06",
         "offsetgroup": "2010-06",
         "orientation": "v",
         "showlegend": true,
         "textposition": "auto",
         "type": "bar",
         "x": [
          "2010-06-02T00:00:00",
          "2010-06-04T00:00:00",
          "2010-06-08T00:00:00",
          "2010-06-10T00:00:00",
          "2010-06-27T00:00:00",
          "2010-06-28T00:00:00"
         ],
         "xaxis": "x",
         "y": [
          4,
          9,
          10,
          1,
          1,
          3
         ],
         "yaxis": "y"
        },
        {
         "alignmentgroup": "True",
         "hovertemplate": "Month=2010-07<br>date=%{x}<br>Count=%{y}<extra></extra>",
         "legendgroup": "2010-07",
         "marker": {
          "color": "#EF553B"
         },
         "name": "2010-07",
         "offsetgroup": "2010-07",
         "orientation": "v",
         "showlegend": true,
         "textposition": "auto",
         "type": "bar",
         "x": [
          "2010-07-01T00:00:00",
          "2010-07-05T00:00:00",
          "2010-07-06T00:00:00",
          "2010-07-07T00:00:00",
          "2010-07-08T00:00:00",
          "2010-07-13T00:00:00",
          "2010-07-16T00:00:00",
          "2010-07-23T00:00:00",
          "2010-07-28T00:00:00"
         ],
         "xaxis": "x",
         "y": [
          2,
          3,
          2,
          1,
          1,
          1,
          2,
          25,
          5
         ],
         "yaxis": "y"
        },
        {
         "alignmentgroup": "True",
         "hovertemplate": "Month=2010-08<br>date=%{x}<br>Count=%{y}<extra></extra>",
         "legendgroup": "2010-08",
         "marker": {
          "color": "#00cc96"
         },
         "name": "2010-08",
         "offsetgroup": "2010-08",
         "orientation": "v",
         "showlegend": true,
         "textposition": "auto",
         "type": "bar",
         "x": [
          "2010-08-09T00:00:00",
          "2010-08-18T00:00:00",
          "2010-08-19T00:00:00",
          "2010-08-24T00:00:00",
          "2010-08-25T00:00:00",
          "2010-08-30T00:00:00",
          "2010-08-31T00:00:00"
         ],
         "xaxis": "x",
         "y": [
          9,
          1,
          5,
          5,
          1,
          2,
          3
         ],
         "yaxis": "y"
        },
        {
         "alignmentgroup": "True",
         "hovertemplate": "Month=2010-09<br>date=%{x}<br>Count=%{y}<extra></extra>",
         "legendgroup": "2010-09",
         "marker": {
          "color": "#ab63fa"
         },
         "name": "2010-09",
         "offsetgroup": "2010-09",
         "orientation": "v",
         "showlegend": true,
         "textposition": "auto",
         "type": "bar",
         "x": [
          "2010-09-09T00:00:00",
          "2010-09-10T00:00:00",
          "2010-09-14T00:00:00",
          "2010-09-17T00:00:00",
          "2010-09-20T00:00:00",
          "2010-09-23T00:00:00",
          "2010-09-29T00:00:00",
          "2010-09-30T00:00:00"
         ],
         "xaxis": "x",
         "y": [
          15,
          3,
          1,
          1,
          1,
          5,
          3,
          13
         ],
         "yaxis": "y"
        },
        {
         "alignmentgroup": "True",
         "hovertemplate": "Month=2010-10<br>date=%{x}<br>Count=%{y}<extra></extra>",
         "legendgroup": "2010-10",
         "marker": {
          "color": "#FFA15A"
         },
         "name": "2010-10",
         "offsetgroup": "2010-10",
         "orientation": "v",
         "showlegend": true,
         "textposition": "auto",
         "type": "bar",
         "x": [
          "2010-10-08T00:00:00",
          "2010-10-10T00:00:00",
          "2010-10-11T00:00:00",
          "2010-10-12T00:00:00",
          "2010-10-19T00:00:00",
          "2010-10-21T00:00:00",
          "2010-10-27T00:00:00",
          "2010-10-29T00:00:00"
         ],
         "xaxis": "x",
         "y": [
          1,
          1,
          1,
          1,
          6,
          26,
          5,
          1
         ],
         "yaxis": "y"
        },
        {
         "alignmentgroup": "True",
         "hovertemplate": "Month=2010-11<br>date=%{x}<br>Count=%{y}<extra></extra>",
         "legendgroup": "2010-11",
         "marker": {
          "color": "#19d3f3"
         },
         "name": "2010-11",
         "offsetgroup": "2010-11",
         "orientation": "v",
         "showlegend": true,
         "textposition": "auto",
         "type": "bar",
         "x": [
          "2010-11-01T00:00:00",
          "2010-11-03T00:00:00",
          "2010-11-05T00:00:00",
          "2010-11-08T00:00:00",
          "2010-11-09T00:00:00",
          "2010-11-11T00:00:00",
          "2010-11-12T00:00:00",
          "2010-11-17T00:00:00",
          "2010-11-29T00:00:00"
         ],
         "xaxis": "x",
         "y": [
          1,
          6,
          11,
          8,
          3,
          1,
          1,
          8,
          2
         ],
         "yaxis": "y"
        },
        {
         "alignmentgroup": "True",
         "hovertemplate": "Month=2010-12<br>date=%{x}<br>Count=%{y}<extra></extra>",
         "legendgroup": "2010-12",
         "marker": {
          "color": "#FF6692"
         },
         "name": "2010-12",
         "offsetgroup": "2010-12",
         "orientation": "v",
         "showlegend": true,
         "textposition": "auto",
         "type": "bar",
         "x": [
          "2010-12-03T00:00:00",
          "2010-12-06T00:00:00",
          "2010-12-08T00:00:00",
          "2010-12-09T00:00:00",
          "2010-12-13T00:00:00",
          "2010-12-15T00:00:00",
          "2010-12-16T00:00:00",
          "2010-12-17T00:00:00",
          "2010-12-20T00:00:00",
          "2010-12-28T00:00:00",
          "2010-12-29T00:00:00",
          "2010-12-31T00:00:00"
         ],
         "xaxis": "x",
         "y": [
          4,
          1,
          10,
          1,
          2,
          8,
          1,
          3,
          1,
          1,
          1,
          1
         ],
         "yaxis": "y"
        },
        {
         "alignmentgroup": "True",
         "hovertemplate": "Month=2011-01<br>date=%{x}<br>Count=%{y}<extra></extra>",
         "legendgroup": "2011-01",
         "marker": {
          "color": "#B6E880"
         },
         "name": "2011-01",
         "offsetgroup": "2011-01",
         "orientation": "v",
         "showlegend": true,
         "textposition": "auto",
         "type": "bar",
         "x": [
          "2011-01-05T00:00:00",
          "2011-01-12T00:00:00",
          "2011-01-19T00:00:00",
          "2011-01-24T00:00:00",
          "2011-01-25T00:00:00",
          "2011-01-26T00:00:00"
         ],
         "xaxis": "x",
         "y": [
          1,
          1,
          1,
          60,
          1,
          1
         ],
         "yaxis": "y"
        },
        {
         "alignmentgroup": "True",
         "hovertemplate": "Month=2011-02<br>date=%{x}<br>Count=%{y}<extra></extra>",
         "legendgroup": "2011-02",
         "marker": {
          "color": "#FF97FF"
         },
         "name": "2011-02",
         "offsetgroup": "2011-02",
         "orientation": "v",
         "showlegend": true,
         "textposition": "auto",
         "type": "bar",
         "x": [
          "2011-02-01T00:00:00",
          "2011-02-06T00:00:00",
          "2011-02-08T00:00:00",
          "2011-02-21T00:00:00",
          "2011-02-23T00:00:00",
          "2011-02-25T00:00:00",
          "2011-02-27T00:00:00",
          "2011-02-28T00:00:00"
         ],
         "xaxis": "x",
         "y": [
          1,
          1,
          13,
          2,
          2,
          1,
          3,
          2
         ],
         "yaxis": "y"
        },
        {
         "alignmentgroup": "True",
         "hovertemplate": "Month=2011-03<br>date=%{x}<br>Count=%{y}<extra></extra>",
         "legendgroup": "2011-03",
         "marker": {
          "color": "#FECB52"
         },
         "name": "2011-03",
         "offsetgroup": "2011-03",
         "orientation": "v",
         "showlegend": true,
         "textposition": "auto",
         "type": "bar",
         "x": [
          "2011-03-02T00:00:00",
          "2011-03-03T00:00:00",
          "2011-03-07T00:00:00",
          "2011-03-08T00:00:00",
          "2011-03-11T00:00:00",
          "2011-03-17T00:00:00",
          "2011-03-23T00:00:00",
          "2011-03-30T00:00:00"
         ],
         "xaxis": "x",
         "y": [
          2,
          2,
          1,
          13,
          1,
          7,
          1,
          2
         ],
         "yaxis": "y"
        },
        {
         "alignmentgroup": "True",
         "hovertemplate": "Month=2011-04<br>date=%{x}<br>Count=%{y}<extra></extra>",
         "legendgroup": "2011-04",
         "marker": {
          "color": "#636efa"
         },
         "name": "2011-04",
         "offsetgroup": "2011-04",
         "orientation": "v",
         "showlegend": true,
         "textposition": "auto",
         "type": "bar",
         "x": [
          "2011-04-04T00:00:00",
          "2011-04-05T00:00:00",
          "2011-04-06T00:00:00",
          "2011-04-07T00:00:00",
          "2011-04-08T00:00:00",
          "2011-04-11T00:00:00",
          "2011-04-13T00:00:00",
          "2011-04-15T00:00:00",
          "2011-04-19T00:00:00",
          "2011-04-20T00:00:00",
          "2011-04-21T00:00:00",
          "2011-04-22T00:00:00",
          "2011-04-26T00:00:00",
          "2011-04-27T00:00:00",
          "2011-04-28T00:00:00",
          "2011-04-29T00:00:00"
         ],
         "xaxis": "x",
         "y": [
          4,
          1,
          5,
          3,
          3,
          1,
          3,
          2,
          1,
          1,
          54,
          1,
          1,
          1,
          2,
          2
         ],
         "yaxis": "y"
        },
        {
         "alignmentgroup": "True",
         "hovertemplate": "Month=2011-05<br>date=%{x}<br>Count=%{y}<extra></extra>",
         "legendgroup": "2011-05",
         "marker": {
          "color": "#EF553B"
         },
         "name": "2011-05",
         "offsetgroup": "2011-05",
         "orientation": "v",
         "showlegend": true,
         "textposition": "auto",
         "type": "bar",
         "x": [
          "2011-05-02T00:00:00",
          "2011-05-05T00:00:00",
          "2011-05-06T00:00:00",
          "2011-05-09T00:00:00",
          "2011-05-10T00:00:00",
          "2011-05-11T00:00:00",
          "2011-05-16T00:00:00",
          "2011-05-17T00:00:00",
          "2011-05-18T00:00:00",
          "2011-05-19T00:00:00",
          "2011-05-20T00:00:00",
          "2011-05-23T00:00:00",
          "2011-05-24T00:00:00",
          "2011-05-25T00:00:00",
          "2011-05-26T00:00:00",
          "2011-05-27T00:00:00",
          "2011-05-31T00:00:00"
         ],
         "xaxis": "x",
         "y": [
          1,
          5,
          3,
          10,
          1,
          1,
          1,
          2,
          1,
          1,
          2,
          1,
          1,
          1,
          1,
          2,
          1
         ],
         "yaxis": "y"
        },
        {
         "alignmentgroup": "True",
         "hovertemplate": "Month=2011-06<br>date=%{x}<br>Count=%{y}<extra></extra>",
         "legendgroup": "2011-06",
         "marker": {
          "color": "#00cc96"
         },
         "name": "2011-06",
         "offsetgroup": "2011-06",
         "orientation": "v",
         "showlegend": true,
         "textposition": "auto",
         "type": "bar",
         "x": [
          "2011-06-01T00:00:00",
          "2011-06-07T00:00:00",
          "2011-06-08T00:00:00",
          "2011-06-09T00:00:00",
          "2011-06-10T00:00:00",
          "2011-06-13T00:00:00",
          "2011-06-14T00:00:00",
          "2011-06-16T00:00:00",
          "2011-06-21T00:00:00",
          "2011-06-22T00:00:00",
          "2011-06-23T00:00:00",
          "2011-06-24T00:00:00",
          "2011-06-27T00:00:00",
          "2011-06-28T00:00:00",
          "2011-06-29T00:00:00",
          "2011-06-30T00:00:00"
         ],
         "xaxis": "x",
         "y": [
          1,
          1,
          8,
          1,
          2,
          5,
          9,
          1,
          1,
          1,
          2,
          2,
          1,
          1,
          4,
          7
         ],
         "yaxis": "y"
        },
        {
         "alignmentgroup": "True",
         "hovertemplate": "Month=2011-07<br>date=%{x}<br>Count=%{y}<extra></extra>",
         "legendgroup": "2011-07",
         "marker": {
          "color": "#ab63fa"
         },
         "name": "2011-07",
         "offsetgroup": "2011-07",
         "orientation": "v",
         "showlegend": true,
         "textposition": "auto",
         "type": "bar",
         "x": [
          "2011-07-01T00:00:00",
          "2011-07-03T00:00:00",
          "2011-07-05T00:00:00",
          "2011-07-08T00:00:00",
          "2011-07-12T00:00:00",
          "2011-07-13T00:00:00",
          "2011-07-14T00:00:00",
          "2011-07-15T00:00:00",
          "2011-07-19T00:00:00",
          "2011-07-20T00:00:00",
          "2011-07-21T00:00:00",
          "2011-07-22T00:00:00",
          "2011-07-25T00:00:00",
          "2011-07-26T00:00:00",
          "2011-07-27T00:00:00",
          "2011-07-28T00:00:00",
          "2011-07-29T00:00:00"
         ],
         "xaxis": "x",
         "y": [
          1,
          2,
          1,
          1,
          2,
          2,
          1,
          2,
          1,
          1,
          1,
          30,
          1,
          2,
          1,
          1,
          2
         ],
         "yaxis": "y"
        },
        {
         "alignmentgroup": "True",
         "hovertemplate": "Month=2011-08<br>date=%{x}<br>Count=%{y}<extra></extra>",
         "legendgroup": "2011-08",
         "marker": {
          "color": "#FFA15A"
         },
         "name": "2011-08",
         "offsetgroup": "2011-08",
         "orientation": "v",
         "showlegend": true,
         "textposition": "auto",
         "type": "bar",
         "x": [
          "2011-08-05T00:00:00",
          "2011-08-08T00:00:00",
          "2011-08-09T00:00:00",
          "2011-08-10T00:00:00",
          "2011-08-11T00:00:00",
          "2011-08-12T00:00:00",
          "2011-08-15T00:00:00",
          "2011-08-16T00:00:00",
          "2011-08-18T00:00:00",
          "2011-08-19T00:00:00",
          "2011-08-23T00:00:00",
          "2011-08-24T00:00:00",
          "2011-08-25T00:00:00",
          "2011-08-26T00:00:00",
          "2011-08-29T00:00:00",
          "2011-08-30T00:00:00",
          "2011-08-31T00:00:00"
         ],
         "xaxis": "x",
         "y": [
          1,
          10,
          1,
          1,
          1,
          1,
          1,
          8,
          1,
          1,
          1,
          1,
          1,
          1,
          1,
          2,
          1
         ],
         "yaxis": "y"
        },
        {
         "alignmentgroup": "True",
         "hovertemplate": "Month=2011-09<br>date=%{x}<br>Count=%{y}<extra></extra>",
         "legendgroup": "2011-09",
         "marker": {
          "color": "#19d3f3"
         },
         "name": "2011-09",
         "offsetgroup": "2011-09",
         "orientation": "v",
         "showlegend": true,
         "textposition": "auto",
         "type": "bar",
         "x": [
          "2011-09-01T00:00:00",
          "2011-09-02T00:00:00",
          "2011-09-06T00:00:00",
          "2011-09-07T00:00:00",
          "2011-09-08T00:00:00",
          "2011-09-09T00:00:00",
          "2011-09-13T00:00:00",
          "2011-09-15T00:00:00",
          "2011-09-16T00:00:00",
          "2011-09-20T00:00:00",
          "2011-09-22T00:00:00",
          "2011-09-23T00:00:00",
          "2011-09-26T00:00:00",
          "2011-09-27T00:00:00",
          "2011-09-29T00:00:00",
          "2011-09-30T00:00:00"
         ],
         "xaxis": "x",
         "y": [
          1,
          1,
          1,
          1,
          1,
          15,
          1,
          3,
          1,
          1,
          5,
          1,
          1,
          5,
          1,
          1
         ],
         "yaxis": "y"
        },
        {
         "alignmentgroup": "True",
         "hovertemplate": "Month=2011-10<br>date=%{x}<br>Count=%{y}<extra></extra>",
         "legendgroup": "2011-10",
         "marker": {
          "color": "#FF6692"
         },
         "name": "2011-10",
         "offsetgroup": "2011-10",
         "orientation": "v",
         "showlegend": true,
         "textposition": "auto",
         "type": "bar",
         "x": [
          "2011-10-03T00:00:00",
          "2011-10-07T00:00:00",
          "2011-10-10T00:00:00",
          "2011-10-11T00:00:00",
          "2011-10-14T00:00:00",
          "2011-10-17T00:00:00",
          "2011-10-18T00:00:00",
          "2011-10-20T00:00:00",
          "2011-10-21T00:00:00",
          "2011-10-24T00:00:00",
          "2011-10-25T00:00:00",
          "2011-10-26T00:00:00",
          "2011-10-27T00:00:00",
          "2011-10-28T00:00:00",
          "2011-10-31T00:00:00"
         ],
         "xaxis": "x",
         "y": [
          1,
          1,
          1,
          1,
          1,
          1,
          1,
          2,
          31,
          1,
          1,
          1,
          8,
          2,
          1
         ],
         "yaxis": "y"
        },
        {
         "alignmentgroup": "True",
         "hovertemplate": "Month=2011-11<br>date=%{x}<br>Count=%{y}<extra></extra>",
         "legendgroup": "2011-11",
         "marker": {
          "color": "#B6E880"
         },
         "name": "2011-11",
         "offsetgroup": "2011-11",
         "orientation": "v",
         "showlegend": true,
         "textposition": "auto",
         "type": "bar",
         "x": [
          "2011-11-01T00:00:00",
          "2011-11-03T00:00:00",
          "2011-11-07T00:00:00",
          "2011-11-08T00:00:00",
          "2011-11-09T00:00:00",
          "2011-11-10T00:00:00",
          "2011-11-11T00:00:00",
          "2011-11-18T00:00:00",
          "2011-11-23T00:00:00",
          "2011-11-25T00:00:00",
          "2011-11-29T00:00:00",
          "2011-11-30T00:00:00"
         ],
         "xaxis": "x",
         "y": [
          1,
          1,
          1,
          7,
          1,
          15,
          1,
          1,
          1,
          1,
          1,
          1
         ],
         "yaxis": "y"
        },
        {
         "alignmentgroup": "True",
         "hovertemplate": "Month=2011-12<br>date=%{x}<br>Count=%{y}<extra></extra>",
         "legendgroup": "2011-12",
         "marker": {
          "color": "#FF97FF"
         },
         "name": "2011-12",
         "offsetgroup": "2011-12",
         "orientation": "v",
         "showlegend": true,
         "textposition": "auto",
         "type": "bar",
         "x": [
          "2011-12-01T00:00:00",
          "2011-12-05T00:00:00",
          "2011-12-06T00:00:00",
          "2011-12-07T00:00:00",
          "2011-12-08T00:00:00",
          "2011-12-09T00:00:00",
          "2011-12-13T00:00:00",
          "2011-12-15T00:00:00",
          "2011-12-16T00:00:00",
          "2011-12-20T00:00:00",
          "2011-12-22T00:00:00",
          "2011-12-24T00:00:00",
          "2011-12-28T00:00:00",
          "2011-12-29T00:00:00",
          "2011-12-30T00:00:00"
         ],
         "xaxis": "x",
         "y": [
          1,
          1,
          1,
          1,
          8,
          1,
          1,
          1,
          1,
          1,
          1,
          1,
          1,
          1,
          1
         ],
         "yaxis": "y"
        },
        {
         "alignmentgroup": "True",
         "hovertemplate": "Month=2012-01<br>date=%{x}<br>Count=%{y}<extra></extra>",
         "legendgroup": "2012-01",
         "marker": {
          "color": "#FECB52"
         },
         "name": "2012-01",
         "offsetgroup": "2012-01",
         "orientation": "v",
         "showlegend": true,
         "textposition": "auto",
         "type": "bar",
         "x": [
          "2012-01-03T00:00:00",
          "2012-01-04T00:00:00",
          "2012-01-05T00:00:00",
          "2012-01-06T00:00:00",
          "2012-01-09T00:00:00",
          "2012-01-10T00:00:00",
          "2012-01-12T00:00:00",
          "2012-01-13T00:00:00",
          "2012-01-17T00:00:00",
          "2012-01-18T00:00:00",
          "2012-01-23T00:00:00",
          "2012-01-24T00:00:00",
          "2012-01-25T00:00:00",
          "2012-01-26T00:00:00",
          "2012-01-27T00:00:00",
          "2012-01-31T00:00:00"
         ],
         "xaxis": "x",
         "y": [
          1,
          1,
          1,
          2,
          1,
          2,
          3,
          9,
          1,
          6,
          1,
          26,
          4,
          1,
          2,
          2
         ],
         "yaxis": "y"
        },
        {
         "alignmentgroup": "True",
         "hovertemplate": "Month=2012-02<br>date=%{x}<br>Count=%{y}<extra></extra>",
         "legendgroup": "2012-02",
         "marker": {
          "color": "#636efa"
         },
         "name": "2012-02",
         "offsetgroup": "2012-02",
         "orientation": "v",
         "showlegend": true,
         "textposition": "auto",
         "type": "bar",
         "x": [
          "2012-02-02T00:00:00",
          "2012-02-03T00:00:00",
          "2012-02-06T00:00:00",
          "2012-02-08T00:00:00",
          "2012-02-09T00:00:00",
          "2012-02-10T00:00:00",
          "2012-02-13T00:00:00",
          "2012-02-16T00:00:00",
          "2012-02-18T00:00:00",
          "2012-02-21T00:00:00",
          "2012-02-23T00:00:00",
          "2012-02-24T00:00:00",
          "2012-02-27T00:00:00",
          "2012-02-28T00:00:00",
          "2012-02-29T00:00:00"
         ],
         "xaxis": "x",
         "y": [
          7,
          2,
          1,
          8,
          4,
          1,
          1,
          1,
          1,
          1,
          1,
          2,
          1,
          5,
          1
         ],
         "yaxis": "y"
        },
        {
         "alignmentgroup": "True",
         "hovertemplate": "Month=2012-03<br>date=%{x}<br>Count=%{y}<extra></extra>",
         "legendgroup": "2012-03",
         "marker": {
          "color": "#EF553B"
         },
         "name": "2012-03",
         "offsetgroup": "2012-03",
         "orientation": "v",
         "showlegend": true,
         "textposition": "auto",
         "type": "bar",
         "x": [
          "2012-03-01T00:00:00",
          "2012-03-02T00:00:00",
          "2012-03-05T00:00:00",
          "2012-03-07T00:00:00",
          "2012-03-08T00:00:00",
          "2012-03-09T00:00:00",
          "2012-03-10T00:00:00",
          "2012-03-13T00:00:00",
          "2012-03-14T00:00:00",
          "2012-03-15T00:00:00",
          "2012-03-16T00:00:00",
          "2012-03-21T00:00:00",
          "2012-03-22T00:00:00",
          "2012-03-23T00:00:00",
          "2012-03-26T00:00:00",
          "2012-03-27T00:00:00",
          "2012-03-28T00:00:00",
          "2012-03-29T00:00:00",
          "2012-03-30T00:00:00"
         ],
         "xaxis": "x",
         "y": [
          1,
          1,
          2,
          2,
          15,
          1,
          1,
          1,
          4,
          1,
          2,
          9,
          1,
          1,
          2,
          2,
          1,
          2,
          2
         ],
         "yaxis": "y"
        },
        {
         "alignmentgroup": "True",
         "hovertemplate": "Month=2012-04<br>date=%{x}<br>Count=%{y}<extra></extra>",
         "legendgroup": "2012-04",
         "marker": {
          "color": "#00cc96"
         },
         "name": "2012-04",
         "offsetgroup": "2012-04",
         "orientation": "v",
         "showlegend": true,
         "textposition": "auto",
         "type": "bar",
         "x": [
          "2012-04-04T00:00:00",
          "2012-04-05T00:00:00",
          "2012-04-09T00:00:00",
          "2012-04-10T00:00:00",
          "2012-04-11T00:00:00",
          "2012-04-12T00:00:00",
          "2012-04-16T00:00:00",
          "2012-04-18T00:00:00",
          "2012-04-19T00:00:00",
          "2012-04-20T00:00:00",
          "2012-04-24T00:00:00",
          "2012-04-25T00:00:00",
          "2012-04-26T00:00:00",
          "2012-04-27T00:00:00",
          "2012-04-30T00:00:00"
         ],
         "xaxis": "x",
         "y": [
          14,
          2,
          2,
          5,
          2,
          1,
          6,
          1,
          3,
          31,
          1,
          1,
          2,
          1,
          1
         ],
         "yaxis": "y"
        },
        {
         "alignmentgroup": "True",
         "hovertemplate": "Month=2012-05<br>date=%{x}<br>Count=%{y}<extra></extra>",
         "legendgroup": "2012-05",
         "marker": {
          "color": "#ab63fa"
         },
         "name": "2012-05",
         "offsetgroup": "2012-05",
         "orientation": "v",
         "showlegend": true,
         "textposition": "auto",
         "type": "bar",
         "x": [
          "2012-05-01T00:00:00",
          "2012-05-04T00:00:00",
          "2012-05-07T00:00:00",
          "2012-05-08T00:00:00",
          "2012-05-14T00:00:00",
          "2012-05-15T00:00:00",
          "2012-05-16T00:00:00",
          "2012-05-18T00:00:00",
          "2012-05-21T00:00:00",
          "2012-05-23T00:00:00",
          "2012-05-24T00:00:00",
          "2012-05-25T00:00:00",
          "2012-05-29T00:00:00",
          "2012-05-31T00:00:00"
         ],
         "xaxis": "x",
         "y": [
          1,
          1,
          1,
          9,
          2,
          2,
          2,
          1,
          1,
          9,
          5,
          5,
          2,
          5
         ],
         "yaxis": "y"
        },
        {
         "alignmentgroup": "True",
         "hovertemplate": "Month=2012-06<br>date=%{x}<br>Count=%{y}<extra></extra>",
         "legendgroup": "2012-06",
         "marker": {
          "color": "#FFA15A"
         },
         "name": "2012-06",
         "offsetgroup": "2012-06",
         "orientation": "v",
         "showlegend": true,
         "textposition": "auto",
         "type": "bar",
         "x": [
          "2012-06-01T00:00:00",
          "2012-06-04T00:00:00",
          "2012-06-05T00:00:00",
          "2012-06-07T00:00:00",
          "2012-06-08T00:00:00",
          "2012-06-11T00:00:00",
          "2012-06-12T00:00:00",
          "2012-06-14T00:00:00",
          "2012-06-15T00:00:00",
          "2012-06-19T00:00:00",
          "2012-06-20T00:00:00",
          "2012-06-22T00:00:00",
          "2012-06-25T00:00:00",
          "2012-06-26T00:00:00",
          "2012-06-28T00:00:00",
          "2012-06-29T00:00:00"
         ],
         "xaxis": "x",
         "y": [
          1,
          1,
          1,
          1,
          13,
          1,
          1,
          1,
          1,
          1,
          1,
          1,
          1,
          1,
          1,
          1
         ],
         "yaxis": "y"
        },
        {
         "alignmentgroup": "True",
         "hovertemplate": "Month=2012-07<br>date=%{x}<br>Count=%{y}<extra></extra>",
         "legendgroup": "2012-07",
         "marker": {
          "color": "#19d3f3"
         },
         "name": "2012-07",
         "offsetgroup": "2012-07",
         "orientation": "v",
         "showlegend": true,
         "textposition": "auto",
         "type": "bar",
         "x": [
          "2012-07-03T00:00:00",
          "2012-07-05T00:00:00",
          "2012-07-09T00:00:00",
          "2012-07-11T00:00:00",
          "2012-07-12T00:00:00",
          "2012-07-13T00:00:00",
          "2012-07-17T00:00:00",
          "2012-07-18T00:00:00",
          "2012-07-19T00:00:00",
          "2012-07-20T00:00:00",
          "2012-07-23T00:00:00",
          "2012-07-24T00:00:00",
          "2012-07-26T00:00:00",
          "2012-07-27T00:00:00",
          "2012-07-31T00:00:00"
         ],
         "xaxis": "x",
         "y": [
          1,
          1,
          1,
          1,
          2,
          1,
          1,
          1,
          1,
          1,
          41,
          1,
          1,
          1,
          1
         ],
         "yaxis": "y"
        },
        {
         "alignmentgroup": "True",
         "hovertemplate": "Month=2012-08<br>date=%{x}<br>Count=%{y}<extra></extra>",
         "legendgroup": "2012-08",
         "marker": {
          "color": "#FF6692"
         },
         "name": "2012-08",
         "offsetgroup": "2012-08",
         "orientation": "v",
         "showlegend": true,
         "textposition": "auto",
         "type": "bar",
         "x": [
          "2012-08-01T00:00:00",
          "2012-08-02T00:00:00",
          "2012-08-03T00:00:00",
          "2012-08-07T00:00:00",
          "2012-08-08T00:00:00",
          "2012-08-10T00:00:00",
          "2012-08-13T00:00:00",
          "2012-08-16T00:00:00",
          "2012-08-17T00:00:00",
          "2012-08-22T00:00:00",
          "2012-08-23T00:00:00",
          "2012-08-27T00:00:00",
          "2012-08-30T00:00:00"
         ],
         "xaxis": "x",
         "y": [
          1,
          1,
          2,
          1,
          6,
          6,
          1,
          1,
          1,
          2,
          2,
          3,
          2
         ],
         "yaxis": "y"
        },
        {
         "alignmentgroup": "True",
         "hovertemplate": "Month=2012-09<br>date=%{x}<br>Count=%{y}<extra></extra>",
         "legendgroup": "2012-09",
         "marker": {
          "color": "#B6E880"
         },
         "name": "2012-09",
         "offsetgroup": "2012-09",
         "orientation": "v",
         "showlegend": true,
         "textposition": "auto",
         "type": "bar",
         "x": [
          "2012-09-05T00:00:00",
          "2012-09-07T00:00:00",
          "2012-09-10T00:00:00",
          "2012-09-11T00:00:00",
          "2012-09-12T00:00:00",
          "2012-09-13T00:00:00",
          "2012-09-14T00:00:00",
          "2012-09-17T00:00:00",
          "2012-09-18T00:00:00",
          "2012-09-20T00:00:00",
          "2012-09-21T00:00:00",
          "2012-09-24T00:00:00",
          "2012-09-27T00:00:00",
          "2012-09-28T00:00:00"
         ],
         "xaxis": "x",
         "y": [
          3,
          2,
          2,
          9,
          16,
          1,
          1,
          1,
          1,
          4,
          2,
          1,
          1,
          2
         ],
         "yaxis": "y"
        },
        {
         "alignmentgroup": "True",
         "hovertemplate": "Month=2012-10<br>date=%{x}<br>Count=%{y}<extra></extra>",
         "legendgroup": "2012-10",
         "marker": {
          "color": "#FF97FF"
         },
         "name": "2012-10",
         "offsetgroup": "2012-10",
         "orientation": "v",
         "showlegend": true,
         "textposition": "auto",
         "type": "bar",
         "x": [
          "2012-10-01T00:00:00",
          "2012-10-02T00:00:00",
          "2012-10-03T00:00:00",
          "2012-10-05T00:00:00",
          "2012-10-09T00:00:00",
          "2012-10-10T00:00:00",
          "2012-10-12T00:00:00",
          "2012-10-15T00:00:00",
          "2012-10-16T00:00:00",
          "2012-10-17T00:00:00",
          "2012-10-18T00:00:00",
          "2012-10-19T00:00:00",
          "2012-10-22T00:00:00",
          "2012-10-25T00:00:00",
          "2012-10-31T00:00:00"
         ],
         "xaxis": "x",
         "y": [
          2,
          1,
          1,
          1,
          1,
          1,
          1,
          1,
          1,
          1,
          2,
          48,
          1,
          1,
          1
         ],
         "yaxis": "y"
        },
        {
         "alignmentgroup": "True",
         "hovertemplate": "Month=2012-11<br>date=%{x}<br>Count=%{y}<extra></extra>",
         "legendgroup": "2012-11",
         "marker": {
          "color": "#FECB52"
         },
         "name": "2012-11",
         "offsetgroup": "2012-11",
         "orientation": "v",
         "showlegend": true,
         "textposition": "auto",
         "type": "bar",
         "x": [
          "2012-11-01T00:00:00",
          "2012-11-05T00:00:00",
          "2012-11-06T00:00:00",
          "2012-11-07T00:00:00",
          "2012-11-08T00:00:00",
          "2012-11-09T00:00:00",
          "2012-11-13T00:00:00",
          "2012-11-14T00:00:00",
          "2012-11-15T00:00:00",
          "2012-11-16T00:00:00",
          "2012-11-20T00:00:00",
          "2012-11-21T00:00:00",
          "2012-11-23T00:00:00",
          "2012-11-26T00:00:00",
          "2012-11-28T00:00:00",
          "2012-11-29T00:00:00",
          "2012-11-30T00:00:00"
         ],
         "xaxis": "x",
         "y": [
          2,
          1,
          2,
          1,
          11,
          2,
          1,
          1,
          5,
          6,
          1,
          1,
          1,
          2,
          1,
          1,
          1
         ],
         "yaxis": "y"
        },
        {
         "alignmentgroup": "True",
         "hovertemplate": "Month=2012-12<br>date=%{x}<br>Count=%{y}<extra></extra>",
         "legendgroup": "2012-12",
         "marker": {
          "color": "#636efa"
         },
         "name": "2012-12",
         "offsetgroup": "2012-12",
         "orientation": "v",
         "showlegend": true,
         "textposition": "auto",
         "type": "bar",
         "x": [
          "2012-12-03T00:00:00",
          "2012-12-04T00:00:00",
          "2012-12-05T00:00:00",
          "2012-12-06T00:00:00",
          "2012-12-10T00:00:00",
          "2012-12-13T00:00:00",
          "2012-12-18T00:00:00",
          "2012-12-20T00:00:00",
          "2012-12-21T00:00:00",
          "2012-12-27T00:00:00",
          "2012-12-31T00:00:00"
         ],
         "xaxis": "x",
         "y": [
          1,
          1,
          1,
          1,
          11,
          1,
          3,
          1,
          1,
          1,
          1
         ],
         "yaxis": "y"
        },
        {
         "alignmentgroup": "True",
         "hovertemplate": "Month=2013-01<br>date=%{x}<br>Count=%{y}<extra></extra>",
         "legendgroup": "2013-01",
         "marker": {
          "color": "#EF553B"
         },
         "name": "2013-01",
         "offsetgroup": "2013-01",
         "orientation": "v",
         "showlegend": true,
         "textposition": "auto",
         "type": "bar",
         "x": [
          "2013-01-02T00:00:00",
          "2013-01-03T00:00:00",
          "2013-01-04T00:00:00",
          "2013-01-07T00:00:00",
          "2013-01-08T00:00:00",
          "2013-01-09T00:00:00",
          "2013-01-10T00:00:00",
          "2013-01-11T00:00:00",
          "2013-01-15T00:00:00",
          "2013-01-16T00:00:00",
          "2013-01-17T00:00:00",
          "2013-01-18T00:00:00",
          "2013-01-22T00:00:00",
          "2013-01-23T00:00:00",
          "2013-01-24T00:00:00",
          "2013-01-25T00:00:00",
          "2013-01-29T00:00:00",
          "2013-01-30T00:00:00",
          "2013-01-31T00:00:00"
         ],
         "xaxis": "x",
         "y": [
          1,
          1,
          1,
          4,
          9,
          1,
          1,
          2,
          2,
          3,
          2,
          1,
          2,
          24,
          3,
          5,
          1,
          1,
          1
         ],
         "yaxis": "y"
        },
        {
         "alignmentgroup": "True",
         "hovertemplate": "Month=2013-02<br>date=%{x}<br>Count=%{y}<extra></extra>",
         "legendgroup": "2013-02",
         "marker": {
          "color": "#00cc96"
         },
         "name": "2013-02",
         "offsetgroup": "2013-02",
         "orientation": "v",
         "showlegend": true,
         "textposition": "auto",
         "type": "bar",
         "x": [
          "2013-02-01T00:00:00",
          "2013-02-05T00:00:00",
          "2013-02-07T00:00:00",
          "2013-02-08T00:00:00",
          "2013-02-15T00:00:00",
          "2013-02-20T00:00:00",
          "2013-02-21T00:00:00",
          "2013-02-22T00:00:00",
          "2013-02-25T00:00:00",
          "2013-02-27T00:00:00",
          "2013-02-28T00:00:00"
         ],
         "xaxis": "x",
         "y": [
          1,
          1,
          2,
          7,
          1,
          3,
          3,
          1,
          1,
          1,
          1
         ],
         "yaxis": "y"
        },
        {
         "alignmentgroup": "True",
         "hovertemplate": "Month=2013-03<br>date=%{x}<br>Count=%{y}<extra></extra>",
         "legendgroup": "2013-03",
         "marker": {
          "color": "#ab63fa"
         },
         "name": "2013-03",
         "offsetgroup": "2013-03",
         "orientation": "v",
         "showlegend": true,
         "textposition": "auto",
         "type": "bar",
         "x": [
          "2013-03-01T00:00:00",
          "2013-03-04T00:00:00",
          "2013-03-07T00:00:00",
          "2013-03-08T00:00:00",
          "2013-03-11T00:00:00",
          "2013-03-13T00:00:00",
          "2013-03-14T00:00:00",
          "2013-03-15T00:00:00",
          "2013-03-20T00:00:00",
          "2013-03-22T00:00:00",
          "2013-03-25T00:00:00"
         ],
         "xaxis": "x",
         "y": [
          1,
          6,
          8,
          9,
          1,
          1,
          1,
          1,
          1,
          2,
          1
         ],
         "yaxis": "y"
        },
        {
         "alignmentgroup": "True",
         "hovertemplate": "Month=2013-04<br>date=%{x}<br>Count=%{y}<extra></extra>",
         "legendgroup": "2013-04",
         "marker": {
          "color": "#FFA15A"
         },
         "name": "2013-04",
         "offsetgroup": "2013-04",
         "orientation": "v",
         "showlegend": true,
         "textposition": "auto",
         "type": "bar",
         "x": [
          "2013-04-03T00:00:00",
          "2013-04-04T00:00:00",
          "2013-04-05T00:00:00",
          "2013-04-08T00:00:00",
          "2013-04-11T00:00:00",
          "2013-04-12T00:00:00",
          "2013-04-15T00:00:00",
          "2013-04-16T00:00:00",
          "2013-04-17T00:00:00",
          "2013-04-18T00:00:00",
          "2013-04-19T00:00:00",
          "2013-04-24T00:00:00",
          "2013-04-26T00:00:00",
          "2013-04-29T00:00:00",
          "2013-04-30T00:00:00"
         ],
         "xaxis": "x",
         "y": [
          1,
          1,
          1,
          1,
          1,
          7,
          2,
          1,
          1,
          2,
          21,
          1,
          19,
          9,
          1
         ],
         "yaxis": "y"
        },
        {
         "alignmentgroup": "True",
         "hovertemplate": "Month=2013-05<br>date=%{x}<br>Count=%{y}<extra></extra>",
         "legendgroup": "2013-05",
         "marker": {
          "color": "#19d3f3"
         },
         "name": "2013-05",
         "offsetgroup": "2013-05",
         "orientation": "v",
         "showlegend": true,
         "textposition": "auto",
         "type": "bar",
         "x": [
          "2013-05-02T00:00:00",
          "2013-05-03T00:00:00",
          "2013-05-06T00:00:00",
          "2013-05-08T00:00:00",
          "2013-05-09T00:00:00",
          "2013-05-10T00:00:00",
          "2013-05-14T00:00:00",
          "2013-05-15T00:00:00",
          "2013-05-16T00:00:00",
          "2013-05-17T00:00:00",
          "2013-05-20T00:00:00",
          "2013-05-21T00:00:00",
          "2013-05-22T00:00:00",
          "2013-05-23T00:00:00",
          "2013-05-30T00:00:00",
          "2013-05-31T00:00:00"
         ],
         "xaxis": "x",
         "y": [
          3,
          5,
          3,
          13,
          1,
          5,
          1,
          6,
          2,
          2,
          1,
          1,
          1,
          14,
          2,
          1
         ],
         "yaxis": "y"
        },
        {
         "alignmentgroup": "True",
         "hovertemplate": "Month=2013-06<br>date=%{x}<br>Count=%{y}<extra></extra>",
         "legendgroup": "2013-06",
         "marker": {
          "color": "#FF6692"
         },
         "name": "2013-06",
         "offsetgroup": "2013-06",
         "orientation": "v",
         "showlegend": true,
         "textposition": "auto",
         "type": "bar",
         "x": [
          "2013-06-03T00:00:00",
          "2013-06-05T00:00:00",
          "2013-06-06T00:00:00",
          "2013-06-10T00:00:00",
          "2013-06-11T00:00:00",
          "2013-06-12T00:00:00",
          "2013-06-17T00:00:00",
          "2013-06-18T00:00:00",
          "2013-06-20T00:00:00",
          "2013-06-21T00:00:00",
          "2013-06-24T00:00:00",
          "2013-06-25T00:00:00",
          "2013-06-27T00:00:00",
          "2013-06-28T00:00:00"
         ],
         "xaxis": "x",
         "y": [
          1,
          3,
          5,
          7,
          1,
          1,
          1,
          2,
          1,
          1,
          1,
          1,
          2,
          3
         ],
         "yaxis": "y"
        },
        {
         "alignmentgroup": "True",
         "hovertemplate": "Month=2013-07<br>date=%{x}<br>Count=%{y}<extra></extra>",
         "legendgroup": "2013-07",
         "marker": {
          "color": "#B6E880"
         },
         "name": "2013-07",
         "offsetgroup": "2013-07",
         "orientation": "v",
         "showlegend": true,
         "textposition": "auto",
         "type": "bar",
         "x": [
          "2013-07-01T00:00:00",
          "2013-07-02T00:00:00",
          "2013-07-03T00:00:00",
          "2013-07-05T00:00:00",
          "2013-07-08T00:00:00",
          "2013-07-10T00:00:00",
          "2013-07-12T00:00:00",
          "2013-07-15T00:00:00",
          "2013-07-16T00:00:00",
          "2013-07-17T00:00:00",
          "2013-07-19T00:00:00",
          "2013-07-22T00:00:00",
          "2013-07-24T00:00:00",
          "2013-07-25T00:00:00",
          "2013-07-26T00:00:00",
          "2013-07-30T00:00:00",
          "2013-07-31T00:00:00"
         ],
         "xaxis": "x",
         "y": [
          1,
          1,
          6,
          1,
          2,
          1,
          1,
          6,
          1,
          1,
          1,
          31,
          1,
          1,
          1,
          2,
          2
         ],
         "yaxis": "y"
        },
        {
         "alignmentgroup": "True",
         "hovertemplate": "Month=2013-08<br>date=%{x}<br>Count=%{y}<extra></extra>",
         "legendgroup": "2013-08",
         "marker": {
          "color": "#FF97FF"
         },
         "name": "2013-08",
         "offsetgroup": "2013-08",
         "orientation": "v",
         "showlegend": true,
         "textposition": "auto",
         "type": "bar",
         "x": [
          "2013-08-01T00:00:00",
          "2013-08-02T00:00:00",
          "2013-08-05T00:00:00",
          "2013-08-06T00:00:00",
          "2013-08-08T00:00:00",
          "2013-08-13T00:00:00",
          "2013-08-15T00:00:00",
          "2013-08-21T00:00:00",
          "2013-08-22T00:00:00",
          "2013-08-26T00:00:00",
          "2013-08-28T00:00:00",
          "2013-08-29T00:00:00"
         ],
         "xaxis": "x",
         "y": [
          1,
          2,
          1,
          1,
          5,
          1,
          1,
          1,
          1,
          2,
          1,
          1
         ],
         "yaxis": "y"
        },
        {
         "alignmentgroup": "True",
         "hovertemplate": "Month=2013-09<br>date=%{x}<br>Count=%{y}<extra></extra>",
         "legendgroup": "2013-09",
         "marker": {
          "color": "#FECB52"
         },
         "name": "2013-09",
         "offsetgroup": "2013-09",
         "orientation": "v",
         "showlegend": true,
         "textposition": "auto",
         "type": "bar",
         "x": [
          "2013-09-04T00:00:00",
          "2013-09-05T00:00:00",
          "2013-09-06T00:00:00",
          "2013-09-10T00:00:00",
          "2013-09-11T00:00:00",
          "2013-09-12T00:00:00",
          "2013-09-18T00:00:00",
          "2013-09-19T00:00:00",
          "2013-09-20T00:00:00",
          "2013-09-24T00:00:00",
          "2013-09-30T00:00:00"
         ],
         "xaxis": "x",
         "y": [
          1,
          1,
          1,
          5,
          2,
          1,
          4,
          1,
          1,
          1,
          2
         ],
         "yaxis": "y"
        },
        {
         "alignmentgroup": "True",
         "hovertemplate": "Month=2013-10<br>date=%{x}<br>Count=%{y}<extra></extra>",
         "legendgroup": "2013-10",
         "marker": {
          "color": "#636efa"
         },
         "name": "2013-10",
         "offsetgroup": "2013-10",
         "orientation": "v",
         "showlegend": true,
         "textposition": "auto",
         "type": "bar",
         "x": [
          "2013-10-02T00:00:00",
          "2013-10-03T00:00:00",
          "2013-10-08T00:00:00",
          "2013-10-10T00:00:00",
          "2013-10-11T00:00:00",
          "2013-10-15T00:00:00",
          "2013-10-16T00:00:00",
          "2013-10-17T00:00:00",
          "2013-10-18T00:00:00",
          "2013-10-21T00:00:00",
          "2013-10-23T00:00:00",
          "2013-10-25T00:00:00",
          "2013-10-28T00:00:00",
          "2013-10-30T00:00:00",
          "2013-10-31T00:00:00"
         ],
         "xaxis": "x",
         "y": [
          1,
          1,
          1,
          2,
          3,
          4,
          1,
          1,
          1,
          31,
          3,
          6,
          1,
          3,
          1
         ],
         "yaxis": "y"
        },
        {
         "alignmentgroup": "True",
         "hovertemplate": "Month=2013-11<br>date=%{x}<br>Count=%{y}<extra></extra>",
         "legendgroup": "2013-11",
         "marker": {
          "color": "#EF553B"
         },
         "name": "2013-11",
         "offsetgroup": "2013-11",
         "orientation": "v",
         "showlegend": true,
         "textposition": "auto",
         "type": "bar",
         "x": [
          "2013-11-05T00:00:00",
          "2013-11-07T00:00:00",
          "2013-11-08T00:00:00",
          "2013-11-13T00:00:00",
          "2013-11-14T00:00:00",
          "2013-11-15T00:00:00",
          "2013-11-18T00:00:00",
          "2013-11-19T00:00:00",
          "2013-11-20T00:00:00",
          "2013-11-21T00:00:00",
          "2013-11-25T00:00:00",
          "2013-11-27T00:00:00",
          "2013-11-29T00:00:00"
         ],
         "xaxis": "x",
         "y": [
          2,
          3,
          9,
          1,
          3,
          8,
          1,
          1,
          2,
          5,
          1,
          3,
          1
         ],
         "yaxis": "y"
        },
        {
         "alignmentgroup": "True",
         "hovertemplate": "Month=2013-12<br>date=%{x}<br>Count=%{y}<extra></extra>",
         "legendgroup": "2013-12",
         "marker": {
          "color": "#00cc96"
         },
         "name": "2013-12",
         "offsetgroup": "2013-12",
         "orientation": "v",
         "showlegend": true,
         "textposition": "auto",
         "type": "bar",
         "x": [
          "2013-12-03T00:00:00",
          "2013-12-04T00:00:00",
          "2013-12-05T00:00:00",
          "2013-12-09T00:00:00",
          "2013-12-10T00:00:00",
          "2013-12-11T00:00:00",
          "2013-12-12T00:00:00",
          "2013-12-13T00:00:00",
          "2013-12-17T00:00:00",
          "2013-12-18T00:00:00",
          "2013-12-19T00:00:00",
          "2013-12-20T00:00:00",
          "2013-12-26T00:00:00",
          "2013-12-27T00:00:00",
          "2013-12-31T00:00:00"
         ],
         "xaxis": "x",
         "y": [
          1,
          1,
          1,
          9,
          7,
          1,
          1,
          2,
          2,
          1,
          3,
          4,
          2,
          3,
          1
         ],
         "yaxis": "y"
        },
        {
         "alignmentgroup": "True",
         "hovertemplate": "Month=2014-01<br>date=%{x}<br>Count=%{y}<extra></extra>",
         "legendgroup": "2014-01",
         "marker": {
          "color": "#ab63fa"
         },
         "name": "2014-01",
         "offsetgroup": "2014-01",
         "orientation": "v",
         "showlegend": true,
         "textposition": "auto",
         "type": "bar",
         "x": [
          "2014-01-03T00:00:00",
          "2014-01-06T00:00:00",
          "2014-01-07T00:00:00",
          "2014-01-08T00:00:00",
          "2014-01-10T00:00:00",
          "2014-01-13T00:00:00",
          "2014-01-16T00:00:00",
          "2014-01-17T00:00:00",
          "2014-01-21T00:00:00",
          "2014-01-22T00:00:00",
          "2014-01-23T00:00:00",
          "2014-01-24T00:00:00",
          "2014-01-27T00:00:00",
          "2014-01-29T00:00:00",
          "2014-01-30T00:00:00",
          "2014-01-31T00:00:00"
         ],
         "xaxis": "x",
         "y": [
          1,
          1,
          3,
          3,
          1,
          1,
          1,
          1,
          1,
          4,
          28,
          2,
          1,
          3,
          1,
          2
         ],
         "yaxis": "y"
        },
        {
         "alignmentgroup": "True",
         "hovertemplate": "Month=2014-02<br>date=%{x}<br>Count=%{y}<extra></extra>",
         "legendgroup": "2014-02",
         "marker": {
          "color": "#FFA15A"
         },
         "name": "2014-02",
         "offsetgroup": "2014-02",
         "orientation": "v",
         "showlegend": true,
         "textposition": "auto",
         "type": "bar",
         "x": [
          "2014-02-04T00:00:00",
          "2014-02-05T00:00:00",
          "2014-02-06T00:00:00",
          "2014-02-07T00:00:00",
          "2014-02-09T00:00:00",
          "2014-02-10T00:00:00",
          "2014-02-11T00:00:00",
          "2014-02-13T00:00:00",
          "2014-02-14T00:00:00",
          "2014-02-18T00:00:00",
          "2014-02-19T00:00:00",
          "2014-02-20T00:00:00",
          "2014-02-21T00:00:00",
          "2014-02-24T00:00:00",
          "2014-02-25T00:00:00",
          "2014-02-26T00:00:00",
          "2014-02-27T00:00:00"
         ],
         "xaxis": "x",
         "y": [
          2,
          2,
          2,
          2,
          1,
          14,
          2,
          1,
          1,
          1,
          1,
          1,
          1,
          1,
          3,
          1,
          2
         ],
         "yaxis": "y"
        },
        {
         "alignmentgroup": "True",
         "hovertemplate": "Month=2014-03<br>date=%{x}<br>Count=%{y}<extra></extra>",
         "legendgroup": "2014-03",
         "marker": {
          "color": "#19d3f3"
         },
         "name": "2014-03",
         "offsetgroup": "2014-03",
         "orientation": "v",
         "showlegend": true,
         "textposition": "auto",
         "type": "bar",
         "x": [
          "2014-03-03T00:00:00",
          "2014-03-04T00:00:00",
          "2014-03-05T00:00:00",
          "2014-03-06T00:00:00",
          "2014-03-07T00:00:00",
          "2014-03-10T00:00:00",
          "2014-03-11T00:00:00",
          "2014-03-12T00:00:00",
          "2014-03-13T00:00:00",
          "2014-03-17T00:00:00",
          "2014-03-18T00:00:00",
          "2014-03-19T00:00:00",
          "2014-03-20T00:00:00",
          "2014-03-21T00:00:00",
          "2014-03-22T00:00:00",
          "2014-03-25T00:00:00",
          "2014-03-26T00:00:00",
          "2014-03-27T00:00:00",
          "2014-03-28T00:00:00"
         ],
         "xaxis": "x",
         "y": [
          1,
          1,
          1,
          1,
          2,
          18,
          3,
          3,
          5,
          2,
          2,
          2,
          14,
          3,
          1,
          1,
          1,
          1,
          1
         ],
         "yaxis": "y"
        },
        {
         "alignmentgroup": "True",
         "hovertemplate": "Month=2014-04<br>date=%{x}<br>Count=%{y}<extra></extra>",
         "legendgroup": "2014-04",
         "marker": {
          "color": "#FF6692"
         },
         "name": "2014-04",
         "offsetgroup": "2014-04",
         "orientation": "v",
         "showlegend": true,
         "textposition": "auto",
         "type": "bar",
         "x": [
          "2014-04-01T00:00:00",
          "2014-04-02T00:00:00",
          "2014-04-03T00:00:00",
          "2014-04-07T00:00:00",
          "2014-04-08T00:00:00",
          "2014-04-10T00:00:00",
          "2014-04-11T00:00:00",
          "2014-04-14T00:00:00",
          "2014-04-15T00:00:00",
          "2014-04-16T00:00:00",
          "2014-04-17T00:00:00",
          "2014-04-18T00:00:00",
          "2014-04-21T00:00:00",
          "2014-04-22T00:00:00",
          "2014-04-23T00:00:00",
          "2014-04-24T00:00:00",
          "2014-04-25T00:00:00",
          "2014-04-28T00:00:00",
          "2014-04-29T00:00:00",
          "2014-04-30T00:00:00"
         ],
         "xaxis": "x",
         "y": [
          2,
          3,
          2,
          1,
          1,
          2,
          2,
          1,
          1,
          3,
          1,
          2,
          1,
          28,
          1,
          2,
          9,
          1,
          1,
          1
         ],
         "yaxis": "y"
        },
        {
         "alignmentgroup": "True",
         "hovertemplate": "Month=2014-05<br>date=%{x}<br>Count=%{y}<extra></extra>",
         "legendgroup": "2014-05",
         "marker": {
          "color": "#B6E880"
         },
         "name": "2014-05",
         "offsetgroup": "2014-05",
         "orientation": "v",
         "showlegend": true,
         "textposition": "auto",
         "type": "bar",
         "x": [
          "2014-05-02T00:00:00",
          "2014-05-05T00:00:00",
          "2014-05-06T00:00:00",
          "2014-05-07T00:00:00",
          "2014-05-08T00:00:00",
          "2014-05-09T00:00:00",
          "2014-05-13T00:00:00",
          "2014-05-14T00:00:00",
          "2014-05-15T00:00:00",
          "2014-05-16T00:00:00",
          "2014-05-19T00:00:00",
          "2014-05-21T00:00:00",
          "2014-05-22T00:00:00",
          "2014-05-23T00:00:00",
          "2014-05-27T00:00:00",
          "2014-05-28T00:00:00",
          "2014-05-29T00:00:00",
          "2014-05-30T00:00:00"
         ],
         "xaxis": "x",
         "y": [
          1,
          1,
          1,
          2,
          9,
          1,
          1,
          1,
          1,
          1,
          2,
          1,
          5,
          1,
          3,
          21,
          1,
          1
         ],
         "yaxis": "y"
        },
        {
         "alignmentgroup": "True",
         "hovertemplate": "Month=2014-06<br>date=%{x}<br>Count=%{y}<extra></extra>",
         "legendgroup": "2014-06",
         "marker": {
          "color": "#FF97FF"
         },
         "name": "2014-06",
         "offsetgroup": "2014-06",
         "orientation": "v",
         "showlegend": true,
         "textposition": "auto",
         "type": "bar",
         "x": [
          "2014-06-02T00:00:00",
          "2014-06-03T00:00:00",
          "2014-06-04T00:00:00",
          "2014-06-09T00:00:00",
          "2014-06-10T00:00:00",
          "2014-06-12T00:00:00",
          "2014-06-13T00:00:00",
          "2014-06-16T00:00:00",
          "2014-06-18T00:00:00",
          "2014-06-19T00:00:00",
          "2014-06-23T00:00:00",
          "2014-06-24T00:00:00",
          "2014-06-27T00:00:00"
         ],
         "xaxis": "x",
         "y": [
          2,
          1,
          15,
          13,
          2,
          1,
          1,
          1,
          1,
          2,
          1,
          1,
          2
         ],
         "yaxis": "y"
        },
        {
         "alignmentgroup": "True",
         "hovertemplate": "Month=2014-07<br>date=%{x}<br>Count=%{y}<extra></extra>",
         "legendgroup": "2014-07",
         "marker": {
          "color": "#FECB52"
         },
         "name": "2014-07",
         "offsetgroup": "2014-07",
         "orientation": "v",
         "showlegend": true,
         "textposition": "auto",
         "type": "bar",
         "x": [
          "2014-07-01T00:00:00",
          "2014-07-02T00:00:00",
          "2014-07-03T00:00:00",
          "2014-07-07T00:00:00",
          "2014-07-10T00:00:00",
          "2014-07-11T00:00:00",
          "2014-07-15T00:00:00",
          "2014-07-18T00:00:00",
          "2014-07-22T00:00:00",
          "2014-07-23T00:00:00",
          "2014-07-24T00:00:00",
          "2014-07-25T00:00:00",
          "2014-07-26T00:00:00",
          "2014-07-27T00:00:00",
          "2014-07-28T00:00:00",
          "2014-07-29T00:00:00",
          "2014-07-30T00:00:00",
          "2014-07-31T00:00:00"
         ],
         "xaxis": "x",
         "y": [
          3,
          1,
          1,
          2,
          1,
          1,
          1,
          3,
          30,
          5,
          2,
          2,
          1,
          2,
          6,
          7,
          6,
          2
         ],
         "yaxis": "y"
        },
        {
         "alignmentgroup": "True",
         "hovertemplate": "Month=2014-08<br>date=%{x}<br>Count=%{y}<extra></extra>",
         "legendgroup": "2014-08",
         "marker": {
          "color": "#636efa"
         },
         "name": "2014-08",
         "offsetgroup": "2014-08",
         "orientation": "v",
         "showlegend": true,
         "textposition": "auto",
         "type": "bar",
         "x": [
          "2014-08-01T00:00:00",
          "2014-08-04T00:00:00",
          "2014-08-05T00:00:00",
          "2014-08-07T00:00:00",
          "2014-08-08T00:00:00",
          "2014-08-13T00:00:00",
          "2014-08-14T00:00:00",
          "2014-08-15T00:00:00",
          "2014-08-18T00:00:00",
          "2014-08-20T00:00:00",
          "2014-08-21T00:00:00",
          "2014-08-22T00:00:00",
          "2014-08-23T00:00:00",
          "2014-08-25T00:00:00",
          "2014-08-26T00:00:00",
          "2014-08-27T00:00:00",
          "2014-08-28T00:00:00",
          "2014-08-29T00:00:00"
         ],
         "xaxis": "x",
         "y": [
          1,
          3,
          4,
          1,
          15,
          1,
          1,
          1,
          1,
          5,
          2,
          10,
          1,
          1,
          1,
          4,
          2,
          6
         ],
         "yaxis": "y"
        },
        {
         "alignmentgroup": "True",
         "hovertemplate": "Month=2014-09<br>date=%{x}<br>Count=%{y}<extra></extra>",
         "legendgroup": "2014-09",
         "marker": {
          "color": "#EF553B"
         },
         "name": "2014-09",
         "offsetgroup": "2014-09",
         "orientation": "v",
         "showlegend": true,
         "textposition": "auto",
         "type": "bar",
         "x": [
          "2014-09-01T00:00:00",
          "2014-09-02T00:00:00",
          "2014-09-05T00:00:00",
          "2014-09-09T00:00:00",
          "2014-09-10T00:00:00",
          "2014-09-11T00:00:00",
          "2014-09-12T00:00:00",
          "2014-09-15T00:00:00",
          "2014-09-17T00:00:00",
          "2014-09-18T00:00:00",
          "2014-09-22T00:00:00",
          "2014-09-24T00:00:00",
          "2014-09-29T00:00:00",
          "2014-09-30T00:00:00"
         ],
         "xaxis": "x",
         "y": [
          2,
          5,
          2,
          24,
          2,
          2,
          2,
          3,
          1,
          7,
          1,
          6,
          2,
          1
         ],
         "yaxis": "y"
        },
        {
         "alignmentgroup": "True",
         "hovertemplate": "Month=2014-10<br>date=%{x}<br>Count=%{y}<extra></extra>",
         "legendgroup": "2014-10",
         "marker": {
          "color": "#00cc96"
         },
         "name": "2014-10",
         "offsetgroup": "2014-10",
         "orientation": "v",
         "showlegend": true,
         "textposition": "auto",
         "type": "bar",
         "x": [
          "2014-10-02T00:00:00",
          "2014-10-03T00:00:00",
          "2014-10-07T00:00:00",
          "2014-10-08T00:00:00",
          "2014-10-09T00:00:00",
          "2014-10-10T00:00:00",
          "2014-10-13T00:00:00",
          "2014-10-14T00:00:00",
          "2014-10-15T00:00:00",
          "2014-10-17T00:00:00",
          "2014-10-18T00:00:00",
          "2014-10-19T00:00:00",
          "2014-10-20T00:00:00",
          "2014-10-21T00:00:00",
          "2014-10-22T00:00:00",
          "2014-10-24T00:00:00",
          "2014-10-29T00:00:00",
          "2014-10-30T00:00:00",
          "2014-10-31T00:00:00"
         ],
         "xaxis": "x",
         "y": [
          1,
          1,
          2,
          2,
          1,
          1,
          4,
          1,
          1,
          1,
          1,
          1,
          2,
          22,
          4,
          1,
          2,
          2,
          1
         ],
         "yaxis": "y"
        },
        {
         "alignmentgroup": "True",
         "hovertemplate": "Month=2014-11<br>date=%{x}<br>Count=%{y}<extra></extra>",
         "legendgroup": "2014-11",
         "marker": {
          "color": "#ab63fa"
         },
         "name": "2014-11",
         "offsetgroup": "2014-11",
         "orientation": "v",
         "showlegend": true,
         "textposition": "auto",
         "type": "bar",
         "x": [
          "2014-11-03T00:00:00",
          "2014-11-04T00:00:00",
          "2014-11-05T00:00:00",
          "2014-11-06T00:00:00",
          "2014-11-07T00:00:00",
          "2014-11-10T00:00:00",
          "2014-11-12T00:00:00",
          "2014-11-13T00:00:00",
          "2014-11-14T00:00:00",
          "2014-11-18T00:00:00",
          "2014-11-19T00:00:00",
          "2014-11-20T00:00:00",
          "2014-11-21T00:00:00",
          "2014-11-24T00:00:00",
          "2014-11-25T00:00:00",
          "2014-11-26T00:00:00",
          "2014-11-28T00:00:00"
         ],
         "xaxis": "x",
         "y": [
          1,
          2,
          5,
          3,
          2,
          21,
          4,
          1,
          4,
          3,
          4,
          1,
          1,
          1,
          1,
          2,
          1
         ],
         "yaxis": "y"
        },
        {
         "alignmentgroup": "True",
         "hovertemplate": "Month=2014-12<br>date=%{x}<br>Count=%{y}<extra></extra>",
         "legendgroup": "2014-12",
         "marker": {
          "color": "#FFA15A"
         },
         "name": "2014-12",
         "offsetgroup": "2014-12",
         "orientation": "v",
         "showlegend": true,
         "textposition": "auto",
         "type": "bar",
         "x": [
          "2014-12-01T00:00:00",
          "2014-12-03T00:00:00",
          "2014-12-04T00:00:00",
          "2014-12-05T00:00:00",
          "2014-12-08T00:00:00",
          "2014-12-09T00:00:00",
          "2014-12-10T00:00:00",
          "2014-12-12T00:00:00",
          "2014-12-14T00:00:00",
          "2014-12-16T00:00:00",
          "2014-12-17T00:00:00",
          "2014-12-18T00:00:00",
          "2014-12-19T00:00:00",
          "2014-12-20T00:00:00",
          "2014-12-22T00:00:00",
          "2014-12-23T00:00:00",
          "2014-12-26T00:00:00",
          "2014-12-29T00:00:00",
          "2014-12-31T00:00:00"
         ],
         "xaxis": "x",
         "y": [
          1,
          3,
          1,
          3,
          18,
          4,
          3,
          1,
          1,
          2,
          1,
          1,
          4,
          1,
          1,
          1,
          2,
          1,
          1
         ],
         "yaxis": "y"
        },
        {
         "alignmentgroup": "True",
         "hovertemplate": "Month=2015-01<br>date=%{x}<br>Count=%{y}<extra></extra>",
         "legendgroup": "2015-01",
         "marker": {
          "color": "#19d3f3"
         },
         "name": "2015-01",
         "offsetgroup": "2015-01",
         "orientation": "v",
         "showlegend": true,
         "textposition": "auto",
         "type": "bar",
         "x": [
          "2015-01-02T00:00:00",
          "2015-01-05T00:00:00",
          "2015-01-06T00:00:00",
          "2015-01-07T00:00:00",
          "2015-01-08T00:00:00",
          "2015-01-09T00:00:00",
          "2015-01-14T00:00:00",
          "2015-01-16T00:00:00",
          "2015-01-20T00:00:00",
          "2015-01-22T00:00:00",
          "2015-01-23T00:00:00",
          "2015-01-27T00:00:00",
          "2015-01-28T00:00:00",
          "2015-01-29T00:00:00",
          "2015-01-30T00:00:00"
         ],
         "xaxis": "x",
         "y": [
          1,
          1,
          1,
          5,
          3,
          3,
          2,
          1,
          1,
          2,
          41,
          1,
          17,
          8,
          3
         ],
         "yaxis": "y"
        },
        {
         "alignmentgroup": "True",
         "hovertemplate": "Month=2015-02<br>date=%{x}<br>Count=%{y}<extra></extra>",
         "legendgroup": "2015-02",
         "marker": {
          "color": "#FF6692"
         },
         "name": "2015-02",
         "offsetgroup": "2015-02",
         "orientation": "v",
         "showlegend": true,
         "textposition": "auto",
         "type": "bar",
         "x": [
          "2015-02-01T00:00:00",
          "2015-02-02T00:00:00",
          "2015-02-03T00:00:00",
          "2015-02-04T00:00:00",
          "2015-02-05T00:00:00",
          "2015-02-09T00:00:00",
          "2015-02-11T00:00:00",
          "2015-02-12T00:00:00",
          "2015-02-17T00:00:00",
          "2015-02-19T00:00:00",
          "2015-02-23T00:00:00",
          "2015-02-24T00:00:00",
          "2015-02-25T00:00:00",
          "2015-02-26T00:00:00"
         ],
         "xaxis": "x",
         "y": [
          1,
          1,
          2,
          2,
          4,
          12,
          1,
          2,
          1,
          1,
          1,
          1,
          2,
          2
         ],
         "yaxis": "y"
        },
        {
         "alignmentgroup": "True",
         "hovertemplate": "Month=2015-03<br>date=%{x}<br>Count=%{y}<extra></extra>",
         "legendgroup": "2015-03",
         "marker": {
          "color": "#B6E880"
         },
         "name": "2015-03",
         "offsetgroup": "2015-03",
         "orientation": "v",
         "showlegend": true,
         "textposition": "auto",
         "type": "bar",
         "x": [
          "2015-03-02T00:00:00",
          "2015-03-03T00:00:00",
          "2015-03-04T00:00:00",
          "2015-03-05T00:00:00",
          "2015-03-06T00:00:00",
          "2015-03-09T00:00:00",
          "2015-03-10T00:00:00",
          "2015-03-11T00:00:00",
          "2015-03-12T00:00:00",
          "2015-03-16T00:00:00",
          "2015-03-17T00:00:00",
          "2015-03-18T00:00:00",
          "2015-03-19T00:00:00",
          "2015-03-20T00:00:00",
          "2015-03-23T00:00:00",
          "2015-03-24T00:00:00",
          "2015-03-25T00:00:00",
          "2015-03-26T00:00:00",
          "2015-03-27T00:00:00",
          "2015-03-30T00:00:00",
          "2015-03-31T00:00:00"
         ],
         "xaxis": "x",
         "y": [
          2,
          6,
          6,
          2,
          1,
          12,
          2,
          2,
          1,
          2,
          1,
          1,
          1,
          3,
          1,
          1,
          1,
          1,
          1,
          1,
          3
         ],
         "yaxis": "y"
        },
        {
         "alignmentgroup": "True",
         "hovertemplate": "Month=2015-04<br>date=%{x}<br>Count=%{y}<extra></extra>",
         "legendgroup": "2015-04",
         "marker": {
          "color": "#FF97FF"
         },
         "name": "2015-04",
         "offsetgroup": "2015-04",
         "orientation": "v",
         "showlegend": true,
         "textposition": "auto",
         "type": "bar",
         "x": [
          "2015-04-01T00:00:00",
          "2015-04-02T00:00:00",
          "2015-04-06T00:00:00",
          "2015-04-07T00:00:00",
          "2015-04-08T00:00:00",
          "2015-04-10T00:00:00",
          "2015-04-13T00:00:00",
          "2015-04-14T00:00:00",
          "2015-04-15T00:00:00",
          "2015-04-16T00:00:00",
          "2015-04-17T00:00:00",
          "2015-04-20T00:00:00",
          "2015-04-21T00:00:00",
          "2015-04-22T00:00:00",
          "2015-04-24T00:00:00",
          "2015-04-27T00:00:00",
          "2015-04-28T00:00:00",
          "2015-04-29T00:00:00",
          "2015-04-30T00:00:00"
         ],
         "xaxis": "x",
         "y": [
          23,
          1,
          2,
          1,
          2,
          2,
          1,
          1,
          2,
          1,
          1,
          1,
          1,
          34,
          1,
          1,
          2,
          5,
          1
         ],
         "yaxis": "y"
        },
        {
         "alignmentgroup": "True",
         "hovertemplate": "Month=2015-05<br>date=%{x}<br>Count=%{y}<extra></extra>",
         "legendgroup": "2015-05",
         "marker": {
          "color": "#FECB52"
         },
         "name": "2015-05",
         "offsetgroup": "2015-05",
         "orientation": "v",
         "showlegend": true,
         "textposition": "auto",
         "type": "bar",
         "x": [
          "2015-05-01T00:00:00",
          "2015-05-04T00:00:00",
          "2015-05-05T00:00:00",
          "2015-05-06T00:00:00",
          "2015-05-07T00:00:00",
          "2015-05-08T00:00:00",
          "2015-05-11T00:00:00",
          "2015-05-12T00:00:00",
          "2015-05-15T00:00:00",
          "2015-05-18T00:00:00",
          "2015-05-19T00:00:00",
          "2015-05-20T00:00:00",
          "2015-05-21T00:00:00",
          "2015-05-22T00:00:00",
          "2015-05-27T00:00:00",
          "2015-05-28T00:00:00",
          "2015-05-29T00:00:00"
         ],
         "xaxis": "x",
         "y": [
          2,
          33,
          5,
          5,
          1,
          16,
          1,
          1,
          5,
          25,
          2,
          5,
          6,
          2,
          5,
          2,
          1
         ],
         "yaxis": "y"
        },
        {
         "alignmentgroup": "True",
         "hovertemplate": "Month=2015-06<br>date=%{x}<br>Count=%{y}<extra></extra>",
         "legendgroup": "2015-06",
         "marker": {
          "color": "#636efa"
         },
         "name": "2015-06",
         "offsetgroup": "2015-06",
         "orientation": "v",
         "showlegend": true,
         "textposition": "auto",
         "type": "bar",
         "x": [
          "2015-06-01T00:00:00",
          "2015-06-02T00:00:00",
          "2015-06-04T00:00:00",
          "2015-06-05T00:00:00",
          "2015-06-08T00:00:00",
          "2015-06-09T00:00:00",
          "2015-06-10T00:00:00",
          "2015-06-11T00:00:00",
          "2015-06-12T00:00:00",
          "2015-06-15T00:00:00",
          "2015-06-16T00:00:00",
          "2015-06-17T00:00:00",
          "2015-06-18T00:00:00",
          "2015-06-19T00:00:00",
          "2015-06-22T00:00:00",
          "2015-06-24T00:00:00",
          "2015-06-25T00:00:00",
          "2015-06-26T00:00:00",
          "2015-06-29T00:00:00",
          "2015-06-30T00:00:00"
         ],
         "xaxis": "x",
         "y": [
          1,
          2,
          1,
          5,
          11,
          5,
          1,
          1,
          2,
          1,
          1,
          1,
          1,
          1,
          1,
          1,
          4,
          1,
          1,
          1
         ],
         "yaxis": "y"
        },
        {
         "alignmentgroup": "True",
         "hovertemplate": "Month=2015-07<br>date=%{x}<br>Count=%{y}<extra></extra>",
         "legendgroup": "2015-07",
         "marker": {
          "color": "#EF553B"
         },
         "name": "2015-07",
         "offsetgroup": "2015-07",
         "orientation": "v",
         "showlegend": true,
         "textposition": "auto",
         "type": "bar",
         "x": [
          "2015-07-02T00:00:00",
          "2015-07-06T00:00:00",
          "2015-07-07T00:00:00",
          "2015-07-08T00:00:00",
          "2015-07-09T00:00:00",
          "2015-07-10T00:00:00",
          "2015-07-13T00:00:00",
          "2015-07-15T00:00:00",
          "2015-07-16T00:00:00",
          "2015-07-17T00:00:00",
          "2015-07-20T00:00:00",
          "2015-07-21T00:00:00",
          "2015-07-22T00:00:00",
          "2015-07-23T00:00:00",
          "2015-07-24T00:00:00",
          "2015-07-27T00:00:00",
          "2015-07-30T00:00:00",
          "2015-07-31T00:00:00"
         ],
         "xaxis": "x",
         "y": [
          1,
          1,
          1,
          3,
          1,
          1,
          1,
          1,
          1,
          3,
          1,
          5,
          1,
          45,
          1,
          1,
          1,
          1
         ],
         "yaxis": "y"
        },
        {
         "alignmentgroup": "True",
         "hovertemplate": "Month=2015-08<br>date=%{x}<br>Count=%{y}<extra></extra>",
         "legendgroup": "2015-08",
         "marker": {
          "color": "#00cc96"
         },
         "name": "2015-08",
         "offsetgroup": "2015-08",
         "orientation": "v",
         "showlegend": true,
         "textposition": "auto",
         "type": "bar",
         "x": [
          "2015-08-03T00:00:00",
          "2015-08-04T00:00:00",
          "2015-08-06T00:00:00",
          "2015-08-07T00:00:00",
          "2015-08-10T00:00:00",
          "2015-08-11T00:00:00",
          "2015-08-12T00:00:00",
          "2015-08-13T00:00:00",
          "2015-08-17T00:00:00",
          "2015-08-18T00:00:00",
          "2015-08-19T00:00:00",
          "2015-08-20T00:00:00",
          "2015-08-21T00:00:00",
          "2015-08-24T00:00:00",
          "2015-08-25T00:00:00",
          "2015-08-26T00:00:00",
          "2015-08-27T00:00:00",
          "2015-08-28T00:00:00",
          "2015-08-29T00:00:00",
          "2015-08-31T00:00:00"
         ],
         "xaxis": "x",
         "y": [
          1,
          4,
          3,
          2,
          1,
          1,
          1,
          3,
          2,
          1,
          3,
          1,
          3,
          1,
          1,
          1,
          1,
          2,
          1,
          1
         ],
         "yaxis": "y"
        },
        {
         "alignmentgroup": "True",
         "hovertemplate": "Month=2015-09<br>date=%{x}<br>Count=%{y}<extra></extra>",
         "legendgroup": "2015-09",
         "marker": {
          "color": "#ab63fa"
         },
         "name": "2015-09",
         "offsetgroup": "2015-09",
         "orientation": "v",
         "showlegend": true,
         "textposition": "auto",
         "type": "bar",
         "x": [
          "2015-09-01T00:00:00",
          "2015-09-04T00:00:00",
          "2015-09-05T00:00:00",
          "2015-09-09T00:00:00",
          "2015-09-11T00:00:00",
          "2015-09-14T00:00:00",
          "2015-09-15T00:00:00",
          "2015-09-17T00:00:00",
          "2015-09-18T00:00:00",
          "2015-09-22T00:00:00",
          "2015-09-24T00:00:00",
          "2015-09-25T00:00:00",
          "2015-09-28T00:00:00",
          "2015-09-29T00:00:00",
          "2015-09-30T00:00:00"
         ],
         "xaxis": "x",
         "y": [
          4,
          1,
          1,
          5,
          1,
          1,
          1,
          2,
          1,
          2,
          6,
          1,
          1,
          2,
          2
         ],
         "yaxis": "y"
        },
        {
         "alignmentgroup": "True",
         "hovertemplate": "Month=2015-10<br>date=%{x}<br>Count=%{y}<extra></extra>",
         "legendgroup": "2015-10",
         "marker": {
          "color": "#FFA15A"
         },
         "name": "2015-10",
         "offsetgroup": "2015-10",
         "orientation": "v",
         "showlegend": true,
         "textposition": "auto",
         "type": "bar",
         "x": [
          "2015-10-01T00:00:00",
          "2015-10-02T00:00:00",
          "2015-10-05T00:00:00",
          "2015-10-06T00:00:00",
          "2015-10-08T00:00:00",
          "2015-10-09T00:00:00",
          "2015-10-13T00:00:00",
          "2015-10-14T00:00:00",
          "2015-10-15T00:00:00",
          "2015-10-16T00:00:00",
          "2015-10-19T00:00:00",
          "2015-10-20T00:00:00",
          "2015-10-22T00:00:00",
          "2015-10-23T00:00:00",
          "2015-10-26T00:00:00",
          "2015-10-27T00:00:00",
          "2015-10-28T00:00:00",
          "2015-10-30T00:00:00"
         ],
         "xaxis": "x",
         "y": [
          1,
          1,
          1,
          2,
          1,
          1,
          1,
          2,
          3,
          1,
          2,
          1,
          19,
          1,
          8,
          1,
          3,
          1
         ],
         "yaxis": "y"
        },
        {
         "alignmentgroup": "True",
         "hovertemplate": "Month=2015-11<br>date=%{x}<br>Count=%{y}<extra></extra>",
         "legendgroup": "2015-11",
         "marker": {
          "color": "#19d3f3"
         },
         "name": "2015-11",
         "offsetgroup": "2015-11",
         "orientation": "v",
         "showlegend": true,
         "textposition": "auto",
         "type": "bar",
         "x": [
          "2015-11-06T00:00:00",
          "2015-11-09T00:00:00",
          "2015-11-10T00:00:00",
          "2015-11-11T00:00:00",
          "2015-11-12T00:00:00",
          "2015-11-13T00:00:00",
          "2015-11-16T00:00:00",
          "2015-11-17T00:00:00",
          "2015-11-19T00:00:00",
          "2015-11-20T00:00:00",
          "2015-11-21T00:00:00",
          "2015-11-23T00:00:00",
          "2015-11-24T00:00:00",
          "2015-11-25T00:00:00",
          "2015-11-27T00:00:00",
          "2015-11-30T00:00:00"
         ],
         "xaxis": "x",
         "y": [
          1,
          1,
          27,
          7,
          3,
          1,
          1,
          1,
          4,
          1,
          1,
          1,
          1,
          3,
          1,
          4
         ],
         "yaxis": "y"
        },
        {
         "alignmentgroup": "True",
         "hovertemplate": "Month=2015-12<br>date=%{x}<br>Count=%{y}<extra></extra>",
         "legendgroup": "2015-12",
         "marker": {
          "color": "#FF6692"
         },
         "name": "2015-12",
         "offsetgroup": "2015-12",
         "orientation": "v",
         "showlegend": true,
         "textposition": "auto",
         "type": "bar",
         "x": [
          "2015-12-01T00:00:00",
          "2015-12-02T00:00:00",
          "2015-12-03T00:00:00",
          "2015-12-04T00:00:00",
          "2015-12-08T00:00:00",
          "2015-12-09T00:00:00",
          "2015-12-10T00:00:00",
          "2015-12-14T00:00:00",
          "2015-12-15T00:00:00",
          "2015-12-16T00:00:00",
          "2015-12-17T00:00:00",
          "2015-12-18T00:00:00",
          "2015-12-21T00:00:00",
          "2015-12-22T00:00:00",
          "2015-12-23T00:00:00",
          "2015-12-24T00:00:00",
          "2015-12-28T00:00:00",
          "2015-12-31T00:00:00"
         ],
         "xaxis": "x",
         "y": [
          1,
          15,
          3,
          1,
          2,
          1,
          1,
          1,
          1,
          1,
          1,
          1,
          2,
          3,
          1,
          1,
          1,
          2
         ],
         "yaxis": "y"
        },
        {
         "alignmentgroup": "True",
         "hovertemplate": "Month=2016-01<br>date=%{x}<br>Count=%{y}<extra></extra>",
         "legendgroup": "2016-01",
         "marker": {
          "color": "#B6E880"
         },
         "name": "2016-01",
         "offsetgroup": "2016-01",
         "orientation": "v",
         "showlegend": true,
         "textposition": "auto",
         "type": "bar",
         "x": [
          "2016-01-04T00:00:00",
          "2016-01-05T00:00:00",
          "2016-01-06T00:00:00",
          "2016-01-07T00:00:00",
          "2016-01-08T00:00:00",
          "2016-01-12T00:00:00",
          "2016-01-14T00:00:00",
          "2016-01-15T00:00:00",
          "2016-01-19T00:00:00",
          "2016-01-20T00:00:00",
          "2016-01-21T00:00:00",
          "2016-01-25T00:00:00",
          "2016-01-26T00:00:00",
          "2016-01-29T00:00:00"
         ],
         "xaxis": "x",
         "y": [
          1,
          1,
          1,
          1,
          2,
          4,
          1,
          1,
          3,
          5,
          3,
          33,
          5,
          1
         ],
         "yaxis": "y"
        },
        {
         "alignmentgroup": "True",
         "hovertemplate": "Month=2016-02<br>date=%{x}<br>Count=%{y}<extra></extra>",
         "legendgroup": "2016-02",
         "marker": {
          "color": "#FF97FF"
         },
         "name": "2016-02",
         "offsetgroup": "2016-02",
         "orientation": "v",
         "showlegend": true,
         "textposition": "auto",
         "type": "bar",
         "x": [
          "2016-02-02T00:00:00",
          "2016-02-03T00:00:00",
          "2016-02-04T00:00:00",
          "2016-02-05T00:00:00",
          "2016-02-08T00:00:00",
          "2016-02-09T00:00:00",
          "2016-02-11T00:00:00",
          "2016-02-12T00:00:00",
          "2016-02-15T00:00:00",
          "2016-02-16T00:00:00",
          "2016-02-17T00:00:00",
          "2016-02-18T00:00:00",
          "2016-02-19T00:00:00",
          "2016-02-24T00:00:00",
          "2016-02-25T00:00:00",
          "2016-02-26T00:00:00",
          "2016-02-29T00:00:00"
         ],
         "xaxis": "x",
         "y": [
          2,
          1,
          1,
          1,
          3,
          4,
          1,
          2,
          1,
          1,
          1,
          12,
          1,
          1,
          3,
          1,
          1
         ],
         "yaxis": "y"
        },
        {
         "alignmentgroup": "True",
         "hovertemplate": "Month=2016-03<br>date=%{x}<br>Count=%{y}<extra></extra>",
         "legendgroup": "2016-03",
         "marker": {
          "color": "#FECB52"
         },
         "name": "2016-03",
         "offsetgroup": "2016-03",
         "orientation": "v",
         "showlegend": true,
         "textposition": "auto",
         "type": "bar",
         "x": [
          "2016-03-01T00:00:00",
          "2016-03-02T00:00:00",
          "2016-03-03T00:00:00",
          "2016-03-04T00:00:00",
          "2016-03-08T00:00:00",
          "2016-03-09T00:00:00",
          "2016-03-10T00:00:00",
          "2016-03-14T00:00:00",
          "2016-03-15T00:00:00",
          "2016-03-16T00:00:00",
          "2016-03-17T00:00:00",
          "2016-03-18T00:00:00",
          "2016-03-20T00:00:00",
          "2016-03-21T00:00:00",
          "2016-03-22T00:00:00",
          "2016-03-23T00:00:00",
          "2016-03-24T00:00:00",
          "2016-03-28T00:00:00",
          "2016-03-31T00:00:00"
         ],
         "xaxis": "x",
         "y": [
          2,
          1,
          2,
          3,
          1,
          1,
          2,
          1,
          1,
          1,
          1,
          3,
          1,
          2,
          1,
          1,
          2,
          1,
          5
         ],
         "yaxis": "y"
        },
        {
         "alignmentgroup": "True",
         "hovertemplate": "Month=2016-04<br>date=%{x}<br>Count=%{y}<extra></extra>",
         "legendgroup": "2016-04",
         "marker": {
          "color": "#636efa"
         },
         "name": "2016-04",
         "offsetgroup": "2016-04",
         "orientation": "v",
         "showlegend": true,
         "textposition": "auto",
         "type": "bar",
         "x": [
          "2016-04-01T00:00:00",
          "2016-04-04T00:00:00",
          "2016-04-05T00:00:00",
          "2016-04-06T00:00:00",
          "2016-04-10T00:00:00",
          "2016-04-11T00:00:00",
          "2016-04-13T00:00:00",
          "2016-04-14T00:00:00",
          "2016-04-15T00:00:00",
          "2016-04-18T00:00:00",
          "2016-04-19T00:00:00",
          "2016-04-20T00:00:00",
          "2016-04-22T00:00:00",
          "2016-04-26T00:00:00",
          "2016-04-27T00:00:00",
          "2016-04-28T00:00:00",
          "2016-04-29T00:00:00"
         ],
         "xaxis": "x",
         "y": [
          2,
          2,
          1,
          11,
          1,
          2,
          2,
          2,
          1,
          1,
          1,
          1,
          28,
          8,
          1,
          1,
          1
         ],
         "yaxis": "y"
        },
        {
         "alignmentgroup": "True",
         "hovertemplate": "Month=2016-05<br>date=%{x}<br>Count=%{y}<extra></extra>",
         "legendgroup": "2016-05",
         "marker": {
          "color": "#EF553B"
         },
         "name": "2016-05",
         "offsetgroup": "2016-05",
         "orientation": "v",
         "showlegend": true,
         "textposition": "auto",
         "type": "bar",
         "x": [
          "2016-05-03T00:00:00",
          "2016-05-04T00:00:00",
          "2016-05-05T00:00:00",
          "2016-05-06T00:00:00",
          "2016-05-09T00:00:00",
          "2016-05-10T00:00:00",
          "2016-05-11T00:00:00",
          "2016-05-13T00:00:00",
          "2016-05-17T00:00:00",
          "2016-05-18T00:00:00",
          "2016-05-23T00:00:00",
          "2016-05-24T00:00:00",
          "2016-05-25T00:00:00",
          "2016-05-26T00:00:00",
          "2016-05-31T00:00:00"
         ],
         "xaxis": "x",
         "y": [
          1,
          1,
          1,
          1,
          1,
          1,
          6,
          1,
          1,
          1,
          1,
          1,
          2,
          13,
          1
         ],
         "yaxis": "y"
        },
        {
         "alignmentgroup": "True",
         "hovertemplate": "Month=2016-06<br>date=%{x}<br>Count=%{y}<extra></extra>",
         "legendgroup": "2016-06",
         "marker": {
          "color": "#00cc96"
         },
         "name": "2016-06",
         "offsetgroup": "2016-06",
         "orientation": "v",
         "showlegend": true,
         "textposition": "auto",
         "type": "bar",
         "x": [
          "2016-06-01T00:00:00",
          "2016-06-02T00:00:00",
          "2016-06-04T00:00:00",
          "2016-06-06T00:00:00",
          "2016-06-07T00:00:00",
          "2016-06-08T00:00:00",
          "2016-06-13T00:00:00",
          "2016-06-15T00:00:00",
          "2016-06-17T00:00:00",
          "2016-06-20T00:00:00",
          "2016-06-21T00:00:00",
          "2016-06-22T00:00:00",
          "2016-06-23T00:00:00",
          "2016-06-24T00:00:00",
          "2016-06-27T00:00:00",
          "2016-06-28T00:00:00",
          "2016-06-29T00:00:00",
          "2016-06-30T00:00:00"
         ],
         "xaxis": "x",
         "y": [
          3,
          3,
          1,
          4,
          2,
          2,
          4,
          1,
          2,
          1,
          1,
          1,
          3,
          1,
          1,
          1,
          1,
          1
         ],
         "yaxis": "y"
        },
        {
         "alignmentgroup": "True",
         "hovertemplate": "Month=2016-07<br>date=%{x}<br>Count=%{y}<extra></extra>",
         "legendgroup": "2016-07",
         "marker": {
          "color": "#ab63fa"
         },
         "name": "2016-07",
         "offsetgroup": "2016-07",
         "orientation": "v",
         "showlegend": true,
         "textposition": "auto",
         "type": "bar",
         "x": [
          "2016-07-05T00:00:00",
          "2016-07-06T00:00:00",
          "2016-07-07T00:00:00",
          "2016-07-12T00:00:00",
          "2016-07-13T00:00:00",
          "2016-07-14T00:00:00",
          "2016-07-18T00:00:00",
          "2016-07-19T00:00:00",
          "2016-07-20T00:00:00",
          "2016-07-22T00:00:00",
          "2016-07-25T00:00:00",
          "2016-07-26T00:00:00",
          "2016-07-27T00:00:00",
          "2016-07-28T00:00:00"
         ],
         "xaxis": "x",
         "y": [
          3,
          5,
          8,
          2,
          1,
          1,
          1,
          1,
          1,
          1,
          1,
          27,
          1,
          1
         ],
         "yaxis": "y"
        },
        {
         "alignmentgroup": "True",
         "hovertemplate": "Month=2016-08<br>date=%{x}<br>Count=%{y}<extra></extra>",
         "legendgroup": "2016-08",
         "marker": {
          "color": "#FFA15A"
         },
         "name": "2016-08",
         "offsetgroup": "2016-08",
         "orientation": "v",
         "showlegend": true,
         "textposition": "auto",
         "type": "bar",
         "x": [
          "2016-08-01T00:00:00",
          "2016-08-02T00:00:00",
          "2016-08-03T00:00:00",
          "2016-08-04T00:00:00",
          "2016-08-05T00:00:00",
          "2016-08-09T00:00:00",
          "2016-08-10T00:00:00",
          "2016-08-11T00:00:00",
          "2016-08-12T00:00:00",
          "2016-08-15T00:00:00",
          "2016-08-19T00:00:00",
          "2016-08-23T00:00:00",
          "2016-08-24T00:00:00",
          "2016-08-26T00:00:00",
          "2016-08-29T00:00:00",
          "2016-08-30T00:00:00",
          "2016-08-31T00:00:00"
         ],
         "xaxis": "x",
         "y": [
          7,
          3,
          1,
          1,
          1,
          9,
          1,
          1,
          1,
          1,
          1,
          7,
          3,
          1,
          1,
          1,
          7
         ],
         "yaxis": "y"
        },
        {
         "alignmentgroup": "True",
         "hovertemplate": "Month=2016-09<br>date=%{x}<br>Count=%{y}<extra></extra>",
         "legendgroup": "2016-09",
         "marker": {
          "color": "#19d3f3"
         },
         "name": "2016-09",
         "offsetgroup": "2016-09",
         "orientation": "v",
         "showlegend": true,
         "textposition": "auto",
         "type": "bar",
         "x": [
          "2016-09-01T00:00:00",
          "2016-09-02T00:00:00",
          "2016-09-06T00:00:00",
          "2016-09-07T00:00:00",
          "2016-09-09T00:00:00",
          "2016-09-13T00:00:00",
          "2016-09-14T00:00:00",
          "2016-09-18T00:00:00",
          "2016-09-19T00:00:00",
          "2016-09-20T00:00:00",
          "2016-09-21T00:00:00",
          "2016-09-22T00:00:00",
          "2016-09-23T00:00:00",
          "2016-09-27T00:00:00",
          "2016-09-28T00:00:00",
          "2016-09-29T00:00:00",
          "2016-09-30T00:00:00"
         ],
         "xaxis": "x",
         "y": [
          1,
          2,
          3,
          3,
          1,
          1,
          1,
          2,
          1,
          2,
          5,
          1,
          1,
          1,
          1,
          3,
          2
         ],
         "yaxis": "y"
        },
        {
         "alignmentgroup": "True",
         "hovertemplate": "Month=2016-10<br>date=%{x}<br>Count=%{y}<extra></extra>",
         "legendgroup": "2016-10",
         "marker": {
          "color": "#FF6692"
         },
         "name": "2016-10",
         "offsetgroup": "2016-10",
         "orientation": "v",
         "showlegend": true,
         "textposition": "auto",
         "type": "bar",
         "x": [
          "2016-10-05T00:00:00",
          "2016-10-06T00:00:00",
          "2016-10-07T00:00:00",
          "2016-10-13T00:00:00",
          "2016-10-14T00:00:00",
          "2016-10-16T00:00:00",
          "2016-10-17T00:00:00",
          "2016-10-18T00:00:00",
          "2016-10-21T00:00:00",
          "2016-10-24T00:00:00",
          "2016-10-26T00:00:00",
          "2016-10-29T00:00:00",
          "2016-10-31T00:00:00"
         ],
         "xaxis": "x",
         "y": [
          3,
          4,
          1,
          10,
          2,
          1,
          1,
          3,
          21,
          3,
          1,
          1,
          1
         ],
         "yaxis": "y"
        },
        {
         "alignmentgroup": "True",
         "hovertemplate": "Month=2016-11<br>date=%{x}<br>Count=%{y}<extra></extra>",
         "legendgroup": "2016-11",
         "marker": {
          "color": "#B6E880"
         },
         "name": "2016-11",
         "offsetgroup": "2016-11",
         "orientation": "v",
         "showlegend": true,
         "textposition": "auto",
         "type": "bar",
         "x": [
          "2016-11-01T00:00:00",
          "2016-11-02T00:00:00",
          "2016-11-03T00:00:00",
          "2016-11-04T00:00:00",
          "2016-11-07T00:00:00",
          "2016-11-09T00:00:00",
          "2016-11-10T00:00:00",
          "2016-11-14T00:00:00",
          "2016-11-16T00:00:00",
          "2016-11-17T00:00:00",
          "2016-11-21T00:00:00",
          "2016-11-25T00:00:00",
          "2016-11-28T00:00:00",
          "2016-11-30T00:00:00"
         ],
         "xaxis": "x",
         "y": [
          1,
          1,
          2,
          4,
          4,
          6,
          2,
          1,
          1,
          1,
          1,
          1,
          1,
          2
         ],
         "yaxis": "y"
        },
        {
         "alignmentgroup": "True",
         "hovertemplate": "Month=2016-12<br>date=%{x}<br>Count=%{y}<extra></extra>",
         "legendgroup": "2016-12",
         "marker": {
          "color": "#FF97FF"
         },
         "name": "2016-12",
         "offsetgroup": "2016-12",
         "orientation": "v",
         "showlegend": true,
         "textposition": "auto",
         "type": "bar",
         "x": [
          "2016-12-01T00:00:00",
          "2016-12-02T00:00:00",
          "2016-12-03T00:00:00",
          "2016-12-05T00:00:00",
          "2016-12-06T00:00:00",
          "2016-12-07T00:00:00",
          "2016-12-08T00:00:00",
          "2016-12-09T00:00:00",
          "2016-12-12T00:00:00",
          "2016-12-13T00:00:00",
          "2016-12-14T00:00:00",
          "2016-12-15T00:00:00",
          "2016-12-16T00:00:00",
          "2016-12-19T00:00:00",
          "2016-12-22T00:00:00",
          "2016-12-30T00:00:00"
         ],
         "xaxis": "x",
         "y": [
          1,
          3,
          1,
          2,
          3,
          2,
          4,
          1,
          1,
          2,
          1,
          2,
          1,
          1,
          1,
          1
         ],
         "yaxis": "y"
        },
        {
         "alignmentgroup": "True",
         "hovertemplate": "Month=2017-01<br>date=%{x}<br>Count=%{y}<extra></extra>",
         "legendgroup": "2017-01",
         "marker": {
          "color": "#FECB52"
         },
         "name": "2017-01",
         "offsetgroup": "2017-01",
         "orientation": "v",
         "showlegend": true,
         "textposition": "auto",
         "type": "bar",
         "x": [
          "2017-01-03T00:00:00",
          "2017-01-04T00:00:00",
          "2017-01-05T00:00:00",
          "2017-01-06T00:00:00",
          "2017-01-07T00:00:00",
          "2017-01-08T00:00:00",
          "2017-01-10T00:00:00",
          "2017-01-12T00:00:00",
          "2017-01-13T00:00:00",
          "2017-01-17T00:00:00",
          "2017-01-18T00:00:00",
          "2017-01-23T00:00:00",
          "2017-01-24T00:00:00",
          "2017-01-27T00:00:00",
          "2017-01-31T00:00:00"
         ],
         "xaxis": "x",
         "y": [
          1,
          1,
          1,
          6,
          1,
          1,
          2,
          1,
          1,
          1,
          1,
          10,
          1,
          3,
          2
         ],
         "yaxis": "y"
        },
        {
         "alignmentgroup": "True",
         "hovertemplate": "Month=2017-02<br>date=%{x}<br>Count=%{y}<extra></extra>",
         "legendgroup": "2017-02",
         "marker": {
          "color": "#636efa"
         },
         "name": "2017-02",
         "offsetgroup": "2017-02",
         "orientation": "v",
         "showlegend": true,
         "textposition": "auto",
         "type": "bar",
         "x": [
          "2017-02-02T00:00:00",
          "2017-02-03T00:00:00",
          "2017-02-06T00:00:00",
          "2017-02-09T00:00:00",
          "2017-02-10T00:00:00",
          "2017-02-13T00:00:00",
          "2017-02-14T00:00:00",
          "2017-02-15T00:00:00",
          "2017-02-16T00:00:00",
          "2017-02-17T00:00:00",
          "2017-02-21T00:00:00",
          "2017-02-24T00:00:00",
          "2017-02-28T00:00:00"
         ],
         "xaxis": "x",
         "y": [
          1,
          2,
          3,
          2,
          1,
          1,
          2,
          1,
          1,
          1,
          1,
          1,
          1
         ],
         "yaxis": "y"
        },
        {
         "alignmentgroup": "True",
         "hovertemplate": "Month=2017-03<br>date=%{x}<br>Count=%{y}<extra></extra>",
         "legendgroup": "2017-03",
         "marker": {
          "color": "#EF553B"
         },
         "name": "2017-03",
         "offsetgroup": "2017-03",
         "orientation": "v",
         "showlegend": true,
         "textposition": "auto",
         "type": "bar",
         "x": [
          "2017-03-01T00:00:00",
          "2017-03-03T00:00:00",
          "2017-03-06T00:00:00",
          "2017-03-07T00:00:00",
          "2017-03-09T00:00:00",
          "2017-03-10T00:00:00",
          "2017-03-13T00:00:00",
          "2017-03-14T00:00:00",
          "2017-03-15T00:00:00",
          "2017-03-16T00:00:00",
          "2017-03-17T00:00:00",
          "2017-03-20T00:00:00",
          "2017-03-21T00:00:00",
          "2017-03-22T00:00:00",
          "2017-03-24T00:00:00",
          "2017-03-28T00:00:00",
          "2017-03-30T00:00:00",
          "2017-03-31T00:00:00"
         ],
         "xaxis": "x",
         "y": [
          7,
          1,
          5,
          1,
          1,
          1,
          1,
          2,
          5,
          7,
          1,
          1,
          7,
          1,
          1,
          3,
          1,
          5
         ],
         "yaxis": "y"
        },
        {
         "alignmentgroup": "True",
         "hovertemplate": "Month=2017-04<br>date=%{x}<br>Count=%{y}<extra></extra>",
         "legendgroup": "2017-04",
         "marker": {
          "color": "#00cc96"
         },
         "name": "2017-04",
         "offsetgroup": "2017-04",
         "orientation": "v",
         "showlegend": true,
         "textposition": "auto",
         "type": "bar",
         "x": [
          "2017-04-04T00:00:00",
          "2017-04-05T00:00:00",
          "2017-04-06T00:00:00",
          "2017-04-07T00:00:00",
          "2017-04-12T00:00:00",
          "2017-04-13T00:00:00",
          "2017-04-14T00:00:00",
          "2017-04-17T00:00:00",
          "2017-04-18T00:00:00",
          "2017-04-19T00:00:00",
          "2017-04-21T00:00:00",
          "2017-04-22T00:00:00",
          "2017-04-24T00:00:00",
          "2017-04-25T00:00:00",
          "2017-04-26T00:00:00",
          "2017-04-27T00:00:00",
          "2017-04-28T00:00:00"
         ],
         "xaxis": "x",
         "y": [
          4,
          1,
          3,
          1,
          2,
          2,
          1,
          4,
          1,
          1,
          1,
          1,
          2,
          12,
          1,
          1,
          1
         ],
         "yaxis": "y"
        },
        {
         "alignmentgroup": "True",
         "hovertemplate": "Month=2017-05<br>date=%{x}<br>Count=%{y}<extra></extra>",
         "legendgroup": "2017-05",
         "marker": {
          "color": "#ab63fa"
         },
         "name": "2017-05",
         "offsetgroup": "2017-05",
         "orientation": "v",
         "showlegend": true,
         "textposition": "auto",
         "type": "bar",
         "x": [
          "2017-05-02T00:00:00",
          "2017-05-03T00:00:00",
          "2017-05-10T00:00:00",
          "2017-05-11T00:00:00",
          "2017-05-16T00:00:00",
          "2017-05-18T00:00:00",
          "2017-05-23T00:00:00",
          "2017-05-24T00:00:00",
          "2017-05-26T00:00:00",
          "2017-05-31T00:00:00"
         ],
         "xaxis": "x",
         "y": [
          6,
          2,
          4,
          1,
          4,
          1,
          1,
          1,
          1,
          6
         ],
         "yaxis": "y"
        },
        {
         "alignmentgroup": "True",
         "hovertemplate": "Month=2017-06<br>date=%{x}<br>Count=%{y}<extra></extra>",
         "legendgroup": "2017-06",
         "marker": {
          "color": "#FFA15A"
         },
         "name": "2017-06",
         "offsetgroup": "2017-06",
         "orientation": "v",
         "showlegend": true,
         "textposition": "auto",
         "type": "bar",
         "x": [
          "2017-06-01T00:00:00",
          "2017-06-06T00:00:00",
          "2017-06-08T00:00:00",
          "2017-06-09T00:00:00",
          "2017-06-12T00:00:00",
          "2017-06-14T00:00:00",
          "2017-06-16T00:00:00",
          "2017-06-19T00:00:00",
          "2017-06-20T00:00:00",
          "2017-06-26T00:00:00",
          "2017-06-27T00:00:00"
         ],
         "xaxis": "x",
         "y": [
          5,
          2,
          4,
          1,
          3,
          1,
          8,
          1,
          2,
          1,
          1
         ],
         "yaxis": "y"
        },
        {
         "alignmentgroup": "True",
         "hovertemplate": "Month=2017-07<br>date=%{x}<br>Count=%{y}<extra></extra>",
         "legendgroup": "2017-07",
         "marker": {
          "color": "#19d3f3"
         },
         "name": "2017-07",
         "offsetgroup": "2017-07",
         "orientation": "v",
         "showlegend": true,
         "textposition": "auto",
         "type": "bar",
         "x": [
          "2017-07-05T00:00:00",
          "2017-07-06T00:00:00",
          "2017-07-07T00:00:00",
          "2017-07-10T00:00:00",
          "2017-07-11T00:00:00",
          "2017-07-12T00:00:00",
          "2017-07-13T00:00:00",
          "2017-07-14T00:00:00",
          "2017-07-17T00:00:00",
          "2017-07-18T00:00:00",
          "2017-07-20T00:00:00",
          "2017-07-21T00:00:00",
          "2017-07-24T00:00:00",
          "2017-07-25T00:00:00",
          "2017-07-26T00:00:00",
          "2017-07-31T00:00:00"
         ],
         "xaxis": "x",
         "y": [
          1,
          5,
          2,
          1,
          2,
          1,
          1,
          1,
          1,
          1,
          1,
          1,
          1,
          9,
          11,
          1
         ],
         "yaxis": "y"
        },
        {
         "alignmentgroup": "True",
         "hovertemplate": "Month=2017-08<br>date=%{x}<br>Count=%{y}<extra></extra>",
         "legendgroup": "2017-08",
         "marker": {
          "color": "#FF6692"
         },
         "name": "2017-08",
         "offsetgroup": "2017-08",
         "orientation": "v",
         "showlegend": true,
         "textposition": "auto",
         "type": "bar",
         "x": [
          "2017-08-01T00:00:00",
          "2017-08-03T00:00:00",
          "2017-08-04T00:00:00",
          "2017-08-08T00:00:00",
          "2017-08-09T00:00:00",
          "2017-08-10T00:00:00",
          "2017-08-15T00:00:00",
          "2017-08-17T00:00:00",
          "2017-08-18T00:00:00",
          "2017-08-21T00:00:00",
          "2017-08-22T00:00:00",
          "2017-08-23T00:00:00",
          "2017-08-25T00:00:00",
          "2017-08-28T00:00:00",
          "2017-08-30T00:00:00",
          "2017-08-31T00:00:00"
         ],
         "xaxis": "x",
         "y": [
          1,
          1,
          2,
          2,
          4,
          1,
          2,
          1,
          2,
          3,
          1,
          2,
          1,
          1,
          3,
          1
         ],
         "yaxis": "y"
        },
        {
         "alignmentgroup": "True",
         "hovertemplate": "Month=2017-09<br>date=%{x}<br>Count=%{y}<extra></extra>",
         "legendgroup": "2017-09",
         "marker": {
          "color": "#B6E880"
         },
         "name": "2017-09",
         "offsetgroup": "2017-09",
         "orientation": "v",
         "showlegend": true,
         "textposition": "auto",
         "type": "bar",
         "x": [
          "2017-09-03T00:00:00",
          "2017-09-05T00:00:00",
          "2017-09-06T00:00:00",
          "2017-09-07T00:00:00",
          "2017-09-12T00:00:00",
          "2017-09-13T00:00:00",
          "2017-09-15T00:00:00",
          "2017-09-19T00:00:00",
          "2017-09-20T00:00:00",
          "2017-09-21T00:00:00",
          "2017-09-22T00:00:00",
          "2017-09-25T00:00:00",
          "2017-09-27T00:00:00",
          "2017-09-28T00:00:00",
          "2017-09-29T00:00:00"
         ],
         "xaxis": "x",
         "y": [
          1,
          3,
          7,
          2,
          1,
          2,
          1,
          1,
          3,
          4,
          1,
          1,
          2,
          1,
          1
         ],
         "yaxis": "y"
        },
        {
         "alignmentgroup": "True",
         "hovertemplate": "Month=2017-10<br>date=%{x}<br>Count=%{y}<extra></extra>",
         "legendgroup": "2017-10",
         "marker": {
          "color": "#FF97FF"
         },
         "name": "2017-10",
         "offsetgroup": "2017-10",
         "orientation": "v",
         "showlegend": true,
         "textposition": "auto",
         "type": "bar",
         "x": [
          "2017-10-03T00:00:00",
          "2017-10-05T00:00:00",
          "2017-10-09T00:00:00",
          "2017-10-10T00:00:00",
          "2017-10-11T00:00:00",
          "2017-10-13T00:00:00",
          "2017-10-18T00:00:00",
          "2017-10-19T00:00:00",
          "2017-10-23T00:00:00",
          "2017-10-24T00:00:00",
          "2017-10-25T00:00:00",
          "2017-10-26T00:00:00",
          "2017-10-31T00:00:00"
         ],
         "xaxis": "x",
         "y": [
          1,
          2,
          1,
          1,
          1,
          1,
          2,
          1,
          2,
          13,
          2,
          1,
          1
         ],
         "yaxis": "y"
        },
        {
         "alignmentgroup": "True",
         "hovertemplate": "Month=2017-11<br>date=%{x}<br>Count=%{y}<extra></extra>",
         "legendgroup": "2017-11",
         "marker": {
          "color": "#FECB52"
         },
         "name": "2017-11",
         "offsetgroup": "2017-11",
         "orientation": "v",
         "showlegend": true,
         "textposition": "auto",
         "type": "bar",
         "x": [
          "2017-11-02T00:00:00",
          "2017-11-06T00:00:00",
          "2017-11-07T00:00:00",
          "2017-11-08T00:00:00",
          "2017-11-10T00:00:00",
          "2017-11-13T00:00:00",
          "2017-11-14T00:00:00",
          "2017-11-15T00:00:00",
          "2017-11-17T00:00:00",
          "2017-11-21T00:00:00",
          "2017-11-24T00:00:00",
          "2017-11-29T00:00:00",
          "2017-11-30T00:00:00"
         ],
         "xaxis": "x",
         "y": [
          1,
          2,
          4,
          1,
          1,
          1,
          1,
          1,
          1,
          3,
          1,
          1,
          1
         ],
         "yaxis": "y"
        },
        {
         "alignmentgroup": "True",
         "hovertemplate": "Month=2017-12<br>date=%{x}<br>Count=%{y}<extra></extra>",
         "legendgroup": "2017-12",
         "marker": {
          "color": "#636efa"
         },
         "name": "2017-12",
         "offsetgroup": "2017-12",
         "orientation": "v",
         "showlegend": true,
         "textposition": "auto",
         "type": "bar",
         "x": [
          "2017-12-01T00:00:00",
          "2017-12-04T00:00:00",
          "2017-12-05T00:00:00",
          "2017-12-06T00:00:00",
          "2017-12-11T00:00:00",
          "2017-12-12T00:00:00",
          "2017-12-13T00:00:00",
          "2017-12-15T00:00:00",
          "2017-12-18T00:00:00",
          "2017-12-19T00:00:00",
          "2017-12-20T00:00:00",
          "2017-12-21T00:00:00"
         ],
         "xaxis": "x",
         "y": [
          1,
          2,
          3,
          3,
          1,
          1,
          1,
          3,
          1,
          2,
          1,
          1
         ],
         "yaxis": "y"
        },
        {
         "alignmentgroup": "True",
         "hovertemplate": "Month=2018-01<br>date=%{x}<br>Count=%{y}<extra></extra>",
         "legendgroup": "2018-01",
         "marker": {
          "color": "#EF553B"
         },
         "name": "2018-01",
         "offsetgroup": "2018-01",
         "orientation": "v",
         "showlegend": true,
         "textposition": "auto",
         "type": "bar",
         "x": [
          "2018-01-02T00:00:00",
          "2018-01-04T00:00:00",
          "2018-01-05T00:00:00",
          "2018-01-08T00:00:00",
          "2018-01-10T00:00:00",
          "2018-01-12T00:00:00",
          "2018-01-16T00:00:00",
          "2018-01-17T00:00:00",
          "2018-01-18T00:00:00",
          "2018-01-19T00:00:00",
          "2018-01-22T00:00:00",
          "2018-01-23T00:00:00",
          "2018-01-24T00:00:00",
          "2018-01-29T00:00:00",
          "2018-01-30T00:00:00",
          "2018-01-31T00:00:00"
         ],
         "xaxis": "x",
         "y": [
          1,
          3,
          2,
          1,
          1,
          1,
          3,
          2,
          1,
          2,
          2,
          1,
          1,
          4,
          19,
          1
         ],
         "yaxis": "y"
        },
        {
         "alignmentgroup": "True",
         "hovertemplate": "Month=2018-02<br>date=%{x}<br>Count=%{y}<extra></extra>",
         "legendgroup": "2018-02",
         "marker": {
          "color": "#00cc96"
         },
         "name": "2018-02",
         "offsetgroup": "2018-02",
         "orientation": "v",
         "showlegend": true,
         "textposition": "auto",
         "type": "bar",
         "x": [
          "2018-02-01T00:00:00",
          "2018-02-02T00:00:00",
          "2018-02-05T00:00:00",
          "2018-02-06T00:00:00",
          "2018-02-07T00:00:00",
          "2018-02-08T00:00:00",
          "2018-02-09T00:00:00",
          "2018-02-12T00:00:00",
          "2018-02-13T00:00:00",
          "2018-02-14T00:00:00",
          "2018-02-15T00:00:00",
          "2018-02-21T00:00:00",
          "2018-02-22T00:00:00",
          "2018-02-26T00:00:00",
          "2018-02-27T00:00:00",
          "2018-02-28T00:00:00"
         ],
         "xaxis": "x",
         "y": [
          2,
          1,
          1,
          2,
          1,
          1,
          1,
          2,
          3,
          1,
          3,
          2,
          1,
          2,
          1,
          4
         ],
         "yaxis": "y"
        },
        {
         "alignmentgroup": "True",
         "hovertemplate": "Month=2018-03<br>date=%{x}<br>Count=%{y}<extra></extra>",
         "legendgroup": "2018-03",
         "marker": {
          "color": "#ab63fa"
         },
         "name": "2018-03",
         "offsetgroup": "2018-03",
         "orientation": "v",
         "showlegend": true,
         "textposition": "auto",
         "type": "bar",
         "x": [
          "2018-03-02T00:00:00",
          "2018-03-05T00:00:00",
          "2018-03-06T00:00:00",
          "2018-03-07T00:00:00",
          "2018-03-12T00:00:00",
          "2018-03-13T00:00:00",
          "2018-03-14T00:00:00",
          "2018-03-15T00:00:00",
          "2018-03-16T00:00:00",
          "2018-03-19T00:00:00",
          "2018-03-21T00:00:00",
          "2018-03-23T00:00:00",
          "2018-03-26T00:00:00",
          "2018-03-29T00:00:00"
         ],
         "xaxis": "x",
         "y": [
          2,
          2,
          4,
          4,
          2,
          3,
          2,
          2,
          1,
          3,
          2,
          1,
          1,
          1
         ],
         "yaxis": "y"
        },
        {
         "alignmentgroup": "True",
         "hovertemplate": "Month=2018-04<br>date=%{x}<br>Count=%{y}<extra></extra>",
         "legendgroup": "2018-04",
         "marker": {
          "color": "#FFA15A"
         },
         "name": "2018-04",
         "offsetgroup": "2018-04",
         "orientation": "v",
         "showlegend": true,
         "textposition": "auto",
         "type": "bar",
         "x": [
          "2018-04-02T00:00:00",
          "2018-04-03T00:00:00",
          "2018-04-04T00:00:00",
          "2018-04-05T00:00:00",
          "2018-04-06T00:00:00",
          "2018-04-09T00:00:00",
          "2018-04-10T00:00:00",
          "2018-04-11T00:00:00",
          "2018-04-12T00:00:00",
          "2018-04-13T00:00:00",
          "2018-04-16T00:00:00",
          "2018-04-18T00:00:00",
          "2018-04-19T00:00:00",
          "2018-04-20T00:00:00",
          "2018-04-24T00:00:00",
          "2018-04-25T00:00:00",
          "2018-04-27T00:00:00",
          "2018-04-30T00:00:00"
         ],
         "xaxis": "x",
         "y": [
          1,
          1,
          2,
          2,
          1,
          1,
          3,
          1,
          4,
          1,
          1,
          1,
          1,
          1,
          1,
          2,
          1,
          27
         ],
         "yaxis": "y"
        },
        {
         "alignmentgroup": "True",
         "hovertemplate": "Month=2018-05<br>date=%{x}<br>Count=%{y}<extra></extra>",
         "legendgroup": "2018-05",
         "marker": {
          "color": "#19d3f3"
         },
         "name": "2018-05",
         "offsetgroup": "2018-05",
         "orientation": "v",
         "showlegend": true,
         "textposition": "auto",
         "type": "bar",
         "x": [
          "2018-05-01T00:00:00",
          "2018-05-02T00:00:00",
          "2018-05-03T00:00:00",
          "2018-05-04T00:00:00",
          "2018-05-07T00:00:00",
          "2018-05-08T00:00:00",
          "2018-05-09T00:00:00",
          "2018-05-11T00:00:00",
          "2018-05-14T00:00:00",
          "2018-05-15T00:00:00",
          "2018-05-17T00:00:00",
          "2018-05-21T00:00:00",
          "2018-05-23T00:00:00",
          "2018-05-24T00:00:00",
          "2018-05-25T00:00:00",
          "2018-05-28T00:00:00",
          "2018-05-30T00:00:00",
          "2018-05-31T00:00:00"
         ],
         "xaxis": "x",
         "y": [
          2,
          3,
          1,
          1,
          2,
          1,
          1,
          7,
          6,
          2,
          5,
          1,
          3,
          16,
          1,
          2,
          10,
          1
         ],
         "yaxis": "y"
        },
        {
         "alignmentgroup": "True",
         "hovertemplate": "Month=2018-06<br>date=%{x}<br>Count=%{y}<extra></extra>",
         "legendgroup": "2018-06",
         "marker": {
          "color": "#FF6692"
         },
         "name": "2018-06",
         "offsetgroup": "2018-06",
         "orientation": "v",
         "showlegend": true,
         "textposition": "auto",
         "type": "bar",
         "x": [
          "2018-06-04T00:00:00",
          "2018-06-05T00:00:00",
          "2018-06-06T00:00:00",
          "2018-06-07T00:00:00",
          "2018-06-08T00:00:00",
          "2018-06-11T00:00:00",
          "2018-06-12T00:00:00",
          "2018-06-15T00:00:00",
          "2018-06-18T00:00:00",
          "2018-06-19T00:00:00",
          "2018-06-20T00:00:00",
          "2018-06-22T00:00:00",
          "2018-06-26T00:00:00",
          "2018-06-27T00:00:00",
          "2018-06-29T00:00:00"
         ],
         "xaxis": "x",
         "y": [
          5,
          1,
          1,
          11,
          1,
          2,
          3,
          2,
          2,
          1,
          1,
          1,
          2,
          1,
          1
         ],
         "yaxis": "y"
        },
        {
         "alignmentgroup": "True",
         "hovertemplate": "Month=2018-07<br>date=%{x}<br>Count=%{y}<extra></extra>",
         "legendgroup": "2018-07",
         "marker": {
          "color": "#B6E880"
         },
         "name": "2018-07",
         "offsetgroup": "2018-07",
         "orientation": "v",
         "showlegend": true,
         "textposition": "auto",
         "type": "bar",
         "x": [
          "2018-07-02T00:00:00",
          "2018-07-05T00:00:00",
          "2018-07-06T00:00:00",
          "2018-07-10T00:00:00",
          "2018-07-11T00:00:00",
          "2018-07-12T00:00:00",
          "2018-07-13T00:00:00",
          "2018-07-16T00:00:00",
          "2018-07-17T00:00:00",
          "2018-07-18T00:00:00",
          "2018-07-19T00:00:00",
          "2018-07-24T00:00:00",
          "2018-07-25T00:00:00",
          "2018-07-26T00:00:00",
          "2018-07-27T00:00:00",
          "2018-07-30T00:00:00",
          "2018-07-31T00:00:00"
         ],
         "xaxis": "x",
         "y": [
          1,
          1,
          1,
          1,
          1,
          8,
          5,
          1,
          5,
          2,
          1,
          1,
          1,
          14,
          1,
          1,
          1
         ],
         "yaxis": "y"
        },
        {
         "alignmentgroup": "True",
         "hovertemplate": "Month=2018-08<br>date=%{x}<br>Count=%{y}<extra></extra>",
         "legendgroup": "2018-08",
         "marker": {
          "color": "#FF97FF"
         },
         "name": "2018-08",
         "offsetgroup": "2018-08",
         "orientation": "v",
         "showlegend": true,
         "textposition": "auto",
         "type": "bar",
         "x": [
          "2018-08-02T00:00:00",
          "2018-08-03T00:00:00",
          "2018-08-06T00:00:00",
          "2018-08-08T00:00:00",
          "2018-08-09T00:00:00",
          "2018-08-10T00:00:00",
          "2018-08-13T00:00:00",
          "2018-08-14T00:00:00",
          "2018-08-15T00:00:00",
          "2018-08-16T00:00:00",
          "2018-08-17T00:00:00",
          "2018-08-20T00:00:00",
          "2018-08-21T00:00:00",
          "2018-08-22T00:00:00",
          "2018-08-23T00:00:00",
          "2018-08-24T00:00:00",
          "2018-08-27T00:00:00",
          "2018-08-28T00:00:00",
          "2018-08-31T00:00:00"
         ],
         "xaxis": "x",
         "y": [
          3,
          2,
          1,
          2,
          3,
          1,
          5,
          4,
          3,
          2,
          1,
          1,
          1,
          3,
          13,
          1,
          1,
          1,
          1
         ],
         "yaxis": "y"
        },
        {
         "alignmentgroup": "True",
         "hovertemplate": "Month=2018-09<br>date=%{x}<br>Count=%{y}<extra></extra>",
         "legendgroup": "2018-09",
         "marker": {
          "color": "#FECB52"
         },
         "name": "2018-09",
         "offsetgroup": "2018-09",
         "orientation": "v",
         "showlegend": true,
         "textposition": "auto",
         "type": "bar",
         "x": [
          "2018-09-05T00:00:00",
          "2018-09-11T00:00:00",
          "2018-09-12T00:00:00",
          "2018-09-13T00:00:00",
          "2018-09-14T00:00:00",
          "2018-09-17T00:00:00",
          "2018-09-18T00:00:00",
          "2018-09-19T00:00:00",
          "2018-09-20T00:00:00",
          "2018-09-21T00:00:00",
          "2018-09-24T00:00:00",
          "2018-09-25T00:00:00",
          "2018-09-26T00:00:00",
          "2018-09-27T00:00:00",
          "2018-09-28T00:00:00"
         ],
         "xaxis": "x",
         "y": [
          1,
          4,
          6,
          3,
          2,
          1,
          2,
          8,
          4,
          9,
          4,
          1,
          1,
          3,
          1
         ],
         "yaxis": "y"
        },
        {
         "alignmentgroup": "True",
         "hovertemplate": "Month=2018-10<br>date=%{x}<br>Count=%{y}<extra></extra>",
         "legendgroup": "2018-10",
         "marker": {
          "color": "#636efa"
         },
         "name": "2018-10",
         "offsetgroup": "2018-10",
         "orientation": "v",
         "showlegend": true,
         "textposition": "auto",
         "type": "bar",
         "x": [
          "2018-10-01T00:00:00",
          "2018-10-02T00:00:00",
          "2018-10-03T00:00:00",
          "2018-10-04T00:00:00",
          "2018-10-08T00:00:00",
          "2018-10-09T00:00:00",
          "2018-10-10T00:00:00",
          "2018-10-11T00:00:00",
          "2018-10-15T00:00:00",
          "2018-10-17T00:00:00",
          "2018-10-18T00:00:00",
          "2018-10-19T00:00:00",
          "2018-10-22T00:00:00",
          "2018-10-23T00:00:00",
          "2018-10-24T00:00:00",
          "2018-10-25T00:00:00",
          "2018-10-26T00:00:00",
          "2018-10-29T00:00:00",
          "2018-10-30T00:00:00",
          "2018-10-31T00:00:00"
         ],
         "xaxis": "x",
         "y": [
          2,
          1,
          2,
          3,
          1,
          3,
          2,
          2,
          4,
          1,
          1,
          3,
          3,
          31,
          1,
          1,
          1,
          1,
          1,
          1
         ],
         "yaxis": "y"
        },
        {
         "alignmentgroup": "True",
         "hovertemplate": "Month=2018-11<br>date=%{x}<br>Count=%{y}<extra></extra>",
         "legendgroup": "2018-11",
         "marker": {
          "color": "#EF553B"
         },
         "name": "2018-11",
         "offsetgroup": "2018-11",
         "orientation": "v",
         "showlegend": true,
         "textposition": "auto",
         "type": "bar",
         "x": [
          "2018-11-02T00:00:00",
          "2018-11-05T00:00:00",
          "2018-11-06T00:00:00",
          "2018-11-08T00:00:00",
          "2018-11-09T00:00:00",
          "2018-11-14T00:00:00",
          "2018-11-15T00:00:00",
          "2018-11-16T00:00:00",
          "2018-11-19T00:00:00",
          "2018-11-21T00:00:00",
          "2018-11-26T00:00:00",
          "2018-11-27T00:00:00",
          "2018-11-28T00:00:00",
          "2018-11-29T00:00:00",
          "2018-11-30T00:00:00"
         ],
         "xaxis": "x",
         "y": [
          1,
          2,
          2,
          1,
          1,
          1,
          1,
          3,
          1,
          2,
          1,
          3,
          5,
          5,
          3
         ],
         "yaxis": "y"
        },
        {
         "alignmentgroup": "True",
         "hovertemplate": "Month=2018-12<br>date=%{x}<br>Count=%{y}<extra></extra>",
         "legendgroup": "2018-12",
         "marker": {
          "color": "#00cc96"
         },
         "name": "2018-12",
         "offsetgroup": "2018-12",
         "orientation": "v",
         "showlegend": true,
         "textposition": "auto",
         "type": "bar",
         "x": [
          "2018-12-03T00:00:00",
          "2018-12-04T00:00:00",
          "2018-12-06T00:00:00",
          "2018-12-11T00:00:00",
          "2018-12-12T00:00:00",
          "2018-12-13T00:00:00",
          "2018-12-14T00:00:00",
          "2018-12-17T00:00:00",
          "2018-12-19T00:00:00",
          "2018-12-20T00:00:00",
          "2018-12-21T00:00:00",
          "2018-12-26T00:00:00"
         ],
         "xaxis": "x",
         "y": [
          1,
          2,
          2,
          5,
          1,
          2,
          1,
          1,
          1,
          1,
          1,
          1
         ],
         "yaxis": "y"
        },
        {
         "alignmentgroup": "True",
         "hovertemplate": "Month=2019-01<br>date=%{x}<br>Count=%{y}<extra></extra>",
         "legendgroup": "2019-01",
         "marker": {
          "color": "#ab63fa"
         },
         "name": "2019-01",
         "offsetgroup": "2019-01",
         "orientation": "v",
         "showlegend": true,
         "textposition": "auto",
         "type": "bar",
         "x": [
          "2019-01-03T00:00:00",
          "2019-01-07T00:00:00",
          "2019-01-08T00:00:00",
          "2019-01-10T00:00:00",
          "2019-01-11T00:00:00",
          "2019-01-14T00:00:00",
          "2019-01-15T00:00:00",
          "2019-01-16T00:00:00",
          "2019-01-17T00:00:00",
          "2019-01-18T00:00:00",
          "2019-01-22T00:00:00",
          "2019-01-23T00:00:00",
          "2019-01-24T00:00:00",
          "2019-01-25T00:00:00",
          "2019-01-28T00:00:00",
          "2019-01-29T00:00:00",
          "2019-01-30T00:00:00",
          "2019-01-31T00:00:00"
         ],
         "xaxis": "x",
         "y": [
          1,
          3,
          2,
          1,
          3,
          2,
          6,
          1,
          3,
          1,
          1,
          2,
          3,
          2,
          1,
          1,
          43,
          1
         ],
         "yaxis": "y"
        },
        {
         "alignmentgroup": "True",
         "hovertemplate": "Month=2019-02<br>date=%{x}<br>Count=%{y}<extra></extra>",
         "legendgroup": "2019-02",
         "marker": {
          "color": "#FFA15A"
         },
         "name": "2019-02",
         "offsetgroup": "2019-02",
         "orientation": "v",
         "showlegend": true,
         "textposition": "auto",
         "type": "bar",
         "x": [
          "2019-02-01T00:00:00",
          "2019-02-05T00:00:00",
          "2019-02-06T00:00:00",
          "2019-02-07T00:00:00",
          "2019-02-15T00:00:00",
          "2019-02-19T00:00:00",
          "2019-02-20T00:00:00",
          "2019-02-21T00:00:00",
          "2019-02-24T00:00:00",
          "2019-02-25T00:00:00",
          "2019-02-26T00:00:00",
          "2019-02-28T00:00:00"
         ],
         "xaxis": "x",
         "y": [
          3,
          1,
          2,
          2,
          1,
          2,
          2,
          3,
          1,
          1,
          1,
          1
         ],
         "yaxis": "y"
        },
        {
         "alignmentgroup": "True",
         "hovertemplate": "Month=2019-03<br>date=%{x}<br>Count=%{y}<extra></extra>",
         "legendgroup": "2019-03",
         "marker": {
          "color": "#19d3f3"
         },
         "name": "2019-03",
         "offsetgroup": "2019-03",
         "orientation": "v",
         "showlegend": true,
         "textposition": "auto",
         "type": "bar",
         "x": [
          "2019-03-06T00:00:00",
          "2019-03-11T00:00:00",
          "2019-03-25T00:00:00",
          "2019-03-26T00:00:00",
          "2019-03-27T00:00:00"
         ],
         "xaxis": "x",
         "y": [
          1,
          4,
          5,
          1,
          2
         ],
         "yaxis": "y"
        },
        {
         "alignmentgroup": "True",
         "hovertemplate": "Month=2019-04<br>date=%{x}<br>Count=%{y}<extra></extra>",
         "legendgroup": "2019-04",
         "marker": {
          "color": "#FF6692"
         },
         "name": "2019-04",
         "offsetgroup": "2019-04",
         "orientation": "v",
         "showlegend": true,
         "textposition": "auto",
         "type": "bar",
         "x": [
          "2019-04-01T00:00:00",
          "2019-04-04T00:00:00",
          "2019-04-05T00:00:00",
          "2019-04-08T00:00:00",
          "2019-04-24T00:00:00",
          "2019-04-27T00:00:00",
          "2019-04-30T00:00:00"
         ],
         "xaxis": "x",
         "y": [
          5,
          1,
          5,
          1,
          1,
          1,
          23
         ],
         "yaxis": "y"
        },
        {
         "alignmentgroup": "True",
         "hovertemplate": "Month=2019-05<br>date=%{x}<br>Count=%{y}<extra></extra>",
         "legendgroup": "2019-05",
         "marker": {
          "color": "#B6E880"
         },
         "name": "2019-05",
         "offsetgroup": "2019-05",
         "orientation": "v",
         "showlegend": true,
         "textposition": "auto",
         "type": "bar",
         "x": [
          "2019-05-06T00:00:00",
          "2019-05-07T00:00:00",
          "2019-05-08T00:00:00",
          "2019-05-09T00:00:00",
          "2019-05-13T00:00:00",
          "2019-05-15T00:00:00",
          "2019-05-20T00:00:00",
          "2019-05-21T00:00:00",
          "2019-05-23T00:00:00",
          "2019-05-28T00:00:00",
          "2019-05-31T00:00:00"
         ],
         "xaxis": "x",
         "y": [
          3,
          1,
          3,
          3,
          3,
          4,
          3,
          3,
          4,
          2,
          1
         ],
         "yaxis": "y"
        },
        {
         "alignmentgroup": "True",
         "hovertemplate": "Month=2019-06<br>date=%{x}<br>Count=%{y}<extra></extra>",
         "legendgroup": "2019-06",
         "marker": {
          "color": "#FF97FF"
         },
         "name": "2019-06",
         "offsetgroup": "2019-06",
         "orientation": "v",
         "showlegend": true,
         "textposition": "auto",
         "type": "bar",
         "x": [
          "2019-06-06T00:00:00",
          "2019-06-10T00:00:00",
          "2019-06-11T00:00:00",
          "2019-06-19T00:00:00",
          "2019-06-20T00:00:00",
          "2019-06-23T00:00:00",
          "2019-06-25T00:00:00"
         ],
         "xaxis": "x",
         "y": [
          1,
          1,
          2,
          2,
          1,
          2,
          1
         ],
         "yaxis": "y"
        },
        {
         "alignmentgroup": "True",
         "hovertemplate": "Month=2019-07<br>date=%{x}<br>Count=%{y}<extra></extra>",
         "legendgroup": "2019-07",
         "marker": {
          "color": "#FECB52"
         },
         "name": "2019-07",
         "offsetgroup": "2019-07",
         "orientation": "v",
         "showlegend": true,
         "textposition": "auto",
         "type": "bar",
         "x": [
          "2019-07-01T00:00:00",
          "2019-07-04T00:00:00",
          "2019-07-08T00:00:00",
          "2019-07-16T00:00:00",
          "2019-07-18T00:00:00",
          "2019-07-23T00:00:00",
          "2019-07-25T00:00:00",
          "2019-07-26T00:00:00",
          "2019-07-29T00:00:00",
          "2019-07-30T00:00:00",
          "2019-07-31T00:00:00"
         ],
         "xaxis": "x",
         "y": [
          1,
          1,
          1,
          2,
          3,
          1,
          1,
          17,
          2,
          1,
          1
         ],
         "yaxis": "y"
        },
        {
         "alignmentgroup": "True",
         "hovertemplate": "Month=2019-08<br>date=%{x}<br>Count=%{y}<extra></extra>",
         "legendgroup": "2019-08",
         "marker": {
          "color": "#636efa"
         },
         "name": "2019-08",
         "offsetgroup": "2019-08",
         "orientation": "v",
         "showlegend": true,
         "textposition": "auto",
         "type": "bar",
         "x": [
          "2019-08-06T00:00:00",
          "2019-08-07T00:00:00",
          "2019-08-12T00:00:00",
          "2019-08-21T00:00:00",
          "2019-08-28T00:00:00",
          "2019-08-30T00:00:00"
         ],
         "xaxis": "x",
         "y": [
          1,
          1,
          1,
          2,
          1,
          1
         ],
         "yaxis": "y"
        },
        {
         "alignmentgroup": "True",
         "hovertemplate": "Month=2019-09<br>date=%{x}<br>Count=%{y}<extra></extra>",
         "legendgroup": "2019-09",
         "marker": {
          "color": "#EF553B"
         },
         "name": "2019-09",
         "offsetgroup": "2019-09",
         "orientation": "v",
         "showlegend": true,
         "textposition": "auto",
         "type": "bar",
         "x": [
          "2019-09-05T00:00:00",
          "2019-09-10T00:00:00",
          "2019-09-13T00:00:00",
          "2019-09-15T00:00:00",
          "2019-09-18T00:00:00",
          "2019-09-19T00:00:00",
          "2019-09-24T00:00:00",
          "2019-09-25T00:00:00"
         ],
         "xaxis": "x",
         "y": [
          1,
          4,
          1,
          1,
          3,
          2,
          3,
          2
         ],
         "yaxis": "y"
        },
        {
         "alignmentgroup": "True",
         "hovertemplate": "Month=2019-10<br>date=%{x}<br>Count=%{y}<extra></extra>",
         "legendgroup": "2019-10",
         "marker": {
          "color": "#00cc96"
         },
         "name": "2019-10",
         "offsetgroup": "2019-10",
         "orientation": "v",
         "showlegend": true,
         "textposition": "auto",
         "type": "bar",
         "x": [
          "2019-10-01T00:00:00",
          "2019-10-04T00:00:00",
          "2019-10-08T00:00:00",
          "2019-10-21T00:00:00",
          "2019-10-22T00:00:00",
          "2019-10-23T00:00:00"
         ],
         "xaxis": "x",
         "y": [
          2,
          1,
          1,
          1,
          20,
          1
         ],
         "yaxis": "y"
        },
        {
         "alignmentgroup": "True",
         "hovertemplate": "Month=2019-11<br>date=%{x}<br>Count=%{y}<extra></extra>",
         "legendgroup": "2019-11",
         "marker": {
          "color": "#ab63fa"
         },
         "name": "2019-11",
         "offsetgroup": "2019-11",
         "orientation": "v",
         "showlegend": true,
         "textposition": "auto",
         "type": "bar",
         "x": [
          "2019-11-03T00:00:00",
          "2019-11-04T00:00:00",
          "2019-11-05T00:00:00",
          "2019-11-06T00:00:00",
          "2019-11-07T00:00:00",
          "2019-11-08T00:00:00",
          "2019-11-12T00:00:00",
          "2019-11-13T00:00:00",
          "2019-11-21T00:00:00",
          "2019-11-26T00:00:00",
          "2019-11-29T00:00:00"
         ],
         "xaxis": "x",
         "y": [
          11,
          26,
          13,
          2,
          4,
          1,
          2,
          2,
          2,
          2,
          1
         ],
         "yaxis": "y"
        },
        {
         "alignmentgroup": "True",
         "hovertemplate": "Month=2019-12<br>date=%{x}<br>Count=%{y}<extra></extra>",
         "legendgroup": "2019-12",
         "marker": {
          "color": "#FFA15A"
         },
         "name": "2019-12",
         "offsetgroup": "2019-12",
         "orientation": "v",
         "showlegend": true,
         "textposition": "auto",
         "type": "bar",
         "x": [
          "2019-12-03T00:00:00",
          "2019-12-04T00:00:00",
          "2019-12-05T00:00:00",
          "2019-12-09T00:00:00",
          "2019-12-10T00:00:00",
          "2019-12-12T00:00:00",
          "2019-12-18T00:00:00",
          "2019-12-27T00:00:00"
         ],
         "xaxis": "x",
         "y": [
          2,
          2,
          1,
          1,
          5,
          6,
          1,
          1
         ],
         "yaxis": "y"
        },
        {
         "alignmentgroup": "True",
         "hovertemplate": "Month=2020-01<br>date=%{x}<br>Count=%{y}<extra></extra>",
         "legendgroup": "2020-01",
         "marker": {
          "color": "#19d3f3"
         },
         "name": "2020-01",
         "offsetgroup": "2020-01",
         "orientation": "v",
         "showlegend": true,
         "textposition": "auto",
         "type": "bar",
         "x": [
          "2020-01-06T00:00:00",
          "2020-01-07T00:00:00",
          "2020-01-08T00:00:00",
          "2020-01-13T00:00:00",
          "2020-01-24T00:00:00",
          "2020-01-28T00:00:00",
          "2020-01-29T00:00:00",
          "2020-01-30T00:00:00"
         ],
         "xaxis": "x",
         "y": [
          1,
          4,
          3,
          1,
          11,
          1,
          33,
          2
         ],
         "yaxis": "y"
        },
        {
         "alignmentgroup": "True",
         "hovertemplate": "Month=2020-02<br>date=%{x}<br>Count=%{y}<extra></extra>",
         "legendgroup": "2020-02",
         "marker": {
          "color": "#FF6692"
         },
         "name": "2020-02",
         "offsetgroup": "2020-02",
         "orientation": "v",
         "showlegend": true,
         "textposition": "auto",
         "type": "bar",
         "x": [
          "2020-02-06T00:00:00",
          "2020-02-07T00:00:00",
          "2020-02-12T00:00:00",
          "2020-02-28T00:00:00"
         ],
         "xaxis": "x",
         "y": [
          1,
          1,
          1,
          1
         ],
         "yaxis": "y"
        },
        {
         "alignmentgroup": "True",
         "hovertemplate": "Month=2020-03<br>date=%{x}<br>Count=%{y}<extra></extra>",
         "legendgroup": "2020-03",
         "marker": {
          "color": "#B6E880"
         },
         "name": "2020-03",
         "offsetgroup": "2020-03",
         "orientation": "v",
         "showlegend": true,
         "textposition": "auto",
         "type": "bar",
         "x": [
          "2020-03-03T00:00:00",
          "2020-03-05T00:00:00",
          "2020-03-06T00:00:00",
          "2020-03-09T00:00:00",
          "2020-03-10T00:00:00",
          "2020-03-12T00:00:00",
          "2020-03-16T00:00:00",
          "2020-03-17T00:00:00",
          "2020-03-20T00:00:00",
          "2020-03-23T00:00:00",
          "2020-03-24T00:00:00",
          "2020-03-25T00:00:00",
          "2020-03-26T00:00:00",
          "2020-03-28T00:00:00",
          "2020-03-30T00:00:00",
          "2020-03-31T00:00:00"
         ],
         "xaxis": "x",
         "y": [
          3,
          1,
          5,
          1,
          3,
          1,
          4,
          4,
          4,
          1,
          1,
          7,
          6,
          2,
          1,
          1
         ],
         "yaxis": "y"
        },
        {
         "alignmentgroup": "True",
         "hovertemplate": "Month=2020-04<br>date=%{x}<br>Count=%{y}<extra></extra>",
         "legendgroup": "2020-04",
         "marker": {
          "color": "#FF97FF"
         },
         "name": "2020-04",
         "offsetgroup": "2020-04",
         "orientation": "v",
         "showlegend": true,
         "textposition": "auto",
         "type": "bar",
         "x": [
          "2020-04-06T00:00:00",
          "2020-04-08T00:00:00",
          "2020-04-09T00:00:00",
          "2020-04-14T00:00:00",
          "2020-04-20T00:00:00",
          "2020-04-21T00:00:00",
          "2020-04-22T00:00:00",
          "2020-04-28T00:00:00",
          "2020-04-29T00:00:00",
          "2020-04-30T00:00:00"
         ],
         "xaxis": "x",
         "y": [
          2,
          20,
          1,
          1,
          1,
          1,
          4,
          1,
          2,
          16
         ],
         "yaxis": "y"
        },
        {
         "alignmentgroup": "True",
         "hovertemplate": "Month=2020-05<br>date=%{x}<br>Count=%{y}<extra></extra>",
         "legendgroup": "2020-05",
         "marker": {
          "color": "#FECB52"
         },
         "name": "2020-05",
         "offsetgroup": "2020-05",
         "orientation": "v",
         "showlegend": true,
         "textposition": "auto",
         "type": "bar",
         "x": [
          "2020-05-01T00:00:00",
          "2020-05-07T00:00:00",
          "2020-05-09T00:00:00",
          "2020-05-13T00:00:00",
          "2020-05-14T00:00:00",
          "2020-05-19T00:00:00",
          "2020-05-20T00:00:00",
          "2020-05-22T00:00:00",
          "2020-05-27T00:00:00",
          "2020-05-29T00:00:00"
         ],
         "xaxis": "x",
         "y": [
          2,
          3,
          1,
          9,
          2,
          3,
          3,
          1,
          2,
          1
         ],
         "yaxis": "y"
        },
        {
         "alignmentgroup": "True",
         "hovertemplate": "Month=2020-06<br>date=%{x}<br>Count=%{y}<extra></extra>",
         "legendgroup": "2020-06",
         "marker": {
          "color": "#636efa"
         },
         "name": "2020-06",
         "offsetgroup": "2020-06",
         "orientation": "v",
         "showlegend": true,
         "textposition": "auto",
         "type": "bar",
         "x": [
          "2020-06-04T00:00:00",
          "2020-06-09T00:00:00",
          "2020-06-15T00:00:00",
          "2020-06-16T00:00:00",
          "2020-06-17T00:00:00",
          "2020-06-18T00:00:00",
          "2020-06-19T00:00:00",
          "2020-06-30T00:00:00"
         ],
         "xaxis": "x",
         "y": [
          2,
          3,
          1,
          13,
          4,
          2,
          1,
          4
         ],
         "yaxis": "y"
        },
        {
         "alignmentgroup": "True",
         "hovertemplate": "Month=2020-07<br>date=%{x}<br>Count=%{y}<extra></extra>",
         "legendgroup": "2020-07",
         "marker": {
          "color": "#EF553B"
         },
         "name": "2020-07",
         "offsetgroup": "2020-07",
         "orientation": "v",
         "showlegend": true,
         "textposition": "auto",
         "type": "bar",
         "x": [
          "2020-07-01T00:00:00",
          "2020-07-06T00:00:00",
          "2020-07-15T00:00:00",
          "2020-07-21T00:00:00",
          "2020-07-22T00:00:00",
          "2020-07-24T00:00:00",
          "2020-07-27T00:00:00",
          "2020-07-28T00:00:00",
          "2020-07-29T00:00:00",
          "2020-07-30T00:00:00"
         ],
         "xaxis": "x",
         "y": [
          3,
          2,
          1,
          1,
          2,
          4,
          1,
          31,
          4,
          4
         ],
         "yaxis": "y"
        },
        {
         "alignmentgroup": "True",
         "hovertemplate": "Month=2020-08<br>date=%{x}<br>Count=%{y}<extra></extra>",
         "legendgroup": "2020-08",
         "marker": {
          "color": "#00cc96"
         },
         "name": "2020-08",
         "offsetgroup": "2020-08",
         "orientation": "v",
         "showlegend": true,
         "textposition": "auto",
         "type": "bar",
         "x": [
          "2020-08-05T00:00:00",
          "2020-08-06T00:00:00",
          "2020-08-10T00:00:00",
          "2020-08-13T00:00:00",
          "2020-08-14T00:00:00",
          "2020-08-15T00:00:00",
          "2020-08-16T00:00:00",
          "2020-08-25T00:00:00",
          "2020-08-31T00:00:00"
         ],
         "xaxis": "x",
         "y": [
          1,
          1,
          7,
          4,
          1,
          1,
          3,
          8,
          5
         ],
         "yaxis": "y"
        },
        {
         "alignmentgroup": "True",
         "hovertemplate": "Month=2020-09<br>date=%{x}<br>Count=%{y}<extra></extra>",
         "legendgroup": "2020-09",
         "marker": {
          "color": "#ab63fa"
         },
         "name": "2020-09",
         "offsetgroup": "2020-09",
         "orientation": "v",
         "showlegend": true,
         "textposition": "auto",
         "type": "bar",
         "x": [
          "2020-09-01T00:00:00",
          "2020-09-03T00:00:00",
          "2020-09-04T00:00:00",
          "2020-09-09T00:00:00",
          "2020-09-18T00:00:00",
          "2020-09-21T00:00:00",
          "2020-09-30T00:00:00"
         ],
         "xaxis": "x",
         "y": [
          3,
          1,
          2,
          4,
          5,
          1,
          3
         ],
         "yaxis": "y"
        },
        {
         "alignmentgroup": "True",
         "hovertemplate": "Month=2020-10<br>date=%{x}<br>Count=%{y}<extra></extra>",
         "legendgroup": "2020-10",
         "marker": {
          "color": "#FFA15A"
         },
         "name": "2020-10",
         "offsetgroup": "2020-10",
         "orientation": "v",
         "showlegend": true,
         "textposition": "auto",
         "type": "bar",
         "x": [
          "2020-10-05T00:00:00",
          "2020-10-06T00:00:00",
          "2020-10-07T00:00:00",
          "2020-10-08T00:00:00",
          "2020-10-15T00:00:00",
          "2020-10-23T00:00:00",
          "2020-10-24T00:00:00",
          "2020-10-29T00:00:00",
          "2020-10-30T00:00:00"
         ],
         "xaxis": "x",
         "y": [
          1,
          3,
          3,
          15,
          5,
          1,
          1,
          4,
          3
         ],
         "yaxis": "y"
        },
        {
         "alignmentgroup": "True",
         "hovertemplate": "Month=2020-11<br>date=%{x}<br>Count=%{y}<extra></extra>",
         "legendgroup": "2020-11",
         "marker": {
          "color": "#19d3f3"
         },
         "name": "2020-11",
         "offsetgroup": "2020-11",
         "orientation": "v",
         "showlegend": true,
         "textposition": "auto",
         "type": "bar",
         "x": [
          "2020-11-02T00:00:00",
          "2020-11-06T00:00:00",
          "2020-11-09T00:00:00",
          "2020-11-13T00:00:00",
          "2020-11-16T00:00:00"
         ],
         "xaxis": "x",
         "y": [
          1,
          3,
          42,
          1,
          3
         ],
         "yaxis": "y"
        },
        {
         "alignmentgroup": "True",
         "hovertemplate": "Month=2020-12<br>date=%{x}<br>Count=%{y}<extra></extra>",
         "legendgroup": "2020-12",
         "marker": {
          "color": "#FF6692"
         },
         "name": "2020-12",
         "offsetgroup": "2020-12",
         "orientation": "v",
         "showlegend": true,
         "textposition": "auto",
         "type": "bar",
         "x": [
          "2020-12-02T00:00:00",
          "2020-12-04T00:00:00",
          "2020-12-07T00:00:00",
          "2020-12-08T00:00:00",
          "2020-12-14T00:00:00",
          "2020-12-17T00:00:00",
          "2020-12-18T00:00:00",
          "2020-12-22T00:00:00"
         ],
         "xaxis": "x",
         "y": [
          1,
          8,
          1,
          1,
          1,
          6,
          1,
          2
         ],
         "yaxis": "y"
        },
        {
         "alignmentgroup": "True",
         "hovertemplate": "Month=2021-01<br>date=%{x}<br>Count=%{y}<extra></extra>",
         "legendgroup": "2021-01",
         "marker": {
          "color": "#B6E880"
         },
         "name": "2021-01",
         "offsetgroup": "2021-01",
         "orientation": "v",
         "showlegend": true,
         "textposition": "auto",
         "type": "bar",
         "x": [
          "2021-01-04T00:00:00",
          "2021-01-06T00:00:00",
          "2021-01-07T00:00:00",
          "2021-01-13T00:00:00",
          "2021-01-21T00:00:00",
          "2021-01-22T00:00:00",
          "2021-01-26T00:00:00",
          "2021-01-27T00:00:00",
          "2021-01-28T00:00:00"
         ],
         "xaxis": "x",
         "y": [
          1,
          1,
          1,
          2,
          1,
          1,
          1,
          2,
          29
         ],
         "yaxis": "y"
        },
        {
         "alignmentgroup": "True",
         "hovertemplate": "Month=2021-02<br>date=%{x}<br>Count=%{y}<extra></extra>",
         "legendgroup": "2021-02",
         "marker": {
          "color": "#FF97FF"
         },
         "name": "2021-02",
         "offsetgroup": "2021-02",
         "orientation": "v",
         "showlegend": true,
         "textposition": "auto",
         "type": "bar",
         "x": [
          "2021-02-02T00:00:00",
          "2021-02-04T00:00:00",
          "2021-02-05T00:00:00",
          "2021-02-18T00:00:00",
          "2021-02-27T00:00:00"
         ],
         "xaxis": "x",
         "y": [
          3,
          1,
          1,
          4,
          3
         ],
         "yaxis": "y"
        },
        {
         "alignmentgroup": "True",
         "hovertemplate": "Month=2021-03<br>date=%{x}<br>Count=%{y}<extra></extra>",
         "legendgroup": "2021-03",
         "marker": {
          "color": "#FECB52"
         },
         "name": "2021-03",
         "offsetgroup": "2021-03",
         "orientation": "v",
         "showlegend": true,
         "textposition": "auto",
         "type": "bar",
         "x": [
          "2021-03-01T00:00:00",
          "2021-03-04T00:00:00",
          "2021-03-17T00:00:00",
          "2021-03-18T00:00:00",
          "2021-03-30T00:00:00"
         ],
         "xaxis": "x",
         "y": [
          2,
          1,
          2,
          1,
          1
         ],
         "yaxis": "y"
        },
        {
         "alignmentgroup": "True",
         "hovertemplate": "Month=2021-04<br>date=%{x}<br>Count=%{y}<extra></extra>",
         "legendgroup": "2021-04",
         "marker": {
          "color": "#636efa"
         },
         "name": "2021-04",
         "offsetgroup": "2021-04",
         "orientation": "v",
         "showlegend": true,
         "textposition": "auto",
         "type": "bar",
         "x": [
          "2021-04-06T00:00:00",
          "2021-04-14T00:00:00",
          "2021-04-21T00:00:00",
          "2021-04-23T00:00:00",
          "2021-04-26T00:00:00",
          "2021-04-29T00:00:00",
          "2021-04-30T00:00:00"
         ],
         "xaxis": "x",
         "y": [
          1,
          6,
          2,
          1,
          6,
          26,
          2
         ],
         "yaxis": "y"
        },
        {
         "alignmentgroup": "True",
         "hovertemplate": "Month=2021-05<br>date=%{x}<br>Count=%{y}<extra></extra>",
         "legendgroup": "2021-05",
         "marker": {
          "color": "#EF553B"
         },
         "name": "2021-05",
         "offsetgroup": "2021-05",
         "orientation": "v",
         "showlegend": true,
         "textposition": "auto",
         "type": "bar",
         "x": [
          "2021-05-05T00:00:00",
          "2021-05-07T00:00:00",
          "2021-05-12T00:00:00",
          "2021-05-13T00:00:00",
          "2021-05-18T00:00:00",
          "2021-05-19T00:00:00",
          "2021-05-20T00:00:00",
          "2021-05-21T00:00:00"
         ],
         "xaxis": "x",
         "y": [
          1,
          1,
          1,
          2,
          1,
          1,
          25,
          6
         ],
         "yaxis": "y"
        },
        {
         "alignmentgroup": "True",
         "hovertemplate": "Month=2021-06<br>date=%{x}<br>Count=%{y}<extra></extra>",
         "legendgroup": "2021-06",
         "marker": {
          "color": "#00cc96"
         },
         "name": "2021-06",
         "offsetgroup": "2021-06",
         "orientation": "v",
         "showlegend": true,
         "textposition": "auto",
         "type": "bar",
         "x": [
          "2021-06-03T00:00:00",
          "2021-06-04T00:00:00",
          "2021-06-10T00:00:00",
          "2021-06-11T00:00:00",
          "2021-06-14T00:00:00",
          "2021-06-20T00:00:00",
          "2021-06-22T00:00:00",
          "2021-06-30T00:00:00"
         ],
         "xaxis": "x",
         "y": [
          2,
          1,
          3,
          11,
          1,
          1,
          1,
          1
         ],
         "yaxis": "y"
        },
        {
         "alignmentgroup": "True",
         "hovertemplate": "Month=2021-07<br>date=%{x}<br>Count=%{y}<extra></extra>",
         "legendgroup": "2021-07",
         "marker": {
          "color": "#ab63fa"
         },
         "name": "2021-07",
         "offsetgroup": "2021-07",
         "orientation": "v",
         "showlegend": true,
         "textposition": "auto",
         "type": "bar",
         "x": [
          "2021-07-06T00:00:00",
          "2021-07-12T00:00:00",
          "2021-07-20T00:00:00",
          "2021-07-22T00:00:00",
          "2021-07-23T00:00:00",
          "2021-07-26T00:00:00",
          "2021-07-27T00:00:00",
          "2021-07-28T00:00:00"
         ],
         "xaxis": "x",
         "y": [
          1,
          2,
          2,
          1,
          2,
          3,
          1,
          36
         ],
         "yaxis": "y"
        },
        {
         "alignmentgroup": "True",
         "hovertemplate": "Month=2021-08<br>date=%{x}<br>Count=%{y}<extra></extra>",
         "legendgroup": "2021-08",
         "marker": {
          "color": "#FFA15A"
         },
         "name": "2021-08",
         "offsetgroup": "2021-08",
         "orientation": "v",
         "showlegend": true,
         "textposition": "auto",
         "type": "bar",
         "x": [
          "2021-08-02T00:00:00",
          "2021-08-04T00:00:00",
          "2021-08-05T00:00:00",
          "2021-08-06T00:00:00",
          "2021-08-07T00:00:00",
          "2021-08-09T00:00:00",
          "2021-08-11T00:00:00",
          "2021-08-19T00:00:00",
          "2021-08-24T00:00:00",
          "2021-08-31T00:00:00"
         ],
         "xaxis": "x",
         "y": [
          2,
          1,
          1,
          1,
          1,
          3,
          7,
          3,
          1,
          1
         ],
         "yaxis": "y"
        },
        {
         "alignmentgroup": "True",
         "hovertemplate": "Month=2021-09<br>date=%{x}<br>Count=%{y}<extra></extra>",
         "legendgroup": "2021-09",
         "marker": {
          "color": "#19d3f3"
         },
         "name": "2021-09",
         "offsetgroup": "2021-09",
         "orientation": "v",
         "showlegend": true,
         "textposition": "auto",
         "type": "bar",
         "x": [
          "2021-09-01T00:00:00",
          "2021-09-06T00:00:00",
          "2021-09-23T00:00:00",
          "2021-09-27T00:00:00"
         ],
         "xaxis": "x",
         "y": [
          1,
          1,
          2,
          2
         ],
         "yaxis": "y"
        },
        {
         "alignmentgroup": "True",
         "hovertemplate": "Month=2021-10<br>date=%{x}<br>Count=%{y}<extra></extra>",
         "legendgroup": "2021-10",
         "marker": {
          "color": "#FF6692"
         },
         "name": "2021-10",
         "offsetgroup": "2021-10",
         "orientation": "v",
         "showlegend": true,
         "textposition": "auto",
         "type": "bar",
         "x": [
          "2021-10-04T00:00:00",
          "2021-10-06T00:00:00",
          "2021-10-07T00:00:00",
          "2021-10-20T00:00:00",
          "2021-10-25T00:00:00",
          "2021-10-26T00:00:00",
          "2021-10-27T00:00:00",
          "2021-10-28T00:00:00"
         ],
         "xaxis": "x",
         "y": [
          1,
          1,
          1,
          1,
          2,
          4,
          19,
          3
         ],
         "yaxis": "y"
        },
        {
         "alignmentgroup": "True",
         "hovertemplate": "Month=2021-11<br>date=%{x}<br>Count=%{y}<extra></extra>",
         "legendgroup": "2021-11",
         "marker": {
          "color": "#B6E880"
         },
         "name": "2021-11",
         "offsetgroup": "2021-11",
         "orientation": "v",
         "showlegend": true,
         "textposition": "auto",
         "type": "bar",
         "x": [
          "2021-11-05T00:00:00",
          "2021-11-08T00:00:00",
          "2021-11-10T00:00:00",
          "2021-11-11T00:00:00",
          "2021-11-15T00:00:00",
          "2021-11-16T00:00:00",
          "2021-11-22T00:00:00"
         ],
         "xaxis": "x",
         "y": [
          1,
          1,
          1,
          3,
          1,
          1,
          1
         ],
         "yaxis": "y"
        },
        {
         "alignmentgroup": "True",
         "hovertemplate": "Month=2021-12<br>date=%{x}<br>Count=%{y}<extra></extra>",
         "legendgroup": "2021-12",
         "marker": {
          "color": "#FF97FF"
         },
         "name": "2021-12",
         "offsetgroup": "2021-12",
         "orientation": "v",
         "showlegend": true,
         "textposition": "auto",
         "type": "bar",
         "x": [
          "2021-12-01T00:00:00",
          "2021-12-05T00:00:00",
          "2021-12-06T00:00:00",
          "2021-12-08T00:00:00",
          "2021-12-11T00:00:00",
          "2021-12-13T00:00:00",
          "2021-12-16T00:00:00",
          "2021-12-17T00:00:00",
          "2021-12-20T00:00:00",
          "2021-12-21T00:00:00",
          "2021-12-30T00:00:00"
         ],
         "xaxis": "x",
         "y": [
          3,
          1,
          1,
          3,
          1,
          1,
          10,
          1,
          1,
          1,
          1
         ],
         "yaxis": "y"
        },
        {
         "alignmentgroup": "True",
         "hovertemplate": "Month=2022-01<br>date=%{x}<br>Count=%{y}<extra></extra>",
         "legendgroup": "2022-01",
         "marker": {
          "color": "#FECB52"
         },
         "name": "2022-01",
         "offsetgroup": "2022-01",
         "orientation": "v",
         "showlegend": true,
         "textposition": "auto",
         "type": "bar",
         "x": [
          "2022-01-03T00:00:00",
          "2022-01-06T00:00:00",
          "2022-01-07T00:00:00",
          "2022-01-20T00:00:00",
          "2022-01-21T00:00:00",
          "2022-01-22T00:00:00",
          "2022-01-25T00:00:00",
          "2022-01-26T00:00:00",
          "2022-01-27T00:00:00",
          "2022-01-31T00:00:00"
         ],
         "xaxis": "x",
         "y": [
          1,
          1,
          1,
          1,
          3,
          1,
          3,
          4,
          27,
          3
         ],
         "yaxis": "y"
        },
        {
         "alignmentgroup": "True",
         "hovertemplate": "Month=2022-02<br>date=%{x}<br>Count=%{y}<extra></extra>",
         "legendgroup": "2022-02",
         "marker": {
          "color": "#636efa"
         },
         "name": "2022-02",
         "offsetgroup": "2022-02",
         "orientation": "v",
         "showlegend": true,
         "textposition": "auto",
         "type": "bar",
         "x": [
          "2022-02-04T00:00:00",
          "2022-02-14T00:00:00",
          "2022-02-16T00:00:00",
          "2022-02-20T00:00:00"
         ],
         "xaxis": "x",
         "y": [
          1,
          1,
          2,
          7
         ],
         "yaxis": "y"
        },
        {
         "alignmentgroup": "True",
         "hovertemplate": "Month=2022-03<br>date=%{x}<br>Count=%{y}<extra></extra>",
         "legendgroup": "2022-03",
         "marker": {
          "color": "#EF553B"
         },
         "name": "2022-03",
         "offsetgroup": "2022-03",
         "orientation": "v",
         "showlegend": true,
         "textposition": "auto",
         "type": "bar",
         "x": [
          "2022-03-04T00:00:00",
          "2022-03-08T00:00:00",
          "2022-03-09T00:00:00",
          "2022-03-10T00:00:00",
          "2022-03-28T00:00:00"
         ],
         "xaxis": "x",
         "y": [
          3,
          12,
          1,
          1,
          1
         ],
         "yaxis": "y"
        },
        {
         "alignmentgroup": "True",
         "hovertemplate": "Month=2022-04<br>date=%{x}<br>Count=%{y}<extra></extra>",
         "legendgroup": "2022-04",
         "marker": {
          "color": "#00cc96"
         },
         "name": "2022-04",
         "offsetgroup": "2022-04",
         "orientation": "v",
         "showlegend": true,
         "textposition": "auto",
         "type": "bar",
         "x": [
          "2022-04-04T00:00:00",
          "2022-04-06T00:00:00",
          "2022-04-14T00:00:00",
          "2022-04-21T00:00:00",
          "2022-04-22T00:00:00",
          "2022-04-24T00:00:00",
          "2022-04-25T00:00:00",
          "2022-04-26T00:00:00",
          "2022-04-27T00:00:00",
          "2022-04-28T00:00:00",
          "2022-04-29T00:00:00"
         ],
         "xaxis": "x",
         "y": [
          2,
          2,
          1,
          9,
          2,
          1,
          1,
          2,
          1,
          32,
          2
         ],
         "yaxis": "y"
        },
        {
         "alignmentgroup": "True",
         "hovertemplate": "Month=2022-05<br>date=%{x}<br>Count=%{y}<extra></extra>",
         "legendgroup": "2022-05",
         "marker": {
          "color": "#ab63fa"
         },
         "name": "2022-05",
         "offsetgroup": "2022-05",
         "orientation": "v",
         "showlegend": true,
         "textposition": "auto",
         "type": "bar",
         "x": [
          "2022-05-09T00:00:00",
          "2022-05-12T00:00:00",
          "2022-05-16T00:00:00",
          "2022-05-17T00:00:00",
          "2022-05-18T00:00:00",
          "2022-05-19T00:00:00",
          "2022-05-21T00:00:00",
          "2022-05-22T00:00:00",
          "2022-05-24T00:00:00",
          "2022-05-25T00:00:00",
          "2022-05-26T00:00:00",
          "2022-05-30T00:00:00"
         ],
         "xaxis": "x",
         "y": [
          1,
          1,
          18,
          2,
          3,
          10,
          1,
          1,
          1,
          5,
          13,
          1
         ],
         "yaxis": "y"
        },
        {
         "alignmentgroup": "True",
         "hovertemplate": "Month=2022-06<br>date=%{x}<br>Count=%{y}<extra></extra>",
         "legendgroup": "2022-06",
         "marker": {
          "color": "#FFA15A"
         },
         "name": "2022-06",
         "offsetgroup": "2022-06",
         "orientation": "v",
         "showlegend": true,
         "textposition": "auto",
         "type": "bar",
         "x": [
          "2022-06-03T00:00:00",
          "2022-06-06T00:00:00",
          "2022-06-09T00:00:00",
          "2022-06-10T00:00:00",
          "2022-06-12T00:00:00",
          "2022-06-13T00:00:00",
          "2022-06-14T00:00:00",
          "2022-06-15T00:00:00",
          "2022-06-16T00:00:00",
          "2022-06-22T00:00:00",
          "2022-06-23T00:00:00",
          "2022-06-24T00:00:00",
          "2022-06-27T00:00:00",
          "2022-06-28T00:00:00",
          "2022-06-29T00:00:00",
          "2022-06-30T00:00:00"
         ],
         "xaxis": "x",
         "y": [
          1,
          3,
          1,
          4,
          4,
          1,
          1,
          1,
          12,
          3,
          3,
          1,
          13,
          1,
          1,
          1
         ],
         "yaxis": "y"
        },
        {
         "alignmentgroup": "True",
         "hovertemplate": "Month=2022-07<br>date=%{x}<br>Count=%{y}<extra></extra>",
         "legendgroup": "2022-07",
         "marker": {
          "color": "#19d3f3"
         },
         "name": "2022-07",
         "offsetgroup": "2022-07",
         "orientation": "v",
         "showlegend": true,
         "textposition": "auto",
         "type": "bar",
         "x": [
          "2022-07-01T00:00:00",
          "2022-07-02T00:00:00",
          "2022-07-04T00:00:00",
          "2022-07-05T00:00:00",
          "2022-07-10T00:00:00",
          "2022-07-13T00:00:00",
          "2022-07-18T00:00:00",
          "2022-07-21T00:00:00",
          "2022-07-25T00:00:00",
          "2022-07-26T00:00:00",
          "2022-07-27T00:00:00"
         ],
         "xaxis": "x",
         "y": [
          2,
          1,
          1,
          3,
          1,
          3,
          1,
          1,
          2,
          19,
          1
         ],
         "yaxis": "y"
        },
        {
         "alignmentgroup": "True",
         "hovertemplate": "Month=2022-08<br>date=%{x}<br>Count=%{y}<extra></extra>",
         "legendgroup": "2022-08",
         "marker": {
          "color": "#FF6692"
         },
         "name": "2022-08",
         "offsetgroup": "2022-08",
         "orientation": "v",
         "showlegend": true,
         "textposition": "auto",
         "type": "bar",
         "x": [
          "2022-08-01T00:00:00",
          "2022-08-02T00:00:00",
          "2022-08-04T00:00:00",
          "2022-08-11T00:00:00",
          "2022-08-18T00:00:00",
          "2022-08-19T00:00:00",
          "2022-08-22T00:00:00",
          "2022-08-24T00:00:00",
          "2022-08-31T00:00:00"
         ],
         "xaxis": "x",
         "y": [
          4,
          1,
          1,
          4,
          1,
          1,
          1,
          1,
          1
         ],
         "yaxis": "y"
        },
        {
         "alignmentgroup": "True",
         "hovertemplate": "Month=2022-09<br>date=%{x}<br>Count=%{y}<extra></extra>",
         "legendgroup": "2022-09",
         "marker": {
          "color": "#B6E880"
         },
         "name": "2022-09",
         "offsetgroup": "2022-09",
         "orientation": "v",
         "showlegend": true,
         "textposition": "auto",
         "type": "bar",
         "x": [
          "2022-09-05T00:00:00",
          "2022-09-06T00:00:00",
          "2022-09-08T00:00:00",
          "2022-09-14T00:00:00",
          "2022-09-20T00:00:00",
          "2022-09-21T00:00:00",
          "2022-09-26T00:00:00",
          "2022-09-27T00:00:00",
          "2022-09-28T00:00:00"
         ],
         "xaxis": "x",
         "y": [
          2,
          6,
          1,
          7,
          1,
          2,
          1,
          5,
          3
         ],
         "yaxis": "y"
        },
        {
         "alignmentgroup": "True",
         "hovertemplate": "Month=2022-10<br>date=%{x}<br>Count=%{y}<extra></extra>",
         "legendgroup": "2022-10",
         "marker": {
          "color": "#FF97FF"
         },
         "name": "2022-10",
         "offsetgroup": "2022-10",
         "orientation": "v",
         "showlegend": true,
         "textposition": "auto",
         "type": "bar",
         "x": [
          "2022-10-03T00:00:00",
          "2022-10-04T00:00:00",
          "2022-10-06T00:00:00",
          "2022-10-13T00:00:00",
          "2022-10-25T00:00:00",
          "2022-10-26T00:00:00",
          "2022-10-27T00:00:00"
         ],
         "xaxis": "x",
         "y": [
          1,
          3,
          1,
          1,
          1,
          2,
          30
         ],
         "yaxis": "y"
        },
        {
         "alignmentgroup": "True",
         "hovertemplate": "Month=2022-11<br>date=%{x}<br>Count=%{y}<extra></extra>",
         "legendgroup": "2022-11",
         "marker": {
          "color": "#FECB52"
         },
         "name": "2022-11",
         "offsetgroup": "2022-11",
         "orientation": "v",
         "showlegend": true,
         "textposition": "auto",
         "type": "bar",
         "x": [
          "2022-11-04T00:00:00",
          "2022-11-15T00:00:00",
          "2022-11-17T00:00:00",
          "2022-11-29T00:00:00",
          "2022-11-30T00:00:00"
         ],
         "xaxis": "x",
         "y": [
          3,
          1,
          2,
          1,
          1
         ],
         "yaxis": "y"
        },
        {
         "alignmentgroup": "True",
         "hovertemplate": "Month=2022-12<br>date=%{x}<br>Count=%{y}<extra></extra>",
         "legendgroup": "2022-12",
         "marker": {
          "color": "#636efa"
         },
         "name": "2022-12",
         "offsetgroup": "2022-12",
         "orientation": "v",
         "showlegend": true,
         "textposition": "auto",
         "type": "bar",
         "x": [
          "2022-12-01T00:00:00",
          "2022-12-02T00:00:00",
          "2022-12-06T00:00:00",
          "2022-12-15T00:00:00"
         ],
         "xaxis": "x",
         "y": [
          1,
          1,
          1,
          1
         ],
         "yaxis": "y"
        },
        {
         "alignmentgroup": "True",
         "hovertemplate": "Month=2023-01<br>date=%{x}<br>Count=%{y}<extra></extra>",
         "legendgroup": "2023-01",
         "marker": {
          "color": "#EF553B"
         },
         "name": "2023-01",
         "offsetgroup": "2023-01",
         "orientation": "v",
         "showlegend": true,
         "textposition": "auto",
         "type": "bar",
         "x": [
          "2023-01-04T00:00:00",
          "2023-01-05T00:00:00",
          "2023-01-06T00:00:00",
          "2023-01-09T00:00:00",
          "2023-01-10T00:00:00",
          "2023-01-23T00:00:00",
          "2023-01-30T00:00:00",
          "2023-01-31T00:00:00"
         ],
         "xaxis": "x",
         "y": [
          2,
          4,
          15,
          9,
          1,
          1,
          2,
          29
         ],
         "yaxis": "y"
        },
        {
         "alignmentgroup": "True",
         "hovertemplate": "Month=2023-02<br>date=%{x}<br>Count=%{y}<extra></extra>",
         "legendgroup": "2023-02",
         "marker": {
          "color": "#00cc96"
         },
         "name": "2023-02",
         "offsetgroup": "2023-02",
         "orientation": "v",
         "showlegend": true,
         "textposition": "auto",
         "type": "bar",
         "x": [
          "2023-02-01T00:00:00",
          "2023-02-02T00:00:00",
          "2023-02-06T00:00:00",
          "2023-02-16T00:00:00",
          "2023-02-28T00:00:00"
         ],
         "xaxis": "x",
         "y": [
          1,
          1,
          1,
          1,
          5
         ],
         "yaxis": "y"
        },
        {
         "alignmentgroup": "True",
         "hovertemplate": "Month=2023-03<br>date=%{x}<br>Count=%{y}<extra></extra>",
         "legendgroup": "2023-03",
         "marker": {
          "color": "#ab63fa"
         },
         "name": "2023-03",
         "offsetgroup": "2023-03",
         "orientation": "v",
         "showlegend": true,
         "textposition": "auto",
         "type": "bar",
         "x": [
          "2023-03-01T00:00:00",
          "2023-03-06T00:00:00",
          "2023-03-13T00:00:00",
          "2023-03-15T00:00:00",
          "2023-03-16T00:00:00",
          "2023-03-29T00:00:00"
         ],
         "xaxis": "x",
         "y": [
          1,
          1,
          1,
          2,
          3,
          2
         ],
         "yaxis": "y"
        },
        {
         "alignmentgroup": "True",
         "hovertemplate": "Month=2023-04<br>date=%{x}<br>Count=%{y}<extra></extra>",
         "legendgroup": "2023-04",
         "marker": {
          "color": "#FFA15A"
         },
         "name": "2023-04",
         "offsetgroup": "2023-04",
         "orientation": "v",
         "showlegend": true,
         "textposition": "auto",
         "type": "bar",
         "x": [
          "2023-04-02T00:00:00",
          "2023-04-03T00:00:00",
          "2023-04-06T00:00:00",
          "2023-04-07T00:00:00",
          "2023-04-10T00:00:00",
          "2023-04-17T00:00:00",
          "2023-04-24T00:00:00",
          "2023-04-25T00:00:00"
         ],
         "xaxis": "x",
         "y": [
          2,
          3,
          1,
          2,
          2,
          1,
          1,
          23
         ],
         "yaxis": "y"
        },
        {
         "alignmentgroup": "True",
         "hovertemplate": "Month=2023-05<br>date=%{x}<br>Count=%{y}<extra></extra>",
         "legendgroup": "2023-05",
         "marker": {
          "color": "#19d3f3"
         },
         "name": "2023-05",
         "offsetgroup": "2023-05",
         "orientation": "v",
         "showlegend": true,
         "textposition": "auto",
         "type": "bar",
         "x": [
          "2023-05-02T00:00:00"
         ],
         "xaxis": "x",
         "y": [
          1
         ],
         "yaxis": "y"
        }
       ],
       "layout": {
        "barmode": "relative",
        "legend": {
         "title": {
          "text": "Month"
         },
         "tracegroupgap": 0
        },
        "margin": {
         "t": 60
        },
        "template": {
         "data": {
          "bar": [
           {
            "error_x": {
             "color": "#2a3f5f"
            },
            "error_y": {
             "color": "#2a3f5f"
            },
            "marker": {
             "line": {
              "color": "#E5ECF6",
              "width": 0.5
             }
            },
            "type": "bar"
           }
          ],
          "barpolar": [
           {
            "marker": {
             "line": {
              "color": "#E5ECF6",
              "width": 0.5
             }
            },
            "type": "barpolar"
           }
          ],
          "carpet": [
           {
            "aaxis": {
             "endlinecolor": "#2a3f5f",
             "gridcolor": "white",
             "linecolor": "white",
             "minorgridcolor": "white",
             "startlinecolor": "#2a3f5f"
            },
            "baxis": {
             "endlinecolor": "#2a3f5f",
             "gridcolor": "white",
             "linecolor": "white",
             "minorgridcolor": "white",
             "startlinecolor": "#2a3f5f"
            },
            "type": "carpet"
           }
          ],
          "choropleth": [
           {
            "colorbar": {
             "outlinewidth": 0,
             "ticks": ""
            },
            "type": "choropleth"
           }
          ],
          "contour": [
           {
            "colorbar": {
             "outlinewidth": 0,
             "ticks": ""
            },
            "colorscale": [
             [
              0,
              "#0d0887"
             ],
             [
              0.1111111111111111,
              "#46039f"
             ],
             [
              0.2222222222222222,
              "#7201a8"
             ],
             [
              0.3333333333333333,
              "#9c179e"
             ],
             [
              0.4444444444444444,
              "#bd3786"
             ],
             [
              0.5555555555555556,
              "#d8576b"
             ],
             [
              0.6666666666666666,
              "#ed7953"
             ],
             [
              0.7777777777777778,
              "#fb9f3a"
             ],
             [
              0.8888888888888888,
              "#fdca26"
             ],
             [
              1,
              "#f0f921"
             ]
            ],
            "type": "contour"
           }
          ],
          "contourcarpet": [
           {
            "colorbar": {
             "outlinewidth": 0,
             "ticks": ""
            },
            "type": "contourcarpet"
           }
          ],
          "heatmap": [
           {
            "colorbar": {
             "outlinewidth": 0,
             "ticks": ""
            },
            "colorscale": [
             [
              0,
              "#0d0887"
             ],
             [
              0.1111111111111111,
              "#46039f"
             ],
             [
              0.2222222222222222,
              "#7201a8"
             ],
             [
              0.3333333333333333,
              "#9c179e"
             ],
             [
              0.4444444444444444,
              "#bd3786"
             ],
             [
              0.5555555555555556,
              "#d8576b"
             ],
             [
              0.6666666666666666,
              "#ed7953"
             ],
             [
              0.7777777777777778,
              "#fb9f3a"
             ],
             [
              0.8888888888888888,
              "#fdca26"
             ],
             [
              1,
              "#f0f921"
             ]
            ],
            "type": "heatmap"
           }
          ],
          "heatmapgl": [
           {
            "colorbar": {
             "outlinewidth": 0,
             "ticks": ""
            },
            "colorscale": [
             [
              0,
              "#0d0887"
             ],
             [
              0.1111111111111111,
              "#46039f"
             ],
             [
              0.2222222222222222,
              "#7201a8"
             ],
             [
              0.3333333333333333,
              "#9c179e"
             ],
             [
              0.4444444444444444,
              "#bd3786"
             ],
             [
              0.5555555555555556,
              "#d8576b"
             ],
             [
              0.6666666666666666,
              "#ed7953"
             ],
             [
              0.7777777777777778,
              "#fb9f3a"
             ],
             [
              0.8888888888888888,
              "#fdca26"
             ],
             [
              1,
              "#f0f921"
             ]
            ],
            "type": "heatmapgl"
           }
          ],
          "histogram": [
           {
            "marker": {
             "colorbar": {
              "outlinewidth": 0,
              "ticks": ""
             }
            },
            "type": "histogram"
           }
          ],
          "histogram2d": [
           {
            "colorbar": {
             "outlinewidth": 0,
             "ticks": ""
            },
            "colorscale": [
             [
              0,
              "#0d0887"
             ],
             [
              0.1111111111111111,
              "#46039f"
             ],
             [
              0.2222222222222222,
              "#7201a8"
             ],
             [
              0.3333333333333333,
              "#9c179e"
             ],
             [
              0.4444444444444444,
              "#bd3786"
             ],
             [
              0.5555555555555556,
              "#d8576b"
             ],
             [
              0.6666666666666666,
              "#ed7953"
             ],
             [
              0.7777777777777778,
              "#fb9f3a"
             ],
             [
              0.8888888888888888,
              "#fdca26"
             ],
             [
              1,
              "#f0f921"
             ]
            ],
            "type": "histogram2d"
           }
          ],
          "histogram2dcontour": [
           {
            "colorbar": {
             "outlinewidth": 0,
             "ticks": ""
            },
            "colorscale": [
             [
              0,
              "#0d0887"
             ],
             [
              0.1111111111111111,
              "#46039f"
             ],
             [
              0.2222222222222222,
              "#7201a8"
             ],
             [
              0.3333333333333333,
              "#9c179e"
             ],
             [
              0.4444444444444444,
              "#bd3786"
             ],
             [
              0.5555555555555556,
              "#d8576b"
             ],
             [
              0.6666666666666666,
              "#ed7953"
             ],
             [
              0.7777777777777778,
              "#fb9f3a"
             ],
             [
              0.8888888888888888,
              "#fdca26"
             ],
             [
              1,
              "#f0f921"
             ]
            ],
            "type": "histogram2dcontour"
           }
          ],
          "mesh3d": [
           {
            "colorbar": {
             "outlinewidth": 0,
             "ticks": ""
            },
            "type": "mesh3d"
           }
          ],
          "parcoords": [
           {
            "line": {
             "colorbar": {
              "outlinewidth": 0,
              "ticks": ""
             }
            },
            "type": "parcoords"
           }
          ],
          "pie": [
           {
            "automargin": true,
            "type": "pie"
           }
          ],
          "scatter": [
           {
            "marker": {
             "colorbar": {
              "outlinewidth": 0,
              "ticks": ""
             }
            },
            "type": "scatter"
           }
          ],
          "scatter3d": [
           {
            "line": {
             "colorbar": {
              "outlinewidth": 0,
              "ticks": ""
             }
            },
            "marker": {
             "colorbar": {
              "outlinewidth": 0,
              "ticks": ""
             }
            },
            "type": "scatter3d"
           }
          ],
          "scattercarpet": [
           {
            "marker": {
             "colorbar": {
              "outlinewidth": 0,
              "ticks": ""
             }
            },
            "type": "scattercarpet"
           }
          ],
          "scattergeo": [
           {
            "marker": {
             "colorbar": {
              "outlinewidth": 0,
              "ticks": ""
             }
            },
            "type": "scattergeo"
           }
          ],
          "scattergl": [
           {
            "marker": {
             "colorbar": {
              "outlinewidth": 0,
              "ticks": ""
             }
            },
            "type": "scattergl"
           }
          ],
          "scattermapbox": [
           {
            "marker": {
             "colorbar": {
              "outlinewidth": 0,
              "ticks": ""
             }
            },
            "type": "scattermapbox"
           }
          ],
          "scatterpolar": [
           {
            "marker": {
             "colorbar": {
              "outlinewidth": 0,
              "ticks": ""
             }
            },
            "type": "scatterpolar"
           }
          ],
          "scatterpolargl": [
           {
            "marker": {
             "colorbar": {
              "outlinewidth": 0,
              "ticks": ""
             }
            },
            "type": "scatterpolargl"
           }
          ],
          "scatterternary": [
           {
            "marker": {
             "colorbar": {
              "outlinewidth": 0,
              "ticks": ""
             }
            },
            "type": "scatterternary"
           }
          ],
          "surface": [
           {
            "colorbar": {
             "outlinewidth": 0,
             "ticks": ""
            },
            "colorscale": [
             [
              0,
              "#0d0887"
             ],
             [
              0.1111111111111111,
              "#46039f"
             ],
             [
              0.2222222222222222,
              "#7201a8"
             ],
             [
              0.3333333333333333,
              "#9c179e"
             ],
             [
              0.4444444444444444,
              "#bd3786"
             ],
             [
              0.5555555555555556,
              "#d8576b"
             ],
             [
              0.6666666666666666,
              "#ed7953"
             ],
             [
              0.7777777777777778,
              "#fb9f3a"
             ],
             [
              0.8888888888888888,
              "#fdca26"
             ],
             [
              1,
              "#f0f921"
             ]
            ],
            "type": "surface"
           }
          ],
          "table": [
           {
            "cells": {
             "fill": {
              "color": "#EBF0F8"
             },
             "line": {
              "color": "white"
             }
            },
            "header": {
             "fill": {
              "color": "#C8D4E3"
             },
             "line": {
              "color": "white"
             }
            },
            "type": "table"
           }
          ]
         },
         "layout": {
          "annotationdefaults": {
           "arrowcolor": "#2a3f5f",
           "arrowhead": 0,
           "arrowwidth": 1
          },
          "autotypenumbers": "strict",
          "coloraxis": {
           "colorbar": {
            "outlinewidth": 0,
            "ticks": ""
           }
          },
          "colorscale": {
           "diverging": [
            [
             0,
             "#8e0152"
            ],
            [
             0.1,
             "#c51b7d"
            ],
            [
             0.2,
             "#de77ae"
            ],
            [
             0.3,
             "#f1b6da"
            ],
            [
             0.4,
             "#fde0ef"
            ],
            [
             0.5,
             "#f7f7f7"
            ],
            [
             0.6,
             "#e6f5d0"
            ],
            [
             0.7,
             "#b8e186"
            ],
            [
             0.8,
             "#7fbc41"
            ],
            [
             0.9,
             "#4d9221"
            ],
            [
             1,
             "#276419"
            ]
           ],
           "sequential": [
            [
             0,
             "#0d0887"
            ],
            [
             0.1111111111111111,
             "#46039f"
            ],
            [
             0.2222222222222222,
             "#7201a8"
            ],
            [
             0.3333333333333333,
             "#9c179e"
            ],
            [
             0.4444444444444444,
             "#bd3786"
            ],
            [
             0.5555555555555556,
             "#d8576b"
            ],
            [
             0.6666666666666666,
             "#ed7953"
            ],
            [
             0.7777777777777778,
             "#fb9f3a"
            ],
            [
             0.8888888888888888,
             "#fdca26"
            ],
            [
             1,
             "#f0f921"
            ]
           ],
           "sequentialminus": [
            [
             0,
             "#0d0887"
            ],
            [
             0.1111111111111111,
             "#46039f"
            ],
            [
             0.2222222222222222,
             "#7201a8"
            ],
            [
             0.3333333333333333,
             "#9c179e"
            ],
            [
             0.4444444444444444,
             "#bd3786"
            ],
            [
             0.5555555555555556,
             "#d8576b"
            ],
            [
             0.6666666666666666,
             "#ed7953"
            ],
            [
             0.7777777777777778,
             "#fb9f3a"
            ],
            [
             0.8888888888888888,
             "#fdca26"
            ],
            [
             1,
             "#f0f921"
            ]
           ]
          },
          "colorway": [
           "#636efa",
           "#EF553B",
           "#00cc96",
           "#ab63fa",
           "#FFA15A",
           "#19d3f3",
           "#FF6692",
           "#B6E880",
           "#FF97FF",
           "#FECB52"
          ],
          "font": {
           "color": "#2a3f5f"
          },
          "geo": {
           "bgcolor": "white",
           "lakecolor": "white",
           "landcolor": "#E5ECF6",
           "showlakes": true,
           "showland": true,
           "subunitcolor": "white"
          },
          "hoverlabel": {
           "align": "left"
          },
          "hovermode": "closest",
          "mapbox": {
           "style": "light"
          },
          "paper_bgcolor": "white",
          "plot_bgcolor": "#E5ECF6",
          "polar": {
           "angularaxis": {
            "gridcolor": "white",
            "linecolor": "white",
            "ticks": ""
           },
           "bgcolor": "#E5ECF6",
           "radialaxis": {
            "gridcolor": "white",
            "linecolor": "white",
            "ticks": ""
           }
          },
          "scene": {
           "xaxis": {
            "backgroundcolor": "#E5ECF6",
            "gridcolor": "white",
            "gridwidth": 2,
            "linecolor": "white",
            "showbackground": true,
            "ticks": "",
            "zerolinecolor": "white"
           },
           "yaxis": {
            "backgroundcolor": "#E5ECF6",
            "gridcolor": "white",
            "gridwidth": 2,
            "linecolor": "white",
            "showbackground": true,
            "ticks": "",
            "zerolinecolor": "white"
           },
           "zaxis": {
            "backgroundcolor": "#E5ECF6",
            "gridcolor": "white",
            "gridwidth": 2,
            "linecolor": "white",
            "showbackground": true,
            "ticks": "",
            "zerolinecolor": "white"
           }
          },
          "shapedefaults": {
           "line": {
            "color": "#2a3f5f"
           }
          },
          "ternary": {
           "aaxis": {
            "gridcolor": "white",
            "linecolor": "white",
            "ticks": ""
           },
           "baxis": {
            "gridcolor": "white",
            "linecolor": "white",
            "ticks": ""
           },
           "bgcolor": "#E5ECF6",
           "caxis": {
            "gridcolor": "white",
            "linecolor": "white",
            "ticks": ""
           }
          },
          "title": {
           "x": 0.05
          },
          "xaxis": {
           "automargin": true,
           "gridcolor": "white",
           "linecolor": "white",
           "ticks": "",
           "title": {
            "standoff": 15
           },
           "zerolinecolor": "white",
           "zerolinewidth": 2
          },
          "yaxis": {
           "automargin": true,
           "gridcolor": "white",
           "linecolor": "white",
           "ticks": "",
           "title": {
            "standoff": 15
           },
           "zerolinecolor": "white",
           "zerolinewidth": 2
          }
         }
        },
        "updatemenus": [
         {
          "buttons": [
           {
            "args": [
             {
              "xaxis": {
               "range": [
                1225497600000,
                1228089600000
               ]
              }
             }
            ],
            "label": "Nov-2008",
            "method": "relayout"
           },
           {
            "args": [
             {
              "xaxis": {
               "range": [
                1228089600000,
                1230768000000
               ]
              }
             }
            ],
            "label": "Dec-2008",
            "method": "relayout"
           },
           {
            "args": [
             {
              "xaxis": {
               "range": [
                1230768000000,
                1233446400000
               ]
              }
             }
            ],
            "label": "Jan-2009",
            "method": "relayout"
           },
           {
            "args": [
             {
              "xaxis": {
               "range": [
                1233446400000,
                1235865600000
               ]
              }
             }
            ],
            "label": "Feb-2009",
            "method": "relayout"
           },
           {
            "args": [
             {
              "xaxis": {
               "range": [
                1235865600000,
                1238544000000
               ]
              }
             }
            ],
            "label": "Mar-2009",
            "method": "relayout"
           },
           {
            "args": [
             {
              "xaxis": {
               "range": [
                1238544000000,
                1241136000000
               ]
              }
             }
            ],
            "label": "Apr-2009",
            "method": "relayout"
           },
           {
            "args": [
             {
              "xaxis": {
               "range": [
                1241136000000,
                1243814400000
               ]
              }
             }
            ],
            "label": "May-2009",
            "method": "relayout"
           },
           {
            "args": [
             {
              "xaxis": {
               "range": [
                1243814400000,
                1246406400000
               ]
              }
             }
            ],
            "label": "Jun-2009",
            "method": "relayout"
           },
           {
            "args": [
             {
              "xaxis": {
               "range": [
                1246406400000,
                1249084800000
               ]
              }
             }
            ],
            "label": "Jul-2009",
            "method": "relayout"
           },
           {
            "args": [
             {
              "xaxis": {
               "range": [
                1249084800000,
                1251763200000
               ]
              }
             }
            ],
            "label": "Aug-2009",
            "method": "relayout"
           },
           {
            "args": [
             {
              "xaxis": {
               "range": [
                1251763200000,
                1254355200000
               ]
              }
             }
            ],
            "label": "Sep-2009",
            "method": "relayout"
           },
           {
            "args": [
             {
              "xaxis": {
               "range": [
                1254355200000,
                1257033600000
               ]
              }
             }
            ],
            "label": "Oct-2009",
            "method": "relayout"
           },
           {
            "args": [
             {
              "xaxis": {
               "range": [
                1257033600000,
                1259625600000
               ]
              }
             }
            ],
            "label": "Nov-2009",
            "method": "relayout"
           },
           {
            "args": [
             {
              "xaxis": {
               "range": [
                1259625600000,
                1262304000000
               ]
              }
             }
            ],
            "label": "Dec-2009",
            "method": "relayout"
           },
           {
            "args": [
             {
              "xaxis": {
               "range": [
                1262304000000,
                1264982400000
               ]
              }
             }
            ],
            "label": "Jan-2010",
            "method": "relayout"
           },
           {
            "args": [
             {
              "xaxis": {
               "range": [
                1264982400000,
                1267401600000
               ]
              }
             }
            ],
            "label": "Feb-2010",
            "method": "relayout"
           },
           {
            "args": [
             {
              "xaxis": {
               "range": [
                1267401600000,
                1270080000000
               ]
              }
             }
            ],
            "label": "Mar-2010",
            "method": "relayout"
           },
           {
            "args": [
             {
              "xaxis": {
               "range": [
                1270080000000,
                1272672000000
               ]
              }
             }
            ],
            "label": "Apr-2010",
            "method": "relayout"
           },
           {
            "args": [
             {
              "xaxis": {
               "range": [
                1272672000000,
                1275350400000
               ]
              }
             }
            ],
            "label": "May-2010",
            "method": "relayout"
           },
           {
            "args": [
             {
              "xaxis": {
               "range": [
                1275350400000,
                1277942400000
               ]
              }
             }
            ],
            "label": "Jun-2010",
            "method": "relayout"
           },
           {
            "args": [
             {
              "xaxis": {
               "range": [
                1277942400000,
                1280620800000
               ]
              }
             }
            ],
            "label": "Jul-2010",
            "method": "relayout"
           },
           {
            "args": [
             {
              "xaxis": {
               "range": [
                1280620800000,
                1283299200000
               ]
              }
             }
            ],
            "label": "Aug-2010",
            "method": "relayout"
           },
           {
            "args": [
             {
              "xaxis": {
               "range": [
                1283299200000,
                1285891200000
               ]
              }
             }
            ],
            "label": "Sep-2010",
            "method": "relayout"
           },
           {
            "args": [
             {
              "xaxis": {
               "range": [
                1285891200000,
                1288569600000
               ]
              }
             }
            ],
            "label": "Oct-2010",
            "method": "relayout"
           },
           {
            "args": [
             {
              "xaxis": {
               "range": [
                1288569600000,
                1291161600000
               ]
              }
             }
            ],
            "label": "Nov-2010",
            "method": "relayout"
           },
           {
            "args": [
             {
              "xaxis": {
               "range": [
                1291161600000,
                1293840000000
               ]
              }
             }
            ],
            "label": "Dec-2010",
            "method": "relayout"
           },
           {
            "args": [
             {
              "xaxis": {
               "range": [
                1293840000000,
                1296518400000
               ]
              }
             }
            ],
            "label": "Jan-2011",
            "method": "relayout"
           },
           {
            "args": [
             {
              "xaxis": {
               "range": [
                1296518400000,
                1298937600000
               ]
              }
             }
            ],
            "label": "Feb-2011",
            "method": "relayout"
           },
           {
            "args": [
             {
              "xaxis": {
               "range": [
                1298937600000,
                1301616000000
               ]
              }
             }
            ],
            "label": "Mar-2011",
            "method": "relayout"
           },
           {
            "args": [
             {
              "xaxis": {
               "range": [
                1301616000000,
                1304208000000
               ]
              }
             }
            ],
            "label": "Apr-2011",
            "method": "relayout"
           },
           {
            "args": [
             {
              "xaxis": {
               "range": [
                1304208000000,
                1306886400000
               ]
              }
             }
            ],
            "label": "May-2011",
            "method": "relayout"
           },
           {
            "args": [
             {
              "xaxis": {
               "range": [
                1306886400000,
                1309478400000
               ]
              }
             }
            ],
            "label": "Jun-2011",
            "method": "relayout"
           },
           {
            "args": [
             {
              "xaxis": {
               "range": [
                1309478400000,
                1312156800000
               ]
              }
             }
            ],
            "label": "Jul-2011",
            "method": "relayout"
           },
           {
            "args": [
             {
              "xaxis": {
               "range": [
                1312156800000,
                1314835200000
               ]
              }
             }
            ],
            "label": "Aug-2011",
            "method": "relayout"
           },
           {
            "args": [
             {
              "xaxis": {
               "range": [
                1314835200000,
                1317427200000
               ]
              }
             }
            ],
            "label": "Sep-2011",
            "method": "relayout"
           },
           {
            "args": [
             {
              "xaxis": {
               "range": [
                1317427200000,
                1320105600000
               ]
              }
             }
            ],
            "label": "Oct-2011",
            "method": "relayout"
           },
           {
            "args": [
             {
              "xaxis": {
               "range": [
                1320105600000,
                1322697600000
               ]
              }
             }
            ],
            "label": "Nov-2011",
            "method": "relayout"
           },
           {
            "args": [
             {
              "xaxis": {
               "range": [
                1322697600000,
                1325376000000
               ]
              }
             }
            ],
            "label": "Dec-2011",
            "method": "relayout"
           },
           {
            "args": [
             {
              "xaxis": {
               "range": [
                1325376000000,
                1328054400000
               ]
              }
             }
            ],
            "label": "Jan-2012",
            "method": "relayout"
           },
           {
            "args": [
             {
              "xaxis": {
               "range": [
                1328054400000,
                1330560000000
               ]
              }
             }
            ],
            "label": "Feb-2012",
            "method": "relayout"
           },
           {
            "args": [
             {
              "xaxis": {
               "range": [
                1330560000000,
                1333238400000
               ]
              }
             }
            ],
            "label": "Mar-2012",
            "method": "relayout"
           },
           {
            "args": [
             {
              "xaxis": {
               "range": [
                1333238400000,
                1335830400000
               ]
              }
             }
            ],
            "label": "Apr-2012",
            "method": "relayout"
           },
           {
            "args": [
             {
              "xaxis": {
               "range": [
                1335830400000,
                1338508800000
               ]
              }
             }
            ],
            "label": "May-2012",
            "method": "relayout"
           },
           {
            "args": [
             {
              "xaxis": {
               "range": [
                1338508800000,
                1341100800000
               ]
              }
             }
            ],
            "label": "Jun-2012",
            "method": "relayout"
           },
           {
            "args": [
             {
              "xaxis": {
               "range": [
                1341100800000,
                1343779200000
               ]
              }
             }
            ],
            "label": "Jul-2012",
            "method": "relayout"
           },
           {
            "args": [
             {
              "xaxis": {
               "range": [
                1343779200000,
                1346457600000
               ]
              }
             }
            ],
            "label": "Aug-2012",
            "method": "relayout"
           },
           {
            "args": [
             {
              "xaxis": {
               "range": [
                1346457600000,
                1349049600000
               ]
              }
             }
            ],
            "label": "Sep-2012",
            "method": "relayout"
           },
           {
            "args": [
             {
              "xaxis": {
               "range": [
                1349049600000,
                1351728000000
               ]
              }
             }
            ],
            "label": "Oct-2012",
            "method": "relayout"
           },
           {
            "args": [
             {
              "xaxis": {
               "range": [
                1351728000000,
                1354320000000
               ]
              }
             }
            ],
            "label": "Nov-2012",
            "method": "relayout"
           },
           {
            "args": [
             {
              "xaxis": {
               "range": [
                1354320000000,
                1356998400000
               ]
              }
             }
            ],
            "label": "Dec-2012",
            "method": "relayout"
           },
           {
            "args": [
             {
              "xaxis": {
               "range": [
                1356998400000,
                1359676800000
               ]
              }
             }
            ],
            "label": "Jan-2013",
            "method": "relayout"
           },
           {
            "args": [
             {
              "xaxis": {
               "range": [
                1359676800000,
                1362096000000
               ]
              }
             }
            ],
            "label": "Feb-2013",
            "method": "relayout"
           },
           {
            "args": [
             {
              "xaxis": {
               "range": [
                1362096000000,
                1364774400000
               ]
              }
             }
            ],
            "label": "Mar-2013",
            "method": "relayout"
           },
           {
            "args": [
             {
              "xaxis": {
               "range": [
                1364774400000,
                1367366400000
               ]
              }
             }
            ],
            "label": "Apr-2013",
            "method": "relayout"
           },
           {
            "args": [
             {
              "xaxis": {
               "range": [
                1367366400000,
                1370044800000
               ]
              }
             }
            ],
            "label": "May-2013",
            "method": "relayout"
           },
           {
            "args": [
             {
              "xaxis": {
               "range": [
                1370044800000,
                1372636800000
               ]
              }
             }
            ],
            "label": "Jun-2013",
            "method": "relayout"
           },
           {
            "args": [
             {
              "xaxis": {
               "range": [
                1372636800000,
                1375315200000
               ]
              }
             }
            ],
            "label": "Jul-2013",
            "method": "relayout"
           },
           {
            "args": [
             {
              "xaxis": {
               "range": [
                1375315200000,
                1377993600000
               ]
              }
             }
            ],
            "label": "Aug-2013",
            "method": "relayout"
           },
           {
            "args": [
             {
              "xaxis": {
               "range": [
                1377993600000,
                1380585600000
               ]
              }
             }
            ],
            "label": "Sep-2013",
            "method": "relayout"
           },
           {
            "args": [
             {
              "xaxis": {
               "range": [
                1380585600000,
                1383264000000
               ]
              }
             }
            ],
            "label": "Oct-2013",
            "method": "relayout"
           },
           {
            "args": [
             {
              "xaxis": {
               "range": [
                1383264000000,
                1385856000000
               ]
              }
             }
            ],
            "label": "Nov-2013",
            "method": "relayout"
           },
           {
            "args": [
             {
              "xaxis": {
               "range": [
                1385856000000,
                1388534400000
               ]
              }
             }
            ],
            "label": "Dec-2013",
            "method": "relayout"
           },
           {
            "args": [
             {
              "xaxis": {
               "range": [
                1388534400000,
                1391212800000
               ]
              }
             }
            ],
            "label": "Jan-2014",
            "method": "relayout"
           },
           {
            "args": [
             {
              "xaxis": {
               "range": [
                1391212800000,
                1393632000000
               ]
              }
             }
            ],
            "label": "Feb-2014",
            "method": "relayout"
           },
           {
            "args": [
             {
              "xaxis": {
               "range": [
                1393632000000,
                1396310400000
               ]
              }
             }
            ],
            "label": "Mar-2014",
            "method": "relayout"
           },
           {
            "args": [
             {
              "xaxis": {
               "range": [
                1396310400000,
                1398902400000
               ]
              }
             }
            ],
            "label": "Apr-2014",
            "method": "relayout"
           },
           {
            "args": [
             {
              "xaxis": {
               "range": [
                1398902400000,
                1401580800000
               ]
              }
             }
            ],
            "label": "May-2014",
            "method": "relayout"
           },
           {
            "args": [
             {
              "xaxis": {
               "range": [
                1401580800000,
                1404172800000
               ]
              }
             }
            ],
            "label": "Jun-2014",
            "method": "relayout"
           },
           {
            "args": [
             {
              "xaxis": {
               "range": [
                1404172800000,
                1406851200000
               ]
              }
             }
            ],
            "label": "Jul-2014",
            "method": "relayout"
           },
           {
            "args": [
             {
              "xaxis": {
               "range": [
                1406851200000,
                1409529600000
               ]
              }
             }
            ],
            "label": "Aug-2014",
            "method": "relayout"
           },
           {
            "args": [
             {
              "xaxis": {
               "range": [
                1409529600000,
                1412121600000
               ]
              }
             }
            ],
            "label": "Sep-2014",
            "method": "relayout"
           },
           {
            "args": [
             {
              "xaxis": {
               "range": [
                1412121600000,
                1414800000000
               ]
              }
             }
            ],
            "label": "Oct-2014",
            "method": "relayout"
           },
           {
            "args": [
             {
              "xaxis": {
               "range": [
                1414800000000,
                1417392000000
               ]
              }
             }
            ],
            "label": "Nov-2014",
            "method": "relayout"
           },
           {
            "args": [
             {
              "xaxis": {
               "range": [
                1417392000000,
                1420070400000
               ]
              }
             }
            ],
            "label": "Dec-2014",
            "method": "relayout"
           },
           {
            "args": [
             {
              "xaxis": {
               "range": [
                1420070400000,
                1422748800000
               ]
              }
             }
            ],
            "label": "Jan-2015",
            "method": "relayout"
           },
           {
            "args": [
             {
              "xaxis": {
               "range": [
                1422748800000,
                1425168000000
               ]
              }
             }
            ],
            "label": "Feb-2015",
            "method": "relayout"
           },
           {
            "args": [
             {
              "xaxis": {
               "range": [
                1425168000000,
                1427846400000
               ]
              }
             }
            ],
            "label": "Mar-2015",
            "method": "relayout"
           },
           {
            "args": [
             {
              "xaxis": {
               "range": [
                1427846400000,
                1430438400000
               ]
              }
             }
            ],
            "label": "Apr-2015",
            "method": "relayout"
           },
           {
            "args": [
             {
              "xaxis": {
               "range": [
                1430438400000,
                1433116800000
               ]
              }
             }
            ],
            "label": "May-2015",
            "method": "relayout"
           },
           {
            "args": [
             {
              "xaxis": {
               "range": [
                1433116800000,
                1435708800000
               ]
              }
             }
            ],
            "label": "Jun-2015",
            "method": "relayout"
           },
           {
            "args": [
             {
              "xaxis": {
               "range": [
                1435708800000,
                1438387200000
               ]
              }
             }
            ],
            "label": "Jul-2015",
            "method": "relayout"
           },
           {
            "args": [
             {
              "xaxis": {
               "range": [
                1438387200000,
                1441065600000
               ]
              }
             }
            ],
            "label": "Aug-2015",
            "method": "relayout"
           },
           {
            "args": [
             {
              "xaxis": {
               "range": [
                1441065600000,
                1443657600000
               ]
              }
             }
            ],
            "label": "Sep-2015",
            "method": "relayout"
           },
           {
            "args": [
             {
              "xaxis": {
               "range": [
                1443657600000,
                1446336000000
               ]
              }
             }
            ],
            "label": "Oct-2015",
            "method": "relayout"
           },
           {
            "args": [
             {
              "xaxis": {
               "range": [
                1446336000000,
                1448928000000
               ]
              }
             }
            ],
            "label": "Nov-2015",
            "method": "relayout"
           },
           {
            "args": [
             {
              "xaxis": {
               "range": [
                1448928000000,
                1451606400000
               ]
              }
             }
            ],
            "label": "Dec-2015",
            "method": "relayout"
           },
           {
            "args": [
             {
              "xaxis": {
               "range": [
                1451606400000,
                1454284800000
               ]
              }
             }
            ],
            "label": "Jan-2016",
            "method": "relayout"
           },
           {
            "args": [
             {
              "xaxis": {
               "range": [
                1454284800000,
                1456790400000
               ]
              }
             }
            ],
            "label": "Feb-2016",
            "method": "relayout"
           },
           {
            "args": [
             {
              "xaxis": {
               "range": [
                1456790400000,
                1459468800000
               ]
              }
             }
            ],
            "label": "Mar-2016",
            "method": "relayout"
           },
           {
            "args": [
             {
              "xaxis": {
               "range": [
                1459468800000,
                1462060800000
               ]
              }
             }
            ],
            "label": "Apr-2016",
            "method": "relayout"
           },
           {
            "args": [
             {
              "xaxis": {
               "range": [
                1462060800000,
                1464739200000
               ]
              }
             }
            ],
            "label": "May-2016",
            "method": "relayout"
           },
           {
            "args": [
             {
              "xaxis": {
               "range": [
                1464739200000,
                1467331200000
               ]
              }
             }
            ],
            "label": "Jun-2016",
            "method": "relayout"
           },
           {
            "args": [
             {
              "xaxis": {
               "range": [
                1467331200000,
                1470009600000
               ]
              }
             }
            ],
            "label": "Jul-2016",
            "method": "relayout"
           },
           {
            "args": [
             {
              "xaxis": {
               "range": [
                1470009600000,
                1472688000000
               ]
              }
             }
            ],
            "label": "Aug-2016",
            "method": "relayout"
           },
           {
            "args": [
             {
              "xaxis": {
               "range": [
                1472688000000,
                1475280000000
               ]
              }
             }
            ],
            "label": "Sep-2016",
            "method": "relayout"
           },
           {
            "args": [
             {
              "xaxis": {
               "range": [
                1475280000000,
                1477958400000
               ]
              }
             }
            ],
            "label": "Oct-2016",
            "method": "relayout"
           },
           {
            "args": [
             {
              "xaxis": {
               "range": [
                1477958400000,
                1480550400000
               ]
              }
             }
            ],
            "label": "Nov-2016",
            "method": "relayout"
           },
           {
            "args": [
             {
              "xaxis": {
               "range": [
                1480550400000,
                1483228800000
               ]
              }
             }
            ],
            "label": "Dec-2016",
            "method": "relayout"
           },
           {
            "args": [
             {
              "xaxis": {
               "range": [
                1483228800000,
                1485907200000
               ]
              }
             }
            ],
            "label": "Jan-2017",
            "method": "relayout"
           },
           {
            "args": [
             {
              "xaxis": {
               "range": [
                1485907200000,
                1488326400000
               ]
              }
             }
            ],
            "label": "Feb-2017",
            "method": "relayout"
           },
           {
            "args": [
             {
              "xaxis": {
               "range": [
                1488326400000,
                1491004800000
               ]
              }
             }
            ],
            "label": "Mar-2017",
            "method": "relayout"
           },
           {
            "args": [
             {
              "xaxis": {
               "range": [
                1491004800000,
                1493596800000
               ]
              }
             }
            ],
            "label": "Apr-2017",
            "method": "relayout"
           },
           {
            "args": [
             {
              "xaxis": {
               "range": [
                1493596800000,
                1496275200000
               ]
              }
             }
            ],
            "label": "May-2017",
            "method": "relayout"
           },
           {
            "args": [
             {
              "xaxis": {
               "range": [
                1496275200000,
                1498867200000
               ]
              }
             }
            ],
            "label": "Jun-2017",
            "method": "relayout"
           },
           {
            "args": [
             {
              "xaxis": {
               "range": [
                1498867200000,
                1501545600000
               ]
              }
             }
            ],
            "label": "Jul-2017",
            "method": "relayout"
           },
           {
            "args": [
             {
              "xaxis": {
               "range": [
                1501545600000,
                1504224000000
               ]
              }
             }
            ],
            "label": "Aug-2017",
            "method": "relayout"
           },
           {
            "args": [
             {
              "xaxis": {
               "range": [
                1504224000000,
                1506816000000
               ]
              }
             }
            ],
            "label": "Sep-2017",
            "method": "relayout"
           },
           {
            "args": [
             {
              "xaxis": {
               "range": [
                1506816000000,
                1509494400000
               ]
              }
             }
            ],
            "label": "Oct-2017",
            "method": "relayout"
           },
           {
            "args": [
             {
              "xaxis": {
               "range": [
                1509494400000,
                1512086400000
               ]
              }
             }
            ],
            "label": "Nov-2017",
            "method": "relayout"
           },
           {
            "args": [
             {
              "xaxis": {
               "range": [
                1512086400000,
                1514764800000
               ]
              }
             }
            ],
            "label": "Dec-2017",
            "method": "relayout"
           },
           {
            "args": [
             {
              "xaxis": {
               "range": [
                1514764800000,
                1517443200000
               ]
              }
             }
            ],
            "label": "Jan-2018",
            "method": "relayout"
           },
           {
            "args": [
             {
              "xaxis": {
               "range": [
                1517443200000,
                1519862400000
               ]
              }
             }
            ],
            "label": "Feb-2018",
            "method": "relayout"
           },
           {
            "args": [
             {
              "xaxis": {
               "range": [
                1519862400000,
                1522540800000
               ]
              }
             }
            ],
            "label": "Mar-2018",
            "method": "relayout"
           },
           {
            "args": [
             {
              "xaxis": {
               "range": [
                1522540800000,
                1525132800000
               ]
              }
             }
            ],
            "label": "Apr-2018",
            "method": "relayout"
           },
           {
            "args": [
             {
              "xaxis": {
               "range": [
                1525132800000,
                1527811200000
               ]
              }
             }
            ],
            "label": "May-2018",
            "method": "relayout"
           },
           {
            "args": [
             {
              "xaxis": {
               "range": [
                1527811200000,
                1530403200000
               ]
              }
             }
            ],
            "label": "Jun-2018",
            "method": "relayout"
           },
           {
            "args": [
             {
              "xaxis": {
               "range": [
                1530403200000,
                1533081600000
               ]
              }
             }
            ],
            "label": "Jul-2018",
            "method": "relayout"
           },
           {
            "args": [
             {
              "xaxis": {
               "range": [
                1533081600000,
                1535760000000
               ]
              }
             }
            ],
            "label": "Aug-2018",
            "method": "relayout"
           },
           {
            "args": [
             {
              "xaxis": {
               "range": [
                1535760000000,
                1538352000000
               ]
              }
             }
            ],
            "label": "Sep-2018",
            "method": "relayout"
           },
           {
            "args": [
             {
              "xaxis": {
               "range": [
                1538352000000,
                1541030400000
               ]
              }
             }
            ],
            "label": "Oct-2018",
            "method": "relayout"
           },
           {
            "args": [
             {
              "xaxis": {
               "range": [
                1541030400000,
                1543622400000
               ]
              }
             }
            ],
            "label": "Nov-2018",
            "method": "relayout"
           },
           {
            "args": [
             {
              "xaxis": {
               "range": [
                1543622400000,
                1546300800000
               ]
              }
             }
            ],
            "label": "Dec-2018",
            "method": "relayout"
           },
           {
            "args": [
             {
              "xaxis": {
               "range": [
                1546300800000,
                1548979200000
               ]
              }
             }
            ],
            "label": "Jan-2019",
            "method": "relayout"
           },
           {
            "args": [
             {
              "xaxis": {
               "range": [
                1548979200000,
                1551398400000
               ]
              }
             }
            ],
            "label": "Feb-2019",
            "method": "relayout"
           },
           {
            "args": [
             {
              "xaxis": {
               "range": [
                1551398400000,
                1554076800000
               ]
              }
             }
            ],
            "label": "Mar-2019",
            "method": "relayout"
           },
           {
            "args": [
             {
              "xaxis": {
               "range": [
                1554076800000,
                1556668800000
               ]
              }
             }
            ],
            "label": "Apr-2019",
            "method": "relayout"
           },
           {
            "args": [
             {
              "xaxis": {
               "range": [
                1556668800000,
                1559347200000
               ]
              }
             }
            ],
            "label": "May-2019",
            "method": "relayout"
           },
           {
            "args": [
             {
              "xaxis": {
               "range": [
                1559347200000,
                1561939200000
               ]
              }
             }
            ],
            "label": "Jun-2019",
            "method": "relayout"
           },
           {
            "args": [
             {
              "xaxis": {
               "range": [
                1561939200000,
                1564617600000
               ]
              }
             }
            ],
            "label": "Jul-2019",
            "method": "relayout"
           },
           {
            "args": [
             {
              "xaxis": {
               "range": [
                1564617600000,
                1567296000000
               ]
              }
             }
            ],
            "label": "Aug-2019",
            "method": "relayout"
           },
           {
            "args": [
             {
              "xaxis": {
               "range": [
                1567296000000,
                1569888000000
               ]
              }
             }
            ],
            "label": "Sep-2019",
            "method": "relayout"
           },
           {
            "args": [
             {
              "xaxis": {
               "range": [
                1569888000000,
                1572566400000
               ]
              }
             }
            ],
            "label": "Oct-2019",
            "method": "relayout"
           },
           {
            "args": [
             {
              "xaxis": {
               "range": [
                1572566400000,
                1575158400000
               ]
              }
             }
            ],
            "label": "Nov-2019",
            "method": "relayout"
           },
           {
            "args": [
             {
              "xaxis": {
               "range": [
                1575158400000,
                1577836800000
               ]
              }
             }
            ],
            "label": "Dec-2019",
            "method": "relayout"
           },
           {
            "args": [
             {
              "xaxis": {
               "range": [
                1577836800000,
                1580515200000
               ]
              }
             }
            ],
            "label": "Jan-2020",
            "method": "relayout"
           },
           {
            "args": [
             {
              "xaxis": {
               "range": [
                1580515200000,
                1583020800000
               ]
              }
             }
            ],
            "label": "Feb-2020",
            "method": "relayout"
           },
           {
            "args": [
             {
              "xaxis": {
               "range": [
                1583020800000,
                1585699200000
               ]
              }
             }
            ],
            "label": "Mar-2020",
            "method": "relayout"
           },
           {
            "args": [
             {
              "xaxis": {
               "range": [
                1585699200000,
                1588291200000
               ]
              }
             }
            ],
            "label": "Apr-2020",
            "method": "relayout"
           },
           {
            "args": [
             {
              "xaxis": {
               "range": [
                1588291200000,
                1590969600000
               ]
              }
             }
            ],
            "label": "May-2020",
            "method": "relayout"
           },
           {
            "args": [
             {
              "xaxis": {
               "range": [
                1590969600000,
                1593561600000
               ]
              }
             }
            ],
            "label": "Jun-2020",
            "method": "relayout"
           },
           {
            "args": [
             {
              "xaxis": {
               "range": [
                1593561600000,
                1596240000000
               ]
              }
             }
            ],
            "label": "Jul-2020",
            "method": "relayout"
           },
           {
            "args": [
             {
              "xaxis": {
               "range": [
                1596240000000,
                1598918400000
               ]
              }
             }
            ],
            "label": "Aug-2020",
            "method": "relayout"
           },
           {
            "args": [
             {
              "xaxis": {
               "range": [
                1598918400000,
                1601510400000
               ]
              }
             }
            ],
            "label": "Sep-2020",
            "method": "relayout"
           },
           {
            "args": [
             {
              "xaxis": {
               "range": [
                1601510400000,
                1604188800000
               ]
              }
             }
            ],
            "label": "Oct-2020",
            "method": "relayout"
           },
           {
            "args": [
             {
              "xaxis": {
               "range": [
                1604188800000,
                1606780800000
               ]
              }
             }
            ],
            "label": "Nov-2020",
            "method": "relayout"
           },
           {
            "args": [
             {
              "xaxis": {
               "range": [
                1606780800000,
                1609459200000
               ]
              }
             }
            ],
            "label": "Dec-2020",
            "method": "relayout"
           },
           {
            "args": [
             {
              "xaxis": {
               "range": [
                1609459200000,
                1612137600000
               ]
              }
             }
            ],
            "label": "Jan-2021",
            "method": "relayout"
           },
           {
            "args": [
             {
              "xaxis": {
               "range": [
                1612137600000,
                1614556800000
               ]
              }
             }
            ],
            "label": "Feb-2021",
            "method": "relayout"
           },
           {
            "args": [
             {
              "xaxis": {
               "range": [
                1614556800000,
                1617235200000
               ]
              }
             }
            ],
            "label": "Mar-2021",
            "method": "relayout"
           },
           {
            "args": [
             {
              "xaxis": {
               "range": [
                1617235200000,
                1619827200000
               ]
              }
             }
            ],
            "label": "Apr-2021",
            "method": "relayout"
           },
           {
            "args": [
             {
              "xaxis": {
               "range": [
                1619827200000,
                1622505600000
               ]
              }
             }
            ],
            "label": "May-2021",
            "method": "relayout"
           },
           {
            "args": [
             {
              "xaxis": {
               "range": [
                1622505600000,
                1625097600000
               ]
              }
             }
            ],
            "label": "Jun-2021",
            "method": "relayout"
           },
           {
            "args": [
             {
              "xaxis": {
               "range": [
                1625097600000,
                1627776000000
               ]
              }
             }
            ],
            "label": "Jul-2021",
            "method": "relayout"
           },
           {
            "args": [
             {
              "xaxis": {
               "range": [
                1627776000000,
                1630454400000
               ]
              }
             }
            ],
            "label": "Aug-2021",
            "method": "relayout"
           },
           {
            "args": [
             {
              "xaxis": {
               "range": [
                1630454400000,
                1633046400000
               ]
              }
             }
            ],
            "label": "Sep-2021",
            "method": "relayout"
           },
           {
            "args": [
             {
              "xaxis": {
               "range": [
                1633046400000,
                1635724800000
               ]
              }
             }
            ],
            "label": "Oct-2021",
            "method": "relayout"
           },
           {
            "args": [
             {
              "xaxis": {
               "range": [
                1635724800000,
                1638316800000
               ]
              }
             }
            ],
            "label": "Nov-2021",
            "method": "relayout"
           },
           {
            "args": [
             {
              "xaxis": {
               "range": [
                1638316800000,
                1640995200000
               ]
              }
             }
            ],
            "label": "Dec-2021",
            "method": "relayout"
           },
           {
            "args": [
             {
              "xaxis": {
               "range": [
                1640995200000,
                1643673600000
               ]
              }
             }
            ],
            "label": "Jan-2022",
            "method": "relayout"
           },
           {
            "args": [
             {
              "xaxis": {
               "range": [
                1643673600000,
                1646092800000
               ]
              }
             }
            ],
            "label": "Feb-2022",
            "method": "relayout"
           },
           {
            "args": [
             {
              "xaxis": {
               "range": [
                1646092800000,
                1648771200000
               ]
              }
             }
            ],
            "label": "Mar-2022",
            "method": "relayout"
           },
           {
            "args": [
             {
              "xaxis": {
               "range": [
                1648771200000,
                1651363200000
               ]
              }
             }
            ],
            "label": "Apr-2022",
            "method": "relayout"
           },
           {
            "args": [
             {
              "xaxis": {
               "range": [
                1651363200000,
                1654041600000
               ]
              }
             }
            ],
            "label": "May-2022",
            "method": "relayout"
           },
           {
            "args": [
             {
              "xaxis": {
               "range": [
                1654041600000,
                1656633600000
               ]
              }
             }
            ],
            "label": "Jun-2022",
            "method": "relayout"
           },
           {
            "args": [
             {
              "xaxis": {
               "range": [
                1656633600000,
                1659312000000
               ]
              }
             }
            ],
            "label": "Jul-2022",
            "method": "relayout"
           },
           {
            "args": [
             {
              "xaxis": {
               "range": [
                1659312000000,
                1661990400000
               ]
              }
             }
            ],
            "label": "Aug-2022",
            "method": "relayout"
           },
           {
            "args": [
             {
              "xaxis": {
               "range": [
                1661990400000,
                1664582400000
               ]
              }
             }
            ],
            "label": "Sep-2022",
            "method": "relayout"
           },
           {
            "args": [
             {
              "xaxis": {
               "range": [
                1664582400000,
                1667260800000
               ]
              }
             }
            ],
            "label": "Oct-2022",
            "method": "relayout"
           },
           {
            "args": [
             {
              "xaxis": {
               "range": [
                1667260800000,
                1669852800000
               ]
              }
             }
            ],
            "label": "Nov-2022",
            "method": "relayout"
           },
           {
            "args": [
             {
              "xaxis": {
               "range": [
                1669852800000,
                1672531200000
               ]
              }
             }
            ],
            "label": "Dec-2022",
            "method": "relayout"
           },
           {
            "args": [
             {
              "xaxis": {
               "range": [
                1672531200000,
                1675209600000
               ]
              }
             }
            ],
            "label": "Jan-2023",
            "method": "relayout"
           },
           {
            "args": [
             {
              "xaxis": {
               "range": [
                1675209600000,
                1677628800000
               ]
              }
             }
            ],
            "label": "Feb-2023",
            "method": "relayout"
           },
           {
            "args": [
             {
              "xaxis": {
               "range": [
                1677628800000,
                1680307200000
               ]
              }
             }
            ],
            "label": "Mar-2023",
            "method": "relayout"
           },
           {
            "args": [
             {
              "xaxis": {
               "range": [
                1680307200000,
                1682899200000
               ]
              }
             }
            ],
            "label": "Apr-2023",
            "method": "relayout"
           },
           {
            "args": [
             {
              "xaxis": {
               "range": [
                1682899200000,
                1682985600000
               ]
              }
             }
            ],
            "label": "May-2023",
            "method": "relayout"
           }
          ]
         },
         {
          "buttons": [
           {
            "args": [
             {
              "xaxis": {
               "range": []
              }
             }
            ],
            "label": "All data",
            "method": "relayout"
           }
          ],
          "type": "buttons",
          "y": 0.8
         }
        ],
        "xaxis": {
         "anchor": "y",
         "domain": [
          0,
          1
         ],
         "title": {
          "text": "date"
         }
        },
        "yaxis": {
         "anchor": "x",
         "domain": [
          0,
          1
         ],
         "title": {
          "text": "Count"
         }
        }
       }
      },
      "text/html": [
       "<div>                            <div id=\"8fd02d31-43e8-4ede-a4d2-b9e8130020cc\" class=\"plotly-graph-div\" style=\"height:525px; width:100%;\"></div>            <script type=\"text/javascript\">                require([\"plotly\"], function(Plotly) {                    window.PLOTLYENV=window.PLOTLYENV || {};                                    if (document.getElementById(\"8fd02d31-43e8-4ede-a4d2-b9e8130020cc\")) {                    Plotly.newPlot(                        \"8fd02d31-43e8-4ede-a4d2-b9e8130020cc\",                        [{\"alignmentgroup\": \"True\", \"hovertemplate\": \"Month=2008-11<br>date=%{x}<br>Count=%{y}<extra></extra>\", \"legendgroup\": \"2008-11\", \"marker\": {\"color\": \"#EF553B\"}, \"name\": \"2008-11\", \"offsetgroup\": \"2008-11\", \"orientation\": \"v\", \"showlegend\": true, \"textposition\": \"auto\", \"type\": \"bar\", \"x\": [\"2008-11-07T00:00:00\", \"2008-11-10T00:00:00\", \"2008-11-11T00:00:00\", \"2008-11-14T00:00:00\", \"2008-11-17T00:00:00\", \"2008-11-19T00:00:00\", \"2008-11-20T00:00:00\", \"2008-11-25T00:00:00\", \"2008-11-28T00:00:00\"], \"xaxis\": \"x\", \"y\": [1, 8, 2, 3, 2, 2, 1, 4, 1], \"yaxis\": \"y\"}, {\"alignmentgroup\": \"True\", \"hovertemplate\": \"Month=2008-12<br>date=%{x}<br>Count=%{y}<extra></extra>\", \"legendgroup\": \"2008-12\", \"marker\": {\"color\": \"#00cc96\"}, \"name\": \"2008-12\", \"offsetgroup\": \"2008-12\", \"orientation\": \"v\", \"showlegend\": true, \"textposition\": \"auto\", \"type\": \"bar\", \"x\": [\"2008-12-05T00:00:00\", \"2008-12-08T00:00:00\", \"2008-12-09T00:00:00\", \"2008-12-22T00:00:00\", \"2008-12-26T00:00:00\"], \"xaxis\": \"x\", \"y\": [3, 13, 1, 3, 2], \"yaxis\": \"y\"}, {\"alignmentgroup\": \"True\", \"hovertemplate\": \"Month=2009-01<br>date=%{x}<br>Count=%{y}<extra></extra>\", \"legendgroup\": \"2009-01\", \"marker\": {\"color\": \"#ab63fa\"}, \"name\": \"2009-01\", \"offsetgroup\": \"2009-01\", \"orientation\": \"v\", \"showlegend\": true, \"textposition\": \"auto\", \"type\": \"bar\", \"x\": [\"2009-01-11T00:00:00\", \"2009-01-12T00:00:00\", \"2009-01-13T00:00:00\", \"2009-01-20T00:00:00\", \"2009-01-22T00:00:00\", \"2009-01-23T00:00:00\", \"2009-01-24T00:00:00\", \"2009-01-26T00:00:00\", \"2009-01-27T00:00:00\"], \"xaxis\": \"x\", \"y\": [1, 1, 7, 1, 6, 4, 2, 24, 8], \"yaxis\": \"y\"}, {\"alignmentgroup\": \"True\", \"hovertemplate\": \"Month=2009-02<br>date=%{x}<br>Count=%{y}<extra></extra>\", \"legendgroup\": \"2009-02\", \"marker\": {\"color\": \"#FFA15A\"}, \"name\": \"2009-02\", \"offsetgroup\": \"2009-02\", \"orientation\": \"v\", \"showlegend\": true, \"textposition\": \"auto\", \"type\": \"bar\", \"x\": [\"2009-02-03T00:00:00\", \"2009-02-05T00:00:00\", \"2009-02-09T00:00:00\", \"2009-02-17T00:00:00\", \"2009-02-18T00:00:00\", \"2009-02-19T00:00:00\", \"2009-02-26T00:00:00\", \"2009-02-27T00:00:00\"], \"xaxis\": \"x\", \"y\": [1, 2, 7, 1, 2, 1, 2, 1], \"yaxis\": \"y\"}, {\"alignmentgroup\": \"True\", \"hovertemplate\": \"Month=2009-03<br>date=%{x}<br>Count=%{y}<extra></extra>\", \"legendgroup\": \"2009-03\", \"marker\": {\"color\": \"#19d3f3\"}, \"name\": \"2009-03\", \"offsetgroup\": \"2009-03\", \"orientation\": \"v\", \"showlegend\": true, \"textposition\": \"auto\", \"type\": \"bar\", \"x\": [\"2009-03-02T00:00:00\", \"2009-03-03T00:00:00\", \"2009-03-04T00:00:00\", \"2009-03-05T00:00:00\", \"2009-03-09T00:00:00\", \"2009-03-11T00:00:00\", \"2009-03-18T00:00:00\", \"2009-03-25T00:00:00\", \"2009-03-26T00:00:00\", \"2009-03-30T00:00:00\", \"2009-03-31T00:00:00\"], \"xaxis\": \"x\", \"y\": [3, 1, 2, 2, 17, 1, 8, 8, 1, 3, 2], \"yaxis\": \"y\"}, {\"alignmentgroup\": \"True\", \"hovertemplate\": \"Month=2009-04<br>date=%{x}<br>Count=%{y}<extra></extra>\", \"legendgroup\": \"2009-04\", \"marker\": {\"color\": \"#FF6692\"}, \"name\": \"2009-04\", \"offsetgroup\": \"2009-04\", \"orientation\": \"v\", \"showlegend\": true, \"textposition\": \"auto\", \"type\": \"bar\", \"x\": [\"2009-04-13T00:00:00\", \"2009-04-16T00:00:00\", \"2009-04-20T00:00:00\", \"2009-04-21T00:00:00\", \"2009-04-22T00:00:00\", \"2009-04-23T00:00:00\", \"2009-04-24T00:00:00\", \"2009-04-27T00:00:00\", \"2009-04-28T00:00:00\", \"2009-04-29T00:00:00\", \"2009-04-30T00:00:00\"], \"xaxis\": \"x\", \"y\": [5, 3, 2, 1, 22, 4, 1, 3, 2, 1, 2], \"yaxis\": \"y\"}, {\"alignmentgroup\": \"True\", \"hovertemplate\": \"Month=2009-05<br>date=%{x}<br>Count=%{y}<extra></extra>\", \"legendgroup\": \"2009-05\", \"marker\": {\"color\": \"#B6E880\"}, \"name\": \"2009-05\", \"offsetgroup\": \"2009-05\", \"orientation\": \"v\", \"showlegend\": true, \"textposition\": \"auto\", \"type\": \"bar\", \"x\": [\"2009-05-05T00:00:00\", \"2009-05-06T00:00:00\", \"2009-05-08T00:00:00\", \"2009-05-11T00:00:00\", \"2009-05-13T00:00:00\", \"2009-05-14T00:00:00\", \"2009-05-18T00:00:00\", \"2009-05-21T00:00:00\", \"2009-05-22T00:00:00\", \"2009-05-27T00:00:00\"], \"xaxis\": \"x\", \"y\": [2, 2, 5, 2, 1, 1, 1, 4, 2, 10], \"yaxis\": \"y\"}, {\"alignmentgroup\": \"True\", \"hovertemplate\": \"Month=2009-06<br>date=%{x}<br>Count=%{y}<extra></extra>\", \"legendgroup\": \"2009-06\", \"marker\": {\"color\": \"#FF97FF\"}, \"name\": \"2009-06\", \"offsetgroup\": \"2009-06\", \"orientation\": \"v\", \"showlegend\": true, \"textposition\": \"auto\", \"type\": \"bar\", \"x\": [\"2009-06-03T00:00:00\", \"2009-06-04T00:00:00\", \"2009-06-08T00:00:00\", \"2009-06-10T00:00:00\", \"2009-06-11T00:00:00\", \"2009-06-14T00:00:00\", \"2009-06-17T00:00:00\", \"2009-06-18T00:00:00\", \"2009-06-19T00:00:00\", \"2009-06-29T00:00:00\"], \"xaxis\": \"x\", \"y\": [8, 3, 23, 3, 1, 1, 2, 1, 2, 2], \"yaxis\": \"y\"}, {\"alignmentgroup\": \"True\", \"hovertemplate\": \"Month=2009-07<br>date=%{x}<br>Count=%{y}<extra></extra>\", \"legendgroup\": \"2009-07\", \"marker\": {\"color\": \"#FECB52\"}, \"name\": \"2009-07\", \"offsetgroup\": \"2009-07\", \"orientation\": \"v\", \"showlegend\": true, \"textposition\": \"auto\", \"type\": \"bar\", \"x\": [\"2009-07-01T00:00:00\", \"2009-07-08T00:00:00\", \"2009-07-09T00:00:00\", \"2009-07-10T00:00:00\", \"2009-07-12T00:00:00\", \"2009-07-13T00:00:00\", \"2009-07-16T00:00:00\", \"2009-07-17T00:00:00\", \"2009-07-23T00:00:00\", \"2009-07-24T00:00:00\", \"2009-07-30T00:00:00\"], \"xaxis\": \"x\", \"y\": [4, 4, 1, 3, 1, 2, 1, 1, 33, 9, 2], \"yaxis\": \"y\"}, {\"alignmentgroup\": \"True\", \"hovertemplate\": \"Month=2009-08<br>date=%{x}<br>Count=%{y}<extra></extra>\", \"legendgroup\": \"2009-08\", \"marker\": {\"color\": \"#636efa\"}, \"name\": \"2009-08\", \"offsetgroup\": \"2009-08\", \"orientation\": \"v\", \"showlegend\": true, \"textposition\": \"auto\", \"type\": \"bar\", \"x\": [\"2009-08-10T00:00:00\", \"2009-08-13T00:00:00\", \"2009-08-17T00:00:00\", \"2009-08-20T00:00:00\"], \"xaxis\": \"x\", \"y\": [9, 1, 1, 1], \"yaxis\": \"y\"}, {\"alignmentgroup\": \"True\", \"hovertemplate\": \"Month=2009-09<br>date=%{x}<br>Count=%{y}<extra></extra>\", \"legendgroup\": \"2009-09\", \"marker\": {\"color\": \"#EF553B\"}, \"name\": \"2009-09\", \"offsetgroup\": \"2009-09\", \"orientation\": \"v\", \"showlegend\": true, \"textposition\": \"auto\", \"type\": \"bar\", \"x\": [\"2009-09-03T00:00:00\", \"2009-09-08T00:00:00\", \"2009-09-09T00:00:00\", \"2009-09-17T00:00:00\", \"2009-09-22T00:00:00\", \"2009-09-24T00:00:00\", \"2009-09-28T00:00:00\", \"2009-09-30T00:00:00\"], \"xaxis\": \"x\", \"y\": [2, 4, 8, 1, 1, 5, 5, 1], \"yaxis\": \"y\"}, {\"alignmentgroup\": \"True\", \"hovertemplate\": \"Month=2009-10<br>date=%{x}<br>Count=%{y}<extra></extra>\", \"legendgroup\": \"2009-10\", \"marker\": {\"color\": \"#00cc96\"}, \"name\": \"2009-10\", \"offsetgroup\": \"2009-10\", \"orientation\": \"v\", \"showlegend\": true, \"textposition\": \"auto\", \"type\": \"bar\", \"x\": [\"2009-10-01T00:00:00\", \"2009-10-02T00:00:00\", \"2009-10-05T00:00:00\", \"2009-10-08T00:00:00\", \"2009-10-20T00:00:00\", \"2009-10-22T00:00:00\", \"2009-10-26T00:00:00\", \"2009-10-27T00:00:00\", \"2009-10-29T00:00:00\"], \"xaxis\": \"x\", \"y\": [1, 5, 2, 1, 3, 12, 2, 4, 1], \"yaxis\": \"y\"}, {\"alignmentgroup\": \"True\", \"hovertemplate\": \"Month=2009-11<br>date=%{x}<br>Count=%{y}<extra></extra>\", \"legendgroup\": \"2009-11\", \"marker\": {\"color\": \"#ab63fa\"}, \"name\": \"2009-11\", \"offsetgroup\": \"2009-11\", \"orientation\": \"v\", \"showlegend\": true, \"textposition\": \"auto\", \"type\": \"bar\", \"x\": [\"2009-11-06T00:00:00\", \"2009-11-07T00:00:00\", \"2009-11-09T00:00:00\", \"2009-11-10T00:00:00\", \"2009-11-12T00:00:00\", \"2009-11-13T00:00:00\", \"2009-11-16T00:00:00\", \"2009-11-27T00:00:00\"], \"xaxis\": \"x\", \"y\": [2, 1, 7, 1, 43, 1, 2, 2], \"yaxis\": \"y\"}, {\"alignmentgroup\": \"True\", \"hovertemplate\": \"Month=2009-12<br>date=%{x}<br>Count=%{y}<extra></extra>\", \"legendgroup\": \"2009-12\", \"marker\": {\"color\": \"#FFA15A\"}, \"name\": \"2009-12\", \"offsetgroup\": \"2009-12\", \"orientation\": \"v\", \"showlegend\": true, \"textposition\": \"auto\", \"type\": \"bar\", \"x\": [\"2009-12-01T00:00:00\", \"2009-12-02T00:00:00\", \"2009-12-08T00:00:00\", \"2009-12-09T00:00:00\", \"2009-12-10T00:00:00\", \"2009-12-15T00:00:00\", \"2009-12-23T00:00:00\"], \"xaxis\": \"x\", \"y\": [6, 6, 12, 1, 8, 1, 2], \"yaxis\": \"y\"}, {\"alignmentgroup\": \"True\", \"hovertemplate\": \"Month=2010-01<br>date=%{x}<br>Count=%{y}<extra></extra>\", \"legendgroup\": \"2010-01\", \"marker\": {\"color\": \"#19d3f3\"}, \"name\": \"2010-01\", \"offsetgroup\": \"2010-01\", \"orientation\": \"v\", \"showlegend\": true, \"textposition\": \"auto\", \"type\": \"bar\", \"x\": [\"2010-01-11T00:00:00\", \"2010-01-13T00:00:00\", \"2010-01-14T00:00:00\", \"2010-01-22T00:00:00\", \"2010-01-26T00:00:00\", \"2010-01-28T00:00:00\"], \"xaxis\": \"x\", \"y\": [7, 1, 2, 23, 2, 4], \"yaxis\": \"y\"}, {\"alignmentgroup\": \"True\", \"hovertemplate\": \"Month=2010-02<br>date=%{x}<br>Count=%{y}<extra></extra>\", \"legendgroup\": \"2010-02\", \"marker\": {\"color\": \"#FF6692\"}, \"name\": \"2010-02\", \"offsetgroup\": \"2010-02\", \"orientation\": \"v\", \"showlegend\": true, \"textposition\": \"auto\", \"type\": \"bar\", \"x\": [\"2010-02-01T00:00:00\", \"2010-02-02T00:00:00\", \"2010-02-04T00:00:00\", \"2010-02-09T00:00:00\", \"2010-02-16T00:00:00\", \"2010-02-18T00:00:00\", \"2010-02-25T00:00:00\"], \"xaxis\": \"x\", \"y\": [1, 4, 1, 11, 3, 1, 2], \"yaxis\": \"y\"}, {\"alignmentgroup\": \"True\", \"hovertemplate\": \"Month=2010-03<br>date=%{x}<br>Count=%{y}<extra></extra>\", \"legendgroup\": \"2010-03\", \"marker\": {\"color\": \"#B6E880\"}, \"name\": \"2010-03\", \"offsetgroup\": \"2010-03\", \"orientation\": \"v\", \"showlegend\": true, \"textposition\": \"auto\", \"type\": \"bar\", \"x\": [\"2010-03-08T00:00:00\", \"2010-03-09T00:00:00\", \"2010-03-22T00:00:00\", \"2010-03-23T00:00:00\", \"2010-03-24T00:00:00\", \"2010-03-25T00:00:00\", \"2010-03-29T00:00:00\", \"2010-03-30T00:00:00\"], \"xaxis\": \"x\", \"y\": [10, 1, 1, 14, 4, 1, 5, 1], \"yaxis\": \"y\"}, {\"alignmentgroup\": \"True\", \"hovertemplate\": \"Month=2010-04<br>date=%{x}<br>Count=%{y}<extra></extra>\", \"legendgroup\": \"2010-04\", \"marker\": {\"color\": \"#FF97FF\"}, \"name\": \"2010-04\", \"offsetgroup\": \"2010-04\", \"orientation\": \"v\", \"showlegend\": true, \"textposition\": \"auto\", \"type\": \"bar\", \"x\": [\"2010-04-09T00:00:00\", \"2010-04-11T00:00:00\", \"2010-04-15T00:00:00\", \"2010-04-21T00:00:00\", \"2010-04-27T00:00:00\", \"2010-04-28T00:00:00\"], \"xaxis\": \"x\", \"y\": [2, 1, 3, 23, 1, 1], \"yaxis\": \"y\"}, {\"alignmentgroup\": \"True\", \"hovertemplate\": \"Month=2010-05<br>date=%{x}<br>Count=%{y}<extra></extra>\", \"legendgroup\": \"2010-05\", \"marker\": {\"color\": \"#FECB52\"}, \"name\": \"2010-05\", \"offsetgroup\": \"2010-05\", \"orientation\": \"v\", \"showlegend\": true, \"textposition\": \"auto\", \"type\": \"bar\", \"x\": [\"2010-05-02T00:00:00\", \"2010-05-03T00:00:00\", \"2010-05-06T00:00:00\", \"2010-05-07T00:00:00\", \"2010-05-10T00:00:00\", \"2010-05-13T00:00:00\", \"2010-05-17T00:00:00\", \"2010-05-20T00:00:00\", \"2010-05-24T00:00:00\", \"2010-05-26T00:00:00\", \"2010-05-27T00:00:00\"], \"xaxis\": \"x\", \"y\": [1, 1, 2, 1, 6, 2, 1, 1, 3, 4, 2], \"yaxis\": \"y\"}, {\"alignmentgroup\": \"True\", \"hovertemplate\": \"Month=2010-06<br>date=%{x}<br>Count=%{y}<extra></extra>\", \"legendgroup\": \"2010-06\", \"marker\": {\"color\": \"#636efa\"}, \"name\": \"2010-06\", \"offsetgroup\": \"2010-06\", \"orientation\": \"v\", \"showlegend\": true, \"textposition\": \"auto\", \"type\": \"bar\", \"x\": [\"2010-06-02T00:00:00\", \"2010-06-04T00:00:00\", \"2010-06-08T00:00:00\", \"2010-06-10T00:00:00\", \"2010-06-27T00:00:00\", \"2010-06-28T00:00:00\"], \"xaxis\": \"x\", \"y\": [4, 9, 10, 1, 1, 3], \"yaxis\": \"y\"}, {\"alignmentgroup\": \"True\", \"hovertemplate\": \"Month=2010-07<br>date=%{x}<br>Count=%{y}<extra></extra>\", \"legendgroup\": \"2010-07\", \"marker\": {\"color\": \"#EF553B\"}, \"name\": \"2010-07\", \"offsetgroup\": \"2010-07\", \"orientation\": \"v\", \"showlegend\": true, \"textposition\": \"auto\", \"type\": \"bar\", \"x\": [\"2010-07-01T00:00:00\", \"2010-07-05T00:00:00\", \"2010-07-06T00:00:00\", \"2010-07-07T00:00:00\", \"2010-07-08T00:00:00\", \"2010-07-13T00:00:00\", \"2010-07-16T00:00:00\", \"2010-07-23T00:00:00\", \"2010-07-28T00:00:00\"], \"xaxis\": \"x\", \"y\": [2, 3, 2, 1, 1, 1, 2, 25, 5], \"yaxis\": \"y\"}, {\"alignmentgroup\": \"True\", \"hovertemplate\": \"Month=2010-08<br>date=%{x}<br>Count=%{y}<extra></extra>\", \"legendgroup\": \"2010-08\", \"marker\": {\"color\": \"#00cc96\"}, \"name\": \"2010-08\", \"offsetgroup\": \"2010-08\", \"orientation\": \"v\", \"showlegend\": true, \"textposition\": \"auto\", \"type\": \"bar\", \"x\": [\"2010-08-09T00:00:00\", \"2010-08-18T00:00:00\", \"2010-08-19T00:00:00\", \"2010-08-24T00:00:00\", \"2010-08-25T00:00:00\", \"2010-08-30T00:00:00\", \"2010-08-31T00:00:00\"], \"xaxis\": \"x\", \"y\": [9, 1, 5, 5, 1, 2, 3], \"yaxis\": \"y\"}, {\"alignmentgroup\": \"True\", \"hovertemplate\": \"Month=2010-09<br>date=%{x}<br>Count=%{y}<extra></extra>\", \"legendgroup\": \"2010-09\", \"marker\": {\"color\": \"#ab63fa\"}, \"name\": \"2010-09\", \"offsetgroup\": \"2010-09\", \"orientation\": \"v\", \"showlegend\": true, \"textposition\": \"auto\", \"type\": \"bar\", \"x\": [\"2010-09-09T00:00:00\", \"2010-09-10T00:00:00\", \"2010-09-14T00:00:00\", \"2010-09-17T00:00:00\", \"2010-09-20T00:00:00\", \"2010-09-23T00:00:00\", \"2010-09-29T00:00:00\", \"2010-09-30T00:00:00\"], \"xaxis\": \"x\", \"y\": [15, 3, 1, 1, 1, 5, 3, 13], \"yaxis\": \"y\"}, {\"alignmentgroup\": \"True\", \"hovertemplate\": \"Month=2010-10<br>date=%{x}<br>Count=%{y}<extra></extra>\", \"legendgroup\": \"2010-10\", \"marker\": {\"color\": \"#FFA15A\"}, \"name\": \"2010-10\", \"offsetgroup\": \"2010-10\", \"orientation\": \"v\", \"showlegend\": true, \"textposition\": \"auto\", \"type\": \"bar\", \"x\": [\"2010-10-08T00:00:00\", \"2010-10-10T00:00:00\", \"2010-10-11T00:00:00\", \"2010-10-12T00:00:00\", \"2010-10-19T00:00:00\", \"2010-10-21T00:00:00\", \"2010-10-27T00:00:00\", \"2010-10-29T00:00:00\"], \"xaxis\": \"x\", \"y\": [1, 1, 1, 1, 6, 26, 5, 1], \"yaxis\": \"y\"}, {\"alignmentgroup\": \"True\", \"hovertemplate\": \"Month=2010-11<br>date=%{x}<br>Count=%{y}<extra></extra>\", \"legendgroup\": \"2010-11\", \"marker\": {\"color\": \"#19d3f3\"}, \"name\": \"2010-11\", \"offsetgroup\": \"2010-11\", \"orientation\": \"v\", \"showlegend\": true, \"textposition\": \"auto\", \"type\": \"bar\", \"x\": [\"2010-11-01T00:00:00\", \"2010-11-03T00:00:00\", \"2010-11-05T00:00:00\", \"2010-11-08T00:00:00\", \"2010-11-09T00:00:00\", \"2010-11-11T00:00:00\", \"2010-11-12T00:00:00\", \"2010-11-17T00:00:00\", \"2010-11-29T00:00:00\"], \"xaxis\": \"x\", \"y\": [1, 6, 11, 8, 3, 1, 1, 8, 2], \"yaxis\": \"y\"}, {\"alignmentgroup\": \"True\", \"hovertemplate\": \"Month=2010-12<br>date=%{x}<br>Count=%{y}<extra></extra>\", \"legendgroup\": \"2010-12\", \"marker\": {\"color\": \"#FF6692\"}, \"name\": \"2010-12\", \"offsetgroup\": \"2010-12\", \"orientation\": \"v\", \"showlegend\": true, \"textposition\": \"auto\", \"type\": \"bar\", \"x\": [\"2010-12-03T00:00:00\", \"2010-12-06T00:00:00\", \"2010-12-08T00:00:00\", \"2010-12-09T00:00:00\", \"2010-12-13T00:00:00\", \"2010-12-15T00:00:00\", \"2010-12-16T00:00:00\", \"2010-12-17T00:00:00\", \"2010-12-20T00:00:00\", \"2010-12-28T00:00:00\", \"2010-12-29T00:00:00\", \"2010-12-31T00:00:00\"], \"xaxis\": \"x\", \"y\": [4, 1, 10, 1, 2, 8, 1, 3, 1, 1, 1, 1], \"yaxis\": \"y\"}, {\"alignmentgroup\": \"True\", \"hovertemplate\": \"Month=2011-01<br>date=%{x}<br>Count=%{y}<extra></extra>\", \"legendgroup\": \"2011-01\", \"marker\": {\"color\": \"#B6E880\"}, \"name\": \"2011-01\", \"offsetgroup\": \"2011-01\", \"orientation\": \"v\", \"showlegend\": true, \"textposition\": \"auto\", \"type\": \"bar\", \"x\": [\"2011-01-05T00:00:00\", \"2011-01-12T00:00:00\", \"2011-01-19T00:00:00\", \"2011-01-24T00:00:00\", \"2011-01-25T00:00:00\", \"2011-01-26T00:00:00\"], \"xaxis\": \"x\", \"y\": [1, 1, 1, 60, 1, 1], \"yaxis\": \"y\"}, {\"alignmentgroup\": \"True\", \"hovertemplate\": \"Month=2011-02<br>date=%{x}<br>Count=%{y}<extra></extra>\", \"legendgroup\": \"2011-02\", \"marker\": {\"color\": \"#FF97FF\"}, \"name\": \"2011-02\", \"offsetgroup\": \"2011-02\", \"orientation\": \"v\", \"showlegend\": true, \"textposition\": \"auto\", \"type\": \"bar\", \"x\": [\"2011-02-01T00:00:00\", \"2011-02-06T00:00:00\", \"2011-02-08T00:00:00\", \"2011-02-21T00:00:00\", \"2011-02-23T00:00:00\", \"2011-02-25T00:00:00\", \"2011-02-27T00:00:00\", \"2011-02-28T00:00:00\"], \"xaxis\": \"x\", \"y\": [1, 1, 13, 2, 2, 1, 3, 2], \"yaxis\": \"y\"}, {\"alignmentgroup\": \"True\", \"hovertemplate\": \"Month=2011-03<br>date=%{x}<br>Count=%{y}<extra></extra>\", \"legendgroup\": \"2011-03\", \"marker\": {\"color\": \"#FECB52\"}, \"name\": \"2011-03\", \"offsetgroup\": \"2011-03\", \"orientation\": \"v\", \"showlegend\": true, \"textposition\": \"auto\", \"type\": \"bar\", \"x\": [\"2011-03-02T00:00:00\", \"2011-03-03T00:00:00\", \"2011-03-07T00:00:00\", \"2011-03-08T00:00:00\", \"2011-03-11T00:00:00\", \"2011-03-17T00:00:00\", \"2011-03-23T00:00:00\", \"2011-03-30T00:00:00\"], \"xaxis\": \"x\", \"y\": [2, 2, 1, 13, 1, 7, 1, 2], \"yaxis\": \"y\"}, {\"alignmentgroup\": \"True\", \"hovertemplate\": \"Month=2011-04<br>date=%{x}<br>Count=%{y}<extra></extra>\", \"legendgroup\": \"2011-04\", \"marker\": {\"color\": \"#636efa\"}, \"name\": \"2011-04\", \"offsetgroup\": \"2011-04\", \"orientation\": \"v\", \"showlegend\": true, \"textposition\": \"auto\", \"type\": \"bar\", \"x\": [\"2011-04-04T00:00:00\", \"2011-04-05T00:00:00\", \"2011-04-06T00:00:00\", \"2011-04-07T00:00:00\", \"2011-04-08T00:00:00\", \"2011-04-11T00:00:00\", \"2011-04-13T00:00:00\", \"2011-04-15T00:00:00\", \"2011-04-19T00:00:00\", \"2011-04-20T00:00:00\", \"2011-04-21T00:00:00\", \"2011-04-22T00:00:00\", \"2011-04-26T00:00:00\", \"2011-04-27T00:00:00\", \"2011-04-28T00:00:00\", \"2011-04-29T00:00:00\"], \"xaxis\": \"x\", \"y\": [4, 1, 5, 3, 3, 1, 3, 2, 1, 1, 54, 1, 1, 1, 2, 2], \"yaxis\": \"y\"}, {\"alignmentgroup\": \"True\", \"hovertemplate\": \"Month=2011-05<br>date=%{x}<br>Count=%{y}<extra></extra>\", \"legendgroup\": \"2011-05\", \"marker\": {\"color\": \"#EF553B\"}, \"name\": \"2011-05\", \"offsetgroup\": \"2011-05\", \"orientation\": \"v\", \"showlegend\": true, \"textposition\": \"auto\", \"type\": \"bar\", \"x\": [\"2011-05-02T00:00:00\", \"2011-05-05T00:00:00\", \"2011-05-06T00:00:00\", \"2011-05-09T00:00:00\", \"2011-05-10T00:00:00\", \"2011-05-11T00:00:00\", \"2011-05-16T00:00:00\", \"2011-05-17T00:00:00\", \"2011-05-18T00:00:00\", \"2011-05-19T00:00:00\", \"2011-05-20T00:00:00\", \"2011-05-23T00:00:00\", \"2011-05-24T00:00:00\", \"2011-05-25T00:00:00\", \"2011-05-26T00:00:00\", \"2011-05-27T00:00:00\", \"2011-05-31T00:00:00\"], \"xaxis\": \"x\", \"y\": [1, 5, 3, 10, 1, 1, 1, 2, 1, 1, 2, 1, 1, 1, 1, 2, 1], \"yaxis\": \"y\"}, {\"alignmentgroup\": \"True\", \"hovertemplate\": \"Month=2011-06<br>date=%{x}<br>Count=%{y}<extra></extra>\", \"legendgroup\": \"2011-06\", \"marker\": {\"color\": \"#00cc96\"}, \"name\": \"2011-06\", \"offsetgroup\": \"2011-06\", \"orientation\": \"v\", \"showlegend\": true, \"textposition\": \"auto\", \"type\": \"bar\", \"x\": [\"2011-06-01T00:00:00\", \"2011-06-07T00:00:00\", \"2011-06-08T00:00:00\", \"2011-06-09T00:00:00\", \"2011-06-10T00:00:00\", \"2011-06-13T00:00:00\", \"2011-06-14T00:00:00\", \"2011-06-16T00:00:00\", \"2011-06-21T00:00:00\", \"2011-06-22T00:00:00\", \"2011-06-23T00:00:00\", \"2011-06-24T00:00:00\", \"2011-06-27T00:00:00\", \"2011-06-28T00:00:00\", \"2011-06-29T00:00:00\", \"2011-06-30T00:00:00\"], \"xaxis\": \"x\", \"y\": [1, 1, 8, 1, 2, 5, 9, 1, 1, 1, 2, 2, 1, 1, 4, 7], \"yaxis\": \"y\"}, {\"alignmentgroup\": \"True\", \"hovertemplate\": \"Month=2011-07<br>date=%{x}<br>Count=%{y}<extra></extra>\", \"legendgroup\": \"2011-07\", \"marker\": {\"color\": \"#ab63fa\"}, \"name\": \"2011-07\", \"offsetgroup\": \"2011-07\", \"orientation\": \"v\", \"showlegend\": true, \"textposition\": \"auto\", \"type\": \"bar\", \"x\": [\"2011-07-01T00:00:00\", \"2011-07-03T00:00:00\", \"2011-07-05T00:00:00\", \"2011-07-08T00:00:00\", \"2011-07-12T00:00:00\", \"2011-07-13T00:00:00\", \"2011-07-14T00:00:00\", \"2011-07-15T00:00:00\", \"2011-07-19T00:00:00\", \"2011-07-20T00:00:00\", \"2011-07-21T00:00:00\", \"2011-07-22T00:00:00\", \"2011-07-25T00:00:00\", \"2011-07-26T00:00:00\", \"2011-07-27T00:00:00\", \"2011-07-28T00:00:00\", \"2011-07-29T00:00:00\"], \"xaxis\": \"x\", \"y\": [1, 2, 1, 1, 2, 2, 1, 2, 1, 1, 1, 30, 1, 2, 1, 1, 2], \"yaxis\": \"y\"}, {\"alignmentgroup\": \"True\", \"hovertemplate\": \"Month=2011-08<br>date=%{x}<br>Count=%{y}<extra></extra>\", \"legendgroup\": \"2011-08\", \"marker\": {\"color\": \"#FFA15A\"}, \"name\": \"2011-08\", \"offsetgroup\": \"2011-08\", \"orientation\": \"v\", \"showlegend\": true, \"textposition\": \"auto\", \"type\": \"bar\", \"x\": [\"2011-08-05T00:00:00\", \"2011-08-08T00:00:00\", \"2011-08-09T00:00:00\", \"2011-08-10T00:00:00\", \"2011-08-11T00:00:00\", \"2011-08-12T00:00:00\", \"2011-08-15T00:00:00\", \"2011-08-16T00:00:00\", \"2011-08-18T00:00:00\", \"2011-08-19T00:00:00\", \"2011-08-23T00:00:00\", \"2011-08-24T00:00:00\", \"2011-08-25T00:00:00\", \"2011-08-26T00:00:00\", \"2011-08-29T00:00:00\", \"2011-08-30T00:00:00\", \"2011-08-31T00:00:00\"], \"xaxis\": \"x\", \"y\": [1, 10, 1, 1, 1, 1, 1, 8, 1, 1, 1, 1, 1, 1, 1, 2, 1], \"yaxis\": \"y\"}, {\"alignmentgroup\": \"True\", \"hovertemplate\": \"Month=2011-09<br>date=%{x}<br>Count=%{y}<extra></extra>\", \"legendgroup\": \"2011-09\", \"marker\": {\"color\": \"#19d3f3\"}, \"name\": \"2011-09\", \"offsetgroup\": \"2011-09\", \"orientation\": \"v\", \"showlegend\": true, \"textposition\": \"auto\", \"type\": \"bar\", \"x\": [\"2011-09-01T00:00:00\", \"2011-09-02T00:00:00\", \"2011-09-06T00:00:00\", \"2011-09-07T00:00:00\", \"2011-09-08T00:00:00\", \"2011-09-09T00:00:00\", \"2011-09-13T00:00:00\", \"2011-09-15T00:00:00\", \"2011-09-16T00:00:00\", \"2011-09-20T00:00:00\", \"2011-09-22T00:00:00\", \"2011-09-23T00:00:00\", \"2011-09-26T00:00:00\", \"2011-09-27T00:00:00\", \"2011-09-29T00:00:00\", \"2011-09-30T00:00:00\"], \"xaxis\": \"x\", \"y\": [1, 1, 1, 1, 1, 15, 1, 3, 1, 1, 5, 1, 1, 5, 1, 1], \"yaxis\": \"y\"}, {\"alignmentgroup\": \"True\", \"hovertemplate\": \"Month=2011-10<br>date=%{x}<br>Count=%{y}<extra></extra>\", \"legendgroup\": \"2011-10\", \"marker\": {\"color\": \"#FF6692\"}, \"name\": \"2011-10\", \"offsetgroup\": \"2011-10\", \"orientation\": \"v\", \"showlegend\": true, \"textposition\": \"auto\", \"type\": \"bar\", \"x\": [\"2011-10-03T00:00:00\", \"2011-10-07T00:00:00\", \"2011-10-10T00:00:00\", \"2011-10-11T00:00:00\", \"2011-10-14T00:00:00\", \"2011-10-17T00:00:00\", \"2011-10-18T00:00:00\", \"2011-10-20T00:00:00\", \"2011-10-21T00:00:00\", \"2011-10-24T00:00:00\", \"2011-10-25T00:00:00\", \"2011-10-26T00:00:00\", \"2011-10-27T00:00:00\", \"2011-10-28T00:00:00\", \"2011-10-31T00:00:00\"], \"xaxis\": \"x\", \"y\": [1, 1, 1, 1, 1, 1, 1, 2, 31, 1, 1, 1, 8, 2, 1], \"yaxis\": \"y\"}, {\"alignmentgroup\": \"True\", \"hovertemplate\": \"Month=2011-11<br>date=%{x}<br>Count=%{y}<extra></extra>\", \"legendgroup\": \"2011-11\", \"marker\": {\"color\": \"#B6E880\"}, \"name\": \"2011-11\", \"offsetgroup\": \"2011-11\", \"orientation\": \"v\", \"showlegend\": true, \"textposition\": \"auto\", \"type\": \"bar\", \"x\": [\"2011-11-01T00:00:00\", \"2011-11-03T00:00:00\", \"2011-11-07T00:00:00\", \"2011-11-08T00:00:00\", \"2011-11-09T00:00:00\", \"2011-11-10T00:00:00\", \"2011-11-11T00:00:00\", \"2011-11-18T00:00:00\", \"2011-11-23T00:00:00\", \"2011-11-25T00:00:00\", \"2011-11-29T00:00:00\", \"2011-11-30T00:00:00\"], \"xaxis\": \"x\", \"y\": [1, 1, 1, 7, 1, 15, 1, 1, 1, 1, 1, 1], \"yaxis\": \"y\"}, {\"alignmentgroup\": \"True\", \"hovertemplate\": \"Month=2011-12<br>date=%{x}<br>Count=%{y}<extra></extra>\", \"legendgroup\": \"2011-12\", \"marker\": {\"color\": \"#FF97FF\"}, \"name\": \"2011-12\", \"offsetgroup\": \"2011-12\", \"orientation\": \"v\", \"showlegend\": true, \"textposition\": \"auto\", \"type\": \"bar\", \"x\": [\"2011-12-01T00:00:00\", \"2011-12-05T00:00:00\", \"2011-12-06T00:00:00\", \"2011-12-07T00:00:00\", \"2011-12-08T00:00:00\", \"2011-12-09T00:00:00\", \"2011-12-13T00:00:00\", \"2011-12-15T00:00:00\", \"2011-12-16T00:00:00\", \"2011-12-20T00:00:00\", \"2011-12-22T00:00:00\", \"2011-12-24T00:00:00\", \"2011-12-28T00:00:00\", \"2011-12-29T00:00:00\", \"2011-12-30T00:00:00\"], \"xaxis\": \"x\", \"y\": [1, 1, 1, 1, 8, 1, 1, 1, 1, 1, 1, 1, 1, 1, 1], \"yaxis\": \"y\"}, {\"alignmentgroup\": \"True\", \"hovertemplate\": \"Month=2012-01<br>date=%{x}<br>Count=%{y}<extra></extra>\", \"legendgroup\": \"2012-01\", \"marker\": {\"color\": \"#FECB52\"}, \"name\": \"2012-01\", \"offsetgroup\": \"2012-01\", \"orientation\": \"v\", \"showlegend\": true, \"textposition\": \"auto\", \"type\": \"bar\", \"x\": [\"2012-01-03T00:00:00\", \"2012-01-04T00:00:00\", \"2012-01-05T00:00:00\", \"2012-01-06T00:00:00\", \"2012-01-09T00:00:00\", \"2012-01-10T00:00:00\", \"2012-01-12T00:00:00\", \"2012-01-13T00:00:00\", \"2012-01-17T00:00:00\", \"2012-01-18T00:00:00\", \"2012-01-23T00:00:00\", \"2012-01-24T00:00:00\", \"2012-01-25T00:00:00\", \"2012-01-26T00:00:00\", \"2012-01-27T00:00:00\", \"2012-01-31T00:00:00\"], \"xaxis\": \"x\", \"y\": [1, 1, 1, 2, 1, 2, 3, 9, 1, 6, 1, 26, 4, 1, 2, 2], \"yaxis\": \"y\"}, {\"alignmentgroup\": \"True\", \"hovertemplate\": \"Month=2012-02<br>date=%{x}<br>Count=%{y}<extra></extra>\", \"legendgroup\": \"2012-02\", \"marker\": {\"color\": \"#636efa\"}, \"name\": \"2012-02\", \"offsetgroup\": \"2012-02\", \"orientation\": \"v\", \"showlegend\": true, \"textposition\": \"auto\", \"type\": \"bar\", \"x\": [\"2012-02-02T00:00:00\", \"2012-02-03T00:00:00\", \"2012-02-06T00:00:00\", \"2012-02-08T00:00:00\", \"2012-02-09T00:00:00\", \"2012-02-10T00:00:00\", \"2012-02-13T00:00:00\", \"2012-02-16T00:00:00\", \"2012-02-18T00:00:00\", \"2012-02-21T00:00:00\", \"2012-02-23T00:00:00\", \"2012-02-24T00:00:00\", \"2012-02-27T00:00:00\", \"2012-02-28T00:00:00\", \"2012-02-29T00:00:00\"], \"xaxis\": \"x\", \"y\": [7, 2, 1, 8, 4, 1, 1, 1, 1, 1, 1, 2, 1, 5, 1], \"yaxis\": \"y\"}, {\"alignmentgroup\": \"True\", \"hovertemplate\": \"Month=2012-03<br>date=%{x}<br>Count=%{y}<extra></extra>\", \"legendgroup\": \"2012-03\", \"marker\": {\"color\": \"#EF553B\"}, \"name\": \"2012-03\", \"offsetgroup\": \"2012-03\", \"orientation\": \"v\", \"showlegend\": true, \"textposition\": \"auto\", \"type\": \"bar\", \"x\": [\"2012-03-01T00:00:00\", \"2012-03-02T00:00:00\", \"2012-03-05T00:00:00\", \"2012-03-07T00:00:00\", \"2012-03-08T00:00:00\", \"2012-03-09T00:00:00\", \"2012-03-10T00:00:00\", \"2012-03-13T00:00:00\", \"2012-03-14T00:00:00\", \"2012-03-15T00:00:00\", \"2012-03-16T00:00:00\", \"2012-03-21T00:00:00\", \"2012-03-22T00:00:00\", \"2012-03-23T00:00:00\", \"2012-03-26T00:00:00\", \"2012-03-27T00:00:00\", \"2012-03-28T00:00:00\", \"2012-03-29T00:00:00\", \"2012-03-30T00:00:00\"], \"xaxis\": \"x\", \"y\": [1, 1, 2, 2, 15, 1, 1, 1, 4, 1, 2, 9, 1, 1, 2, 2, 1, 2, 2], \"yaxis\": \"y\"}, {\"alignmentgroup\": \"True\", \"hovertemplate\": \"Month=2012-04<br>date=%{x}<br>Count=%{y}<extra></extra>\", \"legendgroup\": \"2012-04\", \"marker\": {\"color\": \"#00cc96\"}, \"name\": \"2012-04\", \"offsetgroup\": \"2012-04\", \"orientation\": \"v\", \"showlegend\": true, \"textposition\": \"auto\", \"type\": \"bar\", \"x\": [\"2012-04-04T00:00:00\", \"2012-04-05T00:00:00\", \"2012-04-09T00:00:00\", \"2012-04-10T00:00:00\", \"2012-04-11T00:00:00\", \"2012-04-12T00:00:00\", \"2012-04-16T00:00:00\", \"2012-04-18T00:00:00\", \"2012-04-19T00:00:00\", \"2012-04-20T00:00:00\", \"2012-04-24T00:00:00\", \"2012-04-25T00:00:00\", \"2012-04-26T00:00:00\", \"2012-04-27T00:00:00\", \"2012-04-30T00:00:00\"], \"xaxis\": \"x\", \"y\": [14, 2, 2, 5, 2, 1, 6, 1, 3, 31, 1, 1, 2, 1, 1], \"yaxis\": \"y\"}, {\"alignmentgroup\": \"True\", \"hovertemplate\": \"Month=2012-05<br>date=%{x}<br>Count=%{y}<extra></extra>\", \"legendgroup\": \"2012-05\", \"marker\": {\"color\": \"#ab63fa\"}, \"name\": \"2012-05\", \"offsetgroup\": \"2012-05\", \"orientation\": \"v\", \"showlegend\": true, \"textposition\": \"auto\", \"type\": \"bar\", \"x\": [\"2012-05-01T00:00:00\", \"2012-05-04T00:00:00\", \"2012-05-07T00:00:00\", \"2012-05-08T00:00:00\", \"2012-05-14T00:00:00\", \"2012-05-15T00:00:00\", \"2012-05-16T00:00:00\", \"2012-05-18T00:00:00\", \"2012-05-21T00:00:00\", \"2012-05-23T00:00:00\", \"2012-05-24T00:00:00\", \"2012-05-25T00:00:00\", \"2012-05-29T00:00:00\", \"2012-05-31T00:00:00\"], \"xaxis\": \"x\", \"y\": [1, 1, 1, 9, 2, 2, 2, 1, 1, 9, 5, 5, 2, 5], \"yaxis\": \"y\"}, {\"alignmentgroup\": \"True\", \"hovertemplate\": \"Month=2012-06<br>date=%{x}<br>Count=%{y}<extra></extra>\", \"legendgroup\": \"2012-06\", \"marker\": {\"color\": \"#FFA15A\"}, \"name\": \"2012-06\", \"offsetgroup\": \"2012-06\", \"orientation\": \"v\", \"showlegend\": true, \"textposition\": \"auto\", \"type\": \"bar\", \"x\": [\"2012-06-01T00:00:00\", \"2012-06-04T00:00:00\", \"2012-06-05T00:00:00\", \"2012-06-07T00:00:00\", \"2012-06-08T00:00:00\", \"2012-06-11T00:00:00\", \"2012-06-12T00:00:00\", \"2012-06-14T00:00:00\", \"2012-06-15T00:00:00\", \"2012-06-19T00:00:00\", \"2012-06-20T00:00:00\", \"2012-06-22T00:00:00\", \"2012-06-25T00:00:00\", \"2012-06-26T00:00:00\", \"2012-06-28T00:00:00\", \"2012-06-29T00:00:00\"], \"xaxis\": \"x\", \"y\": [1, 1, 1, 1, 13, 1, 1, 1, 1, 1, 1, 1, 1, 1, 1, 1], \"yaxis\": \"y\"}, {\"alignmentgroup\": \"True\", \"hovertemplate\": \"Month=2012-07<br>date=%{x}<br>Count=%{y}<extra></extra>\", \"legendgroup\": \"2012-07\", \"marker\": {\"color\": \"#19d3f3\"}, \"name\": \"2012-07\", \"offsetgroup\": \"2012-07\", \"orientation\": \"v\", \"showlegend\": true, \"textposition\": \"auto\", \"type\": \"bar\", \"x\": [\"2012-07-03T00:00:00\", \"2012-07-05T00:00:00\", \"2012-07-09T00:00:00\", \"2012-07-11T00:00:00\", \"2012-07-12T00:00:00\", \"2012-07-13T00:00:00\", \"2012-07-17T00:00:00\", \"2012-07-18T00:00:00\", \"2012-07-19T00:00:00\", \"2012-07-20T00:00:00\", \"2012-07-23T00:00:00\", \"2012-07-24T00:00:00\", \"2012-07-26T00:00:00\", \"2012-07-27T00:00:00\", \"2012-07-31T00:00:00\"], \"xaxis\": \"x\", \"y\": [1, 1, 1, 1, 2, 1, 1, 1, 1, 1, 41, 1, 1, 1, 1], \"yaxis\": \"y\"}, {\"alignmentgroup\": \"True\", \"hovertemplate\": \"Month=2012-08<br>date=%{x}<br>Count=%{y}<extra></extra>\", \"legendgroup\": \"2012-08\", \"marker\": {\"color\": \"#FF6692\"}, \"name\": \"2012-08\", \"offsetgroup\": \"2012-08\", \"orientation\": \"v\", \"showlegend\": true, \"textposition\": \"auto\", \"type\": \"bar\", \"x\": [\"2012-08-01T00:00:00\", \"2012-08-02T00:00:00\", \"2012-08-03T00:00:00\", \"2012-08-07T00:00:00\", \"2012-08-08T00:00:00\", \"2012-08-10T00:00:00\", \"2012-08-13T00:00:00\", \"2012-08-16T00:00:00\", \"2012-08-17T00:00:00\", \"2012-08-22T00:00:00\", \"2012-08-23T00:00:00\", \"2012-08-27T00:00:00\", \"2012-08-30T00:00:00\"], \"xaxis\": \"x\", \"y\": [1, 1, 2, 1, 6, 6, 1, 1, 1, 2, 2, 3, 2], \"yaxis\": \"y\"}, {\"alignmentgroup\": \"True\", \"hovertemplate\": \"Month=2012-09<br>date=%{x}<br>Count=%{y}<extra></extra>\", \"legendgroup\": \"2012-09\", \"marker\": {\"color\": \"#B6E880\"}, \"name\": \"2012-09\", \"offsetgroup\": \"2012-09\", \"orientation\": \"v\", \"showlegend\": true, \"textposition\": \"auto\", \"type\": \"bar\", \"x\": [\"2012-09-05T00:00:00\", \"2012-09-07T00:00:00\", \"2012-09-10T00:00:00\", \"2012-09-11T00:00:00\", \"2012-09-12T00:00:00\", \"2012-09-13T00:00:00\", \"2012-09-14T00:00:00\", \"2012-09-17T00:00:00\", \"2012-09-18T00:00:00\", \"2012-09-20T00:00:00\", \"2012-09-21T00:00:00\", \"2012-09-24T00:00:00\", \"2012-09-27T00:00:00\", \"2012-09-28T00:00:00\"], \"xaxis\": \"x\", \"y\": [3, 2, 2, 9, 16, 1, 1, 1, 1, 4, 2, 1, 1, 2], \"yaxis\": \"y\"}, {\"alignmentgroup\": \"True\", \"hovertemplate\": \"Month=2012-10<br>date=%{x}<br>Count=%{y}<extra></extra>\", \"legendgroup\": \"2012-10\", \"marker\": {\"color\": \"#FF97FF\"}, \"name\": \"2012-10\", \"offsetgroup\": \"2012-10\", \"orientation\": \"v\", \"showlegend\": true, \"textposition\": \"auto\", \"type\": \"bar\", \"x\": [\"2012-10-01T00:00:00\", \"2012-10-02T00:00:00\", \"2012-10-03T00:00:00\", \"2012-10-05T00:00:00\", \"2012-10-09T00:00:00\", \"2012-10-10T00:00:00\", \"2012-10-12T00:00:00\", \"2012-10-15T00:00:00\", \"2012-10-16T00:00:00\", \"2012-10-17T00:00:00\", \"2012-10-18T00:00:00\", \"2012-10-19T00:00:00\", \"2012-10-22T00:00:00\", \"2012-10-25T00:00:00\", \"2012-10-31T00:00:00\"], \"xaxis\": \"x\", \"y\": [2, 1, 1, 1, 1, 1, 1, 1, 1, 1, 2, 48, 1, 1, 1], \"yaxis\": \"y\"}, {\"alignmentgroup\": \"True\", \"hovertemplate\": \"Month=2012-11<br>date=%{x}<br>Count=%{y}<extra></extra>\", \"legendgroup\": \"2012-11\", \"marker\": {\"color\": \"#FECB52\"}, \"name\": \"2012-11\", \"offsetgroup\": \"2012-11\", \"orientation\": \"v\", \"showlegend\": true, \"textposition\": \"auto\", \"type\": \"bar\", \"x\": [\"2012-11-01T00:00:00\", \"2012-11-05T00:00:00\", \"2012-11-06T00:00:00\", \"2012-11-07T00:00:00\", \"2012-11-08T00:00:00\", \"2012-11-09T00:00:00\", \"2012-11-13T00:00:00\", \"2012-11-14T00:00:00\", \"2012-11-15T00:00:00\", \"2012-11-16T00:00:00\", \"2012-11-20T00:00:00\", \"2012-11-21T00:00:00\", \"2012-11-23T00:00:00\", \"2012-11-26T00:00:00\", \"2012-11-28T00:00:00\", \"2012-11-29T00:00:00\", \"2012-11-30T00:00:00\"], \"xaxis\": \"x\", \"y\": [2, 1, 2, 1, 11, 2, 1, 1, 5, 6, 1, 1, 1, 2, 1, 1, 1], \"yaxis\": \"y\"}, {\"alignmentgroup\": \"True\", \"hovertemplate\": \"Month=2012-12<br>date=%{x}<br>Count=%{y}<extra></extra>\", \"legendgroup\": \"2012-12\", \"marker\": {\"color\": \"#636efa\"}, \"name\": \"2012-12\", \"offsetgroup\": \"2012-12\", \"orientation\": \"v\", \"showlegend\": true, \"textposition\": \"auto\", \"type\": \"bar\", \"x\": [\"2012-12-03T00:00:00\", \"2012-12-04T00:00:00\", \"2012-12-05T00:00:00\", \"2012-12-06T00:00:00\", \"2012-12-10T00:00:00\", \"2012-12-13T00:00:00\", \"2012-12-18T00:00:00\", \"2012-12-20T00:00:00\", \"2012-12-21T00:00:00\", \"2012-12-27T00:00:00\", \"2012-12-31T00:00:00\"], \"xaxis\": \"x\", \"y\": [1, 1, 1, 1, 11, 1, 3, 1, 1, 1, 1], \"yaxis\": \"y\"}, {\"alignmentgroup\": \"True\", \"hovertemplate\": \"Month=2013-01<br>date=%{x}<br>Count=%{y}<extra></extra>\", \"legendgroup\": \"2013-01\", \"marker\": {\"color\": \"#EF553B\"}, \"name\": \"2013-01\", \"offsetgroup\": \"2013-01\", \"orientation\": \"v\", \"showlegend\": true, \"textposition\": \"auto\", \"type\": \"bar\", \"x\": [\"2013-01-02T00:00:00\", \"2013-01-03T00:00:00\", \"2013-01-04T00:00:00\", \"2013-01-07T00:00:00\", \"2013-01-08T00:00:00\", \"2013-01-09T00:00:00\", \"2013-01-10T00:00:00\", \"2013-01-11T00:00:00\", \"2013-01-15T00:00:00\", \"2013-01-16T00:00:00\", \"2013-01-17T00:00:00\", \"2013-01-18T00:00:00\", \"2013-01-22T00:00:00\", \"2013-01-23T00:00:00\", \"2013-01-24T00:00:00\", \"2013-01-25T00:00:00\", \"2013-01-29T00:00:00\", \"2013-01-30T00:00:00\", \"2013-01-31T00:00:00\"], \"xaxis\": \"x\", \"y\": [1, 1, 1, 4, 9, 1, 1, 2, 2, 3, 2, 1, 2, 24, 3, 5, 1, 1, 1], \"yaxis\": \"y\"}, {\"alignmentgroup\": \"True\", \"hovertemplate\": \"Month=2013-02<br>date=%{x}<br>Count=%{y}<extra></extra>\", \"legendgroup\": \"2013-02\", \"marker\": {\"color\": \"#00cc96\"}, \"name\": \"2013-02\", \"offsetgroup\": \"2013-02\", \"orientation\": \"v\", \"showlegend\": true, \"textposition\": \"auto\", \"type\": \"bar\", \"x\": [\"2013-02-01T00:00:00\", \"2013-02-05T00:00:00\", \"2013-02-07T00:00:00\", \"2013-02-08T00:00:00\", \"2013-02-15T00:00:00\", \"2013-02-20T00:00:00\", \"2013-02-21T00:00:00\", \"2013-02-22T00:00:00\", \"2013-02-25T00:00:00\", \"2013-02-27T00:00:00\", \"2013-02-28T00:00:00\"], \"xaxis\": \"x\", \"y\": [1, 1, 2, 7, 1, 3, 3, 1, 1, 1, 1], \"yaxis\": \"y\"}, {\"alignmentgroup\": \"True\", \"hovertemplate\": \"Month=2013-03<br>date=%{x}<br>Count=%{y}<extra></extra>\", \"legendgroup\": \"2013-03\", \"marker\": {\"color\": \"#ab63fa\"}, \"name\": \"2013-03\", \"offsetgroup\": \"2013-03\", \"orientation\": \"v\", \"showlegend\": true, \"textposition\": \"auto\", \"type\": \"bar\", \"x\": [\"2013-03-01T00:00:00\", \"2013-03-04T00:00:00\", \"2013-03-07T00:00:00\", \"2013-03-08T00:00:00\", \"2013-03-11T00:00:00\", \"2013-03-13T00:00:00\", \"2013-03-14T00:00:00\", \"2013-03-15T00:00:00\", \"2013-03-20T00:00:00\", \"2013-03-22T00:00:00\", \"2013-03-25T00:00:00\"], \"xaxis\": \"x\", \"y\": [1, 6, 8, 9, 1, 1, 1, 1, 1, 2, 1], \"yaxis\": \"y\"}, {\"alignmentgroup\": \"True\", \"hovertemplate\": \"Month=2013-04<br>date=%{x}<br>Count=%{y}<extra></extra>\", \"legendgroup\": \"2013-04\", \"marker\": {\"color\": \"#FFA15A\"}, \"name\": \"2013-04\", \"offsetgroup\": \"2013-04\", \"orientation\": \"v\", \"showlegend\": true, \"textposition\": \"auto\", \"type\": \"bar\", \"x\": [\"2013-04-03T00:00:00\", \"2013-04-04T00:00:00\", \"2013-04-05T00:00:00\", \"2013-04-08T00:00:00\", \"2013-04-11T00:00:00\", \"2013-04-12T00:00:00\", \"2013-04-15T00:00:00\", \"2013-04-16T00:00:00\", \"2013-04-17T00:00:00\", \"2013-04-18T00:00:00\", \"2013-04-19T00:00:00\", \"2013-04-24T00:00:00\", \"2013-04-26T00:00:00\", \"2013-04-29T00:00:00\", \"2013-04-30T00:00:00\"], \"xaxis\": \"x\", \"y\": [1, 1, 1, 1, 1, 7, 2, 1, 1, 2, 21, 1, 19, 9, 1], \"yaxis\": \"y\"}, {\"alignmentgroup\": \"True\", \"hovertemplate\": \"Month=2013-05<br>date=%{x}<br>Count=%{y}<extra></extra>\", \"legendgroup\": \"2013-05\", \"marker\": {\"color\": \"#19d3f3\"}, \"name\": \"2013-05\", \"offsetgroup\": \"2013-05\", \"orientation\": \"v\", \"showlegend\": true, \"textposition\": \"auto\", \"type\": \"bar\", \"x\": [\"2013-05-02T00:00:00\", \"2013-05-03T00:00:00\", \"2013-05-06T00:00:00\", \"2013-05-08T00:00:00\", \"2013-05-09T00:00:00\", \"2013-05-10T00:00:00\", \"2013-05-14T00:00:00\", \"2013-05-15T00:00:00\", \"2013-05-16T00:00:00\", \"2013-05-17T00:00:00\", \"2013-05-20T00:00:00\", \"2013-05-21T00:00:00\", \"2013-05-22T00:00:00\", \"2013-05-23T00:00:00\", \"2013-05-30T00:00:00\", \"2013-05-31T00:00:00\"], \"xaxis\": \"x\", \"y\": [3, 5, 3, 13, 1, 5, 1, 6, 2, 2, 1, 1, 1, 14, 2, 1], \"yaxis\": \"y\"}, {\"alignmentgroup\": \"True\", \"hovertemplate\": \"Month=2013-06<br>date=%{x}<br>Count=%{y}<extra></extra>\", \"legendgroup\": \"2013-06\", \"marker\": {\"color\": \"#FF6692\"}, \"name\": \"2013-06\", \"offsetgroup\": \"2013-06\", \"orientation\": \"v\", \"showlegend\": true, \"textposition\": \"auto\", \"type\": \"bar\", \"x\": [\"2013-06-03T00:00:00\", \"2013-06-05T00:00:00\", \"2013-06-06T00:00:00\", \"2013-06-10T00:00:00\", \"2013-06-11T00:00:00\", \"2013-06-12T00:00:00\", \"2013-06-17T00:00:00\", \"2013-06-18T00:00:00\", \"2013-06-20T00:00:00\", \"2013-06-21T00:00:00\", \"2013-06-24T00:00:00\", \"2013-06-25T00:00:00\", \"2013-06-27T00:00:00\", \"2013-06-28T00:00:00\"], \"xaxis\": \"x\", \"y\": [1, 3, 5, 7, 1, 1, 1, 2, 1, 1, 1, 1, 2, 3], \"yaxis\": \"y\"}, {\"alignmentgroup\": \"True\", \"hovertemplate\": \"Month=2013-07<br>date=%{x}<br>Count=%{y}<extra></extra>\", \"legendgroup\": \"2013-07\", \"marker\": {\"color\": \"#B6E880\"}, \"name\": \"2013-07\", \"offsetgroup\": \"2013-07\", \"orientation\": \"v\", \"showlegend\": true, \"textposition\": \"auto\", \"type\": \"bar\", \"x\": [\"2013-07-01T00:00:00\", \"2013-07-02T00:00:00\", \"2013-07-03T00:00:00\", \"2013-07-05T00:00:00\", \"2013-07-08T00:00:00\", \"2013-07-10T00:00:00\", \"2013-07-12T00:00:00\", \"2013-07-15T00:00:00\", \"2013-07-16T00:00:00\", \"2013-07-17T00:00:00\", \"2013-07-19T00:00:00\", \"2013-07-22T00:00:00\", \"2013-07-24T00:00:00\", \"2013-07-25T00:00:00\", \"2013-07-26T00:00:00\", \"2013-07-30T00:00:00\", \"2013-07-31T00:00:00\"], \"xaxis\": \"x\", \"y\": [1, 1, 6, 1, 2, 1, 1, 6, 1, 1, 1, 31, 1, 1, 1, 2, 2], \"yaxis\": \"y\"}, {\"alignmentgroup\": \"True\", \"hovertemplate\": \"Month=2013-08<br>date=%{x}<br>Count=%{y}<extra></extra>\", \"legendgroup\": \"2013-08\", \"marker\": {\"color\": \"#FF97FF\"}, \"name\": \"2013-08\", \"offsetgroup\": \"2013-08\", \"orientation\": \"v\", \"showlegend\": true, \"textposition\": \"auto\", \"type\": \"bar\", \"x\": [\"2013-08-01T00:00:00\", \"2013-08-02T00:00:00\", \"2013-08-05T00:00:00\", \"2013-08-06T00:00:00\", \"2013-08-08T00:00:00\", \"2013-08-13T00:00:00\", \"2013-08-15T00:00:00\", \"2013-08-21T00:00:00\", \"2013-08-22T00:00:00\", \"2013-08-26T00:00:00\", \"2013-08-28T00:00:00\", \"2013-08-29T00:00:00\"], \"xaxis\": \"x\", \"y\": [1, 2, 1, 1, 5, 1, 1, 1, 1, 2, 1, 1], \"yaxis\": \"y\"}, {\"alignmentgroup\": \"True\", \"hovertemplate\": \"Month=2013-09<br>date=%{x}<br>Count=%{y}<extra></extra>\", \"legendgroup\": \"2013-09\", \"marker\": {\"color\": \"#FECB52\"}, \"name\": \"2013-09\", \"offsetgroup\": \"2013-09\", \"orientation\": \"v\", \"showlegend\": true, \"textposition\": \"auto\", \"type\": \"bar\", \"x\": [\"2013-09-04T00:00:00\", \"2013-09-05T00:00:00\", \"2013-09-06T00:00:00\", \"2013-09-10T00:00:00\", \"2013-09-11T00:00:00\", \"2013-09-12T00:00:00\", \"2013-09-18T00:00:00\", \"2013-09-19T00:00:00\", \"2013-09-20T00:00:00\", \"2013-09-24T00:00:00\", \"2013-09-30T00:00:00\"], \"xaxis\": \"x\", \"y\": [1, 1, 1, 5, 2, 1, 4, 1, 1, 1, 2], \"yaxis\": \"y\"}, {\"alignmentgroup\": \"True\", \"hovertemplate\": \"Month=2013-10<br>date=%{x}<br>Count=%{y}<extra></extra>\", \"legendgroup\": \"2013-10\", \"marker\": {\"color\": \"#636efa\"}, \"name\": \"2013-10\", \"offsetgroup\": \"2013-10\", \"orientation\": \"v\", \"showlegend\": true, \"textposition\": \"auto\", \"type\": \"bar\", \"x\": [\"2013-10-02T00:00:00\", \"2013-10-03T00:00:00\", \"2013-10-08T00:00:00\", \"2013-10-10T00:00:00\", \"2013-10-11T00:00:00\", \"2013-10-15T00:00:00\", \"2013-10-16T00:00:00\", \"2013-10-17T00:00:00\", \"2013-10-18T00:00:00\", \"2013-10-21T00:00:00\", \"2013-10-23T00:00:00\", \"2013-10-25T00:00:00\", \"2013-10-28T00:00:00\", \"2013-10-30T00:00:00\", \"2013-10-31T00:00:00\"], \"xaxis\": \"x\", \"y\": [1, 1, 1, 2, 3, 4, 1, 1, 1, 31, 3, 6, 1, 3, 1], \"yaxis\": \"y\"}, {\"alignmentgroup\": \"True\", \"hovertemplate\": \"Month=2013-11<br>date=%{x}<br>Count=%{y}<extra></extra>\", \"legendgroup\": \"2013-11\", \"marker\": {\"color\": \"#EF553B\"}, \"name\": \"2013-11\", \"offsetgroup\": \"2013-11\", \"orientation\": \"v\", \"showlegend\": true, \"textposition\": \"auto\", \"type\": \"bar\", \"x\": [\"2013-11-05T00:00:00\", \"2013-11-07T00:00:00\", \"2013-11-08T00:00:00\", \"2013-11-13T00:00:00\", \"2013-11-14T00:00:00\", \"2013-11-15T00:00:00\", \"2013-11-18T00:00:00\", \"2013-11-19T00:00:00\", \"2013-11-20T00:00:00\", \"2013-11-21T00:00:00\", \"2013-11-25T00:00:00\", \"2013-11-27T00:00:00\", \"2013-11-29T00:00:00\"], \"xaxis\": \"x\", \"y\": [2, 3, 9, 1, 3, 8, 1, 1, 2, 5, 1, 3, 1], \"yaxis\": \"y\"}, {\"alignmentgroup\": \"True\", \"hovertemplate\": \"Month=2013-12<br>date=%{x}<br>Count=%{y}<extra></extra>\", \"legendgroup\": \"2013-12\", \"marker\": {\"color\": \"#00cc96\"}, \"name\": \"2013-12\", \"offsetgroup\": \"2013-12\", \"orientation\": \"v\", \"showlegend\": true, \"textposition\": \"auto\", \"type\": \"bar\", \"x\": [\"2013-12-03T00:00:00\", \"2013-12-04T00:00:00\", \"2013-12-05T00:00:00\", \"2013-12-09T00:00:00\", \"2013-12-10T00:00:00\", \"2013-12-11T00:00:00\", \"2013-12-12T00:00:00\", \"2013-12-13T00:00:00\", \"2013-12-17T00:00:00\", \"2013-12-18T00:00:00\", \"2013-12-19T00:00:00\", \"2013-12-20T00:00:00\", \"2013-12-26T00:00:00\", \"2013-12-27T00:00:00\", \"2013-12-31T00:00:00\"], \"xaxis\": \"x\", \"y\": [1, 1, 1, 9, 7, 1, 1, 2, 2, 1, 3, 4, 2, 3, 1], \"yaxis\": \"y\"}, {\"alignmentgroup\": \"True\", \"hovertemplate\": \"Month=2014-01<br>date=%{x}<br>Count=%{y}<extra></extra>\", \"legendgroup\": \"2014-01\", \"marker\": {\"color\": \"#ab63fa\"}, \"name\": \"2014-01\", \"offsetgroup\": \"2014-01\", \"orientation\": \"v\", \"showlegend\": true, \"textposition\": \"auto\", \"type\": \"bar\", \"x\": [\"2014-01-03T00:00:00\", \"2014-01-06T00:00:00\", \"2014-01-07T00:00:00\", \"2014-01-08T00:00:00\", \"2014-01-10T00:00:00\", \"2014-01-13T00:00:00\", \"2014-01-16T00:00:00\", \"2014-01-17T00:00:00\", \"2014-01-21T00:00:00\", \"2014-01-22T00:00:00\", \"2014-01-23T00:00:00\", \"2014-01-24T00:00:00\", \"2014-01-27T00:00:00\", \"2014-01-29T00:00:00\", \"2014-01-30T00:00:00\", \"2014-01-31T00:00:00\"], \"xaxis\": \"x\", \"y\": [1, 1, 3, 3, 1, 1, 1, 1, 1, 4, 28, 2, 1, 3, 1, 2], \"yaxis\": \"y\"}, {\"alignmentgroup\": \"True\", \"hovertemplate\": \"Month=2014-02<br>date=%{x}<br>Count=%{y}<extra></extra>\", \"legendgroup\": \"2014-02\", \"marker\": {\"color\": \"#FFA15A\"}, \"name\": \"2014-02\", \"offsetgroup\": \"2014-02\", \"orientation\": \"v\", \"showlegend\": true, \"textposition\": \"auto\", \"type\": \"bar\", \"x\": [\"2014-02-04T00:00:00\", \"2014-02-05T00:00:00\", \"2014-02-06T00:00:00\", \"2014-02-07T00:00:00\", \"2014-02-09T00:00:00\", \"2014-02-10T00:00:00\", \"2014-02-11T00:00:00\", \"2014-02-13T00:00:00\", \"2014-02-14T00:00:00\", \"2014-02-18T00:00:00\", \"2014-02-19T00:00:00\", \"2014-02-20T00:00:00\", \"2014-02-21T00:00:00\", \"2014-02-24T00:00:00\", \"2014-02-25T00:00:00\", \"2014-02-26T00:00:00\", \"2014-02-27T00:00:00\"], \"xaxis\": \"x\", \"y\": [2, 2, 2, 2, 1, 14, 2, 1, 1, 1, 1, 1, 1, 1, 3, 1, 2], \"yaxis\": \"y\"}, {\"alignmentgroup\": \"True\", \"hovertemplate\": \"Month=2014-03<br>date=%{x}<br>Count=%{y}<extra></extra>\", \"legendgroup\": \"2014-03\", \"marker\": {\"color\": \"#19d3f3\"}, \"name\": \"2014-03\", \"offsetgroup\": \"2014-03\", \"orientation\": \"v\", \"showlegend\": true, \"textposition\": \"auto\", \"type\": \"bar\", \"x\": [\"2014-03-03T00:00:00\", \"2014-03-04T00:00:00\", \"2014-03-05T00:00:00\", \"2014-03-06T00:00:00\", \"2014-03-07T00:00:00\", \"2014-03-10T00:00:00\", \"2014-03-11T00:00:00\", \"2014-03-12T00:00:00\", \"2014-03-13T00:00:00\", \"2014-03-17T00:00:00\", \"2014-03-18T00:00:00\", \"2014-03-19T00:00:00\", \"2014-03-20T00:00:00\", \"2014-03-21T00:00:00\", \"2014-03-22T00:00:00\", \"2014-03-25T00:00:00\", \"2014-03-26T00:00:00\", \"2014-03-27T00:00:00\", \"2014-03-28T00:00:00\"], \"xaxis\": \"x\", \"y\": [1, 1, 1, 1, 2, 18, 3, 3, 5, 2, 2, 2, 14, 3, 1, 1, 1, 1, 1], \"yaxis\": \"y\"}, {\"alignmentgroup\": \"True\", \"hovertemplate\": \"Month=2014-04<br>date=%{x}<br>Count=%{y}<extra></extra>\", \"legendgroup\": \"2014-04\", \"marker\": {\"color\": \"#FF6692\"}, \"name\": \"2014-04\", \"offsetgroup\": \"2014-04\", \"orientation\": \"v\", \"showlegend\": true, \"textposition\": \"auto\", \"type\": \"bar\", \"x\": [\"2014-04-01T00:00:00\", \"2014-04-02T00:00:00\", \"2014-04-03T00:00:00\", \"2014-04-07T00:00:00\", \"2014-04-08T00:00:00\", \"2014-04-10T00:00:00\", \"2014-04-11T00:00:00\", \"2014-04-14T00:00:00\", \"2014-04-15T00:00:00\", \"2014-04-16T00:00:00\", \"2014-04-17T00:00:00\", \"2014-04-18T00:00:00\", \"2014-04-21T00:00:00\", \"2014-04-22T00:00:00\", \"2014-04-23T00:00:00\", \"2014-04-24T00:00:00\", \"2014-04-25T00:00:00\", \"2014-04-28T00:00:00\", \"2014-04-29T00:00:00\", \"2014-04-30T00:00:00\"], \"xaxis\": \"x\", \"y\": [2, 3, 2, 1, 1, 2, 2, 1, 1, 3, 1, 2, 1, 28, 1, 2, 9, 1, 1, 1], \"yaxis\": \"y\"}, {\"alignmentgroup\": \"True\", \"hovertemplate\": \"Month=2014-05<br>date=%{x}<br>Count=%{y}<extra></extra>\", \"legendgroup\": \"2014-05\", \"marker\": {\"color\": \"#B6E880\"}, \"name\": \"2014-05\", \"offsetgroup\": \"2014-05\", \"orientation\": \"v\", \"showlegend\": true, \"textposition\": \"auto\", \"type\": \"bar\", \"x\": [\"2014-05-02T00:00:00\", \"2014-05-05T00:00:00\", \"2014-05-06T00:00:00\", \"2014-05-07T00:00:00\", \"2014-05-08T00:00:00\", \"2014-05-09T00:00:00\", \"2014-05-13T00:00:00\", \"2014-05-14T00:00:00\", \"2014-05-15T00:00:00\", \"2014-05-16T00:00:00\", \"2014-05-19T00:00:00\", \"2014-05-21T00:00:00\", \"2014-05-22T00:00:00\", \"2014-05-23T00:00:00\", \"2014-05-27T00:00:00\", \"2014-05-28T00:00:00\", \"2014-05-29T00:00:00\", \"2014-05-30T00:00:00\"], \"xaxis\": \"x\", \"y\": [1, 1, 1, 2, 9, 1, 1, 1, 1, 1, 2, 1, 5, 1, 3, 21, 1, 1], \"yaxis\": \"y\"}, {\"alignmentgroup\": \"True\", \"hovertemplate\": \"Month=2014-06<br>date=%{x}<br>Count=%{y}<extra></extra>\", \"legendgroup\": \"2014-06\", \"marker\": {\"color\": \"#FF97FF\"}, \"name\": \"2014-06\", \"offsetgroup\": \"2014-06\", \"orientation\": \"v\", \"showlegend\": true, \"textposition\": \"auto\", \"type\": \"bar\", \"x\": [\"2014-06-02T00:00:00\", \"2014-06-03T00:00:00\", \"2014-06-04T00:00:00\", \"2014-06-09T00:00:00\", \"2014-06-10T00:00:00\", \"2014-06-12T00:00:00\", \"2014-06-13T00:00:00\", \"2014-06-16T00:00:00\", \"2014-06-18T00:00:00\", \"2014-06-19T00:00:00\", \"2014-06-23T00:00:00\", \"2014-06-24T00:00:00\", \"2014-06-27T00:00:00\"], \"xaxis\": \"x\", \"y\": [2, 1, 15, 13, 2, 1, 1, 1, 1, 2, 1, 1, 2], \"yaxis\": \"y\"}, {\"alignmentgroup\": \"True\", \"hovertemplate\": \"Month=2014-07<br>date=%{x}<br>Count=%{y}<extra></extra>\", \"legendgroup\": \"2014-07\", \"marker\": {\"color\": \"#FECB52\"}, \"name\": \"2014-07\", \"offsetgroup\": \"2014-07\", \"orientation\": \"v\", \"showlegend\": true, \"textposition\": \"auto\", \"type\": \"bar\", \"x\": [\"2014-07-01T00:00:00\", \"2014-07-02T00:00:00\", \"2014-07-03T00:00:00\", \"2014-07-07T00:00:00\", \"2014-07-10T00:00:00\", \"2014-07-11T00:00:00\", \"2014-07-15T00:00:00\", \"2014-07-18T00:00:00\", \"2014-07-22T00:00:00\", \"2014-07-23T00:00:00\", \"2014-07-24T00:00:00\", \"2014-07-25T00:00:00\", \"2014-07-26T00:00:00\", \"2014-07-27T00:00:00\", \"2014-07-28T00:00:00\", \"2014-07-29T00:00:00\", \"2014-07-30T00:00:00\", \"2014-07-31T00:00:00\"], \"xaxis\": \"x\", \"y\": [3, 1, 1, 2, 1, 1, 1, 3, 30, 5, 2, 2, 1, 2, 6, 7, 6, 2], \"yaxis\": \"y\"}, {\"alignmentgroup\": \"True\", \"hovertemplate\": \"Month=2014-08<br>date=%{x}<br>Count=%{y}<extra></extra>\", \"legendgroup\": \"2014-08\", \"marker\": {\"color\": \"#636efa\"}, \"name\": \"2014-08\", \"offsetgroup\": \"2014-08\", \"orientation\": \"v\", \"showlegend\": true, \"textposition\": \"auto\", \"type\": \"bar\", \"x\": [\"2014-08-01T00:00:00\", \"2014-08-04T00:00:00\", \"2014-08-05T00:00:00\", \"2014-08-07T00:00:00\", \"2014-08-08T00:00:00\", \"2014-08-13T00:00:00\", \"2014-08-14T00:00:00\", \"2014-08-15T00:00:00\", \"2014-08-18T00:00:00\", \"2014-08-20T00:00:00\", \"2014-08-21T00:00:00\", \"2014-08-22T00:00:00\", \"2014-08-23T00:00:00\", \"2014-08-25T00:00:00\", \"2014-08-26T00:00:00\", \"2014-08-27T00:00:00\", \"2014-08-28T00:00:00\", \"2014-08-29T00:00:00\"], \"xaxis\": \"x\", \"y\": [1, 3, 4, 1, 15, 1, 1, 1, 1, 5, 2, 10, 1, 1, 1, 4, 2, 6], \"yaxis\": \"y\"}, {\"alignmentgroup\": \"True\", \"hovertemplate\": \"Month=2014-09<br>date=%{x}<br>Count=%{y}<extra></extra>\", \"legendgroup\": \"2014-09\", \"marker\": {\"color\": \"#EF553B\"}, \"name\": \"2014-09\", \"offsetgroup\": \"2014-09\", \"orientation\": \"v\", \"showlegend\": true, \"textposition\": \"auto\", \"type\": \"bar\", \"x\": [\"2014-09-01T00:00:00\", \"2014-09-02T00:00:00\", \"2014-09-05T00:00:00\", \"2014-09-09T00:00:00\", \"2014-09-10T00:00:00\", \"2014-09-11T00:00:00\", \"2014-09-12T00:00:00\", \"2014-09-15T00:00:00\", \"2014-09-17T00:00:00\", \"2014-09-18T00:00:00\", \"2014-09-22T00:00:00\", \"2014-09-24T00:00:00\", \"2014-09-29T00:00:00\", \"2014-09-30T00:00:00\"], \"xaxis\": \"x\", \"y\": [2, 5, 2, 24, 2, 2, 2, 3, 1, 7, 1, 6, 2, 1], \"yaxis\": \"y\"}, {\"alignmentgroup\": \"True\", \"hovertemplate\": \"Month=2014-10<br>date=%{x}<br>Count=%{y}<extra></extra>\", \"legendgroup\": \"2014-10\", \"marker\": {\"color\": \"#00cc96\"}, \"name\": \"2014-10\", \"offsetgroup\": \"2014-10\", \"orientation\": \"v\", \"showlegend\": true, \"textposition\": \"auto\", \"type\": \"bar\", \"x\": [\"2014-10-02T00:00:00\", \"2014-10-03T00:00:00\", \"2014-10-07T00:00:00\", \"2014-10-08T00:00:00\", \"2014-10-09T00:00:00\", \"2014-10-10T00:00:00\", \"2014-10-13T00:00:00\", \"2014-10-14T00:00:00\", \"2014-10-15T00:00:00\", \"2014-10-17T00:00:00\", \"2014-10-18T00:00:00\", \"2014-10-19T00:00:00\", \"2014-10-20T00:00:00\", \"2014-10-21T00:00:00\", \"2014-10-22T00:00:00\", \"2014-10-24T00:00:00\", \"2014-10-29T00:00:00\", \"2014-10-30T00:00:00\", \"2014-10-31T00:00:00\"], \"xaxis\": \"x\", \"y\": [1, 1, 2, 2, 1, 1, 4, 1, 1, 1, 1, 1, 2, 22, 4, 1, 2, 2, 1], \"yaxis\": \"y\"}, {\"alignmentgroup\": \"True\", \"hovertemplate\": \"Month=2014-11<br>date=%{x}<br>Count=%{y}<extra></extra>\", \"legendgroup\": \"2014-11\", \"marker\": {\"color\": \"#ab63fa\"}, \"name\": \"2014-11\", \"offsetgroup\": \"2014-11\", \"orientation\": \"v\", \"showlegend\": true, \"textposition\": \"auto\", \"type\": \"bar\", \"x\": [\"2014-11-03T00:00:00\", \"2014-11-04T00:00:00\", \"2014-11-05T00:00:00\", \"2014-11-06T00:00:00\", \"2014-11-07T00:00:00\", \"2014-11-10T00:00:00\", \"2014-11-12T00:00:00\", \"2014-11-13T00:00:00\", \"2014-11-14T00:00:00\", \"2014-11-18T00:00:00\", \"2014-11-19T00:00:00\", \"2014-11-20T00:00:00\", \"2014-11-21T00:00:00\", \"2014-11-24T00:00:00\", \"2014-11-25T00:00:00\", \"2014-11-26T00:00:00\", \"2014-11-28T00:00:00\"], \"xaxis\": \"x\", \"y\": [1, 2, 5, 3, 2, 21, 4, 1, 4, 3, 4, 1, 1, 1, 1, 2, 1], \"yaxis\": \"y\"}, {\"alignmentgroup\": \"True\", \"hovertemplate\": \"Month=2014-12<br>date=%{x}<br>Count=%{y}<extra></extra>\", \"legendgroup\": \"2014-12\", \"marker\": {\"color\": \"#FFA15A\"}, \"name\": \"2014-12\", \"offsetgroup\": \"2014-12\", \"orientation\": \"v\", \"showlegend\": true, \"textposition\": \"auto\", \"type\": \"bar\", \"x\": [\"2014-12-01T00:00:00\", \"2014-12-03T00:00:00\", \"2014-12-04T00:00:00\", \"2014-12-05T00:00:00\", \"2014-12-08T00:00:00\", \"2014-12-09T00:00:00\", \"2014-12-10T00:00:00\", \"2014-12-12T00:00:00\", \"2014-12-14T00:00:00\", \"2014-12-16T00:00:00\", \"2014-12-17T00:00:00\", \"2014-12-18T00:00:00\", \"2014-12-19T00:00:00\", \"2014-12-20T00:00:00\", \"2014-12-22T00:00:00\", \"2014-12-23T00:00:00\", \"2014-12-26T00:00:00\", \"2014-12-29T00:00:00\", \"2014-12-31T00:00:00\"], \"xaxis\": \"x\", \"y\": [1, 3, 1, 3, 18, 4, 3, 1, 1, 2, 1, 1, 4, 1, 1, 1, 2, 1, 1], \"yaxis\": \"y\"}, {\"alignmentgroup\": \"True\", \"hovertemplate\": \"Month=2015-01<br>date=%{x}<br>Count=%{y}<extra></extra>\", \"legendgroup\": \"2015-01\", \"marker\": {\"color\": \"#19d3f3\"}, \"name\": \"2015-01\", \"offsetgroup\": \"2015-01\", \"orientation\": \"v\", \"showlegend\": true, \"textposition\": \"auto\", \"type\": \"bar\", \"x\": [\"2015-01-02T00:00:00\", \"2015-01-05T00:00:00\", \"2015-01-06T00:00:00\", \"2015-01-07T00:00:00\", \"2015-01-08T00:00:00\", \"2015-01-09T00:00:00\", \"2015-01-14T00:00:00\", \"2015-01-16T00:00:00\", \"2015-01-20T00:00:00\", \"2015-01-22T00:00:00\", \"2015-01-23T00:00:00\", \"2015-01-27T00:00:00\", \"2015-01-28T00:00:00\", \"2015-01-29T00:00:00\", \"2015-01-30T00:00:00\"], \"xaxis\": \"x\", \"y\": [1, 1, 1, 5, 3, 3, 2, 1, 1, 2, 41, 1, 17, 8, 3], \"yaxis\": \"y\"}, {\"alignmentgroup\": \"True\", \"hovertemplate\": \"Month=2015-02<br>date=%{x}<br>Count=%{y}<extra></extra>\", \"legendgroup\": \"2015-02\", \"marker\": {\"color\": \"#FF6692\"}, \"name\": \"2015-02\", \"offsetgroup\": \"2015-02\", \"orientation\": \"v\", \"showlegend\": true, \"textposition\": \"auto\", \"type\": \"bar\", \"x\": [\"2015-02-01T00:00:00\", \"2015-02-02T00:00:00\", \"2015-02-03T00:00:00\", \"2015-02-04T00:00:00\", \"2015-02-05T00:00:00\", \"2015-02-09T00:00:00\", \"2015-02-11T00:00:00\", \"2015-02-12T00:00:00\", \"2015-02-17T00:00:00\", \"2015-02-19T00:00:00\", \"2015-02-23T00:00:00\", \"2015-02-24T00:00:00\", \"2015-02-25T00:00:00\", \"2015-02-26T00:00:00\"], \"xaxis\": \"x\", \"y\": [1, 1, 2, 2, 4, 12, 1, 2, 1, 1, 1, 1, 2, 2], \"yaxis\": \"y\"}, {\"alignmentgroup\": \"True\", \"hovertemplate\": \"Month=2015-03<br>date=%{x}<br>Count=%{y}<extra></extra>\", \"legendgroup\": \"2015-03\", \"marker\": {\"color\": \"#B6E880\"}, \"name\": \"2015-03\", \"offsetgroup\": \"2015-03\", \"orientation\": \"v\", \"showlegend\": true, \"textposition\": \"auto\", \"type\": \"bar\", \"x\": [\"2015-03-02T00:00:00\", \"2015-03-03T00:00:00\", \"2015-03-04T00:00:00\", \"2015-03-05T00:00:00\", \"2015-03-06T00:00:00\", \"2015-03-09T00:00:00\", \"2015-03-10T00:00:00\", \"2015-03-11T00:00:00\", \"2015-03-12T00:00:00\", \"2015-03-16T00:00:00\", \"2015-03-17T00:00:00\", \"2015-03-18T00:00:00\", \"2015-03-19T00:00:00\", \"2015-03-20T00:00:00\", \"2015-03-23T00:00:00\", \"2015-03-24T00:00:00\", \"2015-03-25T00:00:00\", \"2015-03-26T00:00:00\", \"2015-03-27T00:00:00\", \"2015-03-30T00:00:00\", \"2015-03-31T00:00:00\"], \"xaxis\": \"x\", \"y\": [2, 6, 6, 2, 1, 12, 2, 2, 1, 2, 1, 1, 1, 3, 1, 1, 1, 1, 1, 1, 3], \"yaxis\": \"y\"}, {\"alignmentgroup\": \"True\", \"hovertemplate\": \"Month=2015-04<br>date=%{x}<br>Count=%{y}<extra></extra>\", \"legendgroup\": \"2015-04\", \"marker\": {\"color\": \"#FF97FF\"}, \"name\": \"2015-04\", \"offsetgroup\": \"2015-04\", \"orientation\": \"v\", \"showlegend\": true, \"textposition\": \"auto\", \"type\": \"bar\", \"x\": [\"2015-04-01T00:00:00\", \"2015-04-02T00:00:00\", \"2015-04-06T00:00:00\", \"2015-04-07T00:00:00\", \"2015-04-08T00:00:00\", \"2015-04-10T00:00:00\", \"2015-04-13T00:00:00\", \"2015-04-14T00:00:00\", \"2015-04-15T00:00:00\", \"2015-04-16T00:00:00\", \"2015-04-17T00:00:00\", \"2015-04-20T00:00:00\", \"2015-04-21T00:00:00\", \"2015-04-22T00:00:00\", \"2015-04-24T00:00:00\", \"2015-04-27T00:00:00\", \"2015-04-28T00:00:00\", \"2015-04-29T00:00:00\", \"2015-04-30T00:00:00\"], \"xaxis\": \"x\", \"y\": [23, 1, 2, 1, 2, 2, 1, 1, 2, 1, 1, 1, 1, 34, 1, 1, 2, 5, 1], \"yaxis\": \"y\"}, {\"alignmentgroup\": \"True\", \"hovertemplate\": \"Month=2015-05<br>date=%{x}<br>Count=%{y}<extra></extra>\", \"legendgroup\": \"2015-05\", \"marker\": {\"color\": \"#FECB52\"}, \"name\": \"2015-05\", \"offsetgroup\": \"2015-05\", \"orientation\": \"v\", \"showlegend\": true, \"textposition\": \"auto\", \"type\": \"bar\", \"x\": [\"2015-05-01T00:00:00\", \"2015-05-04T00:00:00\", \"2015-05-05T00:00:00\", \"2015-05-06T00:00:00\", \"2015-05-07T00:00:00\", \"2015-05-08T00:00:00\", \"2015-05-11T00:00:00\", \"2015-05-12T00:00:00\", \"2015-05-15T00:00:00\", \"2015-05-18T00:00:00\", \"2015-05-19T00:00:00\", \"2015-05-20T00:00:00\", \"2015-05-21T00:00:00\", \"2015-05-22T00:00:00\", \"2015-05-27T00:00:00\", \"2015-05-28T00:00:00\", \"2015-05-29T00:00:00\"], \"xaxis\": \"x\", \"y\": [2, 33, 5, 5, 1, 16, 1, 1, 5, 25, 2, 5, 6, 2, 5, 2, 1], \"yaxis\": \"y\"}, {\"alignmentgroup\": \"True\", \"hovertemplate\": \"Month=2015-06<br>date=%{x}<br>Count=%{y}<extra></extra>\", \"legendgroup\": \"2015-06\", \"marker\": {\"color\": \"#636efa\"}, \"name\": \"2015-06\", \"offsetgroup\": \"2015-06\", \"orientation\": \"v\", \"showlegend\": true, \"textposition\": \"auto\", \"type\": \"bar\", \"x\": [\"2015-06-01T00:00:00\", \"2015-06-02T00:00:00\", \"2015-06-04T00:00:00\", \"2015-06-05T00:00:00\", \"2015-06-08T00:00:00\", \"2015-06-09T00:00:00\", \"2015-06-10T00:00:00\", \"2015-06-11T00:00:00\", \"2015-06-12T00:00:00\", \"2015-06-15T00:00:00\", \"2015-06-16T00:00:00\", \"2015-06-17T00:00:00\", \"2015-06-18T00:00:00\", \"2015-06-19T00:00:00\", \"2015-06-22T00:00:00\", \"2015-06-24T00:00:00\", \"2015-06-25T00:00:00\", \"2015-06-26T00:00:00\", \"2015-06-29T00:00:00\", \"2015-06-30T00:00:00\"], \"xaxis\": \"x\", \"y\": [1, 2, 1, 5, 11, 5, 1, 1, 2, 1, 1, 1, 1, 1, 1, 1, 4, 1, 1, 1], \"yaxis\": \"y\"}, {\"alignmentgroup\": \"True\", \"hovertemplate\": \"Month=2015-07<br>date=%{x}<br>Count=%{y}<extra></extra>\", \"legendgroup\": \"2015-07\", \"marker\": {\"color\": \"#EF553B\"}, \"name\": \"2015-07\", \"offsetgroup\": \"2015-07\", \"orientation\": \"v\", \"showlegend\": true, \"textposition\": \"auto\", \"type\": \"bar\", \"x\": [\"2015-07-02T00:00:00\", \"2015-07-06T00:00:00\", \"2015-07-07T00:00:00\", \"2015-07-08T00:00:00\", \"2015-07-09T00:00:00\", \"2015-07-10T00:00:00\", \"2015-07-13T00:00:00\", \"2015-07-15T00:00:00\", \"2015-07-16T00:00:00\", \"2015-07-17T00:00:00\", \"2015-07-20T00:00:00\", \"2015-07-21T00:00:00\", \"2015-07-22T00:00:00\", \"2015-07-23T00:00:00\", \"2015-07-24T00:00:00\", \"2015-07-27T00:00:00\", \"2015-07-30T00:00:00\", \"2015-07-31T00:00:00\"], \"xaxis\": \"x\", \"y\": [1, 1, 1, 3, 1, 1, 1, 1, 1, 3, 1, 5, 1, 45, 1, 1, 1, 1], \"yaxis\": \"y\"}, {\"alignmentgroup\": \"True\", \"hovertemplate\": \"Month=2015-08<br>date=%{x}<br>Count=%{y}<extra></extra>\", \"legendgroup\": \"2015-08\", \"marker\": {\"color\": \"#00cc96\"}, \"name\": \"2015-08\", \"offsetgroup\": \"2015-08\", \"orientation\": \"v\", \"showlegend\": true, \"textposition\": \"auto\", \"type\": \"bar\", \"x\": [\"2015-08-03T00:00:00\", \"2015-08-04T00:00:00\", \"2015-08-06T00:00:00\", \"2015-08-07T00:00:00\", \"2015-08-10T00:00:00\", \"2015-08-11T00:00:00\", \"2015-08-12T00:00:00\", \"2015-08-13T00:00:00\", \"2015-08-17T00:00:00\", \"2015-08-18T00:00:00\", \"2015-08-19T00:00:00\", \"2015-08-20T00:00:00\", \"2015-08-21T00:00:00\", \"2015-08-24T00:00:00\", \"2015-08-25T00:00:00\", \"2015-08-26T00:00:00\", \"2015-08-27T00:00:00\", \"2015-08-28T00:00:00\", \"2015-08-29T00:00:00\", \"2015-08-31T00:00:00\"], \"xaxis\": \"x\", \"y\": [1, 4, 3, 2, 1, 1, 1, 3, 2, 1, 3, 1, 3, 1, 1, 1, 1, 2, 1, 1], \"yaxis\": \"y\"}, {\"alignmentgroup\": \"True\", \"hovertemplate\": \"Month=2015-09<br>date=%{x}<br>Count=%{y}<extra></extra>\", \"legendgroup\": \"2015-09\", \"marker\": {\"color\": \"#ab63fa\"}, \"name\": \"2015-09\", \"offsetgroup\": \"2015-09\", \"orientation\": \"v\", \"showlegend\": true, \"textposition\": \"auto\", \"type\": \"bar\", \"x\": [\"2015-09-01T00:00:00\", \"2015-09-04T00:00:00\", \"2015-09-05T00:00:00\", \"2015-09-09T00:00:00\", \"2015-09-11T00:00:00\", \"2015-09-14T00:00:00\", \"2015-09-15T00:00:00\", \"2015-09-17T00:00:00\", \"2015-09-18T00:00:00\", \"2015-09-22T00:00:00\", \"2015-09-24T00:00:00\", \"2015-09-25T00:00:00\", \"2015-09-28T00:00:00\", \"2015-09-29T00:00:00\", \"2015-09-30T00:00:00\"], \"xaxis\": \"x\", \"y\": [4, 1, 1, 5, 1, 1, 1, 2, 1, 2, 6, 1, 1, 2, 2], \"yaxis\": \"y\"}, {\"alignmentgroup\": \"True\", \"hovertemplate\": \"Month=2015-10<br>date=%{x}<br>Count=%{y}<extra></extra>\", \"legendgroup\": \"2015-10\", \"marker\": {\"color\": \"#FFA15A\"}, \"name\": \"2015-10\", \"offsetgroup\": \"2015-10\", \"orientation\": \"v\", \"showlegend\": true, \"textposition\": \"auto\", \"type\": \"bar\", \"x\": [\"2015-10-01T00:00:00\", \"2015-10-02T00:00:00\", \"2015-10-05T00:00:00\", \"2015-10-06T00:00:00\", \"2015-10-08T00:00:00\", \"2015-10-09T00:00:00\", \"2015-10-13T00:00:00\", \"2015-10-14T00:00:00\", \"2015-10-15T00:00:00\", \"2015-10-16T00:00:00\", \"2015-10-19T00:00:00\", \"2015-10-20T00:00:00\", \"2015-10-22T00:00:00\", \"2015-10-23T00:00:00\", \"2015-10-26T00:00:00\", \"2015-10-27T00:00:00\", \"2015-10-28T00:00:00\", \"2015-10-30T00:00:00\"], \"xaxis\": \"x\", \"y\": [1, 1, 1, 2, 1, 1, 1, 2, 3, 1, 2, 1, 19, 1, 8, 1, 3, 1], \"yaxis\": \"y\"}, {\"alignmentgroup\": \"True\", \"hovertemplate\": \"Month=2015-11<br>date=%{x}<br>Count=%{y}<extra></extra>\", \"legendgroup\": \"2015-11\", \"marker\": {\"color\": \"#19d3f3\"}, \"name\": \"2015-11\", \"offsetgroup\": \"2015-11\", \"orientation\": \"v\", \"showlegend\": true, \"textposition\": \"auto\", \"type\": \"bar\", \"x\": [\"2015-11-06T00:00:00\", \"2015-11-09T00:00:00\", \"2015-11-10T00:00:00\", \"2015-11-11T00:00:00\", \"2015-11-12T00:00:00\", \"2015-11-13T00:00:00\", \"2015-11-16T00:00:00\", \"2015-11-17T00:00:00\", \"2015-11-19T00:00:00\", \"2015-11-20T00:00:00\", \"2015-11-21T00:00:00\", \"2015-11-23T00:00:00\", \"2015-11-24T00:00:00\", \"2015-11-25T00:00:00\", \"2015-11-27T00:00:00\", \"2015-11-30T00:00:00\"], \"xaxis\": \"x\", \"y\": [1, 1, 27, 7, 3, 1, 1, 1, 4, 1, 1, 1, 1, 3, 1, 4], \"yaxis\": \"y\"}, {\"alignmentgroup\": \"True\", \"hovertemplate\": \"Month=2015-12<br>date=%{x}<br>Count=%{y}<extra></extra>\", \"legendgroup\": \"2015-12\", \"marker\": {\"color\": \"#FF6692\"}, \"name\": \"2015-12\", \"offsetgroup\": \"2015-12\", \"orientation\": \"v\", \"showlegend\": true, \"textposition\": \"auto\", \"type\": \"bar\", \"x\": [\"2015-12-01T00:00:00\", \"2015-12-02T00:00:00\", \"2015-12-03T00:00:00\", \"2015-12-04T00:00:00\", \"2015-12-08T00:00:00\", \"2015-12-09T00:00:00\", \"2015-12-10T00:00:00\", \"2015-12-14T00:00:00\", \"2015-12-15T00:00:00\", \"2015-12-16T00:00:00\", \"2015-12-17T00:00:00\", \"2015-12-18T00:00:00\", \"2015-12-21T00:00:00\", \"2015-12-22T00:00:00\", \"2015-12-23T00:00:00\", \"2015-12-24T00:00:00\", \"2015-12-28T00:00:00\", \"2015-12-31T00:00:00\"], \"xaxis\": \"x\", \"y\": [1, 15, 3, 1, 2, 1, 1, 1, 1, 1, 1, 1, 2, 3, 1, 1, 1, 2], \"yaxis\": \"y\"}, {\"alignmentgroup\": \"True\", \"hovertemplate\": \"Month=2016-01<br>date=%{x}<br>Count=%{y}<extra></extra>\", \"legendgroup\": \"2016-01\", \"marker\": {\"color\": \"#B6E880\"}, \"name\": \"2016-01\", \"offsetgroup\": \"2016-01\", \"orientation\": \"v\", \"showlegend\": true, \"textposition\": \"auto\", \"type\": \"bar\", \"x\": [\"2016-01-04T00:00:00\", \"2016-01-05T00:00:00\", \"2016-01-06T00:00:00\", \"2016-01-07T00:00:00\", \"2016-01-08T00:00:00\", \"2016-01-12T00:00:00\", \"2016-01-14T00:00:00\", \"2016-01-15T00:00:00\", \"2016-01-19T00:00:00\", \"2016-01-20T00:00:00\", \"2016-01-21T00:00:00\", \"2016-01-25T00:00:00\", \"2016-01-26T00:00:00\", \"2016-01-29T00:00:00\"], \"xaxis\": \"x\", \"y\": [1, 1, 1, 1, 2, 4, 1, 1, 3, 5, 3, 33, 5, 1], \"yaxis\": \"y\"}, {\"alignmentgroup\": \"True\", \"hovertemplate\": \"Month=2016-02<br>date=%{x}<br>Count=%{y}<extra></extra>\", \"legendgroup\": \"2016-02\", \"marker\": {\"color\": \"#FF97FF\"}, \"name\": \"2016-02\", \"offsetgroup\": \"2016-02\", \"orientation\": \"v\", \"showlegend\": true, \"textposition\": \"auto\", \"type\": \"bar\", \"x\": [\"2016-02-02T00:00:00\", \"2016-02-03T00:00:00\", \"2016-02-04T00:00:00\", \"2016-02-05T00:00:00\", \"2016-02-08T00:00:00\", \"2016-02-09T00:00:00\", \"2016-02-11T00:00:00\", \"2016-02-12T00:00:00\", \"2016-02-15T00:00:00\", \"2016-02-16T00:00:00\", \"2016-02-17T00:00:00\", \"2016-02-18T00:00:00\", \"2016-02-19T00:00:00\", \"2016-02-24T00:00:00\", \"2016-02-25T00:00:00\", \"2016-02-26T00:00:00\", \"2016-02-29T00:00:00\"], \"xaxis\": \"x\", \"y\": [2, 1, 1, 1, 3, 4, 1, 2, 1, 1, 1, 12, 1, 1, 3, 1, 1], \"yaxis\": \"y\"}, {\"alignmentgroup\": \"True\", \"hovertemplate\": \"Month=2016-03<br>date=%{x}<br>Count=%{y}<extra></extra>\", \"legendgroup\": \"2016-03\", \"marker\": {\"color\": \"#FECB52\"}, \"name\": \"2016-03\", \"offsetgroup\": \"2016-03\", \"orientation\": \"v\", \"showlegend\": true, \"textposition\": \"auto\", \"type\": \"bar\", \"x\": [\"2016-03-01T00:00:00\", \"2016-03-02T00:00:00\", \"2016-03-03T00:00:00\", \"2016-03-04T00:00:00\", \"2016-03-08T00:00:00\", \"2016-03-09T00:00:00\", \"2016-03-10T00:00:00\", \"2016-03-14T00:00:00\", \"2016-03-15T00:00:00\", \"2016-03-16T00:00:00\", \"2016-03-17T00:00:00\", \"2016-03-18T00:00:00\", \"2016-03-20T00:00:00\", \"2016-03-21T00:00:00\", \"2016-03-22T00:00:00\", \"2016-03-23T00:00:00\", \"2016-03-24T00:00:00\", \"2016-03-28T00:00:00\", \"2016-03-31T00:00:00\"], \"xaxis\": \"x\", \"y\": [2, 1, 2, 3, 1, 1, 2, 1, 1, 1, 1, 3, 1, 2, 1, 1, 2, 1, 5], \"yaxis\": \"y\"}, {\"alignmentgroup\": \"True\", \"hovertemplate\": \"Month=2016-04<br>date=%{x}<br>Count=%{y}<extra></extra>\", \"legendgroup\": \"2016-04\", \"marker\": {\"color\": \"#636efa\"}, \"name\": \"2016-04\", \"offsetgroup\": \"2016-04\", \"orientation\": \"v\", \"showlegend\": true, \"textposition\": \"auto\", \"type\": \"bar\", \"x\": [\"2016-04-01T00:00:00\", \"2016-04-04T00:00:00\", \"2016-04-05T00:00:00\", \"2016-04-06T00:00:00\", \"2016-04-10T00:00:00\", \"2016-04-11T00:00:00\", \"2016-04-13T00:00:00\", \"2016-04-14T00:00:00\", \"2016-04-15T00:00:00\", \"2016-04-18T00:00:00\", \"2016-04-19T00:00:00\", \"2016-04-20T00:00:00\", \"2016-04-22T00:00:00\", \"2016-04-26T00:00:00\", \"2016-04-27T00:00:00\", \"2016-04-28T00:00:00\", \"2016-04-29T00:00:00\"], \"xaxis\": \"x\", \"y\": [2, 2, 1, 11, 1, 2, 2, 2, 1, 1, 1, 1, 28, 8, 1, 1, 1], \"yaxis\": \"y\"}, {\"alignmentgroup\": \"True\", \"hovertemplate\": \"Month=2016-05<br>date=%{x}<br>Count=%{y}<extra></extra>\", \"legendgroup\": \"2016-05\", \"marker\": {\"color\": \"#EF553B\"}, \"name\": \"2016-05\", \"offsetgroup\": \"2016-05\", \"orientation\": \"v\", \"showlegend\": true, \"textposition\": \"auto\", \"type\": \"bar\", \"x\": [\"2016-05-03T00:00:00\", \"2016-05-04T00:00:00\", \"2016-05-05T00:00:00\", \"2016-05-06T00:00:00\", \"2016-05-09T00:00:00\", \"2016-05-10T00:00:00\", \"2016-05-11T00:00:00\", \"2016-05-13T00:00:00\", \"2016-05-17T00:00:00\", \"2016-05-18T00:00:00\", \"2016-05-23T00:00:00\", \"2016-05-24T00:00:00\", \"2016-05-25T00:00:00\", \"2016-05-26T00:00:00\", \"2016-05-31T00:00:00\"], \"xaxis\": \"x\", \"y\": [1, 1, 1, 1, 1, 1, 6, 1, 1, 1, 1, 1, 2, 13, 1], \"yaxis\": \"y\"}, {\"alignmentgroup\": \"True\", \"hovertemplate\": \"Month=2016-06<br>date=%{x}<br>Count=%{y}<extra></extra>\", \"legendgroup\": \"2016-06\", \"marker\": {\"color\": \"#00cc96\"}, \"name\": \"2016-06\", \"offsetgroup\": \"2016-06\", \"orientation\": \"v\", \"showlegend\": true, \"textposition\": \"auto\", \"type\": \"bar\", \"x\": [\"2016-06-01T00:00:00\", \"2016-06-02T00:00:00\", \"2016-06-04T00:00:00\", \"2016-06-06T00:00:00\", \"2016-06-07T00:00:00\", \"2016-06-08T00:00:00\", \"2016-06-13T00:00:00\", \"2016-06-15T00:00:00\", \"2016-06-17T00:00:00\", \"2016-06-20T00:00:00\", \"2016-06-21T00:00:00\", \"2016-06-22T00:00:00\", \"2016-06-23T00:00:00\", \"2016-06-24T00:00:00\", \"2016-06-27T00:00:00\", \"2016-06-28T00:00:00\", \"2016-06-29T00:00:00\", \"2016-06-30T00:00:00\"], \"xaxis\": \"x\", \"y\": [3, 3, 1, 4, 2, 2, 4, 1, 2, 1, 1, 1, 3, 1, 1, 1, 1, 1], \"yaxis\": \"y\"}, {\"alignmentgroup\": \"True\", \"hovertemplate\": \"Month=2016-07<br>date=%{x}<br>Count=%{y}<extra></extra>\", \"legendgroup\": \"2016-07\", \"marker\": {\"color\": \"#ab63fa\"}, \"name\": \"2016-07\", \"offsetgroup\": \"2016-07\", \"orientation\": \"v\", \"showlegend\": true, \"textposition\": \"auto\", \"type\": \"bar\", \"x\": [\"2016-07-05T00:00:00\", \"2016-07-06T00:00:00\", \"2016-07-07T00:00:00\", \"2016-07-12T00:00:00\", \"2016-07-13T00:00:00\", \"2016-07-14T00:00:00\", \"2016-07-18T00:00:00\", \"2016-07-19T00:00:00\", \"2016-07-20T00:00:00\", \"2016-07-22T00:00:00\", \"2016-07-25T00:00:00\", \"2016-07-26T00:00:00\", \"2016-07-27T00:00:00\", \"2016-07-28T00:00:00\"], \"xaxis\": \"x\", \"y\": [3, 5, 8, 2, 1, 1, 1, 1, 1, 1, 1, 27, 1, 1], \"yaxis\": \"y\"}, {\"alignmentgroup\": \"True\", \"hovertemplate\": \"Month=2016-08<br>date=%{x}<br>Count=%{y}<extra></extra>\", \"legendgroup\": \"2016-08\", \"marker\": {\"color\": \"#FFA15A\"}, \"name\": \"2016-08\", \"offsetgroup\": \"2016-08\", \"orientation\": \"v\", \"showlegend\": true, \"textposition\": \"auto\", \"type\": \"bar\", \"x\": [\"2016-08-01T00:00:00\", \"2016-08-02T00:00:00\", \"2016-08-03T00:00:00\", \"2016-08-04T00:00:00\", \"2016-08-05T00:00:00\", \"2016-08-09T00:00:00\", \"2016-08-10T00:00:00\", \"2016-08-11T00:00:00\", \"2016-08-12T00:00:00\", \"2016-08-15T00:00:00\", \"2016-08-19T00:00:00\", \"2016-08-23T00:00:00\", \"2016-08-24T00:00:00\", \"2016-08-26T00:00:00\", \"2016-08-29T00:00:00\", \"2016-08-30T00:00:00\", \"2016-08-31T00:00:00\"], \"xaxis\": \"x\", \"y\": [7, 3, 1, 1, 1, 9, 1, 1, 1, 1, 1, 7, 3, 1, 1, 1, 7], \"yaxis\": \"y\"}, {\"alignmentgroup\": \"True\", \"hovertemplate\": \"Month=2016-09<br>date=%{x}<br>Count=%{y}<extra></extra>\", \"legendgroup\": \"2016-09\", \"marker\": {\"color\": \"#19d3f3\"}, \"name\": \"2016-09\", \"offsetgroup\": \"2016-09\", \"orientation\": \"v\", \"showlegend\": true, \"textposition\": \"auto\", \"type\": \"bar\", \"x\": [\"2016-09-01T00:00:00\", \"2016-09-02T00:00:00\", \"2016-09-06T00:00:00\", \"2016-09-07T00:00:00\", \"2016-09-09T00:00:00\", \"2016-09-13T00:00:00\", \"2016-09-14T00:00:00\", \"2016-09-18T00:00:00\", \"2016-09-19T00:00:00\", \"2016-09-20T00:00:00\", \"2016-09-21T00:00:00\", \"2016-09-22T00:00:00\", \"2016-09-23T00:00:00\", \"2016-09-27T00:00:00\", \"2016-09-28T00:00:00\", \"2016-09-29T00:00:00\", \"2016-09-30T00:00:00\"], \"xaxis\": \"x\", \"y\": [1, 2, 3, 3, 1, 1, 1, 2, 1, 2, 5, 1, 1, 1, 1, 3, 2], \"yaxis\": \"y\"}, {\"alignmentgroup\": \"True\", \"hovertemplate\": \"Month=2016-10<br>date=%{x}<br>Count=%{y}<extra></extra>\", \"legendgroup\": \"2016-10\", \"marker\": {\"color\": \"#FF6692\"}, \"name\": \"2016-10\", \"offsetgroup\": \"2016-10\", \"orientation\": \"v\", \"showlegend\": true, \"textposition\": \"auto\", \"type\": \"bar\", \"x\": [\"2016-10-05T00:00:00\", \"2016-10-06T00:00:00\", \"2016-10-07T00:00:00\", \"2016-10-13T00:00:00\", \"2016-10-14T00:00:00\", \"2016-10-16T00:00:00\", \"2016-10-17T00:00:00\", \"2016-10-18T00:00:00\", \"2016-10-21T00:00:00\", \"2016-10-24T00:00:00\", \"2016-10-26T00:00:00\", \"2016-10-29T00:00:00\", \"2016-10-31T00:00:00\"], \"xaxis\": \"x\", \"y\": [3, 4, 1, 10, 2, 1, 1, 3, 21, 3, 1, 1, 1], \"yaxis\": \"y\"}, {\"alignmentgroup\": \"True\", \"hovertemplate\": \"Month=2016-11<br>date=%{x}<br>Count=%{y}<extra></extra>\", \"legendgroup\": \"2016-11\", \"marker\": {\"color\": \"#B6E880\"}, \"name\": \"2016-11\", \"offsetgroup\": \"2016-11\", \"orientation\": \"v\", \"showlegend\": true, \"textposition\": \"auto\", \"type\": \"bar\", \"x\": [\"2016-11-01T00:00:00\", \"2016-11-02T00:00:00\", \"2016-11-03T00:00:00\", \"2016-11-04T00:00:00\", \"2016-11-07T00:00:00\", \"2016-11-09T00:00:00\", \"2016-11-10T00:00:00\", \"2016-11-14T00:00:00\", \"2016-11-16T00:00:00\", \"2016-11-17T00:00:00\", \"2016-11-21T00:00:00\", \"2016-11-25T00:00:00\", \"2016-11-28T00:00:00\", \"2016-11-30T00:00:00\"], \"xaxis\": \"x\", \"y\": [1, 1, 2, 4, 4, 6, 2, 1, 1, 1, 1, 1, 1, 2], \"yaxis\": \"y\"}, {\"alignmentgroup\": \"True\", \"hovertemplate\": \"Month=2016-12<br>date=%{x}<br>Count=%{y}<extra></extra>\", \"legendgroup\": \"2016-12\", \"marker\": {\"color\": \"#FF97FF\"}, \"name\": \"2016-12\", \"offsetgroup\": \"2016-12\", \"orientation\": \"v\", \"showlegend\": true, \"textposition\": \"auto\", \"type\": \"bar\", \"x\": [\"2016-12-01T00:00:00\", \"2016-12-02T00:00:00\", \"2016-12-03T00:00:00\", \"2016-12-05T00:00:00\", \"2016-12-06T00:00:00\", \"2016-12-07T00:00:00\", \"2016-12-08T00:00:00\", \"2016-12-09T00:00:00\", \"2016-12-12T00:00:00\", \"2016-12-13T00:00:00\", \"2016-12-14T00:00:00\", \"2016-12-15T00:00:00\", \"2016-12-16T00:00:00\", \"2016-12-19T00:00:00\", \"2016-12-22T00:00:00\", \"2016-12-30T00:00:00\"], \"xaxis\": \"x\", \"y\": [1, 3, 1, 2, 3, 2, 4, 1, 1, 2, 1, 2, 1, 1, 1, 1], \"yaxis\": \"y\"}, {\"alignmentgroup\": \"True\", \"hovertemplate\": \"Month=2017-01<br>date=%{x}<br>Count=%{y}<extra></extra>\", \"legendgroup\": \"2017-01\", \"marker\": {\"color\": \"#FECB52\"}, \"name\": \"2017-01\", \"offsetgroup\": \"2017-01\", \"orientation\": \"v\", \"showlegend\": true, \"textposition\": \"auto\", \"type\": \"bar\", \"x\": [\"2017-01-03T00:00:00\", \"2017-01-04T00:00:00\", \"2017-01-05T00:00:00\", \"2017-01-06T00:00:00\", \"2017-01-07T00:00:00\", \"2017-01-08T00:00:00\", \"2017-01-10T00:00:00\", \"2017-01-12T00:00:00\", \"2017-01-13T00:00:00\", \"2017-01-17T00:00:00\", \"2017-01-18T00:00:00\", \"2017-01-23T00:00:00\", \"2017-01-24T00:00:00\", \"2017-01-27T00:00:00\", \"2017-01-31T00:00:00\"], \"xaxis\": \"x\", \"y\": [1, 1, 1, 6, 1, 1, 2, 1, 1, 1, 1, 10, 1, 3, 2], \"yaxis\": \"y\"}, {\"alignmentgroup\": \"True\", \"hovertemplate\": \"Month=2017-02<br>date=%{x}<br>Count=%{y}<extra></extra>\", \"legendgroup\": \"2017-02\", \"marker\": {\"color\": \"#636efa\"}, \"name\": \"2017-02\", \"offsetgroup\": \"2017-02\", \"orientation\": \"v\", \"showlegend\": true, \"textposition\": \"auto\", \"type\": \"bar\", \"x\": [\"2017-02-02T00:00:00\", \"2017-02-03T00:00:00\", \"2017-02-06T00:00:00\", \"2017-02-09T00:00:00\", \"2017-02-10T00:00:00\", \"2017-02-13T00:00:00\", \"2017-02-14T00:00:00\", \"2017-02-15T00:00:00\", \"2017-02-16T00:00:00\", \"2017-02-17T00:00:00\", \"2017-02-21T00:00:00\", \"2017-02-24T00:00:00\", \"2017-02-28T00:00:00\"], \"xaxis\": \"x\", \"y\": [1, 2, 3, 2, 1, 1, 2, 1, 1, 1, 1, 1, 1], \"yaxis\": \"y\"}, {\"alignmentgroup\": \"True\", \"hovertemplate\": \"Month=2017-03<br>date=%{x}<br>Count=%{y}<extra></extra>\", \"legendgroup\": \"2017-03\", \"marker\": {\"color\": \"#EF553B\"}, \"name\": \"2017-03\", \"offsetgroup\": \"2017-03\", \"orientation\": \"v\", \"showlegend\": true, \"textposition\": \"auto\", \"type\": \"bar\", \"x\": [\"2017-03-01T00:00:00\", \"2017-03-03T00:00:00\", \"2017-03-06T00:00:00\", \"2017-03-07T00:00:00\", \"2017-03-09T00:00:00\", \"2017-03-10T00:00:00\", \"2017-03-13T00:00:00\", \"2017-03-14T00:00:00\", \"2017-03-15T00:00:00\", \"2017-03-16T00:00:00\", \"2017-03-17T00:00:00\", \"2017-03-20T00:00:00\", \"2017-03-21T00:00:00\", \"2017-03-22T00:00:00\", \"2017-03-24T00:00:00\", \"2017-03-28T00:00:00\", \"2017-03-30T00:00:00\", \"2017-03-31T00:00:00\"], \"xaxis\": \"x\", \"y\": [7, 1, 5, 1, 1, 1, 1, 2, 5, 7, 1, 1, 7, 1, 1, 3, 1, 5], \"yaxis\": \"y\"}, {\"alignmentgroup\": \"True\", \"hovertemplate\": \"Month=2017-04<br>date=%{x}<br>Count=%{y}<extra></extra>\", \"legendgroup\": \"2017-04\", \"marker\": {\"color\": \"#00cc96\"}, \"name\": \"2017-04\", \"offsetgroup\": \"2017-04\", \"orientation\": \"v\", \"showlegend\": true, \"textposition\": \"auto\", \"type\": \"bar\", \"x\": [\"2017-04-04T00:00:00\", \"2017-04-05T00:00:00\", \"2017-04-06T00:00:00\", \"2017-04-07T00:00:00\", \"2017-04-12T00:00:00\", \"2017-04-13T00:00:00\", \"2017-04-14T00:00:00\", \"2017-04-17T00:00:00\", \"2017-04-18T00:00:00\", \"2017-04-19T00:00:00\", \"2017-04-21T00:00:00\", \"2017-04-22T00:00:00\", \"2017-04-24T00:00:00\", \"2017-04-25T00:00:00\", \"2017-04-26T00:00:00\", \"2017-04-27T00:00:00\", \"2017-04-28T00:00:00\"], \"xaxis\": \"x\", \"y\": [4, 1, 3, 1, 2, 2, 1, 4, 1, 1, 1, 1, 2, 12, 1, 1, 1], \"yaxis\": \"y\"}, {\"alignmentgroup\": \"True\", \"hovertemplate\": \"Month=2017-05<br>date=%{x}<br>Count=%{y}<extra></extra>\", \"legendgroup\": \"2017-05\", \"marker\": {\"color\": \"#ab63fa\"}, \"name\": \"2017-05\", \"offsetgroup\": \"2017-05\", \"orientation\": \"v\", \"showlegend\": true, \"textposition\": \"auto\", \"type\": \"bar\", \"x\": [\"2017-05-02T00:00:00\", \"2017-05-03T00:00:00\", \"2017-05-10T00:00:00\", \"2017-05-11T00:00:00\", \"2017-05-16T00:00:00\", \"2017-05-18T00:00:00\", \"2017-05-23T00:00:00\", \"2017-05-24T00:00:00\", \"2017-05-26T00:00:00\", \"2017-05-31T00:00:00\"], \"xaxis\": \"x\", \"y\": [6, 2, 4, 1, 4, 1, 1, 1, 1, 6], \"yaxis\": \"y\"}, {\"alignmentgroup\": \"True\", \"hovertemplate\": \"Month=2017-06<br>date=%{x}<br>Count=%{y}<extra></extra>\", \"legendgroup\": \"2017-06\", \"marker\": {\"color\": \"#FFA15A\"}, \"name\": \"2017-06\", \"offsetgroup\": \"2017-06\", \"orientation\": \"v\", \"showlegend\": true, \"textposition\": \"auto\", \"type\": \"bar\", \"x\": [\"2017-06-01T00:00:00\", \"2017-06-06T00:00:00\", \"2017-06-08T00:00:00\", \"2017-06-09T00:00:00\", \"2017-06-12T00:00:00\", \"2017-06-14T00:00:00\", \"2017-06-16T00:00:00\", \"2017-06-19T00:00:00\", \"2017-06-20T00:00:00\", \"2017-06-26T00:00:00\", \"2017-06-27T00:00:00\"], \"xaxis\": \"x\", \"y\": [5, 2, 4, 1, 3, 1, 8, 1, 2, 1, 1], \"yaxis\": \"y\"}, {\"alignmentgroup\": \"True\", \"hovertemplate\": \"Month=2017-07<br>date=%{x}<br>Count=%{y}<extra></extra>\", \"legendgroup\": \"2017-07\", \"marker\": {\"color\": \"#19d3f3\"}, \"name\": \"2017-07\", \"offsetgroup\": \"2017-07\", \"orientation\": \"v\", \"showlegend\": true, \"textposition\": \"auto\", \"type\": \"bar\", \"x\": [\"2017-07-05T00:00:00\", \"2017-07-06T00:00:00\", \"2017-07-07T00:00:00\", \"2017-07-10T00:00:00\", \"2017-07-11T00:00:00\", \"2017-07-12T00:00:00\", \"2017-07-13T00:00:00\", \"2017-07-14T00:00:00\", \"2017-07-17T00:00:00\", \"2017-07-18T00:00:00\", \"2017-07-20T00:00:00\", \"2017-07-21T00:00:00\", \"2017-07-24T00:00:00\", \"2017-07-25T00:00:00\", \"2017-07-26T00:00:00\", \"2017-07-31T00:00:00\"], \"xaxis\": \"x\", \"y\": [1, 5, 2, 1, 2, 1, 1, 1, 1, 1, 1, 1, 1, 9, 11, 1], \"yaxis\": \"y\"}, {\"alignmentgroup\": \"True\", \"hovertemplate\": \"Month=2017-08<br>date=%{x}<br>Count=%{y}<extra></extra>\", \"legendgroup\": \"2017-08\", \"marker\": {\"color\": \"#FF6692\"}, \"name\": \"2017-08\", \"offsetgroup\": \"2017-08\", \"orientation\": \"v\", \"showlegend\": true, \"textposition\": \"auto\", \"type\": \"bar\", \"x\": [\"2017-08-01T00:00:00\", \"2017-08-03T00:00:00\", \"2017-08-04T00:00:00\", \"2017-08-08T00:00:00\", \"2017-08-09T00:00:00\", \"2017-08-10T00:00:00\", \"2017-08-15T00:00:00\", \"2017-08-17T00:00:00\", \"2017-08-18T00:00:00\", \"2017-08-21T00:00:00\", \"2017-08-22T00:00:00\", \"2017-08-23T00:00:00\", \"2017-08-25T00:00:00\", \"2017-08-28T00:00:00\", \"2017-08-30T00:00:00\", \"2017-08-31T00:00:00\"], \"xaxis\": \"x\", \"y\": [1, 1, 2, 2, 4, 1, 2, 1, 2, 3, 1, 2, 1, 1, 3, 1], \"yaxis\": \"y\"}, {\"alignmentgroup\": \"True\", \"hovertemplate\": \"Month=2017-09<br>date=%{x}<br>Count=%{y}<extra></extra>\", \"legendgroup\": \"2017-09\", \"marker\": {\"color\": \"#B6E880\"}, \"name\": \"2017-09\", \"offsetgroup\": \"2017-09\", \"orientation\": \"v\", \"showlegend\": true, \"textposition\": \"auto\", \"type\": \"bar\", \"x\": [\"2017-09-03T00:00:00\", \"2017-09-05T00:00:00\", \"2017-09-06T00:00:00\", \"2017-09-07T00:00:00\", \"2017-09-12T00:00:00\", \"2017-09-13T00:00:00\", \"2017-09-15T00:00:00\", \"2017-09-19T00:00:00\", \"2017-09-20T00:00:00\", \"2017-09-21T00:00:00\", \"2017-09-22T00:00:00\", \"2017-09-25T00:00:00\", \"2017-09-27T00:00:00\", \"2017-09-28T00:00:00\", \"2017-09-29T00:00:00\"], \"xaxis\": \"x\", \"y\": [1, 3, 7, 2, 1, 2, 1, 1, 3, 4, 1, 1, 2, 1, 1], \"yaxis\": \"y\"}, {\"alignmentgroup\": \"True\", \"hovertemplate\": \"Month=2017-10<br>date=%{x}<br>Count=%{y}<extra></extra>\", \"legendgroup\": \"2017-10\", \"marker\": {\"color\": \"#FF97FF\"}, \"name\": \"2017-10\", \"offsetgroup\": \"2017-10\", \"orientation\": \"v\", \"showlegend\": true, \"textposition\": \"auto\", \"type\": \"bar\", \"x\": [\"2017-10-03T00:00:00\", \"2017-10-05T00:00:00\", \"2017-10-09T00:00:00\", \"2017-10-10T00:00:00\", \"2017-10-11T00:00:00\", \"2017-10-13T00:00:00\", \"2017-10-18T00:00:00\", \"2017-10-19T00:00:00\", \"2017-10-23T00:00:00\", \"2017-10-24T00:00:00\", \"2017-10-25T00:00:00\", \"2017-10-26T00:00:00\", \"2017-10-31T00:00:00\"], \"xaxis\": \"x\", \"y\": [1, 2, 1, 1, 1, 1, 2, 1, 2, 13, 2, 1, 1], \"yaxis\": \"y\"}, {\"alignmentgroup\": \"True\", \"hovertemplate\": \"Month=2017-11<br>date=%{x}<br>Count=%{y}<extra></extra>\", \"legendgroup\": \"2017-11\", \"marker\": {\"color\": \"#FECB52\"}, \"name\": \"2017-11\", \"offsetgroup\": \"2017-11\", \"orientation\": \"v\", \"showlegend\": true, \"textposition\": \"auto\", \"type\": \"bar\", \"x\": [\"2017-11-02T00:00:00\", \"2017-11-06T00:00:00\", \"2017-11-07T00:00:00\", \"2017-11-08T00:00:00\", \"2017-11-10T00:00:00\", \"2017-11-13T00:00:00\", \"2017-11-14T00:00:00\", \"2017-11-15T00:00:00\", \"2017-11-17T00:00:00\", \"2017-11-21T00:00:00\", \"2017-11-24T00:00:00\", \"2017-11-29T00:00:00\", \"2017-11-30T00:00:00\"], \"xaxis\": \"x\", \"y\": [1, 2, 4, 1, 1, 1, 1, 1, 1, 3, 1, 1, 1], \"yaxis\": \"y\"}, {\"alignmentgroup\": \"True\", \"hovertemplate\": \"Month=2017-12<br>date=%{x}<br>Count=%{y}<extra></extra>\", \"legendgroup\": \"2017-12\", \"marker\": {\"color\": \"#636efa\"}, \"name\": \"2017-12\", \"offsetgroup\": \"2017-12\", \"orientation\": \"v\", \"showlegend\": true, \"textposition\": \"auto\", \"type\": \"bar\", \"x\": [\"2017-12-01T00:00:00\", \"2017-12-04T00:00:00\", \"2017-12-05T00:00:00\", \"2017-12-06T00:00:00\", \"2017-12-11T00:00:00\", \"2017-12-12T00:00:00\", \"2017-12-13T00:00:00\", \"2017-12-15T00:00:00\", \"2017-12-18T00:00:00\", \"2017-12-19T00:00:00\", \"2017-12-20T00:00:00\", \"2017-12-21T00:00:00\"], \"xaxis\": \"x\", \"y\": [1, 2, 3, 3, 1, 1, 1, 3, 1, 2, 1, 1], \"yaxis\": \"y\"}, {\"alignmentgroup\": \"True\", \"hovertemplate\": \"Month=2018-01<br>date=%{x}<br>Count=%{y}<extra></extra>\", \"legendgroup\": \"2018-01\", \"marker\": {\"color\": \"#EF553B\"}, \"name\": \"2018-01\", \"offsetgroup\": \"2018-01\", \"orientation\": \"v\", \"showlegend\": true, \"textposition\": \"auto\", \"type\": \"bar\", \"x\": [\"2018-01-02T00:00:00\", \"2018-01-04T00:00:00\", \"2018-01-05T00:00:00\", \"2018-01-08T00:00:00\", \"2018-01-10T00:00:00\", \"2018-01-12T00:00:00\", \"2018-01-16T00:00:00\", \"2018-01-17T00:00:00\", \"2018-01-18T00:00:00\", \"2018-01-19T00:00:00\", \"2018-01-22T00:00:00\", \"2018-01-23T00:00:00\", \"2018-01-24T00:00:00\", \"2018-01-29T00:00:00\", \"2018-01-30T00:00:00\", \"2018-01-31T00:00:00\"], \"xaxis\": \"x\", \"y\": [1, 3, 2, 1, 1, 1, 3, 2, 1, 2, 2, 1, 1, 4, 19, 1], \"yaxis\": \"y\"}, {\"alignmentgroup\": \"True\", \"hovertemplate\": \"Month=2018-02<br>date=%{x}<br>Count=%{y}<extra></extra>\", \"legendgroup\": \"2018-02\", \"marker\": {\"color\": \"#00cc96\"}, \"name\": \"2018-02\", \"offsetgroup\": \"2018-02\", \"orientation\": \"v\", \"showlegend\": true, \"textposition\": \"auto\", \"type\": \"bar\", \"x\": [\"2018-02-01T00:00:00\", \"2018-02-02T00:00:00\", \"2018-02-05T00:00:00\", \"2018-02-06T00:00:00\", \"2018-02-07T00:00:00\", \"2018-02-08T00:00:00\", \"2018-02-09T00:00:00\", \"2018-02-12T00:00:00\", \"2018-02-13T00:00:00\", \"2018-02-14T00:00:00\", \"2018-02-15T00:00:00\", \"2018-02-21T00:00:00\", \"2018-02-22T00:00:00\", \"2018-02-26T00:00:00\", \"2018-02-27T00:00:00\", \"2018-02-28T00:00:00\"], \"xaxis\": \"x\", \"y\": [2, 1, 1, 2, 1, 1, 1, 2, 3, 1, 3, 2, 1, 2, 1, 4], \"yaxis\": \"y\"}, {\"alignmentgroup\": \"True\", \"hovertemplate\": \"Month=2018-03<br>date=%{x}<br>Count=%{y}<extra></extra>\", \"legendgroup\": \"2018-03\", \"marker\": {\"color\": \"#ab63fa\"}, \"name\": \"2018-03\", \"offsetgroup\": \"2018-03\", \"orientation\": \"v\", \"showlegend\": true, \"textposition\": \"auto\", \"type\": \"bar\", \"x\": [\"2018-03-02T00:00:00\", \"2018-03-05T00:00:00\", \"2018-03-06T00:00:00\", \"2018-03-07T00:00:00\", \"2018-03-12T00:00:00\", \"2018-03-13T00:00:00\", \"2018-03-14T00:00:00\", \"2018-03-15T00:00:00\", \"2018-03-16T00:00:00\", \"2018-03-19T00:00:00\", \"2018-03-21T00:00:00\", \"2018-03-23T00:00:00\", \"2018-03-26T00:00:00\", \"2018-03-29T00:00:00\"], \"xaxis\": \"x\", \"y\": [2, 2, 4, 4, 2, 3, 2, 2, 1, 3, 2, 1, 1, 1], \"yaxis\": \"y\"}, {\"alignmentgroup\": \"True\", \"hovertemplate\": \"Month=2018-04<br>date=%{x}<br>Count=%{y}<extra></extra>\", \"legendgroup\": \"2018-04\", \"marker\": {\"color\": \"#FFA15A\"}, \"name\": \"2018-04\", \"offsetgroup\": \"2018-04\", \"orientation\": \"v\", \"showlegend\": true, \"textposition\": \"auto\", \"type\": \"bar\", \"x\": [\"2018-04-02T00:00:00\", \"2018-04-03T00:00:00\", \"2018-04-04T00:00:00\", \"2018-04-05T00:00:00\", \"2018-04-06T00:00:00\", \"2018-04-09T00:00:00\", \"2018-04-10T00:00:00\", \"2018-04-11T00:00:00\", \"2018-04-12T00:00:00\", \"2018-04-13T00:00:00\", \"2018-04-16T00:00:00\", \"2018-04-18T00:00:00\", \"2018-04-19T00:00:00\", \"2018-04-20T00:00:00\", \"2018-04-24T00:00:00\", \"2018-04-25T00:00:00\", \"2018-04-27T00:00:00\", \"2018-04-30T00:00:00\"], \"xaxis\": \"x\", \"y\": [1, 1, 2, 2, 1, 1, 3, 1, 4, 1, 1, 1, 1, 1, 1, 2, 1, 27], \"yaxis\": \"y\"}, {\"alignmentgroup\": \"True\", \"hovertemplate\": \"Month=2018-05<br>date=%{x}<br>Count=%{y}<extra></extra>\", \"legendgroup\": \"2018-05\", \"marker\": {\"color\": \"#19d3f3\"}, \"name\": \"2018-05\", \"offsetgroup\": \"2018-05\", \"orientation\": \"v\", \"showlegend\": true, \"textposition\": \"auto\", \"type\": \"bar\", \"x\": [\"2018-05-01T00:00:00\", \"2018-05-02T00:00:00\", \"2018-05-03T00:00:00\", \"2018-05-04T00:00:00\", \"2018-05-07T00:00:00\", \"2018-05-08T00:00:00\", \"2018-05-09T00:00:00\", \"2018-05-11T00:00:00\", \"2018-05-14T00:00:00\", \"2018-05-15T00:00:00\", \"2018-05-17T00:00:00\", \"2018-05-21T00:00:00\", \"2018-05-23T00:00:00\", \"2018-05-24T00:00:00\", \"2018-05-25T00:00:00\", \"2018-05-28T00:00:00\", \"2018-05-30T00:00:00\", \"2018-05-31T00:00:00\"], \"xaxis\": \"x\", \"y\": [2, 3, 1, 1, 2, 1, 1, 7, 6, 2, 5, 1, 3, 16, 1, 2, 10, 1], \"yaxis\": \"y\"}, {\"alignmentgroup\": \"True\", \"hovertemplate\": \"Month=2018-06<br>date=%{x}<br>Count=%{y}<extra></extra>\", \"legendgroup\": \"2018-06\", \"marker\": {\"color\": \"#FF6692\"}, \"name\": \"2018-06\", \"offsetgroup\": \"2018-06\", \"orientation\": \"v\", \"showlegend\": true, \"textposition\": \"auto\", \"type\": \"bar\", \"x\": [\"2018-06-04T00:00:00\", \"2018-06-05T00:00:00\", \"2018-06-06T00:00:00\", \"2018-06-07T00:00:00\", \"2018-06-08T00:00:00\", \"2018-06-11T00:00:00\", \"2018-06-12T00:00:00\", \"2018-06-15T00:00:00\", \"2018-06-18T00:00:00\", \"2018-06-19T00:00:00\", \"2018-06-20T00:00:00\", \"2018-06-22T00:00:00\", \"2018-06-26T00:00:00\", \"2018-06-27T00:00:00\", \"2018-06-29T00:00:00\"], \"xaxis\": \"x\", \"y\": [5, 1, 1, 11, 1, 2, 3, 2, 2, 1, 1, 1, 2, 1, 1], \"yaxis\": \"y\"}, {\"alignmentgroup\": \"True\", \"hovertemplate\": \"Month=2018-07<br>date=%{x}<br>Count=%{y}<extra></extra>\", \"legendgroup\": \"2018-07\", \"marker\": {\"color\": \"#B6E880\"}, \"name\": \"2018-07\", \"offsetgroup\": \"2018-07\", \"orientation\": \"v\", \"showlegend\": true, \"textposition\": \"auto\", \"type\": \"bar\", \"x\": [\"2018-07-02T00:00:00\", \"2018-07-05T00:00:00\", \"2018-07-06T00:00:00\", \"2018-07-10T00:00:00\", \"2018-07-11T00:00:00\", \"2018-07-12T00:00:00\", \"2018-07-13T00:00:00\", \"2018-07-16T00:00:00\", \"2018-07-17T00:00:00\", \"2018-07-18T00:00:00\", \"2018-07-19T00:00:00\", \"2018-07-24T00:00:00\", \"2018-07-25T00:00:00\", \"2018-07-26T00:00:00\", \"2018-07-27T00:00:00\", \"2018-07-30T00:00:00\", \"2018-07-31T00:00:00\"], \"xaxis\": \"x\", \"y\": [1, 1, 1, 1, 1, 8, 5, 1, 5, 2, 1, 1, 1, 14, 1, 1, 1], \"yaxis\": \"y\"}, {\"alignmentgroup\": \"True\", \"hovertemplate\": \"Month=2018-08<br>date=%{x}<br>Count=%{y}<extra></extra>\", \"legendgroup\": \"2018-08\", \"marker\": {\"color\": \"#FF97FF\"}, \"name\": \"2018-08\", \"offsetgroup\": \"2018-08\", \"orientation\": \"v\", \"showlegend\": true, \"textposition\": \"auto\", \"type\": \"bar\", \"x\": [\"2018-08-02T00:00:00\", \"2018-08-03T00:00:00\", \"2018-08-06T00:00:00\", \"2018-08-08T00:00:00\", \"2018-08-09T00:00:00\", \"2018-08-10T00:00:00\", \"2018-08-13T00:00:00\", \"2018-08-14T00:00:00\", \"2018-08-15T00:00:00\", \"2018-08-16T00:00:00\", \"2018-08-17T00:00:00\", \"2018-08-20T00:00:00\", \"2018-08-21T00:00:00\", \"2018-08-22T00:00:00\", \"2018-08-23T00:00:00\", \"2018-08-24T00:00:00\", \"2018-08-27T00:00:00\", \"2018-08-28T00:00:00\", \"2018-08-31T00:00:00\"], \"xaxis\": \"x\", \"y\": [3, 2, 1, 2, 3, 1, 5, 4, 3, 2, 1, 1, 1, 3, 13, 1, 1, 1, 1], \"yaxis\": \"y\"}, {\"alignmentgroup\": \"True\", \"hovertemplate\": \"Month=2018-09<br>date=%{x}<br>Count=%{y}<extra></extra>\", \"legendgroup\": \"2018-09\", \"marker\": {\"color\": \"#FECB52\"}, \"name\": \"2018-09\", \"offsetgroup\": \"2018-09\", \"orientation\": \"v\", \"showlegend\": true, \"textposition\": \"auto\", \"type\": \"bar\", \"x\": [\"2018-09-05T00:00:00\", \"2018-09-11T00:00:00\", \"2018-09-12T00:00:00\", \"2018-09-13T00:00:00\", \"2018-09-14T00:00:00\", \"2018-09-17T00:00:00\", \"2018-09-18T00:00:00\", \"2018-09-19T00:00:00\", \"2018-09-20T00:00:00\", \"2018-09-21T00:00:00\", \"2018-09-24T00:00:00\", \"2018-09-25T00:00:00\", \"2018-09-26T00:00:00\", \"2018-09-27T00:00:00\", \"2018-09-28T00:00:00\"], \"xaxis\": \"x\", \"y\": [1, 4, 6, 3, 2, 1, 2, 8, 4, 9, 4, 1, 1, 3, 1], \"yaxis\": \"y\"}, {\"alignmentgroup\": \"True\", \"hovertemplate\": \"Month=2018-10<br>date=%{x}<br>Count=%{y}<extra></extra>\", \"legendgroup\": \"2018-10\", \"marker\": {\"color\": \"#636efa\"}, \"name\": \"2018-10\", \"offsetgroup\": \"2018-10\", \"orientation\": \"v\", \"showlegend\": true, \"textposition\": \"auto\", \"type\": \"bar\", \"x\": [\"2018-10-01T00:00:00\", \"2018-10-02T00:00:00\", \"2018-10-03T00:00:00\", \"2018-10-04T00:00:00\", \"2018-10-08T00:00:00\", \"2018-10-09T00:00:00\", \"2018-10-10T00:00:00\", \"2018-10-11T00:00:00\", \"2018-10-15T00:00:00\", \"2018-10-17T00:00:00\", \"2018-10-18T00:00:00\", \"2018-10-19T00:00:00\", \"2018-10-22T00:00:00\", \"2018-10-23T00:00:00\", \"2018-10-24T00:00:00\", \"2018-10-25T00:00:00\", \"2018-10-26T00:00:00\", \"2018-10-29T00:00:00\", \"2018-10-30T00:00:00\", \"2018-10-31T00:00:00\"], \"xaxis\": \"x\", \"y\": [2, 1, 2, 3, 1, 3, 2, 2, 4, 1, 1, 3, 3, 31, 1, 1, 1, 1, 1, 1], \"yaxis\": \"y\"}, {\"alignmentgroup\": \"True\", \"hovertemplate\": \"Month=2018-11<br>date=%{x}<br>Count=%{y}<extra></extra>\", \"legendgroup\": \"2018-11\", \"marker\": {\"color\": \"#EF553B\"}, \"name\": \"2018-11\", \"offsetgroup\": \"2018-11\", \"orientation\": \"v\", \"showlegend\": true, \"textposition\": \"auto\", \"type\": \"bar\", \"x\": [\"2018-11-02T00:00:00\", \"2018-11-05T00:00:00\", \"2018-11-06T00:00:00\", \"2018-11-08T00:00:00\", \"2018-11-09T00:00:00\", \"2018-11-14T00:00:00\", \"2018-11-15T00:00:00\", \"2018-11-16T00:00:00\", \"2018-11-19T00:00:00\", \"2018-11-21T00:00:00\", \"2018-11-26T00:00:00\", \"2018-11-27T00:00:00\", \"2018-11-28T00:00:00\", \"2018-11-29T00:00:00\", \"2018-11-30T00:00:00\"], \"xaxis\": \"x\", \"y\": [1, 2, 2, 1, 1, 1, 1, 3, 1, 2, 1, 3, 5, 5, 3], \"yaxis\": \"y\"}, {\"alignmentgroup\": \"True\", \"hovertemplate\": \"Month=2018-12<br>date=%{x}<br>Count=%{y}<extra></extra>\", \"legendgroup\": \"2018-12\", \"marker\": {\"color\": \"#00cc96\"}, \"name\": \"2018-12\", \"offsetgroup\": \"2018-12\", \"orientation\": \"v\", \"showlegend\": true, \"textposition\": \"auto\", \"type\": \"bar\", \"x\": [\"2018-12-03T00:00:00\", \"2018-12-04T00:00:00\", \"2018-12-06T00:00:00\", \"2018-12-11T00:00:00\", \"2018-12-12T00:00:00\", \"2018-12-13T00:00:00\", \"2018-12-14T00:00:00\", \"2018-12-17T00:00:00\", \"2018-12-19T00:00:00\", \"2018-12-20T00:00:00\", \"2018-12-21T00:00:00\", \"2018-12-26T00:00:00\"], \"xaxis\": \"x\", \"y\": [1, 2, 2, 5, 1, 2, 1, 1, 1, 1, 1, 1], \"yaxis\": \"y\"}, {\"alignmentgroup\": \"True\", \"hovertemplate\": \"Month=2019-01<br>date=%{x}<br>Count=%{y}<extra></extra>\", \"legendgroup\": \"2019-01\", \"marker\": {\"color\": \"#ab63fa\"}, \"name\": \"2019-01\", \"offsetgroup\": \"2019-01\", \"orientation\": \"v\", \"showlegend\": true, \"textposition\": \"auto\", \"type\": \"bar\", \"x\": [\"2019-01-03T00:00:00\", \"2019-01-07T00:00:00\", \"2019-01-08T00:00:00\", \"2019-01-10T00:00:00\", \"2019-01-11T00:00:00\", \"2019-01-14T00:00:00\", \"2019-01-15T00:00:00\", \"2019-01-16T00:00:00\", \"2019-01-17T00:00:00\", \"2019-01-18T00:00:00\", \"2019-01-22T00:00:00\", \"2019-01-23T00:00:00\", \"2019-01-24T00:00:00\", \"2019-01-25T00:00:00\", \"2019-01-28T00:00:00\", \"2019-01-29T00:00:00\", \"2019-01-30T00:00:00\", \"2019-01-31T00:00:00\"], \"xaxis\": \"x\", \"y\": [1, 3, 2, 1, 3, 2, 6, 1, 3, 1, 1, 2, 3, 2, 1, 1, 43, 1], \"yaxis\": \"y\"}, {\"alignmentgroup\": \"True\", \"hovertemplate\": \"Month=2019-02<br>date=%{x}<br>Count=%{y}<extra></extra>\", \"legendgroup\": \"2019-02\", \"marker\": {\"color\": \"#FFA15A\"}, \"name\": \"2019-02\", \"offsetgroup\": \"2019-02\", \"orientation\": \"v\", \"showlegend\": true, \"textposition\": \"auto\", \"type\": \"bar\", \"x\": [\"2019-02-01T00:00:00\", \"2019-02-05T00:00:00\", \"2019-02-06T00:00:00\", \"2019-02-07T00:00:00\", \"2019-02-15T00:00:00\", \"2019-02-19T00:00:00\", \"2019-02-20T00:00:00\", \"2019-02-21T00:00:00\", \"2019-02-24T00:00:00\", \"2019-02-25T00:00:00\", \"2019-02-26T00:00:00\", \"2019-02-28T00:00:00\"], \"xaxis\": \"x\", \"y\": [3, 1, 2, 2, 1, 2, 2, 3, 1, 1, 1, 1], \"yaxis\": \"y\"}, {\"alignmentgroup\": \"True\", \"hovertemplate\": \"Month=2019-03<br>date=%{x}<br>Count=%{y}<extra></extra>\", \"legendgroup\": \"2019-03\", \"marker\": {\"color\": \"#19d3f3\"}, \"name\": \"2019-03\", \"offsetgroup\": \"2019-03\", \"orientation\": \"v\", \"showlegend\": true, \"textposition\": \"auto\", \"type\": \"bar\", \"x\": [\"2019-03-06T00:00:00\", \"2019-03-11T00:00:00\", \"2019-03-25T00:00:00\", \"2019-03-26T00:00:00\", \"2019-03-27T00:00:00\"], \"xaxis\": \"x\", \"y\": [1, 4, 5, 1, 2], \"yaxis\": \"y\"}, {\"alignmentgroup\": \"True\", \"hovertemplate\": \"Month=2019-04<br>date=%{x}<br>Count=%{y}<extra></extra>\", \"legendgroup\": \"2019-04\", \"marker\": {\"color\": \"#FF6692\"}, \"name\": \"2019-04\", \"offsetgroup\": \"2019-04\", \"orientation\": \"v\", \"showlegend\": true, \"textposition\": \"auto\", \"type\": \"bar\", \"x\": [\"2019-04-01T00:00:00\", \"2019-04-04T00:00:00\", \"2019-04-05T00:00:00\", \"2019-04-08T00:00:00\", \"2019-04-24T00:00:00\", \"2019-04-27T00:00:00\", \"2019-04-30T00:00:00\"], \"xaxis\": \"x\", \"y\": [5, 1, 5, 1, 1, 1, 23], \"yaxis\": \"y\"}, {\"alignmentgroup\": \"True\", \"hovertemplate\": \"Month=2019-05<br>date=%{x}<br>Count=%{y}<extra></extra>\", \"legendgroup\": \"2019-05\", \"marker\": {\"color\": \"#B6E880\"}, \"name\": \"2019-05\", \"offsetgroup\": \"2019-05\", \"orientation\": \"v\", \"showlegend\": true, \"textposition\": \"auto\", \"type\": \"bar\", \"x\": [\"2019-05-06T00:00:00\", \"2019-05-07T00:00:00\", \"2019-05-08T00:00:00\", \"2019-05-09T00:00:00\", \"2019-05-13T00:00:00\", \"2019-05-15T00:00:00\", \"2019-05-20T00:00:00\", \"2019-05-21T00:00:00\", \"2019-05-23T00:00:00\", \"2019-05-28T00:00:00\", \"2019-05-31T00:00:00\"], \"xaxis\": \"x\", \"y\": [3, 1, 3, 3, 3, 4, 3, 3, 4, 2, 1], \"yaxis\": \"y\"}, {\"alignmentgroup\": \"True\", \"hovertemplate\": \"Month=2019-06<br>date=%{x}<br>Count=%{y}<extra></extra>\", \"legendgroup\": \"2019-06\", \"marker\": {\"color\": \"#FF97FF\"}, \"name\": \"2019-06\", \"offsetgroup\": \"2019-06\", \"orientation\": \"v\", \"showlegend\": true, \"textposition\": \"auto\", \"type\": \"bar\", \"x\": [\"2019-06-06T00:00:00\", \"2019-06-10T00:00:00\", \"2019-06-11T00:00:00\", \"2019-06-19T00:00:00\", \"2019-06-20T00:00:00\", \"2019-06-23T00:00:00\", \"2019-06-25T00:00:00\"], \"xaxis\": \"x\", \"y\": [1, 1, 2, 2, 1, 2, 1], \"yaxis\": \"y\"}, {\"alignmentgroup\": \"True\", \"hovertemplate\": \"Month=2019-07<br>date=%{x}<br>Count=%{y}<extra></extra>\", \"legendgroup\": \"2019-07\", \"marker\": {\"color\": \"#FECB52\"}, \"name\": \"2019-07\", \"offsetgroup\": \"2019-07\", \"orientation\": \"v\", \"showlegend\": true, \"textposition\": \"auto\", \"type\": \"bar\", \"x\": [\"2019-07-01T00:00:00\", \"2019-07-04T00:00:00\", \"2019-07-08T00:00:00\", \"2019-07-16T00:00:00\", \"2019-07-18T00:00:00\", \"2019-07-23T00:00:00\", \"2019-07-25T00:00:00\", \"2019-07-26T00:00:00\", \"2019-07-29T00:00:00\", \"2019-07-30T00:00:00\", \"2019-07-31T00:00:00\"], \"xaxis\": \"x\", \"y\": [1, 1, 1, 2, 3, 1, 1, 17, 2, 1, 1], \"yaxis\": \"y\"}, {\"alignmentgroup\": \"True\", \"hovertemplate\": \"Month=2019-08<br>date=%{x}<br>Count=%{y}<extra></extra>\", \"legendgroup\": \"2019-08\", \"marker\": {\"color\": \"#636efa\"}, \"name\": \"2019-08\", \"offsetgroup\": \"2019-08\", \"orientation\": \"v\", \"showlegend\": true, \"textposition\": \"auto\", \"type\": \"bar\", \"x\": [\"2019-08-06T00:00:00\", \"2019-08-07T00:00:00\", \"2019-08-12T00:00:00\", \"2019-08-21T00:00:00\", \"2019-08-28T00:00:00\", \"2019-08-30T00:00:00\"], \"xaxis\": \"x\", \"y\": [1, 1, 1, 2, 1, 1], \"yaxis\": \"y\"}, {\"alignmentgroup\": \"True\", \"hovertemplate\": \"Month=2019-09<br>date=%{x}<br>Count=%{y}<extra></extra>\", \"legendgroup\": \"2019-09\", \"marker\": {\"color\": \"#EF553B\"}, \"name\": \"2019-09\", \"offsetgroup\": \"2019-09\", \"orientation\": \"v\", \"showlegend\": true, \"textposition\": \"auto\", \"type\": \"bar\", \"x\": [\"2019-09-05T00:00:00\", \"2019-09-10T00:00:00\", \"2019-09-13T00:00:00\", \"2019-09-15T00:00:00\", \"2019-09-18T00:00:00\", \"2019-09-19T00:00:00\", \"2019-09-24T00:00:00\", \"2019-09-25T00:00:00\"], \"xaxis\": \"x\", \"y\": [1, 4, 1, 1, 3, 2, 3, 2], \"yaxis\": \"y\"}, {\"alignmentgroup\": \"True\", \"hovertemplate\": \"Month=2019-10<br>date=%{x}<br>Count=%{y}<extra></extra>\", \"legendgroup\": \"2019-10\", \"marker\": {\"color\": \"#00cc96\"}, \"name\": \"2019-10\", \"offsetgroup\": \"2019-10\", \"orientation\": \"v\", \"showlegend\": true, \"textposition\": \"auto\", \"type\": \"bar\", \"x\": [\"2019-10-01T00:00:00\", \"2019-10-04T00:00:00\", \"2019-10-08T00:00:00\", \"2019-10-21T00:00:00\", \"2019-10-22T00:00:00\", \"2019-10-23T00:00:00\"], \"xaxis\": \"x\", \"y\": [2, 1, 1, 1, 20, 1], \"yaxis\": \"y\"}, {\"alignmentgroup\": \"True\", \"hovertemplate\": \"Month=2019-11<br>date=%{x}<br>Count=%{y}<extra></extra>\", \"legendgroup\": \"2019-11\", \"marker\": {\"color\": \"#ab63fa\"}, \"name\": \"2019-11\", \"offsetgroup\": \"2019-11\", \"orientation\": \"v\", \"showlegend\": true, \"textposition\": \"auto\", \"type\": \"bar\", \"x\": [\"2019-11-03T00:00:00\", \"2019-11-04T00:00:00\", \"2019-11-05T00:00:00\", \"2019-11-06T00:00:00\", \"2019-11-07T00:00:00\", \"2019-11-08T00:00:00\", \"2019-11-12T00:00:00\", \"2019-11-13T00:00:00\", \"2019-11-21T00:00:00\", \"2019-11-26T00:00:00\", \"2019-11-29T00:00:00\"], \"xaxis\": \"x\", \"y\": [11, 26, 13, 2, 4, 1, 2, 2, 2, 2, 1], \"yaxis\": \"y\"}, {\"alignmentgroup\": \"True\", \"hovertemplate\": \"Month=2019-12<br>date=%{x}<br>Count=%{y}<extra></extra>\", \"legendgroup\": \"2019-12\", \"marker\": {\"color\": \"#FFA15A\"}, \"name\": \"2019-12\", \"offsetgroup\": \"2019-12\", \"orientation\": \"v\", \"showlegend\": true, \"textposition\": \"auto\", \"type\": \"bar\", \"x\": [\"2019-12-03T00:00:00\", \"2019-12-04T00:00:00\", \"2019-12-05T00:00:00\", \"2019-12-09T00:00:00\", \"2019-12-10T00:00:00\", \"2019-12-12T00:00:00\", \"2019-12-18T00:00:00\", \"2019-12-27T00:00:00\"], \"xaxis\": \"x\", \"y\": [2, 2, 1, 1, 5, 6, 1, 1], \"yaxis\": \"y\"}, {\"alignmentgroup\": \"True\", \"hovertemplate\": \"Month=2020-01<br>date=%{x}<br>Count=%{y}<extra></extra>\", \"legendgroup\": \"2020-01\", \"marker\": {\"color\": \"#19d3f3\"}, \"name\": \"2020-01\", \"offsetgroup\": \"2020-01\", \"orientation\": \"v\", \"showlegend\": true, \"textposition\": \"auto\", \"type\": \"bar\", \"x\": [\"2020-01-06T00:00:00\", \"2020-01-07T00:00:00\", \"2020-01-08T00:00:00\", \"2020-01-13T00:00:00\", \"2020-01-24T00:00:00\", \"2020-01-28T00:00:00\", \"2020-01-29T00:00:00\", \"2020-01-30T00:00:00\"], \"xaxis\": \"x\", \"y\": [1, 4, 3, 1, 11, 1, 33, 2], \"yaxis\": \"y\"}, {\"alignmentgroup\": \"True\", \"hovertemplate\": \"Month=2020-02<br>date=%{x}<br>Count=%{y}<extra></extra>\", \"legendgroup\": \"2020-02\", \"marker\": {\"color\": \"#FF6692\"}, \"name\": \"2020-02\", \"offsetgroup\": \"2020-02\", \"orientation\": \"v\", \"showlegend\": true, \"textposition\": \"auto\", \"type\": \"bar\", \"x\": [\"2020-02-06T00:00:00\", \"2020-02-07T00:00:00\", \"2020-02-12T00:00:00\", \"2020-02-28T00:00:00\"], \"xaxis\": \"x\", \"y\": [1, 1, 1, 1], \"yaxis\": \"y\"}, {\"alignmentgroup\": \"True\", \"hovertemplate\": \"Month=2020-03<br>date=%{x}<br>Count=%{y}<extra></extra>\", \"legendgroup\": \"2020-03\", \"marker\": {\"color\": \"#B6E880\"}, \"name\": \"2020-03\", \"offsetgroup\": \"2020-03\", \"orientation\": \"v\", \"showlegend\": true, \"textposition\": \"auto\", \"type\": \"bar\", \"x\": [\"2020-03-03T00:00:00\", \"2020-03-05T00:00:00\", \"2020-03-06T00:00:00\", \"2020-03-09T00:00:00\", \"2020-03-10T00:00:00\", \"2020-03-12T00:00:00\", \"2020-03-16T00:00:00\", \"2020-03-17T00:00:00\", \"2020-03-20T00:00:00\", \"2020-03-23T00:00:00\", \"2020-03-24T00:00:00\", \"2020-03-25T00:00:00\", \"2020-03-26T00:00:00\", \"2020-03-28T00:00:00\", \"2020-03-30T00:00:00\", \"2020-03-31T00:00:00\"], \"xaxis\": \"x\", \"y\": [3, 1, 5, 1, 3, 1, 4, 4, 4, 1, 1, 7, 6, 2, 1, 1], \"yaxis\": \"y\"}, {\"alignmentgroup\": \"True\", \"hovertemplate\": \"Month=2020-04<br>date=%{x}<br>Count=%{y}<extra></extra>\", \"legendgroup\": \"2020-04\", \"marker\": {\"color\": \"#FF97FF\"}, \"name\": \"2020-04\", \"offsetgroup\": \"2020-04\", \"orientation\": \"v\", \"showlegend\": true, \"textposition\": \"auto\", \"type\": \"bar\", \"x\": [\"2020-04-06T00:00:00\", \"2020-04-08T00:00:00\", \"2020-04-09T00:00:00\", \"2020-04-14T00:00:00\", \"2020-04-20T00:00:00\", \"2020-04-21T00:00:00\", \"2020-04-22T00:00:00\", \"2020-04-28T00:00:00\", \"2020-04-29T00:00:00\", \"2020-04-30T00:00:00\"], \"xaxis\": \"x\", \"y\": [2, 20, 1, 1, 1, 1, 4, 1, 2, 16], \"yaxis\": \"y\"}, {\"alignmentgroup\": \"True\", \"hovertemplate\": \"Month=2020-05<br>date=%{x}<br>Count=%{y}<extra></extra>\", \"legendgroup\": \"2020-05\", \"marker\": {\"color\": \"#FECB52\"}, \"name\": \"2020-05\", \"offsetgroup\": \"2020-05\", \"orientation\": \"v\", \"showlegend\": true, \"textposition\": \"auto\", \"type\": \"bar\", \"x\": [\"2020-05-01T00:00:00\", \"2020-05-07T00:00:00\", \"2020-05-09T00:00:00\", \"2020-05-13T00:00:00\", \"2020-05-14T00:00:00\", \"2020-05-19T00:00:00\", \"2020-05-20T00:00:00\", \"2020-05-22T00:00:00\", \"2020-05-27T00:00:00\", \"2020-05-29T00:00:00\"], \"xaxis\": \"x\", \"y\": [2, 3, 1, 9, 2, 3, 3, 1, 2, 1], \"yaxis\": \"y\"}, {\"alignmentgroup\": \"True\", \"hovertemplate\": \"Month=2020-06<br>date=%{x}<br>Count=%{y}<extra></extra>\", \"legendgroup\": \"2020-06\", \"marker\": {\"color\": \"#636efa\"}, \"name\": \"2020-06\", \"offsetgroup\": \"2020-06\", \"orientation\": \"v\", \"showlegend\": true, \"textposition\": \"auto\", \"type\": \"bar\", \"x\": [\"2020-06-04T00:00:00\", \"2020-06-09T00:00:00\", \"2020-06-15T00:00:00\", \"2020-06-16T00:00:00\", \"2020-06-17T00:00:00\", \"2020-06-18T00:00:00\", \"2020-06-19T00:00:00\", \"2020-06-30T00:00:00\"], \"xaxis\": \"x\", \"y\": [2, 3, 1, 13, 4, 2, 1, 4], \"yaxis\": \"y\"}, {\"alignmentgroup\": \"True\", \"hovertemplate\": \"Month=2020-07<br>date=%{x}<br>Count=%{y}<extra></extra>\", \"legendgroup\": \"2020-07\", \"marker\": {\"color\": \"#EF553B\"}, \"name\": \"2020-07\", \"offsetgroup\": \"2020-07\", \"orientation\": \"v\", \"showlegend\": true, \"textposition\": \"auto\", \"type\": \"bar\", \"x\": [\"2020-07-01T00:00:00\", \"2020-07-06T00:00:00\", \"2020-07-15T00:00:00\", \"2020-07-21T00:00:00\", \"2020-07-22T00:00:00\", \"2020-07-24T00:00:00\", \"2020-07-27T00:00:00\", \"2020-07-28T00:00:00\", \"2020-07-29T00:00:00\", \"2020-07-30T00:00:00\"], \"xaxis\": \"x\", \"y\": [3, 2, 1, 1, 2, 4, 1, 31, 4, 4], \"yaxis\": \"y\"}, {\"alignmentgroup\": \"True\", \"hovertemplate\": \"Month=2020-08<br>date=%{x}<br>Count=%{y}<extra></extra>\", \"legendgroup\": \"2020-08\", \"marker\": {\"color\": \"#00cc96\"}, \"name\": \"2020-08\", \"offsetgroup\": \"2020-08\", \"orientation\": \"v\", \"showlegend\": true, \"textposition\": \"auto\", \"type\": \"bar\", \"x\": [\"2020-08-05T00:00:00\", \"2020-08-06T00:00:00\", \"2020-08-10T00:00:00\", \"2020-08-13T00:00:00\", \"2020-08-14T00:00:00\", \"2020-08-15T00:00:00\", \"2020-08-16T00:00:00\", \"2020-08-25T00:00:00\", \"2020-08-31T00:00:00\"], \"xaxis\": \"x\", \"y\": [1, 1, 7, 4, 1, 1, 3, 8, 5], \"yaxis\": \"y\"}, {\"alignmentgroup\": \"True\", \"hovertemplate\": \"Month=2020-09<br>date=%{x}<br>Count=%{y}<extra></extra>\", \"legendgroup\": \"2020-09\", \"marker\": {\"color\": \"#ab63fa\"}, \"name\": \"2020-09\", \"offsetgroup\": \"2020-09\", \"orientation\": \"v\", \"showlegend\": true, \"textposition\": \"auto\", \"type\": \"bar\", \"x\": [\"2020-09-01T00:00:00\", \"2020-09-03T00:00:00\", \"2020-09-04T00:00:00\", \"2020-09-09T00:00:00\", \"2020-09-18T00:00:00\", \"2020-09-21T00:00:00\", \"2020-09-30T00:00:00\"], \"xaxis\": \"x\", \"y\": [3, 1, 2, 4, 5, 1, 3], \"yaxis\": \"y\"}, {\"alignmentgroup\": \"True\", \"hovertemplate\": \"Month=2020-10<br>date=%{x}<br>Count=%{y}<extra></extra>\", \"legendgroup\": \"2020-10\", \"marker\": {\"color\": \"#FFA15A\"}, \"name\": \"2020-10\", \"offsetgroup\": \"2020-10\", \"orientation\": \"v\", \"showlegend\": true, \"textposition\": \"auto\", \"type\": \"bar\", \"x\": [\"2020-10-05T00:00:00\", \"2020-10-06T00:00:00\", \"2020-10-07T00:00:00\", \"2020-10-08T00:00:00\", \"2020-10-15T00:00:00\", \"2020-10-23T00:00:00\", \"2020-10-24T00:00:00\", \"2020-10-29T00:00:00\", \"2020-10-30T00:00:00\"], \"xaxis\": \"x\", \"y\": [1, 3, 3, 15, 5, 1, 1, 4, 3], \"yaxis\": \"y\"}, {\"alignmentgroup\": \"True\", \"hovertemplate\": \"Month=2020-11<br>date=%{x}<br>Count=%{y}<extra></extra>\", \"legendgroup\": \"2020-11\", \"marker\": {\"color\": \"#19d3f3\"}, \"name\": \"2020-11\", \"offsetgroup\": \"2020-11\", \"orientation\": \"v\", \"showlegend\": true, \"textposition\": \"auto\", \"type\": \"bar\", \"x\": [\"2020-11-02T00:00:00\", \"2020-11-06T00:00:00\", \"2020-11-09T00:00:00\", \"2020-11-13T00:00:00\", \"2020-11-16T00:00:00\"], \"xaxis\": \"x\", \"y\": [1, 3, 42, 1, 3], \"yaxis\": \"y\"}, {\"alignmentgroup\": \"True\", \"hovertemplate\": \"Month=2020-12<br>date=%{x}<br>Count=%{y}<extra></extra>\", \"legendgroup\": \"2020-12\", \"marker\": {\"color\": \"#FF6692\"}, \"name\": \"2020-12\", \"offsetgroup\": \"2020-12\", \"orientation\": \"v\", \"showlegend\": true, \"textposition\": \"auto\", \"type\": \"bar\", \"x\": [\"2020-12-02T00:00:00\", \"2020-12-04T00:00:00\", \"2020-12-07T00:00:00\", \"2020-12-08T00:00:00\", \"2020-12-14T00:00:00\", \"2020-12-17T00:00:00\", \"2020-12-18T00:00:00\", \"2020-12-22T00:00:00\"], \"xaxis\": \"x\", \"y\": [1, 8, 1, 1, 1, 6, 1, 2], \"yaxis\": \"y\"}, {\"alignmentgroup\": \"True\", \"hovertemplate\": \"Month=2021-01<br>date=%{x}<br>Count=%{y}<extra></extra>\", \"legendgroup\": \"2021-01\", \"marker\": {\"color\": \"#B6E880\"}, \"name\": \"2021-01\", \"offsetgroup\": \"2021-01\", \"orientation\": \"v\", \"showlegend\": true, \"textposition\": \"auto\", \"type\": \"bar\", \"x\": [\"2021-01-04T00:00:00\", \"2021-01-06T00:00:00\", \"2021-01-07T00:00:00\", \"2021-01-13T00:00:00\", \"2021-01-21T00:00:00\", \"2021-01-22T00:00:00\", \"2021-01-26T00:00:00\", \"2021-01-27T00:00:00\", \"2021-01-28T00:00:00\"], \"xaxis\": \"x\", \"y\": [1, 1, 1, 2, 1, 1, 1, 2, 29], \"yaxis\": \"y\"}, {\"alignmentgroup\": \"True\", \"hovertemplate\": \"Month=2021-02<br>date=%{x}<br>Count=%{y}<extra></extra>\", \"legendgroup\": \"2021-02\", \"marker\": {\"color\": \"#FF97FF\"}, \"name\": \"2021-02\", \"offsetgroup\": \"2021-02\", \"orientation\": \"v\", \"showlegend\": true, \"textposition\": \"auto\", \"type\": \"bar\", \"x\": [\"2021-02-02T00:00:00\", \"2021-02-04T00:00:00\", \"2021-02-05T00:00:00\", \"2021-02-18T00:00:00\", \"2021-02-27T00:00:00\"], \"xaxis\": \"x\", \"y\": [3, 1, 1, 4, 3], \"yaxis\": \"y\"}, {\"alignmentgroup\": \"True\", \"hovertemplate\": \"Month=2021-03<br>date=%{x}<br>Count=%{y}<extra></extra>\", \"legendgroup\": \"2021-03\", \"marker\": {\"color\": \"#FECB52\"}, \"name\": \"2021-03\", \"offsetgroup\": \"2021-03\", \"orientation\": \"v\", \"showlegend\": true, \"textposition\": \"auto\", \"type\": \"bar\", \"x\": [\"2021-03-01T00:00:00\", \"2021-03-04T00:00:00\", \"2021-03-17T00:00:00\", \"2021-03-18T00:00:00\", \"2021-03-30T00:00:00\"], \"xaxis\": \"x\", \"y\": [2, 1, 2, 1, 1], \"yaxis\": \"y\"}, {\"alignmentgroup\": \"True\", \"hovertemplate\": \"Month=2021-04<br>date=%{x}<br>Count=%{y}<extra></extra>\", \"legendgroup\": \"2021-04\", \"marker\": {\"color\": \"#636efa\"}, \"name\": \"2021-04\", \"offsetgroup\": \"2021-04\", \"orientation\": \"v\", \"showlegend\": true, \"textposition\": \"auto\", \"type\": \"bar\", \"x\": [\"2021-04-06T00:00:00\", \"2021-04-14T00:00:00\", \"2021-04-21T00:00:00\", \"2021-04-23T00:00:00\", \"2021-04-26T00:00:00\", \"2021-04-29T00:00:00\", \"2021-04-30T00:00:00\"], \"xaxis\": \"x\", \"y\": [1, 6, 2, 1, 6, 26, 2], \"yaxis\": \"y\"}, {\"alignmentgroup\": \"True\", \"hovertemplate\": \"Month=2021-05<br>date=%{x}<br>Count=%{y}<extra></extra>\", \"legendgroup\": \"2021-05\", \"marker\": {\"color\": \"#EF553B\"}, \"name\": \"2021-05\", \"offsetgroup\": \"2021-05\", \"orientation\": \"v\", \"showlegend\": true, \"textposition\": \"auto\", \"type\": \"bar\", \"x\": [\"2021-05-05T00:00:00\", \"2021-05-07T00:00:00\", \"2021-05-12T00:00:00\", \"2021-05-13T00:00:00\", \"2021-05-18T00:00:00\", \"2021-05-19T00:00:00\", \"2021-05-20T00:00:00\", \"2021-05-21T00:00:00\"], \"xaxis\": \"x\", \"y\": [1, 1, 1, 2, 1, 1, 25, 6], \"yaxis\": \"y\"}, {\"alignmentgroup\": \"True\", \"hovertemplate\": \"Month=2021-06<br>date=%{x}<br>Count=%{y}<extra></extra>\", \"legendgroup\": \"2021-06\", \"marker\": {\"color\": \"#00cc96\"}, \"name\": \"2021-06\", \"offsetgroup\": \"2021-06\", \"orientation\": \"v\", \"showlegend\": true, \"textposition\": \"auto\", \"type\": \"bar\", \"x\": [\"2021-06-03T00:00:00\", \"2021-06-04T00:00:00\", \"2021-06-10T00:00:00\", \"2021-06-11T00:00:00\", \"2021-06-14T00:00:00\", \"2021-06-20T00:00:00\", \"2021-06-22T00:00:00\", \"2021-06-30T00:00:00\"], \"xaxis\": \"x\", \"y\": [2, 1, 3, 11, 1, 1, 1, 1], \"yaxis\": \"y\"}, {\"alignmentgroup\": \"True\", \"hovertemplate\": \"Month=2021-07<br>date=%{x}<br>Count=%{y}<extra></extra>\", \"legendgroup\": \"2021-07\", \"marker\": {\"color\": \"#ab63fa\"}, \"name\": \"2021-07\", \"offsetgroup\": \"2021-07\", \"orientation\": \"v\", \"showlegend\": true, \"textposition\": \"auto\", \"type\": \"bar\", \"x\": [\"2021-07-06T00:00:00\", \"2021-07-12T00:00:00\", \"2021-07-20T00:00:00\", \"2021-07-22T00:00:00\", \"2021-07-23T00:00:00\", \"2021-07-26T00:00:00\", \"2021-07-27T00:00:00\", \"2021-07-28T00:00:00\"], \"xaxis\": \"x\", \"y\": [1, 2, 2, 1, 2, 3, 1, 36], \"yaxis\": \"y\"}, {\"alignmentgroup\": \"True\", \"hovertemplate\": \"Month=2021-08<br>date=%{x}<br>Count=%{y}<extra></extra>\", \"legendgroup\": \"2021-08\", \"marker\": {\"color\": \"#FFA15A\"}, \"name\": \"2021-08\", \"offsetgroup\": \"2021-08\", \"orientation\": \"v\", \"showlegend\": true, \"textposition\": \"auto\", \"type\": \"bar\", \"x\": [\"2021-08-02T00:00:00\", \"2021-08-04T00:00:00\", \"2021-08-05T00:00:00\", \"2021-08-06T00:00:00\", \"2021-08-07T00:00:00\", \"2021-08-09T00:00:00\", \"2021-08-11T00:00:00\", \"2021-08-19T00:00:00\", \"2021-08-24T00:00:00\", \"2021-08-31T00:00:00\"], \"xaxis\": \"x\", \"y\": [2, 1, 1, 1, 1, 3, 7, 3, 1, 1], \"yaxis\": \"y\"}, {\"alignmentgroup\": \"True\", \"hovertemplate\": \"Month=2021-09<br>date=%{x}<br>Count=%{y}<extra></extra>\", \"legendgroup\": \"2021-09\", \"marker\": {\"color\": \"#19d3f3\"}, \"name\": \"2021-09\", \"offsetgroup\": \"2021-09\", \"orientation\": \"v\", \"showlegend\": true, \"textposition\": \"auto\", \"type\": \"bar\", \"x\": [\"2021-09-01T00:00:00\", \"2021-09-06T00:00:00\", \"2021-09-23T00:00:00\", \"2021-09-27T00:00:00\"], \"xaxis\": \"x\", \"y\": [1, 1, 2, 2], \"yaxis\": \"y\"}, {\"alignmentgroup\": \"True\", \"hovertemplate\": \"Month=2021-10<br>date=%{x}<br>Count=%{y}<extra></extra>\", \"legendgroup\": \"2021-10\", \"marker\": {\"color\": \"#FF6692\"}, \"name\": \"2021-10\", \"offsetgroup\": \"2021-10\", \"orientation\": \"v\", \"showlegend\": true, \"textposition\": \"auto\", \"type\": \"bar\", \"x\": [\"2021-10-04T00:00:00\", \"2021-10-06T00:00:00\", \"2021-10-07T00:00:00\", \"2021-10-20T00:00:00\", \"2021-10-25T00:00:00\", \"2021-10-26T00:00:00\", \"2021-10-27T00:00:00\", \"2021-10-28T00:00:00\"], \"xaxis\": \"x\", \"y\": [1, 1, 1, 1, 2, 4, 19, 3], \"yaxis\": \"y\"}, {\"alignmentgroup\": \"True\", \"hovertemplate\": \"Month=2021-11<br>date=%{x}<br>Count=%{y}<extra></extra>\", \"legendgroup\": \"2021-11\", \"marker\": {\"color\": \"#B6E880\"}, \"name\": \"2021-11\", \"offsetgroup\": \"2021-11\", \"orientation\": \"v\", \"showlegend\": true, \"textposition\": \"auto\", \"type\": \"bar\", \"x\": [\"2021-11-05T00:00:00\", \"2021-11-08T00:00:00\", \"2021-11-10T00:00:00\", \"2021-11-11T00:00:00\", \"2021-11-15T00:00:00\", \"2021-11-16T00:00:00\", \"2021-11-22T00:00:00\"], \"xaxis\": \"x\", \"y\": [1, 1, 1, 3, 1, 1, 1], \"yaxis\": \"y\"}, {\"alignmentgroup\": \"True\", \"hovertemplate\": \"Month=2021-12<br>date=%{x}<br>Count=%{y}<extra></extra>\", \"legendgroup\": \"2021-12\", \"marker\": {\"color\": \"#FF97FF\"}, \"name\": \"2021-12\", \"offsetgroup\": \"2021-12\", \"orientation\": \"v\", \"showlegend\": true, \"textposition\": \"auto\", \"type\": \"bar\", \"x\": [\"2021-12-01T00:00:00\", \"2021-12-05T00:00:00\", \"2021-12-06T00:00:00\", \"2021-12-08T00:00:00\", \"2021-12-11T00:00:00\", \"2021-12-13T00:00:00\", \"2021-12-16T00:00:00\", \"2021-12-17T00:00:00\", \"2021-12-20T00:00:00\", \"2021-12-21T00:00:00\", \"2021-12-30T00:00:00\"], \"xaxis\": \"x\", \"y\": [3, 1, 1, 3, 1, 1, 10, 1, 1, 1, 1], \"yaxis\": \"y\"}, {\"alignmentgroup\": \"True\", \"hovertemplate\": \"Month=2022-01<br>date=%{x}<br>Count=%{y}<extra></extra>\", \"legendgroup\": \"2022-01\", \"marker\": {\"color\": \"#FECB52\"}, \"name\": \"2022-01\", \"offsetgroup\": \"2022-01\", \"orientation\": \"v\", \"showlegend\": true, \"textposition\": \"auto\", \"type\": \"bar\", \"x\": [\"2022-01-03T00:00:00\", \"2022-01-06T00:00:00\", \"2022-01-07T00:00:00\", \"2022-01-20T00:00:00\", \"2022-01-21T00:00:00\", \"2022-01-22T00:00:00\", \"2022-01-25T00:00:00\", \"2022-01-26T00:00:00\", \"2022-01-27T00:00:00\", \"2022-01-31T00:00:00\"], \"xaxis\": \"x\", \"y\": [1, 1, 1, 1, 3, 1, 3, 4, 27, 3], \"yaxis\": \"y\"}, {\"alignmentgroup\": \"True\", \"hovertemplate\": \"Month=2022-02<br>date=%{x}<br>Count=%{y}<extra></extra>\", \"legendgroup\": \"2022-02\", \"marker\": {\"color\": \"#636efa\"}, \"name\": \"2022-02\", \"offsetgroup\": \"2022-02\", \"orientation\": \"v\", \"showlegend\": true, \"textposition\": \"auto\", \"type\": \"bar\", \"x\": [\"2022-02-04T00:00:00\", \"2022-02-14T00:00:00\", \"2022-02-16T00:00:00\", \"2022-02-20T00:00:00\"], \"xaxis\": \"x\", \"y\": [1, 1, 2, 7], \"yaxis\": \"y\"}, {\"alignmentgroup\": \"True\", \"hovertemplate\": \"Month=2022-03<br>date=%{x}<br>Count=%{y}<extra></extra>\", \"legendgroup\": \"2022-03\", \"marker\": {\"color\": \"#EF553B\"}, \"name\": \"2022-03\", \"offsetgroup\": \"2022-03\", \"orientation\": \"v\", \"showlegend\": true, \"textposition\": \"auto\", \"type\": \"bar\", \"x\": [\"2022-03-04T00:00:00\", \"2022-03-08T00:00:00\", \"2022-03-09T00:00:00\", \"2022-03-10T00:00:00\", \"2022-03-28T00:00:00\"], \"xaxis\": \"x\", \"y\": [3, 12, 1, 1, 1], \"yaxis\": \"y\"}, {\"alignmentgroup\": \"True\", \"hovertemplate\": \"Month=2022-04<br>date=%{x}<br>Count=%{y}<extra></extra>\", \"legendgroup\": \"2022-04\", \"marker\": {\"color\": \"#00cc96\"}, \"name\": \"2022-04\", \"offsetgroup\": \"2022-04\", \"orientation\": \"v\", \"showlegend\": true, \"textposition\": \"auto\", \"type\": \"bar\", \"x\": [\"2022-04-04T00:00:00\", \"2022-04-06T00:00:00\", \"2022-04-14T00:00:00\", \"2022-04-21T00:00:00\", \"2022-04-22T00:00:00\", \"2022-04-24T00:00:00\", \"2022-04-25T00:00:00\", \"2022-04-26T00:00:00\", \"2022-04-27T00:00:00\", \"2022-04-28T00:00:00\", \"2022-04-29T00:00:00\"], \"xaxis\": \"x\", \"y\": [2, 2, 1, 9, 2, 1, 1, 2, 1, 32, 2], \"yaxis\": \"y\"}, {\"alignmentgroup\": \"True\", \"hovertemplate\": \"Month=2022-05<br>date=%{x}<br>Count=%{y}<extra></extra>\", \"legendgroup\": \"2022-05\", \"marker\": {\"color\": \"#ab63fa\"}, \"name\": \"2022-05\", \"offsetgroup\": \"2022-05\", \"orientation\": \"v\", \"showlegend\": true, \"textposition\": \"auto\", \"type\": \"bar\", \"x\": [\"2022-05-09T00:00:00\", \"2022-05-12T00:00:00\", \"2022-05-16T00:00:00\", \"2022-05-17T00:00:00\", \"2022-05-18T00:00:00\", \"2022-05-19T00:00:00\", \"2022-05-21T00:00:00\", \"2022-05-22T00:00:00\", \"2022-05-24T00:00:00\", \"2022-05-25T00:00:00\", \"2022-05-26T00:00:00\", \"2022-05-30T00:00:00\"], \"xaxis\": \"x\", \"y\": [1, 1, 18, 2, 3, 10, 1, 1, 1, 5, 13, 1], \"yaxis\": \"y\"}, {\"alignmentgroup\": \"True\", \"hovertemplate\": \"Month=2022-06<br>date=%{x}<br>Count=%{y}<extra></extra>\", \"legendgroup\": \"2022-06\", \"marker\": {\"color\": \"#FFA15A\"}, \"name\": \"2022-06\", \"offsetgroup\": \"2022-06\", \"orientation\": \"v\", \"showlegend\": true, \"textposition\": \"auto\", \"type\": \"bar\", \"x\": [\"2022-06-03T00:00:00\", \"2022-06-06T00:00:00\", \"2022-06-09T00:00:00\", \"2022-06-10T00:00:00\", \"2022-06-12T00:00:00\", \"2022-06-13T00:00:00\", \"2022-06-14T00:00:00\", \"2022-06-15T00:00:00\", \"2022-06-16T00:00:00\", \"2022-06-22T00:00:00\", \"2022-06-23T00:00:00\", \"2022-06-24T00:00:00\", \"2022-06-27T00:00:00\", \"2022-06-28T00:00:00\", \"2022-06-29T00:00:00\", \"2022-06-30T00:00:00\"], \"xaxis\": \"x\", \"y\": [1, 3, 1, 4, 4, 1, 1, 1, 12, 3, 3, 1, 13, 1, 1, 1], \"yaxis\": \"y\"}, {\"alignmentgroup\": \"True\", \"hovertemplate\": \"Month=2022-07<br>date=%{x}<br>Count=%{y}<extra></extra>\", \"legendgroup\": \"2022-07\", \"marker\": {\"color\": \"#19d3f3\"}, \"name\": \"2022-07\", \"offsetgroup\": \"2022-07\", \"orientation\": \"v\", \"showlegend\": true, \"textposition\": \"auto\", \"type\": \"bar\", \"x\": [\"2022-07-01T00:00:00\", \"2022-07-02T00:00:00\", \"2022-07-04T00:00:00\", \"2022-07-05T00:00:00\", \"2022-07-10T00:00:00\", \"2022-07-13T00:00:00\", \"2022-07-18T00:00:00\", \"2022-07-21T00:00:00\", \"2022-07-25T00:00:00\", \"2022-07-26T00:00:00\", \"2022-07-27T00:00:00\"], \"xaxis\": \"x\", \"y\": [2, 1, 1, 3, 1, 3, 1, 1, 2, 19, 1], \"yaxis\": \"y\"}, {\"alignmentgroup\": \"True\", \"hovertemplate\": \"Month=2022-08<br>date=%{x}<br>Count=%{y}<extra></extra>\", \"legendgroup\": \"2022-08\", \"marker\": {\"color\": \"#FF6692\"}, \"name\": \"2022-08\", \"offsetgroup\": \"2022-08\", \"orientation\": \"v\", \"showlegend\": true, \"textposition\": \"auto\", \"type\": \"bar\", \"x\": [\"2022-08-01T00:00:00\", \"2022-08-02T00:00:00\", \"2022-08-04T00:00:00\", \"2022-08-11T00:00:00\", \"2022-08-18T00:00:00\", \"2022-08-19T00:00:00\", \"2022-08-22T00:00:00\", \"2022-08-24T00:00:00\", \"2022-08-31T00:00:00\"], \"xaxis\": \"x\", \"y\": [4, 1, 1, 4, 1, 1, 1, 1, 1], \"yaxis\": \"y\"}, {\"alignmentgroup\": \"True\", \"hovertemplate\": \"Month=2022-09<br>date=%{x}<br>Count=%{y}<extra></extra>\", \"legendgroup\": \"2022-09\", \"marker\": {\"color\": \"#B6E880\"}, \"name\": \"2022-09\", \"offsetgroup\": \"2022-09\", \"orientation\": \"v\", \"showlegend\": true, \"textposition\": \"auto\", \"type\": \"bar\", \"x\": [\"2022-09-05T00:00:00\", \"2022-09-06T00:00:00\", \"2022-09-08T00:00:00\", \"2022-09-14T00:00:00\", \"2022-09-20T00:00:00\", \"2022-09-21T00:00:00\", \"2022-09-26T00:00:00\", \"2022-09-27T00:00:00\", \"2022-09-28T00:00:00\"], \"xaxis\": \"x\", \"y\": [2, 6, 1, 7, 1, 2, 1, 5, 3], \"yaxis\": \"y\"}, {\"alignmentgroup\": \"True\", \"hovertemplate\": \"Month=2022-10<br>date=%{x}<br>Count=%{y}<extra></extra>\", \"legendgroup\": \"2022-10\", \"marker\": {\"color\": \"#FF97FF\"}, \"name\": \"2022-10\", \"offsetgroup\": \"2022-10\", \"orientation\": \"v\", \"showlegend\": true, \"textposition\": \"auto\", \"type\": \"bar\", \"x\": [\"2022-10-03T00:00:00\", \"2022-10-04T00:00:00\", \"2022-10-06T00:00:00\", \"2022-10-13T00:00:00\", \"2022-10-25T00:00:00\", \"2022-10-26T00:00:00\", \"2022-10-27T00:00:00\"], \"xaxis\": \"x\", \"y\": [1, 3, 1, 1, 1, 2, 30], \"yaxis\": \"y\"}, {\"alignmentgroup\": \"True\", \"hovertemplate\": \"Month=2022-11<br>date=%{x}<br>Count=%{y}<extra></extra>\", \"legendgroup\": \"2022-11\", \"marker\": {\"color\": \"#FECB52\"}, \"name\": \"2022-11\", \"offsetgroup\": \"2022-11\", \"orientation\": \"v\", \"showlegend\": true, \"textposition\": \"auto\", \"type\": \"bar\", \"x\": [\"2022-11-04T00:00:00\", \"2022-11-15T00:00:00\", \"2022-11-17T00:00:00\", \"2022-11-29T00:00:00\", \"2022-11-30T00:00:00\"], \"xaxis\": \"x\", \"y\": [3, 1, 2, 1, 1], \"yaxis\": \"y\"}, {\"alignmentgroup\": \"True\", \"hovertemplate\": \"Month=2022-12<br>date=%{x}<br>Count=%{y}<extra></extra>\", \"legendgroup\": \"2022-12\", \"marker\": {\"color\": \"#636efa\"}, \"name\": \"2022-12\", \"offsetgroup\": \"2022-12\", \"orientation\": \"v\", \"showlegend\": true, \"textposition\": \"auto\", \"type\": \"bar\", \"x\": [\"2022-12-01T00:00:00\", \"2022-12-02T00:00:00\", \"2022-12-06T00:00:00\", \"2022-12-15T00:00:00\"], \"xaxis\": \"x\", \"y\": [1, 1, 1, 1], \"yaxis\": \"y\"}, {\"alignmentgroup\": \"True\", \"hovertemplate\": \"Month=2023-01<br>date=%{x}<br>Count=%{y}<extra></extra>\", \"legendgroup\": \"2023-01\", \"marker\": {\"color\": \"#EF553B\"}, \"name\": \"2023-01\", \"offsetgroup\": \"2023-01\", \"orientation\": \"v\", \"showlegend\": true, \"textposition\": \"auto\", \"type\": \"bar\", \"x\": [\"2023-01-04T00:00:00\", \"2023-01-05T00:00:00\", \"2023-01-06T00:00:00\", \"2023-01-09T00:00:00\", \"2023-01-10T00:00:00\", \"2023-01-23T00:00:00\", \"2023-01-30T00:00:00\", \"2023-01-31T00:00:00\"], \"xaxis\": \"x\", \"y\": [2, 4, 15, 9, 1, 1, 2, 29], \"yaxis\": \"y\"}, {\"alignmentgroup\": \"True\", \"hovertemplate\": \"Month=2023-02<br>date=%{x}<br>Count=%{y}<extra></extra>\", \"legendgroup\": \"2023-02\", \"marker\": {\"color\": \"#00cc96\"}, \"name\": \"2023-02\", \"offsetgroup\": \"2023-02\", \"orientation\": \"v\", \"showlegend\": true, \"textposition\": \"auto\", \"type\": \"bar\", \"x\": [\"2023-02-01T00:00:00\", \"2023-02-02T00:00:00\", \"2023-02-06T00:00:00\", \"2023-02-16T00:00:00\", \"2023-02-28T00:00:00\"], \"xaxis\": \"x\", \"y\": [1, 1, 1, 1, 5], \"yaxis\": \"y\"}, {\"alignmentgroup\": \"True\", \"hovertemplate\": \"Month=2023-03<br>date=%{x}<br>Count=%{y}<extra></extra>\", \"legendgroup\": \"2023-03\", \"marker\": {\"color\": \"#ab63fa\"}, \"name\": \"2023-03\", \"offsetgroup\": \"2023-03\", \"orientation\": \"v\", \"showlegend\": true, \"textposition\": \"auto\", \"type\": \"bar\", \"x\": [\"2023-03-01T00:00:00\", \"2023-03-06T00:00:00\", \"2023-03-13T00:00:00\", \"2023-03-15T00:00:00\", \"2023-03-16T00:00:00\", \"2023-03-29T00:00:00\"], \"xaxis\": \"x\", \"y\": [1, 1, 1, 2, 3, 2], \"yaxis\": \"y\"}, {\"alignmentgroup\": \"True\", \"hovertemplate\": \"Month=2023-04<br>date=%{x}<br>Count=%{y}<extra></extra>\", \"legendgroup\": \"2023-04\", \"marker\": {\"color\": \"#FFA15A\"}, \"name\": \"2023-04\", \"offsetgroup\": \"2023-04\", \"orientation\": \"v\", \"showlegend\": true, \"textposition\": \"auto\", \"type\": \"bar\", \"x\": [\"2023-04-02T00:00:00\", \"2023-04-03T00:00:00\", \"2023-04-06T00:00:00\", \"2023-04-07T00:00:00\", \"2023-04-10T00:00:00\", \"2023-04-17T00:00:00\", \"2023-04-24T00:00:00\", \"2023-04-25T00:00:00\"], \"xaxis\": \"x\", \"y\": [2, 3, 1, 2, 2, 1, 1, 23], \"yaxis\": \"y\"}, {\"alignmentgroup\": \"True\", \"hovertemplate\": \"Month=2023-05<br>date=%{x}<br>Count=%{y}<extra></extra>\", \"legendgroup\": \"2023-05\", \"marker\": {\"color\": \"#19d3f3\"}, \"name\": \"2023-05\", \"offsetgroup\": \"2023-05\", \"orientation\": \"v\", \"showlegend\": true, \"textposition\": \"auto\", \"type\": \"bar\", \"x\": [\"2023-05-02T00:00:00\"], \"xaxis\": \"x\", \"y\": [1], \"yaxis\": \"y\"}],                        {\"barmode\": \"relative\", \"legend\": {\"title\": {\"text\": \"Month\"}, \"tracegroupgap\": 0}, \"margin\": {\"t\": 60}, \"template\": {\"data\": {\"bar\": [{\"error_x\": {\"color\": \"#2a3f5f\"}, \"error_y\": {\"color\": \"#2a3f5f\"}, \"marker\": {\"line\": {\"color\": \"#E5ECF6\", \"width\": 0.5}}, \"type\": \"bar\"}], \"barpolar\": [{\"marker\": {\"line\": {\"color\": \"#E5ECF6\", \"width\": 0.5}}, \"type\": \"barpolar\"}], \"carpet\": [{\"aaxis\": {\"endlinecolor\": \"#2a3f5f\", \"gridcolor\": \"white\", \"linecolor\": \"white\", \"minorgridcolor\": \"white\", \"startlinecolor\": \"#2a3f5f\"}, \"baxis\": {\"endlinecolor\": \"#2a3f5f\", \"gridcolor\": \"white\", \"linecolor\": \"white\", \"minorgridcolor\": \"white\", \"startlinecolor\": \"#2a3f5f\"}, \"type\": \"carpet\"}], \"choropleth\": [{\"colorbar\": {\"outlinewidth\": 0, \"ticks\": \"\"}, \"type\": \"choropleth\"}], \"contour\": [{\"colorbar\": {\"outlinewidth\": 0, \"ticks\": \"\"}, \"colorscale\": [[0.0, \"#0d0887\"], [0.1111111111111111, \"#46039f\"], [0.2222222222222222, \"#7201a8\"], [0.3333333333333333, \"#9c179e\"], [0.4444444444444444, \"#bd3786\"], [0.5555555555555556, \"#d8576b\"], [0.6666666666666666, \"#ed7953\"], [0.7777777777777778, \"#fb9f3a\"], [0.8888888888888888, \"#fdca26\"], [1.0, \"#f0f921\"]], \"type\": \"contour\"}], \"contourcarpet\": [{\"colorbar\": {\"outlinewidth\": 0, \"ticks\": \"\"}, \"type\": \"contourcarpet\"}], \"heatmap\": [{\"colorbar\": {\"outlinewidth\": 0, \"ticks\": \"\"}, \"colorscale\": [[0.0, \"#0d0887\"], [0.1111111111111111, \"#46039f\"], [0.2222222222222222, \"#7201a8\"], [0.3333333333333333, \"#9c179e\"], [0.4444444444444444, \"#bd3786\"], [0.5555555555555556, \"#d8576b\"], [0.6666666666666666, \"#ed7953\"], [0.7777777777777778, \"#fb9f3a\"], [0.8888888888888888, \"#fdca26\"], [1.0, \"#f0f921\"]], \"type\": \"heatmap\"}], \"heatmapgl\": [{\"colorbar\": {\"outlinewidth\": 0, \"ticks\": \"\"}, \"colorscale\": [[0.0, \"#0d0887\"], [0.1111111111111111, \"#46039f\"], [0.2222222222222222, \"#7201a8\"], [0.3333333333333333, \"#9c179e\"], [0.4444444444444444, \"#bd3786\"], [0.5555555555555556, \"#d8576b\"], [0.6666666666666666, \"#ed7953\"], [0.7777777777777778, \"#fb9f3a\"], [0.8888888888888888, \"#fdca26\"], [1.0, \"#f0f921\"]], \"type\": \"heatmapgl\"}], \"histogram\": [{\"marker\": {\"colorbar\": {\"outlinewidth\": 0, \"ticks\": \"\"}}, \"type\": \"histogram\"}], \"histogram2d\": [{\"colorbar\": {\"outlinewidth\": 0, \"ticks\": \"\"}, \"colorscale\": [[0.0, \"#0d0887\"], [0.1111111111111111, \"#46039f\"], [0.2222222222222222, \"#7201a8\"], [0.3333333333333333, \"#9c179e\"], [0.4444444444444444, \"#bd3786\"], [0.5555555555555556, \"#d8576b\"], [0.6666666666666666, \"#ed7953\"], [0.7777777777777778, \"#fb9f3a\"], [0.8888888888888888, \"#fdca26\"], [1.0, \"#f0f921\"]], \"type\": \"histogram2d\"}], \"histogram2dcontour\": [{\"colorbar\": {\"outlinewidth\": 0, \"ticks\": \"\"}, \"colorscale\": [[0.0, \"#0d0887\"], [0.1111111111111111, \"#46039f\"], [0.2222222222222222, \"#7201a8\"], [0.3333333333333333, \"#9c179e\"], [0.4444444444444444, \"#bd3786\"], [0.5555555555555556, \"#d8576b\"], [0.6666666666666666, \"#ed7953\"], [0.7777777777777778, \"#fb9f3a\"], [0.8888888888888888, \"#fdca26\"], [1.0, \"#f0f921\"]], \"type\": \"histogram2dcontour\"}], \"mesh3d\": [{\"colorbar\": {\"outlinewidth\": 0, \"ticks\": \"\"}, \"type\": \"mesh3d\"}], \"parcoords\": [{\"line\": {\"colorbar\": {\"outlinewidth\": 0, \"ticks\": \"\"}}, \"type\": \"parcoords\"}], \"pie\": [{\"automargin\": true, \"type\": \"pie\"}], \"scatter\": [{\"marker\": {\"colorbar\": {\"outlinewidth\": 0, \"ticks\": \"\"}}, \"type\": \"scatter\"}], \"scatter3d\": [{\"line\": {\"colorbar\": {\"outlinewidth\": 0, \"ticks\": \"\"}}, \"marker\": {\"colorbar\": {\"outlinewidth\": 0, \"ticks\": \"\"}}, \"type\": \"scatter3d\"}], \"scattercarpet\": [{\"marker\": {\"colorbar\": {\"outlinewidth\": 0, \"ticks\": \"\"}}, \"type\": \"scattercarpet\"}], \"scattergeo\": [{\"marker\": {\"colorbar\": {\"outlinewidth\": 0, \"ticks\": \"\"}}, \"type\": \"scattergeo\"}], \"scattergl\": [{\"marker\": {\"colorbar\": {\"outlinewidth\": 0, \"ticks\": \"\"}}, \"type\": \"scattergl\"}], \"scattermapbox\": [{\"marker\": {\"colorbar\": {\"outlinewidth\": 0, \"ticks\": \"\"}}, \"type\": \"scattermapbox\"}], \"scatterpolar\": [{\"marker\": {\"colorbar\": {\"outlinewidth\": 0, \"ticks\": \"\"}}, \"type\": \"scatterpolar\"}], \"scatterpolargl\": [{\"marker\": {\"colorbar\": {\"outlinewidth\": 0, \"ticks\": \"\"}}, \"type\": \"scatterpolargl\"}], \"scatterternary\": [{\"marker\": {\"colorbar\": {\"outlinewidth\": 0, \"ticks\": \"\"}}, \"type\": \"scatterternary\"}], \"surface\": [{\"colorbar\": {\"outlinewidth\": 0, \"ticks\": \"\"}, \"colorscale\": [[0.0, \"#0d0887\"], [0.1111111111111111, \"#46039f\"], [0.2222222222222222, \"#7201a8\"], [0.3333333333333333, \"#9c179e\"], [0.4444444444444444, \"#bd3786\"], [0.5555555555555556, \"#d8576b\"], [0.6666666666666666, \"#ed7953\"], [0.7777777777777778, \"#fb9f3a\"], [0.8888888888888888, \"#fdca26\"], [1.0, \"#f0f921\"]], \"type\": \"surface\"}], \"table\": [{\"cells\": {\"fill\": {\"color\": \"#EBF0F8\"}, \"line\": {\"color\": \"white\"}}, \"header\": {\"fill\": {\"color\": \"#C8D4E3\"}, \"line\": {\"color\": \"white\"}}, \"type\": \"table\"}]}, \"layout\": {\"annotationdefaults\": {\"arrowcolor\": \"#2a3f5f\", \"arrowhead\": 0, \"arrowwidth\": 1}, \"autotypenumbers\": \"strict\", \"coloraxis\": {\"colorbar\": {\"outlinewidth\": 0, \"ticks\": \"\"}}, \"colorscale\": {\"diverging\": [[0, \"#8e0152\"], [0.1, \"#c51b7d\"], [0.2, \"#de77ae\"], [0.3, \"#f1b6da\"], [0.4, \"#fde0ef\"], [0.5, \"#f7f7f7\"], [0.6, \"#e6f5d0\"], [0.7, \"#b8e186\"], [0.8, \"#7fbc41\"], [0.9, \"#4d9221\"], [1, \"#276419\"]], \"sequential\": [[0.0, \"#0d0887\"], [0.1111111111111111, \"#46039f\"], [0.2222222222222222, \"#7201a8\"], [0.3333333333333333, \"#9c179e\"], [0.4444444444444444, \"#bd3786\"], [0.5555555555555556, \"#d8576b\"], [0.6666666666666666, \"#ed7953\"], [0.7777777777777778, \"#fb9f3a\"], [0.8888888888888888, \"#fdca26\"], [1.0, \"#f0f921\"]], \"sequentialminus\": [[0.0, \"#0d0887\"], [0.1111111111111111, \"#46039f\"], [0.2222222222222222, \"#7201a8\"], [0.3333333333333333, \"#9c179e\"], [0.4444444444444444, \"#bd3786\"], [0.5555555555555556, \"#d8576b\"], [0.6666666666666666, \"#ed7953\"], [0.7777777777777778, \"#fb9f3a\"], [0.8888888888888888, \"#fdca26\"], [1.0, \"#f0f921\"]]}, \"colorway\": [\"#636efa\", \"#EF553B\", \"#00cc96\", \"#ab63fa\", \"#FFA15A\", \"#19d3f3\", \"#FF6692\", \"#B6E880\", \"#FF97FF\", \"#FECB52\"], \"font\": {\"color\": \"#2a3f5f\"}, \"geo\": {\"bgcolor\": \"white\", \"lakecolor\": \"white\", \"landcolor\": \"#E5ECF6\", \"showlakes\": true, \"showland\": true, \"subunitcolor\": \"white\"}, \"hoverlabel\": {\"align\": \"left\"}, \"hovermode\": \"closest\", \"mapbox\": {\"style\": \"light\"}, \"paper_bgcolor\": \"white\", \"plot_bgcolor\": \"#E5ECF6\", \"polar\": {\"angularaxis\": {\"gridcolor\": \"white\", \"linecolor\": \"white\", \"ticks\": \"\"}, \"bgcolor\": \"#E5ECF6\", \"radialaxis\": {\"gridcolor\": \"white\", \"linecolor\": \"white\", \"ticks\": \"\"}}, \"scene\": {\"xaxis\": {\"backgroundcolor\": \"#E5ECF6\", \"gridcolor\": \"white\", \"gridwidth\": 2, \"linecolor\": \"white\", \"showbackground\": true, \"ticks\": \"\", \"zerolinecolor\": \"white\"}, \"yaxis\": {\"backgroundcolor\": \"#E5ECF6\", \"gridcolor\": \"white\", \"gridwidth\": 2, \"linecolor\": \"white\", \"showbackground\": true, \"ticks\": \"\", \"zerolinecolor\": \"white\"}, \"zaxis\": {\"backgroundcolor\": \"#E5ECF6\", \"gridcolor\": \"white\", \"gridwidth\": 2, \"linecolor\": \"white\", \"showbackground\": true, \"ticks\": \"\", \"zerolinecolor\": \"white\"}}, \"shapedefaults\": {\"line\": {\"color\": \"#2a3f5f\"}}, \"ternary\": {\"aaxis\": {\"gridcolor\": \"white\", \"linecolor\": \"white\", \"ticks\": \"\"}, \"baxis\": {\"gridcolor\": \"white\", \"linecolor\": \"white\", \"ticks\": \"\"}, \"bgcolor\": \"#E5ECF6\", \"caxis\": {\"gridcolor\": \"white\", \"linecolor\": \"white\", \"ticks\": \"\"}}, \"title\": {\"x\": 0.05}, \"xaxis\": {\"automargin\": true, \"gridcolor\": \"white\", \"linecolor\": \"white\", \"ticks\": \"\", \"title\": {\"standoff\": 15}, \"zerolinecolor\": \"white\", \"zerolinewidth\": 2}, \"yaxis\": {\"automargin\": true, \"gridcolor\": \"white\", \"linecolor\": \"white\", \"ticks\": \"\", \"title\": {\"standoff\": 15}, \"zerolinecolor\": \"white\", \"zerolinewidth\": 2}}}, \"updatemenus\": [{\"buttons\": [{\"args\": [{\"xaxis\": {\"range\": [1225497600000, 1228089600000.0]}}], \"label\": \"Nov-2008\", \"method\": \"relayout\"}, {\"args\": [{\"xaxis\": {\"range\": [1228089600000, 1230768000000.0]}}], \"label\": \"Dec-2008\", \"method\": \"relayout\"}, {\"args\": [{\"xaxis\": {\"range\": [1230768000000, 1233446400000.0]}}], \"label\": \"Jan-2009\", \"method\": \"relayout\"}, {\"args\": [{\"xaxis\": {\"range\": [1233446400000, 1235865600000.0]}}], \"label\": \"Feb-2009\", \"method\": \"relayout\"}, {\"args\": [{\"xaxis\": {\"range\": [1235865600000, 1238544000000.0]}}], \"label\": \"Mar-2009\", \"method\": \"relayout\"}, {\"args\": [{\"xaxis\": {\"range\": [1238544000000, 1241136000000.0]}}], \"label\": \"Apr-2009\", \"method\": \"relayout\"}, {\"args\": [{\"xaxis\": {\"range\": [1241136000000, 1243814400000.0]}}], \"label\": \"May-2009\", \"method\": \"relayout\"}, {\"args\": [{\"xaxis\": {\"range\": [1243814400000, 1246406400000.0]}}], \"label\": \"Jun-2009\", \"method\": \"relayout\"}, {\"args\": [{\"xaxis\": {\"range\": [1246406400000, 1249084800000.0]}}], \"label\": \"Jul-2009\", \"method\": \"relayout\"}, {\"args\": [{\"xaxis\": {\"range\": [1249084800000, 1251763200000.0]}}], \"label\": \"Aug-2009\", \"method\": \"relayout\"}, {\"args\": [{\"xaxis\": {\"range\": [1251763200000, 1254355200000.0]}}], \"label\": \"Sep-2009\", \"method\": \"relayout\"}, {\"args\": [{\"xaxis\": {\"range\": [1254355200000, 1257033600000.0]}}], \"label\": \"Oct-2009\", \"method\": \"relayout\"}, {\"args\": [{\"xaxis\": {\"range\": [1257033600000, 1259625600000.0]}}], \"label\": \"Nov-2009\", \"method\": \"relayout\"}, {\"args\": [{\"xaxis\": {\"range\": [1259625600000, 1262304000000.0]}}], \"label\": \"Dec-2009\", \"method\": \"relayout\"}, {\"args\": [{\"xaxis\": {\"range\": [1262304000000, 1264982400000.0]}}], \"label\": \"Jan-2010\", \"method\": \"relayout\"}, {\"args\": [{\"xaxis\": {\"range\": [1264982400000, 1267401600000.0]}}], \"label\": \"Feb-2010\", \"method\": \"relayout\"}, {\"args\": [{\"xaxis\": {\"range\": [1267401600000, 1270080000000.0]}}], \"label\": \"Mar-2010\", \"method\": \"relayout\"}, {\"args\": [{\"xaxis\": {\"range\": [1270080000000, 1272672000000.0]}}], \"label\": \"Apr-2010\", \"method\": \"relayout\"}, {\"args\": [{\"xaxis\": {\"range\": [1272672000000, 1275350400000.0]}}], \"label\": \"May-2010\", \"method\": \"relayout\"}, {\"args\": [{\"xaxis\": {\"range\": [1275350400000, 1277942400000.0]}}], \"label\": \"Jun-2010\", \"method\": \"relayout\"}, {\"args\": [{\"xaxis\": {\"range\": [1277942400000, 1280620800000.0]}}], \"label\": \"Jul-2010\", \"method\": \"relayout\"}, {\"args\": [{\"xaxis\": {\"range\": [1280620800000, 1283299200000.0]}}], \"label\": \"Aug-2010\", \"method\": \"relayout\"}, {\"args\": [{\"xaxis\": {\"range\": [1283299200000, 1285891200000.0]}}], \"label\": \"Sep-2010\", \"method\": \"relayout\"}, {\"args\": [{\"xaxis\": {\"range\": [1285891200000, 1288569600000.0]}}], \"label\": \"Oct-2010\", \"method\": \"relayout\"}, {\"args\": [{\"xaxis\": {\"range\": [1288569600000, 1291161600000.0]}}], \"label\": \"Nov-2010\", \"method\": \"relayout\"}, {\"args\": [{\"xaxis\": {\"range\": [1291161600000, 1293840000000.0]}}], \"label\": \"Dec-2010\", \"method\": \"relayout\"}, {\"args\": [{\"xaxis\": {\"range\": [1293840000000, 1296518400000.0]}}], \"label\": \"Jan-2011\", \"method\": \"relayout\"}, {\"args\": [{\"xaxis\": {\"range\": [1296518400000, 1298937600000.0]}}], \"label\": \"Feb-2011\", \"method\": \"relayout\"}, {\"args\": [{\"xaxis\": {\"range\": [1298937600000, 1301616000000.0]}}], \"label\": \"Mar-2011\", \"method\": \"relayout\"}, {\"args\": [{\"xaxis\": {\"range\": [1301616000000, 1304208000000.0]}}], \"label\": \"Apr-2011\", \"method\": \"relayout\"}, {\"args\": [{\"xaxis\": {\"range\": [1304208000000, 1306886400000.0]}}], \"label\": \"May-2011\", \"method\": \"relayout\"}, {\"args\": [{\"xaxis\": {\"range\": [1306886400000, 1309478400000.0]}}], \"label\": \"Jun-2011\", \"method\": \"relayout\"}, {\"args\": [{\"xaxis\": {\"range\": [1309478400000, 1312156800000.0]}}], \"label\": \"Jul-2011\", \"method\": \"relayout\"}, {\"args\": [{\"xaxis\": {\"range\": [1312156800000, 1314835200000.0]}}], \"label\": \"Aug-2011\", \"method\": \"relayout\"}, {\"args\": [{\"xaxis\": {\"range\": [1314835200000, 1317427200000.0]}}], \"label\": \"Sep-2011\", \"method\": \"relayout\"}, {\"args\": [{\"xaxis\": {\"range\": [1317427200000, 1320105600000.0]}}], \"label\": \"Oct-2011\", \"method\": \"relayout\"}, {\"args\": [{\"xaxis\": {\"range\": [1320105600000, 1322697600000.0]}}], \"label\": \"Nov-2011\", \"method\": \"relayout\"}, {\"args\": [{\"xaxis\": {\"range\": [1322697600000, 1325376000000.0]}}], \"label\": \"Dec-2011\", \"method\": \"relayout\"}, {\"args\": [{\"xaxis\": {\"range\": [1325376000000, 1328054400000.0]}}], \"label\": \"Jan-2012\", \"method\": \"relayout\"}, {\"args\": [{\"xaxis\": {\"range\": [1328054400000, 1330560000000.0]}}], \"label\": \"Feb-2012\", \"method\": \"relayout\"}, {\"args\": [{\"xaxis\": {\"range\": [1330560000000, 1333238400000.0]}}], \"label\": \"Mar-2012\", \"method\": \"relayout\"}, {\"args\": [{\"xaxis\": {\"range\": [1333238400000, 1335830400000.0]}}], \"label\": \"Apr-2012\", \"method\": \"relayout\"}, {\"args\": [{\"xaxis\": {\"range\": [1335830400000, 1338508800000.0]}}], \"label\": \"May-2012\", \"method\": \"relayout\"}, {\"args\": [{\"xaxis\": {\"range\": [1338508800000, 1341100800000.0]}}], \"label\": \"Jun-2012\", \"method\": \"relayout\"}, {\"args\": [{\"xaxis\": {\"range\": [1341100800000, 1343779200000.0]}}], \"label\": \"Jul-2012\", \"method\": \"relayout\"}, {\"args\": [{\"xaxis\": {\"range\": [1343779200000, 1346457600000.0]}}], \"label\": \"Aug-2012\", \"method\": \"relayout\"}, {\"args\": [{\"xaxis\": {\"range\": [1346457600000, 1349049600000.0]}}], \"label\": \"Sep-2012\", \"method\": \"relayout\"}, {\"args\": [{\"xaxis\": {\"range\": [1349049600000, 1351728000000.0]}}], \"label\": \"Oct-2012\", \"method\": \"relayout\"}, {\"args\": [{\"xaxis\": {\"range\": [1351728000000, 1354320000000.0]}}], \"label\": \"Nov-2012\", \"method\": \"relayout\"}, {\"args\": [{\"xaxis\": {\"range\": [1354320000000, 1356998400000.0]}}], \"label\": \"Dec-2012\", \"method\": \"relayout\"}, {\"args\": [{\"xaxis\": {\"range\": [1356998400000, 1359676800000.0]}}], \"label\": \"Jan-2013\", \"method\": \"relayout\"}, {\"args\": [{\"xaxis\": {\"range\": [1359676800000, 1362096000000.0]}}], \"label\": \"Feb-2013\", \"method\": \"relayout\"}, {\"args\": [{\"xaxis\": {\"range\": [1362096000000, 1364774400000.0]}}], \"label\": \"Mar-2013\", \"method\": \"relayout\"}, {\"args\": [{\"xaxis\": {\"range\": [1364774400000, 1367366400000.0]}}], \"label\": \"Apr-2013\", \"method\": \"relayout\"}, {\"args\": [{\"xaxis\": {\"range\": [1367366400000, 1370044800000.0]}}], \"label\": \"May-2013\", \"method\": \"relayout\"}, {\"args\": [{\"xaxis\": {\"range\": [1370044800000, 1372636800000.0]}}], \"label\": \"Jun-2013\", \"method\": \"relayout\"}, {\"args\": [{\"xaxis\": {\"range\": [1372636800000, 1375315200000.0]}}], \"label\": \"Jul-2013\", \"method\": \"relayout\"}, {\"args\": [{\"xaxis\": {\"range\": [1375315200000, 1377993600000.0]}}], \"label\": \"Aug-2013\", \"method\": \"relayout\"}, {\"args\": [{\"xaxis\": {\"range\": [1377993600000, 1380585600000.0]}}], \"label\": \"Sep-2013\", \"method\": \"relayout\"}, {\"args\": [{\"xaxis\": {\"range\": [1380585600000, 1383264000000.0]}}], \"label\": \"Oct-2013\", \"method\": \"relayout\"}, {\"args\": [{\"xaxis\": {\"range\": [1383264000000, 1385856000000.0]}}], \"label\": \"Nov-2013\", \"method\": \"relayout\"}, {\"args\": [{\"xaxis\": {\"range\": [1385856000000, 1388534400000.0]}}], \"label\": \"Dec-2013\", \"method\": \"relayout\"}, {\"args\": [{\"xaxis\": {\"range\": [1388534400000, 1391212800000.0]}}], \"label\": \"Jan-2014\", \"method\": \"relayout\"}, {\"args\": [{\"xaxis\": {\"range\": [1391212800000, 1393632000000.0]}}], \"label\": \"Feb-2014\", \"method\": \"relayout\"}, {\"args\": [{\"xaxis\": {\"range\": [1393632000000, 1396310400000.0]}}], \"label\": \"Mar-2014\", \"method\": \"relayout\"}, {\"args\": [{\"xaxis\": {\"range\": [1396310400000, 1398902400000.0]}}], \"label\": \"Apr-2014\", \"method\": \"relayout\"}, {\"args\": [{\"xaxis\": {\"range\": [1398902400000, 1401580800000.0]}}], \"label\": \"May-2014\", \"method\": \"relayout\"}, {\"args\": [{\"xaxis\": {\"range\": [1401580800000, 1404172800000.0]}}], \"label\": \"Jun-2014\", \"method\": \"relayout\"}, {\"args\": [{\"xaxis\": {\"range\": [1404172800000, 1406851200000.0]}}], \"label\": \"Jul-2014\", \"method\": \"relayout\"}, {\"args\": [{\"xaxis\": {\"range\": [1406851200000, 1409529600000.0]}}], \"label\": \"Aug-2014\", \"method\": \"relayout\"}, {\"args\": [{\"xaxis\": {\"range\": [1409529600000, 1412121600000.0]}}], \"label\": \"Sep-2014\", \"method\": \"relayout\"}, {\"args\": [{\"xaxis\": {\"range\": [1412121600000, 1414800000000.0]}}], \"label\": \"Oct-2014\", \"method\": \"relayout\"}, {\"args\": [{\"xaxis\": {\"range\": [1414800000000, 1417392000000.0]}}], \"label\": \"Nov-2014\", \"method\": \"relayout\"}, {\"args\": [{\"xaxis\": {\"range\": [1417392000000, 1420070400000.0]}}], \"label\": \"Dec-2014\", \"method\": \"relayout\"}, {\"args\": [{\"xaxis\": {\"range\": [1420070400000, 1422748800000.0]}}], \"label\": \"Jan-2015\", \"method\": \"relayout\"}, {\"args\": [{\"xaxis\": {\"range\": [1422748800000, 1425168000000.0]}}], \"label\": \"Feb-2015\", \"method\": \"relayout\"}, {\"args\": [{\"xaxis\": {\"range\": [1425168000000, 1427846400000.0]}}], \"label\": \"Mar-2015\", \"method\": \"relayout\"}, {\"args\": [{\"xaxis\": {\"range\": [1427846400000, 1430438400000.0]}}], \"label\": \"Apr-2015\", \"method\": \"relayout\"}, {\"args\": [{\"xaxis\": {\"range\": [1430438400000, 1433116800000.0]}}], \"label\": \"May-2015\", \"method\": \"relayout\"}, {\"args\": [{\"xaxis\": {\"range\": [1433116800000, 1435708800000.0]}}], \"label\": \"Jun-2015\", \"method\": \"relayout\"}, {\"args\": [{\"xaxis\": {\"range\": [1435708800000, 1438387200000.0]}}], \"label\": \"Jul-2015\", \"method\": \"relayout\"}, {\"args\": [{\"xaxis\": {\"range\": [1438387200000, 1441065600000.0]}}], \"label\": \"Aug-2015\", \"method\": \"relayout\"}, {\"args\": [{\"xaxis\": {\"range\": [1441065600000, 1443657600000.0]}}], \"label\": \"Sep-2015\", \"method\": \"relayout\"}, {\"args\": [{\"xaxis\": {\"range\": [1443657600000, 1446336000000.0]}}], \"label\": \"Oct-2015\", \"method\": \"relayout\"}, {\"args\": [{\"xaxis\": {\"range\": [1446336000000, 1448928000000.0]}}], \"label\": \"Nov-2015\", \"method\": \"relayout\"}, {\"args\": [{\"xaxis\": {\"range\": [1448928000000, 1451606400000.0]}}], \"label\": \"Dec-2015\", \"method\": \"relayout\"}, {\"args\": [{\"xaxis\": {\"range\": [1451606400000, 1454284800000.0]}}], \"label\": \"Jan-2016\", \"method\": \"relayout\"}, {\"args\": [{\"xaxis\": {\"range\": [1454284800000, 1456790400000.0]}}], \"label\": \"Feb-2016\", \"method\": \"relayout\"}, {\"args\": [{\"xaxis\": {\"range\": [1456790400000, 1459468800000.0]}}], \"label\": \"Mar-2016\", \"method\": \"relayout\"}, {\"args\": [{\"xaxis\": {\"range\": [1459468800000, 1462060800000.0]}}], \"label\": \"Apr-2016\", \"method\": \"relayout\"}, {\"args\": [{\"xaxis\": {\"range\": [1462060800000, 1464739200000.0]}}], \"label\": \"May-2016\", \"method\": \"relayout\"}, {\"args\": [{\"xaxis\": {\"range\": [1464739200000, 1467331200000.0]}}], \"label\": \"Jun-2016\", \"method\": \"relayout\"}, {\"args\": [{\"xaxis\": {\"range\": [1467331200000, 1470009600000.0]}}], \"label\": \"Jul-2016\", \"method\": \"relayout\"}, {\"args\": [{\"xaxis\": {\"range\": [1470009600000, 1472688000000.0]}}], \"label\": \"Aug-2016\", \"method\": \"relayout\"}, {\"args\": [{\"xaxis\": {\"range\": [1472688000000, 1475280000000.0]}}], \"label\": \"Sep-2016\", \"method\": \"relayout\"}, {\"args\": [{\"xaxis\": {\"range\": [1475280000000, 1477958400000.0]}}], \"label\": \"Oct-2016\", \"method\": \"relayout\"}, {\"args\": [{\"xaxis\": {\"range\": [1477958400000, 1480550400000.0]}}], \"label\": \"Nov-2016\", \"method\": \"relayout\"}, {\"args\": [{\"xaxis\": {\"range\": [1480550400000, 1483228800000.0]}}], \"label\": \"Dec-2016\", \"method\": \"relayout\"}, {\"args\": [{\"xaxis\": {\"range\": [1483228800000, 1485907200000.0]}}], \"label\": \"Jan-2017\", \"method\": \"relayout\"}, {\"args\": [{\"xaxis\": {\"range\": [1485907200000, 1488326400000.0]}}], \"label\": \"Feb-2017\", \"method\": \"relayout\"}, {\"args\": [{\"xaxis\": {\"range\": [1488326400000, 1491004800000.0]}}], \"label\": \"Mar-2017\", \"method\": \"relayout\"}, {\"args\": [{\"xaxis\": {\"range\": [1491004800000, 1493596800000.0]}}], \"label\": \"Apr-2017\", \"method\": \"relayout\"}, {\"args\": [{\"xaxis\": {\"range\": [1493596800000, 1496275200000.0]}}], \"label\": \"May-2017\", \"method\": \"relayout\"}, {\"args\": [{\"xaxis\": {\"range\": [1496275200000, 1498867200000.0]}}], \"label\": \"Jun-2017\", \"method\": \"relayout\"}, {\"args\": [{\"xaxis\": {\"range\": [1498867200000, 1501545600000.0]}}], \"label\": \"Jul-2017\", \"method\": \"relayout\"}, {\"args\": [{\"xaxis\": {\"range\": [1501545600000, 1504224000000.0]}}], \"label\": \"Aug-2017\", \"method\": \"relayout\"}, {\"args\": [{\"xaxis\": {\"range\": [1504224000000, 1506816000000.0]}}], \"label\": \"Sep-2017\", \"method\": \"relayout\"}, {\"args\": [{\"xaxis\": {\"range\": [1506816000000, 1509494400000.0]}}], \"label\": \"Oct-2017\", \"method\": \"relayout\"}, {\"args\": [{\"xaxis\": {\"range\": [1509494400000, 1512086400000.0]}}], \"label\": \"Nov-2017\", \"method\": \"relayout\"}, {\"args\": [{\"xaxis\": {\"range\": [1512086400000, 1514764800000.0]}}], \"label\": \"Dec-2017\", \"method\": \"relayout\"}, {\"args\": [{\"xaxis\": {\"range\": [1514764800000, 1517443200000.0]}}], \"label\": \"Jan-2018\", \"method\": \"relayout\"}, {\"args\": [{\"xaxis\": {\"range\": [1517443200000, 1519862400000.0]}}], \"label\": \"Feb-2018\", \"method\": \"relayout\"}, {\"args\": [{\"xaxis\": {\"range\": [1519862400000, 1522540800000.0]}}], \"label\": \"Mar-2018\", \"method\": \"relayout\"}, {\"args\": [{\"xaxis\": {\"range\": [1522540800000, 1525132800000.0]}}], \"label\": \"Apr-2018\", \"method\": \"relayout\"}, {\"args\": [{\"xaxis\": {\"range\": [1525132800000, 1527811200000.0]}}], \"label\": \"May-2018\", \"method\": \"relayout\"}, {\"args\": [{\"xaxis\": {\"range\": [1527811200000, 1530403200000.0]}}], \"label\": \"Jun-2018\", \"method\": \"relayout\"}, {\"args\": [{\"xaxis\": {\"range\": [1530403200000, 1533081600000.0]}}], \"label\": \"Jul-2018\", \"method\": \"relayout\"}, {\"args\": [{\"xaxis\": {\"range\": [1533081600000, 1535760000000.0]}}], \"label\": \"Aug-2018\", \"method\": \"relayout\"}, {\"args\": [{\"xaxis\": {\"range\": [1535760000000, 1538352000000.0]}}], \"label\": \"Sep-2018\", \"method\": \"relayout\"}, {\"args\": [{\"xaxis\": {\"range\": [1538352000000, 1541030400000.0]}}], \"label\": \"Oct-2018\", \"method\": \"relayout\"}, {\"args\": [{\"xaxis\": {\"range\": [1541030400000, 1543622400000.0]}}], \"label\": \"Nov-2018\", \"method\": \"relayout\"}, {\"args\": [{\"xaxis\": {\"range\": [1543622400000, 1546300800000.0]}}], \"label\": \"Dec-2018\", \"method\": \"relayout\"}, {\"args\": [{\"xaxis\": {\"range\": [1546300800000, 1548979200000.0]}}], \"label\": \"Jan-2019\", \"method\": \"relayout\"}, {\"args\": [{\"xaxis\": {\"range\": [1548979200000, 1551398400000.0]}}], \"label\": \"Feb-2019\", \"method\": \"relayout\"}, {\"args\": [{\"xaxis\": {\"range\": [1551398400000, 1554076800000.0]}}], \"label\": \"Mar-2019\", \"method\": \"relayout\"}, {\"args\": [{\"xaxis\": {\"range\": [1554076800000, 1556668800000.0]}}], \"label\": \"Apr-2019\", \"method\": \"relayout\"}, {\"args\": [{\"xaxis\": {\"range\": [1556668800000, 1559347200000.0]}}], \"label\": \"May-2019\", \"method\": \"relayout\"}, {\"args\": [{\"xaxis\": {\"range\": [1559347200000, 1561939200000.0]}}], \"label\": \"Jun-2019\", \"method\": \"relayout\"}, {\"args\": [{\"xaxis\": {\"range\": [1561939200000, 1564617600000.0]}}], \"label\": \"Jul-2019\", \"method\": \"relayout\"}, {\"args\": [{\"xaxis\": {\"range\": [1564617600000, 1567296000000.0]}}], \"label\": \"Aug-2019\", \"method\": \"relayout\"}, {\"args\": [{\"xaxis\": {\"range\": [1567296000000, 1569888000000.0]}}], \"label\": \"Sep-2019\", \"method\": \"relayout\"}, {\"args\": [{\"xaxis\": {\"range\": [1569888000000, 1572566400000.0]}}], \"label\": \"Oct-2019\", \"method\": \"relayout\"}, {\"args\": [{\"xaxis\": {\"range\": [1572566400000, 1575158400000.0]}}], \"label\": \"Nov-2019\", \"method\": \"relayout\"}, {\"args\": [{\"xaxis\": {\"range\": [1575158400000, 1577836800000.0]}}], \"label\": \"Dec-2019\", \"method\": \"relayout\"}, {\"args\": [{\"xaxis\": {\"range\": [1577836800000, 1580515200000.0]}}], \"label\": \"Jan-2020\", \"method\": \"relayout\"}, {\"args\": [{\"xaxis\": {\"range\": [1580515200000, 1583020800000.0]}}], \"label\": \"Feb-2020\", \"method\": \"relayout\"}, {\"args\": [{\"xaxis\": {\"range\": [1583020800000, 1585699200000.0]}}], \"label\": \"Mar-2020\", \"method\": \"relayout\"}, {\"args\": [{\"xaxis\": {\"range\": [1585699200000, 1588291200000.0]}}], \"label\": \"Apr-2020\", \"method\": \"relayout\"}, {\"args\": [{\"xaxis\": {\"range\": [1588291200000, 1590969600000.0]}}], \"label\": \"May-2020\", \"method\": \"relayout\"}, {\"args\": [{\"xaxis\": {\"range\": [1590969600000, 1593561600000.0]}}], \"label\": \"Jun-2020\", \"method\": \"relayout\"}, {\"args\": [{\"xaxis\": {\"range\": [1593561600000, 1596240000000.0]}}], \"label\": \"Jul-2020\", \"method\": \"relayout\"}, {\"args\": [{\"xaxis\": {\"range\": [1596240000000, 1598918400000.0]}}], \"label\": \"Aug-2020\", \"method\": \"relayout\"}, {\"args\": [{\"xaxis\": {\"range\": [1598918400000, 1601510400000.0]}}], \"label\": \"Sep-2020\", \"method\": \"relayout\"}, {\"args\": [{\"xaxis\": {\"range\": [1601510400000, 1604188800000.0]}}], \"label\": \"Oct-2020\", \"method\": \"relayout\"}, {\"args\": [{\"xaxis\": {\"range\": [1604188800000, 1606780800000.0]}}], \"label\": \"Nov-2020\", \"method\": \"relayout\"}, {\"args\": [{\"xaxis\": {\"range\": [1606780800000, 1609459200000.0]}}], \"label\": \"Dec-2020\", \"method\": \"relayout\"}, {\"args\": [{\"xaxis\": {\"range\": [1609459200000, 1612137600000.0]}}], \"label\": \"Jan-2021\", \"method\": \"relayout\"}, {\"args\": [{\"xaxis\": {\"range\": [1612137600000, 1614556800000.0]}}], \"label\": \"Feb-2021\", \"method\": \"relayout\"}, {\"args\": [{\"xaxis\": {\"range\": [1614556800000, 1617235200000.0]}}], \"label\": \"Mar-2021\", \"method\": \"relayout\"}, {\"args\": [{\"xaxis\": {\"range\": [1617235200000, 1619827200000.0]}}], \"label\": \"Apr-2021\", \"method\": \"relayout\"}, {\"args\": [{\"xaxis\": {\"range\": [1619827200000, 1622505600000.0]}}], \"label\": \"May-2021\", \"method\": \"relayout\"}, {\"args\": [{\"xaxis\": {\"range\": [1622505600000, 1625097600000.0]}}], \"label\": \"Jun-2021\", \"method\": \"relayout\"}, {\"args\": [{\"xaxis\": {\"range\": [1625097600000, 1627776000000.0]}}], \"label\": \"Jul-2021\", \"method\": \"relayout\"}, {\"args\": [{\"xaxis\": {\"range\": [1627776000000, 1630454400000.0]}}], \"label\": \"Aug-2021\", \"method\": \"relayout\"}, {\"args\": [{\"xaxis\": {\"range\": [1630454400000, 1633046400000.0]}}], \"label\": \"Sep-2021\", \"method\": \"relayout\"}, {\"args\": [{\"xaxis\": {\"range\": [1633046400000, 1635724800000.0]}}], \"label\": \"Oct-2021\", \"method\": \"relayout\"}, {\"args\": [{\"xaxis\": {\"range\": [1635724800000, 1638316800000.0]}}], \"label\": \"Nov-2021\", \"method\": \"relayout\"}, {\"args\": [{\"xaxis\": {\"range\": [1638316800000, 1640995200000.0]}}], \"label\": \"Dec-2021\", \"method\": \"relayout\"}, {\"args\": [{\"xaxis\": {\"range\": [1640995200000, 1643673600000.0]}}], \"label\": \"Jan-2022\", \"method\": \"relayout\"}, {\"args\": [{\"xaxis\": {\"range\": [1643673600000, 1646092800000.0]}}], \"label\": \"Feb-2022\", \"method\": \"relayout\"}, {\"args\": [{\"xaxis\": {\"range\": [1646092800000, 1648771200000.0]}}], \"label\": \"Mar-2022\", \"method\": \"relayout\"}, {\"args\": [{\"xaxis\": {\"range\": [1648771200000, 1651363200000.0]}}], \"label\": \"Apr-2022\", \"method\": \"relayout\"}, {\"args\": [{\"xaxis\": {\"range\": [1651363200000, 1654041600000.0]}}], \"label\": \"May-2022\", \"method\": \"relayout\"}, {\"args\": [{\"xaxis\": {\"range\": [1654041600000, 1656633600000.0]}}], \"label\": \"Jun-2022\", \"method\": \"relayout\"}, {\"args\": [{\"xaxis\": {\"range\": [1656633600000, 1659312000000.0]}}], \"label\": \"Jul-2022\", \"method\": \"relayout\"}, {\"args\": [{\"xaxis\": {\"range\": [1659312000000, 1661990400000.0]}}], \"label\": \"Aug-2022\", \"method\": \"relayout\"}, {\"args\": [{\"xaxis\": {\"range\": [1661990400000, 1664582400000.0]}}], \"label\": \"Sep-2022\", \"method\": \"relayout\"}, {\"args\": [{\"xaxis\": {\"range\": [1664582400000, 1667260800000.0]}}], \"label\": \"Oct-2022\", \"method\": \"relayout\"}, {\"args\": [{\"xaxis\": {\"range\": [1667260800000, 1669852800000.0]}}], \"label\": \"Nov-2022\", \"method\": \"relayout\"}, {\"args\": [{\"xaxis\": {\"range\": [1669852800000, 1672531200000.0]}}], \"label\": \"Dec-2022\", \"method\": \"relayout\"}, {\"args\": [{\"xaxis\": {\"range\": [1672531200000, 1675209600000.0]}}], \"label\": \"Jan-2023\", \"method\": \"relayout\"}, {\"args\": [{\"xaxis\": {\"range\": [1675209600000, 1677628800000.0]}}], \"label\": \"Feb-2023\", \"method\": \"relayout\"}, {\"args\": [{\"xaxis\": {\"range\": [1677628800000, 1680307200000.0]}}], \"label\": \"Mar-2023\", \"method\": \"relayout\"}, {\"args\": [{\"xaxis\": {\"range\": [1680307200000, 1682899200000.0]}}], \"label\": \"Apr-2023\", \"method\": \"relayout\"}, {\"args\": [{\"xaxis\": {\"range\": [1682899200000, 1682985600000.0]}}], \"label\": \"May-2023\", \"method\": \"relayout\"}]}, {\"buttons\": [{\"args\": [{\"xaxis\": {\"range\": []}}], \"label\": \"All data\", \"method\": \"relayout\"}], \"type\": \"buttons\", \"y\": 0.8}], \"xaxis\": {\"anchor\": \"y\", \"domain\": [0.0, 1.0], \"title\": {\"text\": \"date\"}}, \"yaxis\": {\"anchor\": \"x\", \"domain\": [0.0, 1.0], \"title\": {\"text\": \"Count\"}}},                        {\"responsive\": true}                    ).then(function(){\n",
       "                            \n",
       "var gd = document.getElementById('8fd02d31-43e8-4ede-a4d2-b9e8130020cc');\n",
       "var x = new MutationObserver(function (mutations, observer) {{\n",
       "        var display = window.getComputedStyle(gd).display;\n",
       "        if (!display || display === 'none') {{\n",
       "            console.log([gd, 'removed!']);\n",
       "            Plotly.purge(gd);\n",
       "            observer.disconnect();\n",
       "        }}\n",
       "}});\n",
       "\n",
       "// Listen for the removal of the full notebook cells\n",
       "var notebookContainer = gd.closest('#notebook-container');\n",
       "if (notebookContainer) {{\n",
       "    x.observe(notebookContainer, {childList: true});\n",
       "}}\n",
       "\n",
       "// Listen for the clearing of the current output cell\n",
       "var outputEl = gd.closest('.output');\n",
       "if (outputEl) {{\n",
       "    x.observe(outputEl, {childList: true});\n",
       "}}\n",
       "\n",
       "                        })                };                });            </script>        </div>"
      ]
     },
     "metadata": {},
     "output_type": "display_data"
    }
   ],
   "source": [
    "import numpy as np\n",
    "import pandas as pd\n",
    "import plotly.express as px\n",
    "\n",
    "# Define color map dictionary\n",
    "color_map = {\"All data\": \"darkblue\"}\n",
    "\n",
    "fig = px.bar(df_day, x=\"date\", y=\"Count\", color=\"Month\",\n",
    "             color_discrete_map=color_map)\n",
    "dfbut = (\n",
    "    (df_day[\"date\"] + pd.offsets.MonthBegin(-1))\n",
    "    .drop_duplicates()\n",
    "    .to_frame()\n",
    "    .assign(\n",
    "        label=lambda d: d[\"date\"].dt.strftime(\"%b-%Y\"),\n",
    "        start=lambda d: (d[\"date\"] - pd.Timestamp(\"1970-01-01\")) // pd.Timedelta(\"1ms\"),\n",
    "        end=lambda d: d[\"start\"].shift(-1),\n",
    "    )\n",
    "    .fillna((df[\"date\"].max() - pd.Timestamp(\"1970-01-01\")) // pd.Timedelta(\"1ms\"))\n",
    ")\n",
    "# build buttons to filter by month\n",
    "fig.update_layout(\n",
    "    updatemenus=[\n",
    "        {\n",
    "            \"buttons\": [\n",
    "                {\n",
    "                    \"label\": r[1][\"label\"],\n",
    "                    \"method\": \"relayout\",\n",
    "                    \"args\": [{\"xaxis\": {\"range\": [r[1][\"start\"], r[1][\"end\"]]}}],\n",
    "                }\n",
    "                for r in dfbut.iterrows()\n",
    "            ]\n",
    "        },\n",
    "        {\"buttons\":[{\"label\":\"All data\", \"method\":\"relayout\",\"args\":[{\"xaxis\":{\"range\":[]}}]}],\"y\":.8,\"type\":\"buttons\"}\n",
    "    ]\n",
    ")\n"
   ]
  },
  {
   "cell_type": "code",
   "execution_count": 207,
   "metadata": {},
   "outputs": [],
   "source": [
    "grouped = df.groupby('date').size().reset_index(name=\"count\")"
   ]
  },
  {
   "cell_type": "code",
   "execution_count": 2,
   "metadata": {},
   "outputs": [
    {
     "name": "stderr",
     "output_type": "stream",
     "text": [
      "/home/yzhong/conda/envs/yihan_gpu/lib/python3.8/site-packages/scipy/__init__.py:146: UserWarning: A NumPy version >=1.16.5 and <1.23.0 is required for this version of SciPy (detected version 1.24.2\n",
      "  warnings.warn(f\"A NumPy version >={np_minversion} and <{np_maxversion}\"\n"
     ]
    }
   ],
   "source": [
    "import pandas as pd\n",
    "import plotly.express as px"
   ]
  },
  {
   "cell_type": "code",
   "execution_count": 4,
   "metadata": {},
   "outputs": [],
   "source": [
    "import dash\n",
    "import dash_core_components as dcc\n",
    "import dash_html_components as html"
   ]
  },
  {
   "cell_type": "code",
   "execution_count": 209,
   "metadata": {},
   "outputs": [
    {
     "data": {
      "image/png": "[encoded data removed]",
      "text/plain": [
       "<Figure size 432x288 with 1 Axes>"
      ]
     },
     "metadata": {
      "needs_background": "light"
     },
     "output_type": "display_data"
    }
   ],
   "source": [
    "import matplotlib.pyplot as plt\n",
    "# group by date and count the number of rows\n",
    "grouped = df.groupby('date').size().reset_index(name=\"count\")\n",
    "\n",
    "# plot the distribution\n",
    "plt.plot(grouped.index, grouped['count'])\n",
    "plt.xlabel('Date')\n",
    "plt.ylabel('Count')\n",
    "plt.show()"
   ]
  },
  {
   "cell_type": "code",
   "execution_count": 7,
   "metadata": {},
   "outputs": [],
   "source": [
    "df_m=df[df.eqt_code=='MCD_UN'].sort_values(by=['last_update'], ascending=True).reset_index(drop=True)"
   ]
  },
  {
   "cell_type": "code",
   "execution_count": 203,
   "metadata": {},
   "outputs": [],
   "source": [
    "with open('/mnt/research-live/user/yzhong/MCD_UN.txt', 'w') as f:\n",
    "    for row in df.itertuples():\n",
    "        f.write(str(row.last_update) + '\\n')\n",
    "        f.write(str(row.analyst) + '\\n')\n",
    "        f.write(f'headline  {row.headline}' + '\\n')\n",
    "        f.write(str(row.body) + '\\n')"
   ]
  },
  {
   "cell_type": "code",
   "execution_count": 13,
   "metadata": {},
   "outputs": [],
   "source": [
    "MODEL_ID = config_['SENTENCE_TRANSFORMER']\n",
    "model = SentenceTransformer(MODEL_ID,device='cuda',cache_folder=config_['model_dir'] )\n",
    "# Use the map method to apply the mapping function to the dataset in batches\n",
    "batch_size =256*4"
   ]
  },
  {
   "cell_type": "code",
   "execution_count": 25,
   "metadata": {},
   "outputs": [],
   "source": [
    "def sentence_tokenization(batch, text='translation'):\n",
    "   # inputs = tokenizer(batch[text], padding= True, truncation=True, return_tensors='pt')\n",
    "    with torch.no_grad():\n",
    "        embeddings = model.encode(batch[text])\n",
    "    return {'embeddings': embeddings}\n"
   ]
  },
  {
   "cell_type": "code",
   "execution_count": 22,
   "metadata": {},
   "outputs": [],
   "source": [
    "ds = Dataset.from_dict({\n",
    "                \"id\": df_m.index,\n",
    "                \"headline\": df_m[\"headline\"],\n",
    "                'length': df_m[\"headline\"].map(lambda x: len(x)) })"
   ]
  },
  {
   "cell_type": "code",
   "execution_count": 23,
   "metadata": {},
   "outputs": [
    {
     "name": "stderr",
     "output_type": "stream",
     "text": [
      "Parameter 'function'=<function <lambda> at 0x7f69869f5670> of the transform datasets.arrow_dataset.Dataset._map_single couldn't be hashed properly, a random hash was used instead. Make sure your transforms and parameters are serializable with pickle or dill for the dataset fingerprinting and caching to work. If you reuse this transform, the caching mechanism will consider it to be different from the previous calls and recompute everything. This warning is only showed once. Subsequent hashing failures won't be showed.\n",
      "                                                                 \r"
     ]
    }
   ],
   "source": [
    "ds = ds.map(lambda x: sentence_tokenization(x, text='headline'), batched=True, batch_size=batch_size).sort('id')"
   ]
  },
  {
   "cell_type": "code",
   "execution_count": 27,
   "metadata": {},
   "outputs": [],
   "source": [
    "df_m['embeddings']=ds['embeddings']"
   ]
  },
  {
   "cell_type": "code",
   "execution_count": 50,
   "metadata": {},
   "outputs": [],
   "source": [
    "# Explode the \"embeddings\" column into separate rows\n",
    "df = df_m.explode('embeddings')\n",
    "df['index'] = df.groupby(level=0).cumcount()\n",
    "\n",
    "# Pivot the DataFrame to create separate columns for each element\n",
    "df = df.pivot(index=['suid','last_update','eqt_code','headline'],columns='index', values='embeddings')"
   ]
  },
  {
   "cell_type": "code",
   "execution_count": 39,
   "metadata": {},
   "outputs": [],
   "source": [
    "# Define the number of elements in each list\n",
    "num_elements = len(df_m['embeddings'][0])\n",
    "\n",
    "# Use apply() with a lambda function to create a new DataFrame with separate columns for each element\n",
    "new_df = df_m['embeddings'].apply(lambda x: pd.Series(x, index=[f'embedding_{i}' for i in range(num_elements)]))\n",
    "\n",
    "# Concatenate the new DataFrame with the original DataFrame\n",
    "df = pd.concat([df_m, new_df], axis=1)\n",
    "\n",
    "# Drop the original \"embeddings\" column\n",
    "df.drop('embeddings', axis=1, inplace=True)"
   ]
  },
  {
   "cell_type": "code",
   "execution_count": 34,
   "metadata": {},
   "outputs": [],
   "source": [
    "dates=df_m['last_update'].dt.date"
   ]
  },
  {
   "cell_type": "code",
   "execution_count": 29,
   "metadata": {},
   "outputs": [],
   "source": [
    "df_m.to_parquet('/mnt/research-live/user/yzhong/MCD_UN_single_stock.parquet')"
   ]
  },
  {
   "cell_type": "code",
   "execution_count": 141,
   "metadata": {},
   "outputs": [],
   "source": [
    "df=pd.read_parquet('/mnt/research-live/user/yzhong/MCD_UN_single_stock.parquet')"
   ]
  },
  {
   "cell_type": "code",
   "execution_count": 13,
   "metadata": {},
   "outputs": [],
   "source": [
    "# Convert the embeddings column to a NumPy array\n",
    "embeddings_array = np.array(df['embeddings'].tolist())\n",
    "# Normalize the embeddings\n",
    "normalized_embeddings = (embeddings_array - embeddings_array.mean()) / embeddings_array.std()\n",
    "# Replace the embeddings column with the normalized embeddings\n",
    "df['embeddings'] = normalized_embeddings.tolist()"
   ]
  },
  {
   "cell_type": "code",
   "execution_count": 77,
   "metadata": {},
   "outputs": [
    {
     "name": "stderr",
     "output_type": "stream",
     "text": [
      "100%|██████████| 4/4 [00:00<00:00, 449.96it/s]\n"
     ]
    }
   ],
   "source": [
    "all_distances = dict() \n",
    "all_indexes = dict()\n",
    "for idx in tqdm.tqdm(list(range(n_days, len(unique_dates)))): \n",
    "    obs_date = unique_dates[idx] \n",
    "    #search_dates = unique_dates[idx - n_days:idx] \n",
    "    search_dates=[obs_date - datetime.timedelta(days=i) for i in range(n_days)]\n",
    "\n",
    "    obs_df = df.loc[df_m['date'] == obs_date]  # <- dateframe we want to search\n",
    "    search_df = df.loc[df_m['date'].isin(search_dates)]  # <- dateframe we want to query\n",
    "\n",
    "    obs_embeddings = obs_df.loc[:, 'embeddings'].values \n",
    "    search_embeddings = search_df.loc[:, 'embeddings'].values\n",
    "\n",
    "    similarity_computer = faiss.IndexFlatL2(len(df['embeddings'][0])) \n",
    "    similarity_computer.add(np.vstack(search_embeddings).astype('float32'))\n",
    "    distances, indexes = similarity_computer.search(np.vstack(obs_embeddings).astype('float32'), n + 1)\n",
    "    all_distances.update( \n",
    "    dict(zip(obs_df.index, distances)) \n",
    "    )\n",
    "    matched_indexes = np.where(indexes != -1, search_df.index.values[indexes], None) \n",
    "    all_indexes.update(dict(zip(obs_df.index.values, matched_indexes)))"
   ]
  },
  {
   "cell_type": "code",
   "execution_count": 108,
   "metadata": {},
   "outputs": [],
   "source": [
    "distances, indexes = similarity_computer.search(np.vstack(obs_embeddings).astype('float32'), n + 1)"
   ]
  },
  {
   "cell_type": "code",
   "execution_count": 110,
   "metadata": {},
   "outputs": [
    {
     "name": "stderr",
     "output_type": "stream",
     "text": [
      "/home/yzhong/.local/lib/python3.8/site-packages/numpy/core/fromnumeric.py:57: RuntimeWarning: overflow encountered in multiply\n",
      "  return bound(*args, **kwds)\n"
     ]
    },
    {
     "data": {
      "text/plain": [
       "array([[  0.  , 540.35, 697.16,    inf]], dtype=float32)"
      ]
     },
     "execution_count": 110,
     "metadata": {},
     "output_type": "execute_result"
    }
   ],
   "source": [
    "rounded_arr = np.round(distances, 2)\n",
    "rounded_arr "
   ]
  },
  {
   "cell_type": "code",
   "execution_count": 109,
   "metadata": {},
   "outputs": [
    {
     "data": {
      "text/plain": [
       "array([[0.0000000e+00, 5.4035193e+02, 6.9716052e+02, 3.4028235e+38]],\n",
       "      dtype=float32)"
      ]
     },
     "execution_count": 109,
     "metadata": {},
     "output_type": "execute_result"
    }
   ],
   "source": [
    "distances"
   ]
  },
  {
   "cell_type": "code",
   "execution_count": null,
   "metadata": {},
   "outputs": [],
   "source": []
  },
  {
   "cell_type": "code",
   "execution_count": 142,
   "metadata": {},
   "outputs": [],
   "source": [
    "embeddings_vectors=np.array(df['embeddings'].tolist()).astype('float32')\n",
    "ids=df.index.values.astype(np.int64)"
   ]
  },
  {
   "cell_type": "code",
   "execution_count": 143,
   "metadata": {},
   "outputs": [],
   "source": [
    "faiss.normalize_L2(np.array(df['embeddings'].tolist()).astype('float32'))"
   ]
  },
  {
   "cell_type": "code",
   "execution_count": 144,
   "metadata": {},
   "outputs": [],
   "source": [
    "index=faiss.IndexFlatIP(384)\n",
    "index=faiss.IndexIDMap(index)\n",
    "index.add_with_ids(embeddings_vectors,ids)"
   ]
  },
  {
   "cell_type": "code",
   "execution_count": 145,
   "metadata": {},
   "outputs": [],
   "source": [
    "k_nearest=2\n",
    "search_query=embeddings_vectors\n",
    "faiss.normalize_L2(search_query)"
   ]
  },
  {
   "cell_type": "code",
   "execution_count": 146,
   "metadata": {},
   "outputs": [],
   "source": [
    "similarities,similarities_ids=index.search(search_query,k=k_nearest)"
   ]
  },
  {
   "cell_type": "code",
   "execution_count": 148,
   "metadata": {},
   "outputs": [],
   "source": [
    "similarities=np.around(np.clip(similarities,0,1),decimals=4)"
   ]
  },
  {
   "cell_type": "code",
   "execution_count": 149,
   "metadata": {},
   "outputs": [
    {
     "data": {
      "text/plain": [
       "array([[1.    , 0.7873],\n",
       "       [1.    , 0.8559],\n",
       "       [1.    , 0.9389],\n",
       "       ...,\n",
       "       [1.    , 0.7261],\n",
       "       [1.    , 0.95  ],\n",
       "       [1.    , 0.9982]], dtype=float32)"
      ]
     },
     "execution_count": 149,
     "metadata": {},
     "output_type": "execute_result"
    }
   ],
   "source": [
    "similarities"
   ]
  },
  {
   "cell_type": "code",
   "execution_count": 131,
   "metadata": {},
   "outputs": [
    {
     "data": {
      "text/plain": [
       "10"
      ]
     },
     "execution_count": 131,
     "metadata": {},
     "output_type": "execute_result"
    }
   ],
   "source": [
    "obs_embeddings = df.loc[1:10, 'embeddings'].values \n",
    "obs_vectors=np.vstack(obs_embeddings).astype('float32')\n",
    "len(obs_vectors)"
   ]
  },
  {
   "cell_type": "code",
   "execution_count": 132,
   "metadata": {},
   "outputs": [
    {
     "data": {
      "text/plain": [
       "array([[0.0000000e+00, 5.4035193e+02, 6.9716052e+02, 3.4028235e+38]],\n",
       "      dtype=float32)"
      ]
     },
     "execution_count": 132,
     "metadata": {},
     "output_type": "execute_result"
    }
   ],
   "source": [
    "distances"
   ]
  },
  {
   "cell_type": "code",
   "execution_count": 134,
   "metadata": {},
   "outputs": [
    {
     "data": {
      "text/plain": [
       "2.892399946427494e+38"
      ]
     },
     "execution_count": 134,
     "metadata": {},
     "output_type": "execute_result"
    }
   ],
   "source": [
    "quantile = np.quantile(distances, 0.95)\n",
    "quantile"
   ]
  },
  {
   "cell_type": "code",
   "execution_count": null,
   "metadata": {},
   "outputs": [],
   "source": []
  },
  {
   "cell_type": "code",
   "execution_count": null,
   "metadata": {},
   "outputs": [],
   "source": [
    "def get_quantile_distance(df, n_days=1, mode=\"cosine\",threshold=0.95,dim=384,ncores = 1):\n",
    "    assert mode in [\"l2\", \"cosine\"] \n",
    "    dates=df.date\n",
    "    \n",
    "    assert len(df) == len(dates), \"dates series have to be same length as df\" \n",
    "\n",
    "    unique_dates = list(sorted(np.unique(dates)))\n",
    "\n",
    "\n",
    "    all_quantile = dict() \n",
    "\n",
    "    for idx in tqdm.tqdm(list(range(n_days, len(unique_dates)))): \n",
    "        obs_date = unique_dates[idx] \n",
    "        #search_dates = unique_dates[idx - n_days:idx] \n",
    "        search_dates=[obs_date - datetime.timedelta(days=i) for i in range(n_days)]\n",
    "\n",
    "        #obs_df = df.loc[df['date'] == obs_date]  # <- dateframe we want to search\n",
    "        search_df = df.loc[df['date'].isin(search_dates)]  # <- dateframe we want to query\n",
    "\n",
    "        #obs_embeddings = obs_df.loc[:, 'embeddings'].values \n",
    "        #obs_vectors=np.vstack(obs_embeddings).astype('float32')\n",
    "        search_embeddings = search_df.loc[:, 'embeddings'].values\n",
    "        search_vectors=np.vstack(search_embeddings).astype('float32')\n",
    "        ids=search_embeddings.index.values.astype(np.int64)\n",
    "\n",
    "        #faiss.normalize_L2(obs_vectors)\n",
    "        faiss.normalize_L2(search_vectors)\n",
    "\n",
    "    \n",
    "        if mode == \"l2\": \n",
    "            index = faiss.IndexFlatL2(dim) \n",
    "        elif mode == \"cosine\": \n",
    "            index = faiss.IndexFlatIP(dim) \n",
    "        else: \n",
    "            print(f\"Unknown mode {mode}. Defaulting to L2 distance\") \n",
    "\n",
    "            index = faiss.IndexFlatL2(dim)\n",
    "        index.add_with_ids(search_vectors,ids)\n",
    "\n",
    "        n=len(search_vectors)\n",
    "\n",
    "\n",
    "        if ncores == 1: \n",
    "            distances, _ = index.search(search_vectors, n)\n",
    "\n",
    "            all_distances.update( \n",
    "                dict(zip(obs_df.index, distances)) \n",
    "                )\n",
    "            \n",
    "            # put none if the index == -1, which means no match\n",
    "            matched_indexes = np.where(indexes != -1, search_df.index.values[indexes], None) \n",
    "            # put the index of the dataframe\n",
    "\n",
    "            all_indexes.update(\n",
    "                dict(zip(obs_df.index.values, matched_indexes))\n",
    "                )\n",
    "        \n",
    "    \n",
    "    \n",
    "\n",
    "\n",
    "\n",
    "\n"
   ]
  },
  {
   "cell_type": "code",
   "execution_count": 169,
   "metadata": {},
   "outputs": [
    {
     "name": "stderr",
     "output_type": "stream",
     "text": [
      "100%|██████████| 2137/2137 [00:03<00:00, 640.71it/s]\n"
     ]
    }
   ],
   "source": [
    "distances_df, neighbors_index_df=get_rolling_closest_neighbors_index(df, n_days=1, n=3, mode=\"cosine\", ncores=1)"
   ]
  },
  {
   "cell_type": "code",
   "execution_count": 172,
   "metadata": {},
   "outputs": [],
   "source": [
    "def get_rolling_closest_neighbors_index(df, n_days, n=4, mode=\"l2\", ncores=1,max_gap_days=False):\n",
    "    assert mode in [\"l2\", \"cosine\"] \n",
    "    dates=df.date\n",
    "\n",
    "    assert len(df) == len(dates), \"dates series have to be same length as df\" \n",
    "\n",
    "    unique_dates = list(sorted(np.unique(dates)))\n",
    "\n",
    "    \"This part normalized the embeddings, the embeddings was saved as numpy array in column embedding and it will be saved as list \" \n",
    "    \n",
    "    all_distances = dict() \n",
    "    all_indexes = dict()\n",
    "\n",
    "    for idx in tqdm.tqdm(list(range(n_days, len(unique_dates)))): \n",
    "        obs_date = unique_dates[idx]\n",
    "        if max_gap_days=False:     \n",
    "            search_dates=[obs_date - datetime.timedelta(days=i) for i in range(n_days)]\n",
    "        else: \n",
    "            search_dates = unique_dates[idx - n_days:idx] \n",
    "\n",
    "        obs_df = df.loc[df['date'] == obs_date]  # <- dateframe we want to search\n",
    "        search_df = df.loc[df['date'].isin(search_dates)]  # <- dateframe we want to query\n",
    "\n",
    "        obs_embeddings = obs_df.loc[:, 'embeddings'].values\n",
    "        obs_vectors= np.vstack(obs_embeddings).astype('float32')\n",
    "        search_embeddings = search_df.loc[:, 'embeddings'].values\n",
    "        search_vectors=np.vstack(search_embeddings).astype('float32')\n",
    "        faiss.normalize_L2(search_vectors)\n",
    "        faiss.normalize_L2(obs_vectors)\n",
    "\n",
    "    \n",
    "        if mode == \"l2\": \n",
    "            similarity_computer = faiss.IndexFlatL2(len(df['embeddings'][0])) \n",
    "        elif mode == \"cosine\": \n",
    "            similarity_computer = faiss.IndexFlatIP(len(df['embeddings'][0])) \n",
    "        else: \n",
    "            print(f\"Unknown mode {mode}. Defaulting to L2 distance\") \n",
    "\n",
    "            similarity_computer = faiss.IndexFlatL2(len(df['embeddings'][0]))\n",
    "\n",
    "        similarity_computer.add(search_vectors)\n",
    "\n",
    "\n",
    "        if ncores == 1: \n",
    "            distances, indexes = similarity_computer.search(obs_vectors, n + 1)\n",
    "            if mode =='cosine':\n",
    "                distances=np.around(np.clip(distances,0,1),decimals=4)\n",
    "\n",
    "            all_distances.update( \n",
    "                dict(zip(obs_df.index, distances)) \n",
    "                )\n",
    "            \n",
    "            # put none if the index == -1, which means no match\n",
    "            matched_indexes = np.where(indexes != -1, search_df.index.values[indexes], None) \n",
    "            # put the index of the dataframe\n",
    "\n",
    "            all_indexes.update(\n",
    "                dict(zip(obs_df.index.values, matched_indexes))\n",
    "                )\n",
    "            \n",
    "        else: \n",
    "            pool = multiprocessing.Pool(processes=ncores)\n",
    "            distances, indexes = pool.map(similarity_computer.search, \n",
    "                                          [[df.iloc[i].to_frame().T.values, n + 1] for i in idx])\n",
    "            \n",
    "            all_distances.update( \n",
    "                dict(zip(obs_df.index, distances)) \n",
    "                ) \n",
    "            matched_indexes = np.where(indexes != -1, search_df.index.values[indexes], None) \n",
    "\n",
    "            all_indexes.update(\n",
    "                dict(zip(obs_df.index.values, matched_indexes))\n",
    "                )\n",
    "\n",
    "    # Building DataFrame from dict\n",
    "    distances_df = pd.DataFrame(all_distances).T\n",
    "\n",
    "    neighbors_index_df = pd.DataFrame(all_indexes).T\n",
    "    \n",
    "    return distances_df, neighbors_index_df"
   ]
  },
  {
   "cell_type": "code",
   "execution_count": 178,
   "metadata": {},
   "outputs": [
    {
     "data": {
      "text/plain": [
       "4"
      ]
     },
     "execution_count": 178,
     "metadata": {},
     "output_type": "execute_result"
    }
   ],
   "source": [
    "len(distances_df.columns)"
   ]
  },
  {
   "cell_type": "code",
   "execution_count": 196,
   "metadata": {},
   "outputs": [],
   "source": [
    "def get_neighbours_dataframe(distances_df, neighbors_index_df, df):\n",
    "    # drop column 0 from distances_df\n",
    "    distances_df = distances_df.iloc[:, 1:].rename(columns=lambda x: f\"distance_{x}\")\n",
    "    neighbors_index_df = neighbors_index_df.iloc[:, 1:]\n",
    "    # create a new dataframe with the same index as neighbors_index_df\n",
    "    new_df = pd.DataFrame(index=neighbors_index_df.index)\n",
    "    # iterate over each column of neighbors_index_df\n",
    "    for col in neighbors_index_df.columns:\n",
    "        # create new column names\n",
    "        col_headline = 'headline_' + str(col)\n",
    "        col_last_update = 'last_update_' + str(col)\n",
    "        col_suid = 'suid_' + str(col)\n",
    "        \n",
    "        # get the column values from neighbors_index_df\n",
    "        col_values = neighbors_index_df[col]\n",
    "        \n",
    "        # generate the new column values using a list comprehension\n",
    "        headline_values = [df.loc[val]['headline'] if not pd.isna(val) else None for val in col_values]\n",
    "        last_update_values = [df.loc[val]['last_update'] if not pd.isna(val) else None for val in col_values]\n",
    "        suid_values = [df.loc[val]['suid'] if not pd.isna(val) else None for val in col_values]\n",
    "        \n",
    "        # add the new columns to the new dataframe\n",
    "        new_df = new_df.assign(**{col_headline: headline_values, col_last_update: last_update_values, col_suid: suid_values})\n",
    "    \n",
    "    # concatenate the distances_df with the new_df\n",
    "    merged_df = pd.concat([df, pd.concat([distances_df, new_df], axis=1)], axis=1)\n",
    "    return merged_df\n",
    "\n",
    "    "
   ]
  },
  {
   "cell_type": "code",
   "execution_count": 197,
   "metadata": {},
   "outputs": [],
   "source": [
    "df_merge=get_neighbours_dataframe(distances_df, neighbors_index_df, df)"
   ]
  },
  {
   "cell_type": "code",
   "execution_count": 202,
   "metadata": {},
   "outputs": [],
   "source": [
    "with open('/mnt/research-live/user/yzhong/MCD_UN_compare.txt', 'w') as f:\n",
    "    for row in df_merge.itertuples():\n",
    "        f.write(str(row.date) + '\\n')\n",
    "        f.write(str(row.analyst) + '\\n')\n",
    "        f.write(f'headline  {row.headline}' + '\\n')\n",
    "        f.write(f'distance_1 {round(row.distance_1, 2)}  {row.headline_1}' + '\\n')\n",
    "        f.write(f'distance_2 {round(row.distance_2, 2)}  {row.headline_2}' + '\\n')\n",
    "        f.write(f'distance_3 {round(row.distance_3, 2)}   {row.headline_3}' + '\\n')"
   ]
  },
  {
   "cell_type": "code",
   "execution_count": 198,
   "metadata": {},
   "outputs": [
    {
     "data": {
      "text/html": [
       "<div>\n",
       "<style scoped>\n",
       "    .dataframe tbody tr th:only-of-type {\n",
       "        vertical-align: middle;\n",
       "    }\n",
       "\n",
       "    .dataframe tbody tr th {\n",
       "        vertical-align: top;\n",
       "    }\n",
       "\n",
       "    .dataframe thead th {\n",
       "        text-align: right;\n",
       "    }\n",
       "</style>\n",
       "<table border=\"1\" class=\"dataframe\">\n",
       "  <thead>\n",
       "    <tr style=\"text-align: right;\">\n",
       "      <th></th>\n",
       "      <th>suid</th>\n",
       "      <th>last_update</th>\n",
       "      <th>eqt_code</th>\n",
       "      <th>analyst</th>\n",
       "      <th>date</th>\n",
       "      <th>daclose</th>\n",
       "      <th>headline</th>\n",
       "      <th>body</th>\n",
       "      <th>embeddings</th>\n",
       "      <th>distance_1</th>\n",
       "      <th>...</th>\n",
       "      <th>distance_3</th>\n",
       "      <th>headline_1</th>\n",
       "      <th>last_update_1</th>\n",
       "      <th>suid_1</th>\n",
       "      <th>headline_2</th>\n",
       "      <th>last_update_2</th>\n",
       "      <th>suid_2</th>\n",
       "      <th>headline_3</th>\n",
       "      <th>last_update_3</th>\n",
       "      <th>suid_3</th>\n",
       "    </tr>\n",
       "  </thead>\n",
       "  <tbody>\n",
       "    <tr>\n",
       "      <th>0</th>\n",
       "      <td>K9YYKH0D9L3G</td>\n",
       "      <td>2008-11-07 15:19:29.980</td>\n",
       "      <td>MCD_UN</td>\n",
       "      <td>True</td>\n",
       "      <td>2008-11-07</td>\n",
       "      <td>2008-11-07</td>\n",
       "      <td>MCDONALD'S MAY REPORT U.S. SALES GAIN OF 4% IN...</td>\n",
       "      <td></td>\n",
       "      <td>[0.0024996071588248014, -0.1004284918308258, -...</td>\n",
       "      <td>NaN</td>\n",
       "      <td>...</td>\n",
       "      <td>NaN</td>\n",
       "      <td>NaN</td>\n",
       "      <td>NaT</td>\n",
       "      <td>NaN</td>\n",
       "      <td>NaN</td>\n",
       "      <td>NaT</td>\n",
       "      <td>NaN</td>\n",
       "      <td>NaN</td>\n",
       "      <td>NaT</td>\n",
       "      <td>NaN</td>\n",
       "    </tr>\n",
       "    <tr>\n",
       "      <th>1</th>\n",
       "      <td>KA4C0V0D9L36</td>\n",
       "      <td>2008-11-10 12:58:07.500</td>\n",
       "      <td>MCD_UN</td>\n",
       "      <td>False</td>\n",
       "      <td>2008-11-10</td>\n",
       "      <td>2008-11-10</td>\n",
       "      <td>MCDONALD'S CONTINUES TO DELIVER - GLOBAL COMP ...</td>\n",
       "      <td>PR Newswire: U.S. press release is accessible ...</td>\n",
       "      <td>[-0.004011599346995354, -0.09672773629426956, ...</td>\n",
       "      <td>0.8013</td>\n",
       "      <td>...</td>\n",
       "      <td>0.7666</td>\n",
       "      <td>MCDONALD'S OCT EUROPE COMP SALES UP 9.8%.</td>\n",
       "      <td>2008-11-10 12:58:29.740</td>\n",
       "      <td>KA4C1H0D9L34</td>\n",
       "      <td>MCDONALD'S OCT. ASIA/PACIFIC COMP SALES UP 11.5%.</td>\n",
       "      <td>2008-11-10 12:58:35.480</td>\n",
       "      <td>KA4C1N0D9L34</td>\n",
       "      <td>MCDONALD'S OCT U.S. COMP SALES UP 5.3%.</td>\n",
       "      <td>2008-11-10 12:58:22.030</td>\n",
       "      <td>KA4C1A0D9L34</td>\n",
       "    </tr>\n",
       "    <tr>\n",
       "      <th>2</th>\n",
       "      <td>KA4C110D9L35</td>\n",
       "      <td>2008-11-10 12:58:13.370</td>\n",
       "      <td>MCD_UN</td>\n",
       "      <td>False</td>\n",
       "      <td>2008-11-10</td>\n",
       "      <td>2008-11-10</td>\n",
       "      <td>MCDONALD'S OCT SAME-STORE SALES UP 8.2%.</td>\n",
       "      <td>PR Newswire: U.S. press release is accessible ...</td>\n",
       "      <td>[0.0035450521390885115, -0.10203630477190018, ...</td>\n",
       "      <td>0.8445</td>\n",
       "      <td>...</td>\n",
       "      <td>0.7946</td>\n",
       "      <td>MCDONALD'S OCT U.S. COMP SALES UP 5.3%.</td>\n",
       "      <td>2008-11-10 12:58:22.030</td>\n",
       "      <td>KA4C1A0D9L34</td>\n",
       "      <td>MCDONALD'S OCT EUROPE COMP SALES UP 9.8%.</td>\n",
       "      <td>2008-11-10 12:58:29.740</td>\n",
       "      <td>KA4C1H0D9L34</td>\n",
       "      <td>McDonald's October Sales Rise 8.2 Percent on D...</td>\n",
       "      <td>2008-11-10 13:01:54.200</td>\n",
       "      <td>KA4C760UQVIQ</td>\n",
       "    </tr>\n",
       "    <tr>\n",
       "      <th>3</th>\n",
       "      <td>KA4C1A0D9L34</td>\n",
       "      <td>2008-11-10 12:58:22.030</td>\n",
       "      <td>MCD_UN</td>\n",
       "      <td>False</td>\n",
       "      <td>2008-11-10</td>\n",
       "      <td>2008-11-10</td>\n",
       "      <td>MCDONALD'S OCT U.S. COMP SALES UP 5.3%.</td>\n",
       "      <td>PR Newswire: U.S. press release is accessible ...</td>\n",
       "      <td>[0.013068266212940216, -0.12741690874099731, 0...</td>\n",
       "      <td>0.8868</td>\n",
       "      <td>...</td>\n",
       "      <td>0.8445</td>\n",
       "      <td>MCDONALD'S OCT EUROPE COMP SALES UP 9.8%.</td>\n",
       "      <td>2008-11-10 12:58:29.740</td>\n",
       "      <td>KA4C1H0D9L34</td>\n",
       "      <td>MCDONALD'S OCT. ASIA/PACIFIC COMP SALES UP 11.5%.</td>\n",
       "      <td>2008-11-10 12:58:35.480</td>\n",
       "      <td>KA4C1N0D9L34</td>\n",
       "      <td>MCDONALD'S OCT SAME-STORE SALES UP 8.2%.</td>\n",
       "      <td>2008-11-10 12:58:13.370</td>\n",
       "      <td>KA4C110D9L35</td>\n",
       "    </tr>\n",
       "    <tr>\n",
       "      <th>4</th>\n",
       "      <td>KA4C1H0D9L34</td>\n",
       "      <td>2008-11-10 12:58:29.740</td>\n",
       "      <td>MCD_UN</td>\n",
       "      <td>False</td>\n",
       "      <td>2008-11-10</td>\n",
       "      <td>2008-11-10</td>\n",
       "      <td>MCDONALD'S OCT EUROPE COMP SALES UP 9.8%.</td>\n",
       "      <td>PR Newswire: U.S. press release is accessible ...</td>\n",
       "      <td>[0.025935335084795952, -0.0862438902258873, 0....</td>\n",
       "      <td>0.8868</td>\n",
       "      <td>...</td>\n",
       "      <td>0.8097</td>\n",
       "      <td>MCDONALD'S OCT U.S. COMP SALES UP 5.3%.</td>\n",
       "      <td>2008-11-10 12:58:22.030</td>\n",
       "      <td>KA4C1A0D9L34</td>\n",
       "      <td>MCDONALD'S OCT. ASIA/PACIFIC COMP SALES UP 11.5%.</td>\n",
       "      <td>2008-11-10 12:58:35.480</td>\n",
       "      <td>KA4C1N0D9L34</td>\n",
       "      <td>MCDONALD'S OCT SAME-STORE SALES UP 8.2%.</td>\n",
       "      <td>2008-11-10 12:58:13.370</td>\n",
       "      <td>KA4C110D9L35</td>\n",
       "    </tr>\n",
       "    <tr>\n",
       "      <th>...</th>\n",
       "      <td>...</td>\n",
       "      <td>...</td>\n",
       "      <td>...</td>\n",
       "      <td>...</td>\n",
       "      <td>...</td>\n",
       "      <td>...</td>\n",
       "      <td>...</td>\n",
       "      <td>...</td>\n",
       "      <td>...</td>\n",
       "      <td>...</td>\n",
       "      <td>...</td>\n",
       "      <td>...</td>\n",
       "      <td>...</td>\n",
       "      <td>...</td>\n",
       "      <td>...</td>\n",
       "      <td>...</td>\n",
       "      <td>...</td>\n",
       "      <td>...</td>\n",
       "      <td>...</td>\n",
       "      <td>...</td>\n",
       "      <td>...</td>\n",
       "    </tr>\n",
       "    <tr>\n",
       "      <th>6820</th>\n",
       "      <td>RTO9HEDWX2PV</td>\n",
       "      <td>2023-04-25 13:00:50.499</td>\n",
       "      <td>MCD_UN</td>\n",
       "      <td>False</td>\n",
       "      <td>2023-04-25</td>\n",
       "      <td>2023-04-25</td>\n",
       "      <td>MCDONALD'S: MORE RESISTANCE TO HIGHER PRICES I...</td>\n",
       "      <td></td>\n",
       "      <td>[0.038969628512859344, -0.04762502387166023, 0...</td>\n",
       "      <td>0.6342</td>\n",
       "      <td>...</td>\n",
       "      <td>0.6140</td>\n",
       "      <td>MCDONALD'S: STAFFING SITUATION IMPROVING AROUN...</td>\n",
       "      <td>2023-04-25 12:57:32.040</td>\n",
       "      <td>RTO9BWDWX2PS</td>\n",
       "      <td>McDonald’s Tops Sales Estimates as Diners Shru...</td>\n",
       "      <td>2023-04-25 11:03:51.943</td>\n",
       "      <td>RTN09VDWX2PW</td>\n",
       "      <td>MCDONALD'S MARKET SHARE IMPROVING ACROSS ALL I...</td>\n",
       "      <td>2023-04-25 13:18:50.407</td>\n",
       "      <td>RTOABEDWLU69</td>\n",
       "    </tr>\n",
       "    <tr>\n",
       "      <th>6821</th>\n",
       "      <td>RTOA5ZDWLU6B</td>\n",
       "      <td>2023-04-25 13:15:35.382</td>\n",
       "      <td>MCD_UN</td>\n",
       "      <td>False</td>\n",
       "      <td>2023-04-25</td>\n",
       "      <td>2023-04-25</td>\n",
       "      <td>MCDONALD'S SAYS DELIVERY GROWTH HAS SLOWED.</td>\n",
       "      <td></td>\n",
       "      <td>[0.027442051097750664, -0.06776246428489685, 0...</td>\n",
       "      <td>0.5766</td>\n",
       "      <td>...</td>\n",
       "      <td>0.4977</td>\n",
       "      <td>MCDONALD'S: 'SLIGHT DECREASE' IN UNITS PER TRA...</td>\n",
       "      <td>2023-04-25 13:00:28.743</td>\n",
       "      <td>RTO9GSDWLU6G</td>\n",
       "      <td>MCDONALD'S: STAFFING SITUATION IMPROVING AROUN...</td>\n",
       "      <td>2023-04-25 12:57:32.040</td>\n",
       "      <td>RTO9BWDWX2PS</td>\n",
       "      <td>MCDONALD'S 1Q US COMP SALES +12.6%, EST. +7.54%.</td>\n",
       "      <td>2023-04-25 11:00:22.423</td>\n",
       "      <td>RTNZSI6RV5DU</td>\n",
       "    </tr>\n",
       "    <tr>\n",
       "      <th>6822</th>\n",
       "      <td>RTOABEDWLU69</td>\n",
       "      <td>2023-04-25 13:18:50.407</td>\n",
       "      <td>MCD_UN</td>\n",
       "      <td>False</td>\n",
       "      <td>2023-04-25</td>\n",
       "      <td>2023-04-25</td>\n",
       "      <td>MCDONALD'S MARKET SHARE IMPROVING ACROSS ALL I...</td>\n",
       "      <td></td>\n",
       "      <td>[0.01917552947998047, -0.07925669848918915, 0....</td>\n",
       "      <td>0.6140</td>\n",
       "      <td>...</td>\n",
       "      <td>0.5872</td>\n",
       "      <td>MCDONALD'S: MORE RESISTANCE TO HIGHER PRICES I...</td>\n",
       "      <td>2023-04-25 13:00:50.499</td>\n",
       "      <td>RTO9HEDWX2PV</td>\n",
       "      <td>MCDONALD'S SEES YR OPERATING MARGIN% ABOUT 45%.</td>\n",
       "      <td>2023-04-25 11:06:08.440</td>\n",
       "      <td>RTO468CAB9Q8</td>\n",
       "      <td>MCDONALD'S 1Q COMP SALES +12.6%, EST. +8.19%.</td>\n",
       "      <td>2023-04-25 11:00:22.441</td>\n",
       "      <td>RTO09FDWRGG0</td>\n",
       "    </tr>\n",
       "    <tr>\n",
       "      <th>6823</th>\n",
       "      <td>RTOBDNDWLU68</td>\n",
       "      <td>2023-04-25 13:43:47.126</td>\n",
       "      <td>MCD_UN</td>\n",
       "      <td>False</td>\n",
       "      <td>2023-04-25</td>\n",
       "      <td>2023-04-25</td>\n",
       "      <td>McDonald’s Tops Sales Estimates as Diners Shru...</td>\n",
       "      <td>McDonald’s Corp. reported first-quartersales a...</td>\n",
       "      <td>[-0.007457631640136242, -0.11181873828172684, ...</td>\n",
       "      <td>0.9500</td>\n",
       "      <td>...</td>\n",
       "      <td>0.6633</td>\n",
       "      <td>McDonald’s Tops Sales Estimates as Diners Shru...</td>\n",
       "      <td>2023-04-25 11:03:51.943</td>\n",
       "      <td>RTN09VDWX2PW</td>\n",
       "      <td>MCDONALD'S 1Q COMP SALES +12.6%, EST. +8.19%.</td>\n",
       "      <td>2023-04-25 11:00:22.369</td>\n",
       "      <td>RTNZRV6RV5E0</td>\n",
       "      <td>MCDONALD'S 1Q COMP SALES +12.6%, EST. +8.19%.</td>\n",
       "      <td>2023-04-25 11:00:22.441</td>\n",
       "      <td>RTO09FDWRGG0</td>\n",
       "    </tr>\n",
       "    <tr>\n",
       "      <th>6824</th>\n",
       "      <td>RU0Q246RV5DV</td>\n",
       "      <td>2023-05-02 06:30:04.280</td>\n",
       "      <td>MCD_UN</td>\n",
       "      <td>False</td>\n",
       "      <td>2023-05-02</td>\n",
       "      <td>2023-05-02</td>\n",
       "      <td>MCDONALD'S JAPAN APR. SAME-STORE SALES + 9.1%.</td>\n",
       "      <td>Tokyo Stock Exchange press release is accessib...</td>\n",
       "      <td>[0.00020667743228841573, -0.08428490161895752,...</td>\n",
       "      <td>0.0000</td>\n",
       "      <td>...</td>\n",
       "      <td>0.0000</td>\n",
       "      <td>None</td>\n",
       "      <td>NaT</td>\n",
       "      <td>None</td>\n",
       "      <td>None</td>\n",
       "      <td>NaT</td>\n",
       "      <td>None</td>\n",
       "      <td>None</td>\n",
       "      <td>NaT</td>\n",
       "      <td>None</td>\n",
       "    </tr>\n",
       "  </tbody>\n",
       "</table>\n",
       "<p>6825 rows × 21 columns</p>\n",
       "</div>"
      ],
      "text/plain": [
       "              suid             last_update eqt_code  analyst        date  \\\n",
       "0     K9YYKH0D9L3G 2008-11-07 15:19:29.980   MCD_UN     True  2008-11-07   \n",
       "1     KA4C0V0D9L36 2008-11-10 12:58:07.500   MCD_UN    False  2008-11-10   \n",
       "2     KA4C110D9L35 2008-11-10 12:58:13.370   MCD_UN    False  2008-11-10   \n",
       "3     KA4C1A0D9L34 2008-11-10 12:58:22.030   MCD_UN    False  2008-11-10   \n",
       "4     KA4C1H0D9L34 2008-11-10 12:58:29.740   MCD_UN    False  2008-11-10   \n",
       "...            ...                     ...      ...      ...         ...   \n",
       "6820  RTO9HEDWX2PV 2023-04-25 13:00:50.499   MCD_UN    False  2023-04-25   \n",
       "6821  RTOA5ZDWLU6B 2023-04-25 13:15:35.382   MCD_UN    False  2023-04-25   \n",
       "6822  RTOABEDWLU69 2023-04-25 13:18:50.407   MCD_UN    False  2023-04-25   \n",
       "6823  RTOBDNDWLU68 2023-04-25 13:43:47.126   MCD_UN    False  2023-04-25   \n",
       "6824  RU0Q246RV5DV 2023-05-02 06:30:04.280   MCD_UN    False  2023-05-02   \n",
       "\n",
       "         daclose                                           headline  \\\n",
       "0     2008-11-07  MCDONALD'S MAY REPORT U.S. SALES GAIN OF 4% IN...   \n",
       "1     2008-11-10  MCDONALD'S CONTINUES TO DELIVER - GLOBAL COMP ...   \n",
       "2     2008-11-10           MCDONALD'S OCT SAME-STORE SALES UP 8.2%.   \n",
       "3     2008-11-10            MCDONALD'S OCT U.S. COMP SALES UP 5.3%.   \n",
       "4     2008-11-10          MCDONALD'S OCT EUROPE COMP SALES UP 9.8%.   \n",
       "...          ...                                                ...   \n",
       "6820  2023-04-25  MCDONALD'S: MORE RESISTANCE TO HIGHER PRICES I...   \n",
       "6821  2023-04-25        MCDONALD'S SAYS DELIVERY GROWTH HAS SLOWED.   \n",
       "6822  2023-04-25  MCDONALD'S MARKET SHARE IMPROVING ACROSS ALL I...   \n",
       "6823  2023-04-25  McDonald’s Tops Sales Estimates as Diners Shru...   \n",
       "6824  2023-05-02     MCDONALD'S JAPAN APR. SAME-STORE SALES + 9.1%.   \n",
       "\n",
       "                                                   body  \\\n",
       "0                                                         \n",
       "1     PR Newswire: U.S. press release is accessible ...   \n",
       "2     PR Newswire: U.S. press release is accessible ...   \n",
       "3     PR Newswire: U.S. press release is accessible ...   \n",
       "4     PR Newswire: U.S. press release is accessible ...   \n",
       "...                                                 ...   \n",
       "6820                                                      \n",
       "6821                                                      \n",
       "6822                                                      \n",
       "6823  McDonald’s Corp. reported first-quartersales a...   \n",
       "6824  Tokyo Stock Exchange press release is accessib...   \n",
       "\n",
       "                                             embeddings  distance_1  ...  \\\n",
       "0     [0.0024996071588248014, -0.1004284918308258, -...         NaN  ...   \n",
       "1     [-0.004011599346995354, -0.09672773629426956, ...      0.8013  ...   \n",
       "2     [0.0035450521390885115, -0.10203630477190018, ...      0.8445  ...   \n",
       "3     [0.013068266212940216, -0.12741690874099731, 0...      0.8868  ...   \n",
       "4     [0.025935335084795952, -0.0862438902258873, 0....      0.8868  ...   \n",
       "...                                                 ...         ...  ...   \n",
       "6820  [0.038969628512859344, -0.04762502387166023, 0...      0.6342  ...   \n",
       "6821  [0.027442051097750664, -0.06776246428489685, 0...      0.5766  ...   \n",
       "6822  [0.01917552947998047, -0.07925669848918915, 0....      0.6140  ...   \n",
       "6823  [-0.007457631640136242, -0.11181873828172684, ...      0.9500  ...   \n",
       "6824  [0.00020667743228841573, -0.08428490161895752,...      0.0000  ...   \n",
       "\n",
       "      distance_3                                         headline_1  \\\n",
       "0            NaN                                                NaN   \n",
       "1         0.7666          MCDONALD'S OCT EUROPE COMP SALES UP 9.8%.   \n",
       "2         0.7946            MCDONALD'S OCT U.S. COMP SALES UP 5.3%.   \n",
       "3         0.8445          MCDONALD'S OCT EUROPE COMP SALES UP 9.8%.   \n",
       "4         0.8097            MCDONALD'S OCT U.S. COMP SALES UP 5.3%.   \n",
       "...          ...                                                ...   \n",
       "6820      0.6140  MCDONALD'S: STAFFING SITUATION IMPROVING AROUN...   \n",
       "6821      0.4977  MCDONALD'S: 'SLIGHT DECREASE' IN UNITS PER TRA...   \n",
       "6822      0.5872  MCDONALD'S: MORE RESISTANCE TO HIGHER PRICES I...   \n",
       "6823      0.6633  McDonald’s Tops Sales Estimates as Diners Shru...   \n",
       "6824      0.0000                                               None   \n",
       "\n",
       "               last_update_1        suid_1  \\\n",
       "0                        NaT           NaN   \n",
       "1    2008-11-10 12:58:29.740  KA4C1H0D9L34   \n",
       "2    2008-11-10 12:58:22.030  KA4C1A0D9L34   \n",
       "3    2008-11-10 12:58:29.740  KA4C1H0D9L34   \n",
       "4    2008-11-10 12:58:22.030  KA4C1A0D9L34   \n",
       "...                      ...           ...   \n",
       "6820 2023-04-25 12:57:32.040  RTO9BWDWX2PS   \n",
       "6821 2023-04-25 13:00:28.743  RTO9GSDWLU6G   \n",
       "6822 2023-04-25 13:00:50.499  RTO9HEDWX2PV   \n",
       "6823 2023-04-25 11:03:51.943  RTN09VDWX2PW   \n",
       "6824                     NaT          None   \n",
       "\n",
       "                                             headline_2  \\\n",
       "0                                                   NaN   \n",
       "1     MCDONALD'S OCT. ASIA/PACIFIC COMP SALES UP 11.5%.   \n",
       "2             MCDONALD'S OCT EUROPE COMP SALES UP 9.8%.   \n",
       "3     MCDONALD'S OCT. ASIA/PACIFIC COMP SALES UP 11.5%.   \n",
       "4     MCDONALD'S OCT. ASIA/PACIFIC COMP SALES UP 11.5%.   \n",
       "...                                                 ...   \n",
       "6820  McDonald’s Tops Sales Estimates as Diners Shru...   \n",
       "6821  MCDONALD'S: STAFFING SITUATION IMPROVING AROUN...   \n",
       "6822    MCDONALD'S SEES YR OPERATING MARGIN% ABOUT 45%.   \n",
       "6823      MCDONALD'S 1Q COMP SALES +12.6%, EST. +8.19%.   \n",
       "6824                                               None   \n",
       "\n",
       "               last_update_2        suid_2  \\\n",
       "0                        NaT           NaN   \n",
       "1    2008-11-10 12:58:35.480  KA4C1N0D9L34   \n",
       "2    2008-11-10 12:58:29.740  KA4C1H0D9L34   \n",
       "3    2008-11-10 12:58:35.480  KA4C1N0D9L34   \n",
       "4    2008-11-10 12:58:35.480  KA4C1N0D9L34   \n",
       "...                      ...           ...   \n",
       "6820 2023-04-25 11:03:51.943  RTN09VDWX2PW   \n",
       "6821 2023-04-25 12:57:32.040  RTO9BWDWX2PS   \n",
       "6822 2023-04-25 11:06:08.440  RTO468CAB9Q8   \n",
       "6823 2023-04-25 11:00:22.369  RTNZRV6RV5E0   \n",
       "6824                     NaT          None   \n",
       "\n",
       "                                             headline_3  \\\n",
       "0                                                   NaN   \n",
       "1               MCDONALD'S OCT U.S. COMP SALES UP 5.3%.   \n",
       "2     McDonald's October Sales Rise 8.2 Percent on D...   \n",
       "3              MCDONALD'S OCT SAME-STORE SALES UP 8.2%.   \n",
       "4              MCDONALD'S OCT SAME-STORE SALES UP 8.2%.   \n",
       "...                                                 ...   \n",
       "6820  MCDONALD'S MARKET SHARE IMPROVING ACROSS ALL I...   \n",
       "6821   MCDONALD'S 1Q US COMP SALES +12.6%, EST. +7.54%.   \n",
       "6822      MCDONALD'S 1Q COMP SALES +12.6%, EST. +8.19%.   \n",
       "6823      MCDONALD'S 1Q COMP SALES +12.6%, EST. +8.19%.   \n",
       "6824                                               None   \n",
       "\n",
       "               last_update_3        suid_3  \n",
       "0                        NaT           NaN  \n",
       "1    2008-11-10 12:58:22.030  KA4C1A0D9L34  \n",
       "2    2008-11-10 13:01:54.200  KA4C760UQVIQ  \n",
       "3    2008-11-10 12:58:13.370  KA4C110D9L35  \n",
       "4    2008-11-10 12:58:13.370  KA4C110D9L35  \n",
       "...                      ...           ...  \n",
       "6820 2023-04-25 13:18:50.407  RTOABEDWLU69  \n",
       "6821 2023-04-25 11:00:22.423  RTNZSI6RV5DU  \n",
       "6822 2023-04-25 11:00:22.441  RTO09FDWRGG0  \n",
       "6823 2023-04-25 11:00:22.441  RTO09FDWRGG0  \n",
       "6824                     NaT          None  \n",
       "\n",
       "[6825 rows x 21 columns]"
      ]
     },
     "execution_count": 198,
     "metadata": {},
     "output_type": "execute_result"
    }
   ],
   "source": [
    "df_merge"
   ]
  },
  {
   "cell_type": "code",
   "execution_count": 195,
   "metadata": {},
   "outputs": [
    {
     "name": "stderr",
     "output_type": "stream",
     "text": [
      "100%|██████████| 2135/2135 [00:03<00:00, 556.30it/s]\n"
     ]
    }
   ],
   "source": [
    "distances_df, neighbors_index_df=get_rolling_closest_neighbors_index(df_m, dates, n_days=3, n=4, mode=\"l2\", norm=False, ncores=1)"
   ]
  },
  {
   "cell_type": "code",
   "execution_count": 6,
   "metadata": {},
   "outputs": [
    {
     "data": {
      "text/plain": [
       "24394"
      ]
     },
     "execution_count": 6,
     "metadata": {},
     "output_type": "execute_result"
    }
   ],
   "source": [
    "len(df[df.eqt_code=='AAPL_UQ'])"
   ]
  },
  {
   "cell_type": "code",
   "execution_count": null,
   "metadata": {},
   "outputs": [],
   "source": []
  }
 ],
 "metadata": {
  "kernelspec": {
   "display_name": "yihan_gpu",
   "language": "python",
   "name": "python3"
  },
  "language_info": {
   "codemirror_mode": {
    "name": "ipython",
    "version": 3
   },
   "file_extension": ".py",
   "mimetype": "text/x-python",
   "name": "python",
   "nbconvert_exporter": "python",
   "pygments_lexer": "ipython3",
   "version": "3.8.11"
  },
  "orig_nbformat": 4
 },
 "nbformat": 4,
 "nbformat_minor": 2
}
