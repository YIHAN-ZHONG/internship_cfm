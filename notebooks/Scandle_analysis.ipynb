{
 "cells": [
  {
   "cell_type": "markdown",
   "metadata": {},
   "source": [
    "---\n",
    "title: Scandal analysis on Chipotle\n",
    "space: INTFEL\n",
    "parent: Yihan ZHONG\n",
    "comment: Identify potential patterns or trends that can contribute to a better understanding of a scandal\n",
    "---"
   ]
  },
  {
   "cell_type": "markdown",
   "metadata": {},
   "source": [
    "## 0. Packages and functions"
   ]
  },
  {
   "cell_type": "code",
   "execution_count": 1,
   "metadata": {},
   "outputs": [
    {
     "name": "stderr",
     "output_type": "stream",
     "text": [
      "/home/yzhong/conda/envs/yihan_gpu/lib/python3.8/site-packages/scipy/__init__.py:146: UserWarning: A NumPy version >=1.16.5 and <1.23.0 is required for this version of SciPy (detected version 1.24.3\n",
      "  warnings.warn(f\"A NumPy version >={np_minversion} and <{np_maxversion}\"\n"
     ]
    }
   ],
   "source": [
    "import pandas as pd\n",
    "# en python:\n",
    "import os\n",
    "os.environ[\"https_proxy\"] = \"http://proxy.fr.cfm.fr:6060\"\n",
    "import numpy as np\n",
    "import torch\n",
    "import torch.nn as nn\n",
    "from sentence_transformers import SentenceTransformer, util\n",
    "from transformers import AutoTokenizer, AutoModelForSequenceClassification #, Trainer, TrainingArguments, DataCollatorWithPadding, default_data_collator\n",
    "from datasets import Dataset\n",
    "from torch.utils.data import DataLoader\n",
    "import pandas as pd \n",
    "import numpy as np \n",
    "import faiss \n",
    "import tqdm \n",
    "import multiprocessing \n",
    "import dill as pickle\n",
    "import datetime\n",
    "import copy\n",
    "import re\n",
    "import torch.nn.functional as F\n",
    "import matplotlib.pyplot as plt\n",
    "from scipy.signal import find_peaks"
   ]
  },
  {
   "cell_type": "markdown",
   "metadata": {},
   "source": [
    "Transformer configuration"
   ]
  },
  {
   "cell_type": "code",
   "execution_count": 3,
   "metadata": {},
   "outputs": [
    {
     "name": "stdout",
     "output_type": "stream",
     "text": [
      "{'TRANSLATION_MODEL': 'Helsinki-NLP/opus-mt-zh-en', 'SENTENCE_TRANSFORMER': 'all-MiniLM-L6-v2', 'TRANSLATION_MODEL_ADVANCE': 'alirezamsh/small100', 'model_dir': '/opt/tmp/yzhong/models/'}\n"
     ]
    }
   ],
   "source": [
    "import json\n",
    "# read the config file into a dictionary\n",
    "with open(\"/home/yzhong/notebooks/getting_started/config_transformer.json\", \"r\") as f:\n",
    "    config_ = json.load(f)\n",
    "\n",
    "print(config_)"
   ]
  },
  {
   "cell_type": "markdown",
   "metadata": {},
   "source": [
    "Functions for calculating sentence embeddings"
   ]
  },
  {
   "cell_type": "code",
   "execution_count": 4,
   "metadata": {},
   "outputs": [],
   "source": [
    "def compute_length(batch, text='headline'):\n",
    "    return {\n",
    "        'length': [len(item) for item in batch[text]]\n",
    "    }\n",
    "def sentence_embeddings(batch, model,text='translation'):\n",
    "    with torch.no_grad():\n",
    "        embeddings = model.encode(batch[text])\n",
    "    return {'embeddings': embeddings}"
   ]
  },
  {
   "cell_type": "markdown",
   "metadata": {},
   "source": [
    "Function for finding the duplicated headlines"
   ]
  },
  {
   "cell_type": "code",
   "execution_count": 5,
   "metadata": {},
   "outputs": [],
   "source": [
    "def find_duplicates(df):\n",
    "    df_copy = df.copy()\n",
    "    df_copy['headline_lower'] = df_copy['headline'].str.lower()  # Convert headlines to lowercase\n",
    "    regex_pattern = r'correct:|\\(\\d+\\)\\.|update\\d+|\\(correct\\)'\n",
    "    duplicates = df_copy[df_copy.duplicated(subset='headline_lower', keep='first') | df_copy['headline_lower'].str.contains(regex_pattern)]\n",
    "    df_copy['duplicate'] = 0  # Initialize 'duplicates' column with 0 for all rows\n",
    "    df_copy.loc[duplicates.index, 'duplicate'] = 1  # Set 'duplicates' flag to 1 for rows in the list of duplicates\n",
    "    return df_copy\n"
   ]
  },
  {
   "cell_type": "code",
   "execution_count": 6,
   "metadata": {},
   "outputs": [],
   "source": [
    "def is_all_uppercase(headline):\n",
    "    '''\n",
    "    The function will return True if the headline contains only uppercase alphabetic characters, with no non-alphabet characters.\n",
    "    '''\n",
    "    # Remove any non-alphabet characters from the headline\n",
    "    headline_alpha = re.sub(r'[^A-Za-z]', '', headline)\n",
    "    return headline_alpha.isupper()"
   ]
  },
  {
   "cell_type": "code",
   "execution_count": 2,
   "metadata": {},
   "outputs": [],
   "source": [
    "def get_volume(df):\n",
    "    '''\n",
    "    Calculates the volume statistics for a given dataframe.\n",
    "\n",
    "    Args:\n",
    "        df : Input dataframe containing the date\n",
    "\n",
    "    Returns:\n",
    "        pd.DataFrame: Output dataframe with volume statistics on number of headlines, number of duplicates and number of news in capital\n",
    "\n",
    "    '''\n",
    "\n",
    "    # Convert the 'date' column to datetime format\n",
    "    df = df.assign(date=pd.to_datetime(df['date']))\n",
    "\n",
    "    # Extract the 'day' component from the 'date' column as a string in the format '%Y-%m-%d'\n",
    "    df = df.assign(day=df['date'].dt.strftime('%Y-%m-%d'))\n",
    "\n",
    "    # Group the dataframe by 'date' and calculate various aggregates\n",
    "    df_volume = df.groupby('date').agg(\n",
    "        Count=('date', 'size'),          # Number of occurrences for each date\n",
    "        duplicate=('duplicate', 'sum'),  # Sum of the 'duplicate' column for each date\n",
    "        capital=('capital', 'sum')       # Sum of the 'capital' column for each date\n",
    "    ).reset_index().set_index('date')\n",
    "\n",
    "    return df_volume\n"
   ]
  },
  {
   "cell_type": "code",
   "execution_count": 3,
   "metadata": {},
   "outputs": [],
   "source": [
    "def average_embedding(df):\n",
    "    '''\n",
    "    Calculates the average embedding for each date in the given dataframe for all the headline.\n",
    "\n",
    "    '''\n",
    "\n",
    "    # Filter the dataframe to include only rows where 'duplicate' column is 0\n",
    "    filtered_df = df.loc[df['duplicate'] == 0]\n",
    "\n",
    "    # Group the filtered dataframe by 'date' and calculate the mean of 'embeddings' for each date\n",
    "    df_average_embedding = filtered_df.groupby('date')['embeddings'].apply(lambda x: np.mean(x, axis=0))\n",
    "\n",
    "    # Reset the index and rename the column to 'embedding_average'\n",
    "    df_average_embedding = df_average_embedding.reset_index().rename(columns={'embeddings': 'embedding_average'})\n",
    "\n",
    "    return df_average_embedding\n"
   ]
  },
  {
   "cell_type": "code",
   "execution_count": 4,
   "metadata": {},
   "outputs": [],
   "source": [
    "def cosinus_similarity (emb1, emb2):\n",
    "    '''\n",
    "    Calculate the cosine similarity for two embeddings\n",
    "    \n",
    "    '''\n",
    "    emb1=torch.tensor(emb1).unsqueeze(0)\n",
    "    emb2=torch.tensor(emb2).unsqueeze(0)\n",
    "# cosine similarity = normalize the vectors & multiply\n",
    "    C = F.normalize(emb1) @ F.normalize(emb2).t()\n",
    "    return round(C.item(), 2)"
   ]
  },
  {
   "cell_type": "code",
   "execution_count": 5,
   "metadata": {},
   "outputs": [],
   "source": [
    "def aggregate_date_volume(df, year):\n",
    "    '''\n",
    "    Aggregates the news volume and duplicated news for a specific year in the given dataframe.\n",
    "\n",
    "    '''\n",
    "\n",
    "    # Filter the dataframe to include only rows where the year matches the specified year\n",
    "    filtered_df = df[df['date'].dt.year == year]\n",
    "\n",
    "    # Aggregate the news volume and duplicated news\n",
    "    df_volume_year = filtered_df.assign(date=pd.to_datetime(filtered_df['date']),\n",
    "                                    day=filtered_df['date'].dt.strftime('%Y-%m-%d')) \\\n",
    "                            .groupby('date').agg(Count=('date', 'size'), duplicate=('duplicate', 'sum')) \\\n",
    "                            .reset_index().set_index('date')\n",
    "\n",
    "    return df_volume_year\n"
   ]
  },
  {
   "cell_type": "code",
   "execution_count": 11,
   "metadata": {},
   "outputs": [],
   "source": [
    "def find_peak(df,col,year,distance=10):\n",
    "    '''\n",
    "    Finds the peak indices in a specified column of a dataframe for a given year.\n",
    "\n",
    "    Args:\n",
    "        df : Input dataframe with the index set as datetime type.\n",
    "        col (str): Name of the column to analyze for peak detection.\n",
    "        year (int): Year to focus the analysis on.\n",
    "        distance (int): Minimum number of indices between peaks.\n",
    "\n",
    "    Returns:\n",
    "        np.ndarray: Array containing the indices of the identified peaks.\n",
    "\n",
    "    '''\n",
    "    \n",
    "    'input dataframe should be set index as datetime type'\n",
    "\n",
    "    data = df[col].to_numpy()\n",
    "\n",
    "    # Use scipy's find_peaks to detect peak indices\n",
    "    peak_indices, _ = find_peaks(data, distance=5)\n",
    "    # Plot the time series with identified peaks\n",
    "    plt.plot(df.index, data, label=col)\n",
    "    plt.scatter(df.index[peak_indices], data[peak_indices], color='red', label='Peaks')\n",
    "    plt.xlabel('Date')\n",
    "    plt.ylabel(col)\n",
    "    plt.title(f'Peak Detection for {col} in {year}')\n",
    "    plt.legend()\n",
    "    plt.show()\n",
    "    return peak_indices"
   ]
  },
  {
   "cell_type": "code",
   "execution_count": 12,
   "metadata": {},
   "outputs": [],
   "source": [
    "def timeseries_boolean(df_volume,df_embedding,index_volume, index_cosine):\n",
    "    '''\n",
    "    Creates a boolean time series plot for volume peaks and cosine similarity peaks.\n",
    "\n",
    "    Args:\n",
    "        df_volume (pd.DataFrame): DataFrame containing volume information.\n",
    "        df_embedding (pd.DataFrame): DataFrame containing embedding information (not used in the code snippet).\n",
    "        index_volume (list): List of indices representing volume peaks.\n",
    "        index_cosine (list): List of indices representing cosine similarity peaks.\n",
    "\n",
    "    Returns:\n",
    "        None\n",
    "\n",
    "    '''\n",
    "    volume_peak_series = pd.Series(False, index=df_volume.index)\n",
    "    volume_peak_series.loc[index_volume] = True\n",
    "    cosine_peak_series = pd.Series(False, index=df_volume.index)\n",
    "    cosine_peak_series.loc[index_cosine] = True\n",
    "\n",
    "    # Plot the boolean time series for volume peaks\n",
    "    plt.figure(figsize=(10, 5))\n",
    "    plt.plot(df_volume.index, volume_peak_series, label='Volume Peaks', color='blue')\n",
    "\n",
    "    # Plot the boolean time series for cosine similarity peaks\n",
    "    plt.plot(df_volume.index, cosine_peak_series, label='Cosine Similarity Peaks', color='red')\n",
    "\n",
    "    # Customize the plot\n",
    "    plt.xlabel('Date')\n",
    "    plt.ylabel('Peak Indicator')\n",
    "    plt.title('Boolean Time Series Plot for Volume and Cosine Similarity Peaks')\n",
    "    plt.legend()\n",
    "\n",
    "    # Display the plot\n",
    "    plt.show()"
   ]
  },
  {
   "cell_type": "code",
   "execution_count": 13,
   "metadata": {},
   "outputs": [],
   "source": [
    "def analyse_year_peak (df,df_e,year):\n",
    "    df_year_volume=aggregate_date_volume(df,year)\n",
    "    df_year_volume.plot()\n",
    "    volume_peak_indices=find_peak(df_year_volume,'Count',year,distance=1)\n",
    "    volume_peak_date=df_year_volume.index[volume_peak_indices]\n",
    "   \n",
    "    df_e_year=df_e[df_e.index.year == year]\n",
    "\n",
    "    cosine_peak_indice=find_peak(df_e_year,'cosine_similarity',year,distance=1)\n",
    "    cosine_peak_date=df_e_year.index[cosine_peak_indice]\n",
    "\n",
    "    timeseries_boolean(df_year_volume,df_e_year,volume_peak_date, cosine_peak_date)\n",
    "  \n",
    "    return volume_peak_date,cosine_peak_date"
   ]
  },
  {
   "cell_type": "code",
   "execution_count": 14,
   "metadata": {},
   "outputs": [],
   "source": [
    "def plot_peak_volume(df_rolling_volume, df2):\n",
    "    '''\n",
    "    Plots the normalized news volume over earning days.\n",
    "\n",
    "    Args:\n",
    "        df_rolling_volume (pd.DataFrame): DataFrame containing rolling volume information.\n",
    "        df2 (pd.DataFrame): DataFrame containing additional information.\n",
    "\n",
    "    Returns:\n",
    "        None\n",
    "\n",
    "    '''\n",
    "\n",
    "    c = 'special_day'\n",
    "\n",
    "    # Calculate the median of news volume multiplied by the shifted 'special_day' values for different lags\n",
    "    data = pd.Series({i: df_rolling_volume['Count'].mul(df2[c].shift(i)).median() for i in range(-5, 5)})\n",
    "\n",
    "    # Plot the normalized news volume over earning days\n",
    "    data.plot(label='Total News Volumes')\n",
    "\n",
    "    # Calculate the median of duplicated news volume multiplied by the shifted 'special_day' values for different lags\n",
    "    data2 = pd.Series({i: df_rolling_volume['duplicate'].mul(df2[c].shift(i)).median() for i in range(-5, 5)})\n",
    "\n",
    "    # Plot the normalized duplicated news volume over earning days\n",
    "    data2.plot(label='Duplicated News Volumes')\n",
    "\n",
    "    # Customize the plot\n",
    "    plt.title('Normalized News Volume over Earning Days')\n",
    "    plt.legend()\n",
    "    plt.show()\n",
    "\n",
    "\n",
    "def plot_peak_cosine(df_rolling_cosine, df2, col='cosine_similarity'):\n",
    "    '''\n",
    "    Plots the cosine similarity over earning days.\n",
    "\n",
    "    Args:\n",
    "        df_rolling_cosine (pd.DataFrame): DataFrame containing rolling cosine similarity information.\n",
    "        df2 (pd.DataFrame): DataFrame containing additional information.\n",
    "        col (str): Column name for cosine similarity (default: 'cosine_similarity')\n",
    "\n",
    "    Returns:\n",
    "        None\n",
    "\n",
    "    '''\n",
    "\n",
    "    c = 'special_day'\n",
    "\n",
    "    # Calculate the median of cosine similarity multiplied by the shifted 'special_day' values for different lags\n",
    "    data = pd.Series({i: df_rolling_cosine[col].mul(df2[c].shift(i)).median() for i in range(-5, 5)})\n",
    "\n",
    "    # Plot the cosine similarity over earning days\n",
    "    data.plot()\n",
    "\n",
    "    # Customize the plot\n",
    "    plt.title(f'{col} over Earning Days')\n",
    "    plt.show()\n"
   ]
  },
  {
   "cell_type": "code",
   "execution_count": 15,
   "metadata": {},
   "outputs": [],
   "source": [
    "def identify_market_on_close(headline):\n",
    "    pattern = r'^(MARKET ON CLOSE|OPENING DELAY:).*'\n",
    "    return re.match(pattern, headline) is not None"
   ]
  },
  {
   "cell_type": "markdown",
   "metadata": {},
   "source": [
    "## remove balance sheet "
   ]
  },
  {
   "cell_type": "code",
   "execution_count": 45,
   "metadata": {},
   "outputs": [],
   "source": [
    "def filter_balance_sheet(df, col='headline'):\n",
    "    \n",
    "    # Define the key words for filtering balance sheet news\n",
    "    pattern = r\"(?=.*?\\b(?:CAPEX|CAPITAL|EPS|NET|INCOME|REV|INC|LOSS|BILLINGS|ADJ|SALES|EQUITY|ENTITLEMENT|COSTS|REVENUE|ADJUSTED|PROFIT|EST|EARNINGS|INCOME|CASH|EPA)\\b)\"\n",
    "\n",
    "    # Apply filter conditions and add flag column\n",
    "    df['balance_sheet'] = (\n",
    "        df[col].apply(lambda headline: bool(re.search(pattern, headline))) # Check if headline contains the key words,(True if there is a match, False otherwise).\n",
    "        #excluded headlines that contains only 1Q, 2Q, 3Q, 4Q but no other digits number surrended by Q \n",
    "        & ~df[col].apply(lambda headline: bool(re.match(r\"^\\D*\\b\\dQ\\b\\D*$\", headline)))\n",
    "        # exclude headlines that only contains year and no other digits number surronded  year range (1999-9999)\n",
    "        & ~df[col].apply(lambda headline: bool(re.match(r\"^\\D*(?:(19|[2-9][0-9])\\d{2})\\D*$\", headline)))\n",
    "        #make sure that the sentence contains digit\n",
    "        & df[col].str.contains(r'\\d') \n",
    "    ).astype(int)\n",
    "\n",
    "    return df"
   ]
  },
  {
   "cell_type": "code",
   "execution_count": 16,
   "metadata": {},
   "outputs": [],
   "source": [
    "from pathlib import Path\n",
    "path = Path('/mnt/research-live/equity/reference/equity_data/sa_research/current/')\n",
    "news_volume_ =pd.read_parquet(path /'CFM_AMER/equity_data/eqt_bb_news_volumes.parquet')"
   ]
  },
  {
   "cell_type": "code",
   "execution_count": 24,
   "metadata": {},
   "outputs": [],
   "source": [
    "news_volume = news_volume_.rename(columns={'daclose': 'BDATE'}) \\\n",
    "                         .groupby(['BDATE', 'eqt_code'])['total_count'] \\\n",
    "                         .mean() \\\n",
    "                         .unstack()"
   ]
  },
  {
   "cell_type": "code",
   "execution_count": 25,
   "metadata": {},
   "outputs": [],
   "source": [
    "# Normalize the news_volume DataFrame by dividing each element by its corresponding rolling mean\n",
    "df = news_volume.pipe(\n",
    "    lambda x: x.div(\n",
    "        x.rolling(window=126, min_periods=42).mean()  # Calculate the rolling mean for each element\n",
    "    )\n",
    ")[['CMG_UN']]"
   ]
  },
  {
   "cell_type": "code",
   "execution_count": 37,
   "metadata": {},
   "outputs": [],
   "source": [
    "df=pd.read_parquet('/mnt/research-live/user/yzhong/Single_level_stock/Single_stock_news_2015.parquet')"
   ]
  },
  {
   "cell_type": "code",
   "execution_count": 5,
   "metadata": {},
   "outputs": [],
   "source": [
    "df['id']=df.index"
   ]
  },
  {
   "cell_type": "code",
   "execution_count": 8,
   "metadata": {},
   "outputs": [],
   "source": [
    "MODEL_ID = config_['SENTENCE_TRANSFORMER']\n",
    "model = SentenceTransformer(MODEL_ID,device='cuda',cache_folder=config_['model_dir'] )\n",
    "# Use the map method to apply the mapping function to the dataset in batches\n",
    "batch_size =256*4"
   ]
  },
  {
   "cell_type": "code",
   "execution_count": 9,
   "metadata": {},
   "outputs": [],
   "source": [
    "ds_t = Dataset.from_dict(df)\n",
    "cols_to_remove = ds_t.column_names\n",
    "cols_to_remove.remove(\"headline\")\n",
    "cols_to_remove.remove(\"id\")\n",
    "ds_t1=ds_t.remove_columns(cols_to_remove)"
   ]
  },
  {
   "cell_type": "code",
   "execution_count": 10,
   "metadata": {},
   "outputs": [
    {
     "name": "stderr",
     "output_type": "stream",
     "text": [
      "Parameter 'function'=<function <lambda> at 0x7f3c09ce7d30> of the transform datasets.arrow_dataset.Dataset._map_single couldn't be hashed properly, a random hash was used instead. Make sure your transforms and parameters are serializable with pickle or dill for the dataset fingerprinting and caching to work. If you reuse this transform, the caching mechanism will consider it to be different from the previous calls and recompute everything. This warning is only showed once. Subsequent hashing failures won't be showed.\n",
      "                                                                       \r"
     ]
    }
   ],
   "source": [
    "ds_t1 = ds_t1.map(lambda x: compute_length(x, text='headline'), batched=True).sort('length', reverse=True)\n",
    "ds_t1 = ds_t1.map(lambda x: sentence_embeddings(x ,model, text='headline'), batched=True, batch_size=batch_size).sort('id')"
   ]
  },
  {
   "cell_type": "code",
   "execution_count": 11,
   "metadata": {},
   "outputs": [],
   "source": [
    "df['embeddings']=ds_t1['embeddings']"
   ]
  },
  {
   "cell_type": "code",
   "execution_count": 18,
   "metadata": {},
   "outputs": [],
   "source": [
    "# Load embeddings from the pickle file\n",
    "with open('/mnt/research-live/user/yzhong/Single_level_stock/embeddings_2015.pkl', 'rb') as f:\n",
    "    embeddings = pickle.load(f)"
   ]
  },
  {
   "cell_type": "code",
   "execution_count": 121,
   "metadata": {},
   "outputs": [],
   "source": [
    "with open('/mnt/research-live/user/yzhong/CMG_2015.txt', 'w') as f:\n",
    "    for row in df_chipotle.itertuples():\n",
    "        f.write(str(row.last_update) + '\\n')\n",
    "        f.write(f'{str(row.headline)}' + '\\n')"
   ]
  },
  {
   "cell_type": "code",
   "execution_count": 20,
   "metadata": {},
   "outputs": [],
   "source": [
    "df.to_parquet('/mnt/research-live/user/yzhong/Single_level_stock/Single_stock_news_2015.parquet')"
   ]
  },
  {
   "cell_type": "code",
   "execution_count": 38,
   "metadata": {},
   "outputs": [],
   "source": [
    "df_chipotle=df[df['eqt_code']=='CMG_UN']"
   ]
  },
  {
   "cell_type": "code",
   "execution_count": 39,
   "metadata": {},
   "outputs": [
    {
     "data": {
      "text/plain": [
       "241"
      ]
     },
     "execution_count": 39,
     "metadata": {},
     "output_type": "execute_result"
    }
   ],
   "source": [
    "len(df_chipotle)"
   ]
  },
  {
   "cell_type": "code",
   "execution_count": 20,
   "metadata": {},
   "outputs": [],
   "source": [
    "ead_ = pd.read_parquet(path /'CFM_AMER/equity_data/eqt_earning_announcement_dates.parquet') # date for earnings"
   ]
  },
  {
   "cell_type": "code",
   "execution_count": 21,
   "metadata": {},
   "outputs": [],
   "source": [
    "# Convert the rows into columns for the eqt_code earning date\n",
    "ead = ead_.assign(one=1) \\\n",
    "          .rename(columns={'earning_date': 'BDATE'}) \\\n",
    "          .set_index(['BDATE', 'eqt_code']) \\\n",
    "          .squeeze() \\\n",
    "          .unstack()"
   ]
  },
  {
   "cell_type": "code",
   "execution_count": 26,
   "metadata": {},
   "outputs": [],
   "source": [
    "df2 =ead.reindex_like(df)"
   ]
  },
  {
   "cell_type": "code",
   "execution_count": 28,
   "metadata": {},
   "outputs": [],
   "source": [
    "earning_days=df2.dropna().index.to_list()"
   ]
  },
  {
   "cell_type": "code",
   "execution_count": 40,
   "metadata": {},
   "outputs": [],
   "source": [
    "\n",
    "# Convert earning_days to the same datetime format as the 'date' column\n",
    "earning_days = [pd.to_datetime(date).date() for date in earning_days]\n",
    "\n",
    "# Create a boolean mask to identify the rows to be dropped\n",
    "mask = df_chipotle['date'].isin(earning_days)\n",
    "\n",
    "# Filter the DataFrame and drop the rows\n",
    "df_chipotle = df_chipotle[~mask]\n"
   ]
  },
  {
   "cell_type": "code",
   "execution_count": 41,
   "metadata": {},
   "outputs": [
    {
     "data": {
      "text/plain": [
       "238"
      ]
     },
     "execution_count": 41,
     "metadata": {},
     "output_type": "execute_result"
    }
   ],
   "source": [
    "len(df_chipotle)"
   ]
  },
  {
   "cell_type": "code",
   "execution_count": 42,
   "metadata": {},
   "outputs": [],
   "source": [
    "def dataframe_preprocess (df_chipotle):\n",
    "    df_chipotle['date']=pd.to_datetime(df_chipotle['date'])\n",
    "    df_chipotle = df_chipotle[~df_chipotle['headline'].apply(identify_market_on_close)].reset_index(drop=True)\n",
    "    df_chipotle['embeddings'] = df_chipotle['embeddings'].apply(lambda x: np.array(x))\n",
    "    df_chipotle=find_duplicates(df_chipotle)\n",
    "    df_chipotle['capital'] = df_chipotle['headline'].apply(is_all_uppercase).astype(int)\n",
    "    df_chipotle=filter_balance_sheet(df_chipotle, col='headline')\n",
    "    df_chipotle=df_chipotle[df_chipotle['balance_sheet']==0]\n",
    "    return df_chipotle\n",
    "\n"
   ]
  },
  {
   "cell_type": "code",
   "execution_count": 46,
   "metadata": {},
   "outputs": [],
   "source": [
    "df_chipotle=dataframe_preprocess (df_chipotle)"
   ]
  },
  {
   "cell_type": "code",
   "execution_count": 47,
   "metadata": {},
   "outputs": [
    {
     "data": {
      "text/plain": [
       "187"
      ]
     },
     "execution_count": 47,
     "metadata": {},
     "output_type": "execute_result"
    }
   ],
   "source": [
    "len(df_chipotle)"
   ]
  },
  {
   "cell_type": "code",
   "execution_count": 48,
   "metadata": {},
   "outputs": [],
   "source": [
    "df_chipotle_small=df_chipotle[df_chipotle['capital']==0]"
   ]
  },
  {
   "cell_type": "code",
   "execution_count": 49,
   "metadata": {},
   "outputs": [],
   "source": [
    "def dataframe_analyse(df_chipotle):\n",
    "    volume_CMG=get_volume(df_chipotle)\n",
    "    df_average_embedding=average_embedding (df_chipotle)\n",
    "    df_average_embedding.set_index('date', inplace=True)\n",
    "    volume_CMG = volume_CMG.reindex(index=df_average_embedding.index).dropna()\n",
    "    resampled_df = df_average_embedding['embedding_average'].apply(pd.Series).rolling(window=7,min_periods=2).mean()\n",
    "    df_average_embedding['rolling_embedding_average'] = resampled_df.apply(lambda row: np.array(row.values.tolist()), axis=1)\n",
    "    df_average_embedding['cosine_similarity'] = df_average_embedding.apply(\n",
    "    lambda row: cosinus_similarity(row['embedding_average'], df_average_embedding.iloc[df_average_embedding.index.get_loc(row.name) - 1]['embedding_average']) if df_average_embedding.index.get_loc(row.name) > 0 else np.nan,\n",
    "    axis=1\n",
    ")\n",
    "    df_average_embedding['rolling_cosine_similarity'] = df_average_embedding.apply(\n",
    "    lambda row: cosinus_similarity(row['embedding_average'], df_average_embedding.iloc[df_average_embedding.index.get_loc(row.name) - 1]['rolling_embedding_average']) if df_average_embedding.index.get_loc(row.name) > 0 else np.nan,\n",
    "    axis=1\n",
    ")\n",
    "    columns_to_average = ['cosine_similarity', 'rolling_cosine_similarity']\n",
    "\n",
    "    df_rolling_cosine = df_average_embedding[columns_to_average].pipe(\n",
    "    lambda x: x.div(\n",
    "        x.rolling(window=10, min_periods=2).mean()  # Calculate the rolling mean for each column\n",
    "    )\n",
    ")\n",
    "    df_rolling_volume=volume_CMG.pipe(\n",
    "    lambda x: x.div(\n",
    "        x.rolling(window=30, min_periods=10).mean()  # Calculate the rolling mean for each date\n",
    "    )\n",
    ")\n",
    "    return volume_CMG, df_average_embedding,df_rolling_cosine,df_rolling_volume\n"
   ]
  },
  {
   "cell_type": "code",
   "execution_count": 64,
   "metadata": {},
   "outputs": [],
   "source": [
    "volume_CMG, df_average_embedding,df_rolling_cosine,df_rolling_volume=dataframe_analyse(df_chipotle)"
   ]
  },
  {
   "cell_type": "code",
   "execution_count": 90,
   "metadata": {},
   "outputs": [],
   "source": [
    "volume_CMG_small, df_average_embedding_small, df_rolling_cosine_small,df_rolling_volume_small=dataframe_preprocess(df_chipotle_small)"
   ]
  },
  {
   "cell_type": "code",
   "execution_count": 65,
   "metadata": {},
   "outputs": [
    {
     "data": {
      "image/png": "[encoded data removed]",
      "text/plain": [
       "<Figure size 432x288 with 1 Axes>"
      ]
     },
     "metadata": {
      "needs_background": "light"
     },
     "output_type": "display_data"
    },
    {
     "data": {
      "image/png": "[encoded data removed]",
      "text/plain": [
       "<Figure size 432x288 with 1 Axes>"
      ]
     },
     "metadata": {
      "needs_background": "light"
     },
     "output_type": "display_data"
    },
    {
     "data": {
      "image/png": "[encoded data removed]",
      "text/plain": [
       "<Figure size 720x360 with 1 Axes>"
      ]
     },
     "metadata": {
      "needs_background": "light"
     },
     "output_type": "display_data"
    }
   ],
   "source": [
    "volume_peak_date,cosine_peak_date=analyse_year_peak(df_chipotle,df_average_embedding,year=2015)"
   ]
  },
  {
   "cell_type": "code",
   "execution_count": 52,
   "metadata": {},
   "outputs": [],
   "source": [
    "def find_peaks_low(df, col, threshold=0.5, distance=5):\n",
    "    \"\"\"\n",
    "    Find indices of peaks and lows in a time series based on a threshold value.\n",
    "    \n",
    "    Args:\n",
    "        df (DataFrame): Input DataFrame with datetime index.\n",
    "        col (str): Name of the column containing the time series data.\n",
    "        threshold (float): Threshold value for identifying lows.\n",
    "        distance (int): Minimum distance between peaks or lows.\n",
    "    \n",
    "    Returns:\n",
    "        peak_indices (array): Indices of detected peaks.\n",
    "        low_indices (array): Indices of detected lows.\n",
    "    \"\"\"\n",
    "    data = df[col].to_numpy()\n",
    "    \n",
    "    # Use scipy's find_peaks to detect peak indices\n",
    "    peak_indices, _ = find_peaks(data, distance=distance)\n",
    "    \n",
    "    # Find indices where the data is lower than the threshold value\n",
    "    low_indices = np.where(data < threshold)[0]\n",
    "    \n",
    "    # Plot the time series with identified peaks and lows\n",
    "    plt.plot(df.index, data, label=col)\n",
    "    plt.scatter(df.index[peak_indices], data[peak_indices], color='red', label='Peaks')\n",
    "    plt.scatter(df.index[low_indices], data[low_indices], color='green', label='Lows')\n",
    "    plt.xlabel('Date')\n",
    "    plt.ylabel(col)\n",
    "    plt.title('Peak and Low Detection')\n",
    "    plt.legend()\n",
    "    plt.show()\n",
    "    \n",
    "    return peak_indices, low_indices"
   ]
  },
  {
   "cell_type": "code",
   "execution_count": 66,
   "metadata": {},
   "outputs": [
    {
     "data": {
      "image/png": "[encoded data removed]",
      "text/plain": [
       "<Figure size 432x288 with 1 Axes>"
      ]
     },
     "metadata": {
      "needs_background": "light"
     },
     "output_type": "display_data"
    }
   ],
   "source": [
    "cosine_peak_indices_, cosine_low_indices_=find_peaks_low(df_average_embedding, 'cosine_similarity', threshold=0.45, distance=1)"
   ]
  },
  {
   "cell_type": "code",
   "execution_count": null,
   "metadata": {},
   "outputs": [],
   "source": [
    "cosine_peak_indices_, cosine_low_indices_=find_peaks_low(df_average_embedding_small, 'cosine_similarity', threshold=0.45, distance=1)"
   ]
  },
  {
   "cell_type": "code",
   "execution_count": 68,
   "metadata": {},
   "outputs": [
    {
     "data": {
      "text/plain": [
       "DatetimeIndex(['2015-02-03', '2015-03-04', '2015-04-23', '2015-04-30',\n",
       "               '2015-06-05', '2015-07-07', '2015-07-21', '2015-09-01',\n",
       "               '2015-09-09', '2015-09-28', '2015-10-20', '2015-11-03',\n",
       "               '2015-11-06', '2015-12-07', '2015-12-09'],\n",
       "              dtype='datetime64[ns]', name='date', freq=None)"
      ]
     },
     "execution_count": 68,
     "metadata": {},
     "output_type": "execute_result"
    }
   ],
   "source": [
    "df_average_embedding.index[cosine_peak_indices_]"
   ]
  },
  {
   "cell_type": "code",
   "execution_count": 69,
   "metadata": {},
   "outputs": [
    {
     "data": {
      "text/plain": [
       "DatetimeIndex(['2015-02-19', '2015-06-01', '2015-07-02', '2015-07-09',\n",
       "               '2015-08-27', '2015-08-31', '2015-09-11', '2015-09-23',\n",
       "               '2015-10-14', '2015-10-19', '2015-11-02', '2015-11-05',\n",
       "               '2015-11-10', '2015-12-21', '2015-12-23'],\n",
       "              dtype='datetime64[ns]', name='date', freq=None)"
      ]
     },
     "execution_count": 69,
     "metadata": {},
     "output_type": "execute_result"
    }
   ],
   "source": [
    "df_average_embedding.index[cosine_low_indices_]"
   ]
  },
  {
   "cell_type": "code",
   "execution_count": 70,
   "metadata": {},
   "outputs": [
    {
     "data": {
      "text/plain": [
       "DatetimeIndex(['2015-02-03', '2015-04-27', '2015-07-21', '2015-10-12',\n",
       "               '2015-11-03', '2015-12-04', '2015-12-21'],\n",
       "              dtype='datetime64[ns]', name='date', freq=None)"
      ]
     },
     "execution_count": 70,
     "metadata": {},
     "output_type": "execute_result"
    }
   ],
   "source": [
    "volume_peak_date"
   ]
  },
  {
   "cell_type": "code",
   "execution_count": 71,
   "metadata": {},
   "outputs": [],
   "source": [
    "# Create a new dataframe with the same index as volume_CMG\n",
    "df2 = pd.DataFrame(index=volume_CMG.index)\n",
    "\n",
    "# Add the 'special_day' column to df2\n",
    "df2['special_day'] = np.nan"
   ]
  },
  {
   "cell_type": "code",
   "execution_count": 109,
   "metadata": {},
   "outputs": [],
   "source": [
    "df2 = pd.DataFrame(index=volume_CMG_small.index)\n",
    "\n",
    "# Add the 'special_day' column to df2\n",
    "df2['special_day'] = np.nan"
   ]
  },
  {
   "cell_type": "code",
   "execution_count": 72,
   "metadata": {},
   "outputs": [],
   "source": [
    "df2.loc['2015-11-02', 'special_day'] = 1"
   ]
  },
  {
   "cell_type": "code",
   "execution_count": null,
   "metadata": {},
   "outputs": [],
   "source": [
    "df_average_embedding_small.loc['2015-11-02']"
   ]
  },
  {
   "cell_type": "code",
   "execution_count": 73,
   "metadata": {},
   "outputs": [
    {
     "data": {
      "text/plain": [
       "embedding_average            [-0.05370420217514038, -0.09389886260032654, -...\n",
       "rolling_embedding_average    [-0.01597702816971357, -0.023741811646946838, ...\n",
       "cosine_similarity                                                         0.41\n",
       "rolling_cosine_similarity                                                 0.61\n",
       "Name: 2015-11-02 00:00:00, dtype: object"
      ]
     },
     "execution_count": 73,
     "metadata": {},
     "output_type": "execute_result"
    }
   ],
   "source": [
    "df_average_embedding.loc['2015-11-02']"
   ]
  },
  {
   "cell_type": "code",
   "execution_count": null,
   "metadata": {},
   "outputs": [],
   "source": [
    "columns_to_average = ['cosine_similarity', 'rolling_cosine_similarity']\n",
    "\n",
    "df_rolling_cosine = df_average_embedding[columns_to_average].pipe(\n",
    "    lambda x: x.div(\n",
    "        x.rolling(window=10, min_periods=2).mean()  # Calculate the rolling mean for each column\n",
    "    )\n",
    ")\n",
    "df_rolling_volume=volume_CMG_small.pipe(\n",
    "    lambda x: x.div(\n",
    "        x.rolling(window=30, min_periods=10).mean()  # Calculate the rolling mean for each date\n",
    "    )\n",
    ")"
   ]
  },
  {
   "cell_type": "code",
   "execution_count": 75,
   "metadata": {},
   "outputs": [
    {
     "data": {
      "image/png": "[encoded data removed]",
      "text/plain": [
       "<Figure size 432x288 with 1 Axes>"
      ]
     },
     "metadata": {
      "needs_background": "light"
     },
     "output_type": "display_data"
    }
   ],
   "source": [
    "plot_peak_volume(df_rolling_volume, df2)"
   ]
  },
  {
   "cell_type": "code",
   "execution_count": 76,
   "metadata": {},
   "outputs": [
    {
     "data": {
      "image/png": "[encoded data removed]",
      "text/plain": [
       "<Figure size 432x288 with 1 Axes>"
      ]
     },
     "metadata": {
      "needs_background": "light"
     },
     "output_type": "display_data"
    }
   ],
   "source": [
    "plot_peak_cosine(df_average_embedding,df2,col='cosine_similarity')"
   ]
  },
  {
   "cell_type": "markdown",
   "metadata": {},
   "source": [
    "Date of scandle: 07/12/2015"
   ]
  }
 ],
 "metadata": {
  "kernelspec": {
   "display_name": "[conda-yihan_gpu]",
   "language": "python",
   "name": "conda-env-conda-yihan_gpu-py"
  },
  "language_info": {
   "codemirror_mode": {
    "name": "ipython",
    "version": 3
   },
   "file_extension": ".py",
   "mimetype": "text/x-python",
   "name": "python",
   "nbconvert_exporter": "python",
   "pygments_lexer": "ipython3",
   "version": "3.8.11"
  }
 },
 "nbformat": 4,
 "nbformat_minor": 4
}
