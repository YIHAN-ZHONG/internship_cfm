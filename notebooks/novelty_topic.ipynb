{
 "cells": [
  {
   "cell_type": "code",
   "execution_count": 1,
   "metadata": {},
   "outputs": [
    {
     "name": "stderr",
     "output_type": "stream",
     "text": [
      "/home/yzhong/conda/envs/yihan_gpu/lib/python3.8/site-packages/scipy/__init__.py:146: UserWarning: A NumPy version >=1.16.5 and <1.23.0 is required for this version of SciPy (detected version 1.24.3\n",
      "  warnings.warn(f\"A NumPy version >={np_minversion} and <{np_maxversion}\"\n"
     ]
    }
   ],
   "source": [
    "import pandas as pd\n",
    "from pathlib import Path\n",
    "path = Path('/mnt/research-live/equity/reference/equity_data/sa_research/current/')\n",
    "import pandas as pd \n",
    "import numpy as np \n",
    "import faiss \n",
    "import re\n",
    "import tqdm\n",
    "import torch \n",
    "import torch.nn.functional as F\n",
    "import dill as pickle\n",
    "import datetime\n",
    "import plotly.express as px\n",
    "from laserembeddings import Laser\n",
    "from sklearn.preprocessing import Normalizer\n",
    "import matplotlib.pyplot as plt\n",
    "import plotly.graph_objects as go\n",
    "import copy\n",
    "import math\n",
    "from scipy.signal import find_peaks\n",
    "import seaborn as sns\n",
    "from pandas.tseries.offsets import BDay\n",
    "from sklearn.metrics import silhouette_score\n",
    "from sklearn import metrics\n",
    "from time import time\n",
    "from sklearn.cluster import KMeans"
   ]
  },
  {
   "cell_type": "code",
   "execution_count": 198,
   "metadata": {},
   "outputs": [],
   "source": [
    "from pathlib import Path\n",
    "path = Path('/mnt/research-live/equity/reference/equity_data/sa_research/current/')\n",
    "ead_ = pd.read_parquet(path /'CFM_AMER/equity_data/eqt_earning_announcement_dates.parquet') # date for earnings\n",
    "news_volume_ =pd.read_parquet(path /'CFM_AMER/equity_data/eqt_bb_news_volumes.parquet') # volume for each date"
   ]
  },
  {
   "cell_type": "code",
   "execution_count": 230,
   "metadata": {},
   "outputs": [],
   "source": [
    "code='CMG_UN'"
   ]
  },
  {
   "cell_type": "code",
   "execution_count": 231,
   "metadata": {},
   "outputs": [],
   "source": [
    "# Convert the rows into columns for the eqt_code earning date\n",
    "ead = ead_.assign(one=1) \\\n",
    "          .rename(columns={'earning_date': 'BDATE'}) \\\n",
    "          .set_index(['BDATE', 'eqt_code']) \\\n",
    "          .squeeze() \\\n",
    "          .unstack()\n",
    "news_volume = news_volume_.rename(columns={'daclose': 'BDATE'}) \\\n",
    "                         .groupby(['BDATE', 'eqt_code'])['total_count'] \\\n",
    "                         .mean() \\\n",
    "                         .unstack()"
   ]
  },
  {
   "cell_type": "code",
   "execution_count": 232,
   "metadata": {},
   "outputs": [],
   "source": [
    "# Normalize the news_volume DataFrame by dividing each element by its corresponding rolling mean\n",
    "df = news_volume.pipe(\n",
    "    lambda x: x.div(\n",
    "        x.rolling(window=126, min_periods=42).mean()  # Calculate the rolling mean for each element\n",
    "    )\n",
    ")[[code]]"
   ]
  },
  {
   "cell_type": "code",
   "execution_count": 233,
   "metadata": {},
   "outputs": [],
   "source": [
    "df2 =ead.reindex_like(df)\n",
    "earning_days = df2.dropna().index.to_list()"
   ]
  },
  {
   "cell_type": "code",
   "execution_count": 235,
   "metadata": {},
   "outputs": [],
   "source": [
    "def identify_market_on_close(headline):\n",
    "    pattern = r'^MARKET ON CLOSE.*'\n",
    "    return re.match(pattern, headline) is not None"
   ]
  },
  {
   "cell_type": "code",
   "execution_count": 236,
   "metadata": {},
   "outputs": [],
   "source": [
    "def is_all_uppercase(headline):\n",
    "    # Remove any non-alphabet characters from the headline\n",
    "    headline_alpha = re.sub(r'[^A-Za-z]', '', headline)\n",
    "    return headline_alpha.isupper()"
   ]
  },
  {
   "attachments": {},
   "cell_type": "markdown",
   "metadata": {},
   "source": [
    "Deduplications"
   ]
  },
  {
   "cell_type": "code",
   "execution_count": 237,
   "metadata": {},
   "outputs": [],
   "source": [
    "import copy\n",
    "\n",
    "def find_duplicates(df):\n",
    "    df_copy = copy.deepcopy(df)\n",
    "    df_copy['headline_lower'] = df_copy['headline'].str.lower()  # Convert headlines to lowercase\n",
    "    regex_pattern =r'correct:|\\(\\d+\\)\\.|update\\d+|\\(correct\\)'\n",
    "    duplicates = df_copy[df_copy.duplicated(subset='headline_lower', keep='first') | df_copy['headline_lower'].str.contains(regex_pattern)]\n",
    "    return duplicates.index.tolist()"
   ]
  },
  {
   "cell_type": "code",
   "execution_count": 238,
   "metadata": {},
   "outputs": [],
   "source": [
    "df_2015=pd.read_parquet('/mnt/research-live/user/yzhong/bloomberg_news_english_single_stock.parquet')\n",
    "df_2015_mcd=df_2015[df_2015.eqt_code==code]"
   ]
  },
  {
   "cell_type": "code",
   "execution_count": 242,
   "metadata": {},
   "outputs": [
    {
     "name": "stderr",
     "output_type": "stream",
     "text": [
      "/opt/tmp/tmp/ipykernel_360566/3191464300.py:1: SettingWithCopyWarning: \n",
      "A value is trying to be set on a copy of a slice from a DataFrame.\n",
      "Try using .loc[row_indexer,col_indexer] = value instead\n",
      "\n",
      "See the caveats in the documentation: https://pandas.pydata.org/pandas-docs/stable/user_guide/indexing.html#returning-a-view-versus-a-copy\n",
      "  df_2015_mcd['date']=pd.to_datetime(df_2015_mcd['date'])\n"
     ]
    }
   ],
   "source": [
    "df_2015_mcd['date']=pd.to_datetime(df_2015_mcd['date'])"
   ]
  },
  {
   "cell_type": "code",
   "execution_count": 245,
   "metadata": {},
   "outputs": [],
   "source": [
    "with open('/mnt/research-live/user/yzhong/CMG_UN.txt', 'w') as f:\n",
    "    for row in filtered.itertuples():\n",
    "        f.write(str(row.headline) + '\\n')"
   ]
  },
  {
   "cell_type": "code",
   "execution_count": 244,
   "metadata": {},
   "outputs": [],
   "source": [
    "filtered=df_2015_mcd[df_2015_mcd['date'].isin(earning_days)]"
   ]
  },
  {
   "cell_type": "code",
   "execution_count": 219,
   "metadata": {},
   "outputs": [],
   "source": [
    "df_2022=pd.read_parquet('/mnt/research-live/user/yzhong/bloomberg_news_english_single_stock_topic_2022.parquet')\n",
    "df_2022_mcd=df_2022[df_2022.eqt_code=='MCD_UN']\n",
    "filtered_df = df_2022_mcd.loc[(df_2022_mcd['date'] == pd.to_datetime('2022-01-27')) |\n",
    "                              (df_2022_mcd['date'] == pd.to_datetime('2022-04-28')) |\n",
    "                              (df_2022_mcd['date'] == pd.to_datetime('2022-07-26')) |\n",
    "                              (df_2022_mcd['date'] == pd.to_datetime('2022-10-27'))]\n",
    "\n",
    "filtered_df = filtered_df[~filtered_df['headline'].apply(identify_market_on_close)].reset_index(drop=True)\n",
    "filtered_df = filtered_df[filtered_df['headline'].apply(is_all_uppercase)].reset_index(drop=True)\n",
    "filtered_df.drop(index=find_duplicates(filtered_df),inplace=True)"
   ]
  },
  {
   "cell_type": "code",
   "execution_count": 220,
   "metadata": {},
   "outputs": [
    {
     "data": {
      "text/plain": [
       "131"
      ]
     },
     "execution_count": 220,
     "metadata": {},
     "output_type": "execute_result"
    }
   ],
   "source": [
    "topics_list = list(set(filtered_df['topics'].str.split(' ').sum()))\n",
    "len(topics_list)"
   ]
  },
  {
   "attachments": {},
   "cell_type": "markdown",
   "metadata": {},
   "source": [
    "Check if there are news that have the same topics"
   ]
  },
  {
   "cell_type": "code",
   "execution_count": 221,
   "metadata": {},
   "outputs": [
    {
     "name": "stdout",
     "output_type": "stream",
     "text": [
      "[1, 34, 3, 4, 6, 8, 9, 28, 29]\n",
      "[32, 5]\n",
      "[10, 77]\n",
      "[11, 36, 37, 71]\n",
      "[12, 13]\n",
      "[40, 15]\n",
      "[70, 39, 72, 73, 42, 75, 45, 46, 47, 16, 17, 18, 19, 48, 82, 22, 84]\n",
      "[24, 64, 63, 23]\n",
      "[25, 61]\n",
      "[27, 54]\n",
      "[67, 69, 57, 59, 60, 30, 31]\n",
      "[81, 44]\n",
      "[50, 51]\n",
      "[56, 55]\n"
     ]
    }
   ],
   "source": [
    "from itertools import combinations\n",
    "\n",
    "# Extract the topics from the 'topics' column and split them into lists\n",
    "topics_lists = filtered_df['topics'].str.split(' ').tolist()\n",
    "\n",
    "# Create a dictionary to store the indices for each unique topic set\n",
    "topic_indices = {}\n",
    "\n",
    "# Find rows with the same topics\n",
    "for i, j in combinations(range(len(topics_lists)), 2):\n",
    "    if set(topics_lists[i]) == set(topics_lists[j]):\n",
    "        topic_set = tuple(sorted(set(topics_lists[i])))\n",
    "        if topic_set in topic_indices:\n",
    "            topic_indices[topic_set].add(i)\n",
    "            topic_indices[topic_set].add(j)\n",
    "        else:\n",
    "            topic_indices[topic_set] = {i, j}\n",
    "\n",
    "# Print the indices of rows with the same topics\n",
    "for indices in topic_indices.values():\n",
    "    print(list(indices))"
   ]
  },
  {
   "cell_type": "code",
   "execution_count": 105,
   "metadata": {},
   "outputs": [
    {
     "data": {
      "text/html": [
       "<div>\n",
       "<style scoped>\n",
       "    .dataframe tbody tr th:only-of-type {\n",
       "        vertical-align: middle;\n",
       "    }\n",
       "\n",
       "    .dataframe tbody tr th {\n",
       "        vertical-align: top;\n",
       "    }\n",
       "\n",
       "    .dataframe thead th {\n",
       "        text-align: right;\n",
       "    }\n",
       "</style>\n",
       "<table border=\"1\" class=\"dataframe\">\n",
       "  <thead>\n",
       "    <tr style=\"text-align: right;\">\n",
       "      <th></th>\n",
       "      <th>suid</th>\n",
       "      <th>last_update</th>\n",
       "      <th>eqt_code</th>\n",
       "      <th>analyst</th>\n",
       "      <th>date</th>\n",
       "      <th>daclose</th>\n",
       "      <th>topics</th>\n",
       "      <th>headline</th>\n",
       "      <th>body</th>\n",
       "    </tr>\n",
       "  </thead>\n",
       "  <tbody>\n",
       "    <tr>\n",
       "      <th>23</th>\n",
       "      <td>RB0SWET0AFB7</td>\n",
       "      <td>2022-04-28 11:00:00.212</td>\n",
       "      <td>MCD_UN</td>\n",
       "      <td>False</td>\n",
       "      <td>2022-04-28</td>\n",
       "      <td>2022-04-28</td>\n",
       "      <td>BIZNEWS MSCIWORLD NORTHAM CONSD ERN ACEXCLUDE ...</td>\n",
       "      <td>MCDONALD'S 1Q ADJ EPS $2.28, EST. $2.17.</td>\n",
       "      <td></td>\n",
       "    </tr>\n",
       "    <tr>\n",
       "      <th>24</th>\n",
       "      <td>RB0SYBT0AFBB</td>\n",
       "      <td>2022-04-28 11:00:00.214</td>\n",
       "      <td>MCD_UN</td>\n",
       "      <td>False</td>\n",
       "      <td>2022-04-28</td>\n",
       "      <td>2022-04-28</td>\n",
       "      <td>BIZNEWS MSCIWORLD NORTHAM CONSD ERN ACEXCLUDE ...</td>\n",
       "      <td>MCDONALD'S 1Q REV. $5.67B, EST. $5.57B.</td>\n",
       "      <td></td>\n",
       "    </tr>\n",
       "    <tr>\n",
       "      <th>25</th>\n",
       "      <td>RB1MZ8DWX2PU</td>\n",
       "      <td>2022-04-28 11:00:00.252</td>\n",
       "      <td>MCD_UN</td>\n",
       "      <td>False</td>\n",
       "      <td>2022-04-28</td>\n",
       "      <td>2022-04-28</td>\n",
       "      <td>METALKEY ALLHOT BIZNEWS MSCIWORLD NORTHAM GLOB...</td>\n",
       "      <td>MCDONALD'S 1Q COMP SALES +11.8%, EST. +8.73%.</td>\n",
       "      <td></td>\n",
       "    </tr>\n",
       "    <tr>\n",
       "      <th>27</th>\n",
       "      <td>RB0SZBT0AFB6</td>\n",
       "      <td>2022-04-28 11:00:00.253</td>\n",
       "      <td>MCD_UN</td>\n",
       "      <td>False</td>\n",
       "      <td>2022-04-28</td>\n",
       "      <td>2022-04-28</td>\n",
       "      <td>BIZNEWS MSCIWORLD NORTHAM CONSD ERN ACEXCLUDE ...</td>\n",
       "      <td>MCDONALD'S 1Q US COMP SALES +3.5%, EST. +3.59%.</td>\n",
       "      <td></td>\n",
       "    </tr>\n",
       "    <tr>\n",
       "      <th>54</th>\n",
       "      <td>RFMJX0DWX2PW</td>\n",
       "      <td>2022-07-26 11:00:36.939</td>\n",
       "      <td>MCD_UN</td>\n",
       "      <td>False</td>\n",
       "      <td>2022-07-26</td>\n",
       "      <td>2022-07-26</td>\n",
       "      <td>BIZNEWS MSCIWORLD NORTHAM CONSD ERN ACEXCLUDE ...</td>\n",
       "      <td>MCDONALD'S 2Q US COMP SALES +3.7%, EST. +2.98%.</td>\n",
       "      <td></td>\n",
       "    </tr>\n",
       "    <tr>\n",
       "      <th>61</th>\n",
       "      <td>RFMK6CBZ8CG0</td>\n",
       "      <td>2022-07-26 11:06:12.985</td>\n",
       "      <td>MCD_UN</td>\n",
       "      <td>False</td>\n",
       "      <td>2022-07-26</td>\n",
       "      <td>2022-07-26</td>\n",
       "      <td>EDGWEB BIZNEWS MSCIWORLD NORTHAM CONSD ACEXCLU...</td>\n",
       "      <td>MCDONALD'S SEES YEAR INTEREST EXPENSE RELATIVE...</td>\n",
       "      <td></td>\n",
       "    </tr>\n",
       "    <tr>\n",
       "      <th>63</th>\n",
       "      <td>RKEO7UDWX2PW</td>\n",
       "      <td>2022-10-27 11:00:00.201</td>\n",
       "      <td>MCD_UN</td>\n",
       "      <td>False</td>\n",
       "      <td>2022-10-27</td>\n",
       "      <td>2022-10-27</td>\n",
       "      <td>BIZNEWS MSCIWORLD NORTHAM CONSD ERN ACEXCLUDE ...</td>\n",
       "      <td>MCDONALD'S 3Q US COMP SALES +6.1%, EST. +3.7%.</td>\n",
       "      <td></td>\n",
       "    </tr>\n",
       "    <tr>\n",
       "      <th>64</th>\n",
       "      <td>RKDOHDDWX2PT</td>\n",
       "      <td>2022-10-27 11:00:07.305</td>\n",
       "      <td>MCD_UN</td>\n",
       "      <td>False</td>\n",
       "      <td>2022-10-27</td>\n",
       "      <td>2022-10-27</td>\n",
       "      <td>BIZNEWS MSCIWORLD NORTHAM CONSD ERN ACEXCLUDE ...</td>\n",
       "      <td>MCDONALD'S 3Q ADJ EPS $2.68, EST. $2.57.</td>\n",
       "      <td></td>\n",
       "    </tr>\n",
       "  </tbody>\n",
       "</table>\n",
       "</div>"
      ],
      "text/plain": [
       "            suid             last_update eqt_code  analyst        date  \\\n",
       "23  RB0SWET0AFB7 2022-04-28 11:00:00.212   MCD_UN    False  2022-04-28   \n",
       "24  RB0SYBT0AFBB 2022-04-28 11:00:00.214   MCD_UN    False  2022-04-28   \n",
       "25  RB1MZ8DWX2PU 2022-04-28 11:00:00.252   MCD_UN    False  2022-04-28   \n",
       "27  RB0SZBT0AFB6 2022-04-28 11:00:00.253   MCD_UN    False  2022-04-28   \n",
       "54  RFMJX0DWX2PW 2022-07-26 11:00:36.939   MCD_UN    False  2022-07-26   \n",
       "61  RFMK6CBZ8CG0 2022-07-26 11:06:12.985   MCD_UN    False  2022-07-26   \n",
       "63  RKEO7UDWX2PW 2022-10-27 11:00:00.201   MCD_UN    False  2022-10-27   \n",
       "64  RKDOHDDWX2PT 2022-10-27 11:00:07.305   MCD_UN    False  2022-10-27   \n",
       "\n",
       "       daclose                                             topics  \\\n",
       "23  2022-04-28  BIZNEWS MSCIWORLD NORTHAM CONSD ERN ACEXCLUDE ...   \n",
       "24  2022-04-28  BIZNEWS MSCIWORLD NORTHAM CONSD ERN ACEXCLUDE ...   \n",
       "25  2022-04-28  METALKEY ALLHOT BIZNEWS MSCIWORLD NORTHAM GLOB...   \n",
       "27  2022-04-28  BIZNEWS MSCIWORLD NORTHAM CONSD ERN ACEXCLUDE ...   \n",
       "54  2022-07-26  BIZNEWS MSCIWORLD NORTHAM CONSD ERN ACEXCLUDE ...   \n",
       "61  2022-07-26  EDGWEB BIZNEWS MSCIWORLD NORTHAM CONSD ACEXCLU...   \n",
       "63  2022-10-27  BIZNEWS MSCIWORLD NORTHAM CONSD ERN ACEXCLUDE ...   \n",
       "64  2022-10-27  BIZNEWS MSCIWORLD NORTHAM CONSD ERN ACEXCLUDE ...   \n",
       "\n",
       "                                             headline body  \n",
       "23           MCDONALD'S 1Q ADJ EPS $2.28, EST. $2.17.       \n",
       "24            MCDONALD'S 1Q REV. $5.67B, EST. $5.57B.       \n",
       "25      MCDONALD'S 1Q COMP SALES +11.8%, EST. +8.73%.       \n",
       "27    MCDONALD'S 1Q US COMP SALES +3.5%, EST. +3.59%.       \n",
       "54    MCDONALD'S 2Q US COMP SALES +3.7%, EST. +2.98%.       \n",
       "61  MCDONALD'S SEES YEAR INTEREST EXPENSE RELATIVE...       \n",
       "63     MCDONALD'S 3Q US COMP SALES +6.1%, EST. +3.7%.       \n",
       "64           MCDONALD'S 3Q ADJ EPS $2.68, EST. $2.57.       "
      ]
     },
     "execution_count": 105,
     "metadata": {},
     "output_type": "execute_result"
    }
   ],
   "source": [
    "filtered_df[filtered_df.index.isin([24, 64, 63, 23,27, 54,25, 61])]"
   ]
  },
  {
   "attachments": {},
   "cell_type": "markdown",
   "metadata": {},
   "source": [
    "Check the topics that exist in all the news\n",
    "ACEXCLUDE: excluded from alert catcher -- the news of capital letter "
   ]
  },
  {
   "cell_type": "code",
   "execution_count": 222,
   "metadata": {},
   "outputs": [
    {
     "name": "stdout",
     "output_type": "stream",
     "text": [
      "Topics present in all news articles:\n",
      "ACEXCLUDE\n",
      "G10MEMB\n",
      "NORTHAM\n",
      "USMW\n",
      "MSCIWORLD\n",
      "MISC\n",
      "US\n",
      "RES\n",
      "SPREGIONS\n",
      "BIZNEWS\n",
      "CONSD\n",
      "BGOVCODES\n",
      "COS\n",
      "IL\n",
      "BGOVBILLGO\n",
      "SRCRANK1\n",
      "WORLD\n",
      "HEADS\n",
      "PADD2\n",
      "DEVECO\n",
      "ALLSTATES\n",
      "GAMLODRES\n",
      "CONS\n",
      "PADDIST\n",
      "MSCINAMER\n",
      "EQUITYKEY\n",
      "G7MEMB\n",
      "BUSINESS\n",
      "BONDWIRES\n",
      "INDUSTRIES\n"
     ]
    }
   ],
   "source": [
    "# Extract the topics from the 'topics' column and split them into lists\n",
    "topics_lists = filtered_df['topics'].str.split(' ').tolist()\n",
    "\n",
    "# Find the intersection of topics across all news articles\n",
    "common_topics = set(topics_lists[0]).intersection(*topics_lists)\n",
    "\n",
    "# Print the common topics\n",
    "print(\"Topics present in all news articles:\")\n",
    "for topic in common_topics:\n",
    "    print(topic)"
   ]
  },
  {
   "cell_type": "code",
   "execution_count": 223,
   "metadata": {},
   "outputs": [
    {
     "data": {
      "text/plain": [
       "30"
      ]
     },
     "execution_count": 223,
     "metadata": {},
     "output_type": "execute_result"
    }
   ],
   "source": [
    "len(common_topics)"
   ]
  },
  {
   "attachments": {},
   "cell_type": "markdown",
   "metadata": {},
   "source": [
    "The percentage of all the other tags"
   ]
  },
  {
   "cell_type": "code",
   "execution_count": 224,
   "metadata": {},
   "outputs": [
    {
     "name": "stdout",
     "output_type": "stream",
     "text": [
      "Topic\t\tPercentage\n",
      "FINNEWS\t\t97.65%\n",
      "ERN\t\t71.76%\n",
      "RIF\t\t57.65%\n",
      "HOU\t\t51.76%\n",
      "CONSS\t\t51.76%\n",
      "FOD\t\t51.76%\n",
      "RET\t\t51.76%\n",
      "RLSHEAD\t\t31.76%\n",
      "CPNYCNT1\t\t18.82%\n",
      "EDG\t\t14.12%\n",
      "FILINGS\t\t14.12%\n",
      "EDGWEB\t\t14.12%\n",
      "CFDOCS\t\t14.12%\n",
      "EDGSDR\t\t14.12%\n",
      "DEBTKEY\t\t12.94%\n",
      "RATESKEY\t\t12.94%\n",
      "FXKEY\t\t12.94%\n",
      "CREDITKEY\t\t12.94%\n",
      "CMDKEY\t\t11.76%\n",
      "ECO\t\t11.76%\n",
      "CMP\t\t10.59%\n",
      "INF\t\t9.41%\n",
      "FIALL\t\t9.41%\n",
      "ECOINDIC\t\t9.41%\n",
      "FIASST\t\t9.41%\n",
      "ECOSTAT\t\t9.41%\n",
      "CMD\t\t7.06%\n",
      "CMPPUB\t\t7.06%\n",
      "GUIDANCE\t\t7.06%\n",
      "MARKETS\t\t5.88%\n",
      "EQTY\t\t5.88%\n",
      "NRGKEY\t\t5.88%\n",
      "METALKEY\t\t5.88%\n",
      "CMDMISC\t\t5.88%\n",
      "CMDX\t\t5.88%\n",
      "BFWEQ\t\t4.71%\n",
      "FIRSTWORD\t\t4.71%\n",
      "INMONEY\t\t3.53%\n",
      "MAJOR\t\t3.53%\n",
      "RUNEWS\t\t3.53%\n",
      "TOP\t\t3.53%\n",
      "OILKEY\t\t3.53%\n",
      "ALLHOT\t\t3.53%\n",
      "INEQUITY\t\t3.53%\n",
      "MTGEKEY\t\t3.53%\n",
      "CMDGLOMAC\t\t3.53%\n",
      "REGIONFILT\t\t3.53%\n",
      "BROKERLITE\t\t3.53%\n",
      "TIMECO\t\t3.53%\n",
      "GLOBALMACR\t\t3.53%\n",
      "HOT\t\t3.53%\n",
      "TIMENI\t\t3.53%\n",
      "AGRKEY\t\t3.53%\n",
      "POLIRISK\t\t3.53%\n",
      "GOV\t\t3.53%\n",
      "LIFESTYLE\t\t3.53%\n",
      "GDRESTS\t\t3.53%\n",
      "DINE\t\t3.53%\n",
      "NASIA\t\t3.53%\n",
      "ASIAX\t\t3.53%\n",
      "EXUSSR\t\t3.53%\n",
      "CMPAUTO\t\t3.53%\n",
      "HEADGEN\t\t3.53%\n",
      "BFWUS\t\t2.35%\n",
      "FIXTURE\t\t2.35%\n",
      "STKMOV\t\t2.35%\n",
      "STK\t\t2.35%\n",
      "ALLMOV\t\t2.35%\n",
      "BFWFOCUS\t\t2.35%\n",
      "TAX\t\t2.35%\n",
      "MSCIDVEUR\t\t2.35%\n",
      "EMC\t\t2.35%\n",
      "EMEAREGION\t\t2.35%\n",
      "EUROPE\t\t2.35%\n",
      "FRA\t\t2.35%\n",
      "WEU\t\t2.35%\n",
      "ERNBFW\t\t2.35%\n",
      "CECO\t\t2.35%\n",
      "FOODINF\t\t2.35%\n",
      "INDUSTRIAL\t\t2.35%\n",
      "CST\t\t2.35%\n",
      "NEGATIVE\t\t2.35%\n",
      "BZNEWS\t\t1.18%\n",
      "CLNEWS\t\t1.18%\n",
      "CONEWS\t\t1.18%\n",
      "BFW\t\t1.18%\n",
      "EM\t\t1.18%\n",
      "MSCIEMAS\t\t1.18%\n",
      "BRIC\t\t1.18%\n",
      "ASIA\t\t1.18%\n",
      "CHINA\t\t1.18%\n",
      "RESTOPEN\t\t1.18%\n",
      "MISCCOS\t\t1.18%\n",
      "WNEWS\t\t1.18%\n",
      "CEO\t\t1.18%\n",
      "POSITIVE\t\t1.18%\n",
      "ERNGUID\t\t1.18%\n",
      "COMSTAT\t\t1.18%\n",
      "NRG\t\t1.18%\n",
      "USECO\t\t1.18%\n",
      "G7ECOS\t\t1.18%\n"
     ]
    }
   ],
   "source": [
    "from collections import Counter\n",
    "\n",
    "# Extract the topics from the 'topics' column and split them into lists\n",
    "topics_lists = filtered_df['topics'].str.split(' ').tolist()\n",
    "\n",
    "# Find the intersection of topics across all news articles\n",
    "common_topics = set(topics_lists[0]).intersection(*topics_lists)\n",
    "\n",
    "# Remove common topics from topics_lists\n",
    "topics_lists_without_common = [list(set(topics) - common_topics) for topics in topics_lists]\n",
    "\n",
    "# Flatten the topics_lists_without_common into a single list\n",
    "all_topics = [topic for topics in topics_lists_without_common for topic in topics]\n",
    "\n",
    "# Calculate the percentage of each topic that exists in all news articles\n",
    "topic_counts = Counter(all_topics)\n",
    "total_news = len(topics_lists)\n",
    "topic_percentages = {topic: (count / total_news) * 100 for topic, count in topic_counts.items()}\n",
    "# Filter out topics with a percentage count less than 5%\n",
    "filtered_topics = [topic for topic, percentage in topic_percentages.items() if percentage < 5]\n",
    "# Sort the topics by percentage in descending order\n",
    "sorted_topics = sorted(topic_percentages.items(), key=lambda x: x[1], reverse=True)\n",
    "\n",
    "# Print the sorted topics and their percentages\n",
    "print(\"Topic\\t\\tPercentage\")\n",
    "for topic, percentage in sorted_topics:\n",
    "    print(f\"{topic}\\t\\t{percentage:.2f}%\")"
   ]
  },
  {
   "attachments": {},
   "cell_type": "markdown",
   "metadata": {},
   "source": [
    "Topic tags, which percentage is less than 5%"
   ]
  },
  {
   "cell_type": "code",
   "execution_count": 185,
   "metadata": {},
   "outputs": [
    {
     "name": "stdout",
     "output_type": "stream",
     "text": [
      "['SSSALES', 'COEVNT', 'BFWEQ', 'FIRSTWORD', 'BFWUS', 'BB', 'MAJOR', 'RUNEWS', 'TOP', 'OILKEY', 'BRNEWS', 'ALLHOT', 'MTGEKEY', 'CMDKEY', 'RATESKEY', 'CMDGLOMAC', 'FXKEY', 'REGIONFILT', 'TIMECO', 'GLOBALMACR', 'MARKETS', 'HOT', 'TIMENI', 'AGRKEY', 'NRGKEY', 'METALKEY', 'BRIC', 'ASIA', 'ESGRES', 'CHINA', 'SUPPLYDISR', 'ESGCONTROV', 'MSCIEMAS', 'NASIA', 'SUPPLY', 'EM', 'ASIAX', 'FRX', 'LIFESTYLE', 'GDRESTS', 'GEN', 'DINE', 'RESTOPEN', 'NOB', 'COR', 'DRA', 'BON', 'CRA', 'FIASST', 'FISUB', 'CORPFIN', 'DIRECTHEAD', 'CBM', 'FIALL', 'BFWTOPFEED', 'TOPBFW', 'ANAESTCHG', 'ANAMOVES', 'ANA', 'ANAESTDOWN', 'CHARGES', 'ANAESTUP', 'TAX', 'POLIRISK', 'GOV', 'BBK', 'CACT', 'STK', 'TNM', 'POSPRE', 'BFW', 'MET', 'CMD', 'BASIC', 'METMNG', 'METSTAT', 'CMDX', 'COMSTAT']\n"
     ]
    }
   ],
   "source": [
    "print(filtered_topics)\n"
   ]
  },
  {
   "cell_type": "code",
   "execution_count": 186,
   "metadata": {},
   "outputs": [],
   "source": [
    "un_meaningful_tags=['FINNEWS','RLSHEAD','ALLSTATES','CPNYCNT1','CMP']"
   ]
  },
  {
   "attachments": {},
   "cell_type": "markdown",
   "metadata": {},
   "source": [
    "The headline that contains topic tags of a certain threshold "
   ]
  },
  {
   "cell_type": "code",
   "execution_count": 61,
   "metadata": {},
   "outputs": [],
   "source": [
    "def create_small_dataframe(df, percentage_low,percentage_up):\n",
    "    # Sort the topics by percentage in descending order\n",
    "    sorted_topics = sorted(topic_percentages.items(), key=lambda x: x[1], reverse=True)\n",
    "\n",
    "    # Create an empty dictionary to store the news headlines and their corresponding topic tags\n",
    "    small_df_data = {}\n",
    "\n",
    "    # Iterate over the topics and percentages\n",
    "    for topic, percentage in sorted_topics:\n",
    "        # Check if the percentage is less than the threshold\n",
    "        if percentage_low<percentage < percentage_up:\n",
    "            # Iterate over the rows of the input dataframe\n",
    "            for index, row in df.iterrows():\n",
    "                headline = row['headline']\n",
    "                topics = row['topics'].split(' ')\n",
    "                # Check if the topic is in the list of topics for the current row\n",
    "                if topic in topics:\n",
    "                    if headline not in small_df_data:\n",
    "                        small_df_data[headline] = [topic]\n",
    "                    else:\n",
    "                        small_df_data[headline].append(topic)\n",
    "\n",
    "    # Create a list of tuples with the headline and list of topics\n",
    "    small_df_data_tuples = [(headline, topics) for headline, topics in small_df_data.items()]\n",
    "\n",
    "    # Create the small dataframe\n",
    "    small_df = pd.DataFrame(small_df_data_tuples, columns=['headline', 'topics'])\n",
    "\n",
    "    return small_df\n"
   ]
  },
  {
   "cell_type": "code",
   "execution_count": 115,
   "metadata": {},
   "outputs": [
    {
     "data": {
      "text/html": [
       "<div>\n",
       "<style scoped>\n",
       "    .dataframe tbody tr th:only-of-type {\n",
       "        vertical-align: middle;\n",
       "    }\n",
       "\n",
       "    .dataframe tbody tr th {\n",
       "        vertical-align: top;\n",
       "    }\n",
       "\n",
       "    .dataframe thead th {\n",
       "        text-align: right;\n",
       "    }\n",
       "</style>\n",
       "<table border=\"1\" class=\"dataframe\">\n",
       "  <thead>\n",
       "    <tr style=\"text-align: right;\">\n",
       "      <th></th>\n",
       "      <th>headline</th>\n",
       "      <th>topics</th>\n",
       "    </tr>\n",
       "  </thead>\n",
       "  <tbody>\n",
       "    <tr>\n",
       "      <th>0</th>\n",
       "      <td>MCDONALD'S 4Q COMP SALES +12.3%, EST. +10.7%.</td>\n",
       "      <td>[INMONEY, MAJOR, RUNEWS, TOP, OILKEY, ALLHOT, ...</td>\n",
       "    </tr>\n",
       "    <tr>\n",
       "      <th>1</th>\n",
       "      <td>MCDONALD'S 1Q COMP SALES +11.8%, EST. +8.73%.</td>\n",
       "      <td>[INMONEY, MAJOR, RUNEWS, TOP, OILKEY, ALLHOT, ...</td>\n",
       "    </tr>\n",
       "    <tr>\n",
       "      <th>2</th>\n",
       "      <td>MCDONALD'S 3Q COMP SALES +9.5%, EST. +5.8%.</td>\n",
       "      <td>[INMONEY, MAJOR, RUNEWS, TOP, OILKEY, ALLHOT, ...</td>\n",
       "    </tr>\n",
       "    <tr>\n",
       "      <th>3</th>\n",
       "      <td>MCDONALD'S SEES YR EFFECTIVE INCOME TAX RATE I...</td>\n",
       "      <td>[POLIRISK, GOV]</td>\n",
       "    </tr>\n",
       "    <tr>\n",
       "      <th>4</th>\n",
       "      <td>MCD: CHINA 4Q RESULTS HURT BY GOVERNMENT COVID...</td>\n",
       "      <td>[POLIRISK, GOV, NASIA, ASIAX]</td>\n",
       "    </tr>\n",
       "    <tr>\n",
       "      <th>5</th>\n",
       "      <td>MCD: SEE YR EFFECTIVE TAX RATE 20% TO 22% RANGE.</td>\n",
       "      <td>[POLIRISK, GOV]</td>\n",
       "    </tr>\n",
       "    <tr>\n",
       "      <th>6</th>\n",
       "      <td>MCDONALD'S SEES OPENING OVER 1,800 RESTAURANTS...</td>\n",
       "      <td>[LIFESTYLE, GDRESTS, DINE]</td>\n",
       "    </tr>\n",
       "    <tr>\n",
       "      <th>7</th>\n",
       "      <td>MCD: SEE OPENING ~1,700-1,800 RESTAURANTS GLOB...</td>\n",
       "      <td>[LIFESTYLE, GDRESTS, DINE]</td>\n",
       "    </tr>\n",
       "    <tr>\n",
       "      <th>8</th>\n",
       "      <td>MCDONALD'S SEES OPENING ~1,700 RESTAURANTS GLO...</td>\n",
       "      <td>[LIFESTYLE, GDRESTS, DINE]</td>\n",
       "    </tr>\n",
       "    <tr>\n",
       "      <th>9</th>\n",
       "      <td>MCDONALD'S: SOME STORES IN CHINA STILL CLOSED ...</td>\n",
       "      <td>[NASIA, ASIAX]</td>\n",
       "    </tr>\n",
       "    <tr>\n",
       "      <th>10</th>\n",
       "      <td>MCDONALD'S CFO: STILL A CHALLENGING ENVIRONMEN...</td>\n",
       "      <td>[NASIA, ASIAX]</td>\n",
       "    </tr>\n",
       "    <tr>\n",
       "      <th>11</th>\n",
       "      <td>MCDONALD'S 1Q INCLUDES 13C/SHARE COST FOR RUSS...</td>\n",
       "      <td>[EXUSSR]</td>\n",
       "    </tr>\n",
       "    <tr>\n",
       "      <th>12</th>\n",
       "      <td>MCDONALD'S CEO: STORES IN RUSSIA, UKRAINE REMA...</td>\n",
       "      <td>[EXUSSR]</td>\n",
       "    </tr>\n",
       "    <tr>\n",
       "      <th>13</th>\n",
       "      <td>MCDONALD'S RESULTS INCLUDED $1.2B OF CHARGES O...</td>\n",
       "      <td>[EXUSSR]</td>\n",
       "    </tr>\n",
       "    <tr>\n",
       "      <th>14</th>\n",
       "      <td>MCDONALD'S 2Q COMP SALES +9.7%, EST. +7.5%.</td>\n",
       "      <td>[CMPAUTO, HEADGEN]</td>\n",
       "    </tr>\n",
       "    <tr>\n",
       "      <th>15</th>\n",
       "      <td>MCDONALD'S 2Q REV. $5.72B, EST. $5.82B.</td>\n",
       "      <td>[CMPAUTO, HEADGEN]</td>\n",
       "    </tr>\n",
       "    <tr>\n",
       "      <th>16</th>\n",
       "      <td>MCDONALD'S 2Q ADJ EPS $2.55, EST. $2.46.</td>\n",
       "      <td>[CMPAUTO, HEADGEN]</td>\n",
       "    </tr>\n",
       "  </tbody>\n",
       "</table>\n",
       "</div>"
      ],
      "text/plain": [
       "                                             headline  \\\n",
       "0       MCDONALD'S 4Q COMP SALES +12.3%, EST. +10.7%.   \n",
       "1       MCDONALD'S 1Q COMP SALES +11.8%, EST. +8.73%.   \n",
       "2         MCDONALD'S 3Q COMP SALES +9.5%, EST. +5.8%.   \n",
       "3   MCDONALD'S SEES YR EFFECTIVE INCOME TAX RATE I...   \n",
       "4   MCD: CHINA 4Q RESULTS HURT BY GOVERNMENT COVID...   \n",
       "5    MCD: SEE YR EFFECTIVE TAX RATE 20% TO 22% RANGE.   \n",
       "6   MCDONALD'S SEES OPENING OVER 1,800 RESTAURANTS...   \n",
       "7   MCD: SEE OPENING ~1,700-1,800 RESTAURANTS GLOB...   \n",
       "8   MCDONALD'S SEES OPENING ~1,700 RESTAURANTS GLO...   \n",
       "9   MCDONALD'S: SOME STORES IN CHINA STILL CLOSED ...   \n",
       "10  MCDONALD'S CFO: STILL A CHALLENGING ENVIRONMEN...   \n",
       "11  MCDONALD'S 1Q INCLUDES 13C/SHARE COST FOR RUSS...   \n",
       "12  MCDONALD'S CEO: STORES IN RUSSIA, UKRAINE REMA...   \n",
       "13  MCDONALD'S RESULTS INCLUDED $1.2B OF CHARGES O...   \n",
       "14        MCDONALD'S 2Q COMP SALES +9.7%, EST. +7.5%.   \n",
       "15            MCDONALD'S 2Q REV. $5.72B, EST. $5.82B.   \n",
       "16           MCDONALD'S 2Q ADJ EPS $2.55, EST. $2.46.   \n",
       "\n",
       "                                               topics  \n",
       "0   [INMONEY, MAJOR, RUNEWS, TOP, OILKEY, ALLHOT, ...  \n",
       "1   [INMONEY, MAJOR, RUNEWS, TOP, OILKEY, ALLHOT, ...  \n",
       "2   [INMONEY, MAJOR, RUNEWS, TOP, OILKEY, ALLHOT, ...  \n",
       "3                                     [POLIRISK, GOV]  \n",
       "4                       [POLIRISK, GOV, NASIA, ASIAX]  \n",
       "5                                     [POLIRISK, GOV]  \n",
       "6                          [LIFESTYLE, GDRESTS, DINE]  \n",
       "7                          [LIFESTYLE, GDRESTS, DINE]  \n",
       "8                          [LIFESTYLE, GDRESTS, DINE]  \n",
       "9                                      [NASIA, ASIAX]  \n",
       "10                                     [NASIA, ASIAX]  \n",
       "11                                           [EXUSSR]  \n",
       "12                                           [EXUSSR]  \n",
       "13                                           [EXUSSR]  \n",
       "14                                 [CMPAUTO, HEADGEN]  \n",
       "15                                 [CMPAUTO, HEADGEN]  \n",
       "16                                 [CMPAUTO, HEADGEN]  "
      ]
     },
     "execution_count": 115,
     "metadata": {},
     "output_type": "execute_result"
    }
   ],
   "source": [
    "create_small_dataframe(filtered_df, 3,4)"
   ]
  },
  {
   "cell_type": "code",
   "execution_count": 62,
   "metadata": {},
   "outputs": [],
   "source": [
    "def excluded_tag(df, excluded_topic):\n",
    "    # Create an empty dictionary to store the news headlines and their corresponding topic tags\n",
    "    small_df_data = {}\n",
    "\n",
    "    # Iterate over the rows of the input dataframe\n",
    "    for index, row in df.iterrows():\n",
    "        headline = row['headline']\n",
    "        topics = row['topics'].split(' ')\n",
    "        # Check if the excluded topic is not in the list of topics for the current row\n",
    "        if excluded_topic not in topics:\n",
    "            if headline not in small_df_data:\n",
    "                small_df_data[headline] = topics\n",
    "            else:\n",
    "                small_df_data[headline].extend(topics)\n",
    "\n",
    "    # Create a list of tuples with the headline and list of topics\n",
    "    small_df_data_tuples = [(headline, topics) for headline, topics in small_df_data.items()]\n",
    "\n",
    "    # Create the small dataframe\n",
    "    small_df = pd.DataFrame(small_df_data_tuples, columns=['headline', 'topics'])\n",
    "\n",
    "    return small_df\n"
   ]
  },
  {
   "cell_type": "code",
   "execution_count": 51,
   "metadata": {},
   "outputs": [
    {
     "data": {
      "text/html": [
       "<div>\n",
       "<style scoped>\n",
       "    .dataframe tbody tr th:only-of-type {\n",
       "        vertical-align: middle;\n",
       "    }\n",
       "\n",
       "    .dataframe tbody tr th {\n",
       "        vertical-align: top;\n",
       "    }\n",
       "\n",
       "    .dataframe thead th {\n",
       "        text-align: right;\n",
       "    }\n",
       "</style>\n",
       "<table border=\"1\" class=\"dataframe\">\n",
       "  <thead>\n",
       "    <tr style=\"text-align: right;\">\n",
       "      <th></th>\n",
       "      <th>headline</th>\n",
       "      <th>topics</th>\n",
       "    </tr>\n",
       "  </thead>\n",
       "  <tbody>\n",
       "    <tr>\n",
       "      <th>0</th>\n",
       "      <td>MCDONALD'S 2Q GLOBAL SAME-STORE SALES DOWN 0.7%.</td>\n",
       "      <td>[ACEXCLUDE, BGOVBILLGO, BIZNEWS, BONDWIRES, CM...</td>\n",
       "    </tr>\n",
       "    <tr>\n",
       "      <th>1</th>\n",
       "      <td>MCDONALD'S 2Q U.S. SAME-STORE SALES DOWN 2%.</td>\n",
       "      <td>[ACEXCLUDE, BGOVBILLGO, BIZNEWS, BONDWIRES, CM...</td>\n",
       "    </tr>\n",
       "    <tr>\n",
       "      <th>2</th>\n",
       "      <td>MCDONALD'S 2Q REV. $6.50B.</td>\n",
       "      <td>[ACEXCLUDE, BGOVBILLGO, BIZNEWS, BONDWIRES, CM...</td>\n",
       "    </tr>\n",
       "    <tr>\n",
       "      <th>3</th>\n",
       "      <td>MCDONALD'S 2Q EPS $1.26.</td>\n",
       "      <td>[ACEXCLUDE, BGOVBILLGO, BIZNEWS, BONDWIRES, CM...</td>\n",
       "    </tr>\n",
       "    <tr>\n",
       "      <th>4</th>\n",
       "      <td>MCDONALD'S 2Q REV. $6.50B EST. $6.43B.</td>\n",
       "      <td>[ACEXCLUDE, BGOVBILLGO, BIZNEWS, BONDWIRES, CM...</td>\n",
       "    </tr>\n",
       "    <tr>\n",
       "      <th>5</th>\n",
       "      <td>MCDONALD'S 3Q REV. $6.62B.</td>\n",
       "      <td>[ACEXCLUDE, ALLSTATES, PADDIST, HEADS, WORLD, ...</td>\n",
       "    </tr>\n",
       "    <tr>\n",
       "      <th>6</th>\n",
       "      <td>MCDONALD'S 3Q EPS $1.40.</td>\n",
       "      <td>[ACEXCLUDE, ALLSTATES, PADDIST, HEADS, WORLD, ...</td>\n",
       "    </tr>\n",
       "    <tr>\n",
       "      <th>7</th>\n",
       "      <td>MCDONALD'S 3Q REV. $6.62B EST. $6.41B.</td>\n",
       "      <td>[ACEXCLUDE, ALLSTATES, PADDIST, HEADS, WORLD, ...</td>\n",
       "    </tr>\n",
       "    <tr>\n",
       "      <th>8</th>\n",
       "      <td>MCDONALD’S 3Q REV. $6.62B EST. $6.41B.</td>\n",
       "      <td>[ACEXCLUDE, ALLSTATES, PADDIST, HEADS, FIRSTWO...</td>\n",
       "    </tr>\n",
       "  </tbody>\n",
       "</table>\n",
       "</div>"
      ],
      "text/plain": [
       "                                           headline  \\\n",
       "0  MCDONALD'S 2Q GLOBAL SAME-STORE SALES DOWN 0.7%.   \n",
       "1      MCDONALD'S 2Q U.S. SAME-STORE SALES DOWN 2%.   \n",
       "2                        MCDONALD'S 2Q REV. $6.50B.   \n",
       "3                          MCDONALD'S 2Q EPS $1.26.   \n",
       "4            MCDONALD'S 2Q REV. $6.50B EST. $6.43B.   \n",
       "5                        MCDONALD'S 3Q REV. $6.62B.   \n",
       "6                          MCDONALD'S 3Q EPS $1.40.   \n",
       "7            MCDONALD'S 3Q REV. $6.62B EST. $6.41B.   \n",
       "8            MCDONALD’S 3Q REV. $6.62B EST. $6.41B.   \n",
       "\n",
       "                                              topics  \n",
       "0  [ACEXCLUDE, BGOVBILLGO, BIZNEWS, BONDWIRES, CM...  \n",
       "1  [ACEXCLUDE, BGOVBILLGO, BIZNEWS, BONDWIRES, CM...  \n",
       "2  [ACEXCLUDE, BGOVBILLGO, BIZNEWS, BONDWIRES, CM...  \n",
       "3  [ACEXCLUDE, BGOVBILLGO, BIZNEWS, BONDWIRES, CM...  \n",
       "4  [ACEXCLUDE, BGOVBILLGO, BIZNEWS, BONDWIRES, CM...  \n",
       "5  [ACEXCLUDE, ALLSTATES, PADDIST, HEADS, WORLD, ...  \n",
       "6  [ACEXCLUDE, ALLSTATES, PADDIST, HEADS, WORLD, ...  \n",
       "7  [ACEXCLUDE, ALLSTATES, PADDIST, HEADS, WORLD, ...  \n",
       "8  [ACEXCLUDE, ALLSTATES, PADDIST, HEADS, FIRSTWO...  "
      ]
     },
     "execution_count": 51,
     "metadata": {},
     "output_type": "execute_result"
    }
   ],
   "source": [
    "excluded_tag(filtered_df, 'FINNEWS')"
   ]
  },
  {
   "attachments": {},
   "cell_type": "markdown",
   "metadata": {},
   "source": [
    "The headline that contains certain topic tags"
   ]
  },
  {
   "cell_type": "code",
   "execution_count": 63,
   "metadata": {},
   "outputs": [],
   "source": [
    "def print_headlines_by_topics(df, topics):\n",
    "    for index, row in df.iterrows():\n",
    "        headline = row['headline']\n",
    "        row_topics = row['topics'].split(' ')\n",
    "        if all(topic in row_topics for topic in topics):\n",
    "            print(headline)\n"
   ]
  },
  {
   "cell_type": "code",
   "execution_count": 226,
   "metadata": {},
   "outputs": [],
   "source": [
    "topic_tags=set(topics_list) - common_topics-set(un_meaningful_tags)-set(filtered_topics)"
   ]
  },
  {
   "cell_type": "code",
   "execution_count": 227,
   "metadata": {},
   "outputs": [
    {
     "data": {
      "text/plain": [
       "31"
      ]
     },
     "execution_count": 227,
     "metadata": {},
     "output_type": "execute_result"
    }
   ],
   "source": [
    "len(topic_tags)"
   ]
  },
  {
   "cell_type": "code",
   "execution_count": 228,
   "metadata": {},
   "outputs": [
    {
     "name": "stdout",
     "output_type": "stream",
     "text": [
      "Main Topic: ERN -> Sub Topic: RIF\n",
      "Main Topic: ERN -> Sub Topic: HOU\n",
      "Main Topic: ERN -> Sub Topic: CONSS\n",
      "Main Topic: ERN -> Sub Topic: RET\n",
      "Main Topic: ERN -> Sub Topic: FOD\n",
      "Main Topic: ERN -> Sub Topic: CMPPUB\n"
     ]
    }
   ],
   "source": [
    "from collections import defaultdict\n",
    "from collections import Counter\n",
    "\n",
    "# Create a list containing the topic lists\n",
    "topic_lists = [list(set(topics) - common_topics-set(un_meaningful_tags)-set(filtered_topics)) for topics in topics_lists]\n",
    "\n",
    "# Count the occurrences of each topic\n",
    "topics_count = Counter([topic for topics in topic_lists for topic in topics])\n",
    "\n",
    "# Create the nested dictionary\n",
    "topics_dict = defaultdict(dict)\n",
    "\n",
    "# Iterate over the topic lists\n",
    "for topic_list in topic_lists:\n",
    "    # Iterate over the elements in the current topic list\n",
    "    for main_topic in topic_list:\n",
    "        # Iterate over the elements in the topic list, excluding the main topic itself\n",
    "        for sub_topic in topic_list:\n",
    "            if sub_topic != main_topic:\n",
    "                topics_dict[main_topic][sub_topic] = topics_dict[main_topic].get(sub_topic, 0) + 1\n",
    "\n",
    "# Create a list to store the pairs\n",
    "pairs = []\n",
    "\n",
    "# Iterate over the keys and sub-dictionaries in topics_dict\n",
    "for main_topic, sub_dict in topics_dict.items():\n",
    "    # Iterate over the sub-topics and their counts in the current sub-dictionary\n",
    "    for sub_topic, count in sub_dict.items():\n",
    "        # Check if the count of the sub-topic matches the count in topics_count\n",
    "        if count == topics_count[sub_topic] and topics_count[sub_topic] < topics_count[main_topic]:\n",
    "            pairs.append((main_topic, sub_topic))\n",
    "\n",
    "# Create dictionaries to store the sub-topics and main topics\n",
    "sub_topic_counts = {}\n",
    "main_topic_dict = {}\n",
    "\n",
    "# Count the occurrences of sub-topics and store the main topics\n",
    "for main, sub in pairs:\n",
    "    sub_topic_counts[sub] = sub_topic_counts.get(sub, 0) + 1\n",
    "    if sub_topic_counts[sub] == 1:\n",
    "        main_topic_dict[sub] = main\n",
    "\n",
    "# Print the main topics and sub-topics\n",
    "for sub_topic, count in sub_topic_counts.items():\n",
    "    if count == 1:\n",
    "        main_topic = main_topic_dict[sub_topic]\n",
    "        print(f\"Main Topic: {main_topic} -> Sub Topic: {sub_topic}\")\n"
   ]
  },
  {
   "cell_type": "code",
   "execution_count": 229,
   "metadata": {},
   "outputs": [
    {
     "data": {
      "text/plain": [
       "[('RIF', 'MARKETS'),\n",
       " ('RIF', 'NRGKEY'),\n",
       " ('RIF', 'CREDITKEY'),\n",
       " ('RIF', 'DEBTKEY'),\n",
       " ('RIF', 'METALKEY'),\n",
       " ('RIF', 'CMDKEY'),\n",
       " ('RIF', 'RATESKEY'),\n",
       " ('RIF', 'EQTY'),\n",
       " ('RIF', 'FXKEY'),\n",
       " ('RIF', 'INF'),\n",
       " ('RIF', 'ECO'),\n",
       " ('RIF', 'FIALL'),\n",
       " ('RIF', 'ECOINDIC'),\n",
       " ('RIF', 'FIASST'),\n",
       " ('RIF', 'ECOSTAT'),\n",
       " ('RIF', 'CMD'),\n",
       " ('RIF', 'CMDMISC'),\n",
       " ('RIF', 'CMDX'),\n",
       " ('CREDITKEY', 'INF'),\n",
       " ('CREDITKEY', 'FIALL'),\n",
       " ('CREDITKEY', 'ECOINDIC'),\n",
       " ('CREDITKEY', 'FIASST'),\n",
       " ('CREDITKEY', 'ECOSTAT'),\n",
       " ('DEBTKEY', 'INF'),\n",
       " ('DEBTKEY', 'FIALL'),\n",
       " ('DEBTKEY', 'ECOINDIC'),\n",
       " ('DEBTKEY', 'FIASST'),\n",
       " ('DEBTKEY', 'ECOSTAT'),\n",
       " ('CMDKEY', 'NRGKEY'),\n",
       " ('CMDKEY', 'CMD'),\n",
       " ('CMDKEY', 'CMDMISC'),\n",
       " ('CMDKEY', 'CMDX'),\n",
       " ('RATESKEY', 'INF'),\n",
       " ('RATESKEY', 'FIALL'),\n",
       " ('RATESKEY', 'ECOINDIC'),\n",
       " ('RATESKEY', 'FIASST'),\n",
       " ('RATESKEY', 'ECOSTAT'),\n",
       " ('ERN', 'MARKETS'),\n",
       " ('ERN', 'RIF'),\n",
       " ('ERN', 'NRGKEY'),\n",
       " ('ERN', 'CREDITKEY'),\n",
       " ('ERN', 'DEBTKEY'),\n",
       " ('ERN', 'METALKEY'),\n",
       " ('ERN', 'CMDKEY'),\n",
       " ('ERN', 'RATESKEY'),\n",
       " ('ERN', 'EQTY'),\n",
       " ('ERN', 'FXKEY'),\n",
       " ('ERN', 'HOU'),\n",
       " ('ERN', 'INF'),\n",
       " ('ERN', 'CONSS'),\n",
       " ('ERN', 'ECO'),\n",
       " ('ERN', 'RET'),\n",
       " ('ERN', 'FIALL'),\n",
       " ('ERN', 'ECOINDIC'),\n",
       " ('ERN', 'FIASST'),\n",
       " ('ERN', 'FOD'),\n",
       " ('ERN', 'ECOSTAT'),\n",
       " ('ERN', 'CMD'),\n",
       " ('ERN', 'CMDMISC'),\n",
       " ('ERN', 'CMDX'),\n",
       " ('ERN', 'CMPPUB'),\n",
       " ('FXKEY', 'INF'),\n",
       " ('FXKEY', 'FIALL'),\n",
       " ('FXKEY', 'ECOINDIC'),\n",
       " ('FXKEY', 'FIASST'),\n",
       " ('FXKEY', 'ECOSTAT'),\n",
       " ('HOU', 'INF'),\n",
       " ('HOU', 'ECO'),\n",
       " ('HOU', 'FIALL'),\n",
       " ('HOU', 'ECOINDIC'),\n",
       " ('HOU', 'FIASST'),\n",
       " ('HOU', 'ECOSTAT'),\n",
       " ('HOU', 'CMD'),\n",
       " ('HOU', 'CMDMISC'),\n",
       " ('HOU', 'CMDX'),\n",
       " ('CONSS', 'INF'),\n",
       " ('CONSS', 'ECO'),\n",
       " ('CONSS', 'FIALL'),\n",
       " ('CONSS', 'ECOINDIC'),\n",
       " ('CONSS', 'FIASST'),\n",
       " ('CONSS', 'ECOSTAT'),\n",
       " ('CONSS', 'CMD'),\n",
       " ('CONSS', 'CMDMISC'),\n",
       " ('CONSS', 'CMDX'),\n",
       " ('ECO', 'INF'),\n",
       " ('ECO', 'FIALL'),\n",
       " ('ECO', 'ECOINDIC'),\n",
       " ('ECO', 'FIASST'),\n",
       " ('ECO', 'ECOSTAT'),\n",
       " ('RET', 'INF'),\n",
       " ('RET', 'ECO'),\n",
       " ('RET', 'FIALL'),\n",
       " ('RET', 'ECOINDIC'),\n",
       " ('RET', 'FIASST'),\n",
       " ('RET', 'ECOSTAT'),\n",
       " ('RET', 'CMD'),\n",
       " ('RET', 'CMDMISC'),\n",
       " ('RET', 'CMDX'),\n",
       " ('FOD', 'INF'),\n",
       " ('FOD', 'ECO'),\n",
       " ('FOD', 'FIALL'),\n",
       " ('FOD', 'ECOINDIC'),\n",
       " ('FOD', 'FIASST'),\n",
       " ('FOD', 'ECOSTAT'),\n",
       " ('FOD', 'CMD'),\n",
       " ('FOD', 'CMDMISC'),\n",
       " ('FOD', 'CMDX'),\n",
       " ('CMD', 'CMDMISC'),\n",
       " ('CMD', 'CMDX')]"
      ]
     },
     "execution_count": 229,
     "metadata": {},
     "output_type": "execute_result"
    }
   ],
   "source": [
    "pairs"
   ]
  },
  {
   "cell_type": "code",
   "execution_count": 160,
   "metadata": {},
   "outputs": [],
   "source": [
    "topics=[]\n",
    "for topic_list in topics_lists:\n",
    "    if topic not in topics:\n",
    "        topics.append(topic)"
   ]
  },
  {
   "cell_type": "code",
   "execution_count": 193,
   "metadata": {},
   "outputs": [
    {
     "data": {
      "text/plain": [
       "14"
      ]
     },
     "execution_count": 193,
     "metadata": {},
     "output_type": "execute_result"
    }
   ],
   "source": [
    "len(list(set(mains+subs)))"
   ]
  },
  {
   "cell_type": "code",
   "execution_count": 194,
   "metadata": {},
   "outputs": [
    {
     "data": {
      "text/plain": [
       "5"
      ]
     },
     "execution_count": 194,
     "metadata": {},
     "output_type": "execute_result"
    }
   ],
   "source": [
    "len(sub)"
   ]
  },
  {
   "cell_type": "code",
   "execution_count": 192,
   "metadata": {},
   "outputs": [],
   "source": [
    "mains=[]\n",
    "for main, sub in pairs:\n",
    "    if main not in mains:\n",
    "        mains.append(main)\n",
    "subs=[]\n",
    "for main, sub in pairs:\n",
    "    if sub not in subs:\n",
    "        subs.append(sub)"
   ]
  },
  {
   "cell_type": "code",
   "execution_count": 120,
   "metadata": {},
   "outputs": [
    {
     "data": {
      "text/plain": [
       "13"
      ]
     },
     "execution_count": 120,
     "metadata": {},
     "output_type": "execute_result"
    }
   ],
   "source": [
    "len(mains)"
   ]
  },
  {
   "cell_type": "code",
   "execution_count": 179,
   "metadata": {},
   "outputs": [
    {
     "name": "stdout",
     "output_type": "stream",
     "text": [
      "FILINGS\n",
      "EDG\n",
      "GUIDANCE\n",
      "EDGSDR\n",
      "EDGWEB\n",
      "CFDOCS\n"
     ]
    }
   ],
   "source": [
    "for i in topic_tags:\n",
    "    if i not in list(set(mains+subs)):\n",
    "        print(i)\n"
   ]
  },
  {
   "attachments": {},
   "cell_type": "markdown",
   "metadata": {},
   "source": [
    "By observation below, RET must go with ERN "
   ]
  },
  {
   "cell_type": "code",
   "execution_count": 122,
   "metadata": {},
   "outputs": [
    {
     "name": "stdout",
     "output_type": "stream",
     "text": [
      "MCDONALD'S 4Q COMP SALES +12.3%, EST. +10.7%.\n",
      "MCDONALD'S FALLS 2.9% AFTER 4Q EPS, REVENUE TRAIL ESTIMATES.\n",
      "MCD CEO: RISING INFLATION IS PUTTING PRESSURE ON RESTAURANTS.\n",
      "MCDONALD'S CEO CHRIS KEMPCZINSKI SPEAKS ON EARNINGS CALL.\n",
      "MCDONALD'S: GERMANY, FRANCE RECOVERY HURT BY COVID RESURGENCES.\n",
      "MCD: OPERATING CONDITIONS STILL CHALLENGING IN GERMANY, FRANCE.\n",
      "MCD: CHINA 4Q RESULTS HURT BY GOVERNMENT COVID RESTRICTIONS.\n",
      "MCD SEES 'SIGNIFICANT' COMMODITY, LABOR INFLATION IN NEAR TERM.\n",
      "MCDONALD'S SEES NET NEW RESTAURANT GROWTH IN U.S. IN 2022.\n",
      "MCDONALD'S SAYS 1% OF U.S. RESTAURANTS HAVE LIMITED HOURS.\n",
      "MCDONALD'S SAYS U.S. MARKET STILL FACING STAFFING PROBLEMS.\n",
      "MCDONALD'S: OMICRON MADE STAFFING MORE DIFFICULT IN U.S.\n",
      "MCDONALD'S CFO: THERE IS COMMODITY PRESSURE GOING INTO 2022.\n",
      "MCDONALD'S CEO SEES CONTINUED WAGE PRESSURE THIS YEAR.\n",
      "MCDONALD'S U.S. DRIVE-THRU TIMES SLOWED IN 2021 VERSUS 2020.\n",
      "MCDONALD'S 1Q ADJ EPS $2.28, EST. $2.17.\n",
      "MCDONALD'S 1Q REV. $5.67B, EST. $5.57B.\n",
      "MCDONALD'S 1Q COMP SALES +11.8%, EST. +8.73%.\n",
      "MCDONALD'S 1Q INCLUDES 13C/SHARE COST FOR RUSSIA, UKRAINE OPS.\n",
      "MCDONALD'S 1Q US COMP SALES +3.5%, EST. +3.59%.\n",
      "MCDONALD'S CEO: STORES IN RUSSIA, UKRAINE REMAIN CLOSED.\n",
      "MCDONALD'S CEO CHRIS KEMPCZINSKI COMMENTS ON EARNINGS CALL.\n",
      "MCDONALD'S SAYS MCPLANT BURGER HELPED 1Q SALES IN U.K.\n",
      "MCDONALD'S: SOME STORES IN CHINA STILL CLOSED DUE TO COVID.\n",
      "MCDONALD'S LOYALTY CUSTOMER COUNTS ARE EXCEEDING COMPANY GOALS.\n",
      "MCDONALD'S 1Q COMPANY MARGIN HURT BY COMMODITY, LABOR INFLATION.\n",
      "MCDONALD'S CEO SAYS AVERAGE CHECKS HAVE DECLINED IN U.S.\n",
      "MCDONALD'S: THERE'S BEEN A LITTLE TRADE-DOWN IN CERTAIN AREAS.\n",
      "MCDONALD'S SEES U.S. COMMODITY INFLATION OF 12%-14% THIS YR.\n",
      "MCDONALD'S: FOOD, PAPER INFLATION HAS INCREASED SUBSTANTIALLY.\n",
      "MCDONALD'S SAYS CONSUMERS ARE NOT RESISTING HIGHER PRICES.\n",
      "MCDONALD'S: 1Q CUSTOMER COUNTS DOWN ABOUT 1% IN U.S.\n",
      "MCDONALD'S CEO: BROADLY THE U.S. CONSUMER IS 'IN GOOD SHAPE'.\n",
      "MCDONALD'S CEO: LOWER-INCOME CONSUMERS BEING MORE VALUE FOCUSED.\n",
      "MCDONALD'S 2Q COMP SALES +9.7%, EST. +7.5%.\n",
      "MCDONALD'S 2Q REV. $5.72B, EST. $5.82B.\n",
      "MCDONALD'S 2Q ADJ EPS $2.55, EST. $2.46.\n",
      "MCDONALD'S RESULTS INCLUDED $1.2B OF CHARGES.\n",
      "MCDONALD'S RESULTS INCLUDED $1.2B OF CHARGES ON RUSSIA.\n",
      "MCDONALD'S 2Q US COMP SALES +3.7%, EST. +2.98%.\n",
      "MCDONALD'S 3Q COMP SALES +9.5%, EST. +5.8%.\n",
      "MCDONALD'S 3Q US COMP SALES +6.1%, EST. +3.7%.\n",
      "MCDONALD'S 3Q ADJ EPS $2.68, EST. $2.57.\n",
      "MCDONALD'S 3Q REV. $5.87B, EST. $5.7B.\n",
      "MCDONALD’S SHARES RISE 1.8% AFTER 3Q COMPARABLE SALES BEAT.\n",
      "MCDONALD'S SEES YR OPER MARGIN IN 40% RANGE.\n",
      "MCDONALD'S CEO SEES MILD TO MODERATE RECESSION IN THE US.\n",
      "MCDONALD'S CEO CHRIS KEMPCZINSKI SPEAKS ON EARNINGS WEBCAST.\n",
      "MCDONALD'S CEO SEES MORE SIGNIFICANT RECESSION IN EUROPE.\n",
      "MCDONALD'S SAYS FRANCHISEES UNDER FINANCIAL PRESSURE IN EUROPE.\n",
      "MCDONALD'S CFO: STILL A CHALLENGING ENVIRONMENT IN CHINA.\n",
      "MCDONALD'S CEO SEES INCREASING UNCERTAINTY, UNEASE IN ECONOMY.\n",
      "MCDONALD'S SEES OCTOBER US COMP SALES UP IN LOW DOUBLE DIGITS.\n",
      "MCDONALD'S SEES INFLATION HURTING MARGIN FOR SEVERAL QUARTERS.\n",
      "MCDONALD'S SEEING COMMODITY, WAGE, UTILITY COST INFLATION.\n",
      "MCDONALD'S SEES 2022 CAPEX OF ABOUT $2 BILLION.\n",
      "MCDONALD'S SEEING HIGHER FOOD, PAPER, ENERGY COSTS IN EUROPE.\n",
      "MCDONALD'S CEO SEES FOOD, PAPER, WAGE INFLATION INTO 2023.\n",
      "MCDONALD'S SAYS US MENU PRICES ARE UP ABOUT 10%.\n",
      "MCDONALD'S: US CONSUMERS TRADING DOWN FROM MEALS TO VALUE ITEMS.\n",
      "MCDONALD'S: TRADING DOWN ON MENU COMING FROM LOW-INCOME DINERS.\n"
     ]
    }
   ],
   "source": [
    "print_headlines_by_topics(filtered_df, ['ERN'])"
   ]
  },
  {
   "cell_type": "code",
   "execution_count": null,
   "metadata": {},
   "outputs": [],
   "source": [
    "filtered_df['topics']=filtered_df['topics'].apply(lambda x: list(set(mains).intersection(set(x.split(' ')))))"
   ]
  },
  {
   "cell_type": "code",
   "execution_count": 195,
   "metadata": {},
   "outputs": [],
   "source": [
    "filtered_df['intersection'] = filtered_df['topics'].apply(lambda x: list(set(mains).intersection(set(x.split(' ')))))\n",
    "filtered_df['intersection_sub'] = filtered_df['topics'].apply(lambda x: list(set(subs).intersection(set(x.split(' ')))))\n",
    "filtered_df['tags'] = filtered_df['topics'].apply(lambda x: list(set(topic_tags).intersection(set(x.split(' ')))))"
   ]
  },
  {
   "cell_type": "code",
   "execution_count": 196,
   "metadata": {},
   "outputs": [],
   "source": [
    "with open('/mnt/research-live/user/yzhong/MCD_UN_topics_2015.txt', 'w') as f:\n",
    "    for row in filtered_df.itertuples():\n",
    "        f.write(str(row.tags) + '\\n')"
   ]
  },
  {
   "cell_type": "code",
   "execution_count": 204,
   "metadata": {},
   "outputs": [],
   "source": [
    "list1=filtered_df[filtered_df['headline']==\"MCDONALD'S 3Q REV. $6.62B EST. $6.41B.\"].topics.str.split(' ').sum()\n",
    "intersection = set(mains).intersection(list1)"
   ]
  },
  {
   "attachments": {},
   "cell_type": "markdown",
   "metadata": {},
   "source": [
    "### The main topics"
   ]
  },
  {
   "cell_type": "code",
   "execution_count": 26,
   "metadata": {},
   "outputs": [],
   "source": [
    "mains=[]\n",
    "for main, sub in pairs:\n",
    "    if main not in mains:\n",
    "        mains.append(main)\n",
    "subs=[]\n",
    "for main, sub in pairs:\n",
    "    if sub not in subs:\n",
    "        subs.append(sub)"
   ]
  },
  {
   "cell_type": "code",
   "execution_count": 28,
   "metadata": {},
   "outputs": [
    {
     "data": {
      "text/plain": [
       "43"
      ]
     },
     "execution_count": 28,
     "metadata": {},
     "output_type": "execute_result"
    }
   ],
   "source": [
    "len(mains)"
   ]
  },
  {
   "cell_type": "code",
   "execution_count": 27,
   "metadata": {},
   "outputs": [],
   "source": [
    "subs=[]\n",
    "for main, sub in pairs:\n",
    "    if sub not in subs:\n",
    "        subs.append(sub)"
   ]
  },
  {
   "cell_type": "code",
   "execution_count": 208,
   "metadata": {},
   "outputs": [
    {
     "data": {
      "text/plain": [
       "95"
      ]
     },
     "execution_count": 208,
     "metadata": {},
     "output_type": "execute_result"
    }
   ],
   "source": [
    "len(subs)"
   ]
  },
  {
   "cell_type": "code",
   "execution_count": 251,
   "metadata": {},
   "outputs": [
    {
     "name": "stdout",
     "output_type": "stream",
     "text": [
      "MCDONALD'S 4Q GLOBAL SAME-STORE SALES DOWN 0.9%.\n",
      "MCDONALD'S 4Q REV. $6.57B.\n",
      "MCDONALD'S 4Q EPS $1.13.\n",
      "MCDONALD'S 4Q REV. $6.57B EST. $6.67B.\n",
      "MCDONALD’S 4Q REV. $6.57B EST. $6.67B.\n",
      "MCDONALD'S 4Q GLOBAL COMP SALES DOWN 1%.\n",
      "MCDONALD'S 4Q GLOBAL COMP SALES DOWN 1.0%,.\n",
      "MCDONALD'S SEES JAN. COMP SALES TO BE NEGATIVE.\n",
      "MCDONALD'S 4Q GLOBAL COMP SALES DOWN 1% EST. DOWN. 1.5%.\n",
      "MCDONALD'S 4Q GLOBAL COMP SALES DOWN 1.0%, EST. DOWN 1.5%.\n",
      "MCDONALD'S 2015 CAPITAL SPENDING PLAN $2B.\n",
      "MCDONALD'S 4Q GLOBAL COMP SALES DOWN 0.9%.\n",
      "MCDONALD'S 4Q GLOBAL COMP SALES DOWN 0.9% EST. DOWN 1.5%.\n",
      "MCDONALD'S 2015 CAPITAL SPENDING PLAN, LOWEST IN OVER 5.\n",
      "MCDONALD'S 4Q EPS $1.13, EST. $1.22.\n",
      "CORRECT: MCDONALD'S 4Q GLOBAL COMP SALES DOWN 0.9%.\n",
      "CORRECT: MCDONALD'S 4Q GLOBAL COMP DOWN 0.9%, EST. DOWN 1.5%.\n",
      "MCD SEES RESULTS TO REMAIN PRESSURED, PARTICULARLY IN 1H.\n",
      "MCDONALD'S TARGETING FEWER OPENINGS IN MOST CHALLENGED MARKETS.\n",
      "MCD TAKING `DECISIVE ACTION' TO REGAIN MOMENTUM IN SALES.\n",
      "MCDONALD'S 4Q U.S. COMP SALES DOWN 1.7%, EST. DOWN 2.1%.\n",
      "MCDONALD'S 4Q GLOBAL COMP DOWN 0.9%, EST. DOWN 1.5%.\n",
      "MCDONALD'S 4Q EUROPE COMP SALES DOWN 1.1%, EST. DOWN 1.3%.\n",
      "MCD TARGETING FEWER OPENINGS IN MOST CHALLENGED MARKETS.\n",
      "MCDONALD'S 4Q APMEA COMP SALES DOWN 4.8%, EST. DOWN 4.6%.\n",
      "MCD SETS $2B CAPITAL SPENDING PLAN IN '15, LOWEST IN OVER 5 YRS.\n",
      "MCDONALD'S 4Q EPS CUT 4C ON BOOST IN TAX RESERVES.\n",
      "MCDONALD'S 4Q EPS CUT 9C ON SUPPLIER ISSUE IN CHINA.\n",
      "MCDONALDS 4Q HURT BY NEGATIVE FOREIGN CURRENCY EFFECT 8C/SHR.\n",
      "MCDONALD'S 1Q GLOBAL SAME-STORE SALES DOWN 2.3%.\n",
      "MCDONALD'S 1Q REV. $5.96B.\n",
      "MCDONALD'S 1Q EPS 84C.\n",
      "MCDONALD'S 1Q REV. $5.96B EST. $5.95B.\n",
      "MCDONALD’S 1Q REV. $5.96B EST. $5.95B.\n",
      "MCDONALD'S 1Q INCL CHARGES 17C.\n",
      "MCDONALD'S 1Q INCLUDES STRATEGIC CHARGES OF $0.17/SHR.\n",
      "MCDONALD'S 1Q INCL CHARGES 17C, FX NEGATIVE EFFECT 9C.\n",
      "MCD 1Q GLOBAL COMP SALES DECREASE OF 2.3%,, EST. DOWN 1.8%.\n",
      "MCDONALD'S SES APRIL GLOBAL COMP SALES NEGATIVE.\n",
      "MCDONALD'S APRIL GLOBAL COMP SALES ARE EXPECTED TO BE NEGATIVE.\n",
      "MCDONALD'S SEES APRIL GLOBAL COMP SALES TO BE NEGATIVE.\n",
      "MCD 1Q U.S. COMP SALES FELL 2.6%, EST. DOWN 2.1%.\n",
      "MCDONALD'S 1Q EPS EX STRATEGIC CHARGES $1.01.\n",
      "MCD 1Q EUROPE COMP SALES DECLINED 0.6%, EST. DOWN 0.2%.\n",
      "MCDONALD'S 1Q EPS EX CHARGES $1.01, EST. $1.06.\n",
      "MCD 1Q APMEA COMP SALES FELL 8.3%, EST. DOWN 6.5%.\n",
      "MCDONALD'S TO SHARE DETAILS OF TURNAROUND PLAN MAY 4.\n",
      "MCDONALD'S 1Q EPS EX CHARGES $1.01, EST. $1.06.\n",
      "MCD DEVELOPING TURNAROUND PLAN, INITIAL PLAN DETAILS ON MAY 4.\n",
      "MCDONALD'S 2Q GLOBAL COMP SALES DECREASE OF 0.7%,EST. DOWN 0.4%.\n",
      "MCDONALD'S 2Q EPS $1.26 INCL $45M CHARGES.\n",
      "MCDONALD'S: UNDERGONE SIGNIFICANT ORGANIZATIONAL CHANGE.\n",
      "MCDONALD’S 2Q GLOBAL COMP SALES DECREASE OF 0.7%,EST. DOWN 0.4%.\n",
      "MCDONALD'S SEES POSITIVE GLOBAL COMP SALES IN 3Q.\n",
      "MCDONALD'S 2Q U.S. COMP SALES FELL 2.0%, EST. DOWN 1.5%.\n",
      "MCDONALD'S EXPECT POSITIVE GLOBAL COMP SALES IN 3Q.\n",
      "MCDONALD'S: STREAMLINING OUR GLOBAL RESOURCES.\n",
      "MCDONALD'S 2Q EUROPE COMP SALES INCREASED 1.2%, EST. UP 1.5%.\n",
      "MCDONALD'S SAYS 2Q RESULTS 'DISAPPOINTING'.\n",
      "MCDONALD'S 2Q EPS $1.26 WITH CHARGE, BEATS EST. $1.23.\n",
      "MCDONALD'S 2Q EPS $1.26 WITH CHARGE, BEATS EST. $1.23.\n",
      "MCDONALD'S 2Q APMEA COMP SALES DOWN 4.5%, EST. DOWN 3.4%.\n",
      "MCDONALD'S 2Q REV. $6.50B, EST. $6.43B.\n",
      "MCDONALD'S: FX HAD A NEGATIVE EFFECT OF $0.13 ON QTR EPS.\n",
      "MCDONALD'S SEES REFRANCHISING 3,500 RESTAURANTS BY END 2018.\n",
      "MCD TURNAROUND INCL REFRANCHISE 3,500 RESTAURANTS BY END 2018.\n",
      "MCD SEES ACHIEVING $300M OF NET ANNUAL SAVINGS SG&A BY END 2017.\n",
      "MCDONALD'S SEES 4Q COMP SALES TO BE POSITIVE IN ALL SEGMENTS.\n",
      "MCDONALD'S SEES COMP SALES POSITIVE IN ALL SEGMENTS INTO 4Q.\n",
      "MCDONALD'S 3Q GLOBAL COMP SALES UP 4.0%, EST. UP 1.9%.\n",
      "MCDONALD'S 3Q HURT BY 17C/SHR ON FX TRANSLATION.\n",
      "MCDONALD'S REPEATS TARGETED RETURN OF $8B-9B TO HOLDERS IN '15.\n",
      "MCDONALD'S 3Q U.S. COMP SALES UP 0.9%, EST. DOWN 0.2%.\n",
      "MCDONALD'S 3Q EPS $1.40 WITH 17C FX TRANSLATION, EST. $1.27.\n",
      "MCDONALD'S 3Q INTL LEAD MARKETS COMPS UP 4.6%, EST. UP 3.4%.\n",
      "MCDONALD'S 3Q EPS $1.40 WITH 17C FX TRANSLATION, EST. $1.27.\n",
      "MCDONALD'S 3Q HIGH GROWTH MARKETS COMPS UP 8.9%, EST. UP 4.7%.\n",
      "MCDONALD'S 3Q EPS $1.40, EST. $1.27.\n"
     ]
    }
   ],
   "source": [
    "print_headlines_by_topics(filtered_df, ['ERN','FINNEWS'])"
   ]
  },
  {
   "cell_type": "code",
   "execution_count": 250,
   "metadata": {},
   "outputs": [
    {
     "name": "stdout",
     "output_type": "stream",
     "text": [
      "MCDONALD'S 4Q GLOBAL SAME-STORE SALES DOWN 0.9%.\n",
      "MCDONALD'S 4Q REV. $6.57B.\n",
      "MCDONALD'S 4Q EPS $1.13.\n",
      "MCDONALD'S 4Q REV. $6.57B EST. $6.67B.\n",
      "MCDONALD’S 4Q REV. $6.57B EST. $6.67B.\n",
      "MCDONALD'S 1Q GLOBAL SAME-STORE SALES DOWN 2.3%.\n",
      "MCDONALD'S 1Q REV. $5.96B.\n",
      "MCDONALD'S 1Q EPS 84C.\n",
      "MCDONALD'S 1Q REV. $5.96B EST. $5.95B.\n",
      "MCDONALD’S 1Q REV. $5.96B EST. $5.95B.\n",
      "MCDONALD'S 2Q GLOBAL SAME-STORE SALES DOWN 0.7%.\n",
      "MCDONALD'S 2Q U.S. SAME-STORE SALES DOWN 2%.\n",
      "MCDONALD'S 2Q REV. $6.50B.\n",
      "MCDONALD'S 2Q EPS $1.26.\n",
      "MCDONALD'S 2Q REV. $6.50B EST. $6.43B.\n",
      "MCDONALD'S 3Q REV. $6.62B.\n",
      "MCDONALD'S 3Q EPS $1.40.\n",
      "MCDONALD'S 3Q REV. $6.62B EST. $6.41B.\n",
      "MCDONALD’S 3Q REV. $6.62B EST. $6.41B.\n"
     ]
    }
   ],
   "source": [
    "print_headlines_by_topics(filtered_df, ['ERN','HEADGEN'])"
   ]
  },
  {
   "cell_type": "code",
   "execution_count": 181,
   "metadata": {},
   "outputs": [
    {
     "name": "stdout",
     "output_type": "stream",
     "text": [
      "MCDONALD'S 1Q INCL CHARGES 17C.\n",
      "MCDONALD'S 1Q INCLUDES STRATEGIC CHARGES OF $0.17/SHR.\n",
      "MCDONALD'S 1Q INCL CHARGES 17C, FX NEGATIVE EFFECT 9C.\n",
      "MCD 1Q GLOBAL COMP SALES DECREASE OF 2.3%,, EST. DOWN 1.8%.\n",
      "MCDONALD'S SES APRIL GLOBAL COMP SALES NEGATIVE.\n",
      "MCDONALD'S APRIL GLOBAL COMP SALES ARE EXPECTED TO BE NEGATIVE.\n",
      "MCDONALD'S SEES APRIL GLOBAL COMP SALES TO BE NEGATIVE.\n",
      "MCD 1Q U.S. COMP SALES FELL 2.6%, EST. DOWN 2.1%.\n",
      "MCDONALD'S 1Q EPS EX STRATEGIC CHARGES $1.01.\n",
      "MCD 1Q EUROPE COMP SALES DECLINED 0.6%, EST. DOWN 0.2%.\n",
      "MCDONALD'S 1Q EPS EX CHARGES $1.01, EST. $1.06.\n",
      "MCD 1Q APMEA COMP SALES FELL 8.3%, EST. DOWN 6.5%.\n",
      "MCDONALD'S TO SHARE DETAILS OF TURNAROUND PLAN MAY 4.\n",
      "MCDONALD'S 1Q EPS EX CHARGES $1.01, EST. $1.06.\n",
      "MCD DEVELOPING TURNAROUND PLAN, INITIAL PLAN DETAILS ON MAY 4.\n",
      "MCDONALD'S 2Q GLOBAL COMP SALES DECREASE OF 0.7%,EST. DOWN 0.4%.\n",
      "MCDONALD’S 2Q GLOBAL COMP SALES DECREASE OF 0.7%,EST. DOWN 0.4%.\n",
      "MCDONALD'S 2Q EUROPE COMP SALES INCREASED 1.2%, EST. UP 1.5%.\n"
     ]
    }
   ],
   "source": [
    "print_headlines_by_topics(filtered_df, ['EST'])"
   ]
  },
  {
   "attachments": {},
   "cell_type": "markdown",
   "metadata": {},
   "source": [
    "### The sub topics that must appear together"
   ]
  },
  {
   "cell_type": "code",
   "execution_count": 18,
   "metadata": {},
   "outputs": [
    {
     "data": {
      "text/plain": [
       "110"
      ]
     },
     "execution_count": 18,
     "metadata": {},
     "output_type": "execute_result"
    }
   ],
   "source": [
    "len(topic_lists)"
   ]
  },
  {
   "cell_type": "code",
   "execution_count": 49,
   "metadata": {},
   "outputs": [
    {
     "data": {
      "text/html": [
       "<div>\n",
       "<style scoped>\n",
       "    .dataframe tbody tr th:only-of-type {\n",
       "        vertical-align: middle;\n",
       "    }\n",
       "\n",
       "    .dataframe tbody tr th {\n",
       "        vertical-align: top;\n",
       "    }\n",
       "\n",
       "    .dataframe thead th {\n",
       "        text-align: right;\n",
       "    }\n",
       "</style>\n",
       "<table border=\"1\" class=\"dataframe\">\n",
       "  <thead>\n",
       "    <tr style=\"text-align: right;\">\n",
       "      <th></th>\n",
       "      <th>headline</th>\n",
       "      <th>topics</th>\n",
       "    </tr>\n",
       "  </thead>\n",
       "  <tbody>\n",
       "    <tr>\n",
       "      <th>0</th>\n",
       "      <td>MCDONALD'S 4Q GLOBAL SAME-STORE SALES DOWN 0.9%.</td>\n",
       "      <td>[FINNEWS]</td>\n",
       "    </tr>\n",
       "    <tr>\n",
       "      <th>1</th>\n",
       "      <td>MCDONALD'S 4Q REV. $6.57B.</td>\n",
       "      <td>[FINNEWS]</td>\n",
       "    </tr>\n",
       "    <tr>\n",
       "      <th>2</th>\n",
       "      <td>MCDONALD'S 4Q EPS $1.13.</td>\n",
       "      <td>[FINNEWS]</td>\n",
       "    </tr>\n",
       "    <tr>\n",
       "      <th>3</th>\n",
       "      <td>MCDONALD'S 4Q REV. $6.57B EST. $6.67B.</td>\n",
       "      <td>[FINNEWS]</td>\n",
       "    </tr>\n",
       "    <tr>\n",
       "      <th>4</th>\n",
       "      <td>MCDONALD’S 4Q REV. $6.57B EST. $6.67B.</td>\n",
       "      <td>[FINNEWS]</td>\n",
       "    </tr>\n",
       "    <tr>\n",
       "      <th>...</th>\n",
       "      <td>...</td>\n",
       "      <td>...</td>\n",
       "    </tr>\n",
       "    <tr>\n",
       "      <th>96</th>\n",
       "      <td>MCDONALD'S 3Q U.S. COMP SALES UP 0.9%, EST. DO...</td>\n",
       "      <td>[FINNEWS]</td>\n",
       "    </tr>\n",
       "    <tr>\n",
       "      <th>97</th>\n",
       "      <td>MCDONALD'S 3Q EPS $1.40 WITH 17C FX TRANSLATIO...</td>\n",
       "      <td>[FINNEWS]</td>\n",
       "    </tr>\n",
       "    <tr>\n",
       "      <th>98</th>\n",
       "      <td>MCDONALD'S 3Q INTL LEAD MARKETS COMPS UP 4.6%,...</td>\n",
       "      <td>[FINNEWS]</td>\n",
       "    </tr>\n",
       "    <tr>\n",
       "      <th>99</th>\n",
       "      <td>MCDONALD'S 3Q HIGH GROWTH MARKETS COMPS UP 8.9...</td>\n",
       "      <td>[FINNEWS]</td>\n",
       "    </tr>\n",
       "    <tr>\n",
       "      <th>100</th>\n",
       "      <td>MCDONALD'S 3Q EPS $1.40, EST. $1.27.</td>\n",
       "      <td>[FINNEWS]</td>\n",
       "    </tr>\n",
       "  </tbody>\n",
       "</table>\n",
       "<p>101 rows × 2 columns</p>\n",
       "</div>"
      ],
      "text/plain": [
       "                                              headline     topics\n",
       "0     MCDONALD'S 4Q GLOBAL SAME-STORE SALES DOWN 0.9%.  [FINNEWS]\n",
       "1                           MCDONALD'S 4Q REV. $6.57B.  [FINNEWS]\n",
       "2                             MCDONALD'S 4Q EPS $1.13.  [FINNEWS]\n",
       "3               MCDONALD'S 4Q REV. $6.57B EST. $6.67B.  [FINNEWS]\n",
       "4               MCDONALD’S 4Q REV. $6.57B EST. $6.67B.  [FINNEWS]\n",
       "..                                                 ...        ...\n",
       "96   MCDONALD'S 3Q U.S. COMP SALES UP 0.9%, EST. DO...  [FINNEWS]\n",
       "97   MCDONALD'S 3Q EPS $1.40 WITH 17C FX TRANSLATIO...  [FINNEWS]\n",
       "98   MCDONALD'S 3Q INTL LEAD MARKETS COMPS UP 4.6%,...  [FINNEWS]\n",
       "99   MCDONALD'S 3Q HIGH GROWTH MARKETS COMPS UP 8.9...  [FINNEWS]\n",
       "100               MCDONALD'S 3Q EPS $1.40, EST. $1.27.  [FINNEWS]\n",
       "\n",
       "[101 rows x 2 columns]"
      ]
     },
     "execution_count": 49,
     "metadata": {},
     "output_type": "execute_result"
    }
   ],
   "source": [
    "create_small_dataframe(filtered_df, 90,100)"
   ]
  }
 ],
 "metadata": {
  "kernelspec": {
   "display_name": "yihan_gpu",
   "language": "python",
   "name": "python3"
  },
  "language_info": {
   "codemirror_mode": {
    "name": "ipython",
    "version": 3
   },
   "file_extension": ".py",
   "mimetype": "text/x-python",
   "name": "python",
   "nbconvert_exporter": "python",
   "pygments_lexer": "ipython3",
   "version": "3.8.11"
  },
  "orig_nbformat": 4
 },
 "nbformat": 4,
 "nbformat_minor": 2
}
