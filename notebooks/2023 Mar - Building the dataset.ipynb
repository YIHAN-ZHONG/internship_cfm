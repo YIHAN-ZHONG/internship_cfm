{
 "cells": [
  {
   "cell_type": "markdown",
   "metadata": {},
   "source": [
    "---\n",
    "title: Chinese NLP datasets\n",
    "collapse: 3\n",
    "parent: 2023 / 03 (Asia)\n",
    "---"
   ]
  },
  {
   "cell_type": "markdown",
   "metadata": {},
   "source": [
    "In this notebook, I build the dataset of news articles in Chinese."
   ]
  },
  {
   "cell_type": "code",
   "execution_count": 1,
   "metadata": {},
   "outputs": [],
   "source": [
    "%load_ext autoreload\n",
    "%autoreload 2\n",
    "%matplotlib inline"
   ]
  },
  {
   "cell_type": "markdown",
   "metadata": {},
   "source": [
    "#  Setup"
   ]
  },
  {
   "cell_type": "markdown",
   "metadata": {},
   "source": [
    "## Usual packages"
   ]
  },
  {
   "cell_type": "code",
   "execution_count": 2,
   "metadata": {},
   "outputs": [
    {
     "name": "stdout",
     "output_type": "stream",
     "text": [
      "finish\n"
     ]
    }
   ],
   "source": [
    "import os\n",
    "import numpy as np\n",
    "import pandas as pd\n",
    "from pathlib import Path\n",
    "from tqdm.auto import tqdm\n",
    "from matplotlib import pyplot as plt\n",
    "import seaborn  as sns\n",
    "import yaml\n",
    "\n",
    "import data_accessor.pyarrow as dap\n",
    "print('finish')"
   ]
  },
  {
   "cell_type": "code",
   "execution_count": 3,
   "metadata": {},
   "outputs": [],
   "source": [
    "import pandas as pd\n",
    "from pathlib import Path\n",
    "import cfm_datatree as io"
   ]
  },
  {
   "cell_type": "code",
   "execution_count": 15,
   "metadata": {},
   "outputs": [],
   "source": [
    "dastart='20081101'\n",
    "daend='20230601'\n",
    "POOLS = ['CFM_AMER']\n",
    "path = Path('/mnt/research-live/equity/reference/equity_data/sa_research/current')\n",
    "mret = {p: io.load(path /p / 'research_data', selection='markowitz_neutral_vol_financed_total_returns',\n",
    "                       dastart=dastart, daend=daend).dropna(how='all', axis=1)\n",
    "            for p in POOLS}"
   ]
  },
  {
   "cell_type": "code",
   "execution_count": 16,
   "metadata": {},
   "outputs": [],
   "source": [
    "df_returns=mret['CFM_AMER']"
   ]
  },
  {
   "cell_type": "code",
   "execution_count": 17,
   "metadata": {},
   "outputs": [],
   "source": [
    "df_returns.to_parquet('/mnt/research-live/user/yzhong/bloomberg_news_returns_AMER.parquet')"
   ]
  },
  {
   "cell_type": "markdown",
   "metadata": {},
   "source": [
    "## Bloomberg news"
   ]
  },
  {
   "cell_type": "markdown",
   "metadata": {},
   "source": [
    "### Extract and write data"
   ]
  },
  {
   "cell_type": "markdown",
   "metadata": {},
   "source": [
    "Extracting all the Bloomberg articles take about 20 mins. There are 3.8 millions articles."
   ]
  },
  {
   "cell_type": "code",
   "execution_count": 2,
   "metadata": {},
   "outputs": [
    {
     "name": "stdout",
     "output_type": "stream",
     "text": [
      "['/home/yzhong/notebooks/getting_started', '/mnt/research-live/platform-kernels/platform-current/lib/python38.zip', '/mnt/research-live/platform-kernels/platform-current/lib/python3.8', '/mnt/research-live/platform-kernels/platform-current/lib/python3.8/lib-dynload', '', '/home/yzhong/.local/lib/python3.8/site-packages', '/mnt/research-live/platform-kernels/platform-current/lib/python3.8/site-packages', '/mnt/research-live/platform-kernels/platform-current/lib/python3.8/site-packages/Crowd-1.0.1-py3.8.egg', '/mnt/research-live/platform-kernels/platform-current/lib/python3.8/site-packages/avro-1.10.2-py3.8.egg', '/mnt/research-live/platform-kernels/platform-current/lib/python3.8/site-packages/cargho_tools-0.2.6-py3.8.egg', '/mnt/research-live/platform-kernels/platform-current/lib/python3.8/site-packages/cfm_authorizations-1.0.0-py3.8.egg', '/mnt/research-live/platform-kernels/platform-current/lib/python3.8/site-packages/cfm_plotly-1.1.0-py3.8.egg', '/mnt/research-live/platform-kernels/platform-current/lib/python3.8/site-packages/duna_service-1.2.2-py3.8.egg', '/mnt/research-live/platform-kernels/platform-current/lib/python3.8/site-packages/pangho-2101.0.0-py3.8.egg', '/mnt/research-live/platform-kernels/platform-current/lib/python3.8/site-packages/pargho-2101.0.0-py3.8.egg', '/mnt/research-live/platform-kernels/platform-current/lib/python3.8/site-packages/path.py-8.2-py3.8.egg', '/mnt/research-live/platform-kernels/platform-current/lib/python3.8/site-packages/prompt_toolkit-3.0.24-py3.8.egg', '/mnt/research-live/platform-kernels/platform-current/lib/python3.8/site-packages/pycargho_helpers-0.1.8-py3.8.egg', '/mnt/research-live/platform-kernels/platform-current/lib/python3.8/site-packages/python_ptrace-0.9.2-py3.8.egg', '/mnt/research-live/platform-kernels/platform-current/lib/python3.8/site-packages/rtcache_tools-0.2.0-py3.8.egg', '/mnt/research-live/platform-kernels/platform-2201.10/lib/python3.8/site-packages', '/mnt/research-live/platform-kernels/platform-current/lib/python3.8/site-packages/txWS-0.9.1-py3.8.egg', '/mnt/research-live/platform-kernels/platform-current/lib/python3.8/site-packages/IPython/extensions', '/home/yzhong/.ipython']\n"
     ]
    }
   ],
   "source": [
    "import sys\n",
    "print(sys.path)"
   ]
  },
  {
   "cell_type": "code",
   "execution_count": 5,
   "metadata": {},
   "outputs": [],
   "source": [
    "from src.extract_chinese_data import get_bloomberg_chinese_news, get_bloomberg_english_news\n",
    "from src.bloomberg_news import get_bloomberg_news_level_single_stock,get_bloomberg_data_one_tag_for_classification, get_bloomberg_news_level_all_stock"
   ]
  },
  {
   "cell_type": "code",
   "execution_count": 10,
   "metadata": {},
   "outputs": [
    {
     "name": "stderr",
     "output_type": "stream",
     "text": [
      "                                                                                \r"
     ]
    },
    {
     "name": "stdout",
     "output_type": "stream",
     "text": [
      "CPU times: user 498 ms, sys: 325 ms, total: 823 ms\n",
      "Wall time: 1min 26s\n"
     ]
    }
   ],
   "source": [
    "%%time\n",
    "df_b = get_bloomberg_news_level_single_stock(date=\"2023/*/*\")"
   ]
  },
  {
   "cell_type": "code",
   "execution_count": 26,
   "metadata": {},
   "outputs": [
    {
     "name": "stderr",
     "output_type": "stream",
     "text": [
      "                                                                                \r"
     ]
    }
   ],
   "source": [
    "df_b =get_bloomberg_data_one_tag_for_classification(\n",
    "    'MMN',\n",
    "    ['MMN'],\n",
    "    single_stock_news=True,\n",
    "    date=\"*/*/*\",\n",
    "    save=True,\n",
    "    path='/mnt/research-live/user/yzhong/Single_level_stock_MMN'\n",
    "    )"
   ]
  },
  {
   "cell_type": "code",
   "execution_count": 23,
   "metadata": {},
   "outputs": [
    {
     "data": {
      "text/plain": [
       "False    2361761\n",
       "True          47\n",
       "Name: MMN, dtype: int64"
      ]
     },
     "execution_count": 23,
     "metadata": {},
     "output_type": "execute_result"
    }
   ],
   "source": [
    "df_b.MMN.value_counts()"
   ]
  },
  {
   "cell_type": "code",
   "execution_count": 21,
   "metadata": {},
   "outputs": [
    {
     "data": {
      "text/plain": [
       "False    1612202\n",
       "True         370\n",
       "Name: MMN, dtype: int64"
      ]
     },
     "execution_count": 21,
     "metadata": {},
     "output_type": "execute_result"
    }
   ],
   "source": [
    "df_b.MMN.value_counts()"
   ]
  },
  {
   "cell_type": "code",
   "execution_count": 11,
   "metadata": {},
   "outputs": [],
   "source": [
    "year=str(2023)\n",
    "filename = f'Single_stock_news_{year}.parquet'\n",
    "filepath = os.path.join('/mnt/research-live/user/yzhong/Single_level_stock', filename)\n",
    "df_b.to_parquet(filepath)"
   ]
  },
  {
   "cell_type": "code",
   "execution_count": 6,
   "metadata": {},
   "outputs": [
    {
     "name": "stderr",
     "output_type": "stream",
     "text": [
      "                                                                                \r"
     ]
    }
   ],
   "source": [
    "# Create the year directory\n",
    "if not os.path.exists(\"/mnt/research-live/user/yzhong/All_level_stock\"):\n",
    "    os.makedirs(\"/mnt/research-live/user/yzhong/All_level_stock\")\n",
    "for year in range(2008, 2023):\n",
    "    year=str(year)\n",
    "\n",
    "# Load the data for the entire year\n",
    "    df_b = get_bloomberg_news_level_all_stock(date=f\"{year}/*/*\")\n",
    "\n",
    "# Save the data to a parquet file in the year directory\n",
    "    filename = f'All_stock_news_{year}.parquet'\n",
    "    filepath = os.path.join('/mnt/research-live/user/yzhong/All_level_stock', filename)\n",
    "    df_b.to_parquet(filepath)\n"
   ]
  },
  {
   "cell_type": "code",
   "execution_count": 4,
   "metadata": {},
   "outputs": [],
   "source": [
    "df_b.to_parquet('/mnt/research-live/user/yzhong/bloomberg_news_english_single_stock_topic_2022.parquet')"
   ]
  },
  {
   "cell_type": "code",
   "execution_count": 4,
   "metadata": {},
   "outputs": [
    {
     "name": "stderr",
     "output_type": "stream",
     "text": [
      "                                                                                \r"
     ]
    },
    {
     "name": "stdout",
     "output_type": "stream",
     "text": [
      "CPU times: user 8.2 s, sys: 7.06 s, total: 15.3 s\n",
      "Wall time: 38min 56s\n"
     ]
    }
   ],
   "source": [
    "%%time\n",
    "df_b = get_bloomberg_chinese_news(date=\"*/*/*\")"
   ]
  },
  {
   "cell_type": "code",
   "execution_count": null,
   "metadata": {},
   "outputs": [],
   "source": [
    "import pandas as pd\n",
    "\n",
    "# create a sample dataframe\n",
    "df = pd.DataFrame({\n",
    "    'date': pd.date_range('2015-04-01', '2015-05-31'),\n",
    "    'col1': [0.1, -0.2, -0.3, -0.4, -0.5, -0.6, -0.7, -0.8, -0.9, -1.0, 1.1, 1.2, 1.3, 1.4, 1.5, 1.6, 1.7, 1.8, 1.9, 2.0, 2.1, 2.2, 2.3, 2.4, 2.5, 2.6, 2.7, 2.8, 2.9, 3.0, 3.1],\n",
    "    'col2': [0.3, -0.5, -0.7, -0.9, -1.1, -1.3, -1.5, -1.7, -1.9, -2.1, 2.3, 2.5, 2.7, 2.9, 3.1, 3.3, 3.5, 3.7, 3.9, 4.1, 4.3, 4.5, 4.7, 4.9, 5.1, 5.3, 5.5, 5.7, 5.9, 6.1, 6.3],\n",
    "})\n",
    "\n",
    "# set the date index\n",
    "df.set_index('date', inplace=True)\n",
    "\n",
    "# set the desired date as a datetime object\n",
    "desired_date = pd.to_datetime('2015-04-30')\n",
    "\n",
    "# select the columns that satisfy the condition using boolean indexing and loc\n",
    "before_date_cols = list(df.loc[df.index < desired_date, (df < 0).all()].columns)\n",
    "after_date_cols = list(df.loc[df.index >= desired_date, (df > 0).all()].columns)\n",
    "\n",
    "print('Columns with all values <0 before 2015-04-30:', before_date_cols)\n",
    "print('Columns with all values >0 after 2015-04-30:', after_date_cols)\n"
   ]
  },
  {
   "cell_type": "code",
   "execution_count": null,
   "metadata": {},
   "outputs": [],
   "source": [
    "get_period()"
   ]
  },
  {
   "cell_type": "code",
   "execution_count": null,
   "metadata": {},
   "outputs": [],
   "source": [
    "import pandas as pd\n",
    "\n",
    "# create a sample dataframe\n",
    "df = pd.DataFrame({\n",
    "    'date': pd.date_range('2015-04-01', '2015-05-31'),\n",
    "    'col1': [0.1, -0.2, -0.3, -0.4, -0.5, -0.6, -0.7, -0.8, -0.9, -1.0, 1.1, 1.2, 1.3, 1.4, 1.5, 1.6, 1.7, 1.8, 1.9, 2.0, 2.1, 2.2, 2.3, 2.4, 2.5, 2.6, 2.7, 2.8, 2.9, 3.0, 3.1],\n",
    "    'col2': [0.3, -0.5, -0.7, -0.9, -1.1, -1.3, -1.5, -1.7, -1.9, -2.1, 2.3, 2.5, 2.7, 2.9, 3.1, 3.3, 3.5, 3.7, 3.9, 4.1, 4.3, 4.5, 4.7, 4.9, 5.1, 5.3, 5.5, 5.7, 5.9, 6.1, 6.3],\n",
    "})\n",
    "\n",
    "# set the date index\n",
    "df.set_index('date', inplace=True)\n",
    "\n",
    "# set the desired date as a datetime object\n",
    "desired_date = pd.to_datetime('2015-04-30')\n",
    "\n",
    "# select the columns that satisfy both conditions using boolean indexing and loc\n",
    "cols = list(df.loc[(df.index < desired_date) & (df < 0).all() | (df.index >= desired_date) & (df > 0).all()].columns)\n",
    "\n",
    "print('Columns with all values <0 before 2015-04-30 or all values >0 after 2015-04-30:', cols)\n"
   ]
  },
  {
   "cell_type": "code",
   "execution_count": null,
   "metadata": {},
   "outputs": [],
   "source": [
    "df.loc[df.index < desired_date, (df < 0).all()]"
   ]
  },
  {
   "cell_type": "code",
   "execution_count": 5,
   "metadata": {},
   "outputs": [],
   "source": [
    "df_b.to_parquet('/mnt/research-live/user/yzhong/bloomberg_news_chinese_eqt.parquet')"
   ]
  },
  {
   "cell_type": "code",
   "execution_count": 11,
   "metadata": {},
   "outputs": [
    {
     "name": "stderr",
     "output_type": "stream",
     "text": [
      "                                                                                \r"
     ]
    }
   ],
   "source": [
    "import os\n",
    "import pandas as pd\n",
    "\n",
    "# Create a folder to store the data\n",
    "if not os.path.exists(\"Single_level_stock\"):\n",
    "    os.makedirs(\"Single_level_stock\")\n",
    "\n",
    "# Loop through years and months to download the data\n",
    "for year in range(2011, 2023):\n",
    "    for month in range(1, 13):\n",
    "        # Format the year and month with leading zeros\n",
    "        year_str = str(year)\n",
    "        month_str = str(month).zfill(2)\n",
    "        \n",
    "        # Download the data for the given year and month\n",
    "        date_str = f\"{year_str}/{month_str}/*\"\n",
    "        df_b = get_bloomberg_chinese_news(date=date_str)\n",
    "        \n",
    "        # Save the data as a Parquet file\n",
    "        file_name = f\"bloomberg_news_chinese_{year_str}_{month_str}.parquet\"\n",
    "        file_path = os.path.join(\"Chinese_news_data\", file_name)\n",
    "        df_b.to_parquet(file_path)"
   ]
  },
  {
   "cell_type": "code",
   "execution_count": 3,
   "metadata": {},
   "outputs": [
    {
     "name": "stderr",
     "output_type": "stream",
     "text": [
      "IOPub message rate exceeded.(1 + 1) / 2][Stage 9459:>               (0 + 1) / 1]\n",
      "The notebook server will temporarily stop sending output\n",
      "to the client in order to avoid crashing it.\n",
      "To change this limit, set the config variable\n",
      "`--NotebookApp.iopub_msg_rate_limit`.\n",
      "\n",
      "Current values:\n",
      "NotebookApp.iopub_msg_rate_limit=1000.0 (msgs/sec)\n",
      "NotebookApp.rate_limit_window=3.0 (secs)\n",
      "\n",
      "IOPub message rate exceeded.(2 + 1) / 3][Stage 34660:>              (0 + 1) / 1]\n",
      "The notebook server will temporarily stop sending output\n",
      "to the client in order to avoid crashing it.\n",
      "To change this limit, set the config variable\n",
      "`--NotebookApp.iopub_msg_rate_limit`.\n",
      "\n",
      "Current values:\n",
      "NotebookApp.iopub_msg_rate_limit=1000.0 (msgs/sec)\n",
      "NotebookApp.rate_limit_window=3.0 (secs)\n",
      "\n"
     ]
    }
   ],
   "source": [
    "import os\n",
    "import pandas as pd\n",
    "\n",
    "# Create the top-level directory for the English news data\n",
    "if not os.path.exists(\"/mnt/live/user/yzhong/English_news_data\"):\n",
    "    os.mkdir(\"/mnt/live/user/yzhong/English_news_data\")\n",
    "\n",
    "for year in range(2011, 2023):\n",
    "    year_str = str(year)\n",
    "\n",
    "    # Create the year directory\n",
    "    year_dir = os.path.join(\"/mnt/live/user/yzhong/English_news_data\", year_str)\n",
    "    if not os.path.exists(year_dir):\n",
    "        os.mkdir(year_dir)\n",
    "\n",
    "    for month in range(1, 13):\n",
    "        month_str = f\"{month:02d}\"\n",
    "\n",
    "        # Create the month directory\n",
    "        month_dir = os.path.join(year_dir, month_str)\n",
    "        if not os.path.exists(month_dir):\n",
    "            os.mkdir(month_dir)\n",
    "\n",
    "        # Determine the number of days in the month\n",
    "        if month in [1, 3, 5, 7, 8, 10, 12]:\n",
    "            num_days = 31\n",
    "        elif month == 2:\n",
    "            if year % 4 == 0 and (year % 100 != 0 or year % 400 == 0):\n",
    "                num_days = 29\n",
    "            else:\n",
    "                num_days = 28\n",
    "        else:\n",
    "            num_days = 30\n",
    "\n",
    "        for day in range(1, num_days+1):\n",
    "            day_str = f\"{day:02d}\"\n",
    "\n",
    "            # Construct the date string in the required format\n",
    "            date_str = f\"{year_str}/{month_str}/{day_str}\"\n",
    "\n",
    "            # Load the data for the current date\n",
    "            df_b = get_bloomberg_english_news(date=date_str)\n",
    "\n",
    "            # Save the data to a parquet file in the appropriate directory\n",
    "            filename = f'bloomberg_news_english_{year_str}_{month_str}_{day_str}.parquet'\n",
    "            filepath = os.path.join(month_dir, filename)\n",
    "            df_b.to_parquet(filepath)\n"
   ]
  },
  {
   "cell_type": "code",
   "execution_count": 4,
   "metadata": {},
   "outputs": [
    {
     "name": "stderr",
     "output_type": "stream",
     "text": [
      "                                                                                \r"
     ]
    }
   ],
   "source": [
    "df_b = get_bloomberg_english_news(date=\"*/*/*\")\n",
    "df_b.to_parquet('/mnt/research-live/user/yzhong/bloomberg_news_chinese_trickers.parquet')"
   ]
  },
  {
   "cell_type": "code",
   "execution_count": 5,
   "metadata": {},
   "outputs": [
    {
     "data": {
      "text/html": [
       "<div>\n",
       "<style scoped>\n",
       "    .dataframe tbody tr th:only-of-type {\n",
       "        vertical-align: middle;\n",
       "    }\n",
       "\n",
       "    .dataframe tbody tr th {\n",
       "        vertical-align: top;\n",
       "    }\n",
       "\n",
       "    .dataframe thead th {\n",
       "        text-align: right;\n",
       "    }\n",
       "</style>\n",
       "<table border=\"1\" class=\"dataframe\">\n",
       "  <thead>\n",
       "    <tr style=\"text-align: right;\">\n",
       "      <th></th>\n",
       "      <th>suid</th>\n",
       "      <th>last_update</th>\n",
       "      <th>language</th>\n",
       "      <th>analyst</th>\n",
       "      <th>date</th>\n",
       "      <th>tickers</th>\n",
       "      <th>eqt_codes</th>\n",
       "      <th>topics</th>\n",
       "      <th>headline</th>\n",
       "      <th>body</th>\n",
       "    </tr>\n",
       "  </thead>\n",
       "  <tbody>\n",
       "    <tr>\n",
       "      <th>0</th>\n",
       "      <td>LJ6PWN6JIJVU</td>\n",
       "      <td>2011-04-05 15:05:11.901</td>\n",
       "      <td>CHINESE_SIMP</td>\n",
       "      <td>False</td>\n",
       "      <td>2011-04-05</td>\n",
       "      <td>None</td>\n",
       "      <td>None</td>\n",
       "      <td>ASIA, ASIAX, BNALL, BNLANG, BRIC, CBN, CHINA, ...</td>\n",
       "      <td>彭博要闻</td>\n",
       "      <td>\\n下列为彭博今日要闻:\\n\\n商业\\n1.  美联储主席伯南克说如果通胀持续上升 美联储将...</td>\n",
       "    </tr>\n",
       "    <tr>\n",
       "      <th>1</th>\n",
       "      <td>LJ7HVA6TTDTS</td>\n",
       "      <td>2011-04-06 01:09:10.927</td>\n",
       "      <td>CHINESE_SIMP</td>\n",
       "      <td>True</td>\n",
       "      <td>2011-04-06</td>\n",
       "      <td>3808@HK, MAN@GR, MAN@GR</td>\n",
       "      <td>3808_HK, MAN3_GR, MAN_GR</td>\n",
       "      <td>ANA, ANACHANGE, ANACUT, ANAHOLD, ASIA, ASIAX, ...</td>\n",
       "      <td>*高盛维持中国重汽的中性评级                     :3808 HK, M...</td>\n",
       "      <td>--KEAN ZHANG\\n\\n-0- Apr/06/2011 01:09 GMT\\n</td>\n",
       "    </tr>\n",
       "    <tr>\n",
       "      <th>2</th>\n",
       "      <td>LJ7KAF6TTDSC</td>\n",
       "      <td>2011-04-06 02:01:27.382</td>\n",
       "      <td>CHINESE_SIMP</td>\n",
       "      <td>False</td>\n",
       "      <td>2011-04-06</td>\n",
       "      <td>None</td>\n",
       "      <td>None</td>\n",
       "      <td>ADB, ASIA, ASIAX, BNALL, BNSTAFF, BUSINESS, CB...</td>\n",
       "      <td>*亚洲开发银行发布2011年亚洲发展展望</td>\n",
       "      <td>--KEAN ZHANG\\n\\n-0- Apr/06/2011 02:01 GMT\\n</td>\n",
       "    </tr>\n",
       "    <tr>\n",
       "      <th>3</th>\n",
       "      <td>LJ7VIB0UQVI9</td>\n",
       "      <td>2011-04-06 06:03:47.206</td>\n",
       "      <td>CHINESE_SIMP</td>\n",
       "      <td>False</td>\n",
       "      <td>2011-04-06</td>\n",
       "      <td>267@HK</td>\n",
       "      <td>0267_HK</td>\n",
       "      <td>ASIA, ASIAX, BNALL, BNSTAFF, BON, BRIC, CBN, C...</td>\n",
       "      <td>中信泰富据称聘请汇丰和瑞银协助发行永久资本票据及10年期优先债券</td>\n",
       "      <td>\\n(更多新闻请点阅 {TOP CS &lt;GO&gt;} {NH CBN &lt;GO&gt;})\\n\\n记者K...</td>\n",
       "    </tr>\n",
       "    <tr>\n",
       "      <th>4</th>\n",
       "      <td>LJ7WWU6TTDT0</td>\n",
       "      <td>2011-04-06 06:34:06.245</td>\n",
       "      <td>CHINESE_SIMP</td>\n",
       "      <td>False</td>\n",
       "      <td>2011-04-06</td>\n",
       "      <td>None</td>\n",
       "      <td>None</td>\n",
       "      <td>BNALL, BND, BNSTAFF, BON, BUSINESS, CBM, CBN, ...</td>\n",
       "      <td>*爱尔兰10年期债券开盘走低 收益率上升3个基点至9.71%</td>\n",
       "      <td>--KEAN ZHANG\\n\\n-0- Apr/06/2011 06:34 GMT\\n</td>\n",
       "    </tr>\n",
       "  </tbody>\n",
       "</table>\n",
       "</div>"
      ],
      "text/plain": [
       "           suid             last_update      language  analyst        date  \\\n",
       "0  LJ6PWN6JIJVU 2011-04-05 15:05:11.901  CHINESE_SIMP    False  2011-04-05   \n",
       "1  LJ7HVA6TTDTS 2011-04-06 01:09:10.927  CHINESE_SIMP     True  2011-04-06   \n",
       "2  LJ7KAF6TTDSC 2011-04-06 02:01:27.382  CHINESE_SIMP    False  2011-04-06   \n",
       "3  LJ7VIB0UQVI9 2011-04-06 06:03:47.206  CHINESE_SIMP    False  2011-04-06   \n",
       "4  LJ7WWU6TTDT0 2011-04-06 06:34:06.245  CHINESE_SIMP    False  2011-04-06   \n",
       "\n",
       "                   tickers                 eqt_codes  \\\n",
       "0                     None                      None   \n",
       "1  3808@HK, MAN@GR, MAN@GR  3808_HK, MAN3_GR, MAN_GR   \n",
       "2                     None                      None   \n",
       "3                   267@HK                   0267_HK   \n",
       "4                     None                      None   \n",
       "\n",
       "                                              topics  \\\n",
       "0  ASIA, ASIAX, BNALL, BNLANG, BRIC, CBN, CHINA, ...   \n",
       "1  ANA, ANACHANGE, ANACUT, ANAHOLD, ASIA, ASIAX, ...   \n",
       "2  ADB, ASIA, ASIAX, BNALL, BNSTAFF, BUSINESS, CB...   \n",
       "3  ASIA, ASIAX, BNALL, BNSTAFF, BON, BRIC, CBN, C...   \n",
       "4  BNALL, BND, BNSTAFF, BON, BUSINESS, CBM, CBN, ...   \n",
       "\n",
       "                                            headline  \\\n",
       "0                                               彭博要闻   \n",
       "1  *高盛维持中国重汽的中性评级                     :3808 HK, M...   \n",
       "2                               *亚洲开发银行发布2011年亚洲发展展望   \n",
       "3                   中信泰富据称聘请汇丰和瑞银协助发行永久资本票据及10年期优先债券   \n",
       "4                     *爱尔兰10年期债券开盘走低 收益率上升3个基点至9.71%   \n",
       "\n",
       "                                                body  \n",
       "0  \\n下列为彭博今日要闻:\\n\\n商业\\n1.  美联储主席伯南克说如果通胀持续上升 美联储将...  \n",
       "1        --KEAN ZHANG\\n\\n-0- Apr/06/2011 01:09 GMT\\n  \n",
       "2        --KEAN ZHANG\\n\\n-0- Apr/06/2011 02:01 GMT\\n  \n",
       "3  \\n(更多新闻请点阅 {TOP CS <GO>} {NH CBN <GO>})\\n\\n记者K...  \n",
       "4        --KEAN ZHANG\\n\\n-0- Apr/06/2011 06:34 GMT\\n  "
      ]
     },
     "execution_count": 5,
     "metadata": {},
     "output_type": "execute_result"
    }
   ],
   "source": [
    "df2 = pd.read_parquet('/mnt/research-live/user/yzhong/bloomberg_news_chinese_trickers.parquet')\n",
    "df2.head()"
   ]
  },
  {
   "cell_type": "code",
   "execution_count": 6,
   "metadata": {},
   "outputs": [
    {
     "data": {
      "text/html": [
       "<div>\n",
       "<style scoped>\n",
       "    .dataframe tbody tr th:only-of-type {\n",
       "        vertical-align: middle;\n",
       "    }\n",
       "\n",
       "    .dataframe tbody tr th {\n",
       "        vertical-align: top;\n",
       "    }\n",
       "\n",
       "    .dataframe thead th {\n",
       "        text-align: right;\n",
       "    }\n",
       "</style>\n",
       "<table border=\"1\" class=\"dataframe\">\n",
       "  <thead>\n",
       "    <tr style=\"text-align: right;\">\n",
       "      <th></th>\n",
       "      <th>id</th>\n",
       "      <th>suid</th>\n",
       "      <th>last_update</th>\n",
       "      <th>language</th>\n",
       "      <th>analyst</th>\n",
       "      <th>date</th>\n",
       "      <th>headline</th>\n",
       "      <th>body</th>\n",
       "      <th>headline_org</th>\n",
       "      <th>length</th>\n",
       "      <th>translation</th>\n",
       "      <th>tickers</th>\n",
       "    </tr>\n",
       "  </thead>\n",
       "  <tbody>\n",
       "    <tr>\n",
       "      <th>0</th>\n",
       "      <td>0</td>\n",
       "      <td>LJ6PWN6JIJVU</td>\n",
       "      <td>2011-04-05 15:05:11.901</td>\n",
       "      <td>CHINESE_SIMP</td>\n",
       "      <td>False</td>\n",
       "      <td>2011-04-05</td>\n",
       "      <td>彭博要闻。</td>\n",
       "      <td>\\n下列为彭博今日要闻:\\n\\n商业\\n1.  美联储主席伯南克说如果通胀持续上升 美联储将...</td>\n",
       "      <td>彭博要闻</td>\n",
       "      <td>5</td>\n",
       "      <td>Bloomberg highlights.</td>\n",
       "      <td>None</td>\n",
       "    </tr>\n",
       "    <tr>\n",
       "      <th>1</th>\n",
       "      <td>1</td>\n",
       "      <td>LJ7GAQ0UQVI9</td>\n",
       "      <td>2011-04-06 00:35:14.312</td>\n",
       "      <td>CHINESE_SIMP</td>\n",
       "      <td>False</td>\n",
       "      <td>2011-04-06</td>\n",
       "      <td>中国社科院研究员:今年通胀压力可能继续增强。</td>\n",
       "      <td>\\n(更多新闻请点阅{TOP CS &lt;GO&gt;} {NH CBN &lt;GO&gt;})\\n\\n彭博新闻...</td>\n",
       "      <td>中国社科院研究员:今年通胀压力可能继续增强</td>\n",
       "      <td>22</td>\n",
       "      <td>Researcher, Chinese Academy of Social Sciences...</td>\n",
       "      <td>None</td>\n",
       "    </tr>\n",
       "    <tr>\n",
       "      <th>2</th>\n",
       "      <td>2</td>\n",
       "      <td>LJ7HVA6TTDTS</td>\n",
       "      <td>2011-04-06 01:09:10.927</td>\n",
       "      <td>CHINESE_SIMP</td>\n",
       "      <td>True</td>\n",
       "      <td>2011-04-06</td>\n",
       "      <td>高盛维持中国重汽的中性评级:3808HK,MANGR。</td>\n",
       "      <td>--KEAN ZHANG\\n\\n-0- Apr/06/2011 01:09 GMT\\n</td>\n",
       "      <td>*高盛维持中国重汽的中性评级                     :3808 HK, M...</td>\n",
       "      <td>27</td>\n",
       "      <td>Goldman Sachs maintains a neutral rating for h...</td>\n",
       "      <td>3808@HK, MAN@GR, MAN@GR</td>\n",
       "    </tr>\n",
       "    <tr>\n",
       "      <th>3</th>\n",
       "      <td>3</td>\n",
       "      <td>LJ7KAF6TTDSC</td>\n",
       "      <td>2011-04-06 02:01:27.382</td>\n",
       "      <td>CHINESE_SIMP</td>\n",
       "      <td>False</td>\n",
       "      <td>2011-04-06</td>\n",
       "      <td>亚洲开发银行发布2011年亚洲发展展望。</td>\n",
       "      <td>--KEAN ZHANG\\n\\n-0- Apr/06/2011 02:01 GMT\\n</td>\n",
       "      <td>*亚洲开发银行发布2011年亚洲发展展望</td>\n",
       "      <td>20</td>\n",
       "      <td>The Asian Development Bank launched the Asian ...</td>\n",
       "      <td>None</td>\n",
       "    </tr>\n",
       "    <tr>\n",
       "      <th>4</th>\n",
       "      <td>4</td>\n",
       "      <td>LJ7LMP6TTDSF</td>\n",
       "      <td>2011-04-06 02:30:25.739</td>\n",
       "      <td>CHINESE_SIMP</td>\n",
       "      <td>False</td>\n",
       "      <td>2011-04-06</td>\n",
       "      <td>亚洲开发银行认为中国经济硬着陆的风险很小。</td>\n",
       "      <td>--KEAN ZHANG\\n\\n-0- Apr/06/2011 02:30 GMT\\n</td>\n",
       "      <td>*亚洲开发银行认为中国经济硬着陆的风险很小</td>\n",
       "      <td>21</td>\n",
       "      <td>According to the Asian Development Bank, the r...</td>\n",
       "      <td>None</td>\n",
       "    </tr>\n",
       "  </tbody>\n",
       "</table>\n",
       "</div>"
      ],
      "text/plain": [
       "   id          suid             last_update      language  analyst  \\\n",
       "0   0  LJ6PWN6JIJVU 2011-04-05 15:05:11.901  CHINESE_SIMP    False   \n",
       "1   1  LJ7GAQ0UQVI9 2011-04-06 00:35:14.312  CHINESE_SIMP    False   \n",
       "2   2  LJ7HVA6TTDTS 2011-04-06 01:09:10.927  CHINESE_SIMP     True   \n",
       "3   3  LJ7KAF6TTDSC 2011-04-06 02:01:27.382  CHINESE_SIMP    False   \n",
       "4   4  LJ7LMP6TTDSF 2011-04-06 02:30:25.739  CHINESE_SIMP    False   \n",
       "\n",
       "         date                     headline  \\\n",
       "0  2011-04-05                        彭博要闻。   \n",
       "1  2011-04-06       中国社科院研究员:今年通胀压力可能继续增强。   \n",
       "2  2011-04-06  高盛维持中国重汽的中性评级:3808HK,MANGR。   \n",
       "3  2011-04-06         亚洲开发银行发布2011年亚洲发展展望。   \n",
       "4  2011-04-06        亚洲开发银行认为中国经济硬着陆的风险很小。   \n",
       "\n",
       "                                                body  \\\n",
       "0  \\n下列为彭博今日要闻:\\n\\n商业\\n1.  美联储主席伯南克说如果通胀持续上升 美联储将...   \n",
       "1  \\n(更多新闻请点阅{TOP CS <GO>} {NH CBN <GO>})\\n\\n彭博新闻...   \n",
       "2        --KEAN ZHANG\\n\\n-0- Apr/06/2011 01:09 GMT\\n   \n",
       "3        --KEAN ZHANG\\n\\n-0- Apr/06/2011 02:01 GMT\\n   \n",
       "4        --KEAN ZHANG\\n\\n-0- Apr/06/2011 02:30 GMT\\n   \n",
       "\n",
       "                                        headline_org  length  \\\n",
       "0                                               彭博要闻       5   \n",
       "1                              中国社科院研究员:今年通胀压力可能继续增强      22   \n",
       "2  *高盛维持中国重汽的中性评级                     :3808 HK, M...      27   \n",
       "3                               *亚洲开发银行发布2011年亚洲发展展望      20   \n",
       "4                              *亚洲开发银行认为中国经济硬着陆的风险很小      21   \n",
       "\n",
       "                                         translation                  tickers  \n",
       "0                              Bloomberg highlights.                     None  \n",
       "1  Researcher, Chinese Academy of Social Sciences...                     None  \n",
       "2  Goldman Sachs maintains a neutral rating for h...  3808@HK, MAN@GR, MAN@GR  \n",
       "3  The Asian Development Bank launched the Asian ...                     None  \n",
       "4  According to the Asian Development Bank, the r...                     None  "
      ]
     },
     "execution_count": 6,
     "metadata": {},
     "output_type": "execute_result"
    }
   ],
   "source": [
    "import pandas as pd\n",
    "\n",
    "# Read in the first dataframe from file\n",
    "df1 = pd.read_parquet('/mnt/research-live/user/yzhong/bloomberg_news_chinese.parquet')\n",
    "\n",
    "# Read in the second dataframe from file\n",
    "df2 = pd.read_parquet('/mnt/research-live/user/yzhong/bloomberg_news_chinese_trickers.parquet')\n",
    "\n",
    "# Merge the two dataframes on the 'suid' column\n",
    "merged_df = pd.merge(df1, df2[['suid', 'tickers']], on='suid', how='left')\n",
    "\n",
    "# Print the merged dataframe\n"
   ]
  },
  {
   "cell_type": "code",
   "execution_count": 14,
   "metadata": {},
   "outputs": [],
   "source": [
    "merged_df.reset_index(drop=True, inplace=True)"
   ]
  },
  {
   "cell_type": "code",
   "execution_count": 18,
   "metadata": {},
   "outputs": [],
   "source": [
    "del merged_df['length']"
   ]
  },
  {
   "cell_type": "code",
   "execution_count": 20,
   "metadata": {},
   "outputs": [],
   "source": [
    "merged_df.to_parquet('/mnt/research-live/user/yzhong/bloomberg_news_chinese_trickers_translation.parquet')"
   ]
  },
  {
   "cell_type": "code",
   "execution_count": 11,
   "metadata": {},
   "outputs": [],
   "source": [
    "merged_df=merged_df.dropna(subset=['tickers'])"
   ]
  },
  {
   "cell_type": "code",
   "execution_count": 46,
   "metadata": {},
   "outputs": [
    {
     "name": "stderr",
     "output_type": "stream",
     "text": [
      "                                                                                \r"
     ]
    }
   ],
   "source": [
    "df_b = get_bloomberg_chinese_and_english_news(date=\"2016/03/*\")"
   ]
  },
  {
   "cell_type": "code",
   "execution_count": 50,
   "metadata": {},
   "outputs": [],
   "source": [
    "df_b.to_parquet('bloomberg_news_chinese_english_2023.parquet')"
   ]
  },
  {
   "cell_type": "code",
   "execution_count": 16,
   "metadata": {},
   "outputs": [],
   "source": [
    "df_b.to_parquet('bloomberg_news_chinese.parquet')"
   ]
  },
  {
   "cell_type": "markdown",
   "metadata": {},
   "source": [
    "Store the Chinese dataset in dataframe df"
   ]
  },
  {
   "cell_type": "code",
   "execution_count": 3,
   "metadata": {},
   "outputs": [],
   "source": [
    "df = pd.read_parquet(\"bloomberg_news_chinese.parquet\")"
   ]
  },
  {
   "cell_type": "markdown",
   "metadata": {},
   "source": [
    "Store the Chinese and English dataset in dataframe df_C_E"
   ]
  },
  {
   "cell_type": "code",
   "execution_count": 4,
   "metadata": {},
   "outputs": [],
   "source": [
    "df_C_E = pd.read_parquet(\"bloomberg_news_chinese_english_2023.parquet\")"
   ]
  },
  {
   "cell_type": "markdown",
   "metadata": {},
   "source": [
    "## Filtre news that only have Chinese version"
   ]
  },
  {
   "cell_type": "markdown",
   "metadata": {},
   "source": [
    "### Find patterns"
   ]
  },
  {
   "cell_type": "markdown",
   "metadata": {},
   "source": [
    "Try to find the patterns of the Chinese news with its English counterpartie manually"
   ]
  },
  {
   "cell_type": "code",
   "execution_count": 5,
   "metadata": {},
   "outputs": [],
   "source": [
    "df_C_E_filtered = df_C_E[df_C_E['date'].astype(str) ==  '2016-03-01']"
   ]
  },
  {
   "cell_type": "code",
   "execution_count": 6,
   "metadata": {},
   "outputs": [],
   "source": [
    "df_C_E_filtered=df_C_E_filtered.sort_values(by='last_update')"
   ]
  },
  {
   "cell_type": "code",
   "execution_count": 58,
   "metadata": {},
   "outputs": [],
   "source": [
    "with open('e_c_pattern.txt', 'w') as f:\n",
    "    for row in df_filtered.itertuples():\n",
    "        f.write(str(row.language) + '\\n')\n",
    "        f.write(str(row.analyst) + '\\n')\n",
    "        f.write(str(row.last_update) + '\\n')\n",
    "        f.write(str(row.tickers) + '\\n')\n",
    "        f.write(str(row.topics) + '\\n')\n",
    "        f.write(f'    --------  {row.headline}' + '\\n')\n",
    "        f.write(f'    {row.body}' + '\\n')"
   ]
  },
  {
   "cell_type": "markdown",
   "metadata": {},
   "source": [
    "### Create patterns"
   ]
  },
  {
   "cell_type": "markdown",
   "metadata": {},
   "source": [
    "After evaluation of the data for 2016-03-01 and 2023-03, the news that have an Enlgish version pertains to have the following four patterns: "
   ]
  },
  {
   "cell_type": "markdown",
   "metadata": {},
   "source": [
    "1. Almost all the Chinese simplified version has a chinse tradition version published at the same time. Base on the below groupby results and observation, it's reasonable to first drop all the columns that language is CHINESE_TRAD. "
   ]
  },
  {
   "cell_type": "code",
   "execution_count": 4,
   "metadata": {},
   "outputs": [
    {
     "data": {
      "text/plain": [
       "language\n",
       "CHINESE_SIMP     22322\n",
       "CHINESE_TRAD     21933\n",
       "ENGLISH         374860\n",
       "dtype: int64"
      ]
     },
     "execution_count": 4,
     "metadata": {},
     "output_type": "execute_result"
    }
   ],
   "source": [
    "df_C_E.groupby('language').size()"
   ]
  },
  {
   "cell_type": "code",
   "execution_count": 7,
   "metadata": {},
   "outputs": [],
   "source": [
    "def drop_tra (df):\n",
    "    df.drop(df[df.language=='CHINESE_TRAD'].index, inplace = True)\n",
    "    return df\n",
    "#df_filtered=drop_tra (df_filtered)"
   ]
  },
  {
   "cell_type": "markdown",
   "metadata": {},
   "source": [
    "**Example:**"
   ]
  },
  {
   "cell_type": "code",
   "execution_count": 42,
   "metadata": {},
   "outputs": [
    {
     "name": "stderr",
     "output_type": "stream",
     "text": [
      "/opt/tmp/tmp/ipykernel_427859/4278350539.py:1: UserWarning: Boolean Series key will be reindexed to match DataFrame index.\n",
      "  df_filtered[(df.headline=='中國債市「兩會」聚焦:穩成長、擴赤字、房地產、去產能政策') | (df.headline=='中国债市“两会”聚焦:稳增长、扩赤字、房地产、去产能政策')]\n"
     ]
    },
    {
     "data": {
      "text/html": [
       "<div>\n",
       "<style scoped>\n",
       "    .dataframe tbody tr th:only-of-type {\n",
       "        vertical-align: middle;\n",
       "    }\n",
       "\n",
       "    .dataframe tbody tr th {\n",
       "        vertical-align: top;\n",
       "    }\n",
       "\n",
       "    .dataframe thead th {\n",
       "        text-align: right;\n",
       "    }\n",
       "</style>\n",
       "<table border=\"1\" class=\"dataframe\">\n",
       "  <thead>\n",
       "    <tr style=\"text-align: right;\">\n",
       "      <th></th>\n",
       "      <th>suid</th>\n",
       "      <th>last_update</th>\n",
       "      <th>language</th>\n",
       "      <th>analyst</th>\n",
       "      <th>date</th>\n",
       "      <th>tickers</th>\n",
       "      <th>eqt_codes</th>\n",
       "      <th>topics</th>\n",
       "      <th>headline</th>\n",
       "      <th>body</th>\n",
       "    </tr>\n",
       "  </thead>\n",
       "  <tbody>\n",
       "    <tr>\n",
       "      <th>88029</th>\n",
       "      <td>O3AYVO6TTDSC</td>\n",
       "      <td>2016-03-01 00:00:00.203</td>\n",
       "      <td>CHINESE_TRAD</td>\n",
       "      <td>False</td>\n",
       "      <td>2016-03-01</td>\n",
       "      <td>None</td>\n",
       "      <td>None</td>\n",
       "      <td>COEVNT, GBN, CHCPMEET, BFWFI, MMK, ORIGINAL, C...</td>\n",
       "      <td>中國債市「兩會」聚焦:穩成長、擴赤字、房地產、去產能政策</td>\n",
       "      <td>\\n彭博新聞社報道\\n【彭博】-- 中國2016年「兩會」將在本周拉開序幕,接受彭博電話採訪...</td>\n",
       "    </tr>\n",
       "    <tr>\n",
       "      <th>400307</th>\n",
       "      <td>O3AYUZ6TTDS1</td>\n",
       "      <td>2016-03-01 00:00:00.203</td>\n",
       "      <td>CHINESE_SIMP</td>\n",
       "      <td>False</td>\n",
       "      <td>2016-03-01</td>\n",
       "      <td>601377@CH</td>\n",
       "      <td>601377_CH</td>\n",
       "      <td>COEVNT, GBN, CHCPMEET, BFWFI, MMK, ORIGINAL, C...</td>\n",
       "      <td>中国债市“两会”聚焦:稳增长、扩赤字、房地产、去产能政策</td>\n",
       "      <td>\\n彭博新闻社报道\\n【彭博】-- 中国2016年“两会”将在本周拉开序幕,接受彭博电话采访...</td>\n",
       "    </tr>\n",
       "  </tbody>\n",
       "</table>\n",
       "</div>"
      ],
      "text/plain": [
       "                suid             last_update      language  analyst  \\\n",
       "88029   O3AYVO6TTDSC 2016-03-01 00:00:00.203  CHINESE_TRAD    False   \n",
       "400307  O3AYUZ6TTDS1 2016-03-01 00:00:00.203  CHINESE_SIMP    False   \n",
       "\n",
       "              date    tickers  eqt_codes  \\\n",
       "88029   2016-03-01       None       None   \n",
       "400307  2016-03-01  601377@CH  601377_CH   \n",
       "\n",
       "                                                   topics  \\\n",
       "88029   COEVNT, GBN, CHCPMEET, BFWFI, MMK, ORIGINAL, C...   \n",
       "400307  COEVNT, GBN, CHCPMEET, BFWFI, MMK, ORIGINAL, C...   \n",
       "\n",
       "                            headline  \\\n",
       "88029   中國債市「兩會」聚焦:穩成長、擴赤字、房地產、去產能政策   \n",
       "400307  中国债市“两会”聚焦:稳增长、扩赤字、房地产、去产能政策   \n",
       "\n",
       "                                                     body  \n",
       "88029   \\n彭博新聞社報道\\n【彭博】-- 中國2016年「兩會」將在本周拉開序幕,接受彭博電話採訪...  \n",
       "400307  \\n彭博新闻社报道\\n【彭博】-- 中国2016年“两会”将在本周拉开序幕,接受彭博电话采访...  "
      ]
     },
     "execution_count": 42,
     "metadata": {},
     "output_type": "execute_result"
    }
   ],
   "source": [
    "df_C_E_filtered[(df_C_E.headline=='中國債市「兩會」聚焦:穩成長、擴赤字、房地產、去產能政策') | (df_C_E.headline=='中国债市“两会”聚焦:稳增长、扩赤字、房地产、去产能政策')]"
   ]
  },
  {
   "cell_type": "markdown",
   "metadata": {},
   "source": [
    "2. Based on the obeservation, all the news that begins with * have a equivalent version in English (These news are tends to be important, which are usually news of certain stock or index ...) "
   ]
  },
  {
   "cell_type": "code",
   "execution_count": 23,
   "metadata": {},
   "outputs": [],
   "source": [
    "def find_star (df):\n",
    "    return ( df['headline'].str.contains(r'^\\*[\\u4e00-\\u9fff0-9a-zA-Z].*'))"
   ]
  },
  {
   "cell_type": "markdown",
   "metadata": {},
   "source": [
    "**Example:**"
   ]
  },
  {
   "cell_type": "code",
   "execution_count": 43,
   "metadata": {},
   "outputs": [
    {
     "name": "stderr",
     "output_type": "stream",
     "text": [
      "/opt/tmp/tmp/ipykernel_427859/772101089.py:1: UserWarning: Boolean Series key will be reindexed to match DataFrame index.\n",
      "  df_filtered[(df.headline=='*太平洋航运大涨16.7% 创2008年12月来最大涨幅') | (df.headline=='*PACIFIC BASIN EXTENDS GAINS, UP 16.7%, MOST SINCE DEC. 2008')]\n"
     ]
    },
    {
     "data": {
      "text/html": [
       "<div>\n",
       "<style scoped>\n",
       "    .dataframe tbody tr th:only-of-type {\n",
       "        vertical-align: middle;\n",
       "    }\n",
       "\n",
       "    .dataframe tbody tr th {\n",
       "        vertical-align: top;\n",
       "    }\n",
       "\n",
       "    .dataframe thead th {\n",
       "        text-align: right;\n",
       "    }\n",
       "</style>\n",
       "<table border=\"1\" class=\"dataframe\">\n",
       "  <thead>\n",
       "    <tr style=\"text-align: right;\">\n",
       "      <th></th>\n",
       "      <th>suid</th>\n",
       "      <th>last_update</th>\n",
       "      <th>language</th>\n",
       "      <th>analyst</th>\n",
       "      <th>date</th>\n",
       "      <th>tickers</th>\n",
       "      <th>eqt_codes</th>\n",
       "      <th>topics</th>\n",
       "      <th>headline</th>\n",
       "      <th>body</th>\n",
       "    </tr>\n",
       "  </thead>\n",
       "  <tbody>\n",
       "    <tr>\n",
       "      <th>260115</th>\n",
       "      <td>O3CB276TTDS2</td>\n",
       "      <td>2016-03-01 03:01:19.189</td>\n",
       "      <td>ENGLISH</td>\n",
       "      <td>False</td>\n",
       "      <td>2016-03-01</td>\n",
       "      <td>2343@HK, 2343@HK</td>\n",
       "      <td>2343_HK, 2343_HK</td>\n",
       "      <td>METALKEY, MSCIDVAS, ACEXCLUDE, MAR, BULK, NASI...</td>\n",
       "      <td>*PACIFIC BASIN EXTENDS GAINS, UP 16.7%, MOST S...</td>\n",
       "      <td>--JASMINE WANG\\n\\n-0- Mar/01/2016 03:01 GMT\\n</td>\n",
       "    </tr>\n",
       "    <tr>\n",
       "      <th>337684</th>\n",
       "      <td>O3CBG96JTSEK</td>\n",
       "      <td>2016-03-01 03:09:45.740</td>\n",
       "      <td>CHINESE_SIMP</td>\n",
       "      <td>False</td>\n",
       "      <td>2016-03-01</td>\n",
       "      <td>2343@HK, 2343@HK</td>\n",
       "      <td>2343_HK, 2343_HK</td>\n",
       "      <td>METALKEY, MSCIDVAS, ACEXCLUDE, MAR, BULK, NASI...</td>\n",
       "      <td>*太平洋航运大涨16.7% 创2008年12月来最大涨幅</td>\n",
       "      <td>--ALEX CHI\\n\\n-0- Mar/01/2016 03:09 GMT\\n</td>\n",
       "    </tr>\n",
       "  </tbody>\n",
       "</table>\n",
       "</div>"
      ],
      "text/plain": [
       "                suid             last_update      language  analyst  \\\n",
       "260115  O3CB276TTDS2 2016-03-01 03:01:19.189       ENGLISH    False   \n",
       "337684  O3CBG96JTSEK 2016-03-01 03:09:45.740  CHINESE_SIMP    False   \n",
       "\n",
       "              date           tickers         eqt_codes  \\\n",
       "260115  2016-03-01  2343@HK, 2343@HK  2343_HK, 2343_HK   \n",
       "337684  2016-03-01  2343@HK, 2343@HK  2343_HK, 2343_HK   \n",
       "\n",
       "                                                   topics  \\\n",
       "260115  METALKEY, MSCIDVAS, ACEXCLUDE, MAR, BULK, NASI...   \n",
       "337684  METALKEY, MSCIDVAS, ACEXCLUDE, MAR, BULK, NASI...   \n",
       "\n",
       "                                                 headline  \\\n",
       "260115  *PACIFIC BASIN EXTENDS GAINS, UP 16.7%, MOST S...   \n",
       "337684                       *太平洋航运大涨16.7% 创2008年12月来最大涨幅   \n",
       "\n",
       "                                                 body  \n",
       "260115  --JASMINE WANG\\n\\n-0- Mar/01/2016 03:01 GMT\\n  \n",
       "337684      --ALEX CHI\\n\\n-0- Mar/01/2016 03:09 GMT\\n  "
      ]
     },
     "execution_count": 43,
     "metadata": {},
     "output_type": "execute_result"
    }
   ],
   "source": [
    "df_C_E_filtered[(df_C_E.headline=='*太平洋航运大涨16.7% 创2008年12月来最大涨幅') | (df_C_E.headline=='*PACIFIC BASIN EXTENDS GAINS, UP 16.7%, MOST SINCE DEC. 2008')]"
   ]
  },
  {
   "cell_type": "markdown",
   "metadata": {},
   "source": [
    "3. Based on the observation, all the news body that have the keyword :**原文标题**（Original title）or **彭博自动新闻**（By Bloomberg automation）has equivalent version in English."
   ]
  },
  {
   "cell_type": "code",
   "execution_count": 45,
   "metadata": {},
   "outputs": [],
   "source": [
    "def find_key (df):\n",
    "    # Create a boolean mask based on the conditions you want to check\n",
    "    mask = df[col_name].apply(lambda row: any(['原文标题' in str(row['body']) or '彭博自动新闻' in str(row['body']) or '原文標題' in str(row['body'])]), axis=1)\n",
    "    # Select the rows that match the conditions\n",
    "    #result = df[mask]\n",
    "    return mask"
   ]
  },
  {
   "cell_type": "code",
   "execution_count": null,
   "metadata": {},
   "outputs": [],
   "source": [
    "# def find_key (df, col_name='body', my_words=None):\n",
    "#     # Create a boolean mask based on the conditions you want to check\n",
    "#     mask = df.apply(lambda row: any(['原文标题' in str(row['body']) or '彭博自动新闻' in str(row['body']) or '原文標題' in str(row['body']) for col in df.columns]), axis=1)\n",
    "#     # Select the rows that match the conditions\n",
    "#     #result = df[mask]\n",
    "#     return mask"
   ]
  },
  {
   "cell_type": "code",
   "execution_count": 47,
   "metadata": {},
   "outputs": [],
   "source": [
    "def get_TF(x, info_list):\n",
    "    return any([True for i in info_list if i in str(x)])"
   ]
  },
  {
   "cell_type": "code",
   "execution_count": 48,
   "metadata": {},
   "outputs": [],
   "source": [
    "def find_words(df, col_name='body', my_words=None):\n",
    "    \n",
    "    if my_words is None:\n",
    "        my_words = ['原文标题','彭博自动新闻','原文標題']\n",
    "        return (df[col_name].apply(lambda x: get_TF(x, my_words)))        "
   ]
  },
  {
   "cell_type": "markdown",
   "metadata": {},
   "source": [
    "**Example:**"
   ]
  },
  {
   "cell_type": "code",
   "execution_count": 45,
   "metadata": {},
   "outputs": [
    {
     "name": "stderr",
     "output_type": "stream",
     "text": [
      "/opt/tmp/tmp/ipykernel_427859/652061358.py:1: UserWarning: Boolean Series key will be reindexed to match DataFrame index.\n",
      "  df_filtered[(df.headline=='花旗外汇客户调查:英国公投结果料为留在欧盟') | (df.headline=='U.K. Expected to Comfortably Vote to Remain in EU: Citi FX Poll')]\n"
     ]
    },
    {
     "data": {
      "text/html": [
       "<div>\n",
       "<style scoped>\n",
       "    .dataframe tbody tr th:only-of-type {\n",
       "        vertical-align: middle;\n",
       "    }\n",
       "\n",
       "    .dataframe tbody tr th {\n",
       "        vertical-align: top;\n",
       "    }\n",
       "\n",
       "    .dataframe thead th {\n",
       "        text-align: right;\n",
       "    }\n",
       "</style>\n",
       "<table border=\"1\" class=\"dataframe\">\n",
       "  <thead>\n",
       "    <tr style=\"text-align: right;\">\n",
       "      <th></th>\n",
       "      <th>suid</th>\n",
       "      <th>last_update</th>\n",
       "      <th>language</th>\n",
       "      <th>analyst</th>\n",
       "      <th>date</th>\n",
       "      <th>tickers</th>\n",
       "      <th>eqt_codes</th>\n",
       "      <th>topics</th>\n",
       "      <th>headline</th>\n",
       "      <th>body</th>\n",
       "    </tr>\n",
       "  </thead>\n",
       "  <tbody>\n",
       "    <tr>\n",
       "      <th>58695</th>\n",
       "      <td>O3C2XJ6JTSEA</td>\n",
       "      <td>2016-03-01 00:05:43.185</td>\n",
       "      <td>ENGLISH</td>\n",
       "      <td>True</td>\n",
       "      <td>2016-03-01</td>\n",
       "      <td>None</td>\n",
       "      <td>None</td>\n",
       "      <td>TOPMKTWRAP, GBN, BFWFI, ANABON, ACEXCLUDE, ORI...</td>\n",
       "      <td>U.K. Expected to Comfortably Vote to Remain in...</td>\n",
       "      <td>\\nBy Mark Cranfield\\n     (Bloomberg) -- U.K. ...</td>\n",
       "    </tr>\n",
       "    <tr>\n",
       "      <th>228772</th>\n",
       "      <td>O3C3L76JTSEC</td>\n",
       "      <td>2016-03-01 00:19:55.388</td>\n",
       "      <td>CHINESE_SIMP</td>\n",
       "      <td>True</td>\n",
       "      <td>2016-03-01</td>\n",
       "      <td>None</td>\n",
       "      <td>None</td>\n",
       "      <td>GBN, ANABON, ORIGINAL, EM, EUROPE, POLIRISK, F...</td>\n",
       "      <td>花旗外汇客户调查:英国公投结果料为留在欧盟</td>\n",
       "      <td>\\n记者 Mark Cranfield\\n【彭博】-- 花旗前夜发布调查报告称,在190位接...</td>\n",
       "    </tr>\n",
       "  </tbody>\n",
       "</table>\n",
       "</div>"
      ],
      "text/plain": [
       "                suid             last_update      language  analyst  \\\n",
       "58695   O3C2XJ6JTSEA 2016-03-01 00:05:43.185       ENGLISH     True   \n",
       "228772  O3C3L76JTSEC 2016-03-01 00:19:55.388  CHINESE_SIMP     True   \n",
       "\n",
       "              date tickers eqt_codes  \\\n",
       "58695   2016-03-01    None      None   \n",
       "228772  2016-03-01    None      None   \n",
       "\n",
       "                                                   topics  \\\n",
       "58695   TOPMKTWRAP, GBN, BFWFI, ANABON, ACEXCLUDE, ORI...   \n",
       "228772  GBN, ANABON, ORIGINAL, EM, EUROPE, POLIRISK, F...   \n",
       "\n",
       "                                                 headline  \\\n",
       "58695   U.K. Expected to Comfortably Vote to Remain in...   \n",
       "228772                              花旗外汇客户调查:英国公投结果料为留在欧盟   \n",
       "\n",
       "                                                     body  \n",
       "58695   \\nBy Mark Cranfield\\n     (Bloomberg) -- U.K. ...  \n",
       "228772  \\n记者 Mark Cranfield\\n【彭博】-- 花旗前夜发布调查报告称,在190位接...  "
      ]
     },
     "execution_count": 45,
     "metadata": {},
     "output_type": "execute_result"
    }
   ],
   "source": [
    "df_C_E_filtered[(df_C_E.headline=='花旗外汇客户调查:英国公投结果料为留在欧盟') | (df_C_E.headline=='U.K. Expected to Comfortably Vote to Remain in EU: Citi FX Poll')]"
   ]
  },
  {
   "cell_type": "markdown",
   "metadata": {},
   "source": [
    "4. All the general news are not interested for example: bloomberg summaries... however, these news always matches the third condition, therefore, there is no necessite to add another condition"
   ]
  },
  {
   "cell_type": "markdown",
   "metadata": {},
   "source": [
    "This is the confirm by the following plot, onyl three unique headline which begins with \"Bloomberg\" exist, after filtering out by the third condition"
   ]
  },
  {
   "cell_type": "code",
   "execution_count": 30,
   "metadata": {},
   "outputs": [
    {
     "data": {
      "text/plain": [
       "array(['彭博盘前简报更新:人行降准;中国PMI;积极财政;预警房价;澳决策',\n",
       "       '彭博调查:国开行3年金融债发行利率料2.72%;降准或利于中短端',\n",
       "       '彭博盘前简报:美制造业企稳;欧元区风险;公开市场操作;华润啤酒'], dtype=object)"
      ]
     },
     "execution_count": 30,
     "metadata": {},
     "output_type": "execute_result"
    }
   ],
   "source": [
    "df_C_E_filtered=df_C_E_filtered[~find_key(df_C_E_filtered)]\n",
    "df_C_E_filtered[df_C_E_filtered['headline'].str.startswith('彭博') & (df_C_E_filtered.language =='CHINESE_SIMP')].headline.unique()"
   ]
  },
  {
   "cell_type": "markdown",
   "metadata": {},
   "source": [
    "**Example:**"
   ]
  },
  {
   "cell_type": "code",
   "execution_count": 46,
   "metadata": {},
   "outputs": [
    {
     "name": "stderr",
     "output_type": "stream",
     "text": [
      "/opt/tmp/tmp/ipykernel_427859/3386402529.py:1: UserWarning: Boolean Series key will be reindexed to match DataFrame index.\n",
      "  df_filtered[(df.headline=='彭博要闻')]\n"
     ]
    },
    {
     "data": {
      "text/html": [
       "<div>\n",
       "<style scoped>\n",
       "    .dataframe tbody tr th:only-of-type {\n",
       "        vertical-align: middle;\n",
       "    }\n",
       "\n",
       "    .dataframe tbody tr th {\n",
       "        vertical-align: top;\n",
       "    }\n",
       "\n",
       "    .dataframe thead th {\n",
       "        text-align: right;\n",
       "    }\n",
       "</style>\n",
       "<table border=\"1\" class=\"dataframe\">\n",
       "  <thead>\n",
       "    <tr style=\"text-align: right;\">\n",
       "      <th></th>\n",
       "      <th>suid</th>\n",
       "      <th>last_update</th>\n",
       "      <th>language</th>\n",
       "      <th>analyst</th>\n",
       "      <th>date</th>\n",
       "      <th>tickers</th>\n",
       "      <th>eqt_codes</th>\n",
       "      <th>topics</th>\n",
       "      <th>headline</th>\n",
       "      <th>body</th>\n",
       "    </tr>\n",
       "  </thead>\n",
       "  <tbody>\n",
       "    <tr>\n",
       "      <th>195363</th>\n",
       "      <td>O3C2WK6JIJYB</td>\n",
       "      <td>2016-03-01 00:05:08.799</td>\n",
       "      <td>CHINESE_SIMP</td>\n",
       "      <td>False</td>\n",
       "      <td>2016-03-01</td>\n",
       "      <td>None</td>\n",
       "      <td>None</td>\n",
       "      <td>ORIGINAL, NASIA, EM, WORLD, ASIAX, SPREGIONS, ...</td>\n",
       "      <td>彭博要闻</td>\n",
       "      <td>\\n下列为彭博今日要闻:\\n\\n财经\\n1.  彭博盘前简报:人行降准;中国PMI;积极财政...</td>\n",
       "    </tr>\n",
       "    <tr>\n",
       "      <th>337680</th>\n",
       "      <td>O3CB8J6JIJWZ</td>\n",
       "      <td>2016-03-01 03:05:07.823</td>\n",
       "      <td>CHINESE_SIMP</td>\n",
       "      <td>False</td>\n",
       "      <td>2016-03-01</td>\n",
       "      <td>None</td>\n",
       "      <td>None</td>\n",
       "      <td>ORIGINAL, NASIA, EM, WORLD, ASIAX, SPREGIONS, ...</td>\n",
       "      <td>彭博要闻</td>\n",
       "      <td>\\n下列为彭博今日要闻:\\n\\n财经\\n1.  早市综述:中国意外降准 暂停逆回购;A股涨;...</td>\n",
       "    </tr>\n",
       "    <tr>\n",
       "      <th>306051</th>\n",
       "      <td>O3CE0K6JIJWI</td>\n",
       "      <td>2016-03-01 04:05:08.620</td>\n",
       "      <td>CHINESE_SIMP</td>\n",
       "      <td>False</td>\n",
       "      <td>2016-03-01</td>\n",
       "      <td>None</td>\n",
       "      <td>None</td>\n",
       "      <td>ORIGINAL, NASIA, EM, WORLD, ASIAX, SPREGIONS, ...</td>\n",
       "      <td>彭博要闻</td>\n",
       "      <td>\\n下列为彭博今日要闻:\\n\\n财经\\n1.  午市综述:A股震荡 短期看法偏空;人民币升;...</td>\n",
       "    </tr>\n",
       "    <tr>\n",
       "      <th>102892</th>\n",
       "      <td>O3CGSP6JIJXV</td>\n",
       "      <td>2016-03-01 05:05:13.689</td>\n",
       "      <td>CHINESE_SIMP</td>\n",
       "      <td>False</td>\n",
       "      <td>2016-03-01</td>\n",
       "      <td>None</td>\n",
       "      <td>None</td>\n",
       "      <td>ORIGINAL, NASIA, EM, WORLD, ASIAX, SPREGIONS, ...</td>\n",
       "      <td>彭博要闻</td>\n",
       "      <td>\\n下列为彭博今日要闻:\\n\\n财经\\n1.  午市综述:A股震荡 短期看法偏空;人民币升;...</td>\n",
       "    </tr>\n",
       "    <tr>\n",
       "      <th>352294</th>\n",
       "      <td>O3CJKM6JIJXQ</td>\n",
       "      <td>2016-03-01 06:05:10.821</td>\n",
       "      <td>CHINESE_SIMP</td>\n",
       "      <td>False</td>\n",
       "      <td>2016-03-01</td>\n",
       "      <td>None</td>\n",
       "      <td>None</td>\n",
       "      <td>ORIGINAL, NASIA, EM, WORLD, ASIAX, SPREGIONS, ...</td>\n",
       "      <td>彭博要闻</td>\n",
       "      <td>\\n下列为彭博今日要闻:\\n\\n财经\\n1.  午市综述:A股震荡 短期看法偏空;人民币升;...</td>\n",
       "    </tr>\n",
       "    <tr>\n",
       "      <th>164132</th>\n",
       "      <td>O3CMCM6JIJXW</td>\n",
       "      <td>2016-03-01 07:05:10.897</td>\n",
       "      <td>CHINESE_SIMP</td>\n",
       "      <td>False</td>\n",
       "      <td>2016-03-01</td>\n",
       "      <td>None</td>\n",
       "      <td>None</td>\n",
       "      <td>ORIGINAL, NASIA, EM, WORLD, ASIAX, SPREGIONS, ...</td>\n",
       "      <td>彭博要闻</td>\n",
       "      <td>\\n下列为彭博今日要闻:\\n\\n财经\\n1.  尾盘综述:三地股市涨;境内外汇差消失;降准后...</td>\n",
       "    </tr>\n",
       "    <tr>\n",
       "      <th>352370</th>\n",
       "      <td>O3CP4N6JIJUO</td>\n",
       "      <td>2016-03-01 08:05:11.151</td>\n",
       "      <td>CHINESE_SIMP</td>\n",
       "      <td>False</td>\n",
       "      <td>2016-03-01</td>\n",
       "      <td>None</td>\n",
       "      <td>None</td>\n",
       "      <td>ORIGINAL, NASIA, EM, WORLD, ASIAX, SPREGIONS, ...</td>\n",
       "      <td>彭博要闻</td>\n",
       "      <td>\\n下列为彭博今日要闻:\\n\\n财经\\n1.  尾盘综述:三地股市涨;境内外汇差消失;降准后...</td>\n",
       "    </tr>\n",
       "    <tr>\n",
       "      <th>400574</th>\n",
       "      <td>O3CRWO6JIJYB</td>\n",
       "      <td>2016-03-01 09:05:12.973</td>\n",
       "      <td>CHINESE_SIMP</td>\n",
       "      <td>False</td>\n",
       "      <td>2016-03-01</td>\n",
       "      <td>None</td>\n",
       "      <td>None</td>\n",
       "      <td>ORIGINAL, NASIA, EM, WORLD, ASIAX, SPREGIONS, ...</td>\n",
       "      <td>彭博要闻</td>\n",
       "      <td>\\n下列为彭博今日要闻:\\n\\n财经\\n1.  尾盘综述:三地股市涨;境内外汇差消失;降准后...</td>\n",
       "    </tr>\n",
       "    <tr>\n",
       "      <th>400613</th>\n",
       "      <td>O3CUOO6JIJWM</td>\n",
       "      <td>2016-03-01 10:05:12.566</td>\n",
       "      <td>CHINESE_SIMP</td>\n",
       "      <td>False</td>\n",
       "      <td>2016-03-01</td>\n",
       "      <td>None</td>\n",
       "      <td>None</td>\n",
       "      <td>ORIGINAL, NASIA, EM, WORLD, ASIAX, SPREGIONS, ...</td>\n",
       "      <td>彭博要闻</td>\n",
       "      <td>\\n下列为彭博今日要闻:\\n\\n财经\\n1.  盘后综述:三地股市涨;人民币走强;国债降准后...</td>\n",
       "    </tr>\n",
       "    <tr>\n",
       "      <th>103119</th>\n",
       "      <td>O3CXGO6JIJW5</td>\n",
       "      <td>2016-03-01 11:05:12.350</td>\n",
       "      <td>CHINESE_SIMP</td>\n",
       "      <td>False</td>\n",
       "      <td>2016-03-01</td>\n",
       "      <td>None</td>\n",
       "      <td>None</td>\n",
       "      <td>ORIGINAL, NASIA, EM, WORLD, ASIAX, SPREGIONS, ...</td>\n",
       "      <td>彭博要闻</td>\n",
       "      <td>\\n下列为彭博今日要闻:\\n\\n财经\\n1.  盘后综述:三地股市涨;人民币走强;国债降准后...</td>\n",
       "    </tr>\n",
       "    <tr>\n",
       "      <th>400690</th>\n",
       "      <td>O3D08O6JIJYB</td>\n",
       "      <td>2016-03-01 12:05:12.677</td>\n",
       "      <td>CHINESE_SIMP</td>\n",
       "      <td>False</td>\n",
       "      <td>2016-03-01</td>\n",
       "      <td>None</td>\n",
       "      <td>None</td>\n",
       "      <td>ORIGINAL, NASIA, EM, WORLD, ASIAX, SPREGIONS, ...</td>\n",
       "      <td>彭博要闻</td>\n",
       "      <td>\\n下列为彭博今日要闻:\\n\\n财经\\n1.  盘后综述:三地股市涨;人民币走强;国债降准后...</td>\n",
       "    </tr>\n",
       "    <tr>\n",
       "      <th>243796</th>\n",
       "      <td>O3D30O6JIJYT</td>\n",
       "      <td>2016-03-01 13:05:12.724</td>\n",
       "      <td>CHINESE_SIMP</td>\n",
       "      <td>False</td>\n",
       "      <td>2016-03-01</td>\n",
       "      <td>None</td>\n",
       "      <td>None</td>\n",
       "      <td>ORIGINAL, NASIA, EM, WORLD, ASIAX, SPREGIONS, ...</td>\n",
       "      <td>彭博要闻</td>\n",
       "      <td>\\n下列为彭博今日要闻:\\n\\n财经\\n1.  盘后综述:三地股市涨;人民币走强;国债降准后...</td>\n",
       "    </tr>\n",
       "    <tr>\n",
       "      <th>338029</th>\n",
       "      <td>O3D5SM6JIJWI</td>\n",
       "      <td>2016-03-01 14:05:10.315</td>\n",
       "      <td>CHINESE_SIMP</td>\n",
       "      <td>False</td>\n",
       "      <td>2016-03-01</td>\n",
       "      <td>None</td>\n",
       "      <td>None</td>\n",
       "      <td>ORIGINAL, NASIA, EM, WORLD, ASIAX, SPREGIONS, ...</td>\n",
       "      <td>彭博要闻</td>\n",
       "      <td>\\n下列为彭博今日要闻:\\n\\n财经\\n1.  盘后综述:三地股市涨;人民币走强;国债降准后...</td>\n",
       "    </tr>\n",
       "    <tr>\n",
       "      <th>73880</th>\n",
       "      <td>O3D8KL6JIJYI</td>\n",
       "      <td>2016-03-01 15:05:09.738</td>\n",
       "      <td>CHINESE_SIMP</td>\n",
       "      <td>False</td>\n",
       "      <td>2016-03-01</td>\n",
       "      <td>None</td>\n",
       "      <td>None</td>\n",
       "      <td>ORIGINAL, NASIA, EM, WORLD, ASIAX, SPREGIONS, ...</td>\n",
       "      <td>彭博要闻</td>\n",
       "      <td>\\n下列为彭博今日要闻:\\n\\n财经\\n1.  盘后综述:三地股市涨;人民币走强;国债降准后...</td>\n",
       "    </tr>\n",
       "    <tr>\n",
       "      <th>352643</th>\n",
       "      <td>O3DBCL6JIJYS</td>\n",
       "      <td>2016-03-01 16:05:09.800</td>\n",
       "      <td>CHINESE_SIMP</td>\n",
       "      <td>False</td>\n",
       "      <td>2016-03-01</td>\n",
       "      <td>None</td>\n",
       "      <td>None</td>\n",
       "      <td>ORIGINAL, NASIA, EM, WORLD, ASIAX, SPREGIONS, ...</td>\n",
       "      <td>彭博要闻</td>\n",
       "      <td>\\n下列为彭博今日要闻:\\n\\n财经\\n1.  图解为何中国经济将难以修复\\n2.  彭博经...</td>\n",
       "    </tr>\n",
       "    <tr>\n",
       "      <th>149698</th>\n",
       "      <td>O3DE4L6JIJXX</td>\n",
       "      <td>2016-03-01 17:05:09.663</td>\n",
       "      <td>CHINESE_SIMP</td>\n",
       "      <td>False</td>\n",
       "      <td>2016-03-01</td>\n",
       "      <td>None</td>\n",
       "      <td>None</td>\n",
       "      <td>ORIGINAL, NASIA, EM, WORLD, ASIAX, SPREGIONS, ...</td>\n",
       "      <td>彭博要闻</td>\n",
       "      <td>\\n下列为彭博今日要闻:\\n\\n财经\\n1.  图解为何中国经济将难以修复\\n2.  彭博经...</td>\n",
       "    </tr>\n",
       "    <tr>\n",
       "      <th>164483</th>\n",
       "      <td>O3DGWL6JIJXS</td>\n",
       "      <td>2016-03-01 18:05:09.397</td>\n",
       "      <td>CHINESE_SIMP</td>\n",
       "      <td>False</td>\n",
       "      <td>2016-03-01</td>\n",
       "      <td>None</td>\n",
       "      <td>None</td>\n",
       "      <td>ORIGINAL, NASIA, EM, WORLD, ASIAX, SPREGIONS, ...</td>\n",
       "      <td>彭博要闻</td>\n",
       "      <td>\\n下列为彭博今日要闻:\\n\\n财经\\n1.  图解为何中国经济将难以修复\\n2.  彭博经...</td>\n",
       "    </tr>\n",
       "    <tr>\n",
       "      <th>132898</th>\n",
       "      <td>O3DJOK6JIK0W</td>\n",
       "      <td>2016-03-01 19:05:08.948</td>\n",
       "      <td>CHINESE_SIMP</td>\n",
       "      <td>False</td>\n",
       "      <td>2016-03-01</td>\n",
       "      <td>None</td>\n",
       "      <td>None</td>\n",
       "      <td>ORIGINAL, NASIA, EM, WORLD, ASIAX, SPREGIONS, ...</td>\n",
       "      <td>彭博要闻</td>\n",
       "      <td>\\n下列为彭博今日要闻:\\n\\n财经\\n1.  图解为何中国经济将难以修复\\n2.  彭博经...</td>\n",
       "    </tr>\n",
       "    <tr>\n",
       "      <th>244007</th>\n",
       "      <td>O3DMGI6JIJVF</td>\n",
       "      <td>2016-03-01 20:05:06.273</td>\n",
       "      <td>CHINESE_SIMP</td>\n",
       "      <td>False</td>\n",
       "      <td>2016-03-01</td>\n",
       "      <td>None</td>\n",
       "      <td>None</td>\n",
       "      <td>ORIGINAL, NASIA, EM, WORLD, ASIAX, SPREGIONS, ...</td>\n",
       "      <td>彭博要闻</td>\n",
       "      <td>\\n下列为彭博今日要闻:\\n\\n财经\\n1.  图解为何中国经济将难以修复\\n2.  彭博经...</td>\n",
       "    </tr>\n",
       "    <tr>\n",
       "      <th>612</th>\n",
       "      <td>O3DP8I6JIJYM</td>\n",
       "      <td>2016-03-01 21:05:06.630</td>\n",
       "      <td>CHINESE_SIMP</td>\n",
       "      <td>False</td>\n",
       "      <td>2016-03-01</td>\n",
       "      <td>None</td>\n",
       "      <td>None</td>\n",
       "      <td>ORIGINAL, NASIA, EM, WORLD, ASIAX, SPREGIONS, ...</td>\n",
       "      <td>彭博要闻</td>\n",
       "      <td>\\n下列为彭博今日要闻:\\n\\n财经\\n1.  图解为何中国经济将难以修复\\n2.  彭博经...</td>\n",
       "    </tr>\n",
       "    <tr>\n",
       "      <th>306802</th>\n",
       "      <td>O3DS0I6JIJXO</td>\n",
       "      <td>2016-03-01 22:05:06.520</td>\n",
       "      <td>CHINESE_SIMP</td>\n",
       "      <td>False</td>\n",
       "      <td>2016-03-01</td>\n",
       "      <td>None</td>\n",
       "      <td>None</td>\n",
       "      <td>ORIGINAL, NASIA, EM, WORLD, ASIAX, SPREGIONS, ...</td>\n",
       "      <td>彭博要闻</td>\n",
       "      <td>\\n下列为彭博今日要闻:\\n\\n财经\\n1.  图解为何中国经济将难以修复\\n2.  在岸人...</td>\n",
       "    </tr>\n",
       "    <tr>\n",
       "      <th>118186</th>\n",
       "      <td>O3DUSK6JIJZA</td>\n",
       "      <td>2016-03-01 23:05:08.917</td>\n",
       "      <td>CHINESE_SIMP</td>\n",
       "      <td>False</td>\n",
       "      <td>2016-03-01</td>\n",
       "      <td>None</td>\n",
       "      <td>None</td>\n",
       "      <td>ORIGINAL, NASIA, EM, WORLD, ASIAX, SPREGIONS, ...</td>\n",
       "      <td>彭博要闻</td>\n",
       "      <td>\\n下列为彭博今日要闻:\\n\\n财经\\n1.  两会结束A股或迎“小蜜月” 六大关键词抢先看...</td>\n",
       "    </tr>\n",
       "  </tbody>\n",
       "</table>\n",
       "</div>"
      ],
      "text/plain": [
       "                suid             last_update      language  analyst  \\\n",
       "195363  O3C2WK6JIJYB 2016-03-01 00:05:08.799  CHINESE_SIMP    False   \n",
       "337680  O3CB8J6JIJWZ 2016-03-01 03:05:07.823  CHINESE_SIMP    False   \n",
       "306051  O3CE0K6JIJWI 2016-03-01 04:05:08.620  CHINESE_SIMP    False   \n",
       "102892  O3CGSP6JIJXV 2016-03-01 05:05:13.689  CHINESE_SIMP    False   \n",
       "352294  O3CJKM6JIJXQ 2016-03-01 06:05:10.821  CHINESE_SIMP    False   \n",
       "164132  O3CMCM6JIJXW 2016-03-01 07:05:10.897  CHINESE_SIMP    False   \n",
       "352370  O3CP4N6JIJUO 2016-03-01 08:05:11.151  CHINESE_SIMP    False   \n",
       "400574  O3CRWO6JIJYB 2016-03-01 09:05:12.973  CHINESE_SIMP    False   \n",
       "400613  O3CUOO6JIJWM 2016-03-01 10:05:12.566  CHINESE_SIMP    False   \n",
       "103119  O3CXGO6JIJW5 2016-03-01 11:05:12.350  CHINESE_SIMP    False   \n",
       "400690  O3D08O6JIJYB 2016-03-01 12:05:12.677  CHINESE_SIMP    False   \n",
       "243796  O3D30O6JIJYT 2016-03-01 13:05:12.724  CHINESE_SIMP    False   \n",
       "338029  O3D5SM6JIJWI 2016-03-01 14:05:10.315  CHINESE_SIMP    False   \n",
       "73880   O3D8KL6JIJYI 2016-03-01 15:05:09.738  CHINESE_SIMP    False   \n",
       "352643  O3DBCL6JIJYS 2016-03-01 16:05:09.800  CHINESE_SIMP    False   \n",
       "149698  O3DE4L6JIJXX 2016-03-01 17:05:09.663  CHINESE_SIMP    False   \n",
       "164483  O3DGWL6JIJXS 2016-03-01 18:05:09.397  CHINESE_SIMP    False   \n",
       "132898  O3DJOK6JIK0W 2016-03-01 19:05:08.948  CHINESE_SIMP    False   \n",
       "244007  O3DMGI6JIJVF 2016-03-01 20:05:06.273  CHINESE_SIMP    False   \n",
       "612     O3DP8I6JIJYM 2016-03-01 21:05:06.630  CHINESE_SIMP    False   \n",
       "306802  O3DS0I6JIJXO 2016-03-01 22:05:06.520  CHINESE_SIMP    False   \n",
       "118186  O3DUSK6JIJZA 2016-03-01 23:05:08.917  CHINESE_SIMP    False   \n",
       "\n",
       "              date tickers eqt_codes  \\\n",
       "195363  2016-03-01    None      None   \n",
       "337680  2016-03-01    None      None   \n",
       "306051  2016-03-01    None      None   \n",
       "102892  2016-03-01    None      None   \n",
       "352294  2016-03-01    None      None   \n",
       "164132  2016-03-01    None      None   \n",
       "352370  2016-03-01    None      None   \n",
       "400574  2016-03-01    None      None   \n",
       "400613  2016-03-01    None      None   \n",
       "103119  2016-03-01    None      None   \n",
       "400690  2016-03-01    None      None   \n",
       "243796  2016-03-01    None      None   \n",
       "338029  2016-03-01    None      None   \n",
       "73880   2016-03-01    None      None   \n",
       "352643  2016-03-01    None      None   \n",
       "149698  2016-03-01    None      None   \n",
       "164483  2016-03-01    None      None   \n",
       "132898  2016-03-01    None      None   \n",
       "244007  2016-03-01    None      None   \n",
       "612     2016-03-01    None      None   \n",
       "306802  2016-03-01    None      None   \n",
       "118186  2016-03-01    None      None   \n",
       "\n",
       "                                                   topics headline  \\\n",
       "195363  ORIGINAL, NASIA, EM, WORLD, ASIAX, SPREGIONS, ...     彭博要闻   \n",
       "337680  ORIGINAL, NASIA, EM, WORLD, ASIAX, SPREGIONS, ...     彭博要闻   \n",
       "306051  ORIGINAL, NASIA, EM, WORLD, ASIAX, SPREGIONS, ...     彭博要闻   \n",
       "102892  ORIGINAL, NASIA, EM, WORLD, ASIAX, SPREGIONS, ...     彭博要闻   \n",
       "352294  ORIGINAL, NASIA, EM, WORLD, ASIAX, SPREGIONS, ...     彭博要闻   \n",
       "164132  ORIGINAL, NASIA, EM, WORLD, ASIAX, SPREGIONS, ...     彭博要闻   \n",
       "352370  ORIGINAL, NASIA, EM, WORLD, ASIAX, SPREGIONS, ...     彭博要闻   \n",
       "400574  ORIGINAL, NASIA, EM, WORLD, ASIAX, SPREGIONS, ...     彭博要闻   \n",
       "400613  ORIGINAL, NASIA, EM, WORLD, ASIAX, SPREGIONS, ...     彭博要闻   \n",
       "103119  ORIGINAL, NASIA, EM, WORLD, ASIAX, SPREGIONS, ...     彭博要闻   \n",
       "400690  ORIGINAL, NASIA, EM, WORLD, ASIAX, SPREGIONS, ...     彭博要闻   \n",
       "243796  ORIGINAL, NASIA, EM, WORLD, ASIAX, SPREGIONS, ...     彭博要闻   \n",
       "338029  ORIGINAL, NASIA, EM, WORLD, ASIAX, SPREGIONS, ...     彭博要闻   \n",
       "73880   ORIGINAL, NASIA, EM, WORLD, ASIAX, SPREGIONS, ...     彭博要闻   \n",
       "352643  ORIGINAL, NASIA, EM, WORLD, ASIAX, SPREGIONS, ...     彭博要闻   \n",
       "149698  ORIGINAL, NASIA, EM, WORLD, ASIAX, SPREGIONS, ...     彭博要闻   \n",
       "164483  ORIGINAL, NASIA, EM, WORLD, ASIAX, SPREGIONS, ...     彭博要闻   \n",
       "132898  ORIGINAL, NASIA, EM, WORLD, ASIAX, SPREGIONS, ...     彭博要闻   \n",
       "244007  ORIGINAL, NASIA, EM, WORLD, ASIAX, SPREGIONS, ...     彭博要闻   \n",
       "612     ORIGINAL, NASIA, EM, WORLD, ASIAX, SPREGIONS, ...     彭博要闻   \n",
       "306802  ORIGINAL, NASIA, EM, WORLD, ASIAX, SPREGIONS, ...     彭博要闻   \n",
       "118186  ORIGINAL, NASIA, EM, WORLD, ASIAX, SPREGIONS, ...     彭博要闻   \n",
       "\n",
       "                                                     body  \n",
       "195363  \\n下列为彭博今日要闻:\\n\\n财经\\n1.  彭博盘前简报:人行降准;中国PMI;积极财政...  \n",
       "337680  \\n下列为彭博今日要闻:\\n\\n财经\\n1.  早市综述:中国意外降准 暂停逆回购;A股涨;...  \n",
       "306051  \\n下列为彭博今日要闻:\\n\\n财经\\n1.  午市综述:A股震荡 短期看法偏空;人民币升;...  \n",
       "102892  \\n下列为彭博今日要闻:\\n\\n财经\\n1.  午市综述:A股震荡 短期看法偏空;人民币升;...  \n",
       "352294  \\n下列为彭博今日要闻:\\n\\n财经\\n1.  午市综述:A股震荡 短期看法偏空;人民币升;...  \n",
       "164132  \\n下列为彭博今日要闻:\\n\\n财经\\n1.  尾盘综述:三地股市涨;境内外汇差消失;降准后...  \n",
       "352370  \\n下列为彭博今日要闻:\\n\\n财经\\n1.  尾盘综述:三地股市涨;境内外汇差消失;降准后...  \n",
       "400574  \\n下列为彭博今日要闻:\\n\\n财经\\n1.  尾盘综述:三地股市涨;境内外汇差消失;降准后...  \n",
       "400613  \\n下列为彭博今日要闻:\\n\\n财经\\n1.  盘后综述:三地股市涨;人民币走强;国债降准后...  \n",
       "103119  \\n下列为彭博今日要闻:\\n\\n财经\\n1.  盘后综述:三地股市涨;人民币走强;国债降准后...  \n",
       "400690  \\n下列为彭博今日要闻:\\n\\n财经\\n1.  盘后综述:三地股市涨;人民币走强;国债降准后...  \n",
       "243796  \\n下列为彭博今日要闻:\\n\\n财经\\n1.  盘后综述:三地股市涨;人民币走强;国债降准后...  \n",
       "338029  \\n下列为彭博今日要闻:\\n\\n财经\\n1.  盘后综述:三地股市涨;人民币走强;国债降准后...  \n",
       "73880   \\n下列为彭博今日要闻:\\n\\n财经\\n1.  盘后综述:三地股市涨;人民币走强;国债降准后...  \n",
       "352643  \\n下列为彭博今日要闻:\\n\\n财经\\n1.  图解为何中国经济将难以修复\\n2.  彭博经...  \n",
       "149698  \\n下列为彭博今日要闻:\\n\\n财经\\n1.  图解为何中国经济将难以修复\\n2.  彭博经...  \n",
       "164483  \\n下列为彭博今日要闻:\\n\\n财经\\n1.  图解为何中国经济将难以修复\\n2.  彭博经...  \n",
       "132898  \\n下列为彭博今日要闻:\\n\\n财经\\n1.  图解为何中国经济将难以修复\\n2.  彭博经...  \n",
       "244007  \\n下列为彭博今日要闻:\\n\\n财经\\n1.  图解为何中国经济将难以修复\\n2.  彭博经...  \n",
       "612     \\n下列为彭博今日要闻:\\n\\n财经\\n1.  图解为何中国经济将难以修复\\n2.  彭博经...  \n",
       "306802  \\n下列为彭博今日要闻:\\n\\n财经\\n1.  图解为何中国经济将难以修复\\n2.  在岸人...  \n",
       "118186  \\n下列为彭博今日要闻:\\n\\n财经\\n1.  两会结束A股或迎“小蜜月” 六大关键词抢先看...  "
      ]
     },
     "execution_count": 46,
     "metadata": {},
     "output_type": "execute_result"
    }
   ],
   "source": [
    "df_C_E_filtered[(df_C_E.headline=='彭博要闻')]  ## headline equals to \"Bloomberg summary\""
   ]
  },
  {
   "cell_type": "markdown",
   "metadata": {},
   "source": [
    "### Write files that only have Chinese version"
   ]
  },
  {
   "cell_type": "markdown",
   "metadata": {},
   "source": [
    "Here, the dataframe used is the **whole dataset for Chinese**.\n",
    "If will filter out all the news that have English versions based on the patters.\n",
    "For analyse, it samples 200 news randomly and write into file."
   ]
  },
  {
   "cell_type": "code",
   "execution_count": 83,
   "metadata": {},
   "outputs": [],
   "source": [
    "df_C_E_filtered=df_C_E[~find_words(df_C_E)]\n",
    "df_C_E_filtered=df_C_E_filtered[~find_star(df_C_E_filtered)]\n",
    "df_C_E_filtered=df_C_E_filtered[df_C_E_filtered.language =='CHINESE_SIMP']"
   ]
  },
  {
   "cell_type": "code",
   "execution_count": 84,
   "metadata": {},
   "outputs": [
    {
     "data": {
      "text/html": [
       "<div>\n",
       "<style scoped>\n",
       "    .dataframe tbody tr th:only-of-type {\n",
       "        vertical-align: middle;\n",
       "    }\n",
       "\n",
       "    .dataframe tbody tr th {\n",
       "        vertical-align: top;\n",
       "    }\n",
       "\n",
       "    .dataframe thead th {\n",
       "        text-align: right;\n",
       "    }\n",
       "</style>\n",
       "<table border=\"1\" class=\"dataframe\">\n",
       "  <thead>\n",
       "    <tr style=\"text-align: right;\">\n",
       "      <th></th>\n",
       "      <th>suid</th>\n",
       "      <th>last_update</th>\n",
       "      <th>language</th>\n",
       "      <th>analyst</th>\n",
       "      <th>date</th>\n",
       "      <th>headline</th>\n",
       "      <th>body</th>\n",
       "      <th>mask</th>\n",
       "    </tr>\n",
       "  </thead>\n",
       "  <tbody>\n",
       "    <tr>\n",
       "      <th>3478408</th>\n",
       "      <td>MTQ0891A1I4H</td>\n",
       "      <td>2013-09-26 06:48:09.931</td>\n",
       "      <td>CHINESE_SIMP</td>\n",
       "      <td>False</td>\n",
       "      <td>2013-09-26</td>\n",
       "      <td>台湾今日股市交易呈现外资卖超 (图表)</td>\n",
       "      <td>\\n记者 Michael J. Munoz\\n   ...</td>\n",
       "      <td>True</td>\n",
       "    </tr>\n",
       "    <tr>\n",
       "      <th>489847</th>\n",
       "      <td>QL4M70DWX2QQ</td>\n",
       "      <td>2020-12-10 13:45:00.712</td>\n",
       "      <td>CHINESE_SIMP</td>\n",
       "      <td>False</td>\n",
       "      <td>2020-12-10</td>\n",
       "      <td>美国11月份消费物价指数: 统计概要 (表)</td>\n",
       "      <td>\\n记者 Kristy Scheuble\\n【彭博】 -- 以下表格是美国劳工部在华盛顿公布...</td>\n",
       "      <td>True</td>\n",
       "    </tr>\n",
       "    <tr>\n",
       "      <th>888677</th>\n",
       "      <td>NHUCWR6S972A</td>\n",
       "      <td>2015-01-08 04:38:51.167</td>\n",
       "      <td>CHINESE_SIMP</td>\n",
       "      <td>True</td>\n",
       "      <td>2015-01-08</td>\n",
       "      <td>国泰君安:中国股市杠杆交易金额料续增 或激发监管去杠杆</td>\n",
       "      <td>\\n彭博新闻社报道\\n【彭博】-- 首席经济学家任泽平8日的报告称,中国股市正在从快牛切换\\...</td>\n",
       "      <td>True</td>\n",
       "    </tr>\n",
       "    <tr>\n",
       "      <th>2981424</th>\n",
       "      <td>ML10PV6KLVRW</td>\n",
       "      <td>2013-04-10 06:29:55.939</td>\n",
       "      <td>CHINESE_SIMP</td>\n",
       "      <td>False</td>\n",
       "      <td>2013-04-10</td>\n",
       "      <td>台湾3月份公债买卖断以玉山银买超最多 中华邮政第二</td>\n",
       "      <td>\\n记者 Argin Chang \\n4月10日【彭博】-- 据台湾柜买中心网站公佈的3月份...</td>\n",
       "      <td>True</td>\n",
       "    </tr>\n",
       "    <tr>\n",
       "      <th>3234616</th>\n",
       "      <td>QC3UNSDWLU6H</td>\n",
       "      <td>2020-06-18 04:48:17.112</td>\n",
       "      <td>CHINESE_SIMP</td>\n",
       "      <td>False</td>\n",
       "      <td>2020-06-18</td>\n",
       "      <td>台湾货币市场综述:利率靠向低位;2年存单利率续跌至低于1年期</td>\n",
       "      <td>\\n记者 Miaojung Lin\\n     【彭博】-- 据票券商及银行人士表示,近日本...</td>\n",
       "      <td>True</td>\n",
       "    </tr>\n",
       "    <tr>\n",
       "      <th>...</th>\n",
       "      <td>...</td>\n",
       "      <td>...</td>\n",
       "      <td>...</td>\n",
       "      <td>...</td>\n",
       "      <td>...</td>\n",
       "      <td>...</td>\n",
       "      <td>...</td>\n",
       "      <td>...</td>\n",
       "    </tr>\n",
       "    <tr>\n",
       "      <th>201156</th>\n",
       "      <td>NCI4P06LUTXQ</td>\n",
       "      <td>2014-09-29 00:00:00.003</td>\n",
       "      <td>CHINESE_SIMP</td>\n",
       "      <td>False</td>\n",
       "      <td>2014-09-29</td>\n",
       "      <td>香港上周五异动股回顾:上海电气; 顺风光电; 永利澳门; 中国资源交通</td>\n",
       "      <td>\\n彭博新闻社报道                                     ...</td>\n",
       "      <td>True</td>\n",
       "    </tr>\n",
       "    <tr>\n",
       "      <th>676628</th>\n",
       "      <td>PUEYGV6TTDS0</td>\n",
       "      <td>2019-07-10 06:38:55.106</td>\n",
       "      <td>CHINESE_SIMP</td>\n",
       "      <td>False</td>\n",
       "      <td>2019-07-10</td>\n",
       "      <td>* 美联储的George:人口结构会影响美国经济的展望</td>\n",
       "      <td>\\nTo view the source of this information click...</td>\n",
       "      <td>True</td>\n",
       "    </tr>\n",
       "    <tr>\n",
       "      <th>2387266</th>\n",
       "      <td>P099JX6K50XS</td>\n",
       "      <td>2017-12-01 00:04:45.149</td>\n",
       "      <td>CHINESE_SIMP</td>\n",
       "      <td>False</td>\n",
       "      <td>2017-12-01</td>\n",
       "      <td>中国债市盘前:12月负债巨量到期;熊市中债券借贷业务升温;财新PMI</td>\n",
       "      <td>\\n彭博新闻社报道\\n     【彭博】-- 在中国央行连续四日未在公开市场净投放资金后,银...</td>\n",
       "      <td>True</td>\n",
       "    </tr>\n",
       "    <tr>\n",
       "      <th>1658855</th>\n",
       "      <td>OGAXRA6K50Y2</td>\n",
       "      <td>2016-11-08 02:33:10.928</td>\n",
       "      <td>CHINESE_SIMP</td>\n",
       "      <td>False</td>\n",
       "      <td>2016-11-08</td>\n",
       "      <td>台湾短票市场:30天期自保票上交易日平均利率在0.328%</td>\n",
       "      <td>\\n记者 Miaojung Lin\\n【彭博】-- 据票券商交易员引用集保结算所统计,11月...</td>\n",
       "      <td>True</td>\n",
       "    </tr>\n",
       "    <tr>\n",
       "      <th>3669070</th>\n",
       "      <td>MR50E26KLVR5</td>\n",
       "      <td>2013-08-07 01:34:50.102</td>\n",
       "      <td>CHINESE_SIMP</td>\n",
       "      <td>False</td>\n",
       "      <td>2013-08-07</td>\n",
       "      <td>台积电将于8月9日发行125亿元台币无担保公司债</td>\n",
       "      <td>\\n记者 Chinmei Sung\\n8月7日【彭博】-- 根据台湾柜买中心网站公告,4年期...</td>\n",
       "      <td>True</td>\n",
       "    </tr>\n",
       "  </tbody>\n",
       "</table>\n",
       "<p>200 rows × 8 columns</p>\n",
       "</div>"
      ],
      "text/plain": [
       "                 suid             last_update      language  analyst  \\\n",
       "3478408  MTQ0891A1I4H 2013-09-26 06:48:09.931  CHINESE_SIMP    False   \n",
       "489847   QL4M70DWX2QQ 2020-12-10 13:45:00.712  CHINESE_SIMP    False   \n",
       "888677   NHUCWR6S972A 2015-01-08 04:38:51.167  CHINESE_SIMP     True   \n",
       "2981424  ML10PV6KLVRW 2013-04-10 06:29:55.939  CHINESE_SIMP    False   \n",
       "3234616  QC3UNSDWLU6H 2020-06-18 04:48:17.112  CHINESE_SIMP    False   \n",
       "...               ...                     ...           ...      ...   \n",
       "201156   NCI4P06LUTXQ 2014-09-29 00:00:00.003  CHINESE_SIMP    False   \n",
       "676628   PUEYGV6TTDS0 2019-07-10 06:38:55.106  CHINESE_SIMP    False   \n",
       "2387266  P099JX6K50XS 2017-12-01 00:04:45.149  CHINESE_SIMP    False   \n",
       "1658855  OGAXRA6K50Y2 2016-11-08 02:33:10.928  CHINESE_SIMP    False   \n",
       "3669070  MR50E26KLVR5 2013-08-07 01:34:50.102  CHINESE_SIMP    False   \n",
       "\n",
       "               date                             headline  \\\n",
       "3478408  2013-09-26                  台湾今日股市交易呈现外资卖超 (图表)   \n",
       "489847   2020-12-10               美国11月份消费物价指数: 统计概要 (表)   \n",
       "888677   2015-01-08          国泰君安:中国股市杠杆交易金额料续增 或激发监管去杠杆   \n",
       "2981424  2013-04-10            台湾3月份公债买卖断以玉山银买超最多 中华邮政第二   \n",
       "3234616  2020-06-18       台湾货币市场综述:利率靠向低位;2年存单利率续跌至低于1年期   \n",
       "...             ...                                  ...   \n",
       "201156   2014-09-29  香港上周五异动股回顾:上海电气; 顺风光电; 永利澳门; 中国资源交通   \n",
       "676628   2019-07-10          * 美联储的George:人口结构会影响美国经济的展望   \n",
       "2387266  2017-12-01   中国债市盘前:12月负债巨量到期;熊市中债券借贷业务升温;财新PMI   \n",
       "1658855  2016-11-08        台湾短票市场:30天期自保票上交易日平均利率在0.328%   \n",
       "3669070  2013-08-07             台积电将于8月9日发行125亿元台币无担保公司债   \n",
       "\n",
       "                                                      body  mask  \n",
       "3478408                      \\n记者 Michael J. Munoz\\n   ...  True  \n",
       "489847   \\n记者 Kristy Scheuble\\n【彭博】 -- 以下表格是美国劳工部在华盛顿公布...  True  \n",
       "888677   \\n彭博新闻社报道\\n【彭博】-- 首席经济学家任泽平8日的报告称,中国股市正在从快牛切换\\...  True  \n",
       "2981424  \\n记者 Argin Chang \\n4月10日【彭博】-- 据台湾柜买中心网站公佈的3月份...  True  \n",
       "3234616  \\n记者 Miaojung Lin\\n     【彭博】-- 据票券商及银行人士表示,近日本...  True  \n",
       "...                                                    ...   ...  \n",
       "201156   \\n彭博新闻社报道                                     ...  True  \n",
       "676628   \\nTo view the source of this information click...  True  \n",
       "2387266  \\n彭博新闻社报道\\n     【彭博】-- 在中国央行连续四日未在公开市场净投放资金后,银...  True  \n",
       "1658855  \\n记者 Miaojung Lin\\n【彭博】-- 据票券商交易员引用集保结算所统计,11月...  True  \n",
       "3669070  \\n记者 Chinmei Sung\\n8月7日【彭博】-- 根据台湾柜买中心网站公告,4年期...  True  \n",
       "\n",
       "[200 rows x 8 columns]"
      ]
     },
     "execution_count": 84,
     "metadata": {},
     "output_type": "execute_result"
    }
   ],
   "source": [
    "df_C_E_filtered.sample(200)"
   ]
  },
  {
   "cell_type": "code",
   "execution_count": 88,
   "metadata": {},
   "outputs": [],
   "source": [
    "df_C_E_filtered=df_C_E_filtered.sample(400)\n",
    "with open('2011_2023_CH.txt', 'w') as f:\n",
    "    for row in df_C_E_filtered.itertuples():\n",
    "        f.write(str(row.last_update) + '\\n')\n",
    "        f.write(str(row.analyst) + '\\n')\n",
    "        #f.write(str(row.topics) + '\\n')\n",
    "        f.write(f'    -------{row.headline}' + '\\n')\n",
    "        f.write(f'    {row.body}' + '\\n')"
   ]
  },
  {
   "cell_type": "markdown",
   "metadata": {},
   "source": [
    "### Observation"
   ]
  },
  {
   "cell_type": "markdown",
   "metadata": {},
   "source": [
    "What's these news about... how to categorize them..."
   ]
  },
  {
   "cell_type": "markdown",
   "metadata": {},
   "source": [
    "# Exploration"
   ]
  },
  {
   "cell_type": "markdown",
   "metadata": {},
   "source": [
    "## Basic analysis"
   ]
  },
  {
   "cell_type": "markdown",
   "metadata": {},
   "source": [
    "### Read Data"
   ]
  },
  {
   "cell_type": "code",
   "execution_count": 123,
   "metadata": {},
   "outputs": [
    {
     "data": {
      "text/html": [
       "<div>\n",
       "<style scoped>\n",
       "    .dataframe tbody tr th:only-of-type {\n",
       "        vertical-align: middle;\n",
       "    }\n",
       "\n",
       "    .dataframe tbody tr th {\n",
       "        vertical-align: top;\n",
       "    }\n",
       "\n",
       "    .dataframe thead th {\n",
       "        text-align: right;\n",
       "    }\n",
       "</style>\n",
       "<table border=\"1\" class=\"dataframe\">\n",
       "  <thead>\n",
       "    <tr style=\"text-align: right;\">\n",
       "      <th></th>\n",
       "      <th>suid</th>\n",
       "      <th>last_update</th>\n",
       "      <th>language</th>\n",
       "      <th>analyst</th>\n",
       "      <th>date</th>\n",
       "      <th>headline</th>\n",
       "      <th>body</th>\n",
       "    </tr>\n",
       "  </thead>\n",
       "  <tbody>\n",
       "    <tr>\n",
       "      <th>0</th>\n",
       "      <td>LJ6A6D6K50Y9</td>\n",
       "      <td>2011-04-05 09:25:25.472</td>\n",
       "      <td>CHINESE_TRAD</td>\n",
       "      <td>False</td>\n",
       "      <td>2011-04-05</td>\n",
       "      <td>*OECD的PADOAN稱ECB將加息將不會顯著影響經濟成長</td>\n",
       "      <td>--LUDI WANG\\n\\n-0- Apr/05/2011 09:25 GMT\\n</td>\n",
       "    </tr>\n",
       "    <tr>\n",
       "      <th>1</th>\n",
       "      <td>LJ6PWN6JIJVU</td>\n",
       "      <td>2011-04-05 15:05:11.901</td>\n",
       "      <td>CHINESE_SIMP</td>\n",
       "      <td>False</td>\n",
       "      <td>2011-04-05</td>\n",
       "      <td>彭博要闻</td>\n",
       "      <td>\\n下列为彭博今日要闻:\\n\\n商业\\n1.  美联储主席伯南克说如果通胀持续上升 美联储将...</td>\n",
       "    </tr>\n",
       "    <tr>\n",
       "      <th>2</th>\n",
       "      <td>LJ7FJD1A74E9</td>\n",
       "      <td>2011-04-06 00:18:49.543</td>\n",
       "      <td>CHINESE_TRAD</td>\n",
       "      <td>True</td>\n",
       "      <td>2011-04-06</td>\n",
       "      <td>摩根大通上調印度和中國股票評級 下調香港股票評級</td>\n",
       "      <td>\\n(更多新聞請點閱{TOP CT &lt;GO&gt;} {NH HBN &lt;GO&gt;})\\n\\n記者 S...</td>\n",
       "    </tr>\n",
       "    <tr>\n",
       "      <th>3</th>\n",
       "      <td>LJ7GAQ0UQVI9</td>\n",
       "      <td>2011-04-06 00:35:14.312</td>\n",
       "      <td>CHINESE_SIMP</td>\n",
       "      <td>False</td>\n",
       "      <td>2011-04-06</td>\n",
       "      <td>中国社科院研究员:今年通胀压力可能继续增强</td>\n",
       "      <td>\\n(更多新闻请点阅{TOP CS &lt;GO&gt;} {NH CBN &lt;GO&gt;})\\n\\n彭博新闻...</td>\n",
       "    </tr>\n",
       "    <tr>\n",
       "      <th>4</th>\n",
       "      <td>LJ7HVA6TTDTS</td>\n",
       "      <td>2011-04-06 01:09:10.927</td>\n",
       "      <td>CHINESE_SIMP</td>\n",
       "      <td>True</td>\n",
       "      <td>2011-04-06</td>\n",
       "      <td>*高盛维持中国重汽的中性评级                     :3808 HK, M...</td>\n",
       "      <td>--KEAN ZHANG\\n\\n-0- Apr/06/2011 01:09 GMT\\n</td>\n",
       "    </tr>\n",
       "  </tbody>\n",
       "</table>\n",
       "</div>"
      ],
      "text/plain": [
       "           suid             last_update      language  analyst        date  \\\n",
       "0  LJ6A6D6K50Y9 2011-04-05 09:25:25.472  CHINESE_TRAD    False  2011-04-05   \n",
       "1  LJ6PWN6JIJVU 2011-04-05 15:05:11.901  CHINESE_SIMP    False  2011-04-05   \n",
       "2  LJ7FJD1A74E9 2011-04-06 00:18:49.543  CHINESE_TRAD     True  2011-04-06   \n",
       "3  LJ7GAQ0UQVI9 2011-04-06 00:35:14.312  CHINESE_SIMP    False  2011-04-06   \n",
       "4  LJ7HVA6TTDTS 2011-04-06 01:09:10.927  CHINESE_SIMP     True  2011-04-06   \n",
       "\n",
       "                                            headline  \\\n",
       "0                     *OECD的PADOAN稱ECB將加息將不會顯著影響經濟成長   \n",
       "1                                               彭博要闻   \n",
       "2                           摩根大通上調印度和中國股票評級 下調香港股票評級   \n",
       "3                              中国社科院研究员:今年通胀压力可能继续增强   \n",
       "4  *高盛维持中国重汽的中性评级                     :3808 HK, M...   \n",
       "\n",
       "                                                body  \n",
       "0         --LUDI WANG\\n\\n-0- Apr/05/2011 09:25 GMT\\n  \n",
       "1  \\n下列为彭博今日要闻:\\n\\n商业\\n1.  美联储主席伯南克说如果通胀持续上升 美联储将...  \n",
       "2  \\n(更多新聞請點閱{TOP CT <GO>} {NH HBN <GO>})\\n\\n記者 S...  \n",
       "3  \\n(更多新闻请点阅{TOP CS <GO>} {NH CBN <GO>})\\n\\n彭博新闻...  \n",
       "4        --KEAN ZHANG\\n\\n-0- Apr/06/2011 01:09 GMT\\n  "
      ]
     },
     "execution_count": 123,
     "metadata": {},
     "output_type": "execute_result"
    }
   ],
   "source": [
    "df = pd.read_parquet(\"bloomberg_news_chinese.parquet\")\n",
    "df.head()"
   ]
  },
  {
   "cell_type": "code",
   "execution_count": 6,
   "metadata": {},
   "outputs": [
    {
     "data": {
      "text/plain": [
       "(3813466, 7)"
      ]
     },
     "execution_count": 6,
     "metadata": {},
     "output_type": "execute_result"
    }
   ],
   "source": [
    "df.shape"
   ]
  },
  {
   "cell_type": "markdown",
   "metadata": {},
   "source": [
    "In total, it contains aimost **4 million** of news, Useful information Contains:\n",
    "* **langauge**: simplified/trandition\n",
    "* **analyst**: news from big bank \n",
    "* **date**\n",
    "* **headline**\n",
    "* **body**"
   ]
  },
  {
   "cell_type": "markdown",
   "metadata": {},
   "source": [
    "### Clean dataframe"
   ]
  },
  {
   "cell_type": "code",
   "execution_count": 7,
   "metadata": {},
   "outputs": [],
   "source": [
    "# Drop rows with any NaN, NA or empty cells\n",
    "df.dropna(inplace=True)"
   ]
  },
  {
   "cell_type": "markdown",
   "metadata": {},
   "source": [
    "**create a dataframe for analytical news**"
   ]
  },
  {
   "cell_type": "code",
   "execution_count": 8,
   "metadata": {},
   "outputs": [],
   "source": [
    "df_a=df[df['analyst']==True]"
   ]
  },
  {
   "cell_type": "markdown",
   "metadata": {},
   "source": [
    "### Statistical plot over date"
   ]
  },
  {
   "cell_type": "markdown",
   "metadata": {},
   "source": [
    "**Define a function for plot**"
   ]
  },
  {
   "cell_type": "code",
   "execution_count": 142,
   "metadata": {},
   "outputs": [],
   "source": [
    "import calendar\n",
    "def plot_two_figures(df1, df2,sharey=True,marker=\"o\",distribution=None,market_hour=False):\n",
    "    \"\"\"\n",
    "    A help function for ploting all the news and analyst news distribution of different kinds: year, week, month, quarter and 5 min\n",
    "    \n",
    "    Parameters:\n",
    "    -----------\n",
    "    df1 : the dataframe contains all the unique news\n",
    "    df2 : the dataframe contains all the analyst news\n",
    "    sharey : matplotlib parameter for sharing the Y axe, by default True\n",
    "    marker : by default the marker is set to \"o\", for timeseries plot, the marker should be set to None\n",
    "    distribution : the distribution can be set to 'week','month','year','quarter' and '5min'\n",
    "        this parameter helps to format the x ticks as well as the title\n",
    "    market_hour : By default set to False, only set to True when we need to plot the distribution over the market open hour \n",
    "    \n",
    "    Returns:\n",
    "    --------\n",
    "    \n",
    "    Two axes plot\n",
    "\n",
    "    \"\"\"\n",
    "    fig, axs = plt.subplots(1, 2, figsize=(18, 5),sharey=sharey)\n",
    "\n",
    "    for ax in axs:\n",
    "        \n",
    "        if distribution == 'week':\n",
    "            xticklabels=list(calendar.day_name) \n",
    "  \n",
    "            ax.set_xticks(list(range(7)))\n",
    "            ax.set_xticklabels(xticklabels)\n",
    "         \n",
    "        if distribution == 'month':\n",
    "            months = [ \"Jan\",   \"Feb\",  \"Mar\",  \"Apr\",  \"May\", \"Jun\", \"Jul\",\"Aug\",  \"Sep\",  \"Oct\", \"Nov\", \"Dec\"]        \n",
    "            ax.set_xticks(list(range(1,13)))\n",
    "            ax.set_xticklabels(months,rotation=0)\n",
    "                        \n",
    "        if distribution == 'year' or distribution == 'quarter':\n",
    "            xticks=df1.index.tolist()      \n",
    "            ax.set_xticks(xticks)\n",
    "                                \n",
    "        if distribution == '5min':\n",
    "            pd.plotting.register_matplotlib_converters()\n",
    "    \n",
    "        label='number of news'\n",
    "        \n",
    "        if market_hour:\n",
    "            frequence=distribution\n",
    "            label=['before','between','after']\n",
    "            distribution= f'market hour over{frequence}'\n",
    "\n",
    "    axs[0].set_prop_cycle(cycler('color', ['c', 'm', 'y']) +\n",
    "                   cycler('lw', [1, 2, 3]))\n",
    "    axs[0].plot(df1, marker=marker,label=label)\n",
    "    axs[0].set_title(f'Bloomberg news: number of unique articles written in Chinese within {distribution}')\n",
    "    axs[0].legend()\n",
    "    \n",
    "    \n",
    "    axs[1].set_prop_cycle(cycler('color', ['r', 'g', 'b']) +\n",
    "                   cycler('lw', [1, 2, 3]))  \n",
    "    axs[1].plot(df2,marker=marker,label=label)\n",
    "    axs[1].set_title(f'Bloomberg news: number of analyst articles written in Chinese within {distribution}')\n",
    "    axs[1].legend()\n",
    "\n",
    "    \n",
    "    plt.show()    "
   ]
  },
  {
   "cell_type": "markdown",
   "metadata": {},
   "source": [
    "#### Distribution of news over years/weeks/month/5min"
   ]
  },
  {
   "cell_type": "markdown",
   "metadata": {},
   "source": [
    "**Distribution over years**"
   ]
  },
  {
   "cell_type": "code",
   "execution_count": 143,
   "metadata": {},
   "outputs": [
    {
     "data": {
      "image/png": "[encoded data removed]",
      "text/plain": [
       "<Figure size 1296x360 with 2 Axes>"
      ]
     },
     "metadata": {
      "needs_background": "light"
     },
     "output_type": "display_data"
    }
   ],
   "source": [
    "df1=pd.to_datetime(df.date).dt.year.value_counts().sort_index()\n",
    "df2=pd.to_datetime(df_a.date).dt.year.value_counts().sort_index()\n",
    "plot_two_figures(df1,df2,sharey=True,distribution='year')"
   ]
  },
  {
   "cell_type": "markdown",
   "metadata": {},
   "source": [
    "**Distribution over week**"
   ]
  },
  {
   "cell_type": "code",
   "execution_count": 132,
   "metadata": {},
   "outputs": [
    {
     "data": {
      "image/png": "[encoded data removed]",
      "text/plain": [
       "<Figure size 1296x360 with 2 Axes>"
      ]
     },
     "metadata": {
      "needs_background": "light"
     },
     "output_type": "display_data"
    }
   ],
   "source": [
    "df1=pd.to_datetime(df.date).dt.weekday.value_counts().sort_index()\n",
    "df2=pd.to_datetime(df_a.date).dt.weekday.value_counts().sort_index()\n",
    "plot_two_figures(df1, df2,distribution='week')"
   ]
  },
  {
   "cell_type": "markdown",
   "metadata": {},
   "source": [
    "**Distribution over months**"
   ]
  },
  {
   "cell_type": "code",
   "execution_count": 155,
   "metadata": {},
   "outputs": [
    {
     "data": {
      "image/png": "[encoded data removed]",
      "text/plain": [
       "<Figure size 1296x360 with 2 Axes>"
      ]
     },
     "metadata": {
      "needs_background": "light"
     },
     "output_type": "display_data"
    }
   ],
   "source": [
    "df1=pd.to_datetime(df.date).dt.month.value_counts().sort_index()\n",
    "df2=pd.to_datetime(df_a.date).dt.month.value_counts().sort_index()\n",
    "plot_two_figures(df1, df2,distribution='month',sharey=False)"
   ]
  },
  {
   "cell_type": "markdown",
   "metadata": {},
   "source": [
    "**Distribution over quarters**"
   ]
  },
  {
   "cell_type": "code",
   "execution_count": 135,
   "metadata": {},
   "outputs": [
    {
     "data": {
      "image/png": "[encoded data removed]",
      "text/plain": [
       "<Figure size 1296x360 with 2 Axes>"
      ]
     },
     "metadata": {
      "needs_background": "light"
     },
     "output_type": "display_data"
    }
   ],
   "source": [
    "df1=pd.to_datetime(df.date).dt.quarter.value_counts().sort_index()\n",
    "df2=pd.to_datetime(df_a.date).dt.quarter.value_counts().sort_index()\n",
    "plot_two_figures(df1,df2,distribution='quarters')"
   ]
  },
  {
   "cell_type": "markdown",
   "metadata": {},
   "source": [
    "**Distribution over 5 mins**"
   ]
  },
  {
   "cell_type": "code",
   "execution_count": 136,
   "metadata": {},
   "outputs": [],
   "source": [
    "def distribution_5min(df, timezone=None):\n",
    "    \"\"\"\n",
    "    A help function for average over the 5min time sequence\n",
    "    \n",
    "    Parameters:\n",
    "    -----------\n",
    "    df : the dataframe \n",
    "    timezone : The timezone to be converted to. \n",
    "        For example: 'Asia/Shanghai' \n",
    "\n",
    "    Returns:\n",
    "    --------\n",
    "    An aggregated pandaSeries group by 5 mins frequency. \n",
    "    \n",
    "    \"\"\"\n",
    "    if timezone: \n",
    "        \n",
    "        df['market_time']=pd.to_datetime(df['last_update']).dt.tz_localize('UTC').dt.tz_convert(timezone)\n",
    "        df=df.set_index(df['market_time']).groupby(pd.Grouper(freq='5min')).size().reset_index()\n",
    "        df=df.groupby(df.market_time.dt.time).mean()\n",
    "    return df"
   ]
  },
  {
   "cell_type": "code",
   "execution_count": 137,
   "metadata": {},
   "outputs": [
    {
     "name": "stderr",
     "output_type": "stream",
     "text": [
      "/opt/tmp/tmp/ipykernel_132740/1104208176.py:4: SettingWithCopyWarning: \n",
      "A value is trying to be set on a copy of a slice from a DataFrame.\n",
      "Try using .loc[row_indexer,col_indexer] = value instead\n",
      "\n",
      "See the caveats in the documentation: https://pandas.pydata.org/pandas-docs/stable/user_guide/indexing.html#returning-a-view-versus-a-copy\n",
      "  df['market_time']=pd.to_datetime(df['last_update']).dt.tz_localize('UTC').dt.tz_convert(timezone)\n"
     ]
    },
    {
     "data": {
      "image/png": "[encoded data removed]",
      "text/plain": [
       "<Figure size 1296x360 with 2 Axes>"
      ]
     },
     "metadata": {
      "needs_background": "light"
     },
     "output_type": "display_data"
    }
   ],
   "source": [
    "timezone= 'Asia/Shanghai'\n",
    "df1=distribution_5min(df, timezone=timezone)\n",
    "df2=distribution_5min(df_a, timezone=timezone)\n",
    "\n",
    "plot_two_figures(df1,df2,marker=None,sharey=False,distribution='5min')"
   ]
  },
  {
   "cell_type": "code",
   "execution_count": 138,
   "metadata": {},
   "outputs": [
    {
     "name": "stderr",
     "output_type": "stream",
     "text": [
      "/opt/tmp/tmp/ipykernel_132740/1104208176.py:4: SettingWithCopyWarning: \n",
      "A value is trying to be set on a copy of a slice from a DataFrame.\n",
      "Try using .loc[row_indexer,col_indexer] = value instead\n",
      "\n",
      "See the caveats in the documentation: https://pandas.pydata.org/pandas-docs/stable/user_guide/indexing.html#returning-a-view-versus-a-copy\n",
      "  df['market_time']=pd.to_datetime(df['last_update']).dt.tz_localize('UTC').dt.tz_convert(timezone)\n"
     ]
    },
    {
     "data": {
      "image/png": "[encoded data removed]",
      "text/plain": [
       "<Figure size 1296x360 with 2 Axes>"
      ]
     },
     "metadata": {
      "needs_background": "light"
     },
     "output_type": "display_data"
    }
   ],
   "source": [
    "timezone= 'Europe/Berlin'\n",
    "df1=distribution_5min(df, timezone=timezone)\n",
    "df2=distribution_5min(df_a, timezone=timezone)\n",
    "\n",
    "plot_two_figures(df1,df2,marker=None,sharey=False,distribution='5min')"
   ]
  },
  {
   "cell_type": "code",
   "execution_count": 139,
   "metadata": {},
   "outputs": [
    {
     "name": "stderr",
     "output_type": "stream",
     "text": [
      "/opt/tmp/tmp/ipykernel_132740/1104208176.py:4: SettingWithCopyWarning: \n",
      "A value is trying to be set on a copy of a slice from a DataFrame.\n",
      "Try using .loc[row_indexer,col_indexer] = value instead\n",
      "\n",
      "See the caveats in the documentation: https://pandas.pydata.org/pandas-docs/stable/user_guide/indexing.html#returning-a-view-versus-a-copy\n",
      "  df['market_time']=pd.to_datetime(df['last_update']).dt.tz_localize('UTC').dt.tz_convert(timezone)\n"
     ]
    },
    {
     "data": {
      "image/png": "[encoded data removed]",
      "text/plain": [
       "<Figure size 1296x360 with 2 Axes>"
      ]
     },
     "metadata": {
      "needs_background": "light"
     },
     "output_type": "display_data"
    }
   ],
   "source": [
    "timezone= 'US/Central'\n",
    "df1=distribution_5min(df, timezone=timezone)\n",
    "df2=distribution_5min(df_a, timezone=timezone)\n",
    "\n",
    "plot_two_figures(df1,df2,marker=None,sharey=False,distribution='5min')"
   ]
  },
  {
   "cell_type": "markdown",
   "metadata": {},
   "source": [
    "#### Distribution over market open hours"
   ]
  },
  {
   "cell_type": "markdown",
   "metadata": {},
   "source": [
    "Here we want to evaluate the distribution of news over the market hour, we define three kind of time intervals: \n",
    "* before market open time: from midnight to local market open time\n",
    "* between market open time: from local market open time to local market close time\n",
    "* after market open time: from local market close time to local market open time "
   ]
  },
  {
   "cell_type": "code",
   "execution_count": 20,
   "metadata": {},
   "outputs": [],
   "source": [
    "def market_hours(df, market_open_time, market_close_time, timezone):\n",
    "    \"\"\"\n",
    "    Add a column to a DataFrame by market open hours and out-of-market open hours based on a given time zone.\n",
    "    \n",
    "    Parameters:\n",
    "    -----------\n",
    "    df : pandas DataFrame\n",
    "        The DataFrame to be aggregated.\n",
    "    market_open_time : datetime.time\n",
    "        The time when the market opens in the specified timezone.\n",
    "    market_close_time : datetime.time\n",
    "        The time when the market closes in the specified timezone.\n",
    "    timezone : str\n",
    "        The timezone in which the market opens and closes.\n",
    "    \n",
    "    Returns:\n",
    "    --------\n",
    "    A DataFrame with a supplementary column which indicates within market hours or not:\n",
    "    - 1: After market close hour.\n",
    "    - 0: Between market open and market close hour.\n",
    "    - -1: Before market open hour.\n",
    "    \"\"\"\n",
    "    # Convert datetime column to timezone-aware datetime object\n",
    "    df['market_time'] = pd.to_datetime(df['last_update']).dt.tz_localize('UTC').dt.tz_convert(timezone) \n",
    "    \n",
    "    # create a new column named market_hour by condition\n",
    "    \n",
    "    df['market_hour'] = -1+(df['market_time'].dt.time > market_open_time)+ (df['market_time'].dt.time > market_close_time)\n",
    "    \n",
    "#     # create a condition that checks if datetime_col is between midnight and market_open_time\n",
    "#     condition_before = (df['market_time'].dt.time >= pd.to_datetime('00:00:00').time()) & (df['market_time'].dt.time < market_open_time)\n",
    "#     # create a condition that checks if datetime_col is between market_close_time and midnight\n",
    "#     condition_between =(df['market_time'].dt.time >= market_open_time) & (df['market_time'].dt.time <= market_close_time)\n",
    "    \n",
    "#     # set the values of market_hour based on the condition\n",
    "#     df.loc[condition_before, 'market_hour'] = -1\n",
    "#     df.loc[condition_between, 'market_hour'] = 0\n",
    "    \n",
    "    return df"
   ]
  },
  {
   "cell_type": "code",
   "execution_count": 74,
   "metadata": {},
   "outputs": [],
   "source": [
    "def aggregate_market_hour(df, groupby_option):\n",
    "    \"\"\"\n",
    "    Aggregates a dataframe by the column market_time using the specified groupby_option\n",
    "    and also by market hours using the conditional column market_hours.\n",
    "    The groupby_option can be one of 'year', 'week', or 'month'.\n",
    "    Returns the aggregated dataframe.\n",
    "    \"\"\"\n",
    "    if groupby_option == 'year':\n",
    "        grouper = df.market_time.dt.year\n",
    "    elif groupby_option == 'week':\n",
    "        grouper = df.market_time.dt.weekday\n",
    "    elif groupby_option == 'month':\n",
    "        grouper = df.market_time.dt.month\n",
    "    else:\n",
    "        raise ValueError(\"Invalid groupby_option. Choose one of 'year', 'week', or 'month'.\")\n",
    "        \n",
    "    aggregated_df = df.groupby([grouper,'market_hour']).size().unstack(level='market_hour')\n",
    "    \n",
    "    return aggregated_df"
   ]
  },
  {
   "cell_type": "code",
   "execution_count": 153,
   "metadata": {},
   "outputs": [],
   "source": [
    "def plot_market_hour (df1, df2, market_open_time, market_close_time, timezone, distribution):\n",
    "    \"\"\"\n",
    "    A help function which combiens three functions: market_hours, aggregate_market_hour,plot_two_figures\n",
    "    Returns the plot of the figures based on different timezone and market hour. \n",
    "    \"\"\"\n",
    "    df_1 = market_hours(df1, market_open_time, market_close_time, timezone)\n",
    "    df_2 = market_hours(df2, market_open_time, market_close_time, timezone)\n",
    "    df_1=aggregate_market_hour(df_1, distribution)\n",
    "    df_2=aggregate_market_hour(df_2, distribution)\n",
    "    plot_two_figures(df_1, df_2,sharey=False,marker=\"o\",distribution=distribution,market_hour=True)"
   ]
  },
  {
   "cell_type": "code",
   "execution_count": 154,
   "metadata": {},
   "outputs": [
    {
     "name": "stderr",
     "output_type": "stream",
     "text": [
      "/opt/tmp/tmp/ipykernel_132740/4237202745.py:23: SettingWithCopyWarning: \n",
      "A value is trying to be set on a copy of a slice from a DataFrame.\n",
      "Try using .loc[row_indexer,col_indexer] = value instead\n",
      "\n",
      "See the caveats in the documentation: https://pandas.pydata.org/pandas-docs/stable/user_guide/indexing.html#returning-a-view-versus-a-copy\n",
      "  df['market_time'] = pd.to_datetime(df['last_update']).dt.tz_localize('UTC').dt.tz_convert(timezone)\n",
      "/opt/tmp/tmp/ipykernel_132740/4237202745.py:26: SettingWithCopyWarning: \n",
      "A value is trying to be set on a copy of a slice from a DataFrame.\n",
      "Try using .loc[row_indexer,col_indexer] = value instead\n",
      "\n",
      "See the caveats in the documentation: https://pandas.pydata.org/pandas-docs/stable/user_guide/indexing.html#returning-a-view-versus-a-copy\n",
      "  df['market_hour'] = 1\n",
      "/home/yzhong/conda/envs/python_env_for_my_own_project/lib/python3.8/site-packages/pandas/core/indexing.py:1763: SettingWithCopyWarning: \n",
      "A value is trying to be set on a copy of a slice from a DataFrame.\n",
      "Try using .loc[row_indexer,col_indexer] = value instead\n",
      "\n",
      "See the caveats in the documentation: https://pandas.pydata.org/pandas-docs/stable/user_guide/indexing.html#returning-a-view-versus-a-copy\n",
      "  isetter(loc, value)\n"
     ]
    },
    {
     "data": {
      "image/png": "[encoded data removed]",
      "text/plain": [
       "<Figure size 1296x360 with 2 Axes>"
      ]
     },
     "metadata": {
      "needs_background": "light"
     },
     "output_type": "display_data"
    }
   ],
   "source": [
    "market_open_time = time(9, 30)\n",
    "market_close_time = time(15, 0)\n",
    "timezone = 'Asia/Shanghai'\n",
    "plot_market_hour(df_m, df_a_m,market_open_time, market_close_time, timezone,distribution='month')"
   ]
  },
  {
   "cell_type": "markdown",
   "metadata": {},
   "source": [
    "## Analysis over filtred news"
   ]
  },
  {
   "cell_type": "markdown",
   "metadata": {},
   "source": [
    "**Create a dataframe that have additional columns for each column**"
   ]
  },
  {
   "cell_type": "code",
   "execution_count": 50,
   "metadata": {},
   "outputs": [],
   "source": [
    "df_c=df.copy(deep=True)\n",
    "mask1=find_star(df_c)\n",
    "mask2=find_words(df_c)\n",
    "df_c['contains_star']=mask1\n",
    "df_c['contains_words']=mask2\n",
    "df_c['Only_Ch']= (~mask1) & (~mask2)"
   ]
  },
  {
   "cell_type": "code",
   "execution_count": 52,
   "metadata": {},
   "outputs": [
    {
     "data": {
      "text/html": [
       "<div>\n",
       "<style scoped>\n",
       "    .dataframe tbody tr th:only-of-type {\n",
       "        vertical-align: middle;\n",
       "    }\n",
       "\n",
       "    .dataframe tbody tr th {\n",
       "        vertical-align: top;\n",
       "    }\n",
       "\n",
       "    .dataframe thead th {\n",
       "        text-align: right;\n",
       "    }\n",
       "</style>\n",
       "<table border=\"1\" class=\"dataframe\">\n",
       "  <thead>\n",
       "    <tr style=\"text-align: right;\">\n",
       "      <th></th>\n",
       "      <th>suid</th>\n",
       "      <th>last_update</th>\n",
       "      <th>language</th>\n",
       "      <th>analyst</th>\n",
       "      <th>date</th>\n",
       "      <th>headline</th>\n",
       "      <th>body</th>\n",
       "      <th>market_time</th>\n",
       "      <th>market_hour</th>\n",
       "      <th>contains_star</th>\n",
       "      <th>contains_words</th>\n",
       "      <th>Only_Ch</th>\n",
       "    </tr>\n",
       "  </thead>\n",
       "  <tbody>\n",
       "    <tr>\n",
       "      <th>0</th>\n",
       "      <td>LJ6A6D6K50Y9</td>\n",
       "      <td>2011-04-05 09:25:25.472</td>\n",
       "      <td>CHINESE_TRAD</td>\n",
       "      <td>False</td>\n",
       "      <td>2011-04-05</td>\n",
       "      <td>*OECD的PADOAN稱ECB將加息將不會顯著影響經濟成長</td>\n",
       "      <td>--LUDI WANG\\n\\n-0- Apr/05/2011 09:25 GMT\\n</td>\n",
       "      <td>2011-04-05 17:25:25.472000+08:00</td>\n",
       "      <td>1</td>\n",
       "      <td>True</td>\n",
       "      <td>False</td>\n",
       "      <td>False</td>\n",
       "    </tr>\n",
       "    <tr>\n",
       "      <th>1</th>\n",
       "      <td>LJ6PWN6JIJVU</td>\n",
       "      <td>2011-04-05 15:05:11.901</td>\n",
       "      <td>CHINESE_SIMP</td>\n",
       "      <td>False</td>\n",
       "      <td>2011-04-05</td>\n",
       "      <td>彭博要闻</td>\n",
       "      <td>\\n下列为彭博今日要闻:\\n\\n商业\\n1.  美联储主席伯南克说如果通胀持续上升 美联储将...</td>\n",
       "      <td>2011-04-05 23:05:11.901000+08:00</td>\n",
       "      <td>1</td>\n",
       "      <td>False</td>\n",
       "      <td>True</td>\n",
       "      <td>False</td>\n",
       "    </tr>\n",
       "    <tr>\n",
       "      <th>2</th>\n",
       "      <td>LJ7FJD1A74E9</td>\n",
       "      <td>2011-04-06 00:18:49.543</td>\n",
       "      <td>CHINESE_TRAD</td>\n",
       "      <td>True</td>\n",
       "      <td>2011-04-06</td>\n",
       "      <td>摩根大通上調印度和中國股票評級 下調香港股票評級</td>\n",
       "      <td>\\n(更多新聞請點閱{TOP CT &lt;GO&gt;} {NH HBN &lt;GO&gt;})\\n\\n記者 S...</td>\n",
       "      <td>2011-04-06 08:18:49.543000+08:00</td>\n",
       "      <td>-1</td>\n",
       "      <td>False</td>\n",
       "      <td>True</td>\n",
       "      <td>False</td>\n",
       "    </tr>\n",
       "    <tr>\n",
       "      <th>3</th>\n",
       "      <td>LJ7GAQ0UQVI9</td>\n",
       "      <td>2011-04-06 00:35:14.312</td>\n",
       "      <td>CHINESE_SIMP</td>\n",
       "      <td>False</td>\n",
       "      <td>2011-04-06</td>\n",
       "      <td>中国社科院研究员:今年通胀压力可能继续增强</td>\n",
       "      <td>\\n(更多新闻请点阅{TOP CS &lt;GO&gt;} {NH CBN &lt;GO&gt;})\\n\\n彭博新闻...</td>\n",
       "      <td>2011-04-06 08:35:14.312000+08:00</td>\n",
       "      <td>-1</td>\n",
       "      <td>False</td>\n",
       "      <td>True</td>\n",
       "      <td>False</td>\n",
       "    </tr>\n",
       "    <tr>\n",
       "      <th>4</th>\n",
       "      <td>LJ7HVA6TTDTS</td>\n",
       "      <td>2011-04-06 01:09:10.927</td>\n",
       "      <td>CHINESE_SIMP</td>\n",
       "      <td>True</td>\n",
       "      <td>2011-04-06</td>\n",
       "      <td>*高盛维持中国重汽的中性评级                     :3808 HK, M...</td>\n",
       "      <td>--KEAN ZHANG\\n\\n-0- Apr/06/2011 01:09 GMT\\n</td>\n",
       "      <td>2011-04-06 09:09:10.927000+08:00</td>\n",
       "      <td>-1</td>\n",
       "      <td>True</td>\n",
       "      <td>False</td>\n",
       "      <td>False</td>\n",
       "    </tr>\n",
       "  </tbody>\n",
       "</table>\n",
       "</div>"
      ],
      "text/plain": [
       "           suid             last_update      language  analyst        date  \\\n",
       "0  LJ6A6D6K50Y9 2011-04-05 09:25:25.472  CHINESE_TRAD    False  2011-04-05   \n",
       "1  LJ6PWN6JIJVU 2011-04-05 15:05:11.901  CHINESE_SIMP    False  2011-04-05   \n",
       "2  LJ7FJD1A74E9 2011-04-06 00:18:49.543  CHINESE_TRAD     True  2011-04-06   \n",
       "3  LJ7GAQ0UQVI9 2011-04-06 00:35:14.312  CHINESE_SIMP    False  2011-04-06   \n",
       "4  LJ7HVA6TTDTS 2011-04-06 01:09:10.927  CHINESE_SIMP     True  2011-04-06   \n",
       "\n",
       "                                            headline  \\\n",
       "0                     *OECD的PADOAN稱ECB將加息將不會顯著影響經濟成長   \n",
       "1                                               彭博要闻   \n",
       "2                           摩根大通上調印度和中國股票評級 下調香港股票評級   \n",
       "3                              中国社科院研究员:今年通胀压力可能继续增强   \n",
       "4  *高盛维持中国重汽的中性评级                     :3808 HK, M...   \n",
       "\n",
       "                                                body  \\\n",
       "0         --LUDI WANG\\n\\n-0- Apr/05/2011 09:25 GMT\\n   \n",
       "1  \\n下列为彭博今日要闻:\\n\\n商业\\n1.  美联储主席伯南克说如果通胀持续上升 美联储将...   \n",
       "2  \\n(更多新聞請點閱{TOP CT <GO>} {NH HBN <GO>})\\n\\n記者 S...   \n",
       "3  \\n(更多新闻请点阅{TOP CS <GO>} {NH CBN <GO>})\\n\\n彭博新闻...   \n",
       "4        --KEAN ZHANG\\n\\n-0- Apr/06/2011 01:09 GMT\\n   \n",
       "\n",
       "                       market_time  market_hour  contains_star  \\\n",
       "0 2011-04-05 17:25:25.472000+08:00            1           True   \n",
       "1 2011-04-05 23:05:11.901000+08:00            1          False   \n",
       "2 2011-04-06 08:18:49.543000+08:00           -1          False   \n",
       "3 2011-04-06 08:35:14.312000+08:00           -1          False   \n",
       "4 2011-04-06 09:09:10.927000+08:00           -1           True   \n",
       "\n",
       "   contains_words  Only_Ch  \n",
       "0           False    False  \n",
       "1            True    False  \n",
       "2            True    False  \n",
       "3            True    False  \n",
       "4           False    False  "
      ]
     },
     "execution_count": 52,
     "metadata": {},
     "output_type": "execute_result"
    }
   ],
   "source": [
    "df_c.head()"
   ]
  },
  {
   "cell_type": "markdown",
   "metadata": {},
   "source": [
    "**Create functions for groupby patterns**"
   ]
  },
  {
   "cell_type": "code",
   "execution_count": 53,
   "metadata": {},
   "outputs": [],
   "source": [
    "def Groupby_pattern (df, pattern):\n",
    "    # group the data by year and pattern\n",
    "    year=pd.to_datetime(df.date).dt.year\n",
    "    if pattern == 'language': \n",
    "        col='language'        \n",
    "    else:  \n",
    "        if pattern == 'star':\n",
    "            col='contains_star'\n",
    "        if pattern == 'Key words':\n",
    "            col='contains_words'   \n",
    "        if pattern =='Only chinese versions':\n",
    "            col='Only_Ch'\n",
    "    \n",
    "    grouped = df.groupby([year, col]).size().reset_index(name=\"count\")\n",
    "    # calculate the total count for each year\n",
    "    year_totals = grouped.groupby(\"date\")[\"count\"].sum()\n",
    "    # calculate the percentage of each category for each year\n",
    "    grouped[\"percentage\"] = grouped.apply(lambda row: row[\"count\"] / year_totals[row[\"date\"]] * 100, axis=1)\n",
    "    # create separate dataframes for each cat.\n",
    "    if pattern == 'language': \n",
    "        cat_1 = grouped[grouped[\"language\"] == \"CHINESE_SIMP\"]\n",
    "        cat_2 = grouped[grouped[\"language\"] == \"CHINESE_TRAD\"]\n",
    "        label1=\"Chinese Simplified\"\n",
    "        label2=\"Chinese Traditional\"\n",
    "    else: \n",
    "        cat_1 = grouped[grouped[col] == True]\n",
    "        cat_2 = grouped[grouped[col] == False]\n",
    "        label1 = f'News with {pattern}'\n",
    "        label2= \"The rest\"\n",
    "    \n",
    "    #plot the data\n",
    "    fig, ax = plt.subplots()\n",
    "\n",
    "    ax.bar(cat_1['date'], cat_1[\"percentage\"], label=label1)\n",
    "    ax.bar(cat_2['date'], cat_2[\"percentage\"], bottom=cat_1[\"percentage\"], label=label2)\n",
    "\n",
    "    ax.set_xlabel(\"Year\")\n",
    "    ax.set_ylabel(\"Percentage\")\n",
    "    ax.set_title(f\"Percentage of news of pattern {pattern} over years\")\n",
    "    ax.legend()\n",
    "\n",
    "    plt.show()\n",
    "\n",
    "    "
   ]
  },
  {
   "cell_type": "markdown",
   "metadata": {},
   "source": [
    "### Portion distribution of Chinese news"
   ]
  },
  {
   "cell_type": "markdown",
   "metadata": {},
   "source": [
    "**In seperate graphs**"
   ]
  },
  {
   "cell_type": "code",
   "execution_count": 78,
   "metadata": {},
   "outputs": [
    {
     "data": {
      "image/png": "[encoded data removed]",
      "text/plain": [
       "<Figure size 432x288 with 1 Axes>"
      ]
     },
     "metadata": {
      "needs_background": "light"
     },
     "output_type": "display_data"
    }
   ],
   "source": [
    "Groupby_pattern (df_c, pattern='language')"
   ]
  },
  {
   "cell_type": "code",
   "execution_count": 79,
   "metadata": {},
   "outputs": [
    {
     "data": {
      "image/png": "[encoded data removed]",
      "text/plain": [
       "<Figure size 432x288 with 1 Axes>"
      ]
     },
     "metadata": {
      "needs_background": "light"
     },
     "output_type": "display_data"
    }
   ],
   "source": [
    "Groupby_pattern (df_c, pattern='star')"
   ]
  },
  {
   "cell_type": "code",
   "execution_count": 81,
   "metadata": {},
   "outputs": [
    {
     "data": {
      "image/png": "[encoded data removed]",
      "text/plain": [
       "<Figure size 432x288 with 1 Axes>"
      ]
     },
     "metadata": {
      "needs_background": "light"
     },
     "output_type": "display_data"
    }
   ],
   "source": [
    "Groupby_pattern (df_c, pattern='Key words')"
   ]
  },
  {
   "cell_type": "code",
   "execution_count": 82,
   "metadata": {},
   "outputs": [
    {
     "data": {
      "image/png": "[encoded data removed]",
      "text/plain": [
       "<Figure size 432x288 with 1 Axes>"
      ]
     },
     "metadata": {
      "needs_background": "light"
     },
     "output_type": "display_data"
    }
   ],
   "source": [
    "Groupby_pattern (df_c, pattern='Only chinese versions')"
   ]
  },
  {
   "cell_type": "markdown",
   "metadata": {},
   "source": [
    "**In single graph**"
   ]
  },
  {
   "cell_type": "code",
   "execution_count": 54,
   "metadata": {},
   "outputs": [],
   "source": [
    "def group_percentage (df, mask=False):\n",
    "    year=pd.to_datetime(df.date).dt.year\n",
    "    if mask:\n",
    "        grouped=df.groupby([year, \"language\",mask]).size().reset_index(name=\"count\")\n",
    "    else:     \n",
    "        grouped = df.groupby([year, \"language\"]).size().reset_index(name=\"count\")\n",
    "    year_totals = grouped.groupby('date')[\"count\"].sum()\n",
    "    grouped[\"percentage\"] = grouped.apply(lambda row: row[\"count\"] / year_totals[row[\"date\"]] * 100, axis=1)\n",
    "    return grouped"
   ]
  },
  {
   "cell_type": "code",
   "execution_count": 227,
   "metadata": {},
   "outputs": [
    {
     "name": "stderr",
     "output_type": "stream",
     "text": [
      "/opt/tmp/tmp/ipykernel_427859/2600844466.py:11: SettingWithCopyWarning: \n",
      "A value is trying to be set on a copy of a slice from a DataFrame.\n",
      "Try using .loc[row_indexer,col_indexer] = value instead\n",
      "\n",
      "See the caveats in the documentation: https://pandas.pydata.org/pandas-docs/stable/user_guide/indexing.html#returning-a-view-versus-a-copy\n",
      "  df[\"date\"] = pd.to_datetime(df[\"date\"])\n",
      "/opt/tmp/tmp/ipykernel_427859/2600844466.py:11: SettingWithCopyWarning: \n",
      "A value is trying to be set on a copy of a slice from a DataFrame.\n",
      "Try using .loc[row_indexer,col_indexer] = value instead\n",
      "\n",
      "See the caveats in the documentation: https://pandas.pydata.org/pandas-docs/stable/user_guide/indexing.html#returning-a-view-versus-a-copy\n",
      "  df[\"date\"] = pd.to_datetime(df[\"date\"])\n",
      "/opt/tmp/tmp/ipykernel_427859/2600844466.py:11: SettingWithCopyWarning: \n",
      "A value is trying to be set on a copy of a slice from a DataFrame.\n",
      "Try using .loc[row_indexer,col_indexer] = value instead\n",
      "\n",
      "See the caveats in the documentation: https://pandas.pydata.org/pandas-docs/stable/user_guide/indexing.html#returning-a-view-versus-a-copy\n",
      "  df[\"date\"] = pd.to_datetime(df[\"date\"])\n",
      "/opt/tmp/tmp/ipykernel_427859/843458998.py:10: UserWarning: FixedFormatter should only be used together with FixedLocator\n",
      "  plt.gca().set_xticklabels(labels)\n"
     ]
    },
    {
     "data": {
      "image/png": "[encoded data removed]",
      "text/plain": [
       "<Figure size 432x288 with 1 Axes>"
      ]
     },
     "metadata": {
      "needs_background": "light"
     },
     "output_type": "display_data"
    }
   ],
   "source": [
    "patterns=['star','key_words','Only']\n",
    "groupes=[group_df ('star', freq='month'),group_df ('key_words', freq='month'),group_df ('Only', freq='month')]\n",
    "# grouped1=group_df ('star', freq='month')\n",
    "# grouped2=group_df ('key_words', freq='month')\n",
    "# grouped3=group_df ('Only', freq='month')\n",
    "for i,group in enumerate(groupes): \n",
    "    plt.plot(group['date'], group['count'], label=patterns[i])\n",
    "labels = group.date.dt.strftime('%Y-%m-%d').tolist()\n",
    "plt.xticks(rotation=45)\n",
    "plt.gca().set_xticklabels(labels)\n",
    "plt.legend()\n",
    "plt.show()\n"
   ]
  },
  {
   "cell_type": "code",
   "execution_count": 56,
   "metadata": {},
   "outputs": [],
   "source": [
    "grouped1=group_percentage(df_c)\n",
    "# create separate dataframes for each language\n",
    "chinese_simp = grouped1[grouped1[\"language\"] == \"CHINESE_SIMP\"]\n",
    "chinese_tra = grouped1[grouped1[\"language\"] == \"CHINESE_TRAD\"]\n",
    "mask='Only_Ch'\n",
    "grouped2=group_percentage(df_c,mask)\n",
    "chinese_simp_m = grouped2[(grouped2[\"language\"] == \"CHINESE_SIMP\") & (grouped2[mask]==True)]\n",
    "chinese_tra_m = grouped2[(grouped2[\"language\"] == \"CHINESE_TRAD\")& (grouped2[mask]==True)]"
   ]
  },
  {
   "cell_type": "code",
   "execution_count": 57,
   "metadata": {},
   "outputs": [
    {
     "data": {
      "image/png": "[encoded data removed]",
      "text/plain": [
       "<Figure size 432x288 with 1 Axes>"
      ]
     },
     "metadata": {
      "needs_background": "light"
     },
     "output_type": "display_data"
    }
   ],
   "source": [
    "# plot the data\n",
    "fig, ax = plt.subplots()\n",
    "\n",
    "ax.bar(chinese_simp['date'], chinese_simp[\"percentage\"], label=\"Duplicate news Chinese Simplified\")\n",
    "ax.bar(chinese_tra['date'], chinese_tra[\"percentage\"], bottom=chinese_simp[\"percentage\"], label=\"Duplicate news Chinese Traditional\")\n",
    "ax.bar(chinese_simp_m['date'], chinese_simp_m[\"percentage\"] , label=\"Chinese Simple only version\")\n",
    "ax.bar(chinese_tra_m['date'], chinese_tra_m[\"percentage\"], bottom=chinese_simp[\"percentage\"], label=\"Chinese Traditional only version\")\n",
    "\n",
    "ax.set_xlabel(\"Year\")\n",
    "ax.set_ylabel(\"Percentage\")\n",
    "ax.set_title(\"Percentage of news that exists only on Chinese version over Chinese simple and Chinese trad.\")\n",
    "ax.legend()\n",
    "\n",
    "plt.show()"
   ]
  },
  {
   "cell_type": "markdown",
   "metadata": {},
   "source": [
    "### Sum distributions over different date points"
   ]
  },
  {
   "cell_type": "markdown",
   "metadata": {},
   "source": [
    "**Create three different dataframe based on the pattern for facilitating the plot**"
   ]
  },
  {
   "cell_type": "markdown",
   "metadata": {},
   "source": [
    "Look only into the Chinese simplified data"
   ]
  },
  {
   "cell_type": "code",
   "execution_count": 63,
   "metadata": {},
   "outputs": [],
   "source": [
    "def group_df (df, pattern, freq='month'):\n",
    "    if pattern == 'star':\n",
    "        col='contains_star'\n",
    "        title = f'Counts of Ch_simp news with {pattern} per month'\n",
    "    if pattern == 'key_words':\n",
    "        col='contains_words'\n",
    "        title = f'Counts of Ch_simp news with {pattern} per month'\n",
    "    if pattern == 'Only':\n",
    "        col='Only_Ch'\n",
    "        title = f'Counts of Ch_simp news with {pattern} Chinese version per month'\n",
    "    df[\"date\"] = pd.to_datetime(df[\"date\"])\n",
    "    \n",
    "    if freq=='month':\n",
    "        grouper=pd.Grouper(key='date', freq='M')\n",
    "    grouped=df.groupby([grouper,col]).size().reset_index(name=\"count\")\n",
    "    grouped=grouped[grouped[col]==True]\n",
    "    \n",
    "    return grouped"
   ]
  },
  {
   "cell_type": "code",
   "execution_count": 64,
   "metadata": {},
   "outputs": [
    {
     "name": "stderr",
     "output_type": "stream",
     "text": [
      "/opt/tmp/tmp/ipykernel_408336/3662858279.py:10: UserWarning: FixedFormatter should only be used together with FixedLocator\n",
      "  plt.gca().set_xticklabels(labels)\n"
     ]
    },
    {
     "data": {
      "image/png": "[encoded data removed]",
      "text/plain": [
       "<Figure size 432x288 with 1 Axes>"
      ]
     },
     "metadata": {
      "needs_background": "light"
     },
     "output_type": "display_data"
    }
   ],
   "source": [
    "patterns=['star','key_words','Only']\n",
    "groupes=[group_df (df_c, 'star', freq='month'),group_df (df_c,'key_words', freq='month'),group_df (df_c,'Only', freq='month')]\n",
    "# grouped1=group_df ('star', freq='month')\n",
    "# grouped2=group_df ('key_words', freq='month')\n",
    "# grouped3=group_df ('Only', freq='month')\n",
    "for i,group in enumerate(groupes): \n",
    "    plt.plot(group['date'], group['count'], label=patterns[i])\n",
    "labels = group.date.dt.strftime('%Y-%m-%d').tolist()\n",
    "plt.xticks(rotation=45)\n",
    "plt.gca().set_xticklabels(labels)\n",
    "plt.legend()\n",
    "plt.show()"
   ]
  },
  {
   "cell_type": "code",
   "execution_count": 220,
   "metadata": {},
   "outputs": [],
   "source": [
    "def group_sum (pattern, freq='month'):\n",
    "    \n",
    "    if pattern == 'star':\n",
    "        df=df_star_s\n",
    "        title = f'Counts of Ch_simp news with {pattern} per month'\n",
    "    if pattern == 'key_words':\n",
    "        df=df_key_s\n",
    "        title = f'Counts of Ch_simp news with {pattern} per month'\n",
    "    if pattern == 'Only':\n",
    "        df=df_only_s\n",
    "        title = f'Counts of Ch_simp news with {pattern} Chinese version per month'\n",
    "    df[\"date\"] = pd.to_datetime(df[\"date\"])\n",
    "    \n",
    "    if freq=='month':\n",
    "    \n",
    "        grouper=pd.Grouper(key='date', freq='M')\n",
    "    grouped=df.groupby([grouper,\"mask\"]).size().reset_index(name=\"count\")\n",
    "    grouped=grouped[grouped['mask']==True]\n",
    "    \n",
    "    \n",
    "    labels = grouped.date.dt.strftime('%Y-%m-%d').tolist()\n",
    "    # plot the counts\n",
    "    plt.plot(grouped['date'],grouped['count'])\n",
    "    plt.xticks(rotation=45)\n",
    "    plt.gca().set_xticklabels(labels)\n",
    "    plt.xlabel('Date')\n",
    "    plt.ylabel('Count')\n",
    "    plt.title(title)\n",
    "    plt.show()\n",
    "\n",
    "#     grouped=df.groupby([grouper,\"mask\"]).size().reset_index(name=\"count\")\n",
    "#     return grouped[grouped['mask']==True]"
   ]
  },
  {
   "cell_type": "code",
   "execution_count": 221,
   "metadata": {},
   "outputs": [
    {
     "name": "stderr",
     "output_type": "stream",
     "text": [
      "/opt/tmp/tmp/ipykernel_427859/4242054988.py:12: SettingWithCopyWarning: \n",
      "A value is trying to be set on a copy of a slice from a DataFrame.\n",
      "Try using .loc[row_indexer,col_indexer] = value instead\n",
      "\n",
      "See the caveats in the documentation: https://pandas.pydata.org/pandas-docs/stable/user_guide/indexing.html#returning-a-view-versus-a-copy\n",
      "  df[\"date\"] = pd.to_datetime(df[\"date\"])\n",
      "/opt/tmp/tmp/ipykernel_427859/4242054988.py:23: UserWarning: FixedFormatter should only be used together with FixedLocator\n",
      "  plt.gca().set_xticklabels(labels)\n"
     ]
    },
    {
     "data": {
      "image/png": "[encoded data removed]",
      "text/plain": [
       "<Figure size 432x288 with 1 Axes>"
      ]
     },
     "metadata": {
      "needs_background": "light"
     },
     "output_type": "display_data"
    }
   ],
   "source": [
    "group_sum ('star', freq='month')"
   ]
  },
  {
   "cell_type": "code",
   "execution_count": 222,
   "metadata": {},
   "outputs": [
    {
     "name": "stderr",
     "output_type": "stream",
     "text": [
      "/opt/tmp/tmp/ipykernel_427859/4242054988.py:12: SettingWithCopyWarning: \n",
      "A value is trying to be set on a copy of a slice from a DataFrame.\n",
      "Try using .loc[row_indexer,col_indexer] = value instead\n",
      "\n",
      "See the caveats in the documentation: https://pandas.pydata.org/pandas-docs/stable/user_guide/indexing.html#returning-a-view-versus-a-copy\n",
      "  df[\"date\"] = pd.to_datetime(df[\"date\"])\n",
      "/opt/tmp/tmp/ipykernel_427859/4242054988.py:23: UserWarning: FixedFormatter should only be used together with FixedLocator\n",
      "  plt.gca().set_xticklabels(labels)\n"
     ]
    },
    {
     "data": {
      "image/png": "[encoded data removed]",
      "text/plain": [
       "<Figure size 432x288 with 1 Axes>"
      ]
     },
     "metadata": {
      "needs_background": "light"
     },
     "output_type": "display_data"
    }
   ],
   "source": [
    "group_sum ('key_words', freq='month')"
   ]
  },
  {
   "cell_type": "code",
   "execution_count": 224,
   "metadata": {},
   "outputs": [
    {
     "name": "stderr",
     "output_type": "stream",
     "text": [
      "/opt/tmp/tmp/ipykernel_427859/4242054988.py:12: SettingWithCopyWarning: \n",
      "A value is trying to be set on a copy of a slice from a DataFrame.\n",
      "Try using .loc[row_indexer,col_indexer] = value instead\n",
      "\n",
      "See the caveats in the documentation: https://pandas.pydata.org/pandas-docs/stable/user_guide/indexing.html#returning-a-view-versus-a-copy\n",
      "  df[\"date\"] = pd.to_datetime(df[\"date\"])\n",
      "/opt/tmp/tmp/ipykernel_427859/4242054988.py:23: UserWarning: FixedFormatter should only be used together with FixedLocator\n",
      "  plt.gca().set_xticklabels(labels)\n"
     ]
    },
    {
     "data": {
      "image/png": "[encoded data removed]",
      "text/plain": [
       "<Figure size 432x288 with 1 Axes>"
      ]
     },
     "metadata": {
      "needs_background": "light"
     },
     "output_type": "display_data"
    }
   ],
   "source": [
    "group_sum ('Only', freq='month')"
   ]
  },
  {
   "cell_type": "code",
   "execution_count": 178,
   "metadata": {},
   "outputs": [],
   "source": [
    "tickles = grouped.date.dt.strftime('%Y-%m-%d').tolist()"
   ]
  },
  {
   "cell_type": "code",
   "execution_count": 184,
   "metadata": {},
   "outputs": [
    {
     "data": {
      "text/plain": [
       "range(0, 24)"
      ]
     },
     "execution_count": 184,
     "metadata": {},
     "output_type": "execute_result"
    }
   ],
   "source": [
    "range(len(tickles))"
   ]
  },
  {
   "cell_type": "code",
   "execution_count": null,
   "metadata": {},
   "outputs": [],
   "source": [
    "# plot the counts\n",
    "loc=range(len(tickles))\n",
    "labels= grouped.date.dt.strftime('%Y-%m-%d').tolist()\n",
    "\n",
    "plt.plot(grouped['date'],grouped['count'])\n",
    "\n",
    "plt.xticks(rotation=45)\n",
    "plt.gca().set_xticklabels(labels)\n",
    "plt.xlabel('Date')\n",
    "plt.ylabel('Count')\n",
    "plt.title('Counts of True values per month')\n",
    "plt.show()"
   ]
  },
  {
   "cell_type": "code",
   "execution_count": null,
   "metadata": {},
   "outputs": [],
   "source": [
    "fig, ax = plt.subplots()\n",
    "loc=range(len(tickles))\n",
    "labels= grouped.date.dt.strftime('%Y-%m-%d').tolist()\n",
    "ax.plot(grouped['date'],grouped['count'])\n",
    "ax.set_xticks(loc)\n",
    "ax.set_xticklabels(labels, rotation='vertical')\n",
    "plt.show()"
   ]
  },
  {
   "cell_type": "code",
   "execution_count": 168,
   "metadata": {},
   "outputs": [
    {
     "data": {
      "text/html": [
       "<div>\n",
       "<style scoped>\n",
       "    .dataframe tbody tr th:only-of-type {\n",
       "        vertical-align: middle;\n",
       "    }\n",
       "\n",
       "    .dataframe tbody tr th {\n",
       "        vertical-align: top;\n",
       "    }\n",
       "\n",
       "    .dataframe thead th {\n",
       "        text-align: right;\n",
       "    }\n",
       "</style>\n",
       "<table border=\"1\" class=\"dataframe\">\n",
       "  <thead>\n",
       "    <tr style=\"text-align: right;\">\n",
       "      <th></th>\n",
       "      <th>date</th>\n",
       "      <th>mask</th>\n",
       "      <th>count</th>\n",
       "    </tr>\n",
       "  </thead>\n",
       "  <tbody>\n",
       "    <tr>\n",
       "      <th>0</th>\n",
       "      <td>2011-04-30</td>\n",
       "      <td>True</td>\n",
       "      <td>2</td>\n",
       "    </tr>\n",
       "    <tr>\n",
       "      <th>3</th>\n",
       "      <td>2012-02-29</td>\n",
       "      <td>True</td>\n",
       "      <td>1</td>\n",
       "    </tr>\n",
       "    <tr>\n",
       "      <th>5</th>\n",
       "      <td>2012-06-30</td>\n",
       "      <td>True</td>\n",
       "      <td>1</td>\n",
       "    </tr>\n",
       "    <tr>\n",
       "      <th>6</th>\n",
       "      <td>2012-08-31</td>\n",
       "      <td>True</td>\n",
       "      <td>2</td>\n",
       "    </tr>\n",
       "    <tr>\n",
       "      <th>7</th>\n",
       "      <td>2012-10-31</td>\n",
       "      <td>True</td>\n",
       "      <td>1</td>\n",
       "    </tr>\n",
       "    <tr>\n",
       "      <th>8</th>\n",
       "      <td>2012-11-30</td>\n",
       "      <td>True</td>\n",
       "      <td>1</td>\n",
       "    </tr>\n",
       "    <tr>\n",
       "      <th>10</th>\n",
       "      <td>2013-09-30</td>\n",
       "      <td>True</td>\n",
       "      <td>1</td>\n",
       "    </tr>\n",
       "    <tr>\n",
       "      <th>11</th>\n",
       "      <td>2014-01-31</td>\n",
       "      <td>True</td>\n",
       "      <td>1</td>\n",
       "    </tr>\n",
       "    <tr>\n",
       "      <th>12</th>\n",
       "      <td>2014-04-30</td>\n",
       "      <td>True</td>\n",
       "      <td>1</td>\n",
       "    </tr>\n",
       "    <tr>\n",
       "      <th>15</th>\n",
       "      <td>2015-01-31</td>\n",
       "      <td>True</td>\n",
       "      <td>1</td>\n",
       "    </tr>\n",
       "    <tr>\n",
       "      <th>16</th>\n",
       "      <td>2015-03-31</td>\n",
       "      <td>True</td>\n",
       "      <td>1</td>\n",
       "    </tr>\n",
       "    <tr>\n",
       "      <th>18</th>\n",
       "      <td>2015-06-30</td>\n",
       "      <td>True</td>\n",
       "      <td>1</td>\n",
       "    </tr>\n",
       "    <tr>\n",
       "      <th>19</th>\n",
       "      <td>2016-01-31</td>\n",
       "      <td>True</td>\n",
       "      <td>2</td>\n",
       "    </tr>\n",
       "    <tr>\n",
       "      <th>20</th>\n",
       "      <td>2016-03-31</td>\n",
       "      <td>True</td>\n",
       "      <td>2</td>\n",
       "    </tr>\n",
       "    <tr>\n",
       "      <th>21</th>\n",
       "      <td>2017-03-31</td>\n",
       "      <td>True</td>\n",
       "      <td>1</td>\n",
       "    </tr>\n",
       "    <tr>\n",
       "      <th>22</th>\n",
       "      <td>2017-09-30</td>\n",
       "      <td>True</td>\n",
       "      <td>1</td>\n",
       "    </tr>\n",
       "    <tr>\n",
       "      <th>23</th>\n",
       "      <td>2018-07-31</td>\n",
       "      <td>True</td>\n",
       "      <td>1</td>\n",
       "    </tr>\n",
       "    <tr>\n",
       "      <th>25</th>\n",
       "      <td>2018-10-31</td>\n",
       "      <td>True</td>\n",
       "      <td>2</td>\n",
       "    </tr>\n",
       "    <tr>\n",
       "      <th>32</th>\n",
       "      <td>2020-08-31</td>\n",
       "      <td>True</td>\n",
       "      <td>1</td>\n",
       "    </tr>\n",
       "    <tr>\n",
       "      <th>33</th>\n",
       "      <td>2021-02-28</td>\n",
       "      <td>True</td>\n",
       "      <td>1</td>\n",
       "    </tr>\n",
       "    <tr>\n",
       "      <th>34</th>\n",
       "      <td>2021-03-31</td>\n",
       "      <td>True</td>\n",
       "      <td>1</td>\n",
       "    </tr>\n",
       "    <tr>\n",
       "      <th>35</th>\n",
       "      <td>2022-05-31</td>\n",
       "      <td>True</td>\n",
       "      <td>1</td>\n",
       "    </tr>\n",
       "    <tr>\n",
       "      <th>36</th>\n",
       "      <td>2022-08-31</td>\n",
       "      <td>True</td>\n",
       "      <td>1</td>\n",
       "    </tr>\n",
       "    <tr>\n",
       "      <th>37</th>\n",
       "      <td>2022-10-31</td>\n",
       "      <td>True</td>\n",
       "      <td>1</td>\n",
       "    </tr>\n",
       "  </tbody>\n",
       "</table>\n",
       "</div>"
      ],
      "text/plain": [
       "         date  mask  count\n",
       "0  2011-04-30  True      2\n",
       "3  2012-02-29  True      1\n",
       "5  2012-06-30  True      1\n",
       "6  2012-08-31  True      2\n",
       "7  2012-10-31  True      1\n",
       "8  2012-11-30  True      1\n",
       "10 2013-09-30  True      1\n",
       "11 2014-01-31  True      1\n",
       "12 2014-04-30  True      1\n",
       "15 2015-01-31  True      1\n",
       "16 2015-03-31  True      1\n",
       "18 2015-06-30  True      1\n",
       "19 2016-01-31  True      2\n",
       "20 2016-03-31  True      2\n",
       "21 2017-03-31  True      1\n",
       "22 2017-09-30  True      1\n",
       "23 2018-07-31  True      1\n",
       "25 2018-10-31  True      2\n",
       "32 2020-08-31  True      1\n",
       "33 2021-02-28  True      1\n",
       "34 2021-03-31  True      1\n",
       "35 2022-05-31  True      1\n",
       "36 2022-08-31  True      1\n",
       "37 2022-10-31  True      1"
      ]
     },
     "execution_count": 168,
     "metadata": {},
     "output_type": "execute_result"
    }
   ],
   "source": [
    "grouped"
   ]
  },
  {
   "cell_type": "markdown",
   "metadata": {},
   "source": [
    "## Exploration of headline contents"
   ]
  },
  {
   "cell_type": "code",
   "execution_count": 5,
   "metadata": {},
   "outputs": [],
   "source": [
    "df_test=df.sample(2000)"
   ]
  },
  {
   "cell_type": "code",
   "execution_count": 8,
   "metadata": {},
   "outputs": [],
   "source": [
    "with open('body.txt', 'w') as f:\n",
    "    for row in df_test.itertuples():\n",
    "        f.write(str(row.last_update) + '\\n')\n",
    "        f.write(str(row.analyst) + '\\n')\n",
    "        f.write(str(row.language) + '\\n')\n",
    "        f.write(f'    {row.body}' + '\\n')"
   ]
  },
  {
   "cell_type": "code",
   "execution_count": 9,
   "metadata": {},
   "outputs": [],
   "source": [
    "with open('body_headline.txt', 'w') as f:\n",
    "    for row in df_test.itertuples():\n",
    "        f.write(str(row.last_update) + '\\n')\n",
    "        f.write(str(row.analyst) + '\\n')\n",
    "        f.write(str(row.language) + '\\n')\n",
    "        f.write(f' ****{row.headline}' + '\\n')\n",
    "        f.write(f'    {row.body}' + '\\n')"
   ]
  },
  {
   "cell_type": "code",
   "execution_count": 158,
   "metadata": {
    "code_folding": [
     0
    ]
   },
   "outputs": [],
   "source": [
    "with open('headline.txt', 'w') as f:\n",
    "    for row in df_test.itertuples():\n",
    "        f.write(str(row.last_update) + '\\n')\n",
    "        f.write(str(row.analyst) + '\\n')\n",
    "        f.write(str(row.language) + '\\n')\n",
    "        f.write(f'    {row.headline}' + '\\n')"
   ]
  },
  {
   "cell_type": "markdown",
   "metadata": {},
   "source": [
    "## Statistical plot over headline"
   ]
  },
  {
   "cell_type": "markdown",
   "metadata": {},
   "source": [
    "### Data cleaning"
   ]
  },
  {
   "cell_type": "markdown",
   "metadata": {},
   "source": [
    "**Basics**\n",
    "The following functions will: \n",
    "* remove space and '...'\n",
    "* Only keeping chinese, english and numbers\n",
    "* Turn traditional chinese into simplified chinese"
   ]
  },
  {
   "cell_type": "code",
   "execution_count": 6,
   "metadata": {},
   "outputs": [],
   "source": [
    "#remove space\n",
    "def remove_symbols(text):\n",
    "    text=text.replace(' ','')\n",
    "    text =text.replace('...',',') \n",
    "    \n",
    "    return text"
   ]
  },
  {
   "cell_type": "code",
   "execution_count": 7,
   "metadata": {},
   "outputs": [],
   "source": [
    "#remove useless characters\n",
    "def clear_character(text):    \n",
    "    pattern = re.compile(\"[^\\u4e00-\\u9fa5^a-z^A-Z^0-9]\") \n",
    "    #only keep chinese, enlish and numbers\n",
    "    line=re.sub(pattern,'',text) \n",
    "    new_text=''.join(line.split())    \n",
    "    return new_text"
   ]
  },
  {
   "cell_type": "code",
   "execution_count": 8,
   "metadata": {},
   "outputs": [],
   "source": [
    "#Full-width to half-width\n",
    "def full_to_half(sentence):      \n",
    "    change_sentence=\"\"\n",
    "    for word in sentence:\n",
    "        inside_code=ord(word)\n",
    "        if inside_code==12288:    #Direct conversion of full-width spaces\n",
    "            inside_code=32\n",
    "        elif inside_code>=65281 and inside_code<=65374:  #Full-width characters (except spaces) are converted according to the relationship\n",
    "            inside_code-=65248\n",
    "        change_sentence+=chr(inside_code)\n",
    "    return change_sentence"
   ]
  },
  {
   "cell_type": "code",
   "execution_count": 9,
   "metadata": {},
   "outputs": [],
   "source": [
    "def hant_2_hans(text):\n",
    "    '''\n",
    "    Function: Traditional chinese to simplified chinese\n",
    "    '''\n",
    "    return zhconv.convert(text, 'zh-hans')"
   ]
  },
  {
   "cell_type": "code",
   "execution_count": null,
   "metadata": {},
   "outputs": [],
   "source": [
    "def Process_clean(df):\n",
    "    df.loc[:,\"headline\"] = df.headline.apply(lambda x: hant_2_hans(x))\n",
    "    df.loc[:,\"headline\"] = df.headline.apply(lambda x: full_to_half(x))\n",
    "    "
   ]
  },
  {
   "cell_type": "code",
   "execution_count": 10,
   "metadata": {},
   "outputs": [],
   "source": [
    "df.loc[:,\"headline\"] = df.headline.apply(lambda x: hant_2_hans(x))"
   ]
  },
  {
   "cell_type": "code",
   "execution_count": 214,
   "metadata": {},
   "outputs": [
    {
     "data": {
      "text/plain": [
       "'中烟香港全年净利润3749亿港元'"
      ]
     },
     "execution_count": 214,
     "metadata": {},
     "output_type": "execute_result"
    }
   ],
   "source": [
    "df[\"headline\"][75896]"
   ]
  },
  {
   "cell_type": "code",
   "execution_count": null,
   "metadata": {},
   "outputs": [],
   "source": [
    "import jieba\n",
    "\n",
    " \n",
    "#全模式\n",
    "jieba_list = jieba.cut(txt,cut_all=True)\n",
    "jieba_txt1 = ' '.join(jieba_list)\n",
    "print('全模式分词：',jieba_txt1)\n",
    " \n",
    "#精准模式\n",
    "jieba_list = jieba.cut(txt, cut_all=False)\n",
    "jieba_txt2 = ' ' .join(jieba_list)\n",
    "print('精准模式分词：',jieba_txt2)"
   ]
  },
  {
   "cell_type": "code",
   "execution_count": null,
   "metadata": {},
   "outputs": [],
   "source": [
    "#中文分词\n",
    "def cut_word(text):\n",
    "    # 精准模式\n",
    "    jieba_list = jieba.cut(text, cut_all=False)\n",
    "    return jieba_txt"
   ]
  },
  {
   "cell_type": "code",
   "execution_count": null,
   "metadata": {},
   "outputs": [],
   "source": [
    "def seg_sentence(list_txt):\n",
    "    #读取停用词表\n",
    "    stopwords = stopwords = read_txt('哈工大停用词表.txt')\n",
    "    seg_txt = [ w for w in list_txt if w not in stopwords]\n",
    "    return seg_txt"
   ]
  },
  {
   "cell_type": "code",
   "execution_count": null,
   "metadata": {},
   "outputs": [],
   "source": [
    "#TF_IDF计算\n",
    "def tf_idf(txt):\n",
    "    corpus_txt = [' '.join(txt)]\n",
    "    stopword_list = read_txt(r'哈工大停用词表.txt').splitlines()\n",
    "    vector = TfidfVectorizer(stop_words=stopword_list)\n",
    "    tfidf = vector.fit_transform(corpus_txt)\n",
    "    print(tfidf)\n",
    "    # 获取词袋模型中的所有词\n",
    "    wordlist = vector.get_feature_names()  \n",
    "    # tf-idf矩阵 元素a[i][j]表示j词在i类文本中的tf-idf权重\n",
    "    weightlist = tfidf.toarray()\n",
    "    # 打印每类文本的tf-idf词语权重，第一个for遍历所有文本，第二个for便利某一类文本下的词语权重\n",
    "    for i in range(len(weightlist)):\n",
    "        print(\"-------第\", i, \"段文本的词语tf-idf权重------\")\n",
    "        for j in range(len(wordlist)):\n",
    "            print(wordlist[j], weightlist[i][j]  )"
   ]
  },
  {
   "cell_type": "markdown",
   "metadata": {},
   "source": [
    "### Remove useless symbols"
   ]
  },
  {
   "cell_type": "code",
   "execution_count": 26,
   "metadata": {},
   "outputs": [],
   "source": [
    "#remove space\n",
    "def remove_symbols(text):\n",
    "    text=text.replace(' ','')\n",
    "    \n",
    "    return text"
   ]
  },
  {
   "cell_type": "code",
   "execution_count": null,
   "metadata": {},
   "outputs": [],
   "source": []
  },
  {
   "cell_type": "code",
   "execution_count": 17,
   "metadata": {},
   "outputs": [],
   "source": [
    "df_test=df.head(5)"
   ]
  },
  {
   "cell_type": "code",
   "execution_count": 28,
   "metadata": {},
   "outputs": [],
   "source": [
    "df.loc[:,\"body\"] = df.body.apply(lambda x: remove_symbols(x))"
   ]
  },
  {
   "cell_type": "code",
   "execution_count": 29,
   "metadata": {},
   "outputs": [
    {
     "data": {
      "text/plain": [
       "'--KELLYLI\\n\\n-0-Sep/11/201206:18GMT\\n'"
      ]
     },
     "execution_count": 29,
     "metadata": {},
     "output_type": "execute_result"
    }
   ],
   "source": [
    "df['body'][5000]"
   ]
  },
  {
   "cell_type": "code",
   "execution_count": 47,
   "metadata": {},
   "outputs": [
    {
     "data": {
      "text/plain": [
       "'--KELLY LI\\n\\n-0- Sep/11/2012 06:18 GMT\\n'"
      ]
     },
     "execution_count": 47,
     "metadata": {},
     "output_type": "execute_result"
    }
   ],
   "source": [
    "df['body'][5000]"
   ]
  },
  {
   "cell_type": "markdown",
   "metadata": {},
   "source": [
    "### Words distributions"
   ]
  },
  {
   "cell_type": "code",
   "execution_count": null,
   "metadata": {},
   "outputs": [],
   "source": []
  },
  {
   "cell_type": "markdown",
   "metadata": {},
   "source": [
    "### Simple analysis"
   ]
  },
  {
   "cell_type": "code",
   "execution_count": 7,
   "metadata": {},
   "outputs": [
    {
     "data": {
      "text/html": [
       "<div>\n",
       "<style scoped>\n",
       "    .dataframe tbody tr th:only-of-type {\n",
       "        vertical-align: middle;\n",
       "    }\n",
       "\n",
       "    .dataframe tbody tr th {\n",
       "        vertical-align: top;\n",
       "    }\n",
       "\n",
       "    .dataframe thead th {\n",
       "        text-align: right;\n",
       "    }\n",
       "</style>\n",
       "<table border=\"1\" class=\"dataframe\">\n",
       "  <thead>\n",
       "    <tr style=\"text-align: right;\">\n",
       "      <th></th>\n",
       "      <th>suid</th>\n",
       "      <th>last_update</th>\n",
       "      <th>language</th>\n",
       "      <th>analyst</th>\n",
       "      <th>date</th>\n",
       "      <th>headline</th>\n",
       "      <th>body</th>\n",
       "    </tr>\n",
       "  </thead>\n",
       "  <tbody>\n",
       "    <tr>\n",
       "      <th>0</th>\n",
       "      <td>MFYYSI6JTSE8</td>\n",
       "      <td>2013-01-01 23:05:06.657</td>\n",
       "      <td>CHINESE_TRAD</td>\n",
       "      <td>False</td>\n",
       "      <td>2013-01-01</td>\n",
       "      <td>更新:亞洲盤前簡報:新加坡GDP、印尼貿易數據</td>\n",
       "      <td>\\n記者 Steven McPherson、Margo Towie\\n1月2日【彭博】-- ...</td>\n",
       "    </tr>\n",
       "    <tr>\n",
       "      <th>1</th>\n",
       "      <td>MFXA8F6K50Y2</td>\n",
       "      <td>2013-01-01 01:17:03.388</td>\n",
       "      <td>CHINESE_SIMP</td>\n",
       "      <td>False</td>\n",
       "      <td>2013-01-01</td>\n",
       "      <td>*张立群:中国经济正在向7%-8%之间的平稳增长区间过渡</td>\n",
       "      <td>--KELLY LI\\n\\n-0- Jan/01/2013 01:17 GMT\\n</td>\n",
       "    </tr>\n",
       "    <tr>\n",
       "      <th>2</th>\n",
       "      <td>MFZ0JN0UQVI9</td>\n",
       "      <td>2013-01-01 23:42:59.638</td>\n",
       "      <td>CHINESE_SIMP</td>\n",
       "      <td>False</td>\n",
       "      <td>2013-01-01</td>\n",
       "      <td>中国11月宏观经济景气指数 (表)</td>\n",
       "      <td>\\n记者 Bloomberg News\\n     1月2日【彭博】-- 以下是由中国经济景...</td>\n",
       "    </tr>\n",
       "    <tr>\n",
       "      <th>3</th>\n",
       "      <td>MFZ0EX1A1I4H</td>\n",
       "      <td>2013-01-01 23:40:09.368</td>\n",
       "      <td>CHINESE_TRAD</td>\n",
       "      <td>False</td>\n",
       "      <td>2013-01-01</td>\n",
       "      <td>美國眾議院共和黨人反對參議院通過的預算議案 擬增加減支內容</td>\n",
       "      <td>\\n(更多新聞請點閱{TOP CT &lt;GO&gt;} {NH HBN &lt;GO&gt;})\\n\\n記者:R...</td>\n",
       "    </tr>\n",
       "    <tr>\n",
       "      <th>4</th>\n",
       "      <td>MFX9HL3PWT1E</td>\n",
       "      <td>2013-01-01 01:00:57.561</td>\n",
       "      <td>CHINESE_TRAD</td>\n",
       "      <td>False</td>\n",
       "      <td>2013-01-01</td>\n",
       "      <td>*中國12月份製造業採購經理指數(PMI)報50.6</td>\n",
       "      <td>\\n-0- Jan/01/2013 01:00 GMT\\n</td>\n",
       "    </tr>\n",
       "  </tbody>\n",
       "</table>\n",
       "</div>"
      ],
      "text/plain": [
       "           suid             last_update      language  analyst        date  \\\n",
       "0  MFYYSI6JTSE8 2013-01-01 23:05:06.657  CHINESE_TRAD    False  2013-01-01   \n",
       "1  MFXA8F6K50Y2 2013-01-01 01:17:03.388  CHINESE_SIMP    False  2013-01-01   \n",
       "2  MFZ0JN0UQVI9 2013-01-01 23:42:59.638  CHINESE_SIMP    False  2013-01-01   \n",
       "3  MFZ0EX1A1I4H 2013-01-01 23:40:09.368  CHINESE_TRAD    False  2013-01-01   \n",
       "4  MFX9HL3PWT1E 2013-01-01 01:00:57.561  CHINESE_TRAD    False  2013-01-01   \n",
       "\n",
       "                        headline  \\\n",
       "0        更新:亞洲盤前簡報:新加坡GDP、印尼貿易數據   \n",
       "1   *张立群:中国经济正在向7%-8%之间的平稳增长区间过渡   \n",
       "2              中国11月宏观经济景气指数 (表)   \n",
       "3  美國眾議院共和黨人反對參議院通過的預算議案 擬增加減支內容   \n",
       "4     *中國12月份製造業採購經理指數(PMI)報50.6   \n",
       "\n",
       "                                                body  \n",
       "0  \\n記者 Steven McPherson、Margo Towie\\n1月2日【彭博】-- ...  \n",
       "1          --KELLY LI\\n\\n-0- Jan/01/2013 01:17 GMT\\n  \n",
       "2  \\n记者 Bloomberg News\\n     1月2日【彭博】-- 以下是由中国经济景...  \n",
       "3  \\n(更多新聞請點閱{TOP CT <GO>} {NH HBN <GO>})\\n\\n記者:R...  \n",
       "4                      \\n-0- Jan/01/2013 01:00 GMT\\n  "
      ]
     },
     "execution_count": 7,
     "metadata": {},
     "output_type": "execute_result"
    }
   ],
   "source": [
    "df_b.head()"
   ]
  },
  {
   "cell_type": "markdown",
   "metadata": {},
   "source": [
    "## Archive"
   ]
  },
  {
   "cell_type": "code",
   "execution_count": 85,
   "metadata": {},
   "outputs": [],
   "source": [
    "def quarterly_counts(df_test):\n",
    "    df_test['date'] = pd.to_datetime(df_test['date'])\n",
    "    # add column for quarter\n",
    "    df_test['day'] = df_test['date'].dt.quarter\n",
    "\n",
    "    # add column for year\n",
    "    df_test['year'] = df_test['date'].dt.year\n",
    "\n",
    "    # group by quarter and year, then count rows\n",
    "    quarterly_counts = df_test.groupby(['year', 'quarter']).size().to_frame()\n",
    "\n",
    "    def rename_column(df):\n",
    "    # get the current column names\n",
    "        columns = df.columns\n",
    "    # create a dictionary with the new column names\n",
    "        new_names = dict(zip(columns, columns))\n",
    "        new_names[columns[-1]] = 'number of news'\n",
    "    # rename the columns using the dictionary\n",
    "        df.rename(columns=new_names, inplace=True)\n",
    "        return df\n",
    "\n",
    "    rename_column(quarterly_counts)\n",
    "    return quarterly_counts"
   ]
  },
  {
   "cell_type": "code",
   "execution_count": 147,
   "metadata": {},
   "outputs": [
    {
     "data": {
      "image/png": "[encoded data removed]",
      "text/plain": [
       "<Figure size 720x576 with 1 Axes>"
      ]
     },
     "metadata": {
      "needs_background": "light"
     },
     "output_type": "display_data"
    }
   ],
   "source": [
    "ax=df_q.plot(title='Bloomberg news: number of unique articles written in Chinese by quateres of each year',kind='bar')\n",
    "ax.set_xticklabels(df_q.index.tolist(), rotation=90)\n",
    "ax.figure.set_size_inches(10,8)\n",
    "plt.show()"
   ]
  },
  {
   "cell_type": "markdown",
   "metadata": {},
   "source": [
    "## B. Refinitiv news"
   ]
  },
  {
   "cell_type": "markdown",
   "metadata": {},
   "source": [
    "Takes about 5 mins to load. Contains only 166k articles."
   ]
  },
  {
   "cell_type": "code",
   "execution_count": 8,
   "metadata": {},
   "outputs": [
    {
     "name": "stdout",
     "output_type": "stream",
     "text": [
      "CPU times: user 3min 39s, sys: 1min 41s, total: 5min 20s\n",
      "Wall time: 4min 1s\n"
     ]
    }
   ],
   "source": [
    "%%time\n",
    "dastart = pd.to_datetime(\"2005/01/01\")\n",
    "\n",
    "df_r = dap.read_parquet(\n",
    "    'REFINITIV_NEWS_FEATURES_CLEAN_NEWS',\n",
    "    filters=[[\n",
    "        ('date', '>=', dastart),\n",
    "        ('language', '=', 'ZH'),\n",
    "        ('complex_news', '=', False),\n",
    "        ('last_version', '=', True),\n",
    "        ('trading_alerts', '=', False)\n",
    "    ]],\n",
    "    columns = [\n",
    "        'id', 'date', 'timestamp', 'headline', 'body'\n",
    "    ]\n",
    ")"
   ]
  },
  {
   "cell_type": "code",
   "execution_count": 10,
   "metadata": {},
   "outputs": [
    {
     "name": "stdout",
     "output_type": "stream",
     "text": [
      "(167140, 5)\n"
     ]
    }
   ],
   "source": [
    "print(df_r.shape)"
   ]
  },
  {
   "cell_type": "code",
   "execution_count": 11,
   "metadata": {},
   "outputs": [
    {
     "data": {
      "text/html": [
       "<div>\n",
       "<style scoped>\n",
       "    .dataframe tbody tr th:only-of-type {\n",
       "        vertical-align: middle;\n",
       "    }\n",
       "\n",
       "    .dataframe tbody tr th {\n",
       "        vertical-align: top;\n",
       "    }\n",
       "\n",
       "    .dataframe thead th {\n",
       "        text-align: right;\n",
       "    }\n",
       "</style>\n",
       "<table border=\"1\" class=\"dataframe\">\n",
       "  <thead>\n",
       "    <tr style=\"text-align: right;\">\n",
       "      <th></th>\n",
       "      <th>id</th>\n",
       "      <th>date</th>\n",
       "      <th>timestamp</th>\n",
       "      <th>headline</th>\n",
       "      <th>body</th>\n",
       "    </tr>\n",
       "  </thead>\n",
       "  <tbody>\n",
       "    <tr>\n",
       "      <th>0</th>\n",
       "      <td>20050104-050149000-nCT0964075-1-1</td>\n",
       "      <td>2005-01-04</td>\n",
       "      <td>2005-01-04 05:01:49.194000+00:00</td>\n",
       "      <td>韓國稱預期2005年貿易順差為280億美元,2004年為298億美元</td>\n",
       "      <td></td>\n",
       "    </tr>\n",
       "    <tr>\n",
       "      <th>1</th>\n",
       "      <td>20050104-050548000-nCT0964076-2-1</td>\n",
       "      <td>2005-01-04</td>\n",
       "      <td>2005-01-04 05:05:47.912000+00:00</td>\n",
       "      <td>韓國預期2005年外國直接投資計畫為110億美元,2004年為128億</td>\n",
       "      <td></td>\n",
       "    </tr>\n",
       "    <tr>\n",
       "      <th>2</th>\n",
       "      <td>20050104-052728000-nCT0964073-5-1</td>\n",
       "      <td>2005-01-04</td>\n",
       "      <td>2005-01-04 05:27:28.319000+00:00</td>\n",
       "      <td>韓圜兌美元升值為韓國出口最大問題--韓國產業資源部長官</td>\n",
       "      <td></td>\n",
       "    </tr>\n",
       "    <tr>\n",
       "      <th>3</th>\n",
       "      <td>20050104-060945000-nCT0964049-1-1</td>\n",
       "      <td>2005-01-04</td>\n",
       "      <td>2005-01-04 06:09:44.605000+00:00</td>\n",
       "      <td>台灣央行稱兩年期公債足額發行400億台幣</td>\n",
       "      <td></td>\n",
       "    </tr>\n",
       "    <tr>\n",
       "      <th>4</th>\n",
       "      <td>20050104-155957000-nCN5566647-2-1</td>\n",
       "      <td>2005-01-04</td>\n",
       "      <td>2005-01-04 15:59:57.643000+00:00</td>\n",
       "      <td>倫敦金屬交易所(LME)期銅跌至每噸2,890美元,因基金拋售</td>\n",
       "      <td></td>\n",
       "    </tr>\n",
       "  </tbody>\n",
       "</table>\n",
       "</div>"
      ],
      "text/plain": [
       "                                  id        date  \\\n",
       "0  20050104-050149000-nCT0964075-1-1  2005-01-04   \n",
       "1  20050104-050548000-nCT0964076-2-1  2005-01-04   \n",
       "2  20050104-052728000-nCT0964073-5-1  2005-01-04   \n",
       "3  20050104-060945000-nCT0964049-1-1  2005-01-04   \n",
       "4  20050104-155957000-nCN5566647-2-1  2005-01-04   \n",
       "\n",
       "                         timestamp                               headline body  \n",
       "0 2005-01-04 05:01:49.194000+00:00   韓國稱預期2005年貿易順差為280億美元,2004年為298億美元         \n",
       "1 2005-01-04 05:05:47.912000+00:00  韓國預期2005年外國直接投資計畫為110億美元,2004年為128億         \n",
       "2 2005-01-04 05:27:28.319000+00:00          韓圜兌美元升值為韓國出口最大問題--韓國產業資源部長官         \n",
       "3 2005-01-04 06:09:44.605000+00:00                 台灣央行稱兩年期公債足額發行400億台幣         \n",
       "4 2005-01-04 15:59:57.643000+00:00      倫敦金屬交易所(LME)期銅跌至每噸2,890美元,因基金拋售         "
      ]
     },
     "execution_count": 11,
     "metadata": {},
     "output_type": "execute_result"
    }
   ],
   "source": [
    "df_r.head()"
   ]
  },
  {
   "cell_type": "code",
   "execution_count": 12,
   "metadata": {},
   "outputs": [
    {
     "data": {
      "text/plain": [
       "<AxesSubplot:title={'center':'Refinitiv news: number of unique articles written in Chinese'}>"
      ]
     },
     "execution_count": 12,
     "metadata": {},
     "output_type": "execute_result"
    },
    {
     "data": {
      "image/png": "[encoded data removed]",
      "text/plain": [
       "<Figure size 432x288 with 1 Axes>"
      ]
     },
     "metadata": {
      "needs_background": "light"
     },
     "output_type": "display_data"
    }
   ],
   "source": [
    "pd.to_datetime(df_r.date).dt.year.value_counts().sort_index().plot(title='Refinitiv news: number of unique articles written in Chinese', marker='o')"
   ]
  },
  {
   "cell_type": "markdown",
   "metadata": {},
   "source": [
    "## C. Analyst reports"
   ]
  },
  {
   "cell_type": "code",
   "execution_count": 13,
   "metadata": {},
   "outputs": [
    {
     "name": "stdout",
     "output_type": "stream",
     "text": [
      "CPU times: user 1min 48s, sys: 1min 48s, total: 3min 36s\n",
      "Wall time: 3min 23s\n"
     ]
    }
   ],
   "source": [
    "%%time\n",
    "LANGUAGES = {\n",
    "'Chinese' :  {'code':'zho', 'brokers': ['JPMorgan']},\n",
    "'Japanese' : {'code':'jpn', 'brokers': ['JPMorgan', 'MorganStanley']},\n",
    "}\n",
    "asian_reports = {\n",
    "language : {\n",
    "    broker: pd.read_parquet(f'/mnt/research-live/it-data/data-analytics/analyst_reports/{broker}/flat_files/text.parquet')\\\n",
    "            .loc[lambda x:x.language == LANGUAGES[language]['code']].drop(columns=['filename', 'language', 'pages']).\\\n",
    "            rename(columns={'research_id':'id', 'dt':'date', 'publication_ts_utc':'timestamp'})\n",
    "    for broker in LANGUAGES[language]['brokers']\n",
    "    }\n",
    "for language in LANGUAGES}"
   ]
  },
  {
   "cell_type": "code",
   "execution_count": 7,
   "metadata": {},
   "outputs": [],
   "source": [
    "df_ar = asian_reports['Chinese']['JPMorgan']"
   ]
  },
  {
   "cell_type": "code",
   "execution_count": 8,
   "metadata": {},
   "outputs": [
    {
     "name": "stdout",
     "output_type": "stream",
     "text": [
      "(317, 8)\n"
     ]
    }
   ],
   "source": [
    "print(df_ar.shape)"
   ]
  },
  {
   "cell_type": "code",
   "execution_count": 9,
   "metadata": {},
   "outputs": [
    {
     "data": {
      "text/html": [
       "<div>\n",
       "<style scoped>\n",
       "    .dataframe tbody tr th:only-of-type {\n",
       "        vertical-align: middle;\n",
       "    }\n",
       "\n",
       "    .dataframe tbody tr th {\n",
       "        vertical-align: top;\n",
       "    }\n",
       "\n",
       "    .dataframe thead th {\n",
       "        text-align: right;\n",
       "    }\n",
       "</style>\n",
       "<table border=\"1\" class=\"dataframe\">\n",
       "  <thead>\n",
       "    <tr style=\"text-align: right;\">\n",
       "      <th></th>\n",
       "      <th>id</th>\n",
       "      <th>date</th>\n",
       "      <th>timestamp</th>\n",
       "      <th>title</th>\n",
       "      <th>abstract</th>\n",
       "      <th>synopsis</th>\n",
       "      <th>summary</th>\n",
       "      <th>doc_full_txt</th>\n",
       "    </tr>\n",
       "  </thead>\n",
       "  <tbody>\n",
       "    <tr>\n",
       "      <th>535360</th>\n",
       "      <td>GPS-3284409-0</td>\n",
       "      <td>2020-03-23</td>\n",
       "      <td>2020-03-23 15:43:55+00:00</td>\n",
       "      <td>中国重汽</td>\n",
       "      <td>我们对中国重汽发起覆盖，给予减持评级，截至2020年12月的目标价11港元，反映我们有关重卡...</td>\n",
       "      <td>我们对中国重汽发起覆盖，给予减持评级，截至2020年12月的目标价11港元，反映我们有关重卡...</td>\n",
       "      <td>我们对中国重汽发起覆盖，给予减持评级，截至2020年12月的目标价11港元，反映我们有关重卡...</td>\n",
       "      <td>\\n\\n 中国 证券研究 2020 年 3 月 23 日  ▼ 减持 中国重汽 之前: 中性...</td>\n",
       "    </tr>\n",
       "    <tr>\n",
       "      <th>535372</th>\n",
       "      <td>GPS-3284687-0</td>\n",
       "      <td>2020-03-23</td>\n",
       "      <td>2020-03-23 15:36:19+00:00</td>\n",
       "      <td>广汇宝信</td>\n",
       "      <td>我们对广汇宝信发起覆盖，给予中性评级，截至2020年12月的目标价为1.1港元。宝信拥有成熟...</td>\n",
       "      <td>我们对广汇宝信发起覆盖，给予中性评级，截至2020年12月的目标价为1.1港元。宝信拥有成熟...</td>\n",
       "      <td>我们对广汇宝信发起覆盖，给予中性评级，截至2020年12月的目标价为1.1港元。宝信拥有成熟...</td>\n",
       "      <td>\\n\\n 中国 证券研究 2020 年 3 月 23 日 广汇宝信 中性 1293.HK, ...</td>\n",
       "    </tr>\n",
       "    <tr>\n",
       "      <th>535377</th>\n",
       "      <td>GPS-3289186-0</td>\n",
       "      <td>2020-03-23</td>\n",
       "      <td>2020-03-23 15:43:44+00:00</td>\n",
       "      <td>长安汽车 - A</td>\n",
       "      <td>我们发起对长安汽车－Ａ的覆盖，给予减持评级，截至2020年12月的目标价为9元。长安是福特在...</td>\n",
       "      <td>我们发起对长安汽车－Ａ的覆盖，给予减持评级，截至2020年12月的目标价为9元。长安是福特在...</td>\n",
       "      <td>我们发起对长安汽车－Ａ的覆盖，给予减持评级，截至2020年12月的目标价为9元。长安是福特在...</td>\n",
       "      <td>\\n\\n 中国 证券研究 2020 年 3 月 23 日 长安汽车 - A 减持 00062...</td>\n",
       "    </tr>\n",
       "    <tr>\n",
       "      <th>535385</th>\n",
       "      <td>GPS-3286452-0</td>\n",
       "      <td>2020-03-23</td>\n",
       "      <td>2020-03-23 15:37:21+00:00</td>\n",
       "      <td>东风汽车</td>\n",
       "      <td>我们发起对东风汽车的覆盖，给予中性评级，截至2020年12月的目标价为5.5港元。乐观来说，...</td>\n",
       "      <td>我们发起对东风汽车的覆盖，给予中性评级，截至2020年12月的目标价为5.5港元。乐观来说，...</td>\n",
       "      <td>我们发起对东风汽车的覆盖，给予中性评级，截至2020年12月的目标价为5.5港元。乐观来说，...</td>\n",
       "      <td>\\n\\n 中国 证券研究 2020 年 3 月 23 日 东风汽车 中性 0489.HK, ...</td>\n",
       "    </tr>\n",
       "    <tr>\n",
       "      <th>535433</th>\n",
       "      <td>GPS-3287529-0</td>\n",
       "      <td>2020-03-23</td>\n",
       "      <td>2020-03-23 15:39:13+00:00</td>\n",
       "      <td>上汽集团 - A</td>\n",
       "      <td>我们发起对上汽集团-A的覆盖，给予中性评级，截至2020年12月的目标价为22元。上汽目前是...</td>\n",
       "      <td>我们发起对上汽集团-A的覆盖，给予中性评级，截至2020年12月的目标价为22元。上汽目前是...</td>\n",
       "      <td>我们发起对上汽集团-A的覆盖，给予中性评级，截至2020年12月的目标价为22元。上汽目前是...</td>\n",
       "      <td>\\n\\n 中国 证券研究 2020 年 3 月 23 日 上汽集团 - A 中性 60010...</td>\n",
       "    </tr>\n",
       "  </tbody>\n",
       "</table>\n",
       "</div>"
      ],
      "text/plain": [
       "                   id       date                 timestamp     title  \\\n",
       "535360  GPS-3284409-0 2020-03-23 2020-03-23 15:43:55+00:00      中国重汽   \n",
       "535372  GPS-3284687-0 2020-03-23 2020-03-23 15:36:19+00:00      广汇宝信   \n",
       "535377  GPS-3289186-0 2020-03-23 2020-03-23 15:43:44+00:00  长安汽车 - A   \n",
       "535385  GPS-3286452-0 2020-03-23 2020-03-23 15:37:21+00:00      东风汽车   \n",
       "535433  GPS-3287529-0 2020-03-23 2020-03-23 15:39:13+00:00  上汽集团 - A   \n",
       "\n",
       "                                                 abstract  \\\n",
       "535360  我们对中国重汽发起覆盖，给予减持评级，截至2020年12月的目标价11港元，反映我们有关重卡...   \n",
       "535372  我们对广汇宝信发起覆盖，给予中性评级，截至2020年12月的目标价为1.1港元。宝信拥有成熟...   \n",
       "535377  我们发起对长安汽车－Ａ的覆盖，给予减持评级，截至2020年12月的目标价为9元。长安是福特在...   \n",
       "535385  我们发起对东风汽车的覆盖，给予中性评级，截至2020年12月的目标价为5.5港元。乐观来说，...   \n",
       "535433  我们发起对上汽集团-A的覆盖，给予中性评级，截至2020年12月的目标价为22元。上汽目前是...   \n",
       "\n",
       "                                                 synopsis  \\\n",
       "535360  我们对中国重汽发起覆盖，给予减持评级，截至2020年12月的目标价11港元，反映我们有关重卡...   \n",
       "535372  我们对广汇宝信发起覆盖，给予中性评级，截至2020年12月的目标价为1.1港元。宝信拥有成熟...   \n",
       "535377  我们发起对长安汽车－Ａ的覆盖，给予减持评级，截至2020年12月的目标价为9元。长安是福特在...   \n",
       "535385  我们发起对东风汽车的覆盖，给予中性评级，截至2020年12月的目标价为5.5港元。乐观来说，...   \n",
       "535433  我们发起对上汽集团-A的覆盖，给予中性评级，截至2020年12月的目标价为22元。上汽目前是...   \n",
       "\n",
       "                                                  summary  \\\n",
       "535360  我们对中国重汽发起覆盖，给予减持评级，截至2020年12月的目标价11港元，反映我们有关重卡...   \n",
       "535372  我们对广汇宝信发起覆盖，给予中性评级，截至2020年12月的目标价为1.1港元。宝信拥有成熟...   \n",
       "535377  我们发起对长安汽车－Ａ的覆盖，给予减持评级，截至2020年12月的目标价为9元。长安是福特在...   \n",
       "535385  我们发起对东风汽车的覆盖，给予中性评级，截至2020年12月的目标价为5.5港元。乐观来说，...   \n",
       "535433  我们发起对上汽集团-A的覆盖，给予中性评级，截至2020年12月的目标价为22元。上汽目前是...   \n",
       "\n",
       "                                             doc_full_txt  \n",
       "535360  \\n\\n 中国 证券研究 2020 年 3 月 23 日  ▼ 减持 中国重汽 之前: 中性...  \n",
       "535372  \\n\\n 中国 证券研究 2020 年 3 月 23 日 广汇宝信 中性 1293.HK, ...  \n",
       "535377  \\n\\n 中国 证券研究 2020 年 3 月 23 日 长安汽车 - A 减持 00062...  \n",
       "535385  \\n\\n 中国 证券研究 2020 年 3 月 23 日 东风汽车 中性 0489.HK, ...  \n",
       "535433  \\n\\n 中国 证券研究 2020 年 3 月 23 日 上汽集团 - A 中性 60010...  "
      ]
     },
     "execution_count": 9,
     "metadata": {},
     "output_type": "execute_result"
    }
   ],
   "source": [
    "df_ar.head()"
   ]
  },
  {
   "cell_type": "code",
   "execution_count": 10,
   "metadata": {},
   "outputs": [
    {
     "data": {
      "text/plain": [
       "<AxesSubplot:title={'center':'JP Morgan analyst reports: number of unique articles written in Chinese'}>"
      ]
     },
     "execution_count": 10,
     "metadata": {},
     "output_type": "execute_result"
    },
    {
     "data": {
      "image/png": "[encoded data removed]",
      "text/plain": [
       "<Figure size 432x288 with 1 Axes>"
      ]
     },
     "metadata": {
      "needs_background": "light"
     },
     "output_type": "display_data"
    }
   ],
   "source": [
    "pd.to_datetime(df_ar.date).dt.year.value_counts().sort_index().plot(title='JP Morgan analyst reports: number of unique articles written in Chinese', marker='o')"
   ]
  },
  {
   "cell_type": "code",
   "execution_count": null,
   "metadata": {},
   "outputs": [],
   "source": []
  }
 ],
 "metadata": {
  "hide_input": false,
  "kernelspec": {
   "display_name": "cfm_platform_current",
   "language": "python",
   "name": "cfm_platform_current"
  },
  "language_info": {
   "codemirror_mode": {
    "name": "ipython",
    "version": 3
   },
   "file_extension": ".py",
   "mimetype": "text/x-python",
   "name": "python",
   "nbconvert_exporter": "python",
   "pygments_lexer": "ipython3",
   "version": "3.8.11"
  },
  "toc": {
   "base_numbering": 1,
   "nav_menu": {},
   "number_sections": true,
   "sideBar": true,
   "skip_h1_title": false,
   "title_cell": "Table of Contents",
   "title_sidebar": "Contents",
   "toc_cell": false,
   "toc_position": {},
   "toc_section_display": true,
   "toc_window_display": false
  }
 },
 "nbformat": 4,
 "nbformat_minor": 4
}
